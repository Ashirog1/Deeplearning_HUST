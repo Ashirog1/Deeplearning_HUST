{
 "cells": [
  {
   "cell_type": "code",
   "execution_count": 1,
   "id": "4de1bd9f",
   "metadata": {
    "_cell_guid": "b1076dfc-b9ad-4769-8c92-a6c4dae69d19",
    "_uuid": "8f2839f25d086af736a60e9eeb907d3b93b6e0e5",
    "execution": {
     "iopub.execute_input": "2023-12-13T13:51:24.042448Z",
     "iopub.status.busy": "2023-12-13T13:51:24.042033Z",
     "iopub.status.idle": "2023-12-13T13:51:36.845380Z",
     "shell.execute_reply": "2023-12-13T13:51:36.844297Z"
    },
    "papermill": {
     "duration": 12.818178,
     "end_time": "2023-12-13T13:51:36.847621",
     "exception": false,
     "start_time": "2023-12-13T13:51:24.029443",
     "status": "completed"
    },
    "tags": []
   },
   "outputs": [
    {
     "name": "stdout",
     "output_type": "stream",
     "text": [
      "Collecting torchgeometry\r\n",
      "  Downloading torchgeometry-0.1.2-py2.py3-none-any.whl (42 kB)\r\n",
      "\u001b[2K     \u001b[90m━━━━━━━━━━━━━━━━━━━━━━━━━━━━━━━━━━━━━━━━\u001b[0m \u001b[32m42.7/42.7 kB\u001b[0m \u001b[31m3.0 MB/s\u001b[0m eta \u001b[36m0:00:00\u001b[0m\r\n",
      "\u001b[?25hRequirement already satisfied: torch>=1.0.0 in /opt/conda/lib/python3.10/site-packages (from torchgeometry) (2.0.0)\r\n",
      "Requirement already satisfied: filelock in /opt/conda/lib/python3.10/site-packages (from torch>=1.0.0->torchgeometry) (3.12.2)\r\n",
      "Requirement already satisfied: typing-extensions in /opt/conda/lib/python3.10/site-packages (from torch>=1.0.0->torchgeometry) (4.5.0)\r\n",
      "Requirement already satisfied: sympy in /opt/conda/lib/python3.10/site-packages (from torch>=1.0.0->torchgeometry) (1.12)\r\n",
      "Requirement already satisfied: networkx in /opt/conda/lib/python3.10/site-packages (from torch>=1.0.0->torchgeometry) (3.1)\r\n",
      "Requirement already satisfied: jinja2 in /opt/conda/lib/python3.10/site-packages (from torch>=1.0.0->torchgeometry) (3.1.2)\r\n",
      "Requirement already satisfied: MarkupSafe>=2.0 in /opt/conda/lib/python3.10/site-packages (from jinja2->torch>=1.0.0->torchgeometry) (2.1.3)\r\n",
      "Requirement already satisfied: mpmath>=0.19 in /opt/conda/lib/python3.10/site-packages (from sympy->torch>=1.0.0->torchgeometry) (1.3.0)\r\n",
      "Installing collected packages: torchgeometry\r\n",
      "Successfully installed torchgeometry-0.1.2\r\n"
     ]
    }
   ],
   "source": [
    "!pip install torchgeometry\n"
   ]
  },
  {
   "cell_type": "code",
   "execution_count": 2,
   "id": "12e7845e",
   "metadata": {
    "execution": {
     "iopub.execute_input": "2023-12-13T13:51:36.872188Z",
     "iopub.status.busy": "2023-12-13T13:51:36.871447Z",
     "iopub.status.idle": "2023-12-13T13:51:48.157529Z",
     "shell.execute_reply": "2023-12-13T13:51:48.156599Z"
    },
    "papermill": {
     "duration": 11.300732,
     "end_time": "2023-12-13T13:51:48.159995",
     "exception": false,
     "start_time": "2023-12-13T13:51:36.859263",
     "status": "completed"
    },
    "tags": []
   },
   "outputs": [
    {
     "name": "stdout",
     "output_type": "stream",
     "text": [
      "Name: torch\r\n",
      "Version: 2.0.0\r\n",
      "Summary: Tensors and Dynamic neural networks in Python with strong GPU acceleration\r\n",
      "Home-page: https://pytorch.org/\r\n",
      "Author: PyTorch Team\r\n",
      "Author-email: packages@pytorch.org\r\n",
      "License: BSD-3\r\n",
      "Location: /opt/conda/lib/python3.10/site-packages\r\n",
      "Requires: filelock, jinja2, networkx, sympy, typing-extensions\r\n",
      "Required-by: accelerate, catalyst, easyocr, fastai, kornia, pytorch-ignite, pytorch-lightning, stable-baselines3, timm, torchaudio, torchdata, torchgeometry, torchmetrics, torchtext, torchvision\r\n"
     ]
    }
   ],
   "source": [
    "!pip show torch\n"
   ]
  },
  {
   "cell_type": "code",
   "execution_count": 3,
   "id": "995d4ef3",
   "metadata": {
    "execution": {
     "iopub.execute_input": "2023-12-13T13:51:48.184086Z",
     "iopub.status.busy": "2023-12-13T13:51:48.183778Z",
     "iopub.status.idle": "2023-12-13T13:51:58.278846Z",
     "shell.execute_reply": "2023-12-13T13:51:58.278045Z"
    },
    "papermill": {
     "duration": 10.109626,
     "end_time": "2023-12-13T13:51:58.281115",
     "exception": false,
     "start_time": "2023-12-13T13:51:48.171489",
     "status": "completed"
    },
    "tags": []
   },
   "outputs": [
    {
     "name": "stderr",
     "output_type": "stream",
     "text": [
      "/opt/conda/lib/python3.10/site-packages/scipy/__init__.py:146: UserWarning: A NumPy version >=1.16.5 and <1.23.0 is required for this version of SciPy (detected version 1.24.3\n",
      "  warnings.warn(f\"A NumPy version >={np_minversion} and <{np_maxversion}\"\n"
     ]
    }
   ],
   "source": [
    "\n",
    "# from torchgeometry.losses import one_hot\n",
    "import os\n",
    "import os.path as osp\n",
    "import pandas as pd\n",
    "import numpy as np\n",
    "from PIL import Image\n",
    "import cv2\n",
    "import time\n",
    "import imageio\n",
    "import matplotlib.pyplot as plt\n",
    "import time\n",
    "import torch\n",
    "import torch.nn as nn\n",
    "import torch.nn.functional as F\n",
    "import torch.optim as optim\n",
    "from torch.optim import lr_scheduler\n",
    "from torch import Tensor\n",
    "from torch.utils.data import Dataset, DataLoader, random_split\n",
    "from torchvision.transforms import Resize, PILToTensor, ToPILImage, Compose, InterpolationMode\n",
    "from collections import OrderedDict\n",
    "import wandb\n",
    "import albumentations as A\n",
    "from albumentations.pytorch.transforms import ToTensorV2\n",
    "import glob\n",
    "import multiprocessing.pool as mpp\n",
    "import multiprocessing as mp\n",
    "import argparse\n",
    "import torch\n",
    "import albumentations as albu\n",
    "from torchvision.transforms import (Pad, ColorJitter, Resize, FiveCrop, RandomResizedCrop,\n",
    "                                    RandomHorizontalFlip, RandomRotation, RandomVerticalFlip)\n",
    "import random\n",
    "import math\n",
    "import numbers\n",
    "from PIL import Image, ImageOps, ImageEnhance\n",
    "import numpy as np\n",
    "import random\n",
    "from scipy.ndimage.morphology import generate_binary_structure, binary_erosion\n",
    "from scipy.ndimage import maximum_filter\n",
    "from tqdm import tqdm\n",
    "import pytorch_lightning as pl\n",
    "from pytorch_lightning.callbacks import ModelCheckpoint\n",
    "import os\n",
    "import torch\n",
    "from torch import nn\n",
    "import cv2\n",
    "import numpy as np\n",
    "import argparse\n",
    "from pathlib import Path\n",
    "\n",
    "from pytorch_lightning.loggers import CSVLogger\n",
    "import random"
   ]
  },
  {
   "cell_type": "code",
   "execution_count": 4,
   "id": "428fd459",
   "metadata": {
    "execution": {
     "iopub.execute_input": "2023-12-13T13:51:58.305382Z",
     "iopub.status.busy": "2023-12-13T13:51:58.304915Z",
     "iopub.status.idle": "2023-12-13T13:51:58.320596Z",
     "shell.execute_reply": "2023-12-13T13:51:58.319723Z"
    },
    "papermill": {
     "duration": 0.029632,
     "end_time": "2023-12-13T13:51:58.322448",
     "exception": false,
     "start_time": "2023-12-13T13:51:58.292816",
     "status": "completed"
    },
    "tags": []
   },
   "outputs": [
    {
     "data": {
      "text/plain": [
       "device(type='cuda')"
      ]
     },
     "execution_count": 4,
     "metadata": {},
     "output_type": "execute_result"
    }
   ],
   "source": [
    "device = torch.device(\"cuda\" if torch.cuda.is_available() else \"cpu\")\n",
    "device"
   ]
  },
  {
   "cell_type": "markdown",
   "id": "49ae28bf",
   "metadata": {
    "papermill": {
     "duration": 0.011013,
     "end_time": "2023-12-13T13:51:58.344846",
     "exception": false,
     "start_time": "2023-12-13T13:51:58.333833",
     "status": "completed"
    },
    "tags": []
   },
   "source": [
    "# Parameters"
   ]
  },
  {
   "cell_type": "code",
   "execution_count": 5,
   "id": "e5e9b02d",
   "metadata": {
    "execution": {
     "iopub.execute_input": "2023-12-13T13:51:58.368940Z",
     "iopub.status.busy": "2023-12-13T13:51:58.368542Z",
     "iopub.status.idle": "2023-12-13T13:51:58.374106Z",
     "shell.execute_reply": "2023-12-13T13:51:58.373192Z"
    },
    "papermill": {
     "duration": 0.019894,
     "end_time": "2023-12-13T13:51:58.375956",
     "exception": false,
     "start_time": "2023-12-13T13:51:58.356062",
     "status": "completed"
    },
    "tags": []
   },
   "outputs": [],
   "source": [
    "\n",
    "num_classes = 6\n",
    "\n",
    "# Number of epoch\n",
    "epochs = 100\n",
    "\n",
    "# Hyperparameters for training \n",
    "learning_rate = 8e-04\n",
    "batch_size = 8\n",
    "display_step = 2\n",
    "\n",
    "# Model path\n",
    "checkpoint_path = '/kaggle/working/unet_model.pth'\n",
    "pretrained_path = \"/kaggle/input/model2/unet_model (1).pth\"\n",
    "# Initialize lists to keep track of loss and accuracy\n",
    "loss_epoch_array = []\n",
    "train_accuracy = []\n",
    "test_accuracy = []\n",
    "valid_accuracy = []"
   ]
  },
  {
   "cell_type": "code",
   "execution_count": 6,
   "id": "6d62b239",
   "metadata": {
    "execution": {
     "iopub.execute_input": "2023-12-13T13:51:58.400491Z",
     "iopub.status.busy": "2023-12-13T13:51:58.400216Z",
     "iopub.status.idle": "2023-12-13T13:51:58.619165Z",
     "shell.execute_reply": "2023-12-13T13:51:58.618374Z"
    },
    "papermill": {
     "duration": 0.233215,
     "end_time": "2023-12-13T13:51:58.621231",
     "exception": false,
     "start_time": "2023-12-13T13:51:58.388016",
     "status": "completed"
    },
    "tags": []
   },
   "outputs": [],
   "source": [
    "SEED = 42\n",
    "\n",
    "\n",
    "def seed_everything(seed):\n",
    "    random.seed(seed)\n",
    "    os.environ['PYTHONHASHSEED'] = str(seed)\n",
    "    np.random.seed(seed)\n",
    "    torch.manual_seed(seed)\n",
    "    torch.cuda.manual_seed(seed)\n",
    "    torch.backends.cudnn.deterministic = True\n",
    "    torch.backends.cudnn.benchmark = True\n",
    "seed_everything(42)\n",
    "\n",
    "ImSurf = np.array([255, 255, 255])  # label 0\n",
    "Building = np.array([255, 0, 0]) # label 1\n",
    "LowVeg = np.array([255, 255, 0]) # label 2\n",
    "Tree = np.array([0, 255, 0]) # label 3\n",
    "Car = np.array([0, 255, 255]) # label 4\n",
    "Clutter = np.array([0, 0, 255]) # label 5\n",
    "Boundary = np.array([0, 0, 0]) # label 6\n",
    "num_classes = 6\n",
    "\n",
    "\n",
    "\n",
    "\n",
    "\n",
    "def pv2rgb(mask):\n",
    "    h, w = mask.shape[0], mask.shape[1]\n",
    "    mask_rgb = np.zeros(shape=(h, w, 3), dtype=np.uint8)\n",
    "    mask_convert = mask[np.newaxis, :, :]\n",
    "    mask_rgb[np.all(mask_convert == 3, axis=0)] = [0, 255, 0]\n",
    "    mask_rgb[np.all(mask_convert == 0, axis=0)] = [255, 255, 255]\n",
    "    mask_rgb[np.all(mask_convert == 1, axis=0)] = [255, 0, 0]\n",
    "    mask_rgb[np.all(mask_convert == 2, axis=0)] = [255, 255, 0]\n",
    "    mask_rgb[np.all(mask_convert == 4, axis=0)] = [0, 204, 255]\n",
    "    mask_rgb[np.all(mask_convert == 5, axis=0)] = [0, 0, 255]\n",
    "    return mask_rgb\n",
    "def label2rgb(mask):\n",
    "    h, w = mask.shape[0], mask.shape[1]\n",
    "    mask_rgb = np.zeros(shape=(h, w, 3), dtype=np.uint8)\n",
    "    mask_convert = mask[np.newaxis, :, :]\n",
    "    mask_rgb[np.all(mask_convert == 3, axis=0)] = [0, 255, 0]\n",
    "    mask_rgb[np.all(mask_convert == 0, axis=0)] = [255, 255, 255]\n",
    "    mask_rgb[np.all(mask_convert == 1, axis=0)] = [255, 0, 0]\n",
    "    mask_rgb[np.all(mask_convert == 2, axis=0)] = [255, 255, 0]\n",
    "    mask_rgb[np.all(mask_convert == 4, axis=0)] = [0, 204, 255]\n",
    "    mask_rgb[np.all(mask_convert == 5, axis=0)] = [0, 0, 255]\n",
    "    return mask_rgb\n",
    "\n",
    "\n",
    "\n",
    "def car_color_replace(mask):\n",
    "    mask = cv2.cvtColor(np.array(mask.copy()), cv2.COLOR_RGB2BGR)\n",
    "    mask[np.all(mask == [0, 255, 255], axis=-1)] = [0, 204, 255]\n",
    "\n",
    "    return mask\n",
    "\n",
    "\n",
    "def rgb_to_2D_label(_label):\n",
    "    _label = _label.transpose(2, 0, 1)\n",
    "    label_seg = np.zeros(_label.shape[1:], dtype=np.uint8)\n",
    "    label_seg[np.all(_label.transpose([1, 2, 0]) == ImSurf, axis=-1)] = 0\n",
    "    label_seg[np.all(_label.transpose([1, 2, 0]) == Building, axis=-1)] = 1\n",
    "    label_seg[np.all(_label.transpose([1, 2, 0]) == LowVeg, axis=-1)] = 2\n",
    "    label_seg[np.all(_label.transpose([1, 2, 0]) == Tree, axis=-1)] = 3\n",
    "    label_seg[np.all(_label.transpose([1, 2, 0]) == Car, axis=-1)] = 4\n",
    "    label_seg[np.all(_label.transpose([1, 2, 0]) == Clutter, axis=-1)] = 5\n",
    "    label_seg[np.all(_label.transpose([1, 2, 0]) == Boundary, axis=-1)] = 6\n",
    "    return label_seg\n",
    "\n",
    "\n",
    "\n",
    "    "
   ]
  },
  {
   "cell_type": "markdown",
   "id": "a5452185",
   "metadata": {
    "papermill": {
     "duration": 0.011106,
     "end_time": "2023-12-13T13:51:58.644138",
     "exception": false,
     "start_time": "2023-12-13T13:51:58.633032",
     "status": "completed"
    },
    "tags": []
   },
   "source": [
    " # Split Data"
   ]
  },
  {
   "cell_type": "markdown",
   "id": "6046ab51",
   "metadata": {
    "papermill": {
     "duration": 0.011099,
     "end_time": "2023-12-13T13:51:58.666532",
     "exception": false,
     "start_time": "2023-12-13T13:51:58.655433",
     "status": "completed"
    },
    "tags": []
   },
   "source": [
    " # Dataloader"
   ]
  },
  {
   "cell_type": "code",
   "execution_count": 7,
   "id": "52240693",
   "metadata": {
    "execution": {
     "iopub.execute_input": "2023-12-13T13:51:58.690744Z",
     "iopub.status.busy": "2023-12-13T13:51:58.690108Z",
     "iopub.status.idle": "2023-12-13T13:51:58.720294Z",
     "shell.execute_reply": "2023-12-13T13:51:58.719423Z"
    },
    "papermill": {
     "duration": 0.044628,
     "end_time": "2023-12-13T13:51:58.722342",
     "exception": false,
     "start_time": "2023-12-13T13:51:58.677714",
     "status": "completed"
    },
    "tags": []
   },
   "outputs": [],
   "source": [
    "CLASSES = ('ImSurf', 'Building', 'LowVeg', 'Tree', 'Car', 'Clutter')\n",
    "class_label={0:'ImSurf', 1:'Building',2: 'LowVeg', 3:'Tree', 4:'Car',5: 'Clutter'}\n",
    "PALETTE = [[255, 255, 255], [0, 0, 255], [0, 255, 255], [0, 255, 0], [255, 204, 0], [255, 0, 0]]\n",
    "\n",
    "ORIGIN_IMG_SIZE = (256, 256)\n",
    "INPUT_IMG_SIZE = (256, 256)\n",
    "TEST_IMG_SIZE = (256, 256)\n",
    "\n",
    "def get_training_transform():\n",
    "    train_transform = [\n",
    "        # albu.RandomBrightnessContrast(brightness_limit=0.25, contrast_limit=0.25, p=0.15),\n",
    "        # albu.RandomRotate90(p=0.25),\n",
    "        albu.Normalize()\n",
    "    ]\n",
    "    return albu.Compose(train_transform)\n",
    "\n",
    "def get_val_transform():\n",
    "    val_transform = [\n",
    "        albu.Normalize()\n",
    "    ]\n",
    "    return albu.Compose(val_transform)\n",
    "\n",
    "\n",
    "def val_aug(img, mask):\n",
    "    img, mask = np.array(img), np.array(mask)\n",
    "    aug = get_val_transform()(image=img.copy(), mask=mask.copy())\n",
    "    img, mask = aug['image'], aug['mask']\n",
    "    return img, mask\n",
    "\n",
    "\n",
    "class PotsdamDataset(Dataset):\n",
    "    def __init__(self, data_root='/kaggle/input/deep-data-potsdam-vaihingen/Deep_data_segmentation/Split/Potsdam/', mode='val', img_dir='Image', mask_dir='Label/',\n",
    "                 img_suffix='.tif', mask_suffix='.png', transform=val_aug, mosaic_ratio=0.0,\n",
    "                 img_size=ORIGIN_IMG_SIZE):\n",
    "        self.data_root = data_root\n",
    "        self.img_dir = img_dir\n",
    "        self.mask_dir = mask_dir\n",
    "        self.img_suffix = img_suffix\n",
    "        self.mask_suffix = mask_suffix\n",
    "        self.transform = transform\n",
    "        self.mode = mode\n",
    "        self.mosaic_ratio = mosaic_ratio\n",
    "        self.img_size = img_size\n",
    "        self.img_ids = self.get_img_ids(self.data_root, self.img_dir, self.mask_dir)\n",
    "\n",
    "    def __getitem__(self, index):\n",
    "        p_ratio = random.random()\n",
    "        if p_ratio > self.mosaic_ratio or self.mode == 'val' or self.mode == 'test':\n",
    "            img, mask = self.load_img_and_mask(index)\n",
    "            if self.transform:\n",
    "                img, mask = self.transform(img, mask)\n",
    "        else:\n",
    "            img, mask = self.load_mosaic_img_and_mask(index)\n",
    "            if self.transform:\n",
    "                img, mask = self.transform(img, mask)\n",
    "\n",
    "        img = torch.from_numpy(img).permute(2, 0, 1).float()\n",
    "        mask = torch.from_numpy(mask).long()\n",
    "        img_id = self.img_ids[index]\n",
    "        results = dict(img_id=img_id, img=img, gt_semantic_seg=mask)\n",
    "        return results\n",
    "\n",
    "    def __len__(self):\n",
    "        return len(self.img_ids)\n",
    "\n",
    "    def get_img_ids(self, data_root, img_dir, mask_dir):\n",
    "        img_filename_list = os.listdir(osp.join(data_root, img_dir))\n",
    "        mask_filename_list = os.listdir(osp.join(data_root, mask_dir))\n",
    "        assert len(img_filename_list) == len(mask_filename_list)\n",
    "        img_ids = [str(id.split('.')[0]) for id in mask_filename_list]\n",
    "        return img_ids\n",
    "\n",
    "    def load_img_and_mask(self, index):\n",
    "        img_id = self.img_ids[index]\n",
    "        img_name = osp.join(self.data_root, self.img_dir, img_id + self.img_suffix)\n",
    "        mask_name = osp.join(self.data_root, self.mask_dir, img_id + self.mask_suffix)\n",
    "        img = Image.open(img_name).convert('RGB')\n",
    "        mask = Image.open(mask_name).convert('L')\n",
    "        return img, mask\n",
    "\n",
    "    def load_mosaic_img_and_mask(self, index):\n",
    "        indexes = [index] + [random.randint(0, len(self.img_ids) - 1) for _ in range(3)]\n",
    "        img_a, mask_a = self.load_img_and_mask(indexes[0])\n",
    "        img_b, mask_b = self.load_img_and_mask(indexes[1])\n",
    "        img_c, mask_c = self.load_img_and_mask(indexes[2])\n",
    "        img_d, mask_d = self.load_img_and_mask(indexes[3])\n",
    "\n",
    "        img_a, mask_a = np.array(img_a), np.array(mask_a)\n",
    "        img_b, mask_b = np.array(img_b), np.array(mask_b)\n",
    "        img_c, mask_c = np.array(img_c), np.array(mask_c)\n",
    "        img_d, mask_d = np.array(img_d), np.array(mask_d)\n",
    "\n",
    "        w = self.img_size[1]\n",
    "        h = self.img_size[0]\n",
    "\n",
    "        start_x = w // 4\n",
    "        strat_y = h // 4\n",
    "        # The coordinates of the splice center\n",
    "        offset_x = random.randint(start_x, (w - start_x))\n",
    "        offset_y = random.randint(strat_y, (h - strat_y))\n",
    "\n",
    "        crop_size_a = (offset_x, offset_y)\n",
    "        crop_size_b = (w - offset_x, offset_y)\n",
    "        crop_size_c = (offset_x, h - offset_y)\n",
    "        crop_size_d = (w - offset_x, h - offset_y)\n",
    "\n",
    "        random_crop_a = albu.RandomCrop(width=crop_size_a[0], height=crop_size_a[1])\n",
    "        random_crop_b = albu.RandomCrop(width=crop_size_b[0], height=crop_size_b[1])\n",
    "        random_crop_c = albu.RandomCrop(width=crop_size_c[0], height=crop_size_c[1])\n",
    "        random_crop_d = albu.RandomCrop(width=crop_size_d[0], height=crop_size_d[1])\n",
    "\n",
    "        croped_a = random_crop_a(image=img_a.copy(), mask=mask_a.copy())\n",
    "        croped_b = random_crop_b(image=img_b.copy(), mask=mask_b.copy())\n",
    "        croped_c = random_crop_c(image=img_c.copy(), mask=mask_c.copy())\n",
    "        croped_d = random_crop_d(image=img_d.copy(), mask=mask_d.copy())\n",
    "\n",
    "        img_crop_a, mask_crop_a = croped_a['image'], croped_a['mask']\n",
    "        img_crop_b, mask_crop_b = croped_b['image'], croped_b['mask']\n",
    "        img_crop_c, mask_crop_c = croped_c['image'], croped_c['mask']\n",
    "        img_crop_d, mask_crop_d = croped_d['image'], croped_d['mask']\n",
    "\n",
    "        top = np.concatenate((img_crop_a, img_crop_b), axis=1)\n",
    "        bottom = np.concatenate((img_crop_c, img_crop_d), axis=1)\n",
    "        img = np.concatenate((top, bottom), axis=0)\n",
    "\n",
    "        top_mask = np.concatenate((mask_crop_a, mask_crop_b), axis=1)\n",
    "        bottom_mask = np.concatenate((mask_crop_c, mask_crop_d), axis=1)\n",
    "        mask = np.concatenate((top_mask, bottom_mask), axis=0)\n",
    "        mask = np.ascontiguousarray(mask)\n",
    "        img = np.ascontiguousarray(img)\n",
    "\n",
    "        img = Image.fromarray(img)\n",
    "        mask = Image.fromarray(mask)\n",
    "\n",
    "        return img, mask"
   ]
  },
  {
   "cell_type": "code",
   "execution_count": 8,
   "id": "50985cc2",
   "metadata": {
    "execution": {
     "iopub.execute_input": "2023-12-13T13:51:58.746092Z",
     "iopub.status.busy": "2023-12-13T13:51:58.745799Z",
     "iopub.status.idle": "2023-12-13T13:52:00.021075Z",
     "shell.execute_reply": "2023-12-13T13:52:00.020089Z"
    },
    "papermill": {
     "duration": 1.289817,
     "end_time": "2023-12-13T13:52:00.023490",
     "exception": false,
     "start_time": "2023-12-13T13:51:58.733673",
     "status": "completed"
    },
    "tags": []
   },
   "outputs": [],
   "source": [
    "\n",
    "train_dataset = PotsdamDataset(data_root='/kaggle/input/deep-data-potsdam-vaihingen/Deep_data_segmentation/Split/Potsdam/', mode='train',\n",
    "                               mosaic_ratio=0.25, transform=val_aug)\n",
    "\n",
    "train_size = 0.35\n",
    "valid_size = 0.65\n",
    "dumb1 = 0.15\n",
    "dumb2 = 0.85\n",
    "train_length = round(train_size * len(train_dataset))\n",
    "valid_length = round(valid_size * len(train_dataset))\n",
    "train_set, dumb0 = random_split(train_dataset, [train_length, valid_length])\n",
    "val_set, xxx = random_split(dumb0, [dumb1, dumb2])\n",
    "\n",
    "\n",
    "test_dataset = PotsdamDataset(data_root='/kaggle/input/deep-data-potsdam-vaihingen/Deep_data_segmentation/Split/Potsdam/Test',\n",
    "                              transform=val_aug)\n",
    "\n",
    "train_loader = DataLoader(dataset=train_set,\n",
    "                          batch_size=batch_size,\n",
    "                          num_workers=0,\n",
    "                          pin_memory=True,\n",
    "                          shuffle=True,\n",
    "                          drop_last=True)\n",
    "\n",
    "val_loader = DataLoader(dataset=val_set,\n",
    "                        batch_size=batch_size,\n",
    "                        num_workers=0,\n",
    "                        shuffle=False,\n",
    "                        pin_memory=True,\n",
    "                        drop_last=False)\n"
   ]
  },
  {
   "cell_type": "markdown",
   "id": "e83372de",
   "metadata": {
    "papermill": {
     "duration": 0.011034,
     "end_time": "2023-12-13T13:52:00.046147",
     "exception": false,
     "start_time": "2023-12-13T13:52:00.035113",
     "status": "completed"
    },
    "tags": []
   },
   "source": [
    "# Metric"
   ]
  },
  {
   "cell_type": "code",
   "execution_count": 9,
   "id": "81c555d3",
   "metadata": {
    "execution": {
     "iopub.execute_input": "2023-12-13T13:52:00.069740Z",
     "iopub.status.busy": "2023-12-13T13:52:00.069378Z",
     "iopub.status.idle": "2023-12-13T13:52:00.086353Z",
     "shell.execute_reply": "2023-12-13T13:52:00.085594Z"
    },
    "papermill": {
     "duration": 0.030941,
     "end_time": "2023-12-13T13:52:00.088209",
     "exception": false,
     "start_time": "2023-12-13T13:52:00.057268",
     "status": "completed"
    },
    "tags": []
   },
   "outputs": [],
   "source": [
    "class Evaluator(object):\n",
    "    def __init__(self, num_class):\n",
    "        self.num_class = num_class\n",
    "        self.confusion_matrix = np.zeros((self.num_class,) * 2)\n",
    "        self.eps = 1e-8\n",
    "\n",
    "    def get_tp_fp_tn_fn(self):\n",
    "        tp = np.diag(self.confusion_matrix)\n",
    "        fp = self.confusion_matrix.sum(axis=0) - np.diag(self.confusion_matrix)\n",
    "        fn = self.confusion_matrix.sum(axis=1) - np.diag(self.confusion_matrix)\n",
    "        tn = np.diag(self.confusion_matrix).sum() - np.diag(self.confusion_matrix)\n",
    "        return tp, fp, tn, fn\n",
    "\n",
    "    def Precision(self):\n",
    "        tp, fp, tn, fn = self.get_tp_fp_tn_fn()\n",
    "        precision = tp / (tp + fp)\n",
    "        return precision\n",
    "\n",
    "    def Recall(self):\n",
    "        tp, fp, tn, fn = self.get_tp_fp_tn_fn()\n",
    "        recall = tp / (tp + fn)\n",
    "        return recall\n",
    "\n",
    "    def F1(self):\n",
    "        tp, fp, tn, fn = self.get_tp_fp_tn_fn()\n",
    "        Precision = tp / (tp + fp)\n",
    "        Recall = tp / (tp + fn)\n",
    "        F1 = (2.0 * Precision * Recall) / (Precision + Recall)\n",
    "        return F1\n",
    "\n",
    "    def OA(self):\n",
    "        OA = np.diag(self.confusion_matrix).sum() / (self.confusion_matrix.sum() + self.eps)\n",
    "        return OA\n",
    "\n",
    "    def Intersection_over_Union(self):\n",
    "        tp, fp, tn, fn = self.get_tp_fp_tn_fn()\n",
    "        IoU = tp / (tp + fn + fp)\n",
    "        return IoU\n",
    "\n",
    "    def Dice(self):\n",
    "        tp, fp, tn, fn = self.get_tp_fp_tn_fn()\n",
    "        Dice = 2 * tp / ((tp + fp) + (tp + fn))\n",
    "        return Dice\n",
    "\n",
    "    def Pixel_Accuracy_Class(self):\n",
    "        #         TP                                  TP+FP\n",
    "        Acc = np.diag(self.confusion_matrix) / (self.confusion_matrix.sum(axis=0) + self.eps)\n",
    "        return Acc\n",
    "\n",
    "    def Frequency_Weighted_Intersection_over_Union(self):\n",
    "        freq = np.sum(self.confusion_matrix, axis=1) / (np.sum(self.confusion_matrix) + self.eps)\n",
    "        iou = self.Intersection_over_Union()\n",
    "        FWIoU = (freq[freq > 0] * iou[freq > 0]).sum()\n",
    "        return FWIoU\n",
    "\n",
    "    def _generate_matrix(self, gt_image, pre_image):\n",
    "        mask = (gt_image >= 0) & (gt_image < self.num_class)\n",
    "        label = self.num_class * gt_image[mask].astype('int') + pre_image[mask]\n",
    "        count = np.bincount(label, minlength=self.num_class ** 2)\n",
    "        confusion_matrix = count.reshape(self.num_class, self.num_class)\n",
    "        return confusion_matrix\n",
    "\n",
    "    def add_batch(self, gt_image, pre_image):\n",
    "        assert gt_image.shape == pre_image.shape, 'pre_image shape {}, gt_image shape {}'.format(pre_image.shape,\n",
    "                                                                                                 gt_image.shape)\n",
    "        self.confusion_matrix += self._generate_matrix(gt_image, pre_image)\n",
    "\n",
    "    def reset(self):\n",
    "        self.confusion_matrix = np.zeros((self.num_class,) * 2)"
   ]
  },
  {
   "cell_type": "markdown",
   "id": "ccbb5b4c",
   "metadata": {
    "papermill": {
     "duration": 0.010964,
     "end_time": "2023-12-13T13:52:00.110318",
     "exception": false,
     "start_time": "2023-12-13T13:52:00.099354",
     "status": "completed"
    },
    "tags": []
   },
   "source": [
    "# Model"
   ]
  },
  {
   "cell_type": "code",
   "execution_count": 10,
   "id": "df074f49",
   "metadata": {
    "execution": {
     "iopub.execute_input": "2023-12-13T13:52:00.134279Z",
     "iopub.status.busy": "2023-12-13T13:52:00.133888Z",
     "iopub.status.idle": "2023-12-13T13:52:00.576462Z",
     "shell.execute_reply": "2023-12-13T13:52:00.575540Z"
    },
    "papermill": {
     "duration": 0.457436,
     "end_time": "2023-12-13T13:52:00.578900",
     "exception": false,
     "start_time": "2023-12-13T13:52:00.121464",
     "status": "completed"
    },
    "tags": []
   },
   "outputs": [],
   "source": [
    "import torch\n",
    "import torch.nn as nn\n",
    "from torch.nn import Module, Conv2d, Parameter, Softmax\n",
    "from torchvision import models\n",
    "from timm.models.layers import DropPath, to_2tuple, trunc_normal_\n",
    "\n",
    "\n",
    "class Mlp(nn.Module):\n",
    "    def __init__(self, in_features, hidden_features=None, out_features=None, act_layer=nn.GELU, drop=0.):\n",
    "        super().__init__()\n",
    "        out_features = out_features or in_features\n",
    "        hidden_features = hidden_features or in_features\n",
    "        self.fc1 = nn.Linear(in_features, hidden_features)\n",
    "        self.act = act_layer()\n",
    "        self.fc2 = nn.Linear(hidden_features, out_features)\n",
    "        self.drop = nn.Dropout(drop)\n",
    "\n",
    "    def forward(self, x):\n",
    "        x = self.fc1(x)\n",
    "        x = self.act(x)\n",
    "        x = self.drop(x)\n",
    "        x = self.fc2(x)\n",
    "        x = self.drop(x)\n",
    "        return x\n",
    "\n",
    "\n",
    "class Attention(nn.Module):\n",
    "    def __init__(self,\n",
    "                 dim,\n",
    "                 num_heads=8,\n",
    "                 qkv_bias=False,\n",
    "                 qk_scale=None,\n",
    "                 attn_drop=0.,\n",
    "                 proj_drop=0.,\n",
    "                 sr_ratio=1,\n",
    "                 apply_transform=False):\n",
    "        super().__init__()\n",
    "        self.num_heads = num_heads\n",
    "        head_dim = dim // num_heads\n",
    "        self.scale = qk_scale or head_dim ** -0.5\n",
    "\n",
    "        self.q = nn.Linear(dim, dim, bias=qkv_bias)\n",
    "        self.kv = nn.Linear(dim, dim * 2, bias=qkv_bias)\n",
    "        self.attn_drop = nn.Dropout(attn_drop)\n",
    "        self.proj = nn.Linear(dim, dim)\n",
    "        self.proj_drop = nn.Dropout(proj_drop)\n",
    "\n",
    "        self.sr_ratio = sr_ratio\n",
    "        if sr_ratio > 1:\n",
    "            self.sr = nn.Conv2d(dim, dim, kernel_size=sr_ratio+1, stride=sr_ratio, padding=sr_ratio // 2, groups=dim)\n",
    "            self.sr_norm = nn.LayerNorm(dim)\n",
    "\n",
    "        self.apply_transform = apply_transform and num_heads > 1\n",
    "        if self.apply_transform:\n",
    "            self.transform_conv = nn.Conv2d(self.num_heads, self.num_heads, kernel_size=1, stride=1)\n",
    "            self.transform_norm = nn.InstanceNorm2d(self.num_heads)\n",
    "\n",
    "    def forward(self, x, H, W):\n",
    "        B, N, C = x.shape\n",
    "        q = self.q(x).reshape(B, N, self.num_heads, C // self.num_heads).permute(0, 2, 1, 3)\n",
    "        if self.sr_ratio > 1:\n",
    "            x_ = x.permute(0, 2, 1).reshape(B, C, H, W)\n",
    "            x_ = self.sr(x_).reshape(B, C, -1).permute(0, 2, 1)\n",
    "            x_ = self.sr_norm(x_)\n",
    "            kv = self.kv(x_).reshape(B, -1, 2, self.num_heads, C // self.num_heads).permute(2, 0, 3, 1, 4)\n",
    "        else:\n",
    "            kv = self.kv(x).reshape(B, N, 2, self.num_heads, C // self.num_heads).permute(2, 0, 3, 1, 4)\n",
    "        k, v = kv[0], kv[1]\n",
    "\n",
    "        attn = (q @ k.transpose(-2, -1)) * self.scale\n",
    "        if self.apply_transform:\n",
    "            attn = self.transform_conv(attn)\n",
    "            attn = attn.softmax(dim=-1)\n",
    "            attn = self.transform_norm(attn)\n",
    "        else:\n",
    "            attn = attn.softmax(dim=-1)\n",
    "\n",
    "        attn = self.attn_drop(attn)\n",
    "        x = (attn @ v).transpose(1, 2).reshape(B, N, C)\n",
    "        x = self.proj(x)\n",
    "        x = self.proj_drop(x)\n",
    "        return x\n",
    "\n",
    "\n",
    "class Block(nn.Module):\n",
    "    def __init__(self, dim, num_heads, mlp_ratio=4., qkv_bias=False, qk_scale=None, drop=0., attn_drop=0.,\n",
    "                 drop_path=0., act_layer=nn.GELU, norm_layer=nn.LayerNorm, sr_ratio=1, apply_transform=False):\n",
    "        super().__init__()\n",
    "        self.norm1 = norm_layer(dim)\n",
    "        self.attn = Attention(\n",
    "            dim, num_heads=num_heads, qkv_bias=qkv_bias, qk_scale=qk_scale,\n",
    "            attn_drop=attn_drop, proj_drop=drop, sr_ratio=sr_ratio, apply_transform=apply_transform)\n",
    "        # NOTE: drop path for stochastic depth, we shall see if this is better than dropout here\n",
    "        self.drop_path = DropPath(drop_path) if drop_path > 0. else nn.Identity()\n",
    "        self.norm2 = norm_layer(dim)\n",
    "        mlp_hidden_dim = int(dim * mlp_ratio)\n",
    "        self.mlp = Mlp(in_features=dim, hidden_features=mlp_hidden_dim, act_layer=act_layer, drop=drop)\n",
    "\n",
    "    def forward(self, x, H, W):\n",
    "        x = x + self.drop_path(self.attn(self.norm1(x), H, W))\n",
    "        x = x + self.drop_path(self.mlp(self.norm2(x)))\n",
    "        return x\n",
    "\n",
    "\n",
    "class PA(nn.Module):\n",
    "    def __init__(self, dim):\n",
    "        super().__init__()\n",
    "        self.pa_conv = nn.Conv2d(dim, dim, kernel_size=3, padding=1, groups=dim)\n",
    "        self.sigmoid = nn.Sigmoid()\n",
    "\n",
    "    def forward(self, x):\n",
    "        return x * self.sigmoid(self.pa_conv(x))\n",
    "\n",
    "\n",
    "class GL(nn.Module):\n",
    "    def __init__(self, dim):\n",
    "        super().__init__()\n",
    "        self.gl_conv = nn.Conv2d(dim, dim, kernel_size=3, padding=1, groups=dim)\n",
    "\n",
    "    def forward(self, x):\n",
    "        return x + self.gl_conv(x)\n",
    "\n",
    "\n",
    "class PatchEmbed(nn.Module):\n",
    "    \"\"\" Image to Patch Embedding\"\"\"\n",
    "    def __init__(self, patch_size=16, in_ch=3, out_ch=768, with_pos=False):\n",
    "        super().__init__()\n",
    "        self.patch_size = to_2tuple(patch_size)\n",
    "        self.conv = nn.Conv2d(in_ch, out_ch, kernel_size=patch_size+1, stride=patch_size, padding=patch_size // 2)\n",
    "        self.norm = nn.BatchNorm2d(out_ch)\n",
    "\n",
    "        self.with_pos = with_pos\n",
    "        if self.with_pos:\n",
    "            self.pos = PA(out_ch)\n",
    "\n",
    "    def forward(self, x):\n",
    "        B, C, H, W = x.shape\n",
    "        x = self.conv(x)\n",
    "        x = self.norm(x)\n",
    "        if self.with_pos:\n",
    "            x = self.pos(x)\n",
    "        x = x.flatten(2).transpose(1, 2)\n",
    "        H, W = H // self.patch_size[0], W // self.patch_size[1]\n",
    "        return x, (H, W)\n",
    "\n",
    "\n",
    "class BasicStem(nn.Module):\n",
    "    def __init__(self, in_ch=3, out_ch=64, with_pos=False):\n",
    "        super(BasicStem, self).__init__()\n",
    "        hidden_ch = out_ch // 2\n",
    "        self.conv1 = nn.Conv2d(in_ch, hidden_ch, kernel_size=3, stride=2, padding=1, bias=False)\n",
    "        self.norm1 = nn.BatchNorm2d(hidden_ch)\n",
    "        self.conv2 = nn.Conv2d(hidden_ch, hidden_ch, kernel_size=3, stride=1, padding=1, bias=False)\n",
    "        self.norm2 = nn.BatchNorm2d(hidden_ch)\n",
    "        self.conv3 = nn.Conv2d(hidden_ch, out_ch, kernel_size=3, stride=2, padding=1, bias=False)\n",
    "\n",
    "        self.act = nn.ReLU(inplace=True)\n",
    "        self.with_pos = with_pos\n",
    "        if self.with_pos:\n",
    "            self.pos = PA(out_ch)\n",
    "\n",
    "    def forward(self, x):\n",
    "        x = self.conv1(x)\n",
    "        x = self.norm1(x)\n",
    "        x = self.act(x)\n",
    "\n",
    "        x = self.conv2(x)\n",
    "        x = self.norm2(x)\n",
    "        x = self.act(x)\n",
    "\n",
    "        x = self.conv3(x)\n",
    "        if self.with_pos:\n",
    "            x = self.pos(x)\n",
    "        return x\n",
    "\n",
    "\n",
    "class ResT(nn.Module):\n",
    "    def __init__(self, in_chans=3, num_classes=1000, embed_dims=[64, 128, 256, 512],\n",
    "                 num_heads=[1, 2, 4, 8], mlp_ratios=[4, 4, 4, 4], qkv_bias=False,\n",
    "                 qk_scale=None, drop_rate=0., attn_drop_rate=0., drop_path_rate=0.,\n",
    "                 depths=[2, 2, 2, 2], sr_ratios=[8, 4, 2, 1],\n",
    "                 norm_layer=nn.LayerNorm, apply_transform=False):\n",
    "        super().__init__()\n",
    "        self.num_classes = num_classes\n",
    "        self.depths = depths\n",
    "        self.apply_transform = apply_transform\n",
    "\n",
    "        self.stem = BasicStem(in_ch=in_chans, out_ch=embed_dims[0], with_pos=True)\n",
    "\n",
    "        self.patch_embed_2 = PatchEmbed(patch_size=2, in_ch=embed_dims[0], out_ch=embed_dims[1], with_pos=True)\n",
    "        self.patch_embed_3 = PatchEmbed(patch_size=2, in_ch=embed_dims[1], out_ch=embed_dims[2], with_pos=True)\n",
    "        self.patch_embed_4 = PatchEmbed(patch_size=2, in_ch=embed_dims[2], out_ch=embed_dims[3], with_pos=True)\n",
    "\n",
    "        # transformer encoder\n",
    "        dpr = [x.item() for x in torch.linspace(0, drop_path_rate, sum(depths))]\n",
    "        cur = 0\n",
    "\n",
    "        self.stage1 = nn.ModuleList([\n",
    "            Block(embed_dims[0], num_heads[0], mlp_ratios[0], qkv_bias, qk_scale, drop_rate, attn_drop_rate,\n",
    "                  drop_path=dpr[cur+i], norm_layer=norm_layer, sr_ratio=sr_ratios[0], apply_transform=apply_transform)\n",
    "            for i in range(self.depths[0])])\n",
    "\n",
    "        cur += depths[0]\n",
    "        self.stage2 = nn.ModuleList([\n",
    "            Block(embed_dims[1], num_heads[1], mlp_ratios[1], qkv_bias, qk_scale, drop_rate, attn_drop_rate,\n",
    "                  drop_path=dpr[cur+i], norm_layer=norm_layer, sr_ratio=sr_ratios[1], apply_transform=apply_transform)\n",
    "            for i in range(self.depths[1])])\n",
    "\n",
    "        cur += depths[1]\n",
    "        self.stage3 = nn.ModuleList([\n",
    "            Block(embed_dims[2], num_heads[2], mlp_ratios[2], qkv_bias, qk_scale, drop_rate, attn_drop_rate,\n",
    "                  drop_path=dpr[cur+i], norm_layer=norm_layer, sr_ratio=sr_ratios[2], apply_transform=apply_transform)\n",
    "            for i in range(self.depths[2])])\n",
    "\n",
    "        cur += depths[2]\n",
    "        self.stage4 = nn.ModuleList([\n",
    "            Block(embed_dims[3], num_heads[3], mlp_ratios[3], qkv_bias, qk_scale, drop_rate, attn_drop_rate,\n",
    "                  drop_path=dpr[cur+i], norm_layer=norm_layer, sr_ratio=sr_ratios[3], apply_transform=apply_transform)\n",
    "            for i in range(self.depths[3])])\n",
    "\n",
    "        self.norm = norm_layer(embed_dims[3])\n",
    "\n",
    "        # init weights\n",
    "        self.apply(self._init_weights)\n",
    "\n",
    "    def _init_weights(self, m):\n",
    "        if isinstance(m, nn.Conv2d):\n",
    "            trunc_normal_(m.weight, std=0.02)\n",
    "        elif isinstance(m, nn.Linear):\n",
    "            trunc_normal_(m.weight, std=0.02)\n",
    "            if m.bias is not None:\n",
    "                nn.init.constant_(m.bias, 0)\n",
    "        elif isinstance(m, (nn.LayerNorm, nn.BatchNorm2d)):\n",
    "            nn.init.constant_(m.weight, 1.0)\n",
    "            nn.init.constant_(m.bias, 0)\n",
    "\n",
    "    def forward(self, x):\n",
    "        x = self.stem(x)\n",
    "        B, _, H, W = x.shape\n",
    "        x = x.flatten(2).permute(0, 2, 1)\n",
    "\n",
    "        # stage 1\n",
    "        for blk in self.stage1:\n",
    "            x = blk(x, H, W)\n",
    "        x = x.permute(0, 2, 1).reshape(B, -1, H, W)\n",
    "        # x1 = x\n",
    "\n",
    "        # stage 2\n",
    "        x, (H, W) = self.patch_embed_2(x)\n",
    "        for blk in self.stage2:\n",
    "            x = blk(x, H, W)\n",
    "        x = x.permute(0, 2, 1).reshape(B, -1, H, W)\n",
    "        # x2 = x\n",
    "\n",
    "        # stage 3\n",
    "        x, (H, W) = self.patch_embed_3(x)\n",
    "        for blk in self.stage3:\n",
    "            x = blk(x, H, W)\n",
    "        x = x.permute(0, 2, 1).reshape(B, -1, H, W)\n",
    "        x3 = x\n",
    "\n",
    "        # stage 4\n",
    "        x, (H, W) = self.patch_embed_4(x)\n",
    "        for blk in self.stage4:\n",
    "            x = blk(x, H, W)\n",
    "        x = self.norm(x)\n",
    "        x = x.permute(0, 2, 1).reshape(B, -1, H, W)\n",
    "        x4 = x\n",
    "\n",
    "        return x3, x4\n",
    "\n",
    "\n",
    "def rest_lite(pretrained=True, weight_path='pretrain_weights/rest_lite.pth',  **kwargs):\n",
    "    model = ResT(embed_dims=[64, 128, 256, 512], num_heads=[1, 2, 4, 8], mlp_ratios=[4, 4, 4, 4], qkv_bias=True,\n",
    "                 depths=[2, 2, 2, 2], sr_ratios=[8, 4, 2, 1], apply_transform=True, **kwargs)\n",
    "    if pretrained and weight_path is not None:\n",
    "        old_dict = torch.load(weight_path)\n",
    "        model_dict = model.state_dict()\n",
    "        old_dict = {k: v for k, v in old_dict.items() if (k in model_dict)}\n",
    "        model_dict.update(old_dict)\n",
    "        model.load_state_dict(model_dict)\n",
    "    return model\n",
    "\n",
    "\n",
    "class ConvBNReLU(nn.Module):\n",
    "    def __init__(self, in_chan, out_chan, ks=3, stride=1, padding=1):\n",
    "        super(ConvBNReLU, self).__init__()\n",
    "        self.conv = nn.Conv2d(in_chan,\n",
    "                              out_chan,\n",
    "                              kernel_size=ks,\n",
    "                              stride=stride,\n",
    "                              padding=padding,\n",
    "                              bias=False)\n",
    "        self.bn = nn.BatchNorm2d(out_chan)\n",
    "        self.relu = nn.ReLU(inplace=True)\n",
    "        self.init_weight()\n",
    "\n",
    "    def forward(self, x):\n",
    "        x = self.conv(x)\n",
    "        x = self.bn(x)\n",
    "        x = self.relu(x)\n",
    "        return x\n",
    "\n",
    "    def init_weight(self):\n",
    "        for ly in self.children():\n",
    "            if isinstance(ly, nn.Conv2d):\n",
    "                nn.init.kaiming_normal_(ly.weight, a=1)\n",
    "                if not ly.bias is None: nn.init.constant_(ly.bias, 0)\n",
    "\n",
    "\n",
    "def l2_norm(x):\n",
    "    return torch.einsum(\"bcn, bn->bcn\", x, 1 / torch.norm(x, p=2, dim=-2))\n",
    "\n",
    "\n",
    "class LinearAttention(Module):\n",
    "    def __init__(self, in_places, scale=8, eps=1e-6):\n",
    "        super(LinearAttention, self).__init__()\n",
    "        self.gamma = Parameter(torch.zeros(1))\n",
    "        self.in_places = in_places\n",
    "        self.l2_norm = l2_norm\n",
    "        self.eps = eps\n",
    "\n",
    "        self.query_conv = Conv2d(in_channels=in_places, out_channels=in_places // scale, kernel_size=1)\n",
    "        self.key_conv = Conv2d(in_channels=in_places, out_channels=in_places // scale, kernel_size=1)\n",
    "        self.value_conv = Conv2d(in_channels=in_places, out_channels=in_places, kernel_size=1)\n",
    "\n",
    "    def forward(self, x):\n",
    "        # Apply the feature map to the queries and keys\n",
    "        batch_size, chnnels, width, height = x.shape\n",
    "        Q = self.query_conv(x).view(batch_size, -1, width * height)\n",
    "        K = self.key_conv(x).view(batch_size, -1, width * height)\n",
    "        V = self.value_conv(x).view(batch_size, -1, width * height)\n",
    "\n",
    "        Q = self.l2_norm(Q).permute(-3, -1, -2)\n",
    "        K = self.l2_norm(K)\n",
    "\n",
    "        tailor_sum = 1 / (width * height + torch.einsum(\"bnc, bc->bn\", Q, torch.sum(K, dim=-1) + self.eps))\n",
    "        value_sum = torch.einsum(\"bcn->bc\", V).unsqueeze(-1)\n",
    "        value_sum = value_sum.expand(-1, chnnels, width * height)\n",
    "\n",
    "        matrix = torch.einsum('bmn, bcn->bmc', K, V)\n",
    "        matrix_sum = value_sum + torch.einsum(\"bnm, bmc->bcn\", Q, matrix)\n",
    "\n",
    "        weight_value = torch.einsum(\"bcn, bn->bcn\", matrix_sum, tailor_sum)\n",
    "        weight_value = weight_value.view(batch_size, chnnels, height, width)\n",
    "\n",
    "        return x + (self.gamma * weight_value).contiguous()\n",
    "\n",
    "\n",
    "class Output(nn.Module):\n",
    "    def __init__(self, in_chan, mid_chan, n_classes, up_factor=32, *args, **kwargs):\n",
    "        super(Output, self).__init__()\n",
    "        self.up_factor = up_factor\n",
    "        out_chan = n_classes * up_factor * up_factor\n",
    "        self.conv = ConvBNReLU(in_chan, mid_chan, ks=3, stride=1, padding=1)\n",
    "        self.conv_out = nn.Conv2d(mid_chan, out_chan, kernel_size=1, bias=True)\n",
    "        self.up = nn.PixelShuffle(up_factor)\n",
    "        self.init_weight()\n",
    "\n",
    "    def forward(self, x):\n",
    "        x = self.conv(x)\n",
    "        x = self.conv_out(x)\n",
    "        x = self.up(x)\n",
    "        return x\n",
    "\n",
    "    def init_weight(self):\n",
    "        for ly in self.children():\n",
    "            if isinstance(ly, nn.Conv2d):\n",
    "                nn.init.kaiming_normal_(ly.weight, a=1)\n",
    "                if not ly.bias is None: nn.init.constant_(ly.bias, 0)\n",
    "\n",
    "    def get_params(self):\n",
    "        wd_params, nowd_params = [], []\n",
    "        for name, module in self.named_modules():\n",
    "            if isinstance(module, (nn.Linear, nn.Conv2d)):\n",
    "                wd_params.append(module.weight)\n",
    "                if not module.bias is None:\n",
    "                    nowd_params.append(module.bias)\n",
    "            elif isinstance(module, nn.modules.batchnorm._BatchNorm):\n",
    "                nowd_params += list(module.parameters())\n",
    "        return wd_params, nowd_params\n",
    "\n",
    "\n",
    "class UpSample(nn.Module):\n",
    "\n",
    "    def __init__(self, n_chan, factor=2):\n",
    "        super(UpSample, self).__init__()\n",
    "        out_chan = n_chan * factor * factor\n",
    "        self.proj = nn.Conv2d(n_chan, out_chan, 1, 1, 0)\n",
    "        self.up = nn.PixelShuffle(factor)\n",
    "        self.init_weight()\n",
    "\n",
    "    def forward(self, x):\n",
    "        feat = self.proj(x)\n",
    "        feat = self.up(feat)\n",
    "        return feat\n",
    "\n",
    "    def init_weight(self):\n",
    "        nn.init.xavier_normal_(self.proj.weight, gain=1.)\n",
    "\n",
    "\n",
    "class Attention_Embedding(nn.Module):\n",
    "    def __init__(self, in_channels, out_channels):\n",
    "        super(Attention_Embedding, self).__init__()\n",
    "        self.attention = LinearAttention(in_channels)\n",
    "        self.conv_attn = ConvBNReLU(in_channels, out_channels)\n",
    "        self.up = UpSample(out_channels)\n",
    "\n",
    "    def forward(self, high_feat, low_feat):\n",
    "        A = self.attention(high_feat)\n",
    "        A = self.conv_attn(A)\n",
    "        A = self.up(A)\n",
    "\n",
    "        output = low_feat * A\n",
    "        output += low_feat\n",
    "\n",
    "        return output\n",
    "\n",
    "\n",
    "class FeatureAggregationModule(nn.Module):\n",
    "    def __init__(self, in_chan, out_chan):\n",
    "        super(FeatureAggregationModule, self).__init__()\n",
    "        self.convblk = ConvBNReLU(in_chan, out_chan, ks=1, stride=1, padding=0)\n",
    "        self.conv_atten = LinearAttention(out_chan)\n",
    "        self.init_weight()\n",
    "\n",
    "    def forward(self, fsp, fcp):\n",
    "        fcat = torch.cat([fsp, fcp], dim=1)\n",
    "        feat = self.convblk(fcat)\n",
    "        atten = self.conv_atten(feat)\n",
    "        feat_atten = torch.mul(feat, atten)\n",
    "        feat_out = feat_atten + feat\n",
    "        return feat_out\n",
    "\n",
    "    def init_weight(self):\n",
    "        for ly in self.children():\n",
    "            if isinstance(ly, nn.Conv2d):\n",
    "                nn.init.kaiming_normal_(ly.weight, a=1)\n",
    "                if not ly.bias is None: nn.init.constant_(ly.bias, 0)\n",
    "\n",
    "    def get_params(self):\n",
    "        wd_params, nowd_params = [], []\n",
    "        for name, module in self.named_modules():\n",
    "            if isinstance(module, (nn.Linear, nn.Conv2d)):\n",
    "                wd_params.append(module.weight)\n",
    "                if not module.bias is None:\n",
    "                    nowd_params.append(module.bias)\n",
    "            elif isinstance(module, nn.modules.batchnorm._BatchNorm):\n",
    "                nowd_params += list(module.parameters())\n",
    "        return wd_params, nowd_params\n",
    "\n",
    "\n",
    "class TexturePath(nn.Module):\n",
    "    def __init__(self):\n",
    "        super(TexturePath, self).__init__()\n",
    "        self.conv1 = ConvBNReLU(3, 64, ks=7, stride=2, padding=3)\n",
    "        self.conv2 = ConvBNReLU(64, 64, ks=3, stride=2, padding=1)\n",
    "        self.conv3 = ConvBNReLU(64, 64, ks=3, stride=2, padding=1)\n",
    "        self.conv_out = ConvBNReLU(64, 128, ks=1, stride=1, padding=0)\n",
    "        self.init_weight()\n",
    "\n",
    "    def forward(self, x):\n",
    "        feat = self.conv1(x)\n",
    "        feat = self.conv2(feat)\n",
    "        feat = self.conv3(feat)\n",
    "        feat = self.conv_out(feat)\n",
    "        return feat\n",
    "\n",
    "    def init_weight(self):\n",
    "        for ly in self.children():\n",
    "            if isinstance(ly, nn.Conv2d):\n",
    "                nn.init.kaiming_normal_(ly.weight, a=1)\n",
    "                if not ly.bias is None: nn.init.constant_(ly.bias, 0)\n",
    "\n",
    "    def get_params(self):\n",
    "        wd_params, nowd_params = [], []\n",
    "        for name, module in self.named_modules():\n",
    "            if isinstance(module, nn.Linear) or isinstance(module, nn.Conv2d):\n",
    "                wd_params.append(module.weight)\n",
    "                if not module.bias is None:\n",
    "                    nowd_params.append(module.bias)\n",
    "            elif isinstance(module, nn.modules.batchnorm._BatchNorm):\n",
    "                nowd_params += list(module.parameters())\n",
    "        return wd_params, nowd_params\n",
    "\n",
    "\n",
    "class DependencyPath(nn.Module):\n",
    "    def __init__(self, weight_path='pretrain_weights/rest_lite.pth'):\n",
    "        super(DependencyPath, self).__init__()\n",
    "        self.ResT = rest_lite(weight_path=weight_path)\n",
    "        self.AE = Attention_Embedding(512, 256)\n",
    "        self.conv_avg = ConvBNReLU(256, 128, ks=1, stride=1, padding=0)\n",
    "        self.up = nn.Upsample(scale_factor=2.)\n",
    "\n",
    "    def forward(self, x):\n",
    "        e3, e4 = self.ResT(x)\n",
    "\n",
    "        e = self.conv_avg(self.AE(e4, e3))\n",
    "\n",
    "        return self.up(e)\n",
    "\n",
    "    def get_params(self):\n",
    "        wd_params, nowd_params = [], []\n",
    "        for name, module in self.named_modules():\n",
    "            if isinstance(module, (nn.Linear, nn.Conv2d)):\n",
    "                wd_params.append(module.weight)\n",
    "                if not module.bias is None:\n",
    "                    nowd_params.append(module.bias)\n",
    "            elif isinstance(module, nn.modules.batchnorm._BatchNorm):\n",
    "                nowd_params += list(module.parameters())\n",
    "        return wd_params, nowd_params\n",
    "\n",
    "\n",
    "class DependencyPathRes(nn.Module):\n",
    "    def __init__(self):\n",
    "        super(DependencyPathRes, self).__init__()\n",
    "        resnet = models.resnet18(True)\n",
    "        self.firstconv = resnet.conv1\n",
    "        self.firstbn = resnet.bn1\n",
    "        self.firstrelu = resnet.relu\n",
    "        self.firstmaxpool = resnet.maxpool\n",
    "        self.encoder1 = resnet.layer1\n",
    "        self.encoder2 = resnet.layer2\n",
    "        self.encoder3 = resnet.layer3\n",
    "        self.encoder4 = resnet.layer4\n",
    "        self.AE = Attention_Embedding(512, 256)\n",
    "        self.conv_avg = ConvBNReLU(256, 128, ks=1, stride=1, padding=0)\n",
    "        self.up = nn.Upsample(scale_factor=2.)\n",
    "\n",
    "    def forward(self, x):\n",
    "        x1 = self.firstconv(x)\n",
    "        x1 = self.firstbn(x1)\n",
    "        x1 = self.firstrelu(x1)\n",
    "        x1 = self.firstmaxpool(x1)\n",
    "        e1 = self.encoder1(x1)\n",
    "        e2 = self.encoder2(e1)\n",
    "        e3 = self.encoder3(e2)\n",
    "        e4 = self.encoder4(e3)\n",
    "\n",
    "        e = self.conv_avg(self.AE(e4, e3))\n",
    "\n",
    "        return self.up(e)\n",
    "\n",
    "    def get_params(self):\n",
    "        wd_params, nowd_params = [], []\n",
    "        for name, module in self.named_modules():\n",
    "            if isinstance(module, (nn.Linear, nn.Conv2d)):\n",
    "                wd_params.append(module.weight)\n",
    "                if not module.bias is None:\n",
    "                    nowd_params.append(module.bias)\n",
    "            elif isinstance(module, nn.modules.batchnorm._BatchNorm):\n",
    "                nowd_params += list(module.parameters())\n",
    "        return wd_params, nowd_params\n",
    "\n",
    "\n",
    "class BANet(nn.Module):\n",
    "    def __init__(self, num_classes=6, weight_path= None):\n",
    "        super(BANet, self).__init__()    # path of pretrained weight file of ResT-lite  or None, recommend use.\n",
    "        self.name = 'BANet'\n",
    "\n",
    "        self.cp = DependencyPath(weight_path=weight_path)\n",
    "        self.sp = TexturePath()\n",
    "        self.fam = FeatureAggregationModule(256, 256)\n",
    "        self.conv_out = Output(256, 256, num_classes, up_factor=8)\n",
    "        self.init_weight()\n",
    "\n",
    "    def forward(self, x):\n",
    "        feat = self.cp(x)\n",
    "        feat_sp = self.sp(x)\n",
    "        feat_fuse = self.fam(feat_sp, feat)\n",
    "\n",
    "        feat_out = self.conv_out(feat_fuse)\n",
    "\n",
    "        return feat_out\n",
    "\n",
    "    def init_weight(self):\n",
    "        for ly in self.children():\n",
    "            if isinstance(ly, nn.Conv2d):\n",
    "                nn.init.kaiming_normal_(ly.weight, a=1)\n",
    "                if not ly.bias is None: nn.init.constant_(ly.bias, 0)\n",
    "\n",
    "    def get_params(self):\n",
    "        wd_params, nowd_params, lr_mul_wd_params, lr_mul_nowd_params = [], [], [], []\n",
    "        for name, child in self.named_children():\n",
    "            child_wd_params, child_nowd_params = child.get_params()\n",
    "            if isinstance(child, (Attention_Embedding, Output)):\n",
    "                lr_mul_wd_params += child_wd_params\n",
    "                lr_mul_nowd_params += child_nowd_params\n",
    "            else:\n",
    "                wd_params += child_wd_params\n",
    "                nowd_params += child_nowd_params\n",
    "        return wd_params, nowd_params, lr_mul_wd_params, lr_mul_nowd_params"
   ]
  },
  {
   "cell_type": "markdown",
   "id": "5a74cec7",
   "metadata": {
    "papermill": {
     "duration": 0.011056,
     "end_time": "2023-12-13T13:52:00.601614",
     "exception": false,
     "start_time": "2023-12-13T13:52:00.590558",
     "status": "completed"
    },
    "tags": []
   },
   "source": [
    "# Loss function"
   ]
  },
  {
   "cell_type": "code",
   "execution_count": 11,
   "id": "55566e85",
   "metadata": {
    "execution": {
     "iopub.execute_input": "2023-12-13T13:52:00.625479Z",
     "iopub.status.busy": "2023-12-13T13:52:00.625120Z",
     "iopub.status.idle": "2023-12-13T13:52:00.635249Z",
     "shell.execute_reply": "2023-12-13T13:52:00.634391Z"
    },
    "papermill": {
     "duration": 0.024237,
     "end_time": "2023-12-13T13:52:00.637117",
     "exception": false,
     "start_time": "2023-12-13T13:52:00.612880",
     "status": "completed"
    },
    "tags": []
   },
   "outputs": [],
   "source": [
    "def label_smoothed_nll_loss(\n",
    "    lprobs: torch.Tensor, target: torch.Tensor, epsilon: float, ignore_index=None, reduction=\"mean\", dim=-1\n",
    ") -> torch.Tensor:\n",
    "    \"\"\"\n",
    "\n",
    "    Source: https://github.com/pytorch/fairseq/blob/master/fairseq/criterions/label_smoothed_cross_entropy.py\n",
    "\n",
    "    :param lprobs: Log-probabilities of predictions (e.g after log_softmax)\n",
    "    :param target:\n",
    "    :param epsilon:\n",
    "    :param ignore_index:\n",
    "    :param reduction:\n",
    "    :return:\n",
    "    \"\"\"\n",
    "    if target.dim() == lprobs.dim() - 1:\n",
    "        target = target.unsqueeze(dim)\n",
    "\n",
    "    if ignore_index is not None:\n",
    "        pad_mask = target.eq(ignore_index)\n",
    "        target = target.masked_fill(pad_mask, 0)\n",
    "        nll_loss = -lprobs.gather(dim=dim, index=target)\n",
    "        smooth_loss = -lprobs.sum(dim=dim, keepdim=True)\n",
    "\n",
    "        # nll_loss.masked_fill_(pad_mask, 0.0)\n",
    "        # smooth_loss.masked_fill_(pad_mask, 0.0)\n",
    "        nll_loss = nll_loss.masked_fill(pad_mask, 0.0)\n",
    "        smooth_loss = smooth_loss.masked_fill(pad_mask, 0.0)\n",
    "    else:\n",
    "        nll_loss = -lprobs.gather(dim=dim, index=target)\n",
    "        smooth_loss = -lprobs.sum(dim=dim, keepdim=True)\n",
    "\n",
    "        nll_loss = nll_loss.squeeze(dim)\n",
    "        smooth_loss = smooth_loss.squeeze(dim)\n",
    "\n",
    "    if reduction == \"sum\":\n",
    "        nll_loss = nll_loss.sum()\n",
    "        smooth_loss = smooth_loss.sum()\n",
    "    if reduction == \"mean\":\n",
    "        nll_loss = nll_loss.mean()\n",
    "        smooth_loss = smooth_loss.mean()\n",
    "\n",
    "    eps_i = epsilon / lprobs.size(dim)\n",
    "    loss = (1.0 - epsilon) * nll_loss + eps_i * smooth_loss\n",
    "    return loss"
   ]
  },
  {
   "cell_type": "code",
   "execution_count": 12,
   "id": "b067ca60",
   "metadata": {
    "execution": {
     "iopub.execute_input": "2023-12-13T13:52:00.660926Z",
     "iopub.status.busy": "2023-12-13T13:52:00.660654Z",
     "iopub.status.idle": "2023-12-13T13:52:00.690249Z",
     "shell.execute_reply": "2023-12-13T13:52:00.689430Z"
    },
    "papermill": {
     "duration": 0.043785,
     "end_time": "2023-12-13T13:52:00.692106",
     "exception": false,
     "start_time": "2023-12-13T13:52:00.648321",
     "status": "completed"
    },
    "tags": []
   },
   "outputs": [],
   "source": [
    "__all__ = [\"SoftCrossEntropyLoss\"]\n",
    "from typing import Optional\n",
    "from torch.nn.modules.loss import _Loss\n",
    "from typing import List\n",
    "class SoftCrossEntropyLoss(nn.Module):\n",
    "    \"\"\"\n",
    "    Drop-in replacement for nn.CrossEntropyLoss with few additions:\n",
    "    - Support of label smoothing\n",
    "    \"\"\"\n",
    "\n",
    "    __constants__ = [\"reduction\", \"ignore_index\", \"smooth_factor\"]\n",
    "\n",
    "    def __init__(self, reduction: str = \"mean\", smooth_factor: float = 0.0, ignore_index: Optional[int] = -100, dim=1):\n",
    "        super().__init__()\n",
    "        self.smooth_factor = smooth_factor\n",
    "        self.ignore_index = ignore_index\n",
    "        self.reduction = reduction\n",
    "        self.dim = dim\n",
    "\n",
    "    def forward(self, input: Tensor, target: Tensor) -> Tensor:\n",
    "        log_prob = F.log_softmax(input, dim=self.dim)\n",
    "        pad_mask = target.eq(self.ignore_index)\n",
    "        target = target.masked_fill(pad_mask, 0)\n",
    "        log_prob = log_prob.masked_fill(pad_mask.unsqueeze(1), 0)\n",
    "        return label_smoothed_nll_loss(\n",
    "            log_prob,\n",
    "            target,\n",
    "            epsilon=self.smooth_factor,\n",
    "            ignore_index=self.ignore_index,\n",
    "            reduction=self.reduction,\n",
    "            dim=self.dim,\n",
    "        )\n",
    "__all__ = [\"JointLoss\", \"WeightedLoss\"]\n",
    "\n",
    "\n",
    "class WeightedLoss(_Loss):\n",
    "    \"\"\"Wrapper class around loss function that applies weighted with fixed factor.\n",
    "    This class helps to balance multiple losses if they have different scales\n",
    "    \"\"\"\n",
    "\n",
    "    def __init__(self, loss, weight=1.0):\n",
    "        super().__init__()\n",
    "        self.loss = loss\n",
    "        self.weight = weight\n",
    "\n",
    "    def forward(self, *input):\n",
    "        return self.loss(*input) * self.weight\n",
    "class JointLoss(_Loss):\n",
    "    \"\"\"\n",
    "    Wrap two loss functions into one. This class computes a weighted sum of two losses.\n",
    "    \"\"\"\n",
    "\n",
    "    def __init__(self, first: nn.Module, second: nn.Module, first_weight=1.0, second_weight=1.0):\n",
    "        super().__init__()\n",
    "        self.first = WeightedLoss(first, first_weight)\n",
    "        self.second = WeightedLoss(second, second_weight)\n",
    "\n",
    "    def forward(self, *input):\n",
    "        return self.first(*input) + self.second(*input)\n",
    "__all__ = [\"DiceLoss\"]\n",
    "\n",
    "BINARY_MODE = \"binary\"\n",
    "MULTICLASS_MODE = \"multiclass\"\n",
    "MULTILABEL_MODE = \"multilabel\"\n",
    "def soft_dice_score(\n",
    "    output: torch.Tensor, target: torch.Tensor, smooth: float = 0.0, eps: float = 1e-7, dims=None\n",
    ") -> torch.Tensor:\n",
    "    \"\"\"\n",
    "\n",
    "    :param output:\n",
    "    :param target:\n",
    "    :param smooth:\n",
    "    :param eps:\n",
    "    :return:\n",
    "\n",
    "    Shape:\n",
    "        - Input: :math:`(N, NC, *)` where :math:`*` means any number\n",
    "            of additional dimensions\n",
    "        - Target: :math:`(N, NC, *)`, same shape as the input\n",
    "        - Output: scalar.\n",
    "\n",
    "    \"\"\"\n",
    "    assert output.size() == target.size()\n",
    "    if dims is not None:\n",
    "        intersection = torch.sum(output * target, dim=dims)\n",
    "        cardinality = torch.sum(output + target, dim=dims)\n",
    "    else:\n",
    "        intersection = torch.sum(output * target)\n",
    "        cardinality = torch.sum(output + target)\n",
    "    dice_score = (2.0 * intersection + smooth) / (cardinality + smooth).clamp_min(eps)\n",
    "    return dice_score\n",
    "class DiceLoss(_Loss):\n",
    "    \"\"\"\n",
    "    Implementation of Dice loss for image segmentation task.\n",
    "    It supports binary, multiclass and multilabel cases\n",
    "    \"\"\"\n",
    "\n",
    "    def __init__(\n",
    "        self,\n",
    "        mode: str = 'multiclass',\n",
    "        classes: List[int] = None,\n",
    "        log_loss=False,\n",
    "        from_logits=True,\n",
    "        smooth: float = 0.0,\n",
    "        ignore_index=None,\n",
    "        eps=1e-7,\n",
    "    ):\n",
    "        \"\"\"\n",
    "\n",
    "        :param mode: Metric mode {'binary', 'multiclass', 'multilabel'}\n",
    "        :param classes: Optional list of classes that contribute in loss computation;\n",
    "        By default, all channels are included.\n",
    "        :param log_loss: If True, loss computed as `-log(jaccard)`; otherwise `1 - jaccard`\n",
    "        :param from_logits: If True assumes input is raw logits\n",
    "        :param smooth:\n",
    "        :param ignore_index: Label that indicates ignored pixels (does not contribute to loss)\n",
    "        :param eps: Small epsilon for numerical stability\n",
    "        \"\"\"\n",
    "        assert mode in {BINARY_MODE, MULTILABEL_MODE, MULTICLASS_MODE}\n",
    "        super(DiceLoss, self).__init__()\n",
    "        self.mode = mode\n",
    "        if classes is not None:\n",
    "            assert mode != BINARY_MODE, \"Masking classes is not supported with mode=binary\"\n",
    "            classes = to_tensor(classes, dtype=torch.long)\n",
    "\n",
    "        self.classes = classes\n",
    "        self.from_logits = from_logits\n",
    "        self.smooth = smooth\n",
    "        self.eps = eps\n",
    "        self.ignore_index = ignore_index\n",
    "        self.log_loss = log_loss\n",
    "\n",
    "    def forward(self, y_pred: Tensor, y_true: Tensor) -> Tensor:\n",
    "        \"\"\"\n",
    "\n",
    "        :param y_pred: NxCxHxW\n",
    "        :param y_true: NxHxW\n",
    "        :return: scalar\n",
    "        \"\"\"\n",
    "        assert y_true.size(0) == y_pred.size(0)\n",
    "\n",
    "        if self.from_logits:\n",
    "            # Apply activations to get [0..1] class probabilities\n",
    "            # Using Log-Exp as this gives more numerically stable result and does not cause vanishing gradient on\n",
    "            # extreme values 0 and 1\n",
    "            if self.mode == MULTICLASS_MODE:\n",
    "                y_pred = y_pred.log_softmax(dim=1).exp()\n",
    "            else:\n",
    "                y_pred = F.logsigmoid(y_pred).exp()\n",
    "\n",
    "        bs = y_true.size(0)\n",
    "        num_classes = y_pred.size(1)\n",
    "        dims = (0, 2)\n",
    "\n",
    "        if self.mode == BINARY_MODE:\n",
    "            y_true = y_true.view(bs, 1, -1)\n",
    "            y_pred = y_pred.view(bs, 1, -1)\n",
    "\n",
    "            if self.ignore_index is not None:\n",
    "                mask = y_true != self.ignore_index\n",
    "                y_pred = y_pred * mask\n",
    "                y_true = y_true * mask\n",
    "\n",
    "        if self.mode == MULTICLASS_MODE:\n",
    "            y_true = y_true.view(bs, -1)\n",
    "            y_pred = y_pred.view(bs, num_classes, -1)\n",
    "\n",
    "            if self.ignore_index is not None:\n",
    "                mask = y_true != self.ignore_index\n",
    "                y_pred = y_pred * mask.unsqueeze(1)\n",
    "\n",
    "                y_true = F.one_hot((y_true * mask).to(torch.long), num_classes)  # N,H*W -> N,H*W, C\n",
    "                y_true = y_true.permute(0, 2, 1) * mask.unsqueeze(1)  # H, C, H*W\n",
    "            else:\n",
    "                y_true = F.one_hot(y_true, num_classes)  # N,H*W -> N,H*W, C\n",
    "                y_true = y_true.permute(0, 2, 1)  # H, C, H*W\n",
    "\n",
    "        if self.mode == MULTILABEL_MODE:\n",
    "            y_true = y_true.view(bs, num_classes, -1)\n",
    "            y_pred = y_pred.view(bs, num_classes, -1)\n",
    "\n",
    "            if self.ignore_index is not None:\n",
    "                mask = y_true != self.ignore_index\n",
    "                y_pred = y_pred * mask\n",
    "                y_true = y_true * mask\n",
    "\n",
    "        scores = soft_dice_score(y_pred, y_true.type_as(y_pred), smooth=self.smooth, eps=self.eps, dims=dims)\n",
    "\n",
    "        if self.log_loss:\n",
    "            loss = -torch.log(scores.clamp_min(self.eps))\n",
    "        else:\n",
    "            loss = 1.0 - scores\n",
    "\n",
    "        # Dice loss is undefined for non-empty classes\n",
    "        # So we zero contribution of channel that does not have true pixels\n",
    "        # NOTE: A better workaround would be to use loss term `mean(y_pred)`\n",
    "        # for this case, however it will be a modified jaccard loss\n",
    "\n",
    "        mask = y_true.sum(dims) > 0\n",
    "        loss *= mask.to(loss.dtype)\n",
    "\n",
    "        if self.classes is not None:\n",
    "            loss = loss[self.classes]\n",
    "\n",
    "        return loss.mean()\n"
   ]
  },
  {
   "cell_type": "code",
   "execution_count": 13,
   "id": "a9166872",
   "metadata": {
    "execution": {
     "iopub.execute_input": "2023-12-13T13:52:00.715730Z",
     "iopub.status.busy": "2023-12-13T13:52:00.715457Z",
     "iopub.status.idle": "2023-12-13T13:52:00.721837Z",
     "shell.execute_reply": "2023-12-13T13:52:00.721018Z"
    },
    "papermill": {
     "duration": 0.020505,
     "end_time": "2023-12-13T13:52:00.723788",
     "exception": false,
     "start_time": "2023-12-13T13:52:00.703283",
     "status": "completed"
    },
    "tags": []
   },
   "outputs": [],
   "source": [
    "\n",
    "class UnetLoss(nn.Module):\n",
    "    def __init__(self, ignore_index=255):\n",
    "        super().__init__()\n",
    "        self.main_loss = JointLoss(SoftCrossEntropyLoss(smooth_factor=0.05, ignore_index=ignore_index),\n",
    "                                   DiceLoss(smooth=0.05, ignore_index=ignore_index), 1.0, 1.0)\n",
    "        self.aux_loss = SoftCrossEntropyLoss(smooth_factor=0.05, ignore_index=ignore_index)\n",
    "\n",
    "    def forward(self, logits, labels):\n",
    "        if self.training and len(logits) == 2:\n",
    "            logit_main, logit_aux = logits\n",
    "            loss = self.main_loss(logit_main, labels) + 0.4 * self.aux_loss(logit_aux, labels)\n",
    "        else:\n",
    "            loss = self.main_loss(logits, labels)\n",
    "\n",
    "        return loss"
   ]
  },
  {
   "cell_type": "markdown",
   "id": "5760dddd",
   "metadata": {
    "papermill": {
     "duration": 0.0112,
     "end_time": "2023-12-13T13:52:00.788805",
     "exception": false,
     "start_time": "2023-12-13T13:52:00.777605",
     "status": "completed"
    },
    "tags": []
   },
   "source": [
    "# Training"
   ]
  },
  {
   "cell_type": "markdown",
   "id": "f2ad2407",
   "metadata": {
    "papermill": {
     "duration": 0.011024,
     "end_time": "2023-12-13T13:52:00.811070",
     "exception": false,
     "start_time": "2023-12-13T13:52:00.800046",
     "status": "completed"
    },
    "tags": []
   },
   "source": [
    "**Initialize weights**"
   ]
  },
  {
   "cell_type": "code",
   "execution_count": 14,
   "id": "a51c4c55",
   "metadata": {
    "execution": {
     "iopub.execute_input": "2023-12-13T13:52:00.835269Z",
     "iopub.status.busy": "2023-12-13T13:52:00.834607Z",
     "iopub.status.idle": "2023-12-13T13:52:00.839324Z",
     "shell.execute_reply": "2023-12-13T13:52:00.838442Z"
    },
    "papermill": {
     "duration": 0.019073,
     "end_time": "2023-12-13T13:52:00.841347",
     "exception": false,
     "start_time": "2023-12-13T13:52:00.822274",
     "status": "completed"
    },
    "tags": []
   },
   "outputs": [],
   "source": [
    "def weights_init(model):\n",
    "    if isinstance(model, nn.Linear):\n",
    "        # Xavier Distribution\n",
    "        torch.nn.init.xavier_uniform_(model.weight)"
   ]
  },
  {
   "cell_type": "code",
   "execution_count": 15,
   "id": "64fe3d58",
   "metadata": {
    "execution": {
     "iopub.execute_input": "2023-12-13T13:52:00.865601Z",
     "iopub.status.busy": "2023-12-13T13:52:00.864778Z",
     "iopub.status.idle": "2023-12-13T13:52:00.870317Z",
     "shell.execute_reply": "2023-12-13T13:52:00.869603Z"
    },
    "papermill": {
     "duration": 0.019426,
     "end_time": "2023-12-13T13:52:00.872155",
     "exception": false,
     "start_time": "2023-12-13T13:52:00.852729",
     "status": "completed"
    },
    "tags": []
   },
   "outputs": [],
   "source": [
    "def save_model(model, optimizer, path):\n",
    "    checkpoint = {\n",
    "        \"model\": model.state_dict(),\n",
    "        \"optimizer\": optimizer.state_dict(),\n",
    "    }\n",
    "    torch.save(checkpoint, path)\n",
    "\n",
    "def load_model(model, optimizer, path):\n",
    "    checkpoint = torch.load(path)\n",
    "    model.load_state_dict(checkpoint[\"model\"])\n",
    "    optimizer.load_state_dict(checkpoint['optimizer'])\n",
    "    return model, optimizer"
   ]
  },
  {
   "cell_type": "markdown",
   "id": "76f3646e",
   "metadata": {
    "papermill": {
     "duration": 0.010973,
     "end_time": "2023-12-13T13:52:00.894251",
     "exception": false,
     "start_time": "2023-12-13T13:52:00.883278",
     "status": "completed"
    },
    "tags": []
   },
   "source": [
    "**Train model**"
   ]
  },
  {
   "cell_type": "code",
   "execution_count": 16,
   "id": "1f363cd8",
   "metadata": {
    "execution": {
     "iopub.execute_input": "2023-12-13T13:52:00.919055Z",
     "iopub.status.busy": "2023-12-13T13:52:00.918748Z",
     "iopub.status.idle": "2023-12-13T13:52:00.935723Z",
     "shell.execute_reply": "2023-12-13T13:52:00.934881Z"
    },
    "papermill": {
     "duration": 0.032369,
     "end_time": "2023-12-13T13:52:00.937634",
     "exception": false,
     "start_time": "2023-12-13T13:52:00.905265",
     "status": "completed"
    },
    "tags": []
   },
   "outputs": [],
   "source": [
    "def train(train_dataloader, valid_dataloader, learing_rate_scheduler, epoch, display_step):\n",
    "    print(f\"Start epoch #{epoch+1}, learning rate for this epoch: {learing_rate_scheduler.get_last_lr()}\")\n",
    "    start_time = time.time()\n",
    "    train_loss_epoch = 0\n",
    "    test_loss_epoch = 0\n",
    "    last_loss = 999999999\n",
    "    model.train()\n",
    "    metrics_train = Evaluator(num_class=6)\n",
    "    metrics_val = Evaluator(num_class=6)\n",
    "\n",
    "    for i,input in enumerate(tqdm(train_dataloader)):\n",
    "        # Load data into GPU\n",
    "        data=input['img']\n",
    "        masks_true = input['gt_semantic_seg']\n",
    "        data,mask = data.to(device),masks_true.to(device)\n",
    "        optimizer.zero_grad()\n",
    "        prediction = model(data)\n",
    "        # Backpropagation, compute gradients\n",
    "        loss = loss_function(prediction, mask.long())\n",
    "        pre_mask = nn.Softmax(dim=1)(prediction)\n",
    "        pre_mask = pre_mask.argmax(dim=1)\n",
    "        for i in range(mask.shape[0]):\n",
    "            metrics_train.add_batch(mask[i].cpu().numpy(), pre_mask[i].cpu().numpy())\n",
    "        loss.backward()\n",
    "\n",
    "        # Apply gradients\n",
    "        optimizer.step()\n",
    "\n",
    "        # Save loss\n",
    "        train_loss_epoch += loss.item()\n",
    "    print(f\"Done epoch #{epoch+1}, time for this epoch: {time.time()-start_time}s\")\n",
    "    train_loss_epoch /= (i + 1)\n",
    "    mIoU = np.nanmean(metrics_train.Intersection_over_Union()[:-1])\n",
    "    F1 = np.nanmean(metrics_train.F1()[:-1])\n",
    "    OA = np.nanmean(metrics_train.OA())\n",
    "    iou_per_class = metrics_train.Intersection_over_Union()\n",
    "    train_eval_value =  (iou_per_class,mIoU,F1,OA)\n",
    "    metrics_train.reset()\n",
    "    # Evaluate the validation set\n",
    "    model.eval()\n",
    "    with torch.no_grad():\n",
    "        for k,input in enumerate(tqdm(valid_dataloader)):\n",
    "            data=input['img'].to(device)\n",
    "            mask = input['gt_semantic_seg'].to(device)\n",
    "            prediction = model(data)\n",
    "            test_loss = loss_function(prediction, mask.long())\n",
    "            pre_mask = nn.Softmax(dim=1)(prediction)\n",
    "            pre_mask = pre_mask.argmax(dim=1)\n",
    "            test_loss_epoch += test_loss.item()\n",
    "            if k<=3:\n",
    "            # Convert predictions to 2D array\n",
    "                predictions_2d = pre_mask[0].cpu().numpy()  # Assuming you want the first prediction\n",
    "\n",
    "            # Convert ground truth masks to 2D array\n",
    "                masks_true_2d = mask[0].cpu().numpy()  # Assuming you want the first ground truth mask\n",
    "\n",
    "            # Convert to np.int8 if needed\n",
    "                predictions_2d = predictions_2d.astype(np.int8)\n",
    "                masks_true_2d = masks_true_2d.astype(np.int8)\n",
    "                wandb.log(\n",
    "      {f\"val_image{k}\" : wandb.Image(data[0], masks={\n",
    "        \"predictions\" : {\n",
    "            \"mask_data\" : predictions_2d,\n",
    "            \"class_labels\" : class_label\n",
    "        },\n",
    "        \"ground_truth\" : {\n",
    "            \"mask_data\" : masks_true_2d,\n",
    "            \"class_labels\" : class_label\n",
    "        }\n",
    "    })})\n",
    "            for i in range(mask.shape[0]):\n",
    "                metrics_val.add_batch(mask[i].cpu().numpy(), pre_mask[i].cpu().numpy())\n",
    "    test_loss_epoch /= (i + 1)\n",
    "    mIoU = np.nanmean(metrics_val.Intersection_over_Union()[:-1])\n",
    "    F1 = np.nanmean(metrics_val.F1()[:-1])\n",
    "    OA = np.nanmean(metrics_val.OA())\n",
    "    iou_per_class_val = metrics_val.Intersection_over_Union()\n",
    "    eval_value =  (iou_per_class_val,mIoU,F1,OA)\n",
    "    print(eval_value)\n",
    "    metrics_val.reset()\n",
    "    return train_loss_epoch, train_eval_value, test_loss_epoch, eval_value\n"
   ]
  },
  {
   "cell_type": "markdown",
   "id": "ad2500b7",
   "metadata": {
    "papermill": {
     "duration": 0.010997,
     "end_time": "2023-12-13T13:52:00.960131",
     "exception": false,
     "start_time": "2023-12-13T13:52:00.949134",
     "status": "completed"
    },
    "tags": []
   },
   "source": [
    "**Test model**"
   ]
  },
  {
   "cell_type": "code",
   "execution_count": 17,
   "id": "f224f52a",
   "metadata": {
    "execution": {
     "iopub.execute_input": "2023-12-13T13:52:00.983673Z",
     "iopub.status.busy": "2023-12-13T13:52:00.983329Z",
     "iopub.status.idle": "2023-12-13T13:52:00.988860Z",
     "shell.execute_reply": "2023-12-13T13:52:00.988022Z"
    },
    "papermill": {
     "duration": 0.019564,
     "end_time": "2023-12-13T13:52:00.990770",
     "exception": false,
     "start_time": "2023-12-13T13:52:00.971206",
     "status": "completed"
    },
    "tags": []
   },
   "outputs": [
    {
     "data": {
      "text/plain": [
       "device(type='cuda')"
      ]
     },
     "execution_count": 17,
     "metadata": {},
     "output_type": "execute_result"
    }
   ],
   "source": [
    "device"
   ]
  },
  {
   "cell_type": "code",
   "execution_count": 18,
   "id": "4aa605c8",
   "metadata": {
    "execution": {
     "iopub.execute_input": "2023-12-13T13:52:01.014299Z",
     "iopub.status.busy": "2023-12-13T13:52:01.014038Z",
     "iopub.status.idle": "2023-12-13T13:52:04.498688Z",
     "shell.execute_reply": "2023-12-13T13:52:04.497713Z"
    },
    "papermill": {
     "duration": 3.499116,
     "end_time": "2023-12-13T13:52:04.501109",
     "exception": false,
     "start_time": "2023-12-13T13:52:01.001993",
     "status": "completed"
    },
    "tags": []
   },
   "outputs": [
    {
     "data": {
      "text/plain": [
       "BANet(\n",
       "  (cp): DependencyPath(\n",
       "    (ResT): ResT(\n",
       "      (stem): BasicStem(\n",
       "        (conv1): Conv2d(3, 32, kernel_size=(3, 3), stride=(2, 2), padding=(1, 1), bias=False)\n",
       "        (norm1): BatchNorm2d(32, eps=1e-05, momentum=0.1, affine=True, track_running_stats=True)\n",
       "        (conv2): Conv2d(32, 32, kernel_size=(3, 3), stride=(1, 1), padding=(1, 1), bias=False)\n",
       "        (norm2): BatchNorm2d(32, eps=1e-05, momentum=0.1, affine=True, track_running_stats=True)\n",
       "        (conv3): Conv2d(32, 64, kernel_size=(3, 3), stride=(2, 2), padding=(1, 1), bias=False)\n",
       "        (act): ReLU(inplace=True)\n",
       "        (pos): PA(\n",
       "          (pa_conv): Conv2d(64, 64, kernel_size=(3, 3), stride=(1, 1), padding=(1, 1), groups=64)\n",
       "          (sigmoid): Sigmoid()\n",
       "        )\n",
       "      )\n",
       "      (patch_embed_2): PatchEmbed(\n",
       "        (conv): Conv2d(64, 128, kernel_size=(3, 3), stride=(2, 2), padding=(1, 1))\n",
       "        (norm): BatchNorm2d(128, eps=1e-05, momentum=0.1, affine=True, track_running_stats=True)\n",
       "        (pos): PA(\n",
       "          (pa_conv): Conv2d(128, 128, kernel_size=(3, 3), stride=(1, 1), padding=(1, 1), groups=128)\n",
       "          (sigmoid): Sigmoid()\n",
       "        )\n",
       "      )\n",
       "      (patch_embed_3): PatchEmbed(\n",
       "        (conv): Conv2d(128, 256, kernel_size=(3, 3), stride=(2, 2), padding=(1, 1))\n",
       "        (norm): BatchNorm2d(256, eps=1e-05, momentum=0.1, affine=True, track_running_stats=True)\n",
       "        (pos): PA(\n",
       "          (pa_conv): Conv2d(256, 256, kernel_size=(3, 3), stride=(1, 1), padding=(1, 1), groups=256)\n",
       "          (sigmoid): Sigmoid()\n",
       "        )\n",
       "      )\n",
       "      (patch_embed_4): PatchEmbed(\n",
       "        (conv): Conv2d(256, 512, kernel_size=(3, 3), stride=(2, 2), padding=(1, 1))\n",
       "        (norm): BatchNorm2d(512, eps=1e-05, momentum=0.1, affine=True, track_running_stats=True)\n",
       "        (pos): PA(\n",
       "          (pa_conv): Conv2d(512, 512, kernel_size=(3, 3), stride=(1, 1), padding=(1, 1), groups=512)\n",
       "          (sigmoid): Sigmoid()\n",
       "        )\n",
       "      )\n",
       "      (stage1): ModuleList(\n",
       "        (0-1): 2 x Block(\n",
       "          (norm1): LayerNorm((64,), eps=1e-05, elementwise_affine=True)\n",
       "          (attn): Attention(\n",
       "            (q): Linear(in_features=64, out_features=64, bias=True)\n",
       "            (kv): Linear(in_features=64, out_features=128, bias=True)\n",
       "            (attn_drop): Dropout(p=0.0, inplace=False)\n",
       "            (proj): Linear(in_features=64, out_features=64, bias=True)\n",
       "            (proj_drop): Dropout(p=0.0, inplace=False)\n",
       "            (sr): Conv2d(64, 64, kernel_size=(9, 9), stride=(8, 8), padding=(4, 4), groups=64)\n",
       "            (sr_norm): LayerNorm((64,), eps=1e-05, elementwise_affine=True)\n",
       "          )\n",
       "          (drop_path): Identity()\n",
       "          (norm2): LayerNorm((64,), eps=1e-05, elementwise_affine=True)\n",
       "          (mlp): Mlp(\n",
       "            (fc1): Linear(in_features=64, out_features=256, bias=True)\n",
       "            (act): GELU(approximate='none')\n",
       "            (fc2): Linear(in_features=256, out_features=64, bias=True)\n",
       "            (drop): Dropout(p=0.0, inplace=False)\n",
       "          )\n",
       "        )\n",
       "      )\n",
       "      (stage2): ModuleList(\n",
       "        (0-1): 2 x Block(\n",
       "          (norm1): LayerNorm((128,), eps=1e-05, elementwise_affine=True)\n",
       "          (attn): Attention(\n",
       "            (q): Linear(in_features=128, out_features=128, bias=True)\n",
       "            (kv): Linear(in_features=128, out_features=256, bias=True)\n",
       "            (attn_drop): Dropout(p=0.0, inplace=False)\n",
       "            (proj): Linear(in_features=128, out_features=128, bias=True)\n",
       "            (proj_drop): Dropout(p=0.0, inplace=False)\n",
       "            (sr): Conv2d(128, 128, kernel_size=(5, 5), stride=(4, 4), padding=(2, 2), groups=128)\n",
       "            (sr_norm): LayerNorm((128,), eps=1e-05, elementwise_affine=True)\n",
       "            (transform_conv): Conv2d(2, 2, kernel_size=(1, 1), stride=(1, 1))\n",
       "            (transform_norm): InstanceNorm2d(2, eps=1e-05, momentum=0.1, affine=False, track_running_stats=False)\n",
       "          )\n",
       "          (drop_path): Identity()\n",
       "          (norm2): LayerNorm((128,), eps=1e-05, elementwise_affine=True)\n",
       "          (mlp): Mlp(\n",
       "            (fc1): Linear(in_features=128, out_features=512, bias=True)\n",
       "            (act): GELU(approximate='none')\n",
       "            (fc2): Linear(in_features=512, out_features=128, bias=True)\n",
       "            (drop): Dropout(p=0.0, inplace=False)\n",
       "          )\n",
       "        )\n",
       "      )\n",
       "      (stage3): ModuleList(\n",
       "        (0-1): 2 x Block(\n",
       "          (norm1): LayerNorm((256,), eps=1e-05, elementwise_affine=True)\n",
       "          (attn): Attention(\n",
       "            (q): Linear(in_features=256, out_features=256, bias=True)\n",
       "            (kv): Linear(in_features=256, out_features=512, bias=True)\n",
       "            (attn_drop): Dropout(p=0.0, inplace=False)\n",
       "            (proj): Linear(in_features=256, out_features=256, bias=True)\n",
       "            (proj_drop): Dropout(p=0.0, inplace=False)\n",
       "            (sr): Conv2d(256, 256, kernel_size=(3, 3), stride=(2, 2), padding=(1, 1), groups=256)\n",
       "            (sr_norm): LayerNorm((256,), eps=1e-05, elementwise_affine=True)\n",
       "            (transform_conv): Conv2d(4, 4, kernel_size=(1, 1), stride=(1, 1))\n",
       "            (transform_norm): InstanceNorm2d(4, eps=1e-05, momentum=0.1, affine=False, track_running_stats=False)\n",
       "          )\n",
       "          (drop_path): Identity()\n",
       "          (norm2): LayerNorm((256,), eps=1e-05, elementwise_affine=True)\n",
       "          (mlp): Mlp(\n",
       "            (fc1): Linear(in_features=256, out_features=1024, bias=True)\n",
       "            (act): GELU(approximate='none')\n",
       "            (fc2): Linear(in_features=1024, out_features=256, bias=True)\n",
       "            (drop): Dropout(p=0.0, inplace=False)\n",
       "          )\n",
       "        )\n",
       "      )\n",
       "      (stage4): ModuleList(\n",
       "        (0-1): 2 x Block(\n",
       "          (norm1): LayerNorm((512,), eps=1e-05, elementwise_affine=True)\n",
       "          (attn): Attention(\n",
       "            (q): Linear(in_features=512, out_features=512, bias=True)\n",
       "            (kv): Linear(in_features=512, out_features=1024, bias=True)\n",
       "            (attn_drop): Dropout(p=0.0, inplace=False)\n",
       "            (proj): Linear(in_features=512, out_features=512, bias=True)\n",
       "            (proj_drop): Dropout(p=0.0, inplace=False)\n",
       "            (transform_conv): Conv2d(8, 8, kernel_size=(1, 1), stride=(1, 1))\n",
       "            (transform_norm): InstanceNorm2d(8, eps=1e-05, momentum=0.1, affine=False, track_running_stats=False)\n",
       "          )\n",
       "          (drop_path): Identity()\n",
       "          (norm2): LayerNorm((512,), eps=1e-05, elementwise_affine=True)\n",
       "          (mlp): Mlp(\n",
       "            (fc1): Linear(in_features=512, out_features=2048, bias=True)\n",
       "            (act): GELU(approximate='none')\n",
       "            (fc2): Linear(in_features=2048, out_features=512, bias=True)\n",
       "            (drop): Dropout(p=0.0, inplace=False)\n",
       "          )\n",
       "        )\n",
       "      )\n",
       "      (norm): LayerNorm((512,), eps=1e-05, elementwise_affine=True)\n",
       "    )\n",
       "    (AE): Attention_Embedding(\n",
       "      (attention): LinearAttention(\n",
       "        (query_conv): Conv2d(512, 64, kernel_size=(1, 1), stride=(1, 1))\n",
       "        (key_conv): Conv2d(512, 64, kernel_size=(1, 1), stride=(1, 1))\n",
       "        (value_conv): Conv2d(512, 512, kernel_size=(1, 1), stride=(1, 1))\n",
       "      )\n",
       "      (conv_attn): ConvBNReLU(\n",
       "        (conv): Conv2d(512, 256, kernel_size=(3, 3), stride=(1, 1), padding=(1, 1), bias=False)\n",
       "        (bn): BatchNorm2d(256, eps=1e-05, momentum=0.1, affine=True, track_running_stats=True)\n",
       "        (relu): ReLU(inplace=True)\n",
       "      )\n",
       "      (up): UpSample(\n",
       "        (proj): Conv2d(256, 1024, kernel_size=(1, 1), stride=(1, 1))\n",
       "        (up): PixelShuffle(upscale_factor=2)\n",
       "      )\n",
       "    )\n",
       "    (conv_avg): ConvBNReLU(\n",
       "      (conv): Conv2d(256, 128, kernel_size=(1, 1), stride=(1, 1), bias=False)\n",
       "      (bn): BatchNorm2d(128, eps=1e-05, momentum=0.1, affine=True, track_running_stats=True)\n",
       "      (relu): ReLU(inplace=True)\n",
       "    )\n",
       "    (up): Upsample(scale_factor=2.0, mode='nearest')\n",
       "  )\n",
       "  (sp): TexturePath(\n",
       "    (conv1): ConvBNReLU(\n",
       "      (conv): Conv2d(3, 64, kernel_size=(7, 7), stride=(2, 2), padding=(3, 3), bias=False)\n",
       "      (bn): BatchNorm2d(64, eps=1e-05, momentum=0.1, affine=True, track_running_stats=True)\n",
       "      (relu): ReLU(inplace=True)\n",
       "    )\n",
       "    (conv2): ConvBNReLU(\n",
       "      (conv): Conv2d(64, 64, kernel_size=(3, 3), stride=(2, 2), padding=(1, 1), bias=False)\n",
       "      (bn): BatchNorm2d(64, eps=1e-05, momentum=0.1, affine=True, track_running_stats=True)\n",
       "      (relu): ReLU(inplace=True)\n",
       "    )\n",
       "    (conv3): ConvBNReLU(\n",
       "      (conv): Conv2d(64, 64, kernel_size=(3, 3), stride=(2, 2), padding=(1, 1), bias=False)\n",
       "      (bn): BatchNorm2d(64, eps=1e-05, momentum=0.1, affine=True, track_running_stats=True)\n",
       "      (relu): ReLU(inplace=True)\n",
       "    )\n",
       "    (conv_out): ConvBNReLU(\n",
       "      (conv): Conv2d(64, 128, kernel_size=(1, 1), stride=(1, 1), bias=False)\n",
       "      (bn): BatchNorm2d(128, eps=1e-05, momentum=0.1, affine=True, track_running_stats=True)\n",
       "      (relu): ReLU(inplace=True)\n",
       "    )\n",
       "  )\n",
       "  (fam): FeatureAggregationModule(\n",
       "    (convblk): ConvBNReLU(\n",
       "      (conv): Conv2d(256, 256, kernel_size=(1, 1), stride=(1, 1), bias=False)\n",
       "      (bn): BatchNorm2d(256, eps=1e-05, momentum=0.1, affine=True, track_running_stats=True)\n",
       "      (relu): ReLU(inplace=True)\n",
       "    )\n",
       "    (conv_atten): LinearAttention(\n",
       "      (query_conv): Conv2d(256, 32, kernel_size=(1, 1), stride=(1, 1))\n",
       "      (key_conv): Conv2d(256, 32, kernel_size=(1, 1), stride=(1, 1))\n",
       "      (value_conv): Conv2d(256, 256, kernel_size=(1, 1), stride=(1, 1))\n",
       "    )\n",
       "  )\n",
       "  (conv_out): Output(\n",
       "    (conv): ConvBNReLU(\n",
       "      (conv): Conv2d(256, 256, kernel_size=(3, 3), stride=(1, 1), padding=(1, 1), bias=False)\n",
       "      (bn): BatchNorm2d(256, eps=1e-05, momentum=0.1, affine=True, track_running_stats=True)\n",
       "      (relu): ReLU(inplace=True)\n",
       "    )\n",
       "    (conv_out): Conv2d(256, 384, kernel_size=(1, 1), stride=(1, 1))\n",
       "    (up): PixelShuffle(upscale_factor=8)\n",
       "  )\n",
       ")"
      ]
     },
     "execution_count": 18,
     "metadata": {},
     "output_type": "execute_result"
    }
   ],
   "source": [
    "model = BANet(6)\n",
    "model.to(device)"
   ]
  },
  {
   "cell_type": "code",
   "execution_count": 19,
   "id": "13e0a15f",
   "metadata": {
    "execution": {
     "iopub.execute_input": "2023-12-13T13:52:04.526239Z",
     "iopub.status.busy": "2023-12-13T13:52:04.525920Z",
     "iopub.status.idle": "2023-12-13T13:52:04.530977Z",
     "shell.execute_reply": "2023-12-13T13:52:04.530069Z"
    },
    "papermill": {
     "duration": 0.019627,
     "end_time": "2023-12-13T13:52:04.532818",
     "exception": false,
     "start_time": "2023-12-13T13:52:04.513191",
     "status": "completed"
    },
    "tags": []
   },
   "outputs": [
    {
     "name": "stdout",
     "output_type": "stream",
     "text": [
      "CUDA is available.\n"
     ]
    }
   ],
   "source": [
    "import torch\n",
    "\n",
    "# Check if CUDA is available\n",
    "if torch.cuda.is_available():\n",
    "    # Use GPU-accelerated PyTorch functions here\n",
    "    print(\"CUDA is available.\")\n",
    "else:\n",
    "    print(\"CUDA is not available.\")"
   ]
  },
  {
   "cell_type": "code",
   "execution_count": 20,
   "id": "c8257118",
   "metadata": {
    "execution": {
     "iopub.execute_input": "2023-12-13T13:52:04.557261Z",
     "iopub.status.busy": "2023-12-13T13:52:04.557011Z",
     "iopub.status.idle": "2023-12-13T13:52:04.563267Z",
     "shell.execute_reply": "2023-12-13T13:52:04.562449Z"
    },
    "papermill": {
     "duration": 0.020699,
     "end_time": "2023-12-13T13:52:04.565184",
     "exception": false,
     "start_time": "2023-12-13T13:52:04.544485",
     "status": "completed"
    },
    "tags": []
   },
   "outputs": [],
   "source": [
    "\n",
    "loss_function = UnetLoss(ignore_index=6)\n",
    "# Define the optimizer (Adam optimizer)\n",
    "optimizer = optim.Adam(params=model.parameters(), lr=learning_rate)\n",
    "# optimizer.load_state_dict(checkpoint['optimizer'])\n",
    "\n",
    "# Learning rate scheduler\n",
    "learing_rate_scheduler = lr_scheduler.StepLR(optimizer, step_size=4, gamma=0.6)"
   ]
  },
  {
   "cell_type": "code",
   "execution_count": 21,
   "id": "9ccbc026",
   "metadata": {
    "execution": {
     "iopub.execute_input": "2023-12-13T13:52:04.589502Z",
     "iopub.status.busy": "2023-12-13T13:52:04.589243Z",
     "iopub.status.idle": "2023-12-13T13:52:04.684083Z",
     "shell.execute_reply": "2023-12-13T13:52:04.683175Z"
    },
    "papermill": {
     "duration": 0.109573,
     "end_time": "2023-12-13T13:52:04.686400",
     "exception": false,
     "start_time": "2023-12-13T13:52:04.576827",
     "status": "completed"
    },
    "tags": []
   },
   "outputs": [],
   "source": [
    "save_model(model, optimizer, checkpoint_path)\n",
    "load_checkpoint_flag=False"
   ]
  },
  {
   "cell_type": "code",
   "execution_count": 22,
   "id": "ae38b7d5",
   "metadata": {
    "execution": {
     "iopub.execute_input": "2023-12-13T13:52:04.711427Z",
     "iopub.status.busy": "2023-12-13T13:52:04.711138Z",
     "iopub.status.idle": "2023-12-13T13:52:04.714778Z",
     "shell.execute_reply": "2023-12-13T13:52:04.713935Z"
    },
    "papermill": {
     "duration": 0.018187,
     "end_time": "2023-12-13T13:52:04.716659",
     "exception": false,
     "start_time": "2023-12-13T13:52:04.698472",
     "status": "completed"
    },
    "tags": []
   },
   "outputs": [],
   "source": [
    "# print(\"Model keys:\")\n",
    "# print(model.state_dict().keys())\n",
    "\n",
    "# print(\"\\nCheckpoint keys:\")\n",
    "# print(checkpoint['model'].keys())\n"
   ]
  },
  {
   "cell_type": "code",
   "execution_count": 23,
   "id": "a67984b4",
   "metadata": {
    "execution": {
     "iopub.execute_input": "2023-12-13T13:52:04.741037Z",
     "iopub.status.busy": "2023-12-13T13:52:04.740790Z",
     "iopub.status.idle": "2023-12-13T13:52:04.744783Z",
     "shell.execute_reply": "2023-12-13T13:52:04.744004Z"
    },
    "papermill": {
     "duration": 0.018399,
     "end_time": "2023-12-13T13:52:04.746637",
     "exception": false,
     "start_time": "2023-12-13T13:52:04.728238",
     "status": "completed"
    },
    "tags": []
   },
   "outputs": [],
   "source": [
    "# Load the model checkpoint if needed\n",
    "# Load the model checkpoint if needed\n",
    "if load_checkpoint_flag:\n",
    "    model, optimize= load_model(model, optimizer, pretrained_path)\n",
    "    \n"
   ]
  },
  {
   "cell_type": "code",
   "execution_count": 24,
   "id": "31571000",
   "metadata": {
    "execution": {
     "iopub.execute_input": "2023-12-13T13:52:04.771080Z",
     "iopub.status.busy": "2023-12-13T13:52:04.770842Z",
     "iopub.status.idle": "2023-12-13T17:51:37.505070Z",
     "shell.execute_reply": "2023-12-13T17:51:37.503698Z"
    },
    "papermill": {
     "duration": 14372.750106,
     "end_time": "2023-12-13T17:51:37.508447",
     "exception": false,
     "start_time": "2023-12-13T13:52:04.758341",
     "status": "completed"
    },
    "tags": []
   },
   "outputs": [
    {
     "name": "stderr",
     "output_type": "stream",
     "text": [
      "\u001b[34m\u001b[1mwandb\u001b[0m: W&B API key is configured. Use \u001b[1m`wandb login --relogin`\u001b[0m to force relogin\n",
      "\u001b[34m\u001b[1mwandb\u001b[0m: \u001b[33mWARNING\u001b[0m If you're specifying your api key in code, ensure this code is not shared publicly.\n",
      "\u001b[34m\u001b[1mwandb\u001b[0m: \u001b[33mWARNING\u001b[0m Consider setting the WANDB_API_KEY environment variable, or running `wandb login` from the command line.\n",
      "\u001b[34m\u001b[1mwandb\u001b[0m: Appending key for api.wandb.ai to your netrc file: /root/.netrc\n",
      "\u001b[34m\u001b[1mwandb\u001b[0m: Currently logged in as: \u001b[33mpqnh\u001b[0m (\u001b[33mhoangpqn\u001b[0m). Use \u001b[1m`wandb login --relogin`\u001b[0m to force relogin\n",
      "\u001b[34m\u001b[1mwandb\u001b[0m: Tracking run with wandb version 0.16.1\n",
      "\u001b[34m\u001b[1mwandb\u001b[0m: Run data is saved locally in \u001b[35m\u001b[1m/kaggle/working/wandb/run-20231213_135206-ugraobxt\u001b[0m\n",
      "\u001b[34m\u001b[1mwandb\u001b[0m: Run \u001b[1m`wandb offline`\u001b[0m to turn off syncing.\n",
      "\u001b[34m\u001b[1mwandb\u001b[0m: Syncing run \u001b[33mhelpful-sun-36\u001b[0m\n",
      "\u001b[34m\u001b[1mwandb\u001b[0m: ⭐️ View project at \u001b[34m\u001b[4mhttps://wandb.ai/hoangpqn/test_hang%20\u001b[0m\n",
      "\u001b[34m\u001b[1mwandb\u001b[0m: 🚀 View run at \u001b[34m\u001b[4mhttps://wandb.ai/hoangpqn/test_hang%20/runs/ugraobxt\u001b[0m\n"
     ]
    },
    {
     "name": "stdout",
     "output_type": "stream",
     "text": [
      "Start epoch #1, learning rate for this epoch: [0.0008]\n"
     ]
    },
    {
     "name": "stderr",
     "output_type": "stream",
     "text": [
      "100%|██████████| 624/624 [03:03<00:00,  3.40it/s]\n"
     ]
    },
    {
     "name": "stdout",
     "output_type": "stream",
     "text": [
      "Done epoch #1, time for this epoch: 183.57556009292603s\n"
     ]
    },
    {
     "name": "stderr",
     "output_type": "stream",
     "text": [
      "100%|██████████| 175/175 [00:34<00:00,  5.01it/s]\n"
     ]
    },
    {
     "name": "stdout",
     "output_type": "stream",
     "text": [
      "(array([0.39384904, 0.50719456, 0.33161485, 0.3148981 , 0.29764598,\n",
      "       0.05786487]), 0.3690405061412124, 0.5347874141844206, 0.5444063185276269)\n",
      "train: {'mIoU': 0.3810025356306016, 'F1': 0.5454606347955789, 'OA': 0.5722231956628653}\n",
      "{'ImSurf': 0.46209734108743017, 'Building': 0.4744698451684871, 'LowVeg': 0.42102086003581024, 'Tree': 0.2574238263132162, 'Car': 0.29000080554806434, 'Clutter': 0.010898879217628004}\n",
      "val: {'mIoU': 0.3690405061412124, 'F1': 0.5347874141844206, 'OA': 0.5444063185276269}\n",
      "{'ImSurf': 0.3938490392781234, 'Building': 0.5071945649745723, 'LowVeg': 0.33161485393588863, 'Tree': 0.31489809518690504, 'Car': 0.2976459773305728, 'Clutter': 0.057864866260616016}\n",
      "Epoch 1: loss: 141.9522, train accuracy: 0.5722, valid accuracy:0.5444\n",
      "Start epoch #2, learning rate for this epoch: [0.0008]\n"
     ]
    },
    {
     "name": "stderr",
     "output_type": "stream",
     "text": [
      "100%|██████████| 624/624 [02:08<00:00,  4.87it/s]\n"
     ]
    },
    {
     "name": "stdout",
     "output_type": "stream",
     "text": [
      "Done epoch #2, time for this epoch: 128.22397899627686s\n"
     ]
    },
    {
     "name": "stderr",
     "output_type": "stream",
     "text": [
      "100%|██████████| 175/175 [00:24<00:00,  7.16it/s]\n"
     ]
    },
    {
     "name": "stdout",
     "output_type": "stream",
     "text": [
      "(array([0.56063128, 0.56058699, 0.5196689 , 0.37209989, 0.45399717,\n",
      "       0.10449872]), 0.4933968460971457, 0.6575367559970181, 0.6637322945468132)\n",
      "train: {'mIoU': 0.45027549076143203, 'F1': 0.6175638583281751, 'OA': 0.6237481954770211}\n",
      "{'ImSurf': 0.5034042287000542, 'Building': 0.5333109001975083, 'LowVeg': 0.46842587951340825, 'Tree': 0.3335640164617334, 'Car': 0.41267242893445594, 'Clutter': 0.09932976411488169}\n",
      "val: {'mIoU': 0.4933968460971457, 'F1': 0.6575367559970181, 'OA': 0.6637322945468132}\n",
      "{'ImSurf': 0.5606312802231925, 'Building': 0.560586991261613, 'LowVeg': 0.5196689015961754, 'Tree': 0.3720998889820785, 'Car': 0.4539971684226691, 'Clutter': 0.10449872324673905}\n",
      "Epoch 2: loss: 129.0676, train accuracy: 0.6237, valid accuracy:0.6637\n",
      "Start epoch #3, learning rate for this epoch: [0.0008]\n"
     ]
    },
    {
     "name": "stderr",
     "output_type": "stream",
     "text": [
      "100%|██████████| 624/624 [02:06<00:00,  4.93it/s]\n"
     ]
    },
    {
     "name": "stdout",
     "output_type": "stream",
     "text": [
      "Done epoch #3, time for this epoch: 126.63377785682678s\n"
     ]
    },
    {
     "name": "stderr",
     "output_type": "stream",
     "text": [
      "100%|██████████| 175/175 [00:24<00:00,  7.22it/s]\n"
     ]
    },
    {
     "name": "stdout",
     "output_type": "stream",
     "text": [
      "(array([0.56648486, 0.63577611, 0.53337742, 0.4099267 , 0.47319937,\n",
      "       0.13716027]), 0.5237528888744598, 0.6840363164408938, 0.6898547280031574)\n",
      "train: {'mIoU': 0.47684682906249576, 'F1': 0.6430771177537281, 'OA': 0.6442234974641067}\n",
      "{'ImSurf': 0.5207019908955882, 'Building': 0.5616451790385374, 'LowVeg': 0.4796601155244443, 'Tree': 0.3698246004014913, 'Car': 0.4524022594524173, 'Clutter': 0.1450860827876089}\n",
      "val: {'mIoU': 0.5237528888744598, 'F1': 0.6840363164408938, 'OA': 0.6898547280031574}\n",
      "{'ImSurf': 0.5664848576541057, 'Building': 0.6357761078656242, 'LowVeg': 0.5333774171981034, 'Tree': 0.40992669569639917, 'Car': 0.4731993659580665, 'Clutter': 0.13716026583804228}\n",
      "Epoch 3: loss: 124.4654, train accuracy: 0.6442, valid accuracy:0.6899\n",
      "Start epoch #4, learning rate for this epoch: [0.0008]\n"
     ]
    },
    {
     "name": "stderr",
     "output_type": "stream",
     "text": [
      "100%|██████████| 624/624 [02:05<00:00,  4.99it/s]\n"
     ]
    },
    {
     "name": "stdout",
     "output_type": "stream",
     "text": [
      "Done epoch #4, time for this epoch: 125.17748928070068s\n"
     ]
    },
    {
     "name": "stderr",
     "output_type": "stream",
     "text": [
      "100%|██████████| 175/175 [00:23<00:00,  7.40it/s]\n"
     ]
    },
    {
     "name": "stdout",
     "output_type": "stream",
     "text": [
      "(array([0.54244968, 0.63666836, 0.53247051, 0.32816287, 0.53519052,\n",
      "       0.15967875]), 0.5149883867366358, 0.6735350143892287, 0.6765621209949019)\n",
      "train: {'mIoU': 0.49733027306680694, 'F1': 0.6618585948916709, 'OA': 0.6603460678687463}\n",
      "{'ImSurf': 0.5387739988825647, 'Building': 0.5818993570605808, 'LowVeg': 0.4905548410189886, 'Tree': 0.393056234393802, 'Car': 0.4823669339780988, 'Clutter': 0.1713614537844636}\n",
      "val: {'mIoU': 0.5149883867366358, 'F1': 0.6735350143892287, 'OA': 0.6765621209949019}\n",
      "{'ImSurf': 0.5424496814437646, 'Building': 0.6366683581439785, 'LowVeg': 0.5324705099244585, 'Tree': 0.32816286575726433, 'Car': 0.5351905184137128, 'Clutter': 0.15967875006829294}\n",
      "Epoch 4: loss: 120.2140, train accuracy: 0.6603, valid accuracy:0.6766\n",
      "Start epoch #5, learning rate for this epoch: [0.00048]\n"
     ]
    },
    {
     "name": "stderr",
     "output_type": "stream",
     "text": [
      "100%|██████████| 624/624 [02:03<00:00,  5.05it/s]\n"
     ]
    },
    {
     "name": "stdout",
     "output_type": "stream",
     "text": [
      "Done epoch #5, time for this epoch: 123.49330830574036s\n"
     ]
    },
    {
     "name": "stderr",
     "output_type": "stream",
     "text": [
      "100%|██████████| 175/175 [00:26<00:00,  6.60it/s]\n"
     ]
    },
    {
     "name": "stdout",
     "output_type": "stream",
     "text": [
      "(array([0.57846529, 0.64260308, 0.51353342, 0.45396581, 0.53102203,\n",
      "       0.21415189]), 0.5439179245514879, 0.7024181177748823, 0.6949170749990184)\n",
      "train: {'mIoU': 0.521897795366632, 'F1': 0.6832973246724227, 'OA': 0.6805727787506886}\n",
      "{'ImSurf': 0.560814432240732, 'Building': 0.6084456962328982, 'LowVeg': 0.514467289459375, 'Tree': 0.40861733080609564, 'Car': 0.5171442280940594, 'Clutter': 0.19287514731670005}\n",
      "val: {'mIoU': 0.5439179245514879, 'F1': 0.7024181177748823, 'OA': 0.6949170749990184}\n",
      "{'ImSurf': 0.5784652915906325, 'Building': 0.6426030780659219, 'LowVeg': 0.5135334205300206, 'Tree': 0.45396580564528843, 'Car': 0.5310220269255757, 'Clutter': 0.2141518930228244}\n",
      "Epoch 5: loss: 115.3664, train accuracy: 0.6806, valid accuracy:0.6949\n",
      "Start epoch #6, learning rate for this epoch: [0.00048]\n"
     ]
    },
    {
     "name": "stderr",
     "output_type": "stream",
     "text": [
      "100%|██████████| 624/624 [02:05<00:00,  4.98it/s]\n"
     ]
    },
    {
     "name": "stdout",
     "output_type": "stream",
     "text": [
      "Done epoch #6, time for this epoch: 125.37967109680176s\n"
     ]
    },
    {
     "name": "stderr",
     "output_type": "stream",
     "text": [
      "100%|██████████| 175/175 [00:22<00:00,  7.66it/s]\n"
     ]
    },
    {
     "name": "stdout",
     "output_type": "stream",
     "text": [
      "(array([0.5551653 , 0.53362693, 0.27933102, 0.36710942, 0.35664988,\n",
      "       0.20700624]), 0.4183765101667234, 0.5818774983813322, 0.6015771234625975)\n",
      "train: {'mIoU': 0.5269578712749181, 'F1': 0.6877462178537671, 'OA': 0.6842262072440906}\n",
      "{'ImSurf': 0.5639742687416736, 'Building': 0.6134555544985963, 'LowVeg': 0.5177785329286339, 'Tree': 0.41557171845738466, 'Car': 0.5240092817483019, 'Clutter': 0.20952781079837923}\n",
      "val: {'mIoU': 0.4183765101667234, 'F1': 0.5818774983813322, 'OA': 0.6015771234625975}\n",
      "{'ImSurf': 0.5551653036974907, 'Building': 0.5336269348002863, 'LowVeg': 0.27933102034318397, 'Tree': 0.3671094154105251, 'Car': 0.3566498765821311, 'Clutter': 0.20700623877824456}\n",
      "Epoch 6: loss: 114.0237, train accuracy: 0.6842, valid accuracy:0.6016\n",
      "Start epoch #7, learning rate for this epoch: [0.00048]\n"
     ]
    },
    {
     "name": "stderr",
     "output_type": "stream",
     "text": [
      "100%|██████████| 624/624 [02:00<00:00,  5.16it/s]\n"
     ]
    },
    {
     "name": "stdout",
     "output_type": "stream",
     "text": [
      "Done epoch #7, time for this epoch: 120.98861718177795s\n"
     ]
    },
    {
     "name": "stderr",
     "output_type": "stream",
     "text": [
      "100%|██████████| 175/175 [00:23<00:00,  7.49it/s]\n"
     ]
    },
    {
     "name": "stdout",
     "output_type": "stream",
     "text": [
      "(array([0.58085102, 0.58803596, 0.56701188, 0.38467518, 0.5632805 ,\n",
      "       0.21662939]), 0.5367709058975747, 0.6950767601632679, 0.6935939528663124)\n",
      "train: {'mIoU': 0.5379328385339275, 'F1': 0.6969514581322318, 'OA': 0.6938470021272317}\n",
      "{'ImSurf': 0.5733086407108674, 'Building': 0.6310549663574812, 'LowVeg': 0.5251575216697367, 'Tree': 0.42371485615521287, 'Car': 0.5364282077763394, 'Clutter': 0.22528085213150134}\n",
      "val: {'mIoU': 0.5367709058975747, 'F1': 0.6950767601632679, 'OA': 0.6935939528663124}\n",
      "{'ImSurf': 0.5808510154105826, 'Building': 0.5880359562777735, 'LowVeg': 0.5670118829803034, 'Tree': 0.3846751782295019, 'Car': 0.5632804965897119, 'Clutter': 0.21662939336425208}\n",
      "Epoch 7: loss: 111.8693, train accuracy: 0.6938, valid accuracy:0.6936\n",
      "Start epoch #8, learning rate for this epoch: [0.00048]\n"
     ]
    },
    {
     "name": "stderr",
     "output_type": "stream",
     "text": [
      "100%|██████████| 624/624 [02:00<00:00,  5.18it/s]\n"
     ]
    },
    {
     "name": "stdout",
     "output_type": "stream",
     "text": [
      "Done epoch #8, time for this epoch: 120.56156778335571s\n"
     ]
    },
    {
     "name": "stderr",
     "output_type": "stream",
     "text": [
      "100%|██████████| 175/175 [00:22<00:00,  7.83it/s]\n"
     ]
    },
    {
     "name": "stdout",
     "output_type": "stream",
     "text": [
      "(array([0.583586  , 0.64561136, 0.56098834, 0.46054275, 0.54662341,\n",
      "       0.23280736]), 0.5594703715151531, 0.7155913460744553, 0.7097042984698884)\n",
      "train: {'mIoU': 0.5397240438346567, 'F1': 0.6984400663316145, 'OA': 0.6953738469343919}\n",
      "{'ImSurf': 0.576526572958718, 'Building': 0.6295025562127663, 'LowVeg': 0.5276012206284877, 'Tree': 0.42252021154351654, 'Car': 0.5424696578297952, 'Clutter': 0.24108071214939342}\n",
      "val: {'mIoU': 0.5594703715151531, 'F1': 0.7155913460744553, 'OA': 0.7097042984698884}\n",
      "{'ImSurf': 0.5835860009907305, 'Building': 0.6456113587606879, 'LowVeg': 0.5609883381586915, 'Tree': 0.4605427532936883, 'Car': 0.5466234063719669, 'Clutter': 0.23280735663726737}\n",
      "Epoch 8: loss: 111.6112, train accuracy: 0.6954, valid accuracy:0.7097\n",
      "Start epoch #9, learning rate for this epoch: [0.000288]\n"
     ]
    },
    {
     "name": "stderr",
     "output_type": "stream",
     "text": [
      "100%|██████████| 624/624 [01:59<00:00,  5.22it/s]\n"
     ]
    },
    {
     "name": "stdout",
     "output_type": "stream",
     "text": [
      "Done epoch #9, time for this epoch: 119.59608554840088s\n"
     ]
    },
    {
     "name": "stderr",
     "output_type": "stream",
     "text": [
      "100%|██████████| 175/175 [00:22<00:00,  7.62it/s]\n"
     ]
    },
    {
     "name": "stdout",
     "output_type": "stream",
     "text": [
      "(array([0.61215585, 0.67133429, 0.58155729, 0.38585504, 0.56879379,\n",
      "       0.25490065]), 0.5639392511533992, 0.7160365747778027, 0.7206961802245041)\n",
      "train: {'mIoU': 0.5588635894818015, 'F1': 0.7145003513003628, 'OA': 0.7107030183841021}\n",
      "{'ImSurf': 0.5945469293384685, 'Building': 0.654527527384887, 'LowVeg': 0.538910292225899, 'Tree': 0.4467839075934721, 'Car': 0.5595492908662809, 'Clutter': 0.25235050134573533}\n",
      "val: {'mIoU': 0.5639392511533992, 'F1': 0.7160365747778027, 'OA': 0.7206961802245041}\n",
      "{'ImSurf': 0.6121558480998261, 'Building': 0.6713342861531266, 'LowVeg': 0.581557291034138, 'Tree': 0.38585503850953945, 'Car': 0.5687937919703654, 'Clutter': 0.2549006491576815}\n",
      "Epoch 9: loss: 107.7635, train accuracy: 0.7107, valid accuracy:0.7207\n",
      "Start epoch #10, learning rate for this epoch: [0.000288]\n"
     ]
    },
    {
     "name": "stderr",
     "output_type": "stream",
     "text": [
      "100%|██████████| 624/624 [02:00<00:00,  5.19it/s]\n"
     ]
    },
    {
     "name": "stdout",
     "output_type": "stream",
     "text": [
      "Done epoch #10, time for this epoch: 120.14067554473877s\n"
     ]
    },
    {
     "name": "stderr",
     "output_type": "stream",
     "text": [
      "100%|██████████| 175/175 [00:22<00:00,  7.86it/s]\n"
     ]
    },
    {
     "name": "stdout",
     "output_type": "stream",
     "text": [
      "(array([0.60158571, 0.67323765, 0.57810255, 0.43252395, 0.5634278 ,\n",
      "       0.25077598]), 0.5697755301007736, 0.7226455508242865, 0.7230661341550104)\n",
      "train: {'mIoU': 0.5668964810319297, 'F1': 0.7210428035284249, 'OA': 0.7157879670461019}\n",
      "{'ImSurf': 0.5997485314387133, 'Building': 0.6625885476529556, 'LowVeg': 0.5470416530556302, 'Tree': 0.45147861946663903, 'Car': 0.5736250535457105, 'Clutter': 0.26378444043919586}\n",
      "val: {'mIoU': 0.5697755301007736, 'F1': 0.7226455508242865, 'OA': 0.7230661341550104}\n",
      "{'ImSurf': 0.6015857128907092, 'Building': 0.67323764811392, 'LowVeg': 0.5781025479009547, 'Tree': 0.4325239452362655, 'Car': 0.563427796362019, 'Clutter': 0.25077598086106556}\n",
      "Epoch 10: loss: 105.9742, train accuracy: 0.7158, valid accuracy:0.7231\n",
      "Start epoch #11, learning rate for this epoch: [0.000288]\n"
     ]
    },
    {
     "name": "stderr",
     "output_type": "stream",
     "text": [
      "100%|██████████| 624/624 [01:59<00:00,  5.20it/s]\n"
     ]
    },
    {
     "name": "stdout",
     "output_type": "stream",
     "text": [
      "Done epoch #11, time for this epoch: 119.90762710571289s\n"
     ]
    },
    {
     "name": "stderr",
     "output_type": "stream",
     "text": [
      "100%|██████████| 175/175 [00:22<00:00,  7.77it/s]\n"
     ]
    },
    {
     "name": "stdout",
     "output_type": "stream",
     "text": [
      "(array([0.59842835, 0.67603273, 0.5670478 , 0.46829525, 0.60824278,\n",
      "       0.28050282]), 0.5836093835344561, 0.7346948752792558, 0.7254060305713835)\n",
      "train: {'mIoU': 0.5674374223303585, 'F1': 0.7216778797899391, 'OA': 0.7154238529694386}\n",
      "{'ImSurf': 0.5977259416240738, 'Building': 0.6572993030895278, 'LowVeg': 0.5508387028858397, 'Tree': 0.4544428686581116, 'Car': 0.5768802953942397, 'Clutter': 0.2444453800719364}\n",
      "val: {'mIoU': 0.5836093835344561, 'F1': 0.7346948752792558, 'OA': 0.7254060305713835}\n",
      "{'ImSurf': 0.5984283524974193, 'Building': 0.676032729572266, 'LowVeg': 0.5670477982530079, 'Tree': 0.46829525442742137, 'Car': 0.6082427829221664, 'Clutter': 0.2805028209233414}\n",
      "Epoch 11: loss: 106.4056, train accuracy: 0.7154, valid accuracy:0.7254\n",
      "Start epoch #12, learning rate for this epoch: [0.000288]\n"
     ]
    },
    {
     "name": "stderr",
     "output_type": "stream",
     "text": [
      "100%|██████████| 624/624 [01:59<00:00,  5.23it/s]\n"
     ]
    },
    {
     "name": "stdout",
     "output_type": "stream",
     "text": [
      "Done epoch #12, time for this epoch: 119.31734681129456s\n"
     ]
    },
    {
     "name": "stderr",
     "output_type": "stream",
     "text": [
      "100%|██████████| 175/175 [00:22<00:00,  7.78it/s]\n"
     ]
    },
    {
     "name": "stdout",
     "output_type": "stream",
     "text": [
      "(array([0.60274452, 0.68632394, 0.58120306, 0.47155509, 0.582862  ,\n",
      "       0.28922993]), 0.5849377210346656, 0.735725716812453, 0.730484118328108)\n",
      "train: {'mIoU': 0.5728851166353154, 'F1': 0.7257138020004432, 'OA': 0.7218073270259759}\n",
      "{'ImSurf': 0.6053976340214406, 'Building': 0.6711707139535024, 'LowVeg': 0.5571924587762421, 'Tree': 0.4506374514705795, 'Car': 0.580027324954812, 'Clutter': 0.26802119222594406}\n",
      "val: {'mIoU': 0.5849377210346656, 'F1': 0.735725716812453, 'OA': 0.730484118328108}\n",
      "{'ImSurf': 0.6027445154667926, 'Building': 0.6863239424698193, 'LowVeg': 0.5812030564663521, 'Tree': 0.47155509433207354, 'Car': 0.5828619964382903, 'Clutter': 0.2892299267601653}\n",
      "Epoch 12: loss: 105.0035, train accuracy: 0.7218, valid accuracy:0.7305\n",
      "Start epoch #13, learning rate for this epoch: [0.0001728]\n"
     ]
    },
    {
     "name": "stderr",
     "output_type": "stream",
     "text": [
      "100%|██████████| 624/624 [01:59<00:00,  5.23it/s]\n"
     ]
    },
    {
     "name": "stdout",
     "output_type": "stream",
     "text": [
      "Done epoch #13, time for this epoch: 119.31902599334717s\n"
     ]
    },
    {
     "name": "stderr",
     "output_type": "stream",
     "text": [
      "100%|██████████| 175/175 [00:22<00:00,  7.69it/s]\n"
     ]
    },
    {
     "name": "stdout",
     "output_type": "stream",
     "text": [
      "(array([0.60680904, 0.66852047, 0.56284174, 0.47055466, 0.60494501,\n",
      "       0.29693955]), 0.5827341814548549, 0.7341460984412516, 0.7243769112372688)\n",
      "train: {'mIoU': 0.5832893884879594, 'F1': 0.7339708117890027, 'OA': 0.7288918800843067}\n",
      "{'ImSurf': 0.6180618553758798, 'Building': 0.6859232638922113, 'LowVeg': 0.5609513803606645, 'Tree': 0.459967107378327, 'Car': 0.5915433354327144, 'Clutter': 0.268690468195707}\n",
      "val: {'mIoU': 0.5827341814548549, 'F1': 0.7341460984412516, 'OA': 0.7243769112372688}\n",
      "{'ImSurf': 0.6068090379337292, 'Building': 0.6685204695040159, 'LowVeg': 0.5628417353073181, 'Tree': 0.4705546578021288, 'Car': 0.6049450067270827, 'Clutter': 0.29693955008450873}\n",
      "Epoch 13: loss: 103.1063, train accuracy: 0.7289, valid accuracy:0.7244\n",
      "Start epoch #14, learning rate for this epoch: [0.0001728]\n"
     ]
    },
    {
     "name": "stderr",
     "output_type": "stream",
     "text": [
      "100%|██████████| 624/624 [01:59<00:00,  5.20it/s]\n"
     ]
    },
    {
     "name": "stdout",
     "output_type": "stream",
     "text": [
      "Done epoch #14, time for this epoch: 119.91775846481323s\n"
     ]
    },
    {
     "name": "stderr",
     "output_type": "stream",
     "text": [
      "100%|██████████| 175/175 [00:22<00:00,  7.89it/s]\n"
     ]
    },
    {
     "name": "stdout",
     "output_type": "stream",
     "text": [
      "(array([0.62418917, 0.69680979, 0.59197926, 0.47162338, 0.60676326,\n",
      "       0.30332249]), 0.5982729721610017, 0.7459708514776151, 0.7413300064426483)\n",
      "train: {'mIoU': 0.5834054060821774, 'F1': 0.7343851311584076, 'OA': 0.7300219810925997}\n",
      "{'ImSurf': 0.6164059317385621, 'Building': 0.6803713309249979, 'LowVeg': 0.5626003336217882, 'Tree': 0.46731860638331496, 'Car': 0.590330827742224, 'Clutter': 0.2913335474752598}\n",
      "val: {'mIoU': 0.5982729721610017, 'F1': 0.7459708514776151, 'OA': 0.7413300064426483}\n",
      "{'ImSurf': 0.6241891721475333, 'Building': 0.6968097891574638, 'LowVeg': 0.5919792568489165, 'Tree': 0.4716233790657661, 'Car': 0.6067632635853285, 'Clutter': 0.3033224886801945}\n",
      "Epoch 14: loss: 102.6051, train accuracy: 0.7300, valid accuracy:0.7413\n",
      "Start epoch #15, learning rate for this epoch: [0.0001728]\n"
     ]
    },
    {
     "name": "stderr",
     "output_type": "stream",
     "text": [
      "100%|██████████| 624/624 [01:59<00:00,  5.21it/s]\n"
     ]
    },
    {
     "name": "stdout",
     "output_type": "stream",
     "text": [
      "Done epoch #15, time for this epoch: 119.88252925872803s\n"
     ]
    },
    {
     "name": "stderr",
     "output_type": "stream",
     "text": [
      "100%|██████████| 175/175 [00:23<00:00,  7.60it/s]\n"
     ]
    },
    {
     "name": "stdout",
     "output_type": "stream",
     "text": [
      "(array([0.62152831, 0.69926173, 0.59477533, 0.37419684, 0.60895774,\n",
      "       0.32311258]), 0.5797439881935089, 0.7274165031320848, 0.7323381652612952)\n",
      "train: {'mIoU': 0.5886866985486842, 'F1': 0.7387990694423594, 'OA': 0.7338805045837011}\n",
      "{'ImSurf': 0.6173053582954461, 'Building': 0.6848404407486518, 'LowVeg': 0.5682530598599869, 'Tree': 0.4784020061757538, 'Car': 0.5946326276635824, 'Clutter': 0.2886410961937467}\n",
      "val: {'mIoU': 0.5797439881935089, 'F1': 0.7274165031320848, 'OA': 0.7323381652612952}\n",
      "{'ImSurf': 0.6215283052852865, 'Building': 0.6992617257699579, 'LowVeg': 0.5947753332509123, 'Tree': 0.3741968415100183, 'Car': 0.6089577351513699, 'Clutter': 0.3231125778490037}\n",
      "Epoch 15: loss: 101.9899, train accuracy: 0.7339, valid accuracy:0.7323\n",
      "Start epoch #16, learning rate for this epoch: [0.0001728]\n"
     ]
    },
    {
     "name": "stderr",
     "output_type": "stream",
     "text": [
      "100%|██████████| 624/624 [02:00<00:00,  5.20it/s]\n"
     ]
    },
    {
     "name": "stdout",
     "output_type": "stream",
     "text": [
      "Done epoch #16, time for this epoch: 120.07285284996033s\n"
     ]
    },
    {
     "name": "stderr",
     "output_type": "stream",
     "text": [
      "100%|██████████| 175/175 [00:23<00:00,  7.58it/s]\n"
     ]
    },
    {
     "name": "stdout",
     "output_type": "stream",
     "text": [
      "(array([0.62073571, 0.69809919, 0.59869212, 0.46020936, 0.60305777,\n",
      "       0.31707406]), 0.596158829659988, 0.7439800228291796, 0.7428917374785478)\n",
      "train: {'mIoU': 0.5884498950731013, 'F1': 0.738430642522471, 'OA': 0.7325245203116001}\n",
      "{'ImSurf': 0.6182064857356282, 'Building': 0.6842667926127615, 'LowVeg': 0.5661540269601042, 'Tree': 0.471951035225884, 'Car': 0.6016711348311288, 'Clutter': 0.2910705886869087}\n",
      "val: {'mIoU': 0.596158829659988, 'F1': 0.7439800228291796, 'OA': 0.7428917374785478}\n",
      "{'ImSurf': 0.6207357116114717, 'Building': 0.6980991883082064, 'LowVeg': 0.5986921168800527, 'Tree': 0.4602093629154998, 'Car': 0.6030577685847095, 'Clutter': 0.31707405727783283}\n",
      "Epoch 16: loss: 102.1334, train accuracy: 0.7325, valid accuracy:0.7429\n",
      "Start epoch #17, learning rate for this epoch: [0.00010368]\n"
     ]
    },
    {
     "name": "stderr",
     "output_type": "stream",
     "text": [
      "100%|██████████| 624/624 [01:59<00:00,  5.22it/s]\n"
     ]
    },
    {
     "name": "stdout",
     "output_type": "stream",
     "text": [
      "Done epoch #17, time for this epoch: 119.50765061378479s\n"
     ]
    },
    {
     "name": "stderr",
     "output_type": "stream",
     "text": [
      "100%|██████████| 175/175 [00:22<00:00,  7.71it/s]\n"
     ]
    },
    {
     "name": "stdout",
     "output_type": "stream",
     "text": [
      "(array([0.61451317, 0.69925647, 0.58323319, 0.47140546, 0.6225905 ,\n",
      "       0.32849696]), 0.5981997588790123, 0.7458343595207444, 0.7388648740353553)\n",
      "train: {'mIoU': 0.5943383133218684, 'F1': 0.7429472812917284, 'OA': 0.7399252622555463}\n",
      "{'ImSurf': 0.629088298050646, 'Building': 0.6944052565070078, 'LowVeg': 0.5771390627590018, 'Tree': 0.4743318253533651, 'Car': 0.5967271239393209, 'Clutter': 0.3003206527266871}\n",
      "val: {'mIoU': 0.5981997588790123, 'F1': 0.7458343595207444, 'OA': 0.7388648740353553}\n",
      "{'ImSurf': 0.61451317193676, 'Building': 0.6992564668463728, 'LowVeg': 0.5832331866783275, 'Tree': 0.47140546426548974, 'Car': 0.6225905046681115, 'Clutter': 0.32849696298506104}\n",
      "Epoch 17: loss: 100.3799, train accuracy: 0.7399, valid accuracy:0.7389\n",
      "Start epoch #18, learning rate for this epoch: [0.00010368]\n"
     ]
    },
    {
     "name": "stderr",
     "output_type": "stream",
     "text": [
      "100%|██████████| 624/624 [02:00<00:00,  5.18it/s]\n"
     ]
    },
    {
     "name": "stdout",
     "output_type": "stream",
     "text": [
      "Done epoch #18, time for this epoch: 120.37689185142517s\n"
     ]
    },
    {
     "name": "stderr",
     "output_type": "stream",
     "text": [
      "100%|██████████| 175/175 [00:22<00:00,  7.80it/s]\n"
     ]
    },
    {
     "name": "stdout",
     "output_type": "stream",
     "text": [
      "(array([0.63151862, 0.69098389, 0.57848621, 0.50789771, 0.6290005 ,\n",
      "       0.30082016]), 0.6075773865773424, 0.7540542993893519, 0.7445181403670135)\n",
      "train: {'mIoU': 0.5971253609908962, 'F1': 0.7452464489202366, 'OA': 0.740296700061896}\n",
      "{'ImSurf': 0.6325876021668898, 'Building': 0.6936816760993403, 'LowVeg': 0.573050034140137, 'Tree': 0.4799938535214108, 'Car': 0.6063136390267028, 'Clutter': 0.28900824447109047}\n",
      "val: {'mIoU': 0.6075773865773424, 'F1': 0.7540542993893519, 'OA': 0.7445181403670135}\n",
      "{'ImSurf': 0.6315186230470671, 'Building': 0.6909838887202477, 'LowVeg': 0.5784862131984648, 'Tree': 0.5078977082702575, 'Car': 0.6290004996506748, 'Clutter': 0.3008201618813932}\n",
      "Epoch 18: loss: 100.2895, train accuracy: 0.7403, valid accuracy:0.7445\n",
      "Start epoch #19, learning rate for this epoch: [0.00010368]\n"
     ]
    },
    {
     "name": "stderr",
     "output_type": "stream",
     "text": [
      "100%|██████████| 624/624 [01:59<00:00,  5.20it/s]\n"
     ]
    },
    {
     "name": "stdout",
     "output_type": "stream",
     "text": [
      "Done epoch #19, time for this epoch: 119.92074918746948s\n"
     ]
    },
    {
     "name": "stderr",
     "output_type": "stream",
     "text": [
      "100%|██████████| 175/175 [00:22<00:00,  7.83it/s]\n"
     ]
    },
    {
     "name": "stdout",
     "output_type": "stream",
     "text": [
      "(array([0.62146367, 0.6794291 , 0.59538311, 0.46220985, 0.61931468,\n",
      "       0.29445194]), 0.5955600806589751, 0.7438330280006448, 0.7378016332885128)\n",
      "train: {'mIoU': 0.5981733549797463, 'F1': 0.7460182141075676, 'OA': 0.740516335536272}\n",
      "{'ImSurf': 0.6295194591852435, 'Building': 0.6939789955326473, 'LowVeg': 0.5762917084344389, 'Tree': 0.4776356712087197, 'Car': 0.6134409405376827, 'Clutter': 0.3036604949595049}\n",
      "val: {'mIoU': 0.5955600806589751, 'F1': 0.7438330280006448, 'OA': 0.7378016332885128}\n",
      "{'ImSurf': 0.6214636685081729, 'Building': 0.6794290970711664, 'LowVeg': 0.595383111356437, 'Tree': 0.46220985114727503, 'Car': 0.6193146752118245, 'Clutter': 0.2944519405664694}\n",
      "Epoch 19: loss: 100.2505, train accuracy: 0.7405, valid accuracy:0.7378\n",
      "Start epoch #20, learning rate for this epoch: [0.00010368]\n"
     ]
    },
    {
     "name": "stderr",
     "output_type": "stream",
     "text": [
      "100%|██████████| 624/624 [01:58<00:00,  5.24it/s]\n"
     ]
    },
    {
     "name": "stdout",
     "output_type": "stream",
     "text": [
      "Done epoch #20, time for this epoch: 118.99119424819946s\n"
     ]
    },
    {
     "name": "stderr",
     "output_type": "stream",
     "text": [
      "100%|██████████| 175/175 [00:21<00:00,  7.98it/s]\n"
     ]
    },
    {
     "name": "stdout",
     "output_type": "stream",
     "text": [
      "(array([0.63336208, 0.69584078, 0.59663345, 0.4999089 , 0.62806749,\n",
      "       0.29916372]), 0.6107625396450764, 0.7563350942592595, 0.7470850893172614)\n",
      "train: {'mIoU': 0.6010037170743168, 'F1': 0.7481594592843326, 'OA': 0.7447054202740009}\n",
      "{'ImSurf': 0.6355992344838716, 'Building': 0.7066134174181571, 'LowVeg': 0.575698068981785, 'Tree': 0.4845146211319465, 'Car': 0.6025932433558238, 'Clutter': 0.3144254955282736}\n",
      "val: {'mIoU': 0.6107625396450764, 'F1': 0.7563350942592595, 'OA': 0.7470850893172614}\n",
      "{'ImSurf': 0.6333620806334562, 'Building': 0.6958407796222594, 'LowVeg': 0.596633451290153, 'Tree': 0.4999088964521107, 'Car': 0.628067490227403, 'Clutter': 0.2991637190957284}\n",
      "Epoch 20: loss: 99.3965, train accuracy: 0.7447, valid accuracy:0.7471\n",
      "Start epoch #21, learning rate for this epoch: [6.2208e-05]\n"
     ]
    },
    {
     "name": "stderr",
     "output_type": "stream",
     "text": [
      "100%|██████████| 624/624 [01:58<00:00,  5.28it/s]\n"
     ]
    },
    {
     "name": "stdout",
     "output_type": "stream",
     "text": [
      "Done epoch #21, time for this epoch: 118.24829506874084s\n"
     ]
    },
    {
     "name": "stderr",
     "output_type": "stream",
     "text": [
      "100%|██████████| 175/175 [00:22<00:00,  7.62it/s]\n"
     ]
    },
    {
     "name": "stdout",
     "output_type": "stream",
     "text": [
      "(array([0.62599846, 0.70329943, 0.5700603 , 0.49926832, 0.62403511,\n",
      "       0.28694606]), 0.6045323248142813, 0.7512947883930808, 0.7414697344493112)\n",
      "train: {'mIoU': 0.6078837408002842, 'F1': 0.753693391178211, 'OA': 0.7485896562918638}\n",
      "{'ImSurf': 0.6422181410508296, 'Building': 0.7069586589274682, 'LowVeg': 0.5821181433363561, 'Tree': 0.4931113510077675, 'Car': 0.6150124096789993, 'Clutter': 0.3017580637526888}\n",
      "val: {'mIoU': 0.6045323248142813, 'F1': 0.7512947883930808, 'OA': 0.7414697344493112}\n",
      "{'ImSurf': 0.6259984565692439, 'Building': 0.7032994327557708, 'LowVeg': 0.570060303940755, 'Tree': 0.49926832055978915, 'Car': 0.624035110245848, 'Clutter': 0.2869460568746008}\n",
      "Epoch 21: loss: 98.3520, train accuracy: 0.7486, valid accuracy:0.7415\n",
      "Start epoch #22, learning rate for this epoch: [6.2208e-05]\n"
     ]
    },
    {
     "name": "stderr",
     "output_type": "stream",
     "text": [
      "100%|██████████| 624/624 [02:00<00:00,  5.20it/s]\n"
     ]
    },
    {
     "name": "stdout",
     "output_type": "stream",
     "text": [
      "Done epoch #22, time for this epoch: 120.1009418964386s\n"
     ]
    },
    {
     "name": "stderr",
     "output_type": "stream",
     "text": [
      "100%|██████████| 175/175 [00:22<00:00,  7.63it/s]\n"
     ]
    },
    {
     "name": "stdout",
     "output_type": "stream",
     "text": [
      "(array([0.63220822, 0.71806149, 0.60077177, 0.49887454, 0.62929797,\n",
      "       0.32218707]), 0.6158427982081504, 0.7598618123005949, 0.7524184687738356)\n",
      "train: {'mIoU': 0.6043932349068232, 'F1': 0.7508737839495642, 'OA': 0.7475890807616405}\n",
      "{'ImSurf': 0.6364360681276039, 'Building': 0.7082876316548227, 'LowVeg': 0.5851746527493636, 'Tree': 0.48726488900407106, 'Car': 0.6048029329982548, 'Clutter': 0.29745351674785386}\n",
      "val: {'mIoU': 0.6158427982081504, 'F1': 0.7598618123005949, 'OA': 0.7524184687738356}\n",
      "{'ImSurf': 0.6322082202283545, 'Building': 0.7180614917885693, 'LowVeg': 0.6007717700702085, 'Tree': 0.49887454015564864, 'Car': 0.6292979687979708, 'Clutter': 0.3221870662689823}\n",
      "Epoch 22: loss: 98.8148, train accuracy: 0.7476, valid accuracy:0.7524\n",
      "Start epoch #23, learning rate for this epoch: [6.2208e-05]\n"
     ]
    },
    {
     "name": "stderr",
     "output_type": "stream",
     "text": [
      "100%|██████████| 624/624 [01:58<00:00,  5.25it/s]\n"
     ]
    },
    {
     "name": "stdout",
     "output_type": "stream",
     "text": [
      "Done epoch #23, time for this epoch: 118.92449045181274s\n"
     ]
    },
    {
     "name": "stderr",
     "output_type": "stream",
     "text": [
      "100%|██████████| 175/175 [00:22<00:00,  7.80it/s]\n"
     ]
    },
    {
     "name": "stdout",
     "output_type": "stream",
     "text": [
      "(array([0.63770137, 0.70253914, 0.60851025, 0.48189337, 0.61382792,\n",
      "       0.28242044]), 0.6088944064847731, 0.7543518569088288, 0.7493734037970263)\n",
      "train: {'mIoU': 0.6077927597288709, 'F1': 0.7534596565526239, 'OA': 0.7473747485723251}\n",
      "{'ImSurf': 0.6384551543648241, 'Building': 0.7105887796607414, 'LowVeg': 0.5781082923325034, 'Tree': 0.4897109306872628, 'Car': 0.6221006415990228, 'Clutter': 0.31243798471232803}\n",
      "val: {'mIoU': 0.6088944064847731, 'F1': 0.7543518569088288, 'OA': 0.7493734037970263}\n",
      "{'ImSurf': 0.6377013655887133, 'Building': 0.7025391352862508, 'LowVeg': 0.6085102454938023, 'Tree': 0.4818933701591293, 'Car': 0.6138279158959697, 'Clutter': 0.2824204431732722}\n",
      "Epoch 23: loss: 98.5910, train accuracy: 0.7474, valid accuracy:0.7494\n",
      "Start epoch #24, learning rate for this epoch: [6.2208e-05]\n"
     ]
    },
    {
     "name": "stderr",
     "output_type": "stream",
     "text": [
      "100%|██████████| 624/624 [01:59<00:00,  5.23it/s]\n"
     ]
    },
    {
     "name": "stdout",
     "output_type": "stream",
     "text": [
      "Done epoch #24, time for this epoch: 119.41436648368835s\n"
     ]
    },
    {
     "name": "stderr",
     "output_type": "stream",
     "text": [
      "100%|██████████| 175/175 [00:22<00:00,  7.86it/s]\n"
     ]
    },
    {
     "name": "stdout",
     "output_type": "stream",
     "text": [
      "(array([0.63576584, 0.70579958, 0.59540289, 0.51104227, 0.63122469,\n",
      "       0.32445951]), 0.6158470547439829, 0.7603192435282334, 0.7509461654148252)\n",
      "train: {'mIoU': 0.6083244287226929, 'F1': 0.7539231017294206, 'OA': 0.7469503145951492}\n",
      "{'ImSurf': 0.6407545963011981, 'Building': 0.7099520785044263, 'LowVeg': 0.5790185489822502, 'Tree': 0.4914801023978302, 'Car': 0.6204168174277594, 'Clutter': 0.30101056672731213}\n",
      "val: {'mIoU': 0.6158470547439829, 'F1': 0.7603192435282334, 'OA': 0.7509461654148252}\n",
      "{'ImSurf': 0.6357658362438263, 'Building': 0.7057995810965628, 'LowVeg': 0.5954028901342114, 'Tree': 0.5110422745464366, 'Car': 0.6312246916988772, 'Clutter': 0.32445951295323955}\n",
      "Epoch 24: loss: 98.7290, train accuracy: 0.7470, valid accuracy:0.7509\n",
      "Start epoch #25, learning rate for this epoch: [3.73248e-05]\n"
     ]
    },
    {
     "name": "stderr",
     "output_type": "stream",
     "text": [
      "100%|██████████| 624/624 [01:59<00:00,  5.20it/s]\n"
     ]
    },
    {
     "name": "stdout",
     "output_type": "stream",
     "text": [
      "Done epoch #25, time for this epoch: 119.97527241706848s\n"
     ]
    },
    {
     "name": "stderr",
     "output_type": "stream",
     "text": [
      "100%|██████████| 175/175 [00:22<00:00,  7.64it/s]\n"
     ]
    },
    {
     "name": "stdout",
     "output_type": "stream",
     "text": [
      "(array([0.63548013, 0.70672664, 0.58764985, 0.50776787, 0.64066035,\n",
      "       0.30281493]), 0.6156569668621946, 0.7600149195122989, 0.7490980993135318)\n",
      "train: {'mIoU': 0.6126765099049113, 'F1': 0.757274545349651, 'OA': 0.7524534402749478}\n",
      "{'ImSurf': 0.6450165611022102, 'Building': 0.718738744216498, 'LowVeg': 0.5831500219658526, 'Tree': 0.4976647446157073, 'Car': 0.6188124776242881, 'Clutter': 0.3181838548851158}\n",
      "val: {'mIoU': 0.6156569668621946, 'F1': 0.7600149195122989, 'OA': 0.7490980993135318}\n",
      "{'ImSurf': 0.6354801319886513, 'Building': 0.7067266366299698, 'LowVeg': 0.5876498463779614, 'Tree': 0.5077678701998193, 'Car': 0.6406603491145716, 'Clutter': 0.3028149298542937}\n",
      "Epoch 25: loss: 97.3070, train accuracy: 0.7525, valid accuracy:0.7491\n",
      "Start epoch #26, learning rate for this epoch: [3.73248e-05]\n"
     ]
    },
    {
     "name": "stderr",
     "output_type": "stream",
     "text": [
      "100%|██████████| 624/624 [01:58<00:00,  5.26it/s]\n"
     ]
    },
    {
     "name": "stdout",
     "output_type": "stream",
     "text": [
      "Done epoch #26, time for this epoch: 118.67252159118652s\n"
     ]
    },
    {
     "name": "stderr",
     "output_type": "stream",
     "text": [
      "100%|██████████| 175/175 [00:22<00:00,  7.84it/s]\n"
     ]
    },
    {
     "name": "stdout",
     "output_type": "stream",
     "text": [
      "(array([0.62819718, 0.70185824, 0.5947537 , 0.49742425, 0.62984217,\n",
      "       0.30114332]), 0.6104151059808706, 0.7559219718271092, 0.7463597655724211)\n",
      "train: {'mIoU': 0.6117472769022216, 'F1': 0.7564805809031194, 'OA': 0.7522859023167536}\n",
      "{'ImSurf': 0.6453071199421195, 'Building': 0.7187464861753446, 'LowVeg': 0.5853334504302881, 'Tree': 0.4939597841694216, 'Car': 0.6153895437939345, 'Clutter': 0.3167573725206019}\n",
      "val: {'mIoU': 0.6104151059808706, 'F1': 0.7559219718271092, 'OA': 0.7463597655724211}\n",
      "{'ImSurf': 0.6281971754005673, 'Building': 0.7018582382531116, 'LowVeg': 0.5947536976191746, 'Tree': 0.4974242470429416, 'Car': 0.6298421715885577, 'Clutter': 0.3011433219056978}\n",
      "Epoch 26: loss: 97.8118, train accuracy: 0.7523, valid accuracy:0.7464\n",
      "Start epoch #27, learning rate for this epoch: [3.73248e-05]\n"
     ]
    },
    {
     "name": "stderr",
     "output_type": "stream",
     "text": [
      "100%|██████████| 624/624 [01:58<00:00,  5.25it/s]\n"
     ]
    },
    {
     "name": "stdout",
     "output_type": "stream",
     "text": [
      "Done epoch #27, time for this epoch: 118.9071671962738s\n"
     ]
    },
    {
     "name": "stderr",
     "output_type": "stream",
     "text": [
      "100%|██████████| 175/175 [00:22<00:00,  7.62it/s]\n"
     ]
    },
    {
     "name": "stdout",
     "output_type": "stream",
     "text": [
      "(array([0.64349543, 0.70835725, 0.60243873, 0.49171425, 0.62444744,\n",
      "       0.30972235]), 0.6140906206355738, 0.7584682610913397, 0.7529243200867618)\n",
      "train: {'mIoU': 0.6117739289922866, 'F1': 0.756551014368142, 'OA': 0.7514806313392444}\n",
      "{'ImSurf': 0.6411208835655184, 'Building': 0.7177090329892557, 'LowVeg': 0.586319256249552, 'Tree': 0.4941887360950874, 'Car': 0.6195317360620193, 'Clutter': 0.3229846619642492}\n",
      "val: {'mIoU': 0.6140906206355738, 'F1': 0.7584682610913397, 'OA': 0.7529243200867618}\n",
      "{'ImSurf': 0.6434954338749064, 'Building': 0.7083572488985728, 'LowVeg': 0.6024387285438367, 'Tree': 0.4917142522376789, 'Car': 0.6244474396228744, 'Clutter': 0.30972234832174766}\n",
      "Epoch 27: loss: 97.3129, train accuracy: 0.7515, valid accuracy:0.7529\n",
      "Start epoch #28, learning rate for this epoch: [3.73248e-05]\n"
     ]
    },
    {
     "name": "stderr",
     "output_type": "stream",
     "text": [
      "100%|██████████| 624/624 [01:59<00:00,  5.23it/s]\n"
     ]
    },
    {
     "name": "stdout",
     "output_type": "stream",
     "text": [
      "Done epoch #28, time for this epoch: 119.20885968208313s\n"
     ]
    },
    {
     "name": "stderr",
     "output_type": "stream",
     "text": [
      "100%|██████████| 175/175 [00:22<00:00,  7.74it/s]\n"
     ]
    },
    {
     "name": "stdout",
     "output_type": "stream",
     "text": [
      "(array([0.64307613, 0.71006094, 0.59082548, 0.50370079, 0.62244142,\n",
      "       0.32091543]), 0.6140209512488501, 0.7586502133853037, 0.7519135814045113)\n",
      "train: {'mIoU': 0.6103417664273834, 'F1': 0.7554190090679545, 'OA': 0.751284311979245}\n",
      "{'ImSurf': 0.6447932604057859, 'Building': 0.7151133881152023, 'LowVeg': 0.5841508143025987, 'Tree': 0.4922762026749632, 'Car': 0.6153751666383668, 'Clutter': 0.3055094966802871}\n",
      "val: {'mIoU': 0.6140209512488501, 'F1': 0.7586502133853037, 'OA': 0.7519135814045113}\n",
      "{'ImSurf': 0.6430761287635287, 'Building': 0.7100609413609646, 'LowVeg': 0.5908254769972745, 'Tree': 0.5037007918540539, 'Car': 0.6224414172684292, 'Clutter': 0.3209154277305619}\n",
      "Epoch 28: loss: 97.5951, train accuracy: 0.7513, valid accuracy:0.7519\n",
      "Start epoch #29, learning rate for this epoch: [2.239488e-05]\n"
     ]
    },
    {
     "name": "stderr",
     "output_type": "stream",
     "text": [
      "100%|██████████| 624/624 [01:59<00:00,  5.22it/s]\n"
     ]
    },
    {
     "name": "stdout",
     "output_type": "stream",
     "text": [
      "Done epoch #29, time for this epoch: 119.5048758983612s\n"
     ]
    },
    {
     "name": "stderr",
     "output_type": "stream",
     "text": [
      "100%|██████████| 175/175 [00:22<00:00,  7.82it/s]\n"
     ]
    },
    {
     "name": "stdout",
     "output_type": "stream",
     "text": [
      "(array([0.64213358, 0.71173009, 0.60795009, 0.49707369, 0.62856943,\n",
      "       0.30106366]), 0.6174913771139603, 0.7611665630641294, 0.755270624537307)\n",
      "train: {'mIoU': 0.6104420552078021, 'F1': 0.7555254707893992, 'OA': 0.7525444336426563}\n",
      "{'ImSurf': 0.6430350208773554, 'Building': 0.7186297597338647, 'LowVeg': 0.5880000962634617, 'Tree': 0.4948008000167711, 'Car': 0.6077445991475581, 'Clutter': 0.32293267134976555}\n",
      "val: {'mIoU': 0.6174913771139603, 'F1': 0.7611665630641294, 'OA': 0.755270624537307}\n",
      "{'ImSurf': 0.6421335772307092, 'Building': 0.7117300946260402, 'LowVeg': 0.6079500888355639, 'Tree': 0.4970736935597542, 'Car': 0.6285694313177336, 'Clutter': 0.30106366382385535}\n",
      "Epoch 29: loss: 96.9249, train accuracy: 0.7525, valid accuracy:0.7553\n",
      "Start epoch #30, learning rate for this epoch: [2.239488e-05]\n"
     ]
    },
    {
     "name": "stderr",
     "output_type": "stream",
     "text": [
      "100%|██████████| 624/624 [02:00<00:00,  5.17it/s]\n"
     ]
    },
    {
     "name": "stdout",
     "output_type": "stream",
     "text": [
      "Done epoch #30, time for this epoch: 120.68923687934875s\n"
     ]
    },
    {
     "name": "stderr",
     "output_type": "stream",
     "text": [
      "100%|██████████| 175/175 [00:22<00:00,  7.81it/s]\n"
     ]
    },
    {
     "name": "stdout",
     "output_type": "stream",
     "text": [
      "(array([0.64261855, 0.72137607, 0.60728423, 0.50094506, 0.62952314,\n",
      "       0.29220702]), 0.6203494106078296, 0.7632777967368958, 0.7564395814171302)\n",
      "train: {'mIoU': 0.6132058460491834, 'F1': 0.7575912824597141, 'OA': 0.7551828256020179}\n",
      "{'ImSurf': 0.6488777311357962, 'Building': 0.7200176891445949, 'LowVeg': 0.5865515859348704, 'Tree': 0.4951046142531274, 'Car': 0.6154776097775276, 'Clutter': 0.3347363690019636}\n",
      "val: {'mIoU': 0.6203494106078296, 'F1': 0.7632777967368958, 'OA': 0.7564395814171302}\n",
      "{'ImSurf': 0.6426185500770248, 'Building': 0.7213760712880886, 'LowVeg': 0.6072842278018622, 'Tree': 0.500945060763563, 'Car': 0.6295231431086092, 'Clutter': 0.2922070194092355}\n",
      "Epoch 30: loss: 96.5286, train accuracy: 0.7552, valid accuracy:0.7564\n",
      "Start epoch #31, learning rate for this epoch: [2.239488e-05]\n"
     ]
    },
    {
     "name": "stderr",
     "output_type": "stream",
     "text": [
      "100%|██████████| 624/624 [01:59<00:00,  5.23it/s]\n"
     ]
    },
    {
     "name": "stdout",
     "output_type": "stream",
     "text": [
      "Done epoch #31, time for this epoch: 119.37060379981995s\n"
     ]
    },
    {
     "name": "stderr",
     "output_type": "stream",
     "text": [
      "100%|██████████| 175/175 [00:22<00:00,  7.94it/s]\n"
     ]
    },
    {
     "name": "stdout",
     "output_type": "stream",
     "text": [
      "(array([0.63411591, 0.6998822 , 0.61119843, 0.51506488, 0.62791645,\n",
      "       0.31119226]), 0.6176355723853229, 0.7619185389291893, 0.7530545620120691)\n",
      "train: {'mIoU': 0.6159898709399074, 'F1': 0.7598521752445516, 'OA': 0.7540757075334207}\n",
      "{'ImSurf': 0.6441965786708103, 'Building': 0.7186808315007606, 'LowVeg': 0.5932165253803768, 'Tree': 0.4972686955733355, 'Car': 0.6265867235742544, 'Clutter': 0.30097723361207795}\n",
      "val: {'mIoU': 0.6176355723853229, 'F1': 0.7619185389291893, 'OA': 0.7530545620120691}\n",
      "{'ImSurf': 0.6341159081075495, 'Building': 0.6998821998002029, 'LowVeg': 0.6111984267404371, 'Tree': 0.5150648786675349, 'Car': 0.6279164486108899, 'Clutter': 0.31119225953789936}\n",
      "Epoch 31: loss: 96.9422, train accuracy: 0.7541, valid accuracy:0.7531\n",
      "Start epoch #32, learning rate for this epoch: [2.239488e-05]\n"
     ]
    },
    {
     "name": "stderr",
     "output_type": "stream",
     "text": [
      "100%|██████████| 624/624 [01:58<00:00,  5.26it/s]\n"
     ]
    },
    {
     "name": "stdout",
     "output_type": "stream",
     "text": [
      "Done epoch #32, time for this epoch: 118.60758996009827s\n"
     ]
    },
    {
     "name": "stderr",
     "output_type": "stream",
     "text": [
      "100%|██████████| 175/175 [00:22<00:00,  7.90it/s]\n"
     ]
    },
    {
     "name": "stdout",
     "output_type": "stream",
     "text": [
      "(array([0.63549114, 0.71185986, 0.61262046, 0.52576442, 0.63165481,\n",
      "       0.31479453]), 0.6234781366415281, 0.7664041146556744, 0.7582982728058539)\n",
      "train: {'mIoU': 0.6123206741006537, 'F1': 0.7570697187922989, 'OA': 0.7532179416754307}\n",
      "{'ImSurf': 0.6464276607573345, 'Building': 0.7164927513320007, 'LowVeg': 0.5856824874829923, 'Tree': 0.49845303508102073, 'Car': 0.6145474358499204, 'Clutter': 0.31881837964694565}\n",
      "val: {'mIoU': 0.6234781366415281, 'F1': 0.7664041146556744, 'OA': 0.7582982728058539}\n",
      "{'ImSurf': 0.6354911416858767, 'Building': 0.7118598579241343, 'LowVeg': 0.6126204589162878, 'Tree': 0.5257644173444361, 'Car': 0.6316548073369049, 'Clutter': 0.31479452774475736}\n",
      "Epoch 32: loss: 96.9850, train accuracy: 0.7532, valid accuracy:0.7583\n",
      "Start epoch #33, learning rate for this epoch: [1.3436928e-05]\n"
     ]
    },
    {
     "name": "stderr",
     "output_type": "stream",
     "text": [
      "100%|██████████| 624/624 [01:58<00:00,  5.26it/s]\n"
     ]
    },
    {
     "name": "stdout",
     "output_type": "stream",
     "text": [
      "Done epoch #33, time for this epoch: 118.56344890594482s\n"
     ]
    },
    {
     "name": "stderr",
     "output_type": "stream",
     "text": [
      "100%|██████████| 175/175 [00:22<00:00,  7.68it/s]\n"
     ]
    },
    {
     "name": "stdout",
     "output_type": "stream",
     "text": [
      "(array([0.64003991, 0.70993086, 0.59974415, 0.50782523, 0.62672649,\n",
      "       0.32052506]), 0.6168533277686145, 0.7609605953520687, 0.7522910639098113)\n",
      "train: {'mIoU': 0.6151586779503824, 'F1': 0.7591701378602019, 'OA': 0.7544989983240763}\n",
      "{'ImSurf': 0.6513366258540761, 'Building': 0.7170327212395056, 'LowVeg': 0.5865050127075956, 'Tree': 0.49713018555563315, 'Car': 0.6237888443951006, 'Clutter': 0.3245355252192113}\n",
      "val: {'mIoU': 0.6168533277686145, 'F1': 0.7609605953520687, 'OA': 0.7522910639098113}\n",
      "{'ImSurf': 0.6400399115892714, 'Building': 0.7099308625591336, 'LowVeg': 0.5997441453988896, 'Tree': 0.5078252253359228, 'Car': 0.6267264939598548, 'Clutter': 0.32052505873597836}\n",
      "Epoch 33: loss: 96.6008, train accuracy: 0.7545, valid accuracy:0.7523\n",
      "Start epoch #34, learning rate for this epoch: [1.3436928e-05]\n"
     ]
    },
    {
     "name": "stderr",
     "output_type": "stream",
     "text": [
      "100%|██████████| 624/624 [01:58<00:00,  5.25it/s]\n"
     ]
    },
    {
     "name": "stdout",
     "output_type": "stream",
     "text": [
      "Done epoch #34, time for this epoch: 118.97570466995239s\n"
     ]
    },
    {
     "name": "stderr",
     "output_type": "stream",
     "text": [
      "100%|██████████| 175/175 [00:22<00:00,  7.82it/s]\n"
     ]
    },
    {
     "name": "stdout",
     "output_type": "stream",
     "text": [
      "(array([0.63330892, 0.69915737, 0.60290648, 0.52119823, 0.62557115,\n",
      "       0.31653351]), 0.6164284276987793, 0.7611229225534965, 0.7522121629352116)\n",
      "train: {'mIoU': 0.6163642910501091, 'F1': 0.7601684167906548, 'OA': 0.755680732237987}\n",
      "{'ImSurf': 0.648657094468355, 'Building': 0.719900152542514, 'LowVeg': 0.5927813464464007, 'Tree': 0.5000575746929569, 'Car': 0.620425287100319, 'Clutter': 0.30823380467071304}\n",
      "val: {'mIoU': 0.6164284276987793, 'F1': 0.7611229225534965, 'OA': 0.7522121629352116}\n",
      "{'ImSurf': 0.6333089164678447, 'Building': 0.6991573711362288, 'LowVeg': 0.602906475529286, 'Tree': 0.5211982292539811, 'Car': 0.6255711461065557, 'Clutter': 0.3165335124370564}\n",
      "Epoch 34: loss: 96.6123, train accuracy: 0.7557, valid accuracy:0.7522\n",
      "Start epoch #35, learning rate for this epoch: [1.3436928e-05]\n"
     ]
    },
    {
     "name": "stderr",
     "output_type": "stream",
     "text": [
      "100%|██████████| 624/624 [01:58<00:00,  5.24it/s]\n"
     ]
    },
    {
     "name": "stdout",
     "output_type": "stream",
     "text": [
      "Done epoch #35, time for this epoch: 118.97819709777832s\n"
     ]
    },
    {
     "name": "stderr",
     "output_type": "stream",
     "text": [
      "100%|██████████| 175/175 [00:22<00:00,  7.65it/s]\n"
     ]
    },
    {
     "name": "stdout",
     "output_type": "stream",
     "text": [
      "(array([0.63516854, 0.70075968, 0.59950867, 0.50441398, 0.62515909,\n",
      "       0.32706164]), 0.6130019929905877, 0.7580970754183468, 0.7507000859487166)\n",
      "train: {'mIoU': 0.6190289384079012, 'F1': 0.7621266115792359, 'OA': 0.7565469925220196}\n",
      "{'ImSurf': 0.6514618241637739, 'Building': 0.7281762787087922, 'LowVeg': 0.5839159735387253, 'Tree': 0.5060579744605913, 'Car': 0.6255326411676234, 'Clutter': 0.3142087787998419}\n",
      "val: {'mIoU': 0.6130019929905877, 'F1': 0.7580970754183468, 'OA': 0.7507000859487166}\n",
      "{'ImSurf': 0.6351685420671198, 'Building': 0.7007596813508864, 'LowVeg': 0.5995086744440187, 'Tree': 0.5044139780508408, 'Car': 0.6251590890400728, 'Clutter': 0.3270616439734287}\n",
      "Epoch 35: loss: 96.4080, train accuracy: 0.7565, valid accuracy:0.7507\n",
      "Start epoch #36, learning rate for this epoch: [1.3436928e-05]\n"
     ]
    },
    {
     "name": "stderr",
     "output_type": "stream",
     "text": [
      "100%|██████████| 624/624 [01:59<00:00,  5.22it/s]\n"
     ]
    },
    {
     "name": "stdout",
     "output_type": "stream",
     "text": [
      "Done epoch #36, time for this epoch: 119.64543557167053s\n"
     ]
    },
    {
     "name": "stderr",
     "output_type": "stream",
     "text": [
      "100%|██████████| 175/175 [00:23<00:00,  7.56it/s]\n"
     ]
    },
    {
     "name": "stdout",
     "output_type": "stream",
     "text": [
      "(array([0.63446422, 0.71161603, 0.59755266, 0.50186093, 0.62110818,\n",
      "       0.3356292 ]), 0.6133204046348049, 0.7581101937728328, 0.7524607837071797)\n",
      "train: {'mIoU': 0.6177360928094922, 'F1': 0.761111594209359, 'OA': 0.7577752700218787}\n",
      "{'ImSurf': 0.652807030074374, 'Building': 0.7251129432488358, 'LowVeg': 0.5897345066135383, 'Tree': 0.5012377306107213, 'Car': 0.6197882534999912, 'Clutter': 0.3189658275072925}\n",
      "val: {'mIoU': 0.6133204046348049, 'F1': 0.7581101937728328, 'OA': 0.7524607837071797}\n",
      "{'ImSurf': 0.6344642221954289, 'Building': 0.7116160290004121, 'LowVeg': 0.5975526615072813, 'Tree': 0.5018609331584252, 'Car': 0.6211081773124769, 'Clutter': 0.3356291988188809}\n",
      "Epoch 36: loss: 96.1216, train accuracy: 0.7578, valid accuracy:0.7525\n",
      "Start epoch #37, learning rate for this epoch: [8.0621568e-06]\n"
     ]
    },
    {
     "name": "stderr",
     "output_type": "stream",
     "text": [
      "100%|██████████| 624/624 [02:00<00:00,  5.16it/s]\n"
     ]
    },
    {
     "name": "stdout",
     "output_type": "stream",
     "text": [
      "Done epoch #37, time for this epoch: 120.82886290550232s\n"
     ]
    },
    {
     "name": "stderr",
     "output_type": "stream",
     "text": [
      "100%|██████████| 175/175 [00:23<00:00,  7.60it/s]\n"
     ]
    },
    {
     "name": "stdout",
     "output_type": "stream",
     "text": [
      "(array([0.63450275, 0.71041474, 0.61232159, 0.51626161, 0.6245351 ,\n",
      "       0.34419907]), 0.6196071578137143, 0.7632953740393468, 0.7571109133663574)\n",
      "train: {'mIoU': 0.6152909998607629, 'F1': 0.7594834573313378, 'OA': 0.7549878267141489}\n",
      "{'ImSurf': 0.6468609520099311, 'Building': 0.7184041061124067, 'LowVeg': 0.5858849507902125, 'Tree': 0.5056989024823904, 'Car': 0.6196060879088735, 'Clutter': 0.31309916449354125}\n",
      "val: {'mIoU': 0.6196071578137143, 'F1': 0.7632953740393468, 'OA': 0.7571109133663574}\n",
      "{'ImSurf': 0.6345027537142828, 'Building': 0.7104147366263709, 'LowVeg': 0.612321593722516, 'Tree': 0.5162616094925497, 'Car': 0.6245350955128519, 'Clutter': 0.3441990737034198}\n",
      "Epoch 37: loss: 96.9012, train accuracy: 0.7550, valid accuracy:0.7571\n",
      "Start epoch #38, learning rate for this epoch: [8.0621568e-06]\n"
     ]
    },
    {
     "name": "stderr",
     "output_type": "stream",
     "text": [
      "100%|██████████| 624/624 [01:59<00:00,  5.24it/s]\n"
     ]
    },
    {
     "name": "stdout",
     "output_type": "stream",
     "text": [
      "Done epoch #38, time for this epoch: 119.11229014396667s\n"
     ]
    },
    {
     "name": "stderr",
     "output_type": "stream",
     "text": [
      "100%|██████████| 175/175 [00:22<00:00,  7.70it/s]\n"
     ]
    },
    {
     "name": "stdout",
     "output_type": "stream",
     "text": [
      "(array([0.6455384 , 0.71619827, 0.61186842, 0.51201571, 0.63693928,\n",
      "       0.32314715]), 0.6245120153510936, 0.7667799481296707, 0.7596357664613524)\n",
      "train: {'mIoU': 0.6161846220928833, 'F1': 0.7599628485007653, 'OA': 0.7561860267932599}\n",
      "{'ImSurf': 0.6525542497226933, 'Building': 0.7233625862783499, 'LowVeg': 0.5863596745959709, 'Tree': 0.5021540364771695, 'Car': 0.6164925633902328, 'Clutter': 0.3285684098354219}\n",
      "val: {'mIoU': 0.6245120153510936, 'F1': 0.7667799481296707, 'OA': 0.7596357664613524}\n",
      "{'ImSurf': 0.6455383960654111, 'Building': 0.7161982703511658, 'LowVeg': 0.611868418088214, 'Tree': 0.5120157130924985, 'Car': 0.6369392791581785, 'Clutter': 0.32314715070460376}\n",
      "Epoch 38: loss: 96.4702, train accuracy: 0.7562, valid accuracy:0.7596\n",
      "Start epoch #39, learning rate for this epoch: [8.0621568e-06]\n"
     ]
    },
    {
     "name": "stderr",
     "output_type": "stream",
     "text": [
      "100%|██████████| 624/624 [01:59<00:00,  5.20it/s]\n"
     ]
    },
    {
     "name": "stdout",
     "output_type": "stream",
     "text": [
      "Done epoch #39, time for this epoch: 119.95474219322205s\n"
     ]
    },
    {
     "name": "stderr",
     "output_type": "stream",
     "text": [
      "100%|██████████| 175/175 [00:23<00:00,  7.55it/s]\n"
     ]
    },
    {
     "name": "stdout",
     "output_type": "stream",
     "text": [
      "(array([0.64879153, 0.72169468, 0.61033765, 0.49179565, 0.63505025,\n",
      "       0.3243474 ]), 0.6215339506813677, 0.763899692971102, 0.7591576832965047)\n",
      "train: {'mIoU': 0.6168547640984843, 'F1': 0.7603656330256461, 'OA': 0.7576799545532618}\n",
      "{'ImSurf': 0.651750178836899, 'Building': 0.7284367252117271, 'LowVeg': 0.5890987723145519, 'Tree': 0.500721460399686, 'Car': 0.6142666837295573, 'Clutter': 0.3217202292466724}\n",
      "val: {'mIoU': 0.6215339506813677, 'F1': 0.763899692971102, 'OA': 0.7591576832965047}\n",
      "{'ImSurf': 0.6487915334912747, 'Building': 0.7216946771159956, 'LowVeg': 0.6103376516988287, 'Tree': 0.4917956450523548, 'Car': 0.635050246048385, 'Clutter': 0.32434739640163257}\n",
      "Epoch 39: loss: 95.8826, train accuracy: 0.7577, valid accuracy:0.7592\n",
      "Start epoch #40, learning rate for this epoch: [8.0621568e-06]\n"
     ]
    },
    {
     "name": "stderr",
     "output_type": "stream",
     "text": [
      "100%|██████████| 624/624 [02:01<00:00,  5.12it/s]\n"
     ]
    },
    {
     "name": "stdout",
     "output_type": "stream",
     "text": [
      "Done epoch #40, time for this epoch: 121.82322072982788s\n"
     ]
    },
    {
     "name": "stderr",
     "output_type": "stream",
     "text": [
      "100%|██████████| 175/175 [00:22<00:00,  7.76it/s]\n"
     ]
    },
    {
     "name": "stdout",
     "output_type": "stream",
     "text": [
      "(array([0.64350399, 0.71592465, 0.59732062, 0.51711178, 0.6294586 ,\n",
      "       0.29777898]), 0.6206639290807575, 0.7639485498499214, 0.755487741879739)\n",
      "train: {'mIoU': 0.617159821778636, 'F1': 0.7608264017579648, 'OA': 0.7569582064946493}\n",
      "{'ImSurf': 0.64813591604152, 'Building': 0.7216658183653993, 'LowVeg': 0.5910229001466469, 'Tree': 0.5036407400740931, 'Car': 0.6213337342655214, 'Clutter': 0.3357242667000359}\n",
      "val: {'mIoU': 0.6206639290807575, 'F1': 0.7639485498499214, 'OA': 0.755487741879739}\n",
      "{'ImSurf': 0.6435039941492029, 'Building': 0.7159246488583392, 'LowVeg': 0.5973206189394685, 'Tree': 0.5171117806470747, 'Car': 0.6294586028097021, 'Clutter': 0.2977789846518892}\n",
      "Epoch 40: loss: 96.2569, train accuracy: 0.7570, valid accuracy:0.7555\n",
      "Start epoch #41, learning rate for this epoch: [4.83729408e-06]\n"
     ]
    },
    {
     "name": "stderr",
     "output_type": "stream",
     "text": [
      "100%|██████████| 624/624 [01:59<00:00,  5.22it/s]\n"
     ]
    },
    {
     "name": "stdout",
     "output_type": "stream",
     "text": [
      "Done epoch #41, time for this epoch: 119.64301609992981s\n"
     ]
    },
    {
     "name": "stderr",
     "output_type": "stream",
     "text": [
      "100%|██████████| 175/175 [00:22<00:00,  7.63it/s]\n"
     ]
    },
    {
     "name": "stdout",
     "output_type": "stream",
     "text": [
      "(array([0.63056102, 0.70421938, 0.59902036, 0.51269789, 0.63188846,\n",
      "       0.29082714]), 0.6156774211990748, 0.7602779258966639, 0.7511993430110933)\n",
      "train: {'mIoU': 0.6176015070725326, 'F1': 0.7611647278116228, 'OA': 0.7561401128768921}\n",
      "{'ImSurf': 0.6489440742407804, 'Building': 0.7213522000938495, 'LowVeg': 0.5854528065216231, 'Tree': 0.5052535598513755, 'Car': 0.6270048946550343, 'Clutter': 0.35052955605934244}\n",
      "val: {'mIoU': 0.6156774211990748, 'F1': 0.7602779258966639, 'OA': 0.7511993430110933}\n",
      "{'ImSurf': 0.6305610231247086, 'Building': 0.7042193812104967, 'LowVeg': 0.5990203571164273, 'Tree': 0.5126978861027075, 'Car': 0.6318884584410336, 'Clutter': 0.29082714032502616}\n",
      "Epoch 41: loss: 96.0641, train accuracy: 0.7561, valid accuracy:0.7512\n",
      "Start epoch #42, learning rate for this epoch: [4.83729408e-06]\n"
     ]
    },
    {
     "name": "stderr",
     "output_type": "stream",
     "text": [
      "100%|██████████| 624/624 [01:58<00:00,  5.26it/s]\n"
     ]
    },
    {
     "name": "stdout",
     "output_type": "stream",
     "text": [
      "Done epoch #42, time for this epoch: 118.65878772735596s\n"
     ]
    },
    {
     "name": "stderr",
     "output_type": "stream",
     "text": [
      "100%|██████████| 175/175 [00:22<00:00,  7.65it/s]\n"
     ]
    },
    {
     "name": "stdout",
     "output_type": "stream",
     "text": [
      "(array([0.64954458, 0.71956156, 0.60873393, 0.50559308, 0.63491267,\n",
      "       0.33463308]), 0.6236691642810481, 0.7659112383076421, 0.7594098750413618)\n",
      "train: {'mIoU': 0.6224955079874804, 'F1': 0.7648229565420699, 'OA': 0.7602948317160974}\n",
      "{'ImSurf': 0.6567902070157651, 'Building': 0.7284113349161134, 'LowVeg': 0.5942730617022526, 'Tree': 0.5073271957907137, 'Car': 0.6256757405125577, 'Clutter': 0.3179404621708153}\n",
      "val: {'mIoU': 0.6236691642810481, 'F1': 0.7659112383076421, 'OA': 0.7594098750413618}\n",
      "{'ImSurf': 0.6495445792108745, 'Building': 0.7195615622716033, 'LowVeg': 0.6087339250844876, 'Tree': 0.5055930803156261, 'Car': 0.6349126745226498, 'Clutter': 0.33463307638471435}\n",
      "Epoch 42: loss: 95.4989, train accuracy: 0.7603, valid accuracy:0.7594\n",
      "Start epoch #43, learning rate for this epoch: [4.83729408e-06]\n"
     ]
    },
    {
     "name": "stderr",
     "output_type": "stream",
     "text": [
      "100%|██████████| 624/624 [02:00<00:00,  5.17it/s]\n"
     ]
    },
    {
     "name": "stdout",
     "output_type": "stream",
     "text": [
      "Done epoch #43, time for this epoch: 120.65250039100647s\n"
     ]
    },
    {
     "name": "stderr",
     "output_type": "stream",
     "text": [
      "100%|██████████| 175/175 [00:22<00:00,  7.82it/s]\n"
     ]
    },
    {
     "name": "stdout",
     "output_type": "stream",
     "text": [
      "(array([0.64547457, 0.72238484, 0.60243515, 0.50879744, 0.6407127 ,\n",
      "       0.30313324]), 0.6239609375950879, 0.7661445235958673, 0.7572332575264715)\n",
      "train: {'mIoU': 0.6194664256969975, 'F1': 0.7623260023421057, 'OA': 0.7583573323029739}\n",
      "{'ImSurf': 0.6532882915371263, 'Building': 0.7320164001721975, 'LowVeg': 0.588623830020696, 'Tree': 0.5025771592391386, 'Car': 0.6208264475158295, 'Clutter': 0.3249984960175982}\n",
      "val: {'mIoU': 0.6239609375950879, 'F1': 0.7661445235958673, 'OA': 0.7572332575264715}\n",
      "{'ImSurf': 0.6454745699243091, 'Building': 0.7223848374722895, 'LowVeg': 0.6024351457090634, 'Tree': 0.5087974386138971, 'Car': 0.6407126962558801, 'Clutter': 0.30313324454369484}\n",
      "Epoch 43: loss: 95.8122, train accuracy: 0.7584, valid accuracy:0.7572\n",
      "Start epoch #44, learning rate for this epoch: [4.83729408e-06]\n"
     ]
    },
    {
     "name": "stderr",
     "output_type": "stream",
     "text": [
      "100%|██████████| 624/624 [01:59<00:00,  5.20it/s]\n"
     ]
    },
    {
     "name": "stdout",
     "output_type": "stream",
     "text": [
      "Done epoch #44, time for this epoch: 119.95644688606262s\n"
     ]
    },
    {
     "name": "stderr",
     "output_type": "stream",
     "text": [
      "100%|██████████| 175/175 [00:22<00:00,  7.89it/s]\n"
     ]
    },
    {
     "name": "stdout",
     "output_type": "stream",
     "text": [
      "(array([0.64760926, 0.71113939, 0.60701545, 0.50485924, 0.6301965 ,\n",
      "       0.32907495]), 0.6201639661094623, 0.7633782136838716, 0.7572178891983633)\n",
      "train: {'mIoU': 0.6205989621344857, 'F1': 0.7630591612886446, 'OA': 0.7590178281832964}\n",
      "{'ImSurf': 0.6567671950060799, 'Building': 0.7315212273412115, 'LowVeg': 0.5899264487216473, 'Tree': 0.497820285084188, 'Car': 0.6269596545193018, 'Clutter': 0.31683882149491}\n",
      "val: {'mIoU': 0.6201639661094623, 'F1': 0.7633782136838716, 'OA': 0.7572178891983633}\n",
      "{'ImSurf': 0.6476092551996662, 'Building': 0.7111393856644573, 'LowVeg': 0.6070154495818832, 'Tree': 0.5048592353823301, 'Car': 0.6301965047189747, 'Clutter': 0.32907495321636865}\n",
      "Epoch 44: loss: 95.5218, train accuracy: 0.7590, valid accuracy:0.7572\n",
      "Start epoch #45, learning rate for this epoch: [2.902376448e-06]\n"
     ]
    },
    {
     "name": "stderr",
     "output_type": "stream",
     "text": [
      "100%|██████████| 624/624 [02:02<00:00,  5.11it/s]\n"
     ]
    },
    {
     "name": "stdout",
     "output_type": "stream",
     "text": [
      "Done epoch #45, time for this epoch: 122.09791684150696s\n"
     ]
    },
    {
     "name": "stderr",
     "output_type": "stream",
     "text": [
      "100%|██████████| 175/175 [00:22<00:00,  7.64it/s]\n"
     ]
    },
    {
     "name": "stdout",
     "output_type": "stream",
     "text": [
      "(array([0.65335214, 0.70964145, 0.62527317, 0.51020698, 0.63630131,\n",
      "       0.34253997]), 0.6269550101942466, 0.7686694965059666, 0.7636479845341382)\n",
      "train: {'mIoU': 0.6215684633908136, 'F1': 0.7641812241300274, 'OA': 0.7597624308023697}\n",
      "{'ImSurf': 0.6529807575741323, 'Building': 0.7274781535767028, 'LowVeg': 0.5951375901683141, 'Tree': 0.5080791507869388, 'Car': 0.6241666648479801, 'Clutter': 0.3285830168030706}\n",
      "val: {'mIoU': 0.6269550101942466, 'F1': 0.7686694965059666, 'OA': 0.7636479845341382}\n",
      "{'ImSurf': 0.6533521380060043, 'Building': 0.709641451980022, 'LowVeg': 0.6252731698349768, 'Tree': 0.5102069842081781, 'Car': 0.6363013069420513, 'Clutter': 0.34253997157526833}\n",
      "Epoch 45: loss: 95.3609, train accuracy: 0.7598, valid accuracy:0.7636\n",
      "Start epoch #46, learning rate for this epoch: [2.902376448e-06]\n"
     ]
    },
    {
     "name": "stderr",
     "output_type": "stream",
     "text": [
      "100%|██████████| 624/624 [02:00<00:00,  5.18it/s]\n"
     ]
    },
    {
     "name": "stdout",
     "output_type": "stream",
     "text": [
      "Done epoch #46, time for this epoch: 120.53914499282837s\n"
     ]
    },
    {
     "name": "stderr",
     "output_type": "stream",
     "text": [
      "100%|██████████| 175/175 [00:22<00:00,  7.66it/s]\n"
     ]
    },
    {
     "name": "stdout",
     "output_type": "stream",
     "text": [
      "(array([0.6374113 , 0.70095647, 0.60538093, 0.5090709 , 0.61969634,\n",
      "       0.31065434]), 0.6145031906509214, 0.7593644767207509, 0.7521603290587984)\n",
      "train: {'mIoU': 0.6181111954518176, 'F1': 0.7615215929156097, 'OA': 0.7573131628525562}\n",
      "{'ImSurf': 0.6514755046161276, 'Building': 0.7227710104178665, 'LowVeg': 0.5883903135974548, 'Tree': 0.50462837753404, 'Car': 0.6232907710935994, 'Clutter': 0.3326947449241807}\n",
      "val: {'mIoU': 0.6145031906509214, 'F1': 0.7593644767207509, 'OA': 0.7521603290587984}\n",
      "{'ImSurf': 0.6374113045265464, 'Building': 0.7009564747343847, 'LowVeg': 0.6053809319724005, 'Tree': 0.5090708982321932, 'Car': 0.6196963437890818, 'Clutter': 0.31065434482130083}\n",
      "Epoch 46: loss: 96.0869, train accuracy: 0.7573, valid accuracy:0.7522\n",
      "Start epoch #47, learning rate for this epoch: [2.902376448e-06]\n"
     ]
    },
    {
     "name": "stderr",
     "output_type": "stream",
     "text": [
      "100%|██████████| 624/624 [02:00<00:00,  5.18it/s]\n"
     ]
    },
    {
     "name": "stdout",
     "output_type": "stream",
     "text": [
      "Done epoch #47, time for this epoch: 120.45063519477844s\n"
     ]
    },
    {
     "name": "stderr",
     "output_type": "stream",
     "text": [
      "100%|██████████| 175/175 [00:23<00:00,  7.56it/s]\n"
     ]
    },
    {
     "name": "stdout",
     "output_type": "stream",
     "text": [
      "(array([0.64597444, 0.70824619, 0.60956189, 0.51540667, 0.62653027,\n",
      "       0.31723094]), 0.6211438922055931, 0.7644319351072847, 0.757140806571922)\n",
      "train: {'mIoU': 0.6177558393898493, 'F1': 0.7611228097774129, 'OA': 0.7576055587866367}\n",
      "{'ImSurf': 0.6537028170836564, 'Building': 0.7231845825653516, 'LowVeg': 0.5914319163011649, 'Tree': 0.4995590238661316, 'Car': 0.6209008571329424, 'Clutter': 0.33297913821087305}\n",
      "val: {'mIoU': 0.6211438922055931, 'F1': 0.7644319351072847, 'OA': 0.757140806571922}\n",
      "{'ImSurf': 0.6459744386206827, 'Building': 0.7082461906940132, 'LowVeg': 0.6095618885591759, 'Tree': 0.5154066748804318, 'Car': 0.6265302682736614, 'Clutter': 0.31723094228246973}\n",
      "Epoch 47: loss: 95.9647, train accuracy: 0.7576, valid accuracy:0.7571\n",
      "Start epoch #48, learning rate for this epoch: [2.902376448e-06]\n"
     ]
    },
    {
     "name": "stderr",
     "output_type": "stream",
     "text": [
      "100%|██████████| 624/624 [02:00<00:00,  5.16it/s]\n"
     ]
    },
    {
     "name": "stdout",
     "output_type": "stream",
     "text": [
      "Done epoch #48, time for this epoch: 120.92945098876953s\n"
     ]
    },
    {
     "name": "stderr",
     "output_type": "stream",
     "text": [
      "100%|██████████| 175/175 [00:23<00:00,  7.50it/s]\n"
     ]
    },
    {
     "name": "stdout",
     "output_type": "stream",
     "text": [
      "(array([0.63425587, 0.71631848, 0.60409996, 0.51304737, 0.63021285,\n",
      "       0.31136312]), 0.6195869041933365, 0.7630884180897022, 0.7542496987238086)\n",
      "train: {'mIoU': 0.6200457125386428, 'F1': 0.7628687815819029, 'OA': 0.7601064688120133}\n",
      "{'ImSurf': 0.6514409832467162, 'Building': 0.7326914247392137, 'LowVeg': 0.5926444265158691, 'Tree': 0.5059009200199142, 'Car': 0.6175508081715015, 'Clutter': 0.32122403326214194}\n",
      "val: {'mIoU': 0.6195869041933365, 'F1': 0.7630884180897022, 'OA': 0.7542496987238086}\n",
      "{'ImSurf': 0.6342558672211144, 'Building': 0.7163184805532601, 'LowVeg': 0.6040999582556861, 'Tree': 0.5130473679347031, 'Car': 0.6302128470019192, 'Clutter': 0.311363123165316}\n",
      "Epoch 48: loss: 95.6920, train accuracy: 0.7601, valid accuracy:0.7542\n",
      "Start epoch #49, learning rate for this epoch: [1.7414258688e-06]\n"
     ]
    },
    {
     "name": "stderr",
     "output_type": "stream",
     "text": [
      "100%|██████████| 624/624 [02:01<00:00,  5.13it/s]\n"
     ]
    },
    {
     "name": "stdout",
     "output_type": "stream",
     "text": [
      "Done epoch #49, time for this epoch: 121.67594528198242s\n"
     ]
    },
    {
     "name": "stderr",
     "output_type": "stream",
     "text": [
      "100%|██████████| 175/175 [00:22<00:00,  7.74it/s]\n"
     ]
    },
    {
     "name": "stdout",
     "output_type": "stream",
     "text": [
      "(array([0.64631512, 0.71687208, 0.60883149, 0.50946573, 0.62979297,\n",
      "       0.32272396]), 0.6222554785397819, 0.7649992961688878, 0.7592038540042566)\n",
      "train: {'mIoU': 0.6187228019456347, 'F1': 0.7618991156609198, 'OA': 0.7576391574663993}\n",
      "{'ImSurf': 0.6529351335609951, 'Building': 0.7272538593045331, 'LowVeg': 0.5885123230636075, 'Tree': 0.5045839400356684, 'Car': 0.6203287537633695, 'Clutter': 0.3199557462281293}\n",
      "val: {'mIoU': 0.6222554785397819, 'F1': 0.7649992961688878, 'OA': 0.7592038540042566}\n",
      "{'ImSurf': 0.6463151162511211, 'Building': 0.7168720807317404, 'LowVeg': 0.6088314933846761, 'Tree': 0.509465734806772, 'Car': 0.6297929675246001, 'Clutter': 0.3227239631230746}\n",
      "Epoch 49: loss: 96.0539, train accuracy: 0.7576, valid accuracy:0.7592\n",
      "Start epoch #50, learning rate for this epoch: [1.7414258688e-06]\n"
     ]
    },
    {
     "name": "stderr",
     "output_type": "stream",
     "text": [
      "100%|██████████| 624/624 [02:01<00:00,  5.15it/s]\n"
     ]
    },
    {
     "name": "stdout",
     "output_type": "stream",
     "text": [
      "Done epoch #50, time for this epoch: 121.08499813079834s\n"
     ]
    },
    {
     "name": "stderr",
     "output_type": "stream",
     "text": [
      "100%|██████████| 175/175 [00:22<00:00,  7.65it/s]\n"
     ]
    },
    {
     "name": "stdout",
     "output_type": "stream",
     "text": [
      "(array([0.6303435 , 0.70859773, 0.60350633, 0.49406905, 0.63752747,\n",
      "       0.32015746]), 0.6148088149735997, 0.7590935325382311, 0.7508924912824445)\n",
      "train: {'mIoU': 0.6158774119987129, 'F1': 0.759763427924393, 'OA': 0.7573133126283303}\n",
      "{'ImSurf': 0.6491310579713407, 'Building': 0.7227812869639892, 'LowVeg': 0.5907930227858399, 'Tree': 0.5013110546550112, 'Car': 0.6153706376173836, 'Clutter': 0.3389972647259029}\n",
      "val: {'mIoU': 0.6148088149735997, 'F1': 0.7590935325382311, 'OA': 0.7508924912824445}\n",
      "{'ImSurf': 0.6303434978532757, 'Building': 0.708597728529666, 'LowVeg': 0.6035063264920724, 'Tree': 0.4940690500927363, 'Car': 0.6375274719002483, 'Clutter': 0.32015745553404656}\n",
      "Epoch 50: loss: 96.2341, train accuracy: 0.7573, valid accuracy:0.7509\n",
      "Start epoch #51, learning rate for this epoch: [1.7414258688e-06]\n"
     ]
    },
    {
     "name": "stderr",
     "output_type": "stream",
     "text": [
      "100%|██████████| 624/624 [02:00<00:00,  5.18it/s]\n"
     ]
    },
    {
     "name": "stdout",
     "output_type": "stream",
     "text": [
      "Done epoch #51, time for this epoch: 120.53866672515869s\n"
     ]
    },
    {
     "name": "stderr",
     "output_type": "stream",
     "text": [
      "100%|██████████| 175/175 [00:22<00:00,  7.68it/s]\n"
     ]
    },
    {
     "name": "stdout",
     "output_type": "stream",
     "text": [
      "(array([0.64579544, 0.70286364, 0.60421276, 0.5113972 , 0.63047851,\n",
      "       0.32190607]), 0.6189495118773685, 0.7627319829851262, 0.754943058975121)\n",
      "train: {'mIoU': 0.6177229280556573, 'F1': 0.7613179059334874, 'OA': 0.7577578593523074}\n",
      "{'ImSurf': 0.6493542692494054, 'Building': 0.722032452621132, 'LowVeg': 0.5907611457154542, 'Tree': 0.5068120867208912, 'Car': 0.6196546859714037, 'Clutter': 0.3352435792533249}\n",
      "val: {'mIoU': 0.6189495118773685, 'F1': 0.7627319829851262, 'OA': 0.754943058975121}\n",
      "{'ImSurf': 0.6457954391294949, 'Building': 0.7028636436983574, 'LowVeg': 0.6042127636401551, 'Tree': 0.5113972045832604, 'Car': 0.6304785083355748, 'Clutter': 0.32190607091299134}\n",
      "Epoch 51: loss: 96.3249, train accuracy: 0.7578, valid accuracy:0.7549\n",
      "Start epoch #52, learning rate for this epoch: [1.7414258688e-06]\n"
     ]
    },
    {
     "name": "stderr",
     "output_type": "stream",
     "text": [
      "100%|██████████| 624/624 [02:00<00:00,  5.19it/s]\n"
     ]
    },
    {
     "name": "stdout",
     "output_type": "stream",
     "text": [
      "Done epoch #52, time for this epoch: 120.3009774684906s\n"
     ]
    },
    {
     "name": "stderr",
     "output_type": "stream",
     "text": [
      "100%|██████████| 175/175 [00:23<00:00,  7.50it/s]\n"
     ]
    },
    {
     "name": "stdout",
     "output_type": "stream",
     "text": [
      "(array([0.6392856 , 0.71327843, 0.61600232, 0.49263519, 0.63191484,\n",
      "       0.32962667]), 0.6186232781636588, 0.7619031005937036, 0.7572158408182093)\n",
      "train: {'mIoU': 0.6177177638360257, 'F1': 0.7613249346754714, 'OA': 0.7564599605707022}\n",
      "{'ImSurf': 0.6451323085242364, 'Building': 0.7221560109497563, 'LowVeg': 0.5943358444049099, 'Tree': 0.5056910148033559, 'Car': 0.62127364049787, 'Clutter': 0.3202351904306887}\n",
      "val: {'mIoU': 0.6186232781636588, 'F1': 0.7619031005937036, 'OA': 0.7572158408182093}\n",
      "{'ImSurf': 0.6392856024178719, 'Building': 0.7132784333858282, 'LowVeg': 0.6160023194524188, 'Tree': 0.4926351948426622, 'Car': 0.6319148407195129, 'Clutter': 0.3296266707051109}\n",
      "Epoch 52: loss: 96.5317, train accuracy: 0.7565, valid accuracy:0.7572\n",
      "Start epoch #53, learning rate for this epoch: [1.04485552128e-06]\n"
     ]
    },
    {
     "name": "stderr",
     "output_type": "stream",
     "text": [
      "100%|██████████| 624/624 [02:00<00:00,  5.18it/s]\n"
     ]
    },
    {
     "name": "stdout",
     "output_type": "stream",
     "text": [
      "Done epoch #53, time for this epoch: 120.35528182983398s\n"
     ]
    },
    {
     "name": "stderr",
     "output_type": "stream",
     "text": [
      "100%|██████████| 175/175 [00:22<00:00,  7.67it/s]\n"
     ]
    },
    {
     "name": "stdout",
     "output_type": "stream",
     "text": [
      "(array([0.63774606, 0.70684473, 0.60718154, 0.50771965, 0.63629378,\n",
      "       0.32047278]), 0.6191571528246621, 0.7627722528855804, 0.7553396889056049)\n",
      "train: {'mIoU': 0.6193930457517177, 'F1': 0.7624310809697936, 'OA': 0.7587764843916281}\n",
      "{'ImSurf': 0.6525418558289552, 'Building': 0.727154570947369, 'LowVeg': 0.590741069110811, 'Tree': 0.50475682642346, 'Car': 0.6217709064479932, 'Clutter': 0.3351181233402389}\n",
      "val: {'mIoU': 0.6191571528246621, 'F1': 0.7627722528855804, 'OA': 0.7553396889056049}\n",
      "{'ImSurf': 0.6377460599554762, 'Building': 0.706844733752499, 'LowVeg': 0.6071815372296039, 'Tree': 0.5077196495583586, 'Car': 0.6362937836273729, 'Clutter': 0.320472781858299}\n",
      "Epoch 53: loss: 96.0367, train accuracy: 0.7588, valid accuracy:0.7553\n",
      "Start epoch #54, learning rate for this epoch: [1.04485552128e-06]\n"
     ]
    },
    {
     "name": "stderr",
     "output_type": "stream",
     "text": [
      "100%|██████████| 624/624 [01:58<00:00,  5.26it/s]\n"
     ]
    },
    {
     "name": "stdout",
     "output_type": "stream",
     "text": [
      "Done epoch #54, time for this epoch: 118.71627712249756s\n"
     ]
    },
    {
     "name": "stderr",
     "output_type": "stream",
     "text": [
      "100%|██████████| 175/175 [00:22<00:00,  7.87it/s]\n"
     ]
    },
    {
     "name": "stdout",
     "output_type": "stream",
     "text": [
      "(array([0.64165066, 0.71756915, 0.61143584, 0.50589793, 0.63460979,\n",
      "       0.30490867]), 0.6222326743325051, 0.7649007236401026, 0.7580763795610305)\n",
      "train: {'mIoU': 0.6188231327277418, 'F1': 0.7619638723144718, 'OA': 0.7583519464884049}\n",
      "{'ImSurf': 0.654821983578592, 'Building': 0.7226738093519337, 'LowVeg': 0.592003826764501, 'Tree': 0.5005076742942923, 'Car': 0.6241083696493902, 'Clutter': 0.3389342113067536}\n",
      "val: {'mIoU': 0.6222326743325051, 'F1': 0.7649007236401026, 'OA': 0.7580763795610305}\n",
      "{'ImSurf': 0.6416506604032715, 'Building': 0.7175691527661044, 'LowVeg': 0.6114358371053025, 'Tree': 0.5058979317236455, 'Car': 0.6346097896642016, 'Clutter': 0.3049086706474676}\n",
      "Epoch 54: loss: 95.6784, train accuracy: 0.7584, valid accuracy:0.7581\n",
      "Start epoch #55, learning rate for this epoch: [1.04485552128e-06]\n"
     ]
    },
    {
     "name": "stderr",
     "output_type": "stream",
     "text": [
      "100%|██████████| 624/624 [01:59<00:00,  5.20it/s]\n"
     ]
    },
    {
     "name": "stdout",
     "output_type": "stream",
     "text": [
      "Done epoch #55, time for this epoch: 119.91520571708679s\n"
     ]
    },
    {
     "name": "stderr",
     "output_type": "stream",
     "text": [
      "100%|██████████| 175/175 [00:22<00:00,  7.81it/s]\n"
     ]
    },
    {
     "name": "stdout",
     "output_type": "stream",
     "text": [
      "(array([0.63189401, 0.71372006, 0.60804914, 0.51325171, 0.63951242,\n",
      "       0.31110347]), 0.621285467596141, 0.7644206620147729, 0.7544622044724177)\n",
      "train: {'mIoU': 0.6177149168247427, 'F1': 0.7610017024423011, 'OA': 0.7574584147869012}\n",
      "{'ImSurf': 0.652682606501536, 'Building': 0.7292777877793967, 'LowVeg': 0.5859385689081347, 'Tree': 0.501460589765225, 'Car': 0.6192150311694208, 'Clutter': 0.3295159365742934}\n",
      "val: {'mIoU': 0.621285467596141, 'F1': 0.7644206620147729, 'OA': 0.7544622044724177}\n",
      "{'ImSurf': 0.6318940104374072, 'Building': 0.7137200628593757, 'LowVeg': 0.6080491372969484, 'Tree': 0.5132517052813178, 'Car': 0.6395124221056557, 'Clutter': 0.31110346537192485}\n",
      "Epoch 55: loss: 96.0342, train accuracy: 0.7575, valid accuracy:0.7545\n",
      "Start epoch #56, learning rate for this epoch: [1.04485552128e-06]\n"
     ]
    },
    {
     "name": "stderr",
     "output_type": "stream",
     "text": [
      "100%|██████████| 624/624 [01:59<00:00,  5.23it/s]\n"
     ]
    },
    {
     "name": "stdout",
     "output_type": "stream",
     "text": [
      "Done epoch #56, time for this epoch: 119.37281441688538s\n"
     ]
    },
    {
     "name": "stderr",
     "output_type": "stream",
     "text": [
      "100%|██████████| 175/175 [00:22<00:00,  7.75it/s]\n"
     ]
    },
    {
     "name": "stdout",
     "output_type": "stream",
     "text": [
      "(array([0.63855658, 0.70721031, 0.60729188, 0.5069464 , 0.62453676,\n",
      "       0.31361236]), 0.6169083882266877, 0.7610550473902193, 0.7542117324905777)\n",
      "train: {'mIoU': 0.6221387180222059, 'F1': 0.7644201033440419, 'OA': 0.7611719033656976}\n",
      "{'ImSurf': 0.6567672025824423, 'Building': 0.731035133432789, 'LowVeg': 0.5957075829672801, 'Tree': 0.5035613114800759, 'Car': 0.6236223596484419, 'Clutter': 0.3286286048610173}\n",
      "val: {'mIoU': 0.6169083882266877, 'F1': 0.7610550473902193, 'OA': 0.7542117324905777}\n",
      "{'ImSurf': 0.6385565833452509, 'Building': 0.7072103077994654, 'LowVeg': 0.6072918818607138, 'Tree': 0.5069464041984187, 'Car': 0.6245367639295899, 'Clutter': 0.31361236476549914}\n",
      "Epoch 56: loss: 95.2462, train accuracy: 0.7612, valid accuracy:0.7542\n",
      "Start epoch #57, learning rate for this epoch: [6.269133127679999e-07]\n"
     ]
    },
    {
     "name": "stderr",
     "output_type": "stream",
     "text": [
      "100%|██████████| 624/624 [01:59<00:00,  5.21it/s]\n"
     ]
    },
    {
     "name": "stdout",
     "output_type": "stream",
     "text": [
      "Done epoch #57, time for this epoch: 119.78647637367249s\n"
     ]
    },
    {
     "name": "stderr",
     "output_type": "stream",
     "text": [
      "100%|██████████| 175/175 [00:21<00:00,  8.01it/s]\n"
     ]
    },
    {
     "name": "stdout",
     "output_type": "stream",
     "text": [
      "(array([0.63985896, 0.71526689, 0.61046537, 0.50801125, 0.63933698,\n",
      "       0.33258779]), 0.6225878889051772, 0.7652502153986839, 0.758833480583021)\n",
      "train: {'mIoU': 0.6207405632229849, 'F1': 0.7636132042110373, 'OA': 0.7590195582463191}\n",
      "{'ImSurf': 0.6539492200944318, 'Building': 0.7226214111423448, 'LowVeg': 0.594142432116649, 'Tree': 0.507544533195047, 'Car': 0.6254452195664516, 'Clutter': 0.3231576347758684}\n",
      "val: {'mIoU': 0.6225878889051772, 'F1': 0.7652502153986839, 'OA': 0.758833480583021}\n",
      "{'ImSurf': 0.6398589555979886, 'Building': 0.7152668915459998, 'LowVeg': 0.6104653668855341, 'Tree': 0.5080112537448503, 'Car': 0.6393369767515134, 'Clutter': 0.33258779458406834}\n",
      "Epoch 57: loss: 95.4951, train accuracy: 0.7590, valid accuracy:0.7588\n",
      "Start epoch #58, learning rate for this epoch: [6.269133127679999e-07]\n"
     ]
    },
    {
     "name": "stderr",
     "output_type": "stream",
     "text": [
      "100%|██████████| 624/624 [01:59<00:00,  5.24it/s]\n"
     ]
    },
    {
     "name": "stdout",
     "output_type": "stream",
     "text": [
      "Done epoch #58, time for this epoch: 119.07091736793518s\n"
     ]
    },
    {
     "name": "stderr",
     "output_type": "stream",
     "text": [
      "100%|██████████| 175/175 [00:22<00:00,  7.76it/s]\n"
     ]
    },
    {
     "name": "stdout",
     "output_type": "stream",
     "text": [
      "(array([0.64222953, 0.72232128, 0.61558952, 0.49915849, 0.6242439 ,\n",
      "       0.32405412]), 0.6207085429366087, 0.7635115539567123, 0.7591865139733264)\n",
      "train: {'mIoU': 0.6189789872719048, 'F1': 0.7620938485571022, 'OA': 0.758298180042169}\n",
      "{'ImSurf': 0.6497004478687128, 'Building': 0.728865601056389, 'LowVeg': 0.5898833158933925, 'Tree': 0.504700810582097, 'Car': 0.6217447609589328, 'Clutter': 0.320321964974039}\n",
      "val: {'mIoU': 0.6207085429366087, 'F1': 0.7635115539567123, 'OA': 0.7591865139733264}\n",
      "{'ImSurf': 0.642229525699974, 'Building': 0.7223212786017302, 'LowVeg': 0.6155895226528536, 'Tree': 0.4991584877899987, 'Car': 0.6242438999384867, 'Clutter': 0.32405411749450935}\n",
      "Epoch 58: loss: 95.7920, train accuracy: 0.7583, valid accuracy:0.7592\n",
      "Start epoch #59, learning rate for this epoch: [6.269133127679999e-07]\n"
     ]
    },
    {
     "name": "stderr",
     "output_type": "stream",
     "text": [
      "100%|██████████| 624/624 [01:58<00:00,  5.26it/s]\n"
     ]
    },
    {
     "name": "stdout",
     "output_type": "stream",
     "text": [
      "Done epoch #59, time for this epoch: 118.54382658004761s\n"
     ]
    },
    {
     "name": "stderr",
     "output_type": "stream",
     "text": [
      "100%|██████████| 175/175 [00:22<00:00,  7.65it/s]\n"
     ]
    },
    {
     "name": "stdout",
     "output_type": "stream",
     "text": [
      "(array([0.64595616, 0.72406871, 0.61659157, 0.49225128, 0.64101979,\n",
      "       0.3371057 ]), 0.6239775007755197, 0.7657344327767641, 0.7604236808168913)\n",
      "train: {'mIoU': 0.6178855204246261, 'F1': 0.7612940039476751, 'OA': 0.7566075600110568}\n",
      "{'ImSurf': 0.6485752999949733, 'Building': 0.7231795242555412, 'LowVeg': 0.5897243955016234, 'Tree': 0.5017919033825594, 'Car': 0.6261564789884333, 'Clutter': 0.33323160510349004}\n",
      "val: {'mIoU': 0.6239775007755197, 'F1': 0.7657344327767641, 'OA': 0.7604236808168913}\n",
      "{'ImSurf': 0.6459561565309286, 'Building': 0.7240687131342327, 'LowVeg': 0.6165915660380499, 'Tree': 0.4922512831315452, 'Car': 0.6410197850428423, 'Clutter': 0.3371057043400031}\n",
      "Epoch 59: loss: 95.9393, train accuracy: 0.7566, valid accuracy:0.7604\n",
      "Start epoch #60, learning rate for this epoch: [6.269133127679999e-07]\n"
     ]
    },
    {
     "name": "stderr",
     "output_type": "stream",
     "text": [
      "100%|██████████| 624/624 [01:58<00:00,  5.25it/s]\n"
     ]
    },
    {
     "name": "stdout",
     "output_type": "stream",
     "text": [
      "Done epoch #60, time for this epoch: 118.92938828468323s\n"
     ]
    },
    {
     "name": "stderr",
     "output_type": "stream",
     "text": [
      "100%|██████████| 175/175 [00:22<00:00,  7.75it/s]\n"
     ]
    },
    {
     "name": "stdout",
     "output_type": "stream",
     "text": [
      "(array([0.64201819, 0.71169352, 0.61228398, 0.4981671 , 0.63328571,\n",
      "       0.32435056]), 0.6194897012684064, 0.7627173803274733, 0.7557459582721082)\n",
      "train: {'mIoU': 0.6135780571755045, 'F1': 0.7581044142551412, 'OA': 0.7535064831758157}\n",
      "{'ImSurf': 0.6428961248224568, 'Building': 0.7196945717911116, 'LowVeg': 0.5882926858352725, 'Tree': 0.5023198517242217, 'Car': 0.61468705170446, 'Clutter': 0.31436047430630376}\n",
      "val: {'mIoU': 0.6194897012684064, 'F1': 0.7627173803274733, 'OA': 0.7557459582721082}\n",
      "{'ImSurf': 0.6420181927331104, 'Building': 0.7116935172235639, 'LowVeg': 0.6122839791133704, 'Tree': 0.4981671026779945, 'Car': 0.6332857145939927, 'Clutter': 0.32435056030605025}\n",
      "Epoch 60: loss: 96.8438, train accuracy: 0.7535, valid accuracy:0.7557\n",
      "Start epoch #61, learning rate for this epoch: [3.7614798766079994e-07]\n"
     ]
    },
    {
     "name": "stderr",
     "output_type": "stream",
     "text": [
      "100%|██████████| 624/624 [01:58<00:00,  5.26it/s]\n"
     ]
    },
    {
     "name": "stdout",
     "output_type": "stream",
     "text": [
      "Done epoch #61, time for this epoch: 118.59917974472046s\n"
     ]
    },
    {
     "name": "stderr",
     "output_type": "stream",
     "text": [
      "100%|██████████| 175/175 [00:22<00:00,  7.63it/s]\n"
     ]
    },
    {
     "name": "stdout",
     "output_type": "stream",
     "text": [
      "(array([0.63314146, 0.69767755, 0.60691691, 0.49992317, 0.64174869,\n",
      "       0.31590139]), 0.6158815578323862, 0.7602104060693821, 0.7514837392353788)\n",
      "train: {'mIoU': 0.6161638740849733, 'F1': 0.7600339730986791, 'OA': 0.754809578259786}\n",
      "{'ImSurf': 0.6470347185581917, 'Building': 0.7209882845762413, 'LowVeg': 0.5893880235320483, 'Tree': 0.5019662953199774, 'Car': 0.621442048438408, 'Clutter': 0.3145126841749822}\n",
      "val: {'mIoU': 0.6158815578323862, 'F1': 0.7602104060693821, 'OA': 0.7514837392353788}\n",
      "{'ImSurf': 0.633141462919274, 'Building': 0.697677547463287, 'LowVeg': 0.6069169127225372, 'Tree': 0.4999231723604426, 'Car': 0.6417486936963902, 'Clutter': 0.31590138601265355}\n",
      "Epoch 61: loss: 96.3584, train accuracy: 0.7548, valid accuracy:0.7515\n",
      "Start epoch #62, learning rate for this epoch: [3.7614798766079994e-07]\n"
     ]
    },
    {
     "name": "stderr",
     "output_type": "stream",
     "text": [
      "100%|██████████| 624/624 [02:00<00:00,  5.18it/s]\n"
     ]
    },
    {
     "name": "stdout",
     "output_type": "stream",
     "text": [
      "Done epoch #62, time for this epoch: 120.56150078773499s\n"
     ]
    },
    {
     "name": "stderr",
     "output_type": "stream",
     "text": [
      "100%|██████████| 175/175 [00:22<00:00,  7.87it/s]\n"
     ]
    },
    {
     "name": "stdout",
     "output_type": "stream",
     "text": [
      "(array([0.64685459, 0.70864894, 0.61306487, 0.50864678, 0.62774238,\n",
      "       0.31795327]), 0.620991511562883, 0.7641570950926069, 0.7570567134465574)\n",
      "train: {'mIoU': 0.6180223689750991, 'F1': 0.761476781697986, 'OA': 0.758199135462443}\n",
      "{'ImSurf': 0.6502383017624077, 'Building': 0.7240501775914415, 'LowVeg': 0.5905950533415473, 'Tree': 0.5056457398895824, 'Car': 0.6195825722905165, 'Clutter': 0.32729112911993635}\n",
      "val: {'mIoU': 0.620991511562883, 'F1': 0.7641570950926069, 'OA': 0.7570567134465574}\n",
      "{'ImSurf': 0.646854588610446, 'Building': 0.7086489353439949, 'LowVeg': 0.6130648654904206, 'Tree': 0.5086467847439339, 'Car': 0.6277423836256193, 'Clutter': 0.31795326873363805}\n",
      "Epoch 62: loss: 95.7260, train accuracy: 0.7582, valid accuracy:0.7571\n",
      "Start epoch #63, learning rate for this epoch: [3.7614798766079994e-07]\n"
     ]
    },
    {
     "name": "stderr",
     "output_type": "stream",
     "text": [
      "100%|██████████| 624/624 [01:58<00:00,  5.29it/s]\n"
     ]
    },
    {
     "name": "stdout",
     "output_type": "stream",
     "text": [
      "Done epoch #63, time for this epoch: 118.05722546577454s\n"
     ]
    },
    {
     "name": "stderr",
     "output_type": "stream",
     "text": [
      "100%|██████████| 175/175 [00:22<00:00,  7.80it/s]\n"
     ]
    },
    {
     "name": "stdout",
     "output_type": "stream",
     "text": [
      "(array([0.63858018, 0.72138993, 0.60485928, 0.49560165, 0.63942766,\n",
      "       0.32400925]), 0.6199717409942682, 0.7628343412386411, 0.7560761527713903)\n",
      "train: {'mIoU': 0.6223848582103356, 'F1': 0.7646350207502903, 'OA': 0.7610195722335424}\n",
      "{'ImSurf': 0.6527532380930565, 'Building': 0.7341863058008, 'LowVeg': 0.5946033584454269, 'Tree': 0.5063670552938258, 'Car': 0.6240143334185688, 'Clutter': 0.3233672913125632}\n",
      "val: {'mIoU': 0.6199717409942682, 'F1': 0.7628343412386411, 'OA': 0.7560761527713903}\n",
      "{'ImSurf': 0.6385801770247727, 'Building': 0.721389928426506, 'LowVeg': 0.604859284833683, 'Tree': 0.4956016517293043, 'Car': 0.6394276629570748, 'Clutter': 0.3240092518760063}\n",
      "Epoch 63: loss: 95.2516, train accuracy: 0.7610, valid accuracy:0.7561\n",
      "Start epoch #64, learning rate for this epoch: [3.7614798766079994e-07]\n"
     ]
    },
    {
     "name": "stderr",
     "output_type": "stream",
     "text": [
      "100%|██████████| 624/624 [01:58<00:00,  5.25it/s]\n"
     ]
    },
    {
     "name": "stdout",
     "output_type": "stream",
     "text": [
      "Done epoch #64, time for this epoch: 118.77530550956726s\n"
     ]
    },
    {
     "name": "stderr",
     "output_type": "stream",
     "text": [
      "100%|██████████| 175/175 [00:22<00:00,  7.80it/s]\n"
     ]
    },
    {
     "name": "stdout",
     "output_type": "stream",
     "text": [
      "(array([0.64590541, 0.7172721 , 0.6082835 , 0.50216364, 0.63115966,\n",
      "       0.33970521]), 0.6209568627772738, 0.763825857405106, 0.756922571931224)\n",
      "train: {'mIoU': 0.618650429797029, 'F1': 0.7619916879048032, 'OA': 0.7569389098729843}\n",
      "{'ImSurf': 0.6515561405394833, 'Building': 0.7214306806167036, 'LowVeg': 0.5894838613780936, 'Tree': 0.5059032204089642, 'Car': 0.6248782460419009, 'Clutter': 0.32589046745748956}\n",
      "val: {'mIoU': 0.6209568627772738, 'F1': 0.763825857405106, 'OA': 0.756922571931224}\n",
      "{'ImSurf': 0.6459054120594526, 'Building': 0.7172720964774402, 'LowVeg': 0.6082835033998244, 'Tree': 0.5021636434288932, 'Car': 0.631159658520758, 'Clutter': 0.3397052079285555}\n",
      "Epoch 64: loss: 96.0939, train accuracy: 0.7569, valid accuracy:0.7569\n",
      "Start epoch #65, learning rate for this epoch: [2.2568879259647996e-07]\n"
     ]
    },
    {
     "name": "stderr",
     "output_type": "stream",
     "text": [
      "100%|██████████| 624/624 [01:59<00:00,  5.23it/s]\n"
     ]
    },
    {
     "name": "stdout",
     "output_type": "stream",
     "text": [
      "Done epoch #65, time for this epoch: 119.20627093315125s\n"
     ]
    },
    {
     "name": "stderr",
     "output_type": "stream",
     "text": [
      "100%|██████████| 175/175 [00:22<00:00,  7.69it/s]\n"
     ]
    },
    {
     "name": "stdout",
     "output_type": "stream",
     "text": [
      "(array([0.6481245 , 0.71549356, 0.60847803, 0.51668626, 0.6371896 ,\n",
      "       0.33492853]), 0.6251943896066485, 0.7673945715254384, 0.7606096123930196)\n",
      "train: {'mIoU': 0.6159820056677319, 'F1': 0.7598224633430617, 'OA': 0.7561343602645092}\n",
      "{'ImSurf': 0.6474400174060553, 'Building': 0.7232546530169915, 'LowVeg': 0.5881251973434086, 'Tree': 0.501019305141573, 'Car': 0.6200708554306313, 'Clutter': 0.3283271107725917}\n",
      "val: {'mIoU': 0.6251943896066485, 'F1': 0.7673945715254384, 'OA': 0.7606096123930196}\n",
      "{'ImSurf': 0.648124504580766, 'Building': 0.7154935565612967, 'LowVeg': 0.6084780305595001, 'Tree': 0.5166862560315846, 'Car': 0.6371896003000946, 'Clutter': 0.334928534383023}\n",
      "Epoch 65: loss: 95.9815, train accuracy: 0.7561, valid accuracy:0.7606\n",
      "Start epoch #66, learning rate for this epoch: [2.2568879259647996e-07]\n"
     ]
    },
    {
     "name": "stderr",
     "output_type": "stream",
     "text": [
      "100%|██████████| 624/624 [01:58<00:00,  5.25it/s]\n"
     ]
    },
    {
     "name": "stdout",
     "output_type": "stream",
     "text": [
      "Done epoch #66, time for this epoch: 118.96184062957764s\n"
     ]
    },
    {
     "name": "stderr",
     "output_type": "stream",
     "text": [
      "100%|██████████| 175/175 [00:22<00:00,  7.92it/s]\n"
     ]
    },
    {
     "name": "stdout",
     "output_type": "stream",
     "text": [
      "(array([0.64308823, 0.71723955, 0.60504091, 0.50365639, 0.63265405,\n",
      "       0.32415214]), 0.6203358271104172, 0.763391102585347, 0.7553833073535926)\n",
      "train: {'mIoU': 0.6196223310637166, 'F1': 0.762586937428477, 'OA': 0.7579932732459826}\n",
      "{'ImSurf': 0.6493245980789085, 'Building': 0.7289412698677685, 'LowVeg': 0.5920346214134129, 'Tree': 0.5043286708815747, 'Car': 0.6234824950769183, 'Clutter': 0.31845413325396116}\n",
      "val: {'mIoU': 0.6203358271104172, 'F1': 0.763391102585347, 'OA': 0.7553833073535926}\n",
      "{'ImSurf': 0.6430882290593082, 'Building': 0.7172395513696223, 'LowVeg': 0.6050409109078451, 'Tree': 0.5036563899964798, 'Car': 0.6326540542188309, 'Clutter': 0.32415213890112304}\n",
      "Epoch 66: loss: 95.4217, train accuracy: 0.7580, valid accuracy:0.7554\n",
      "Start epoch #67, learning rate for this epoch: [2.2568879259647996e-07]\n"
     ]
    },
    {
     "name": "stderr",
     "output_type": "stream",
     "text": [
      "100%|██████████| 624/624 [01:59<00:00,  5.23it/s]\n"
     ]
    },
    {
     "name": "stdout",
     "output_type": "stream",
     "text": [
      "Done epoch #67, time for this epoch: 119.40314722061157s\n"
     ]
    },
    {
     "name": "stderr",
     "output_type": "stream",
     "text": [
      "100%|██████████| 175/175 [00:23<00:00,  7.48it/s]\n"
     ]
    },
    {
     "name": "stdout",
     "output_type": "stream",
     "text": [
      "(array([0.64110786, 0.70894659, 0.60843387, 0.49100543, 0.62596081,\n",
      "       0.31224089]), 0.6150909107534981, 0.7592270382092412, 0.7540130834312465)\n",
      "train: {'mIoU': 0.6187830116253059, 'F1': 0.7621115153467917, 'OA': 0.7576194940469204}\n",
      "{'ImSurf': 0.6464173907117342, 'Building': 0.724827673896216, 'LowVeg': 0.5926100085345626, 'Tree': 0.5072730082777943, 'Car': 0.6227869767062221, 'Clutter': 0.3225948439691999}\n",
      "val: {'mIoU': 0.6150909107534981, 'F1': 0.7592270382092412, 'OA': 0.7540130834312465}\n",
      "{'ImSurf': 0.6411078591467121, 'Building': 0.7089465904610509, 'LowVeg': 0.6084338656867535, 'Tree': 0.49100542623207916, 'Car': 0.6259608122408945, 'Clutter': 0.31224089257848053}\n",
      "Epoch 67: loss: 96.1021, train accuracy: 0.7576, valid accuracy:0.7540\n",
      "Start epoch #68, learning rate for this epoch: [2.2568879259647996e-07]\n"
     ]
    },
    {
     "name": "stderr",
     "output_type": "stream",
     "text": [
      "100%|██████████| 624/624 [01:59<00:00,  5.24it/s]\n"
     ]
    },
    {
     "name": "stdout",
     "output_type": "stream",
     "text": [
      "Done epoch #68, time for this epoch: 119.19595074653625s\n"
     ]
    },
    {
     "name": "stderr",
     "output_type": "stream",
     "text": [
      "100%|██████████| 175/175 [00:22<00:00,  7.83it/s]\n"
     ]
    },
    {
     "name": "stdout",
     "output_type": "stream",
     "text": [
      "(array([0.63932204, 0.70625734, 0.60292757, 0.51970859, 0.6165813 ,\n",
      "       0.31931574]), 0.6169593677440455, 0.7613779612352308, 0.7543310752808404)\n",
      "train: {'mIoU': 0.621658079470968, 'F1': 0.7640794559525219, 'OA': 0.7603444839135195}\n",
      "{'ImSurf': 0.654968049636066, 'Building': 0.7320321371233863, 'LowVeg': 0.5923198713774146, 'Tree': 0.5056055896827377, 'Car': 0.6233647495352355, 'Clutter': 0.32529183904226433}\n",
      "val: {'mIoU': 0.6169593677440455, 'F1': 0.7613779612352308, 'OA': 0.7543310752808404}\n",
      "{'ImSurf': 0.6393220431770086, 'Building': 0.7062573415047816, 'LowVeg': 0.6029275677516931, 'Tree': 0.5197085896463404, 'Car': 0.6165812966404037, 'Clutter': 0.3193157369822683}\n",
      "Epoch 68: loss: 95.4602, train accuracy: 0.7603, valid accuracy:0.7543\n",
      "Start epoch #69, learning rate for this epoch: [1.3541327555788797e-07]\n"
     ]
    },
    {
     "name": "stderr",
     "output_type": "stream",
     "text": [
      "100%|██████████| 624/624 [01:58<00:00,  5.26it/s]\n"
     ]
    },
    {
     "name": "stdout",
     "output_type": "stream",
     "text": [
      "Done epoch #69, time for this epoch: 118.60565376281738s\n"
     ]
    },
    {
     "name": "stderr",
     "output_type": "stream",
     "text": [
      "100%|██████████| 175/175 [00:21<00:00,  8.05it/s]\n"
     ]
    },
    {
     "name": "stdout",
     "output_type": "stream",
     "text": [
      "(array([0.63710528, 0.71140103, 0.61171929, 0.49788713, 0.64721149,\n",
      "       0.31090428]), 0.6210648425816443, 0.7638800324914529, 0.7552185606288977)\n",
      "train: {'mIoU': 0.617036897528742, 'F1': 0.7606621218771875, 'OA': 0.7558243886018411}\n",
      "{'ImSurf': 0.6506968830737327, 'Building': 0.7225802701803482, 'LowVeg': 0.5871548235798713, 'Tree': 0.5029306319858933, 'Car': 0.621821878823865, 'Clutter': 0.32364981856841374}\n",
      "val: {'mIoU': 0.6210648425816443, 'F1': 0.7638800324914529, 'OA': 0.7552185606288977}\n",
      "{'ImSurf': 0.6371052764696657, 'Building': 0.7114010254123486, 'LowVeg': 0.6117192875485391, 'Tree': 0.49788713319079264, 'Car': 0.6472114902868753, 'Clutter': 0.31090428081964266}\n",
      "Epoch 69: loss: 96.3379, train accuracy: 0.7558, valid accuracy:0.7552\n",
      "Start epoch #70, learning rate for this epoch: [1.3541327555788797e-07]\n"
     ]
    },
    {
     "name": "stderr",
     "output_type": "stream",
     "text": [
      "100%|██████████| 624/624 [02:00<00:00,  5.20it/s]\n"
     ]
    },
    {
     "name": "stdout",
     "output_type": "stream",
     "text": [
      "Done epoch #70, time for this epoch: 120.04526972770691s\n"
     ]
    },
    {
     "name": "stderr",
     "output_type": "stream",
     "text": [
      "100%|██████████| 175/175 [00:21<00:00,  8.17it/s]\n"
     ]
    },
    {
     "name": "stdout",
     "output_type": "stream",
     "text": [
      "(array([0.64307806, 0.70696696, 0.60362862, 0.51418523, 0.62310544,\n",
      "       0.32481318]), 0.6181928618800419, 0.7621767553778068, 0.756177969314345)\n",
      "train: {'mIoU': 0.6195349381204989, 'F1': 0.7626322699589922, 'OA': 0.7581943701475095}\n",
      "{'ImSurf': 0.6497898123750627, 'Building': 0.7246076792994302, 'LowVeg': 0.5915641629501712, 'Tree': 0.5059770086344294, 'Car': 0.6257360273434012, 'Clutter': 0.33161628002346716}\n",
      "val: {'mIoU': 0.6181928618800419, 'F1': 0.7621767553778068, 'OA': 0.756177969314345}\n",
      "{'ImSurf': 0.6430780618459775, 'Building': 0.7069669598893668, 'LowVeg': 0.6036286178725219, 'Tree': 0.514185225947321, 'Car': 0.6231054438450221, 'Clutter': 0.3248131796955229}\n",
      "Epoch 70: loss: 95.9370, train accuracy: 0.7582, valid accuracy:0.7562\n",
      "Start epoch #71, learning rate for this epoch: [1.3541327555788797e-07]\n"
     ]
    },
    {
     "name": "stderr",
     "output_type": "stream",
     "text": [
      "100%|██████████| 624/624 [01:57<00:00,  5.30it/s]\n"
     ]
    },
    {
     "name": "stdout",
     "output_type": "stream",
     "text": [
      "Done epoch #71, time for this epoch: 117.79426503181458s\n"
     ]
    },
    {
     "name": "stderr",
     "output_type": "stream",
     "text": [
      "100%|██████████| 175/175 [00:21<00:00,  8.06it/s]\n"
     ]
    },
    {
     "name": "stdout",
     "output_type": "stream",
     "text": [
      "(array([0.64768769, 0.72308227, 0.61077852, 0.49539976, 0.62933142,\n",
      "       0.32748207]), 0.6212559325523412, 0.7637798125034254, 0.7595312004883512)\n",
      "train: {'mIoU': 0.620891113610858, 'F1': 0.7636106988424822, 'OA': 0.7590210468341143}\n",
      "{'ImSurf': 0.651954363271651, 'Building': 0.727214851520274, 'LowVeg': 0.5906214756621458, 'Tree': 0.5065134825586399, 'Car': 0.6281513950415792, 'Clutter': 0.3345779512416982}\n",
      "val: {'mIoU': 0.6212559325523412, 'F1': 0.7637798125034254, 'OA': 0.7595312004883512}\n",
      "{'ImSurf': 0.6476876931200679, 'Building': 0.723082273313879, 'LowVeg': 0.6107785188222808, 'Tree': 0.49539976189743284, 'Car': 0.629331415608046, 'Clutter': 0.3274820693055136}\n",
      "Epoch 71: loss: 95.6402, train accuracy: 0.7590, valid accuracy:0.7595\n",
      "Start epoch #72, learning rate for this epoch: [1.3541327555788797e-07]\n"
     ]
    },
    {
     "name": "stderr",
     "output_type": "stream",
     "text": [
      "100%|██████████| 624/624 [01:58<00:00,  5.27it/s]\n"
     ]
    },
    {
     "name": "stdout",
     "output_type": "stream",
     "text": [
      "Done epoch #72, time for this epoch: 118.37660026550293s\n"
     ]
    },
    {
     "name": "stderr",
     "output_type": "stream",
     "text": [
      "100%|██████████| 175/175 [00:22<00:00,  7.91it/s]\n"
     ]
    },
    {
     "name": "stdout",
     "output_type": "stream",
     "text": [
      "(array([0.64004245, 0.71335657, 0.59933699, 0.51033472, 0.63382403,\n",
      "       0.32492188]), 0.6193789532000459, 0.7628740054558186, 0.7553072324863714)\n",
      "train: {'mIoU': 0.6215603365286279, 'F1': 0.7640579128085511, 'OA': 0.760490127098866}\n",
      "{'ImSurf': 0.6581437108271209, 'Building': 0.7264363542390858, 'LowVeg': 0.5947680104786313, 'Tree': 0.5038785948906388, 'Car': 0.6245750122076622, 'Clutter': 0.33373867032060506}\n",
      "val: {'mIoU': 0.6193789532000459, 'F1': 0.7628740054558186, 'OA': 0.7553072324863714}\n",
      "{'ImSurf': 0.6400424473109496, 'Building': 0.7133565713900865, 'LowVeg': 0.5993369928073448, 'Tree': 0.5103347215907652, 'Car': 0.6338240329010835, 'Clutter': 0.3249218836418437}\n",
      "Epoch 72: loss: 95.5765, train accuracy: 0.7605, valid accuracy:0.7553\n",
      "Start epoch #73, learning rate for this epoch: [8.124796533473278e-08]\n"
     ]
    },
    {
     "name": "stderr",
     "output_type": "stream",
     "text": [
      "100%|██████████| 624/624 [01:57<00:00,  5.32it/s]\n"
     ]
    },
    {
     "name": "stdout",
     "output_type": "stream",
     "text": [
      "Done epoch #73, time for this epoch: 117.28844928741455s\n"
     ]
    },
    {
     "name": "stderr",
     "output_type": "stream",
     "text": [
      "100%|██████████| 175/175 [00:21<00:00,  7.96it/s]\n"
     ]
    },
    {
     "name": "stdout",
     "output_type": "stream",
     "text": [
      "(array([0.64449639, 0.72035028, 0.61677914, 0.51260515, 0.63312994,\n",
      "       0.32009735]), 0.6254721797538063, 0.7674752987127672, 0.7603365534599615)\n",
      "train: {'mIoU': 0.6225483895835874, 'F1': 0.7648158509806801, 'OA': 0.7607352213981824}\n",
      "{'ImSurf': 0.6556041765701307, 'Building': 0.7278671890401285, 'LowVeg': 0.5962614133878845, 'Tree': 0.5043755457584148, 'Car': 0.6286336231613783, 'Clutter': 0.3270737180661753}\n",
      "val: {'mIoU': 0.6254721797538063, 'F1': 0.7674752987127672, 'OA': 0.7603365534599615}\n",
      "{'ImSurf': 0.6444963863102555, 'Building': 0.7203502806898208, 'LowVeg': 0.6167791408796087, 'Tree': 0.5126051543307478, 'Car': 0.6331299365585984, 'Clutter': 0.320097347600992}\n",
      "Epoch 73: loss: 95.5608, train accuracy: 0.7607, valid accuracy:0.7603\n",
      "Start epoch #74, learning rate for this epoch: [8.124796533473278e-08]\n"
     ]
    },
    {
     "name": "stderr",
     "output_type": "stream",
     "text": [
      "100%|██████████| 624/624 [01:58<00:00,  5.29it/s]\n"
     ]
    },
    {
     "name": "stdout",
     "output_type": "stream",
     "text": [
      "Done epoch #74, time for this epoch: 118.02246570587158s\n"
     ]
    },
    {
     "name": "stderr",
     "output_type": "stream",
     "text": [
      "100%|██████████| 175/175 [00:21<00:00,  7.96it/s]\n"
     ]
    },
    {
     "name": "stdout",
     "output_type": "stream",
     "text": [
      "(array([0.64196001, 0.71152685, 0.60675874, 0.5081463 , 0.64185917,\n",
      "       0.34268388]), 0.6220502130823292, 0.764878354315815, 0.756840417646968)\n",
      "train: {'mIoU': 0.6181918490571896, 'F1': 0.7614467558584721, 'OA': 0.7566439219010181}\n",
      "{'ImSurf': 0.6525800871536849, 'Building': 0.722509678357741, 'LowVeg': 0.5876257629548198, 'Tree': 0.4996477910209256, 'Car': 0.6285959257987768, 'Clutter': 0.3304811600965793}\n",
      "val: {'mIoU': 0.6220502130823292, 'F1': 0.764878354315815, 'OA': 0.756840417646968}\n",
      "{'ImSurf': 0.6419600134698065, 'Building': 0.7115268501628381, 'LowVeg': 0.606758738804344, 'Tree': 0.5081462956823499, 'Car': 0.6418591672923076, 'Clutter': 0.34268387851526205}\n",
      "Epoch 74: loss: 96.1844, train accuracy: 0.7566, valid accuracy:0.7568\n",
      "Start epoch #75, learning rate for this epoch: [8.124796533473278e-08]\n"
     ]
    },
    {
     "name": "stderr",
     "output_type": "stream",
     "text": [
      "100%|██████████| 624/624 [01:59<00:00,  5.24it/s]\n"
     ]
    },
    {
     "name": "stdout",
     "output_type": "stream",
     "text": [
      "Done epoch #75, time for this epoch: 119.03356051445007s\n"
     ]
    },
    {
     "name": "stderr",
     "output_type": "stream",
     "text": [
      "100%|██████████| 175/175 [00:22<00:00,  7.95it/s]\n"
     ]
    },
    {
     "name": "stdout",
     "output_type": "stream",
     "text": [
      "(array([0.6384905 , 0.71823469, 0.62112027, 0.50213607, 0.64456371,\n",
      "       0.31570572]), 0.6249090467442513, 0.766819774577673, 0.7599449404177695)\n",
      "train: {'mIoU': 0.6147438322092045, 'F1': 0.7589212603142537, 'OA': 0.7544142252359635}\n",
      "{'ImSurf': 0.6492496754739695, 'Building': 0.7194550223203029, 'LowVeg': 0.5857634881841827, 'Tree': 0.5010614119758381, 'Car': 0.6181895630917291, 'Clutter': 0.31508665419238746}\n",
      "val: {'mIoU': 0.6249090467442513, 'F1': 0.766819774577673, 'OA': 0.7599449404177695}\n",
      "{'ImSurf': 0.6384904951090297, 'Building': 0.7182346866196443, 'LowVeg': 0.6211202671293653, 'Tree': 0.5021360746168869, 'Car': 0.6445637102463303, 'Clutter': 0.31570572006131864}\n",
      "Epoch 75: loss: 96.4973, train accuracy: 0.7544, valid accuracy:0.7599\n",
      "Start epoch #76, learning rate for this epoch: [8.124796533473278e-08]\n"
     ]
    },
    {
     "name": "stderr",
     "output_type": "stream",
     "text": [
      "100%|██████████| 624/624 [01:59<00:00,  5.22it/s]\n"
     ]
    },
    {
     "name": "stdout",
     "output_type": "stream",
     "text": [
      "Done epoch #76, time for this epoch: 119.46048855781555s\n"
     ]
    },
    {
     "name": "stderr",
     "output_type": "stream",
     "text": [
      "100%|██████████| 175/175 [00:21<00:00,  8.07it/s]\n"
     ]
    },
    {
     "name": "stdout",
     "output_type": "stream",
     "text": [
      "(array([0.6439798 , 0.7273474 , 0.60189979, 0.50230045, 0.6379174 ,\n",
      "       0.33691464]), 0.6226889668629235, 0.7649446778633295, 0.758437814596139)\n",
      "train: {'mIoU': 0.6164941609329361, 'F1': 0.7601025992658739, 'OA': 0.7560358689381526}\n",
      "{'ImSurf': 0.6496262471698893, 'Building': 0.723719544183733, 'LowVeg': 0.5897958558173848, 'Tree': 0.4971082942045316, 'Car': 0.622220863289142, 'Clutter': 0.3132990231116945}\n",
      "val: {'mIoU': 0.6226889668629235, 'F1': 0.7649446778633295, 'OA': 0.758437814596139}\n",
      "{'ImSurf': 0.643979796668593, 'Building': 0.7273473970540282, 'LowVeg': 0.6018997927051297, 'Tree': 0.502300451038524, 'Car': 0.6379173968483427, 'Clutter': 0.33691463518305326}\n",
      "Epoch 76: loss: 96.3179, train accuracy: 0.7560, valid accuracy:0.7584\n",
      "Start epoch #77, learning rate for this epoch: [4.8748779200839665e-08]\n"
     ]
    },
    {
     "name": "stderr",
     "output_type": "stream",
     "text": [
      "100%|██████████| 624/624 [01:58<00:00,  5.26it/s]\n"
     ]
    },
    {
     "name": "stdout",
     "output_type": "stream",
     "text": [
      "Done epoch #77, time for this epoch: 118.60784220695496s\n"
     ]
    },
    {
     "name": "stderr",
     "output_type": "stream",
     "text": [
      "100%|██████████| 175/175 [00:22<00:00,  7.93it/s]\n"
     ]
    },
    {
     "name": "stdout",
     "output_type": "stream",
     "text": [
      "(array([0.64317523, 0.71508711, 0.60177731, 0.50790822, 0.62686692,\n",
      "       0.33060724]), 0.6189629555068821, 0.76248245587899, 0.7557649304348191)\n",
      "train: {'mIoU': 0.6166519395084238, 'F1': 0.7603591481904518, 'OA': 0.7565452716289423}\n",
      "{'ImSurf': 0.6497054458237824, 'Building': 0.724529172344968, 'LowVeg': 0.5858790887542038, 'Tree': 0.5040552908968444, 'Car': 0.6190906997223206, 'Clutter': 0.33822880954086176}\n",
      "val: {'mIoU': 0.6189629555068821, 'F1': 0.76248245587899, 'OA': 0.7557649304348191}\n",
      "{'ImSurf': 0.6431752261735781, 'Building': 0.7150871076827211, 'LowVeg': 0.601777307699519, 'Tree': 0.5079082159397726, 'Car': 0.6268669200388194, 'Clutter': 0.3306072448929741}\n",
      "Epoch 77: loss: 96.4403, train accuracy: 0.7565, valid accuracy:0.7558\n",
      "Start epoch #78, learning rate for this epoch: [4.8748779200839665e-08]\n"
     ]
    },
    {
     "name": "stderr",
     "output_type": "stream",
     "text": [
      "100%|██████████| 624/624 [01:57<00:00,  5.32it/s]\n"
     ]
    },
    {
     "name": "stdout",
     "output_type": "stream",
     "text": [
      "Done epoch #78, time for this epoch: 117.2320613861084s\n"
     ]
    },
    {
     "name": "stderr",
     "output_type": "stream",
     "text": [
      "100%|██████████| 175/175 [00:22<00:00,  7.80it/s]\n"
     ]
    },
    {
     "name": "stdout",
     "output_type": "stream",
     "text": [
      "(array([0.64568937, 0.71738613, 0.60555046, 0.48415283, 0.6455691 ,\n",
      "       0.32441194]), 0.6196695744387297, 0.7623019059611064, 0.7560738086358129)\n",
      "train: {'mIoU': 0.6202496426387005, 'F1': 0.763126085200718, 'OA': 0.7585045221524361}\n",
      "{'ImSurf': 0.6470712679055175, 'Building': 0.7287331104045107, 'LowVeg': 0.5920609289153207, 'Tree': 0.5063579224438944, 'Car': 0.627024983524259, 'Clutter': 0.3260691927544714}\n",
      "val: {'mIoU': 0.6196695744387297, 'F1': 0.7623019059611064, 'OA': 0.7560738086358129}\n",
      "{'ImSurf': 0.6456893654633954, 'Building': 0.7173861265948857, 'LowVeg': 0.6055504596056764, 'Tree': 0.4841528255135997, 'Car': 0.6455690950160916, 'Clutter': 0.32441194034341975}\n",
      "Epoch 78: loss: 95.6124, train accuracy: 0.7585, valid accuracy:0.7561\n",
      "Start epoch #79, learning rate for this epoch: [4.8748779200839665e-08]\n"
     ]
    },
    {
     "name": "stderr",
     "output_type": "stream",
     "text": [
      "100%|██████████| 624/624 [01:57<00:00,  5.32it/s]\n"
     ]
    },
    {
     "name": "stdout",
     "output_type": "stream",
     "text": [
      "Done epoch #79, time for this epoch: 117.30751299858093s\n"
     ]
    },
    {
     "name": "stderr",
     "output_type": "stream",
     "text": [
      "100%|██████████| 175/175 [00:22<00:00,  7.74it/s]\n"
     ]
    },
    {
     "name": "stdout",
     "output_type": "stream",
     "text": [
      "(array([0.64171679, 0.718187  , 0.60946122, 0.50399028, 0.63061538,\n",
      "       0.31188897]), 0.6207941340327434, 0.7637533841875429, 0.7575644269232602)\n",
      "train: {'mIoU': 0.6207489267180966, 'F1': 0.7633350361658612, 'OA': 0.760044623643924}\n",
      "{'ImSurf': 0.6512101209273385, 'Building': 0.7328198874675422, 'LowVeg': 0.5920998068831447, 'Tree': 0.5032496723687322, 'Car': 0.6243651459437254, 'Clutter': 0.33634033549889397}\n",
      "val: {'mIoU': 0.6207941340327434, 'F1': 0.7637533841875429, 'OA': 0.7575644269232602}\n",
      "{'ImSurf': 0.6417167909018651, 'Building': 0.7181869974199636, 'LowVeg': 0.609461223656949, 'Tree': 0.5039902821494942, 'Car': 0.6306153760354457, 'Clutter': 0.31188897013935946}\n",
      "Epoch 79: loss: 95.3400, train accuracy: 0.7600, valid accuracy:0.7576\n",
      "Start epoch #80, learning rate for this epoch: [4.8748779200839665e-08]\n"
     ]
    },
    {
     "name": "stderr",
     "output_type": "stream",
     "text": [
      "100%|██████████| 624/624 [01:58<00:00,  5.26it/s]\n"
     ]
    },
    {
     "name": "stdout",
     "output_type": "stream",
     "text": [
      "Done epoch #80, time for this epoch: 118.55562710762024s\n"
     ]
    },
    {
     "name": "stderr",
     "output_type": "stream",
     "text": [
      "100%|██████████| 175/175 [00:22<00:00,  7.64it/s]\n"
     ]
    },
    {
     "name": "stdout",
     "output_type": "stream",
     "text": [
      "(array([0.64101184, 0.71473546, 0.61330317, 0.50671701, 0.63196995,\n",
      "       0.31899348]), 0.6215474857221132, 0.7644568885569271, 0.7578830869610327)\n",
      "train: {'mIoU': 0.6160912499090829, 'F1': 0.7597963369960226, 'OA': 0.7560875201836611}\n",
      "{'ImSurf': 0.6488818410583467, 'Building': 0.7256499114724004, 'LowVeg': 0.5870394586405066, 'Tree': 0.49896052771151056, 'Car': 0.6199245106626504, 'Clutter': 0.32195783216703017}\n",
      "val: {'mIoU': 0.6215474857221132, 'F1': 0.7644568885569271, 'OA': 0.7578830869610327}\n",
      "{'ImSurf': 0.641011840072741, 'Building': 0.7147354596411898, 'LowVeg': 0.6133031695485577, 'Tree': 0.5067170058220206, 'Car': 0.6319699535260568, 'Clutter': 0.31899348180887405}\n",
      "Epoch 80: loss: 96.4497, train accuracy: 0.7561, valid accuracy:0.7579\n",
      "Start epoch #81, learning rate for this epoch: [2.92492675205038e-08]\n"
     ]
    },
    {
     "name": "stderr",
     "output_type": "stream",
     "text": [
      "100%|██████████| 624/624 [01:56<00:00,  5.35it/s]\n"
     ]
    },
    {
     "name": "stdout",
     "output_type": "stream",
     "text": [
      "Done epoch #81, time for this epoch: 116.69884204864502s\n"
     ]
    },
    {
     "name": "stderr",
     "output_type": "stream",
     "text": [
      "100%|██████████| 175/175 [00:21<00:00,  8.02it/s]\n"
     ]
    },
    {
     "name": "stdout",
     "output_type": "stream",
     "text": [
      "(array([0.63684906, 0.70777798, 0.60336964, 0.51458252, 0.62965144,\n",
      "       0.32617563]), 0.6184461273916828, 0.7623805241813495, 0.7543752085623429)\n",
      "train: {'mIoU': 0.6216641285966806, 'F1': 0.7640782752179317, 'OA': 0.7605801729055551}\n",
      "{'ImSurf': 0.6539273397062668, 'Building': 0.7306630302939284, 'LowVeg': 0.595358524177456, 'Tree': 0.5034477502314771, 'Car': 0.6249239985742749, 'Clutter': 0.33931183643171337}\n",
      "val: {'mIoU': 0.6184461273916828, 'F1': 0.7623805241813495, 'OA': 0.7543752085623429}\n",
      "{'ImSurf': 0.6368490551955248, 'Building': 0.707777981007762, 'LowVeg': 0.6033696369747561, 'Tree': 0.5145825200120185, 'Car': 0.6296514437683527, 'Clutter': 0.3261756284206112}\n",
      "Epoch 81: loss: 95.3734, train accuracy: 0.7606, valid accuracy:0.7544\n",
      "Start epoch #82, learning rate for this epoch: [2.92492675205038e-08]\n"
     ]
    },
    {
     "name": "stderr",
     "output_type": "stream",
     "text": [
      "100%|██████████| 624/624 [01:58<00:00,  5.27it/s]\n"
     ]
    },
    {
     "name": "stdout",
     "output_type": "stream",
     "text": [
      "Done epoch #82, time for this epoch: 118.46283149719238s\n"
     ]
    },
    {
     "name": "stderr",
     "output_type": "stream",
     "text": [
      "100%|██████████| 175/175 [00:22<00:00,  7.76it/s]\n"
     ]
    },
    {
     "name": "stdout",
     "output_type": "stream",
     "text": [
      "(array([0.63205203, 0.71506847, 0.60143478, 0.51481688, 0.62716083,\n",
      "       0.33388436]), 0.6181065968748771, 0.7620216375208194, 0.7541499415149127)\n",
      "train: {'mIoU': 0.6198786659002792, 'F1': 0.7626315077820373, 'OA': 0.7587527097799839}\n",
      "{'ImSurf': 0.6556769882113674, 'Building': 0.7305247397485106, 'LowVeg': 0.5890282040138518, 'Tree': 0.5016192092859036, 'Car': 0.6225441882417628, 'Clutter': 0.3233522754276874}\n",
      "val: {'mIoU': 0.6181065968748771, 'F1': 0.7620216375208194, 'OA': 0.7541499415149127}\n",
      "{'ImSurf': 0.6320520251719581, 'Building': 0.7150684685631161, 'LowVeg': 0.6014347811902501, 'Tree': 0.5148168814398147, 'Car': 0.6271608280092464, 'Clutter': 0.333884356690273}\n",
      "Epoch 82: loss: 95.7296, train accuracy: 0.7588, valid accuracy:0.7541\n",
      "Start epoch #83, learning rate for this epoch: [2.92492675205038e-08]\n"
     ]
    },
    {
     "name": "stderr",
     "output_type": "stream",
     "text": [
      "100%|██████████| 624/624 [01:58<00:00,  5.25it/s]\n"
     ]
    },
    {
     "name": "stdout",
     "output_type": "stream",
     "text": [
      "Done epoch #83, time for this epoch: 118.9175283908844s\n"
     ]
    },
    {
     "name": "stderr",
     "output_type": "stream",
     "text": [
      "100%|██████████| 175/175 [00:22<00:00,  7.78it/s]\n"
     ]
    },
    {
     "name": "stdout",
     "output_type": "stream",
     "text": [
      "(array([0.63533806, 0.70510399, 0.61042753, 0.51042325, 0.62475954,\n",
      "       0.3474076 ]), 0.6172104738927786, 0.7614145021199519, 0.7554839846904723)\n",
      "train: {'mIoU': 0.619812356152068, 'F1': 0.7628159583106449, 'OA': 0.7576534045048249}\n",
      "{'ImSurf': 0.6495576747341539, 'Building': 0.7246602530783719, 'LowVeg': 0.5888703992816164, 'Tree': 0.5057349349795802, 'Car': 0.6302385186866176, 'Clutter': 0.3290490044808079}\n",
      "val: {'mIoU': 0.6172104738927786, 'F1': 0.7614145021199519, 'OA': 0.7554839846904723}\n",
      "{'ImSurf': 0.6353380585830167, 'Building': 0.7051039885687802, 'LowVeg': 0.610427528758074, 'Tree': 0.510423254480898, 'Car': 0.6247595390731238, 'Clutter': 0.3474075981401386}\n",
      "Epoch 83: loss: 95.9201, train accuracy: 0.7577, valid accuracy:0.7555\n",
      "Start epoch #84, learning rate for this epoch: [2.92492675205038e-08]\n"
     ]
    },
    {
     "name": "stderr",
     "output_type": "stream",
     "text": [
      "100%|██████████| 624/624 [01:59<00:00,  5.21it/s]\n"
     ]
    },
    {
     "name": "stdout",
     "output_type": "stream",
     "text": [
      "Done epoch #84, time for this epoch: 119.83777689933777s\n"
     ]
    },
    {
     "name": "stderr",
     "output_type": "stream",
     "text": [
      "100%|██████████| 175/175 [00:22<00:00,  7.89it/s]\n"
     ]
    },
    {
     "name": "stdout",
     "output_type": "stream",
     "text": [
      "(array([0.63758458, 0.71448622, 0.60295654, 0.50916059, 0.62447753,\n",
      "       0.33674847]), 0.6177330916831543, 0.7616118512705665, 0.755994535228458)\n",
      "train: {'mIoU': 0.6211793572071305, 'F1': 0.7638278472118809, 'OA': 0.7597209704227936}\n",
      "{'ImSurf': 0.6556135480364685, 'Building': 0.7268208023129339, 'LowVeg': 0.5881686080405585, 'Tree': 0.5076372781954432, 'Car': 0.6276565494502484, 'Clutter': 0.3396174014983793}\n",
      "val: {'mIoU': 0.6177330916831543, 'F1': 0.7616118512705665, 'OA': 0.755994535228458}\n",
      "{'ImSurf': 0.6375845808728803, 'Building': 0.7144862245910655, 'LowVeg': 0.6029565401891334, 'Tree': 0.509160585241971, 'Car': 0.6244775275207215, 'Clutter': 0.33674847144590847}\n",
      "Epoch 84: loss: 95.5352, train accuracy: 0.7597, valid accuracy:0.7560\n",
      "Start epoch #85, learning rate for this epoch: [1.754956051230228e-08]\n"
     ]
    },
    {
     "name": "stderr",
     "output_type": "stream",
     "text": [
      "100%|██████████| 624/624 [02:01<00:00,  5.15it/s]\n"
     ]
    },
    {
     "name": "stdout",
     "output_type": "stream",
     "text": [
      "Done epoch #85, time for this epoch: 121.14853477478027s\n"
     ]
    },
    {
     "name": "stderr",
     "output_type": "stream",
     "text": [
      "100%|██████████| 175/175 [00:22<00:00,  7.88it/s]\n"
     ]
    },
    {
     "name": "stdout",
     "output_type": "stream",
     "text": [
      "(array([0.64393469, 0.72305164, 0.59862048, 0.51218949, 0.64107898,\n",
      "       0.32533772]), 0.6237750575316852, 0.7660601413166528, 0.7577323940958979)\n",
      "train: {'mIoU': 0.6164086205831061, 'F1': 0.7602768484056048, 'OA': 0.7557715208102496}\n",
      "{'ImSurf': 0.6506637920565195, 'Building': 0.7180929877034853, 'LowVeg': 0.5902369087547588, 'Tree': 0.5028044037606334, 'Car': 0.6202450106401335, 'Clutter': 0.3179226228475127}\n",
      "val: {'mIoU': 0.6237750575316852, 'F1': 0.7660601413166528, 'OA': 0.7577323940958979}\n",
      "{'ImSurf': 0.6439346889584491, 'Building': 0.723051644943865, 'LowVeg': 0.5986204760733775, 'Tree': 0.5121894926906901, 'Car': 0.6410789849920443, 'Clutter': 0.32533771995413985}\n",
      "Epoch 85: loss: 96.7755, train accuracy: 0.7558, valid accuracy:0.7577\n",
      "Start epoch #86, learning rate for this epoch: [1.754956051230228e-08]\n"
     ]
    },
    {
     "name": "stderr",
     "output_type": "stream",
     "text": [
      "100%|██████████| 624/624 [01:58<00:00,  5.26it/s]\n"
     ]
    },
    {
     "name": "stdout",
     "output_type": "stream",
     "text": [
      "Done epoch #86, time for this epoch: 118.668710231781s\n"
     ]
    },
    {
     "name": "stderr",
     "output_type": "stream",
     "text": [
      "100%|██████████| 175/175 [00:23<00:00,  7.60it/s]\n"
     ]
    },
    {
     "name": "stdout",
     "output_type": "stream",
     "text": [
      "(array([0.64452189, 0.7161929 , 0.61453811, 0.50805549, 0.61380278,\n",
      "       0.32997472]), 0.6194222318363176, 0.7628413119458177, 0.7595930243257301)\n",
      "train: {'mIoU': 0.6187065440299673, 'F1': 0.7618770569545862, 'OA': 0.7574334480823615}\n",
      "{'ImSurf': 0.6510875334690583, 'Building': 0.7265699705017323, 'LowVeg': 0.5891209986444284, 'Tree': 0.5031344666455109, 'Car': 0.6236197508891066, 'Clutter': 0.3214495121531429}\n",
      "val: {'mIoU': 0.6194222318363176, 'F1': 0.7628413119458177, 'OA': 0.7595930243257301}\n",
      "{'ImSurf': 0.6445218862973233, 'Building': 0.716192895948759, 'LowVeg': 0.6145381077403526, 'Tree': 0.5080554893468608, 'Car': 0.6138027798482922, 'Clutter': 0.32997471935585887}\n",
      "Epoch 86: loss: 96.1102, train accuracy: 0.7574, valid accuracy:0.7596\n",
      "Start epoch #87, learning rate for this epoch: [1.754956051230228e-08]\n"
     ]
    },
    {
     "name": "stderr",
     "output_type": "stream",
     "text": [
      "100%|██████████| 624/624 [01:58<00:00,  5.26it/s]\n"
     ]
    },
    {
     "name": "stdout",
     "output_type": "stream",
     "text": [
      "Done epoch #87, time for this epoch: 118.53134894371033s\n"
     ]
    },
    {
     "name": "stderr",
     "output_type": "stream",
     "text": [
      "100%|██████████| 175/175 [00:22<00:00,  7.81it/s]\n"
     ]
    },
    {
     "name": "stdout",
     "output_type": "stream",
     "text": [
      "(array([0.64604289, 0.72355208, 0.61349209, 0.52042649, 0.63650268,\n",
      "       0.30565255]), 0.6280032472539082, 0.7694968665052706, 0.7619541165474413)\n",
      "train: {'mIoU': 0.6182534847427907, 'F1': 0.7615119860463608, 'OA': 0.7570808606270032}\n",
      "{'ImSurf': 0.6510726977725076, 'Building': 0.7246662365986094, 'LowVeg': 0.5917869180582515, 'Tree': 0.5003409171426793, 'Car': 0.6234006541419056, 'Clutter': 0.32047602511300677}\n",
      "val: {'mIoU': 0.6280032472539082, 'F1': 0.7694968665052706, 'OA': 0.7619541165474413}\n",
      "{'ImSurf': 0.6460428912888464, 'Building': 0.7235520801299632, 'LowVeg': 0.6134920862812878, 'Tree': 0.5204264945151351, 'Car': 0.6365026840543083, 'Clutter': 0.30565254638701767}\n",
      "Epoch 87: loss: 95.8890, train accuracy: 0.7571, valid accuracy:0.7620\n",
      "Start epoch #88, learning rate for this epoch: [1.754956051230228e-08]\n"
     ]
    },
    {
     "name": "stderr",
     "output_type": "stream",
     "text": [
      "100%|██████████| 624/624 [02:00<00:00,  5.18it/s]\n"
     ]
    },
    {
     "name": "stdout",
     "output_type": "stream",
     "text": [
      "Done epoch #88, time for this epoch: 120.41792297363281s\n"
     ]
    },
    {
     "name": "stderr",
     "output_type": "stream",
     "text": [
      "100%|██████████| 175/175 [00:22<00:00,  7.62it/s]\n"
     ]
    },
    {
     "name": "stdout",
     "output_type": "stream",
     "text": [
      "(array([0.63705897, 0.69110018, 0.60143345, 0.51401501, 0.62484086,\n",
      "       0.34233526]), 0.6136896966861535, 0.7589746229320447, 0.7519831825141331)\n",
      "train: {'mIoU': 0.6232369517323955, 'F1': 0.7652661567769194, 'OA': 0.761920785292601}\n",
      "{'ImSurf': 0.6576332449910551, 'Building': 0.733175108742425, 'LowVeg': 0.5927647322236175, 'Tree': 0.5065667174672415, 'Car': 0.6260449552376384, 'Clutter': 0.33375250739230766}\n",
      "val: {'mIoU': 0.6136896966861535, 'F1': 0.7589746229320447, 'OA': 0.7519831825141331}\n",
      "{'ImSurf': 0.6370589732579363, 'Building': 0.6911001791219543, 'LowVeg': 0.6014334532053033, 'Tree': 0.5140150145522012, 'Car': 0.6248408632933722, 'Clutter': 0.34233526089999067}\n",
      "Epoch 88: loss: 95.0052, train accuracy: 0.7619, valid accuracy:0.7520\n",
      "Start epoch #89, learning rate for this epoch: [1.0529736307381367e-08]\n"
     ]
    },
    {
     "name": "stderr",
     "output_type": "stream",
     "text": [
      "100%|██████████| 624/624 [02:00<00:00,  5.17it/s]\n"
     ]
    },
    {
     "name": "stdout",
     "output_type": "stream",
     "text": [
      "Done epoch #89, time for this epoch: 120.67151975631714s\n"
     ]
    },
    {
     "name": "stderr",
     "output_type": "stream",
     "text": [
      "100%|██████████| 175/175 [00:23<00:00,  7.35it/s]\n"
     ]
    },
    {
     "name": "stdout",
     "output_type": "stream",
     "text": [
      "(array([0.64806245, 0.71473671, 0.60372054, 0.51943029, 0.62108869,\n",
      "       0.31199339]), 0.6214077348547006, 0.7645944477181523, 0.757458798421516)\n",
      "train: {'mIoU': 0.6183781903328831, 'F1': 0.7616520419609862, 'OA': 0.7579451371461917}\n",
      "{'ImSurf': 0.6485163052608082, 'Building': 0.7271693551833345, 'LowVeg': 0.5916414055759562, 'Tree': 0.5034028030080504, 'Car': 0.6211610826362662, 'Clutter': 0.322922637245038}\n",
      "val: {'mIoU': 0.6214077348547006, 'F1': 0.7645944477181523, 'OA': 0.757458798421516}\n",
      "{'ImSurf': 0.6480624476394042, 'Building': 0.7147367131878257, 'LowVeg': 0.6037205359593262, 'Tree': 0.5194302908439713, 'Car': 0.6210886866429753, 'Clutter': 0.3119933877337187}\n",
      "Epoch 89: loss: 96.2229, train accuracy: 0.7579, valid accuracy:0.7575\n",
      "Start epoch #90, learning rate for this epoch: [1.0529736307381367e-08]\n"
     ]
    },
    {
     "name": "stderr",
     "output_type": "stream",
     "text": [
      "100%|██████████| 624/624 [02:03<00:00,  5.05it/s]\n"
     ]
    },
    {
     "name": "stdout",
     "output_type": "stream",
     "text": [
      "Done epoch #90, time for this epoch: 123.64904236793518s\n"
     ]
    },
    {
     "name": "stderr",
     "output_type": "stream",
     "text": [
      "100%|██████████| 175/175 [00:23<00:00,  7.47it/s]\n"
     ]
    },
    {
     "name": "stdout",
     "output_type": "stream",
     "text": [
      "(array([0.64298432, 0.71559803, 0.60781772, 0.52273578, 0.63894434,\n",
      "       0.34522234]), 0.6256160373858833, 0.767856676953693, 0.7590268608142553)\n",
      "train: {'mIoU': 0.6168643316890454, 'F1': 0.7604497604223368, 'OA': 0.7558278303879958}\n",
      "{'ImSurf': 0.6462775182540608, 'Building': 0.7256415218115309, 'LowVeg': 0.5893269765066513, 'Tree': 0.5004345409537239, 'Car': 0.6226411009192604, 'Clutter': 0.3233038964414982}\n",
      "val: {'mIoU': 0.6256160373858833, 'F1': 0.767856676953693, 'OA': 0.7590268608142553}\n",
      "{'ImSurf': 0.6429843191358279, 'Building': 0.7155980316442457, 'LowVeg': 0.6078177191745406, 'Tree': 0.5227357799289566, 'Car': 0.6389443370458459, 'Clutter': 0.34522234176394523}\n",
      "Epoch 90: loss: 96.0813, train accuracy: 0.7558, valid accuracy:0.7590\n",
      "Start epoch #91, learning rate for this epoch: [1.0529736307381367e-08]\n"
     ]
    },
    {
     "name": "stderr",
     "output_type": "stream",
     "text": [
      "100%|██████████| 624/624 [01:58<00:00,  5.25it/s]\n"
     ]
    },
    {
     "name": "stdout",
     "output_type": "stream",
     "text": [
      "Done epoch #91, time for this epoch: 118.88935375213623s\n"
     ]
    },
    {
     "name": "stderr",
     "output_type": "stream",
     "text": [
      "100%|██████████| 175/175 [00:22<00:00,  7.63it/s]\n"
     ]
    },
    {
     "name": "stdout",
     "output_type": "stream",
     "text": [
      "(array([0.64612446, 0.71047418, 0.61025013, 0.50557598, 0.63948544,\n",
      "       0.32838974]), 0.6223820377788815, 0.7650850726057523, 0.7570631543424431)\n",
      "train: {'mIoU': 0.6193476344122903, 'F1': 0.7624136753420403, 'OA': 0.7586951011266464}\n",
      "{'ImSurf': 0.6517536835980952, 'Building': 0.7260380005418516, 'LowVeg': 0.5918181657400525, 'Tree': 0.5042109158987415, 'Car': 0.6229174062827113, 'Clutter': 0.33933459706766955}\n",
      "val: {'mIoU': 0.6223820377788815, 'F1': 0.7650850726057523, 'OA': 0.7570631543424431}\n",
      "{'ImSurf': 0.6461244598405644, 'Building': 0.7104741801560114, 'LowVeg': 0.6102501311021985, 'Tree': 0.5055759799636557, 'Car': 0.6394854378319769, 'Clutter': 0.3283897417408367}\n",
      "Epoch 91: loss: 95.6422, train accuracy: 0.7587, valid accuracy:0.7571\n",
      "Start epoch #92, learning rate for this epoch: [1.0529736307381367e-08]\n"
     ]
    },
    {
     "name": "stderr",
     "output_type": "stream",
     "text": [
      "100%|██████████| 624/624 [02:00<00:00,  5.19it/s]\n"
     ]
    },
    {
     "name": "stdout",
     "output_type": "stream",
     "text": [
      "Done epoch #92, time for this epoch: 120.23358702659607s\n"
     ]
    },
    {
     "name": "stderr",
     "output_type": "stream",
     "text": [
      "100%|██████████| 175/175 [00:22<00:00,  7.73it/s]\n"
     ]
    },
    {
     "name": "stdout",
     "output_type": "stream",
     "text": [
      "(array([0.64125244, 0.70833366, 0.60370292, 0.49727314, 0.63266633,\n",
      "       0.33331317]), 0.6166456979273385, 0.7605642979071066, 0.7540025129133389)\n",
      "train: {'mIoU': 0.6188812458330739, 'F1': 0.7619281593795648, 'OA': 0.7579607749596621}\n",
      "{'ImSurf': 0.6529285555019986, 'Building': 0.7257266354414902, 'LowVeg': 0.5898131116787149, 'Tree': 0.49961321983756907, 'Car': 0.6263247067055973, 'Clutter': 0.32826468556840593}\n",
      "val: {'mIoU': 0.6166456979273385, 'F1': 0.7605642979071066, 'OA': 0.7540025129133389}\n",
      "{'ImSurf': 0.6412524414634218, 'Building': 0.7083336619377296, 'LowVeg': 0.6037029206904561, 'Tree': 0.4972731372497852, 'Car': 0.6326663282952992, 'Clutter': 0.3333131721591466}\n",
      "Epoch 92: loss: 95.9303, train accuracy: 0.7580, valid accuracy:0.7540\n",
      "Start epoch #93, learning rate for this epoch: [6.31784178442882e-09]\n"
     ]
    },
    {
     "name": "stderr",
     "output_type": "stream",
     "text": [
      "100%|██████████| 624/624 [01:59<00:00,  5.23it/s]\n"
     ]
    },
    {
     "name": "stdout",
     "output_type": "stream",
     "text": [
      "Done epoch #93, time for this epoch: 119.36301803588867s\n"
     ]
    },
    {
     "name": "stderr",
     "output_type": "stream",
     "text": [
      "100%|██████████| 175/175 [00:23<00:00,  7.58it/s]\n"
     ]
    },
    {
     "name": "stdout",
     "output_type": "stream",
     "text": [
      "(array([0.65356232, 0.72010934, 0.60649162, 0.51358548, 0.62374149,\n",
      "       0.31067157]), 0.6234980496454552, 0.7659470990184667, 0.7606523873903557)\n",
      "train: {'mIoU': 0.6187491500125347, 'F1': 0.7619780979616437, 'OA': 0.7580590370373849}\n",
      "{'ImSurf': 0.6501274850364289, 'Building': 0.7254754505712883, 'LowVeg': 0.5906230923316523, 'Tree': 0.504532013883793, 'Car': 0.622987708239511, 'Clutter': 0.33660085300163944}\n",
      "val: {'mIoU': 0.6234980496454552, 'F1': 0.7659470990184667, 'OA': 0.7606523873903557}\n",
      "{'ImSurf': 0.6535623177425565, 'Building': 0.720109340424159, 'LowVeg': 0.6064916186726038, 'Tree': 0.5135854813122065, 'Car': 0.6237414900757503, 'Clutter': 0.3106715658294081}\n",
      "Epoch 93: loss: 95.9112, train accuracy: 0.7581, valid accuracy:0.7607\n",
      "Start epoch #94, learning rate for this epoch: [6.31784178442882e-09]\n"
     ]
    },
    {
     "name": "stderr",
     "output_type": "stream",
     "text": [
      "100%|██████████| 624/624 [01:59<00:00,  5.20it/s]\n"
     ]
    },
    {
     "name": "stdout",
     "output_type": "stream",
     "text": [
      "Done epoch #94, time for this epoch: 119.94798541069031s\n"
     ]
    },
    {
     "name": "stderr",
     "output_type": "stream",
     "text": [
      "100%|██████████| 175/175 [00:23<00:00,  7.52it/s]\n"
     ]
    },
    {
     "name": "stdout",
     "output_type": "stream",
     "text": [
      "(array([0.63605941, 0.71438837, 0.60688305, 0.51299011, 0.62629609,\n",
      "       0.33658695]), 0.6193234078251872, 0.762926797436922, 0.7566121820913999)\n",
      "train: {'mIoU': 0.6178235917381271, 'F1': 0.7613503043465125, 'OA': 0.7560151907113882}\n",
      "{'ImSurf': 0.64721291090183, 'Building': 0.7227811419685298, 'LowVeg': 0.587848246525156, 'Tree': 0.5058810597110802, 'Car': 0.6253945995840391, 'Clutter': 0.32151574102743097}\n",
      "val: {'mIoU': 0.6193234078251872, 'F1': 0.762926797436922, 'OA': 0.7566121820913999}\n",
      "{'ImSurf': 0.6360594121610993, 'Building': 0.7143883749860632, 'LowVeg': 0.6068830519810263, 'Tree': 0.512990112314169, 'Car': 0.6262960876835781, 'Clutter': 0.33658695158286567}\n",
      "Epoch 94: loss: 96.3512, train accuracy: 0.7560, valid accuracy:0.7566\n",
      "Start epoch #95, learning rate for this epoch: [6.31784178442882e-09]\n"
     ]
    },
    {
     "name": "stderr",
     "output_type": "stream",
     "text": [
      "100%|██████████| 624/624 [01:59<00:00,  5.23it/s]\n"
     ]
    },
    {
     "name": "stdout",
     "output_type": "stream",
     "text": [
      "Done epoch #95, time for this epoch: 119.31838059425354s\n"
     ]
    },
    {
     "name": "stderr",
     "output_type": "stream",
     "text": [
      "100%|██████████| 175/175 [00:22<00:00,  7.79it/s]\n"
     ]
    },
    {
     "name": "stdout",
     "output_type": "stream",
     "text": [
      "(array([0.63802291, 0.71232252, 0.59984577, 0.50484222, 0.63540857,\n",
      "       0.33783711]), 0.6180883963389346, 0.7617824213543475, 0.7549283150195731)\n",
      "train: {'mIoU': 0.6203459887161028, 'F1': 0.7631309779537964, 'OA': 0.7595443756152422}\n",
      "{'ImSurf': 0.6524097407568616, 'Building': 0.729228653140717, 'LowVeg': 0.5967610526423276, 'Tree': 0.5039556260322516, 'Car': 0.619374871008356, 'Clutter': 0.3291118372234976}\n",
      "val: {'mIoU': 0.6180883963389346, 'F1': 0.7617824213543475, 'OA': 0.7549283150195731}\n",
      "{'ImSurf': 0.638022907320549, 'Building': 0.7123225151265552, 'LowVeg': 0.5998457711855228, 'Tree': 0.5048422184443667, 'Car': 0.6354085696176798, 'Clutter': 0.33783710752715373}\n",
      "Epoch 95: loss: 95.8320, train accuracy: 0.7595, valid accuracy:0.7549\n",
      "Start epoch #96, learning rate for this epoch: [6.31784178442882e-09]\n"
     ]
    },
    {
     "name": "stderr",
     "output_type": "stream",
     "text": [
      "100%|██████████| 624/624 [02:01<00:00,  5.14it/s]\n"
     ]
    },
    {
     "name": "stdout",
     "output_type": "stream",
     "text": [
      "Done epoch #96, time for this epoch: 121.4844970703125s\n"
     ]
    },
    {
     "name": "stderr",
     "output_type": "stream",
     "text": [
      "100%|██████████| 175/175 [00:23<00:00,  7.56it/s]\n"
     ]
    },
    {
     "name": "stdout",
     "output_type": "stream",
     "text": [
      "(array([0.63994998, 0.71195078, 0.60470575, 0.50213355, 0.61183704,\n",
      "       0.32469082]), 0.6141154212246751, 0.7587197099141616, 0.754041081611321)\n",
      "train: {'mIoU': 0.6191514091062935, 'F1': 0.7622505491894307, 'OA': 0.7592997184166541}\n",
      "{'ImSurf': 0.652736460655045, 'Building': 0.7257519149771228, 'LowVeg': 0.5967453068092319, 'Tree': 0.5026721830123602, 'Car': 0.6178511800777073, 'Clutter': 0.3268559902373841}\n",
      "val: {'mIoU': 0.6141154212246751, 'F1': 0.7587197099141616, 'OA': 0.754041081611321}\n",
      "{'ImSurf': 0.639949984169392, 'Building': 0.7119507811574427, 'LowVeg': 0.6047057471601188, 'Tree': 0.5021335547372752, 'Car': 0.6118370388991469, 'Clutter': 0.32469081778673353}\n",
      "Epoch 96: loss: 95.8922, train accuracy: 0.7593, valid accuracy:0.7540\n",
      "Start epoch #97, learning rate for this epoch: [3.790705070657292e-09]\n"
     ]
    },
    {
     "name": "stderr",
     "output_type": "stream",
     "text": [
      "100%|██████████| 624/624 [02:00<00:00,  5.19it/s]\n"
     ]
    },
    {
     "name": "stdout",
     "output_type": "stream",
     "text": [
      "Done epoch #97, time for this epoch: 120.29119491577148s\n"
     ]
    },
    {
     "name": "stderr",
     "output_type": "stream",
     "text": [
      "100%|██████████| 175/175 [00:22<00:00,  7.79it/s]\n"
     ]
    },
    {
     "name": "stdout",
     "output_type": "stream",
     "text": [
      "(array([0.63994271, 0.70814535, 0.60307983, 0.4998704 , 0.63163432,\n",
      "       0.35616462]), 0.6165345224932042, 0.7605545512782047, 0.7532334721353698)\n",
      "train: {'mIoU': 0.6167689073664003, 'F1': 0.7604906659021557, 'OA': 0.7577529228650607}\n",
      "{'ImSurf': 0.651590176052287, 'Building': 0.7226586177042501, 'LowVeg': 0.593719835950541, 'Tree': 0.5031920163625276, 'Car': 0.6126838907623959, 'Clutter': 0.31514400176297774}\n",
      "val: {'mIoU': 0.6165345224932042, 'F1': 0.7605545512782047, 'OA': 0.7532334721353698}\n",
      "{'ImSurf': 0.6399427110603826, 'Building': 0.7081453516954053, 'LowVeg': 0.6030798278310665, 'Tree': 0.49987040271880506, 'Car': 0.6316343191603611, 'Clutter': 0.35616462458140563}\n",
      "Epoch 97: loss: 96.1313, train accuracy: 0.7578, valid accuracy:0.7532\n",
      "Start epoch #98, learning rate for this epoch: [3.790705070657292e-09]\n"
     ]
    },
    {
     "name": "stderr",
     "output_type": "stream",
     "text": [
      "100%|██████████| 624/624 [02:00<00:00,  5.19it/s]\n"
     ]
    },
    {
     "name": "stdout",
     "output_type": "stream",
     "text": [
      "Done epoch #98, time for this epoch: 120.23159909248352s\n"
     ]
    },
    {
     "name": "stderr",
     "output_type": "stream",
     "text": [
      "100%|██████████| 175/175 [00:22<00:00,  7.76it/s]\n"
     ]
    },
    {
     "name": "stdout",
     "output_type": "stream",
     "text": [
      "(array([0.64164101, 0.71855588, 0.61138634, 0.51863128, 0.63291946,\n",
      "       0.30275081]), 0.624626795353523, 0.7669992489736261, 0.7585174275745356)\n",
      "train: {'mIoU': 0.6194907857776679, 'F1': 0.76260465767884, 'OA': 0.7587743600209554}\n",
      "{'ImSurf': 0.651397544239249, 'Building': 0.7244268354699569, 'LowVeg': 0.5924035421920804, 'Tree': 0.5061874197349885, 'Car': 0.6230385872520644, 'Clutter': 0.3387933458540743}\n",
      "val: {'mIoU': 0.624626795353523, 'F1': 0.7669992489736261, 'OA': 0.7585174275745356}\n",
      "{'ImSurf': 0.6416410109442893, 'Building': 0.7185558832368726, 'LowVeg': 0.6113863425097176, 'Tree': 0.5186312751178984, 'Car': 0.6329194649588376, 'Clutter': 0.30275081377280666}\n",
      "Epoch 98: loss: 95.4397, train accuracy: 0.7588, valid accuracy:0.7585\n",
      "Start epoch #99, learning rate for this epoch: [3.790705070657292e-09]\n"
     ]
    },
    {
     "name": "stderr",
     "output_type": "stream",
     "text": [
      "100%|██████████| 624/624 [02:00<00:00,  5.17it/s]\n"
     ]
    },
    {
     "name": "stdout",
     "output_type": "stream",
     "text": [
      "Done epoch #99, time for this epoch: 120.71151304244995s\n"
     ]
    },
    {
     "name": "stderr",
     "output_type": "stream",
     "text": [
      "100%|██████████| 175/175 [00:22<00:00,  7.80it/s]\n"
     ]
    },
    {
     "name": "stdout",
     "output_type": "stream",
     "text": [
      "(array([0.63711044, 0.70392899, 0.60157115, 0.50213383, 0.63929033,\n",
      "       0.32558487]), 0.6168069462435136, 0.7608648619178272, 0.7509295592955009)\n",
      "train: {'mIoU': 0.6186945733441368, 'F1': 0.7619183080594609, 'OA': 0.7574713566364386}\n",
      "{'ImSurf': 0.6513182477607314, 'Building': 0.7246189160065326, 'LowVeg': 0.5911622349849582, 'Tree': 0.5033079755862965, 'Car': 0.6230654923821646, 'Clutter': 0.30911057950207654}\n",
      "val: {'mIoU': 0.6168069462435136, 'F1': 0.7608648619178272, 'OA': 0.7509295592955009}\n",
      "{'ImSurf': 0.6371104358123113, 'Building': 0.7039289891562867, 'LowVeg': 0.601571151729195, 'Tree': 0.5021338261322961, 'Car': 0.6392903283874795, 'Clutter': 0.32558486532764946}\n",
      "Epoch 99: loss: 96.1268, train accuracy: 0.7575, valid accuracy:0.7509\n",
      "Start epoch #100, learning rate for this epoch: [3.790705070657292e-09]\n"
     ]
    },
    {
     "name": "stderr",
     "output_type": "stream",
     "text": [
      "100%|██████████| 624/624 [01:59<00:00,  5.23it/s]\n"
     ]
    },
    {
     "name": "stdout",
     "output_type": "stream",
     "text": [
      "Done epoch #100, time for this epoch: 119.37192487716675s\n"
     ]
    },
    {
     "name": "stderr",
     "output_type": "stream",
     "text": [
      "100%|██████████| 175/175 [00:22<00:00,  7.74it/s]"
     ]
    },
    {
     "name": "stdout",
     "output_type": "stream",
     "text": [
      "(array([0.64611002, 0.71712304, 0.60820208, 0.51393352, 0.62401083,\n",
      "       0.32910837]), 0.6218758976187394, 0.7648139645951595, 0.7595901215410197)\n",
      "train: {'mIoU': 0.6195526482960546, 'F1': 0.7624507996264215, 'OA': 0.7579938692924304}\n",
      "{'ImSurf': 0.6556804732972861, 'Building': 0.7247415728800154, 'LowVeg': 0.5907606639013392, 'Tree': 0.49982988468644796, 'Car': 0.6267506467151845, 'Clutter': 0.3175569453222745}\n",
      "val: {'mIoU': 0.6218758976187394, 'F1': 0.7648139645951595, 'OA': 0.7595901215410197}\n",
      "{'ImSurf': 0.6461100199072038, 'Building': 0.7171230386538082, 'LowVeg': 0.6082020799880727, 'Tree': 0.5139335205478389, 'Car': 0.6240108289967732, 'Clutter': 0.3291083680537897}\n",
      "Epoch 100: loss: 95.6695, train accuracy: 0.7580, valid accuracy:0.7596\n"
     ]
    },
    {
     "name": "stderr",
     "output_type": "stream",
     "text": [
      "\n"
     ]
    }
   ],
   "source": [
    "wandb.login(\n",
    "    # set the wandb project where this run will be logged\n",
    "#     project= \"PolypSegment\", \n",
    "    key = \"dca7ab6f0e419f212da80de9d29ad8b7b38d1aa5\",\n",
    ")\n",
    "id = wandb.util.generate_id()\n",
    "wandb.init(id=id,project = \"test_hang \", resume=\"allow\")\n",
    "\n",
    "\n",
    "\n",
    "# Training loop\n",
    "train_loss_array = []\n",
    "test_loss_array = []\n",
    "last_loss = 9999999999999\n",
    "for epoch in range(epochs):\n",
    "    train_loss_epoch = 0\n",
    "    test_loss_epoch = 0\n",
    "    train_loss_epoch, train_eval_value, test_loss_epoch, eval_value = train(train_loader, \n",
    "                                              val_loader, \n",
    "                                              learing_rate_scheduler, epoch, display_step)\n",
    "    \n",
    "    if test_loss_epoch < last_loss:\n",
    "        save_model(model, optimizer, checkpoint_path)\n",
    "        last_loss = test_loss_epoch\n",
    "        \n",
    "    iou_value = {}\n",
    "    iou_per_class,mIoU,F1,OA=train_eval_value\n",
    "    eval_value_train = {'mIoU': mIoU,\n",
    "                      'F1': F1,\n",
    "                      'OA': OA}                                          \n",
    "    print('train:', eval_value_train)\n",
    "    train_accuracy.append(OA)\n",
    "    wandb.log({'mIoU_train': mIoU,\n",
    "                      'F1_train': F1,\n",
    "                      'OA_train': OA}) \n",
    "    \n",
    "    for class_name, iou in zip(CLASSES,iou_per_class):\n",
    "        wandb.log({f\"{class_name}_train_IOU\": iou})\n",
    "        iou_value[class_name] = iou\n",
    "    print(iou_value)\n",
    "           \n",
    "    iou_value = {}\n",
    "    iou_per_class,mIoU,F1,OA = eval_value\n",
    "    eval_value_val = {'mIoU': mIoU,\n",
    "                      'F1': F1,\n",
    "                      'OA': OA}                                          \n",
    "    print('val:', eval_value_val)\n",
    "    valid_accuracy.append(OA)\n",
    "    wandb.log({'mIoU_val': mIoU,\n",
    "                      'F1_val': F1,\n",
    "                      'OA_val': OA})\n",
    "    for class_name, iou in zip(CLASSES,iou_per_class):\n",
    "        wandb.log({f\"{class_name}_val_IoU\": iou})\n",
    "        iou_value[class_name] = iou\n",
    "    print(iou_value)\n",
    "    \n",
    "    learing_rate_scheduler.step()\n",
    "    train_loss_array.append(train_loss_epoch)\n",
    "    test_loss_array.append(test_loss_epoch)\n",
    "    wandb.log({\"Train loss\": train_loss_epoch, \"Valid loss\": test_loss_epoch})\n",
    "    print(\"Epoch {}: loss: {:.4f}, train accuracy: {:.4f}, valid accuracy:{:.4f}\".format(epoch + 1, \n",
    "                                        train_loss_array[-1], train_accuracy[-1], valid_accuracy[-1]))\n",
    "    "
   ]
  },
  {
   "cell_type": "code",
   "execution_count": 25,
   "id": "63a09918",
   "metadata": {
    "execution": {
     "iopub.execute_input": "2023-12-13T17:51:50.813794Z",
     "iopub.status.busy": "2023-12-13T17:51:50.813409Z",
     "iopub.status.idle": "2023-12-13T17:51:50.863348Z",
     "shell.execute_reply": "2023-12-13T17:51:50.862456Z"
    },
    "papermill": {
     "duration": 6.675599,
     "end_time": "2023-12-13T17:51:50.865532",
     "exception": false,
     "start_time": "2023-12-13T17:51:44.189933",
     "status": "completed"
    },
    "tags": []
   },
   "outputs": [],
   "source": [
    "torch.cuda.empty_cache()"
   ]
  },
  {
   "cell_type": "code",
   "execution_count": 26,
   "id": "43ee3ea2",
   "metadata": {
    "execution": {
     "iopub.execute_input": "2023-12-13T17:52:03.767341Z",
     "iopub.status.busy": "2023-12-13T17:52:03.766712Z",
     "iopub.status.idle": "2023-12-13T17:52:03.774310Z",
     "shell.execute_reply": "2023-12-13T17:52:03.773451Z"
    },
    "papermill": {
     "duration": 6.449244,
     "end_time": "2023-12-13T17:52:03.776160",
     "exception": false,
     "start_time": "2023-12-13T17:51:57.326916",
     "status": "completed"
    },
    "tags": []
   },
   "outputs": [],
   "source": [
    "def img_writer(inp):\n",
    "    (mask,  mask_id, rgb) = inp\n",
    "    if rgb:\n",
    "        mask_name_tif = mask_id + '.png'\n",
    "        mask_tif = label2rgb(mask)\n",
    "        cv2.imwrite(mask_name_tif, mask_tif)\n",
    "    else:\n",
    "        mask_png = mask.astype(np.uint8)\n",
    "        mask_name_png = mask_id + '.png'\n",
    "        cv2.imwrite(mask_name_png, mask_png)\n",
    "\n",
    "\n",
    "def get_args():\n",
    "    parser = argparse.ArgumentParser()\n",
    "    arg = parser.add_argument\n",
    "    arg(\"-c\", \"--config_path\", type=Path, required=True, help=\"Path to  config\")\n",
    "    arg(\"-o\", \"--output_path\", type=Path, help=\"Path where to save resulting masks.\", required=True)\n",
    "    arg(\"-t\", \"--tta\", help=\"Test time augmentation.\", default=None, choices=[None, \"d4\", \"lr\"])\n",
    "    arg(\"--rgb\", help=\"whether output rgb images\", action='store_true')\n",
    "    return parser.parse_args()"
   ]
  },
  {
   "cell_type": "code",
   "execution_count": 27,
   "id": "a2393996",
   "metadata": {
    "execution": {
     "iopub.execute_input": "2023-12-13T17:52:17.023376Z",
     "iopub.status.busy": "2023-12-13T17:52:17.023021Z",
     "iopub.status.idle": "2023-12-13T17:52:17.291774Z",
     "shell.execute_reply": "2023-12-13T17:52:17.290981Z"
    },
    "papermill": {
     "duration": 7.013325,
     "end_time": "2023-12-13T17:52:17.294067",
     "exception": false,
     "start_time": "2023-12-13T17:52:10.280742",
     "status": "completed"
    },
    "tags": []
   },
   "outputs": [],
   "source": [
    "test_dataset = PotsdamDataset(data_root='/kaggle/input/deep-data-potsdam-vaihingen/Deep_data_segmentation/Split/Vaihingen/Test',\n",
    "                              transform=val_aug)"
   ]
  },
  {
   "cell_type": "code",
   "execution_count": 28,
   "id": "9d668e38",
   "metadata": {
    "execution": {
     "iopub.execute_input": "2023-12-13T17:52:30.082983Z",
     "iopub.status.busy": "2023-12-13T17:52:30.082615Z",
     "iopub.status.idle": "2023-12-13T17:52:35.080006Z",
     "shell.execute_reply": "2023-12-13T17:52:35.078433Z"
    },
    "papermill": {
     "duration": 11.389035,
     "end_time": "2023-12-13T17:52:35.082018",
     "exception": false,
     "start_time": "2023-12-13T17:52:23.692983",
     "status": "completed"
    },
    "tags": []
   },
   "outputs": [
    {
     "name": "stderr",
     "output_type": "stream",
     "text": [
      "100%|██████████| 235/235 [00:04<00:00, 47.79it/s]"
     ]
    },
    {
     "name": "stdout",
     "output_type": "stream",
     "text": [
      "F1_ImSurf:0.5473530883065, IOU_ImSurf:0.37679706190156986\n",
      "F1_Building:0.30260981776119644, IOU_Building:0.17827946745989995\n",
      "F1_LowVeg:0.04059471077411624, IOU_LowVeg:0.020717873426867334\n",
      "F1_Tree:6.967317989304985e-05, IOU_Tree:3.483780357680277e-05\n",
      "F1_Car:0.01690932931297203, IOU_Car:0.008526755514972955\n",
      "F1_Clutter:0.04341101361320604, IOU_Clutter:0.022187088813871207\n",
      "F1:0.18150732386693555, mIOU:0.11687119922137738, OA:0.23318121078166548\n"
     ]
    },
    {
     "name": "stderr",
     "output_type": "stream",
     "text": [
      "\n"
     ]
    },
    {
     "name": "stdout",
     "output_type": "stream",
     "text": [
      "images writing spends: 0.04869985580444336 s\n"
     ]
    }
   ],
   "source": [
    "model.cuda()\n",
    "model.eval()\n",
    "evaluator = Evaluator(num_class=6)\n",
    "evaluator.reset()\n",
    "with torch.no_grad():\n",
    "    test_loader = DataLoader(\n",
    "        test_dataset,\n",
    "        batch_size=2,\n",
    "        num_workers=4,\n",
    "        pin_memory=True,\n",
    "        drop_last=False,\n",
    "    )\n",
    "    results = []\n",
    "    for input in tqdm(test_loader):\n",
    "        # raw_prediction NxCxHxW\n",
    "        raw_predictions = model(input['img'].cuda())\n",
    "\n",
    "        image_ids = input[\"img_id\"]\n",
    "        masks_true = input['gt_semantic_seg']\n",
    "\n",
    "        raw_predictions = nn.Softmax(dim=1)(raw_predictions)\n",
    "        predictions = raw_predictions.argmax(dim=1)\n",
    "\n",
    "        for i in range(raw_predictions.shape[0]):\n",
    "            mask = predictions[i].cpu().numpy()\n",
    "            evaluator.add_batch(pre_image=mask, gt_image=masks_true[i].cpu().numpy())\n",
    "            mask_name = image_ids[i]\n",
    "iou_per_class = evaluator.Intersection_over_Union()\n",
    "f1_per_class = evaluator.F1()\n",
    "OA = evaluator.OA()\n",
    "for class_name, class_iou, class_f1 in zip(CLASSES, iou_per_class, f1_per_class):\n",
    "    print('F1_{}:{}, IOU_{}:{}'.format(class_name, class_f1, class_name, class_iou))\n",
    "print('F1:{}, mIOU:{}, OA:{}'.format(np.nanmean(f1_per_class[:-1]), np.nanmean(iou_per_class[:-1]), OA))\n",
    "t0 = time.time()\n",
    "mpp.Pool(processes=2).map(img_writer, results)\n",
    "t1 = time.time()\n",
    "img_write_time = t1 - t0\n",
    "print('images writing spends: {} s'.format(img_write_time))"
   ]
  }
 ],
 "metadata": {
  "kaggle": {
   "accelerator": "gpu",
   "dataSources": [
    {
     "datasetId": 4130659,
     "sourceId": 7153471,
     "sourceType": "datasetVersion"
    },
    {
     "datasetId": 4139055,
     "sourceId": 7165240,
     "sourceType": "datasetVersion"
    },
    {
     "datasetId": 4145006,
     "sourceId": 7173542,
     "sourceType": "datasetVersion"
    },
    {
     "datasetId": 4148253,
     "sourceId": 7177819,
     "sourceType": "datasetVersion"
    }
   ],
   "dockerImageVersionId": 30616,
   "isGpuEnabled": true,
   "isInternetEnabled": true,
   "language": "python",
   "sourceType": "notebook"
  },
  "kernelspec": {
   "display_name": "Python 3",
   "language": "python",
   "name": "python3"
  },
  "language_info": {
   "codemirror_mode": {
    "name": "ipython",
    "version": 3
   },
   "file_extension": ".py",
   "mimetype": "text/x-python",
   "name": "python",
   "nbconvert_exporter": "python",
   "pygments_lexer": "ipython3",
   "version": "3.10.12"
  },
  "papermill": {
   "default_parameters": {},
   "duration": 14483.782927,
   "end_time": "2023-12-13T17:52:44.472315",
   "environment_variables": {},
   "exception": null,
   "input_path": "__notebook__.ipynb",
   "output_path": "__notebook__.ipynb",
   "parameters": {},
   "start_time": "2023-12-13T13:51:20.689388",
   "version": "2.4.0"
  }
 },
 "nbformat": 4,
 "nbformat_minor": 5
}
