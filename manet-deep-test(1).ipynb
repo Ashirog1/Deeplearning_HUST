{
 "cells": [
  {
   "cell_type": "code",
   "execution_count": 1,
   "id": "8390cbb2",
   "metadata": {
    "_cell_guid": "72cef979-94ff-43ad-a829-151e98587db5",
    "_uuid": "2e046805-8006-406d-b68c-92b57fe52a45",
    "collapsed": false,
    "execution": {
     "iopub.execute_input": "2023-12-16T17:22:09.582245Z",
     "iopub.status.busy": "2023-12-16T17:22:09.581901Z",
     "iopub.status.idle": "2023-12-16T17:22:23.105388Z",
     "shell.execute_reply": "2023-12-16T17:22:23.104460Z"
    },
    "jupyter": {
     "outputs_hidden": false
    },
    "papermill": {
     "duration": 13.540954,
     "end_time": "2023-12-16T17:22:23.107724",
     "exception": false,
     "start_time": "2023-12-16T17:22:09.566770",
     "status": "completed"
    },
    "tags": []
   },
   "outputs": [
    {
     "name": "stdout",
     "output_type": "stream",
     "text": [
      "Collecting torchgeometry\r\n",
      "  Downloading torchgeometry-0.1.2-py2.py3-none-any.whl (42 kB)\r\n",
      "\u001b[2K     \u001b[90m━━━━━━━━━━━━━━━━━━━━━━━━━━━━━━━━━━━━━━━\u001b[0m \u001b[32m42.7/42.7 kB\u001b[0m \u001b[31m866.7 kB/s\u001b[0m eta \u001b[36m0:00:00\u001b[0m\r\n",
      "\u001b[?25hRequirement already satisfied: torch>=1.0.0 in /opt/conda/lib/python3.10/site-packages (from torchgeometry) (2.0.0)\r\n",
      "Requirement already satisfied: filelock in /opt/conda/lib/python3.10/site-packages (from torch>=1.0.0->torchgeometry) (3.12.2)\r\n",
      "Requirement already satisfied: typing-extensions in /opt/conda/lib/python3.10/site-packages (from torch>=1.0.0->torchgeometry) (4.5.0)\r\n",
      "Requirement already satisfied: sympy in /opt/conda/lib/python3.10/site-packages (from torch>=1.0.0->torchgeometry) (1.12)\r\n",
      "Requirement already satisfied: networkx in /opt/conda/lib/python3.10/site-packages (from torch>=1.0.0->torchgeometry) (3.1)\r\n",
      "Requirement already satisfied: jinja2 in /opt/conda/lib/python3.10/site-packages (from torch>=1.0.0->torchgeometry) (3.1.2)\r\n",
      "Requirement already satisfied: MarkupSafe>=2.0 in /opt/conda/lib/python3.10/site-packages (from jinja2->torch>=1.0.0->torchgeometry) (2.1.3)\r\n",
      "Requirement already satisfied: mpmath>=0.19 in /opt/conda/lib/python3.10/site-packages (from sympy->torch>=1.0.0->torchgeometry) (1.3.0)\r\n",
      "Installing collected packages: torchgeometry\r\n",
      "Successfully installed torchgeometry-0.1.2\r\n"
     ]
    }
   ],
   "source": [
    "!pip install torchgeometry"
   ]
  },
  {
   "cell_type": "code",
   "execution_count": 2,
   "id": "63e7fc5f",
   "metadata": {
    "_cell_guid": "21981bc4-47ee-4e0b-b154-5c1c759639e4",
    "_uuid": "1093bcea-f833-47c7-810c-4d0b4672052f",
    "collapsed": false,
    "execution": {
     "iopub.execute_input": "2023-12-16T17:22:23.137568Z",
     "iopub.status.busy": "2023-12-16T17:22:23.137234Z",
     "iopub.status.idle": "2023-12-16T17:22:34.760607Z",
     "shell.execute_reply": "2023-12-16T17:22:34.759681Z"
    },
    "jupyter": {
     "outputs_hidden": false
    },
    "papermill": {
     "duration": 11.641206,
     "end_time": "2023-12-16T17:22:34.763279",
     "exception": false,
     "start_time": "2023-12-16T17:22:23.122073",
     "status": "completed"
    },
    "tags": []
   },
   "outputs": [
    {
     "name": "stdout",
     "output_type": "stream",
     "text": [
      "Name: torch\r\n",
      "Version: 2.0.0\r\n",
      "Summary: Tensors and Dynamic neural networks in Python with strong GPU acceleration\r\n",
      "Home-page: https://pytorch.org/\r\n",
      "Author: PyTorch Team\r\n",
      "Author-email: packages@pytorch.org\r\n",
      "License: BSD-3\r\n",
      "Location: /opt/conda/lib/python3.10/site-packages\r\n",
      "Requires: filelock, jinja2, networkx, sympy, typing-extensions\r\n",
      "Required-by: accelerate, catalyst, easyocr, fastai, kornia, pytorch-ignite, pytorch-lightning, stable-baselines3, timm, torchaudio, torchdata, torchgeometry, torchmetrics, torchtext, torchvision\r\n"
     ]
    }
   ],
   "source": [
    "!pip show torch"
   ]
  },
  {
   "cell_type": "code",
   "execution_count": 3,
   "id": "b52a5654",
   "metadata": {
    "_cell_guid": "88e09262-f068-4598-908b-281dc1682cba",
    "_uuid": "6a7a3ffe-2c24-4002-9097-5ba429cca317",
    "collapsed": false,
    "execution": {
     "iopub.execute_input": "2023-12-16T17:22:34.795485Z",
     "iopub.status.busy": "2023-12-16T17:22:34.794613Z",
     "iopub.status.idle": "2023-12-16T17:22:46.374271Z",
     "shell.execute_reply": "2023-12-16T17:22:46.373435Z"
    },
    "jupyter": {
     "outputs_hidden": false
    },
    "papermill": {
     "duration": 11.598773,
     "end_time": "2023-12-16T17:22:46.376786",
     "exception": false,
     "start_time": "2023-12-16T17:22:34.778013",
     "status": "completed"
    },
    "tags": []
   },
   "outputs": [
    {
     "name": "stderr",
     "output_type": "stream",
     "text": [
      "/opt/conda/lib/python3.10/site-packages/scipy/__init__.py:146: UserWarning: A NumPy version >=1.16.5 and <1.23.0 is required for this version of SciPy (detected version 1.24.3\n",
      "  warnings.warn(f\"A NumPy version >={np_minversion} and <{np_maxversion}\"\n"
     ]
    }
   ],
   "source": [
    "\n",
    "# from torchgeometry.losses import one_hot\n",
    "import os\n",
    "import os.path as osp\n",
    "import pandas as pd\n",
    "import numpy as np\n",
    "from PIL import Image\n",
    "import cv2\n",
    "import time\n",
    "import imageio\n",
    "import matplotlib.pyplot as plt\n",
    "import time\n",
    "import torch\n",
    "import torch.nn as nn\n",
    "import torch.nn.functional as F\n",
    "import torch.optim as optim\n",
    "from torch.optim import lr_scheduler\n",
    "from torch import Tensor\n",
    "from torch.utils.data import Dataset, DataLoader, random_split\n",
    "from torchvision.transforms import Resize, PILToTensor, ToPILImage, Compose, InterpolationMode\n",
    "from collections import OrderedDict\n",
    "import wandb\n",
    "import albumentations as A\n",
    "from albumentations.pytorch.transforms import ToTensorV2\n",
    "import glob\n",
    "import multiprocessing.pool as mpp\n",
    "import multiprocessing as mp\n",
    "import argparse\n",
    "import torch\n",
    "import albumentations as albu\n",
    "from torchvision.transforms import (Pad, ColorJitter, Resize, FiveCrop, RandomResizedCrop,\n",
    "                                    RandomHorizontalFlip, RandomRotation, RandomVerticalFlip)\n",
    "import random\n",
    "import math\n",
    "import numbers\n",
    "from PIL import Image, ImageOps, ImageEnhance\n",
    "import numpy as np\n",
    "import random\n",
    "from scipy.ndimage.morphology import generate_binary_structure, binary_erosion\n",
    "from scipy.ndimage import maximum_filter\n",
    "from tqdm import tqdm\n",
    "import pytorch_lightning as pl\n",
    "from pytorch_lightning.callbacks import ModelCheckpoint\n",
    "import os\n",
    "import torch\n",
    "from torch import nn\n",
    "import cv2\n",
    "import numpy as np\n",
    "import argparse\n",
    "from pathlib import Path\n",
    "\n",
    "from pytorch_lightning.loggers import CSVLogger\n",
    "import random"
   ]
  },
  {
   "cell_type": "code",
   "execution_count": 4,
   "id": "91cacb0a",
   "metadata": {
    "_cell_guid": "aa8379be-1f15-4cdc-8c8f-fe6460612292",
    "_uuid": "c900dbb0-9acb-4fc6-98e1-28b9fadd2df6",
    "collapsed": false,
    "execution": {
     "iopub.execute_input": "2023-12-16T17:22:46.408846Z",
     "iopub.status.busy": "2023-12-16T17:22:46.408355Z",
     "iopub.status.idle": "2023-12-16T17:22:58.669277Z",
     "shell.execute_reply": "2023-12-16T17:22:58.668034Z"
    },
    "jupyter": {
     "outputs_hidden": false
    },
    "papermill": {
     "duration": 12.279456,
     "end_time": "2023-12-16T17:22:58.671913",
     "exception": false,
     "start_time": "2023-12-16T17:22:46.392457",
     "status": "completed"
    },
    "tags": []
   },
   "outputs": [
    {
     "name": "stdout",
     "output_type": "stream",
     "text": [
      "Requirement already satisfied: wandb in /opt/conda/lib/python3.10/site-packages (0.16.1)\r\n",
      "Requirement already satisfied: Click!=8.0.0,>=7.1 in /opt/conda/lib/python3.10/site-packages (from wandb) (8.1.7)\r\n",
      "Requirement already satisfied: GitPython!=3.1.29,>=1.0.0 in /opt/conda/lib/python3.10/site-packages (from wandb) (3.1.32)\r\n",
      "Requirement already satisfied: requests<3,>=2.0.0 in /opt/conda/lib/python3.10/site-packages (from wandb) (2.31.0)\r\n",
      "Requirement already satisfied: psutil>=5.0.0 in /opt/conda/lib/python3.10/site-packages (from wandb) (5.9.3)\r\n",
      "Requirement already satisfied: sentry-sdk>=1.0.0 in /opt/conda/lib/python3.10/site-packages (from wandb) (1.38.0)\r\n",
      "Requirement already satisfied: docker-pycreds>=0.4.0 in /opt/conda/lib/python3.10/site-packages (from wandb) (0.4.0)\r\n",
      "Requirement already satisfied: PyYAML in /opt/conda/lib/python3.10/site-packages (from wandb) (6.0.1)\r\n",
      "Requirement already satisfied: setproctitle in /opt/conda/lib/python3.10/site-packages (from wandb) (1.3.3)\r\n",
      "Requirement already satisfied: setuptools in /opt/conda/lib/python3.10/site-packages (from wandb) (68.1.2)\r\n",
      "Requirement already satisfied: appdirs>=1.4.3 in /opt/conda/lib/python3.10/site-packages (from wandb) (1.4.4)\r\n",
      "Requirement already satisfied: protobuf!=4.21.0,<5,>=3.19.0 in /opt/conda/lib/python3.10/site-packages (from wandb) (3.20.3)\r\n",
      "Requirement already satisfied: six>=1.4.0 in /opt/conda/lib/python3.10/site-packages (from docker-pycreds>=0.4.0->wandb) (1.16.0)\r\n",
      "Requirement already satisfied: gitdb<5,>=4.0.1 in /opt/conda/lib/python3.10/site-packages (from GitPython!=3.1.29,>=1.0.0->wandb) (4.0.10)\r\n",
      "Requirement already satisfied: charset-normalizer<4,>=2 in /opt/conda/lib/python3.10/site-packages (from requests<3,>=2.0.0->wandb) (3.2.0)\r\n",
      "Requirement already satisfied: idna<4,>=2.5 in /opt/conda/lib/python3.10/site-packages (from requests<3,>=2.0.0->wandb) (3.4)\r\n",
      "Requirement already satisfied: urllib3<3,>=1.21.1 in /opt/conda/lib/python3.10/site-packages (from requests<3,>=2.0.0->wandb) (1.26.15)\r\n",
      "Requirement already satisfied: certifi>=2017.4.17 in /opt/conda/lib/python3.10/site-packages (from requests<3,>=2.0.0->wandb) (2023.11.17)\r\n",
      "Requirement already satisfied: smmap<6,>=3.0.1 in /opt/conda/lib/python3.10/site-packages (from gitdb<5,>=4.0.1->GitPython!=3.1.29,>=1.0.0->wandb) (5.0.0)\r\n"
     ]
    }
   ],
   "source": [
    "!pip install --upgrade wandb"
   ]
  },
  {
   "cell_type": "code",
   "execution_count": 5,
   "id": "a8591583",
   "metadata": {
    "_cell_guid": "2430a974-ee00-4b55-984d-d22bd4c1bf8e",
    "_uuid": "2d6e6929-b71c-4738-a617-ebf00a9dbb6b",
    "collapsed": false,
    "execution": {
     "iopub.execute_input": "2023-12-16T17:22:58.703759Z",
     "iopub.status.busy": "2023-12-16T17:22:58.703430Z",
     "iopub.status.idle": "2023-12-16T17:23:00.838689Z",
     "shell.execute_reply": "2023-12-16T17:23:00.837585Z"
    },
    "jupyter": {
     "outputs_hidden": false
    },
    "papermill": {
     "duration": 2.153665,
     "end_time": "2023-12-16T17:23:00.841040",
     "exception": false,
     "start_time": "2023-12-16T17:22:58.687375",
     "status": "completed"
    },
    "tags": []
   },
   "outputs": [
    {
     "name": "stdout",
     "output_type": "stream",
     "text": [
      "wandb, version 0.16.1\r\n",
      "Python 3.10.12\r\n",
      "Linux\r\n"
     ]
    }
   ],
   "source": [
    "!wandb --version && python --version && uname"
   ]
  },
  {
   "cell_type": "code",
   "execution_count": 6,
   "id": "f827017d",
   "metadata": {
    "_cell_guid": "0f7e6ff8-9df5-42f9-9881-66bf98f14f0d",
    "_uuid": "40f5ad16-4022-4ff8-a8ea-9fbb856a3f3f",
    "collapsed": false,
    "execution": {
     "iopub.execute_input": "2023-12-16T17:23:00.873239Z",
     "iopub.status.busy": "2023-12-16T17:23:00.872657Z",
     "iopub.status.idle": "2023-12-16T17:23:00.895642Z",
     "shell.execute_reply": "2023-12-16T17:23:00.894684Z"
    },
    "jupyter": {
     "outputs_hidden": false
    },
    "papermill": {
     "duration": 0.041335,
     "end_time": "2023-12-16T17:23:00.897628",
     "exception": false,
     "start_time": "2023-12-16T17:23:00.856293",
     "status": "completed"
    },
    "tags": []
   },
   "outputs": [
    {
     "data": {
      "text/plain": [
       "device(type='cuda')"
      ]
     },
     "execution_count": 6,
     "metadata": {},
     "output_type": "execute_result"
    }
   ],
   "source": [
    "device = torch.device(\"cuda\" if torch.cuda.is_available() else \"cpu\")\n",
    "device"
   ]
  },
  {
   "cell_type": "markdown",
   "id": "27867596",
   "metadata": {
    "_cell_guid": "8bfafdf1-9fd0-4428-9264-d9556e740368",
    "_uuid": "1c56b75e-c51b-4631-b417-ca5a8b12b385",
    "papermill": {
     "duration": 0.014621,
     "end_time": "2023-12-16T17:23:00.926957",
     "exception": false,
     "start_time": "2023-12-16T17:23:00.912336",
     "status": "completed"
    },
    "tags": []
   },
   "source": [
    "# Parameters"
   ]
  },
  {
   "cell_type": "code",
   "execution_count": 7,
   "id": "2e32c075",
   "metadata": {
    "_cell_guid": "90c59a24-e6c9-4968-9bf1-0f9f8593a7df",
    "_uuid": "7b49f402-6e88-47b4-9078-5937ee497f1c",
    "collapsed": false,
    "execution": {
     "iopub.execute_input": "2023-12-16T17:23:00.957358Z",
     "iopub.status.busy": "2023-12-16T17:23:00.957062Z",
     "iopub.status.idle": "2023-12-16T17:23:00.962250Z",
     "shell.execute_reply": "2023-12-16T17:23:00.961480Z"
    },
    "jupyter": {
     "outputs_hidden": false
    },
    "papermill": {
     "duration": 0.022512,
     "end_time": "2023-12-16T17:23:00.964129",
     "exception": false,
     "start_time": "2023-12-16T17:23:00.941617",
     "status": "completed"
    },
    "tags": []
   },
   "outputs": [],
   "source": [
    "\n",
    "num_classes = 6\n",
    "\n",
    "# Number of epoch\n",
    "epochs = 120\n",
    "\n",
    "# Hyperparameters for training \n",
    "learning_rate = 1e-3\n",
    "batch_size = 8\n",
    "display_step = 2\n",
    "\n",
    "# Model path\n",
    "checkpoint_path = '/kaggle/working/fine_tune_manet_model.pth'\n",
    "pretrained_path = \"/kaggle/working/manet_model.pth\"\n",
    "# Initialize lists to keep track of loss and accuracy\n",
    "loss_epoch_array = []\n",
    "train_accuracy = []\n",
    "test_accuracy = []\n",
    "valid_accuracy = []"
   ]
  },
  {
   "cell_type": "code",
   "execution_count": 8,
   "id": "126dcbbe",
   "metadata": {
    "_cell_guid": "5b1bf9c8-12e8-4fb4-9a4c-244c5073f464",
    "_uuid": "2308279b-3a28-4a2f-b1a6-37c86e2f8d11",
    "collapsed": false,
    "execution": {
     "iopub.execute_input": "2023-12-16T17:23:00.995278Z",
     "iopub.status.busy": "2023-12-16T17:23:00.995000Z",
     "iopub.status.idle": "2023-12-16T17:23:01.254163Z",
     "shell.execute_reply": "2023-12-16T17:23:01.253196Z"
    },
    "jupyter": {
     "outputs_hidden": false
    },
    "papermill": {
     "duration": 0.277806,
     "end_time": "2023-12-16T17:23:01.256464",
     "exception": false,
     "start_time": "2023-12-16T17:23:00.978658",
     "status": "completed"
    },
    "tags": []
   },
   "outputs": [],
   "source": [
    "SEED = 42\n",
    "\n",
    "\n",
    "def seed_everything(seed):\n",
    "    random.seed(seed)\n",
    "    os.environ['PYTHONHASHSEED'] = str(seed)\n",
    "    np.random.seed(seed)\n",
    "    torch.manual_seed(seed)\n",
    "    torch.cuda.manual_seed(seed)\n",
    "    torch.backends.cudnn.deterministic = True\n",
    "    torch.backends.cudnn.benchmark = True\n",
    "seed_everything(42)\n",
    "\n",
    "ImSurf = np.array([255, 255, 255])  # label 0\n",
    "Building = np.array([255, 0, 0]) # label 1\n",
    "LowVeg = np.array([255, 255, 0]) # label 2\n",
    "Tree = np.array([0, 255, 0]) # label 3\n",
    "Car = np.array([0, 255, 255]) # label 4\n",
    "Clutter = np.array([0, 0, 255]) # label 5\n",
    "Boundary = np.array([0, 0, 0]) # label 6\n",
    "num_classes = 6\n",
    "\n",
    "\n",
    "\n",
    "\n",
    "\n",
    "def pv2rgb(mask):\n",
    "    h, w = mask.shape[0], mask.shape[1]\n",
    "    mask_rgb = np.zeros(shape=(h, w, 3), dtype=np.uint8)\n",
    "    mask_convert = mask[np.newaxis, :, :]\n",
    "    mask_rgb[np.all(mask_convert == 3, axis=0)] = [0, 255, 0]\n",
    "    mask_rgb[np.all(mask_convert == 0, axis=0)] = [255, 255, 255]\n",
    "    mask_rgb[np.all(mask_convert == 1, axis=0)] = [255, 0, 0]\n",
    "    mask_rgb[np.all(mask_convert == 2, axis=0)] = [255, 255, 0]\n",
    "    mask_rgb[np.all(mask_convert == 4, axis=0)] = [0, 204, 255]\n",
    "    mask_rgb[np.all(mask_convert == 5, axis=0)] = [0, 0, 255]\n",
    "    return mask_rgb\n",
    "def label2rgb(mask):\n",
    "    h, w = mask.shape[0], mask.shape[1]\n",
    "    mask_rgb = np.zeros(shape=(h, w, 3), dtype=np.uint8)\n",
    "    mask_convert = mask[np.newaxis, :, :]\n",
    "    mask_rgb[np.all(mask_convert == 3, axis=0)] = [0, 255, 0]\n",
    "    mask_rgb[np.all(mask_convert == 0, axis=0)] = [255, 255, 255]\n",
    "    mask_rgb[np.all(mask_convert == 1, axis=0)] = [255, 0, 0]\n",
    "    mask_rgb[np.all(mask_convert == 2, axis=0)] = [255, 255, 0]\n",
    "    mask_rgb[np.all(mask_convert == 4, axis=0)] = [0, 204, 255]\n",
    "    mask_rgb[np.all(mask_convert == 5, axis=0)] = [0, 0, 255]\n",
    "    return mask_rgb\n",
    "\n",
    "\n",
    "\n",
    "def car_color_replace(mask):\n",
    "    mask = cv2.cvtColor(np.array(mask.copy()), cv2.COLOR_RGB2BGR)\n",
    "    mask[np.all(mask == [0, 255, 255], axis=-1)] = [0, 204, 255]\n",
    "\n",
    "    return mask\n",
    "\n",
    "\n",
    "def rgb_to_2D_label(_label):\n",
    "    _label = _label.transpose(2, 0, 1)\n",
    "    label_seg = np.zeros(_label.shape[1:], dtype=np.uint8)\n",
    "    label_seg[np.all(_label.transpose([1, 2, 0]) == ImSurf, axis=-1)] = 0\n",
    "    label_seg[np.all(_label.transpose([1, 2, 0]) == Building, axis=-1)] = 1\n",
    "    label_seg[np.all(_label.transpose([1, 2, 0]) == LowVeg, axis=-1)] = 2\n",
    "    label_seg[np.all(_label.transpose([1, 2, 0]) == Tree, axis=-1)] = 3\n",
    "    label_seg[np.all(_label.transpose([1, 2, 0]) == Car, axis=-1)] = 4\n",
    "    label_seg[np.all(_label.transpose([1, 2, 0]) == Clutter, axis=-1)] = 5\n",
    "    label_seg[np.all(_label.transpose([1, 2, 0]) == Boundary, axis=-1)] = 6\n",
    "    return label_seg"
   ]
  },
  {
   "cell_type": "markdown",
   "id": "bc89761b",
   "metadata": {
    "_cell_guid": "ed9bb442-c95f-4edc-a95f-e9f368877526",
    "_uuid": "10746afb-9ba4-49e9-9606-175c6872e076",
    "papermill": {
     "duration": 0.015442,
     "end_time": "2023-12-16T17:23:01.288182",
     "exception": false,
     "start_time": "2023-12-16T17:23:01.272740",
     "status": "completed"
    },
    "tags": []
   },
   "source": [
    " # Split Data"
   ]
  },
  {
   "cell_type": "markdown",
   "id": "ab00123d",
   "metadata": {
    "_cell_guid": "7e69974a-6f3d-440b-a533-46e32fb80da5",
    "_uuid": "809be605-74f3-43f8-9469-f33d1bbfd58b",
    "papermill": {
     "duration": 0.016413,
     "end_time": "2023-12-16T17:23:01.366491",
     "exception": false,
     "start_time": "2023-12-16T17:23:01.350078",
     "status": "completed"
    },
    "tags": []
   },
   "source": [
    " # Dataloader"
   ]
  },
  {
   "cell_type": "code",
   "execution_count": 9,
   "id": "d391ce2a",
   "metadata": {
    "_cell_guid": "41e446e8-6413-407e-861b-dbd9b75c48e0",
    "_uuid": "cf36b02a-15c1-46e9-a34e-695d81137c47",
    "collapsed": false,
    "execution": {
     "iopub.execute_input": "2023-12-16T17:23:01.400571Z",
     "iopub.status.busy": "2023-12-16T17:23:01.400180Z",
     "iopub.status.idle": "2023-12-16T17:23:01.432890Z",
     "shell.execute_reply": "2023-12-16T17:23:01.431912Z"
    },
    "jupyter": {
     "outputs_hidden": false
    },
    "papermill": {
     "duration": 0.052141,
     "end_time": "2023-12-16T17:23:01.435079",
     "exception": false,
     "start_time": "2023-12-16T17:23:01.382938",
     "status": "completed"
    },
    "tags": []
   },
   "outputs": [],
   "source": [
    "CLASSES = ('ImSurf', 'Building', 'LowVeg', 'Tree', 'Car', 'Clutter')\n",
    "class_label={0:'ImSurf', 1:'Building',2: 'LowVeg', 3:'Tree', 4:'Car',5: 'Clutter'}\n",
    "PALETTE = [[255, 255, 255], [0, 0, 255], [0, 255, 255], [0, 255, 0], [255, 204, 0], [255, 0, 0]]\n",
    "\n",
    "ORIGIN_IMG_SIZE = (256, 256)\n",
    "INPUT_IMG_SIZE = (256, 256)\n",
    "TEST_IMG_SIZE = (256, 256)\n",
    "\n",
    "def get_training_transform():\n",
    "    train_transform = [\n",
    "        # albu.RandomBrightnessContrast(brightness_limit=0.25, contrast_limit=0.25, p=0.15),\n",
    "        # albu.RandomRotate90(p=0.25),\n",
    "        albu.Normalize()\n",
    "    ]\n",
    "    return albu.Compose(train_transform)\n",
    "\n",
    "def get_val_transform():\n",
    "    val_transform = [\n",
    "        albu.Normalize()\n",
    "    ]\n",
    "    return albu.Compose(val_transform)\n",
    "\n",
    "\n",
    "def val_aug(img, mask):\n",
    "    img, mask = np.array(img), np.array(mask)\n",
    "    aug = get_val_transform()(image=img.copy(), mask=mask.copy())\n",
    "    img, mask = aug['image'], aug['mask']\n",
    "    return img, mask\n",
    "\n",
    "\n",
    "class PotsdamDataset(Dataset):\n",
    "    def __init__(self, data_root='/kaggle/input/deep-data-potsdam-vaihingen/Deep_data_segmentation/Split/Potsdam/', mode='val', img_dir='Image', mask_dir='Label/',\n",
    "                 img_suffix='.tif', mask_suffix='.png', transform=val_aug, mosaic_ratio=0.0,\n",
    "                 img_size=ORIGIN_IMG_SIZE):\n",
    "        self.data_root = data_root\n",
    "        self.img_dir = img_dir\n",
    "        self.mask_dir = mask_dir\n",
    "        self.img_suffix = img_suffix\n",
    "        self.mask_suffix = mask_suffix\n",
    "        self.transform = transform\n",
    "        self.mode = mode\n",
    "        self.mosaic_ratio = mosaic_ratio\n",
    "        self.img_size = img_size\n",
    "        self.img_ids = self.get_img_ids(self.data_root, self.img_dir, self.mask_dir)\n",
    "\n",
    "    def __getitem__(self, index):\n",
    "        p_ratio = random.random()\n",
    "        if p_ratio > self.mosaic_ratio or self.mode == 'val' or self.mode == 'test':\n",
    "            img, mask = self.load_img_and_mask(index)\n",
    "            if self.transform:\n",
    "                img, mask = self.transform(img, mask)\n",
    "        else:\n",
    "            img, mask = self.load_mosaic_img_and_mask(index)\n",
    "            if self.transform:\n",
    "                img, mask = self.transform(img, mask)\n",
    "\n",
    "        img = torch.from_numpy(img).permute(2, 0, 1).float()\n",
    "        mask = torch.from_numpy(mask).long()\n",
    "        img_id = self.img_ids[index]\n",
    "        results = dict(img_id=img_id, img=img, gt_semantic_seg=mask)\n",
    "        return results\n",
    "\n",
    "    def __len__(self):\n",
    "        return len(self.img_ids)\n",
    "\n",
    "    def get_img_ids(self, data_root, img_dir, mask_dir):\n",
    "        img_filename_list = os.listdir(osp.join(data_root, img_dir))\n",
    "        mask_filename_list = os.listdir(osp.join(data_root, mask_dir))\n",
    "        assert len(img_filename_list) == len(mask_filename_list)\n",
    "        img_ids = [str(id.split('.')[0]) for id in mask_filename_list]\n",
    "        return img_ids\n",
    "\n",
    "    def load_img_and_mask(self, index):\n",
    "        img_id = self.img_ids[index]\n",
    "        img_name = osp.join(self.data_root, self.img_dir, img_id + self.img_suffix)\n",
    "        mask_name = osp.join(self.data_root, self.mask_dir, img_id + self.mask_suffix)\n",
    "        img = Image.open(img_name).convert('RGB')\n",
    "        mask = Image.open(mask_name).convert('L')\n",
    "        return img, mask\n",
    "\n",
    "    def load_mosaic_img_and_mask(self, index):\n",
    "        indexes = [index] + [random.randint(0, len(self.img_ids) - 1) for _ in range(3)]\n",
    "        img_a, mask_a = self.load_img_and_mask(indexes[0])\n",
    "        img_b, mask_b = self.load_img_and_mask(indexes[1])\n",
    "        img_c, mask_c = self.load_img_and_mask(indexes[2])\n",
    "        img_d, mask_d = self.load_img_and_mask(indexes[3])\n",
    "\n",
    "        img_a, mask_a = np.array(img_a), np.array(mask_a)\n",
    "        img_b, mask_b = np.array(img_b), np.array(mask_b)\n",
    "        img_c, mask_c = np.array(img_c), np.array(mask_c)\n",
    "        img_d, mask_d = np.array(img_d), np.array(mask_d)\n",
    "\n",
    "        w = self.img_size[1]\n",
    "        h = self.img_size[0]\n",
    "\n",
    "        start_x = w // 4\n",
    "        strat_y = h // 4\n",
    "        # The coordinates of the splice center\n",
    "        offset_x = random.randint(start_x, (w - start_x))\n",
    "        offset_y = random.randint(strat_y, (h - strat_y))\n",
    "\n",
    "        crop_size_a = (offset_x, offset_y)\n",
    "        crop_size_b = (w - offset_x, offset_y)\n",
    "        crop_size_c = (offset_x, h - offset_y)\n",
    "        crop_size_d = (w - offset_x, h - offset_y)\n",
    "\n",
    "        random_crop_a = albu.RandomCrop(width=crop_size_a[0], height=crop_size_a[1])\n",
    "        random_crop_b = albu.RandomCrop(width=crop_size_b[0], height=crop_size_b[1])\n",
    "        random_crop_c = albu.RandomCrop(width=crop_size_c[0], height=crop_size_c[1])\n",
    "        random_crop_d = albu.RandomCrop(width=crop_size_d[0], height=crop_size_d[1])\n",
    "\n",
    "        croped_a = random_crop_a(image=img_a.copy(), mask=mask_a.copy())\n",
    "        croped_b = random_crop_b(image=img_b.copy(), mask=mask_b.copy())\n",
    "        croped_c = random_crop_c(image=img_c.copy(), mask=mask_c.copy())\n",
    "        croped_d = random_crop_d(image=img_d.copy(), mask=mask_d.copy())\n",
    "\n",
    "        img_crop_a, mask_crop_a = croped_a['image'], croped_a['mask']\n",
    "        img_crop_b, mask_crop_b = croped_b['image'], croped_b['mask']\n",
    "        img_crop_c, mask_crop_c = croped_c['image'], croped_c['mask']\n",
    "        img_crop_d, mask_crop_d = croped_d['image'], croped_d['mask']\n",
    "\n",
    "        top = np.concatenate((img_crop_a, img_crop_b), axis=1)\n",
    "        bottom = np.concatenate((img_crop_c, img_crop_d), axis=1)\n",
    "        img = np.concatenate((top, bottom), axis=0)\n",
    "\n",
    "        top_mask = np.concatenate((mask_crop_a, mask_crop_b), axis=1)\n",
    "        bottom_mask = np.concatenate((mask_crop_c, mask_crop_d), axis=1)\n",
    "        mask = np.concatenate((top_mask, bottom_mask), axis=0)\n",
    "        mask = np.ascontiguousarray(mask)\n",
    "        img = np.ascontiguousarray(img)\n",
    "\n",
    "        img = Image.fromarray(img)\n",
    "        mask = Image.fromarray(mask)\n",
    "\n",
    "        return img, mask"
   ]
  },
  {
   "cell_type": "code",
   "execution_count": 10,
   "id": "027552df",
   "metadata": {
    "_cell_guid": "6b7ea4bb-4ed9-4d8a-a364-06d06a37ddbf",
    "_uuid": "a3d7e43e-4ce0-49bb-ae3e-04b80258ade7",
    "collapsed": false,
    "execution": {
     "iopub.execute_input": "2023-12-16T17:23:01.469231Z",
     "iopub.status.busy": "2023-12-16T17:23:01.468929Z",
     "iopub.status.idle": "2023-12-16T17:23:03.488887Z",
     "shell.execute_reply": "2023-12-16T17:23:03.487427Z"
    },
    "jupyter": {
     "outputs_hidden": false
    },
    "papermill": {
     "duration": 2.040351,
     "end_time": "2023-12-16T17:23:03.491773",
     "exception": false,
     "start_time": "2023-12-16T17:23:01.451422",
     "status": "completed"
    },
    "tags": []
   },
   "outputs": [],
   "source": [
    "\n",
    "train_dataset = PotsdamDataset(data_root='/kaggle/input/deep-data-potsdam-vaihingen/Deep_data_segmentation/Split/Potsdam/', mode='train',\n",
    "                               mosaic_ratio=0.25, transform=val_aug)\n",
    "\n",
    "train_size = 0.35\n",
    "valid_size = 0.65\n",
    "dumb1 = 0.15\n",
    "dumb2 = 0.85\n",
    "train_length = round(train_size * len(train_dataset))\n",
    "valid_length = round(valid_size * len(train_dataset))\n",
    "train_set, dumb0 = random_split(train_dataset, [train_length, valid_length])\n",
    "val_set, xxx = random_split(dumb0, [dumb1, dumb2])\n",
    "\n",
    "\n",
    "test_dataset = PotsdamDataset(data_root='/kaggle/input/deep-data-potsdam-vaihingen/Deep_data_segmentation/Split/Potsdam/Test',\n",
    "                              transform=val_aug)\n",
    "\n",
    "train_loader = DataLoader(dataset=train_set,\n",
    "                          batch_size=batch_size,\n",
    "                          num_workers=0,\n",
    "                          pin_memory=False,\n",
    "                          shuffle=True,\n",
    "                          drop_last=True)\n",
    "\n",
    "val_loader = DataLoader(dataset=val_set,\n",
    "                        batch_size=batch_size,\n",
    "                        num_workers=0,\n",
    "                        shuffle=False,\n",
    "                        pin_memory=False,\n",
    "                        drop_last=False)"
   ]
  },
  {
   "cell_type": "markdown",
   "id": "0078a5cd",
   "metadata": {
    "_cell_guid": "e33afd3f-19c8-454d-9fb4-182126b81b6b",
    "_uuid": "0136e564-2e85-46e0-9e1b-2fa37e9cc832",
    "papermill": {
     "duration": 0.014687,
     "end_time": "2023-12-16T17:23:03.522287",
     "exception": false,
     "start_time": "2023-12-16T17:23:03.507600",
     "status": "completed"
    },
    "tags": []
   },
   "source": [
    "# Metric"
   ]
  },
  {
   "cell_type": "code",
   "execution_count": 11,
   "id": "8e2a8e27",
   "metadata": {
    "_cell_guid": "a56eb541-01a5-47d6-87dd-62556e9cfa38",
    "_uuid": "f5d327d4-fc57-4b0e-9b44-8e31b9831963",
    "collapsed": false,
    "execution": {
     "iopub.execute_input": "2023-12-16T17:23:03.554466Z",
     "iopub.status.busy": "2023-12-16T17:23:03.554125Z",
     "iopub.status.idle": "2023-12-16T17:23:03.571077Z",
     "shell.execute_reply": "2023-12-16T17:23:03.570224Z"
    },
    "jupyter": {
     "outputs_hidden": false
    },
    "papermill": {
     "duration": 0.035917,
     "end_time": "2023-12-16T17:23:03.573128",
     "exception": false,
     "start_time": "2023-12-16T17:23:03.537211",
     "status": "completed"
    },
    "tags": []
   },
   "outputs": [],
   "source": [
    "class Evaluator(object):\n",
    "    def __init__(self, num_class):\n",
    "        self.num_class = num_class\n",
    "        self.confusion_matrix = np.zeros((self.num_class,) * 2)\n",
    "        self.eps = 1e-8\n",
    "\n",
    "    def get_tp_fp_tn_fn(self):\n",
    "        tp = np.diag(self.confusion_matrix)\n",
    "        fp = self.confusion_matrix.sum(axis=0) - np.diag(self.confusion_matrix)\n",
    "        fn = self.confusion_matrix.sum(axis=1) - np.diag(self.confusion_matrix)\n",
    "        tn = np.diag(self.confusion_matrix).sum() - np.diag(self.confusion_matrix)\n",
    "        return tp, fp, tn, fn\n",
    "\n",
    "    def Precision(self):\n",
    "        tp, fp, tn, fn = self.get_tp_fp_tn_fn()\n",
    "        precision = tp / (tp + fp)\n",
    "        return precision\n",
    "\n",
    "    def Recall(self):\n",
    "        tp, fp, tn, fn = self.get_tp_fp_tn_fn()\n",
    "        recall = tp / (tp + fn)\n",
    "        return recall\n",
    "\n",
    "    def F1(self):\n",
    "        tp, fp, tn, fn = self.get_tp_fp_tn_fn()\n",
    "        Precision = tp / (tp + fp)\n",
    "        Recall = tp / (tp + fn)\n",
    "        F1 = (2.0 * Precision * Recall) / (Precision + Recall)\n",
    "        return F1\n",
    "\n",
    "    def OA(self):\n",
    "        OA = np.diag(self.confusion_matrix).sum() / (self.confusion_matrix.sum() + self.eps)\n",
    "        return OA\n",
    "\n",
    "    def Intersection_over_Union(self):\n",
    "        tp, fp, tn, fn = self.get_tp_fp_tn_fn()\n",
    "        IoU = tp / (tp + fn + fp)\n",
    "        return IoU\n",
    "\n",
    "    def Dice(self):\n",
    "        tp, fp, tn, fn = self.get_tp_fp_tn_fn()\n",
    "        Dice = 2 * tp / ((tp + fp) + (tp + fn))\n",
    "        return Dice\n",
    "\n",
    "    def Pixel_Accuracy_Class(self):\n",
    "        #         TP                                  TP+FP\n",
    "        Acc = np.diag(self.confusion_matrix) / (self.confusion_matrix.sum(axis=0) + self.eps)\n",
    "        return Acc\n",
    "\n",
    "    def Frequency_Weighted_Intersection_over_Union(self):\n",
    "        freq = np.sum(self.confusion_matrix, axis=1) / (np.sum(self.confusion_matrix) + self.eps)\n",
    "        iou = self.Intersection_over_Union()\n",
    "        FWIoU = (freq[freq > 0] * iou[freq > 0]).sum()\n",
    "        return FWIoU\n",
    "\n",
    "    def _generate_matrix(self, gt_image, pre_image):\n",
    "        mask = (gt_image >= 0) & (gt_image < self.num_class)\n",
    "        label = self.num_class * gt_image[mask].astype('int') + pre_image[mask]\n",
    "        count = np.bincount(label, minlength=self.num_class ** 2)\n",
    "        confusion_matrix = count.reshape(self.num_class, self.num_class)\n",
    "        return confusion_matrix\n",
    "\n",
    "    def add_batch(self, gt_image, pre_image):\n",
    "        assert gt_image.shape == pre_image.shape, 'pre_image shape {}, gt_image shape {}'.format(pre_image.shape,\n",
    "                                                                                                 gt_image.shape)\n",
    "        self.confusion_matrix += self._generate_matrix(gt_image, pre_image)\n",
    "\n",
    "    def reset(self):\n",
    "        self.confusion_matrix = np.zeros((self.num_class,) * 2)"
   ]
  },
  {
   "cell_type": "markdown",
   "id": "6e5d69bc",
   "metadata": {
    "_cell_guid": "dbf21327-962d-41dc-a8ca-7c9d2d9b0900",
    "_uuid": "fc0072f2-8814-400e-8de3-fb9dec01bdf1",
    "papermill": {
     "duration": 0.014386,
     "end_time": "2023-12-16T17:23:03.601999",
     "exception": false,
     "start_time": "2023-12-16T17:23:03.587613",
     "status": "completed"
    },
    "tags": []
   },
   "source": [
    "# Model"
   ]
  },
  {
   "cell_type": "markdown",
   "id": "bed4ff79",
   "metadata": {
    "_cell_guid": "62b34d34-3440-4ced-b9df-4a683646a19f",
    "_uuid": "b3ab4b39-897e-4946-80b2-6539301c0163",
    "papermill": {
     "duration": 0.014418,
     "end_time": "2023-12-16T17:23:03.631504",
     "exception": false,
     "start_time": "2023-12-16T17:23:03.617086",
     "status": "completed"
    },
    "tags": []
   },
   "source": [
    "**MAnet model**"
   ]
  },
  {
   "cell_type": "code",
   "execution_count": 12,
   "id": "583300f8",
   "metadata": {
    "_cell_guid": "bbed5278-8c8b-47ef-80c3-57591465e636",
    "_uuid": "144adaab-8653-4fb9-ba15-d74182707ef4",
    "collapsed": false,
    "execution": {
     "iopub.execute_input": "2023-12-16T17:23:03.663202Z",
     "iopub.status.busy": "2023-12-16T17:23:03.662852Z",
     "iopub.status.idle": "2023-12-16T17:23:04.070837Z",
     "shell.execute_reply": "2023-12-16T17:23:04.070048Z"
    },
    "jupyter": {
     "outputs_hidden": false
    },
    "papermill": {
     "duration": 0.42696,
     "end_time": "2023-12-16T17:23:04.073310",
     "exception": false,
     "start_time": "2023-12-16T17:23:03.646350",
     "status": "completed"
    },
    "tags": []
   },
   "outputs": [],
   "source": [
    "import torch.nn.functional as F\n",
    "from torch.nn import Module, Conv2d, Parameter, Softmax\n",
    "from torchvision.models import resnet\n",
    "import torch\n",
    "from torchvision import models\n",
    "from torch import nn\n",
    "import timm\n",
    "\n",
    "from functools import partial\n",
    "\n",
    "\n",
    "nonlinearity = partial(F.relu, inplace=True)\n",
    "\n",
    "\n",
    "def softplus_feature_map(x):\n",
    "    return torch.nn.functional.softplus(x)\n",
    "\n",
    "\n",
    "def conv3otherRelu(in_planes, out_planes, kernel_size=None, stride=None, padding=None):\n",
    "    # 3x3 convolution with padding and relu\n",
    "    if kernel_size is None:\n",
    "        kernel_size = 3\n",
    "    assert isinstance(kernel_size, (int, tuple)), 'kernel_size is not in (int, tuple)!'\n",
    "\n",
    "    if stride is None:\n",
    "        stride = 1\n",
    "    assert isinstance(stride, (int, tuple)), 'stride is not in (int, tuple)!'\n",
    "\n",
    "    if padding is None:\n",
    "        padding = 1\n",
    "    assert isinstance(padding, (int, tuple)), 'padding is not in (int, tuple)!'\n",
    "\n",
    "    return nn.Sequential(\n",
    "        nn.Conv2d(in_planes, out_planes, kernel_size=kernel_size, stride=stride, padding=padding, bias=True),\n",
    "        nn.ReLU(inplace=True)  # inplace=True\n",
    "    )\n",
    "\n",
    "\n",
    "class PAM_Module(Module):\n",
    "    def __init__(self, in_places, scale=8, eps=1e-6):\n",
    "        super(PAM_Module, self).__init__()\n",
    "        self.gamma = Parameter(torch.zeros(1))\n",
    "        self.in_places = in_places\n",
    "        self.softplus_feature = softplus_feature_map\n",
    "        self.eps = eps\n",
    "\n",
    "        self.query_conv = Conv2d(in_channels=in_places, out_channels=in_places // scale, kernel_size=1)\n",
    "        self.key_conv = Conv2d(in_channels=in_places, out_channels=in_places // scale, kernel_size=1)\n",
    "        self.value_conv = Conv2d(in_channels=in_places, out_channels=in_places, kernel_size=1)\n",
    "\n",
    "    def forward(self, x):\n",
    "        # Apply the feature map to the queries and keys\n",
    "        batch_size, chnnels, height, width = x.shape\n",
    "        Q = self.query_conv(x).view(batch_size, -1, width * height)\n",
    "        K = self.key_conv(x).view(batch_size, -1, width * height)\n",
    "        V = self.value_conv(x).view(batch_size, -1, width * height)\n",
    "\n",
    "        Q = self.softplus_feature(Q).permute(-3, -1, -2)\n",
    "        K = self.softplus_feature(K)\n",
    "\n",
    "        KV = torch.einsum(\"bmn, bcn->bmc\", K, V)\n",
    "\n",
    "        norm = 1 / torch.einsum(\"bnc, bc->bn\", Q, torch.sum(K, dim=-1) + self.eps)\n",
    "\n",
    "        # weight_value = torch.einsum(\"bnm, bmc, bn->bcn\", Q, KV, norm)\n",
    "        weight_value = torch.einsum(\"bnm, bmc, bn->bcn\", Q, KV, norm)\n",
    "        weight_value = weight_value.view(batch_size, chnnels, height, width)\n",
    "\n",
    "        return (x + self.gamma * weight_value).contiguous()\n",
    "\n",
    "\n",
    "class CAM_Module(Module):\n",
    "    def __init__(self):\n",
    "        super(CAM_Module, self).__init__()\n",
    "        self.gamma = Parameter(torch.zeros(1))\n",
    "        self.softmax = Softmax(dim=-1)\n",
    "\n",
    "    def forward(self, x):\n",
    "        batch_size, chnnels, height, width = x.shape\n",
    "        proj_query = x.view(batch_size, chnnels, -1)\n",
    "        proj_key = x.view(batch_size, chnnels, -1).permute(0, 2, 1)\n",
    "        energy = torch.bmm(proj_query, proj_key)\n",
    "        energy_new = torch.max(energy, -1, keepdim=True)[0].expand_as(energy) - energy\n",
    "        attention = self.softmax(energy_new)\n",
    "        proj_value = x.view(batch_size, chnnels, -1)\n",
    "\n",
    "        out = torch.bmm(attention, proj_value)\n",
    "        out = out.view(batch_size, chnnels, height, width)\n",
    "\n",
    "        out = self.gamma * out + x\n",
    "        return out\n",
    "\n",
    "\n",
    "class PAM_CAM_Layer(nn.Module):\n",
    "    def __init__(self, in_ch):\n",
    "        super(PAM_CAM_Layer, self).__init__()\n",
    "        self.PAM = PAM_Module(in_ch)\n",
    "        self.CAM = CAM_Module()\n",
    "\n",
    "    def forward(self, x):\n",
    "        return self.PAM(x) + self.CAM(x)\n",
    "\n",
    "\n",
    "class DecoderBlock(nn.Module):\n",
    "    def __init__(self, in_channels, n_filters):\n",
    "        super(DecoderBlock, self).__init__()\n",
    "\n",
    "        self.conv1 = nn.Conv2d(in_channels, in_channels // 4, 1)\n",
    "        self.norm1 = nn.BatchNorm2d(in_channels // 4)\n",
    "        self.relu1 = nonlinearity\n",
    "\n",
    "        self.deconv2 = nn.ConvTranspose2d(in_channels // 4, in_channels // 4, 3, stride=2, padding=1, output_padding=1)\n",
    "        self.norm2 = nn.BatchNorm2d(in_channels // 4)\n",
    "        self.relu2 = nonlinearity\n",
    "\n",
    "        self.conv3 = nn.Conv2d(in_channels // 4, n_filters, 1)\n",
    "        self.norm3 = nn.BatchNorm2d(n_filters)\n",
    "        self.relu3 = nonlinearity\n",
    "\n",
    "    def forward(self, x):\n",
    "        x = self.conv1(x)\n",
    "        x = self.norm1(x)\n",
    "        x = self.relu1(x)\n",
    "        x = self.deconv2(x)\n",
    "        x = self.norm2(x)\n",
    "        x = self.relu2(x)\n",
    "        x = self.conv3(x)\n",
    "        x = self.norm3(x)\n",
    "        x = self.relu3(x)\n",
    "        return x\n",
    "\n",
    "\n",
    "class MANet(nn.Module):\n",
    "    def __init__(self, num_channels=3, num_classes=6, backbone_name='resnet50', pretrained=True):\n",
    "        super(MANet, self).__init__()\n",
    "        self.name = 'MANet'\n",
    "\n",
    "        self.backbone = timm.create_model(backbone_name, features_only=True, output_stride=32,\n",
    "                                          out_indices=(1, 2, 3, 4), pretrained=pretrained)\n",
    "        filters = self.backbone.feature_info.channels()\n",
    "        \n",
    "        self.attention4 = PAM_CAM_Layer(filters[3])\n",
    "        self.attention3 = PAM_CAM_Layer(filters[2])\n",
    "        self.attention2 = PAM_CAM_Layer(filters[1])\n",
    "        self.attention1 = PAM_CAM_Layer(filters[0])\n",
    "\n",
    "        self.decoder4 = DecoderBlock(filters[3], filters[2])\n",
    "        self.decoder3 = DecoderBlock(filters[2], filters[1])\n",
    "        self.decoder2 = DecoderBlock(filters[1], filters[0])\n",
    "        self.decoder1 = DecoderBlock(filters[0], filters[0])\n",
    "\n",
    "        self.finaldeconv1 = nn.ConvTranspose2d(filters[0], 32, 4, 2, 1)\n",
    "        self.finalrelu1 = nonlinearity\n",
    "        self.finalconv2 = nn.Conv2d(32, 32, 3, padding=1)\n",
    "        self.finalrelu2 = nonlinearity\n",
    "        self.finalconv3 = nn.Conv2d(32, num_classes, 3, padding=1)\n",
    "                \n",
    "\n",
    "    def forward(self, x):\n",
    "        # Encoder\n",
    "        e1, e2, e3, e4 = self.backbone(x)\n",
    "\n",
    "        e4 = self.attention4(e4)\n",
    "\n",
    "        # Decoder\n",
    "        d4 = self.decoder4(e4) + self.attention3(e3)\n",
    "        d3 = self.decoder3(d4) + self.attention2(e2)\n",
    "        d2 = self.decoder2(d3) + self.attention1(e1)\n",
    "        d1 = self.decoder1(d2)\n",
    "\n",
    "        out = self.finaldeconv1(d1)\n",
    "        out = self.finalrelu1(out)\n",
    "        out = self.finalconv2(out)\n",
    "        out = self.finalrelu2(out)\n",
    "        out = self.finalconv3(out)\n",
    "\n",
    "        return out"
   ]
  },
  {
   "cell_type": "code",
   "execution_count": 13,
   "id": "932aab6b",
   "metadata": {
    "_cell_guid": "c79954b0-1b5c-4821-90b4-a2038cf698c3",
    "_uuid": "55e19d8c-adec-4310-9bd9-4dc09037d593",
    "collapsed": false,
    "execution": {
     "iopub.execute_input": "2023-12-16T17:23:04.107184Z",
     "iopub.status.busy": "2023-12-16T17:23:04.106869Z",
     "iopub.status.idle": "2023-12-16T17:23:04.111044Z",
     "shell.execute_reply": "2023-12-16T17:23:04.110160Z"
    },
    "jupyter": {
     "outputs_hidden": false
    },
    "papermill": {
     "duration": 0.022905,
     "end_time": "2023-12-16T17:23:04.112941",
     "exception": false,
     "start_time": "2023-12-16T17:23:04.090036",
     "status": "completed"
    },
    "tags": []
   },
   "outputs": [],
   "source": [
    "# import torch\n",
    "\n",
    "# # Instantiate your UNet model\n",
    "# model = UNet(n_class=6)\n",
    "\n",
    "\n",
    "# # Print the shape of the outputmodel = UNet(n_class=6)\n",
    "\n",
    "# # Create a dummy batch with random images\n",
    "# dummy_batch_size = 4  # Choose your batch size\n",
    "# dummy_input_batch = torch.randn(dummy_batch_size, 3, 256, 256)  # Batch size, 3 channels, 256x256\n",
    "\n",
    "# # Forward pass\n",
    "# output_batch = model(dummy_input_batch)\n",
    "\n",
    "# # Print the shape of the output batch\n",
    "# print(\"Output batch shape:\", output_batch.shape)"
   ]
  },
  {
   "cell_type": "markdown",
   "id": "8fcd5619",
   "metadata": {
    "_cell_guid": "e6d6b145-e9f8-4b59-83a2-e1badba7c97e",
    "_uuid": "fa7b17f0-ba39-4c56-8b1a-3ef57a2bcf9a",
    "papermill": {
     "duration": 0.015079,
     "end_time": "2023-12-16T17:23:04.142855",
     "exception": false,
     "start_time": "2023-12-16T17:23:04.127776",
     "status": "completed"
    },
    "tags": []
   },
   "source": [
    "# Loss function"
   ]
  },
  {
   "cell_type": "code",
   "execution_count": 14,
   "id": "69914df0",
   "metadata": {
    "_cell_guid": "646e7b7a-ea7a-4256-9994-c472c1f8e23e",
    "_uuid": "db4bea9a-2124-40e8-804a-2774119103fd",
    "collapsed": false,
    "execution": {
     "iopub.execute_input": "2023-12-16T17:23:04.173773Z",
     "iopub.status.busy": "2023-12-16T17:23:04.173495Z",
     "iopub.status.idle": "2023-12-16T17:23:04.184056Z",
     "shell.execute_reply": "2023-12-16T17:23:04.183325Z"
    },
    "jupyter": {
     "outputs_hidden": false
    },
    "papermill": {
     "duration": 0.028161,
     "end_time": "2023-12-16T17:23:04.185931",
     "exception": false,
     "start_time": "2023-12-16T17:23:04.157770",
     "status": "completed"
    },
    "tags": []
   },
   "outputs": [],
   "source": [
    "def label_smoothed_nll_loss(\n",
    "    lprobs: torch.Tensor, target: torch.Tensor, epsilon: float, ignore_index=None, reduction=\"mean\", dim=-1\n",
    ") -> torch.Tensor:\n",
    "    \"\"\"\n",
    "\n",
    "    Source: https://github.com/pytorch/fairseq/blob/master/fairseq/criterions/label_smoothed_cross_entropy.py\n",
    "\n",
    "    :param lprobs: Log-probabilities of predictions (e.g after log_softmax)\n",
    "    :param target:\n",
    "    :param epsilon:\n",
    "    :param ignore_index:\n",
    "    :param reduction:\n",
    "    :return:\n",
    "    \"\"\"\n",
    "    if target.dim() == lprobs.dim() - 1:\n",
    "        target = target.unsqueeze(dim)\n",
    "\n",
    "    if ignore_index is not None:\n",
    "        pad_mask = target.eq(ignore_index)\n",
    "        target = target.masked_fill(pad_mask, 0)\n",
    "        nll_loss = -lprobs.gather(dim=dim, index=target)\n",
    "        smooth_loss = -lprobs.sum(dim=dim, keepdim=True)\n",
    "\n",
    "        # nll_loss.masked_fill_(pad_mask, 0.0)\n",
    "        # smooth_loss.masked_fill_(pad_mask, 0.0)\n",
    "        nll_loss = nll_loss.masked_fill(pad_mask, 0.0)\n",
    "        smooth_loss = smooth_loss.masked_fill(pad_mask, 0.0)\n",
    "    else:\n",
    "        nll_loss = -lprobs.gather(dim=dim, index=target)\n",
    "        smooth_loss = -lprobs.sum(dim=dim, keepdim=True)\n",
    "\n",
    "        nll_loss = nll_loss.squeeze(dim)\n",
    "        smooth_loss = smooth_loss.squeeze(dim)\n",
    "\n",
    "    if reduction == \"sum\":\n",
    "        nll_loss = nll_loss.sum()\n",
    "        smooth_loss = smooth_loss.sum()\n",
    "    if reduction == \"mean\":\n",
    "        nll_loss = nll_loss.mean()\n",
    "        smooth_loss = smooth_loss.mean()\n",
    "\n",
    "    eps_i = epsilon / lprobs.size(dim)\n",
    "    loss = (1.0 - epsilon) * nll_loss + eps_i * smooth_loss\n",
    "    return loss"
   ]
  },
  {
   "cell_type": "code",
   "execution_count": 15,
   "id": "2b855aab",
   "metadata": {
    "_cell_guid": "01d802f5-554d-4a7d-8e2e-1c95690e803e",
    "_uuid": "168795f6-c47c-42af-8fc5-4cfc6a771d39",
    "collapsed": false,
    "execution": {
     "iopub.execute_input": "2023-12-16T17:23:04.217029Z",
     "iopub.status.busy": "2023-12-16T17:23:04.216758Z",
     "iopub.status.idle": "2023-12-16T17:23:04.245767Z",
     "shell.execute_reply": "2023-12-16T17:23:04.245026Z"
    },
    "jupyter": {
     "outputs_hidden": false
    },
    "papermill": {
     "duration": 0.046909,
     "end_time": "2023-12-16T17:23:04.247677",
     "exception": false,
     "start_time": "2023-12-16T17:23:04.200768",
     "status": "completed"
    },
    "tags": []
   },
   "outputs": [],
   "source": [
    "__all__ = [\"SoftCrossEntropyLoss\"]\n",
    "from typing import Optional\n",
    "from torch.nn.modules.loss import _Loss\n",
    "from typing import List\n",
    "class SoftCrossEntropyLoss(nn.Module):\n",
    "    \"\"\"\n",
    "    Drop-in replacement for nn.CrossEntropyLoss with few additions:\n",
    "    - Support of label smoothing\n",
    "    \"\"\"\n",
    "\n",
    "    __constants__ = [\"reduction\", \"ignore_index\", \"smooth_factor\"]\n",
    "\n",
    "    def __init__(self, reduction: str = \"mean\", smooth_factor: float = 0.0, ignore_index: Optional[int] = -100, dim=1):\n",
    "        super().__init__()\n",
    "        self.smooth_factor = smooth_factor\n",
    "        self.ignore_index = ignore_index\n",
    "        self.reduction = reduction\n",
    "        self.dim = dim\n",
    "\n",
    "    def forward(self, input: Tensor, target: Tensor) -> Tensor:\n",
    "        log_prob = F.log_softmax(input, dim=self.dim)\n",
    "        pad_mask = target.eq(self.ignore_index)\n",
    "        target = target.masked_fill(pad_mask, 0)\n",
    "        log_prob = log_prob.masked_fill(pad_mask.unsqueeze(1), 0)\n",
    "        return label_smoothed_nll_loss(\n",
    "            log_prob,\n",
    "            target,\n",
    "            epsilon=self.smooth_factor,\n",
    "            ignore_index=self.ignore_index,\n",
    "            reduction=self.reduction,\n",
    "            dim=self.dim,\n",
    "        )\n",
    "__all__ = [\"JointLoss\", \"WeightedLoss\"]\n",
    "\n",
    "\n",
    "class WeightedLoss(_Loss):\n",
    "    \"\"\"Wrapper class around loss function that applies weighted with fixed factor.\n",
    "    This class helps to balance multiple losses if they have different scales\n",
    "    \"\"\"\n",
    "\n",
    "    def __init__(self, loss, weight=1.0):\n",
    "        super().__init__()\n",
    "        self.loss = loss\n",
    "        self.weight = weight\n",
    "\n",
    "    def forward(self, *input):\n",
    "        return self.loss(*input) * self.weight\n",
    "class JointLoss(_Loss):\n",
    "    \"\"\"\n",
    "    Wrap two loss functions into one. This class computes a weighted sum of two losses.\n",
    "    \"\"\"\n",
    "\n",
    "    def __init__(self, first: nn.Module, second: nn.Module, first_weight=1.0, second_weight=1.0):\n",
    "        super().__init__()\n",
    "        self.first = WeightedLoss(first, first_weight)\n",
    "        self.second = WeightedLoss(second, second_weight)\n",
    "\n",
    "    def forward(self, *input):\n",
    "        return self.first(*input) + self.second(*input)\n",
    "__all__ = [\"DiceLoss\"]\n",
    "\n",
    "BINARY_MODE = \"binary\"\n",
    "MULTICLASS_MODE = \"multiclass\"\n",
    "MULTILABEL_MODE = \"multilabel\"\n",
    "def soft_dice_score(\n",
    "    output: torch.Tensor, target: torch.Tensor, smooth: float = 0.0, eps: float = 1e-7, dims=None\n",
    ") -> torch.Tensor:\n",
    "    \"\"\"\n",
    "\n",
    "    :param output:\n",
    "    :param target:\n",
    "    :param smooth:\n",
    "    :param eps:\n",
    "    :return:\n",
    "\n",
    "    Shape:\n",
    "        - Input: :math:`(N, NC, *)` where :math:`*` means any number\n",
    "            of additional dimensions\n",
    "        - Target: :math:`(N, NC, *)`, same shape as the input\n",
    "        - Output: scalar.\n",
    "\n",
    "    \"\"\"\n",
    "    assert output.size() == target.size()\n",
    "    if dims is not None:\n",
    "        intersection = torch.sum(output * target, dim=dims)\n",
    "        cardinality = torch.sum(output + target, dim=dims)\n",
    "    else:\n",
    "        intersection = torch.sum(output * target)\n",
    "        cardinality = torch.sum(output + target)\n",
    "    dice_score = (2.0 * intersection + smooth) / (cardinality + smooth).clamp_min(eps)\n",
    "    return dice_score\n",
    "class DiceLoss(_Loss):\n",
    "    \"\"\"\n",
    "    Implementation of Dice loss for image segmentation task.\n",
    "    It supports binary, multiclass and multilabel cases\n",
    "    \"\"\"\n",
    "\n",
    "    def __init__(\n",
    "        self,\n",
    "        mode: str = 'multiclass',\n",
    "        classes: List[int] = None,\n",
    "        log_loss=False,\n",
    "        from_logits=True,\n",
    "        smooth: float = 0.0,\n",
    "        ignore_index=None,\n",
    "        eps=1e-7,\n",
    "    ):\n",
    "        \"\"\"\n",
    "\n",
    "        :param mode: Metric mode {'binary', 'multiclass', 'multilabel'}\n",
    "        :param classes: Optional list of classes that contribute in loss computation;\n",
    "        By default, all channels are included.\n",
    "        :param log_loss: If True, loss computed as `-log(jaccard)`; otherwise `1 - jaccard`\n",
    "        :param from_logits: If True assumes input is raw logits\n",
    "        :param smooth:\n",
    "        :param ignore_index: Label that indicates ignored pixels (does not contribute to loss)\n",
    "        :param eps: Small epsilon for numerical stability\n",
    "        \"\"\"\n",
    "        assert mode in {BINARY_MODE, MULTILABEL_MODE, MULTICLASS_MODE}\n",
    "        super(DiceLoss, self).__init__()\n",
    "        self.mode = mode\n",
    "        if classes is not None:\n",
    "            assert mode != BINARY_MODE, \"Masking classes is not supported with mode=binary\"\n",
    "            classes = to_tensor(classes, dtype=torch.long)\n",
    "\n",
    "        self.classes = classes\n",
    "        self.from_logits = from_logits\n",
    "        self.smooth = smooth\n",
    "        self.eps = eps\n",
    "        self.ignore_index = ignore_index\n",
    "        self.log_loss = log_loss\n",
    "\n",
    "    def forward(self, y_pred: Tensor, y_true: Tensor) -> Tensor:\n",
    "        \"\"\"\n",
    "\n",
    "        :param y_pred: NxCxHxW\n",
    "        :param y_true: NxHxW\n",
    "        :return: scalar\n",
    "        \"\"\"\n",
    "        assert y_true.size(0) == y_pred.size(0)\n",
    "\n",
    "        if self.from_logits:\n",
    "            # Apply activations to get [0..1] class probabilities\n",
    "            # Using Log-Exp as this gives more numerically stable result and does not cause vanishing gradient on\n",
    "            # extreme values 0 and 1\n",
    "            if self.mode == MULTICLASS_MODE:\n",
    "                y_pred = y_pred.log_softmax(dim=1).exp()\n",
    "            else:\n",
    "                y_pred = F.logsigmoid(y_pred).exp()\n",
    "\n",
    "        bs = y_true.size(0)\n",
    "        num_classes = y_pred.size(1)\n",
    "        dims = (0, 2)\n",
    "\n",
    "        if self.mode == BINARY_MODE:\n",
    "            y_true = y_true.view(bs, 1, -1)\n",
    "            y_pred = y_pred.view(bs, 1, -1)\n",
    "\n",
    "            if self.ignore_index is not None:\n",
    "                mask = y_true != self.ignore_index\n",
    "                y_pred = y_pred * mask\n",
    "                y_true = y_true * mask\n",
    "\n",
    "        if self.mode == MULTICLASS_MODE:\n",
    "            y_true = y_true.view(bs, -1)\n",
    "            y_pred = y_pred.view(bs, num_classes, -1)\n",
    "\n",
    "            if self.ignore_index is not None:\n",
    "                mask = y_true != self.ignore_index\n",
    "                y_pred = y_pred * mask.unsqueeze(1)\n",
    "\n",
    "                y_true = F.one_hot((y_true * mask).to(torch.long), num_classes)  # N,H*W -> N,H*W, C\n",
    "                y_true = y_true.permute(0, 2, 1) * mask.unsqueeze(1)  # H, C, H*W\n",
    "            else:\n",
    "                y_true = F.one_hot(y_true, num_classes)  # N,H*W -> N,H*W, C\n",
    "                y_true = y_true.permute(0, 2, 1)  # H, C, H*W\n",
    "\n",
    "        if self.mode == MULTILABEL_MODE:\n",
    "            y_true = y_true.view(bs, num_classes, -1)\n",
    "            y_pred = y_pred.view(bs, num_classes, -1)\n",
    "\n",
    "            if self.ignore_index is not None:\n",
    "                mask = y_true != self.ignore_index\n",
    "                y_pred = y_pred * mask\n",
    "                y_true = y_true * mask\n",
    "\n",
    "        scores = soft_dice_score(y_pred, y_true.type_as(y_pred), smooth=self.smooth, eps=self.eps, dims=dims)\n",
    "\n",
    "        if self.log_loss:\n",
    "            loss = -torch.log(scores.clamp_min(self.eps))\n",
    "        else:\n",
    "            loss = 1.0 - scores\n",
    "\n",
    "        # Dice loss is undefined for non-empty classes\n",
    "        # So we zero contribution of channel that does not have true pixels\n",
    "        # NOTE: A better workaround would be to use loss term `mean(y_pred)`\n",
    "        # for this case, however it will be a modified jaccard loss\n",
    "\n",
    "        mask = y_true.sum(dims) > 0\n",
    "        loss *= mask.to(loss.dtype)\n",
    "\n",
    "        if self.classes is not None:\n",
    "            loss = loss[self.classes]\n",
    "\n",
    "        return loss.mean()"
   ]
  },
  {
   "cell_type": "code",
   "execution_count": 16,
   "id": "9153de58",
   "metadata": {
    "_cell_guid": "5bd84605-927d-4fdb-bcdb-f3ffc5b5d647",
    "_uuid": "0e423d3e-2603-4be7-bc0a-4f9d393bef97",
    "collapsed": false,
    "execution": {
     "iopub.execute_input": "2023-12-16T17:23:04.279295Z",
     "iopub.status.busy": "2023-12-16T17:23:04.279014Z",
     "iopub.status.idle": "2023-12-16T17:23:04.285699Z",
     "shell.execute_reply": "2023-12-16T17:23:04.284834Z"
    },
    "jupyter": {
     "outputs_hidden": false
    },
    "papermill": {
     "duration": 0.024674,
     "end_time": "2023-12-16T17:23:04.287608",
     "exception": false,
     "start_time": "2023-12-16T17:23:04.262934",
     "status": "completed"
    },
    "tags": []
   },
   "outputs": [],
   "source": [
    "\n",
    "class MAnetLoss(nn.Module):\n",
    "    def __init__(self, ignore_index=255):\n",
    "        super().__init__()\n",
    "        self.main_loss = JointLoss(SoftCrossEntropyLoss(smooth_factor=0.05, ignore_index=ignore_index),\n",
    "                                   DiceLoss(smooth=0.05, ignore_index=ignore_index), 1.0, 1.0)\n",
    "        self.aux_loss = SoftCrossEntropyLoss(smooth_factor=0.05, ignore_index=ignore_index)\n",
    "\n",
    "    def forward(self, logits, labels):\n",
    "        if self.training and len(logits) == 2:\n",
    "            logit_main, logit_aux = logits\n",
    "            loss = self.main_loss(logit_main, labels) + 0.4 * self.aux_loss(logit_aux, labels)\n",
    "        else:\n",
    "            loss = self.main_loss(logits, labels)\n",
    "\n",
    "        return loss"
   ]
  },
  {
   "cell_type": "markdown",
   "id": "03998ee5",
   "metadata": {
    "_cell_guid": "564ba6f3-1abf-4244-96e3-d502e3956486",
    "_uuid": "339b0807-b4b4-41f2-ac9f-db84fb185af3",
    "papermill": {
     "duration": 0.015668,
     "end_time": "2023-12-16T17:23:04.318597",
     "exception": false,
     "start_time": "2023-12-16T17:23:04.302929",
     "status": "completed"
    },
    "tags": []
   },
   "source": [
    "# Training"
   ]
  },
  {
   "cell_type": "markdown",
   "id": "53e1e760",
   "metadata": {
    "_cell_guid": "0ae6cde8-c53c-4ed6-a030-dc67305eda09",
    "_uuid": "329a0285-1135-4cf4-b3a6-fbd1cbd617d0",
    "papermill": {
     "duration": 0.014338,
     "end_time": "2023-12-16T17:23:04.347730",
     "exception": false,
     "start_time": "2023-12-16T17:23:04.333392",
     "status": "completed"
    },
    "tags": []
   },
   "source": [
    "**Initialize weights**"
   ]
  },
  {
   "cell_type": "code",
   "execution_count": 17,
   "id": "03df1402",
   "metadata": {
    "_cell_guid": "6889b1b6-0a87-4901-b7c7-d3c183e554a5",
    "_uuid": "a6e5f51f-9f1f-4e5f-b119-c3d317cd1858",
    "collapsed": false,
    "execution": {
     "iopub.execute_input": "2023-12-16T17:23:04.378514Z",
     "iopub.status.busy": "2023-12-16T17:23:04.378198Z",
     "iopub.status.idle": "2023-12-16T17:23:04.382522Z",
     "shell.execute_reply": "2023-12-16T17:23:04.381777Z"
    },
    "jupyter": {
     "outputs_hidden": false
    },
    "papermill": {
     "duration": 0.021779,
     "end_time": "2023-12-16T17:23:04.384589",
     "exception": false,
     "start_time": "2023-12-16T17:23:04.362810",
     "status": "completed"
    },
    "tags": []
   },
   "outputs": [],
   "source": [
    "def weights_init(model):\n",
    "    if isinstance(model, nn.Linear):\n",
    "        # Xavier Distribution\n",
    "        torch.nn.init.xavier_uniform_(model.weight)"
   ]
  },
  {
   "cell_type": "code",
   "execution_count": 18,
   "id": "4ee28b53",
   "metadata": {
    "_cell_guid": "b90540ca-97e7-42aa-8eab-befa0d642e0d",
    "_uuid": "21b544b1-26b3-4fa5-9425-f85ce0cf60d4",
    "collapsed": false,
    "execution": {
     "iopub.execute_input": "2023-12-16T17:23:04.416758Z",
     "iopub.status.busy": "2023-12-16T17:23:04.416476Z",
     "iopub.status.idle": "2023-12-16T17:23:04.421809Z",
     "shell.execute_reply": "2023-12-16T17:23:04.420945Z"
    },
    "jupyter": {
     "outputs_hidden": false
    },
    "papermill": {
     "duration": 0.02482,
     "end_time": "2023-12-16T17:23:04.423971",
     "exception": false,
     "start_time": "2023-12-16T17:23:04.399151",
     "status": "completed"
    },
    "tags": []
   },
   "outputs": [],
   "source": [
    "def save_model(model, optimizer, path):\n",
    "    checkpoint = {\n",
    "        \"model\": model.state_dict(),\n",
    "        \"optimizer\": optimizer.state_dict(),\n",
    "    }\n",
    "    torch.save(checkpoint, path)\n",
    "\n",
    "def load_model(model, optimizer, path):\n",
    "    checkpoint = torch.load(path)\n",
    "    model.load_state_dict(checkpoint[\"model\"])\n",
    "    optimizer.load_state_dict(checkpoint['optimizer'])\n",
    "    return model, optimizer"
   ]
  },
  {
   "cell_type": "code",
   "execution_count": null,
   "id": "856caca0",
   "metadata": {
    "_cell_guid": "f0865dc6-1a73-4348-a8d4-194cce54458b",
    "_uuid": "62302d0d-9d28-4844-8d0a-75a6f2d90eee",
    "collapsed": false,
    "jupyter": {
     "outputs_hidden": false
    },
    "papermill": {
     "duration": 0.015118,
     "end_time": "2023-12-16T17:23:04.454114",
     "exception": false,
     "start_time": "2023-12-16T17:23:04.438996",
     "status": "completed"
    },
    "tags": []
   },
   "outputs": [],
   "source": []
  },
  {
   "cell_type": "markdown",
   "id": "6ebf9773",
   "metadata": {
    "_cell_guid": "c7b4fd64-10b4-4793-841a-9bac359b17fa",
    "_uuid": "38eb5dfa-dc7b-41c5-9465-d8ddbad05fd3",
    "papermill": {
     "duration": 0.01502,
     "end_time": "2023-12-16T17:23:04.484389",
     "exception": false,
     "start_time": "2023-12-16T17:23:04.469369",
     "status": "completed"
    },
    "tags": []
   },
   "source": [
    "**Train model**"
   ]
  },
  {
   "cell_type": "code",
   "execution_count": 19,
   "id": "db85f7df",
   "metadata": {
    "_cell_guid": "fd8f9ae3-da09-4bda-8d97-6f6a25538ad4",
    "_uuid": "b7562130-1f6f-494c-8bbf-34e9e9b7783a",
    "collapsed": false,
    "execution": {
     "iopub.execute_input": "2023-12-16T17:23:04.516885Z",
     "iopub.status.busy": "2023-12-16T17:23:04.516598Z",
     "iopub.status.idle": "2023-12-16T17:23:04.533692Z",
     "shell.execute_reply": "2023-12-16T17:23:04.532978Z"
    },
    "jupyter": {
     "outputs_hidden": false
    },
    "papermill": {
     "duration": 0.034986,
     "end_time": "2023-12-16T17:23:04.535568",
     "exception": false,
     "start_time": "2023-12-16T17:23:04.500582",
     "status": "completed"
    },
    "tags": []
   },
   "outputs": [],
   "source": [
    "def train(train_dataloader, valid_dataloader, learing_rate_scheduler, epoch, display_step):\n",
    "    print(f\"Start epoch #{epoch+1}, learning rate for this epoch: {learing_rate_scheduler.get_last_lr()}\")\n",
    "    start_time = time.time()\n",
    "    train_loss_epoch = 0\n",
    "    test_loss_epoch = 0\n",
    "    last_loss = 999999999\n",
    "    model.train()\n",
    "    metrics_train = Evaluator(num_class=6)\n",
    "    metrics_val = Evaluator(num_class=6)\n",
    "\n",
    "    for i,input in enumerate(tqdm(train_dataloader)):\n",
    "        # Load data into GPU\n",
    "        data=input['img']\n",
    "        masks_true = input['gt_semantic_seg']\n",
    "        data,mask = data.to(device),masks_true.to(device)\n",
    "        optimizer.zero_grad()\n",
    "        prediction = model(data)\n",
    "        # Backpropagation, compute gradients\n",
    "        loss = loss_function(prediction, mask.long())\n",
    "        pre_mask = nn.Softmax(dim=1)(prediction)\n",
    "        pre_mask = pre_mask.argmax(dim=1)\n",
    "        for i in range(mask.shape[0]):\n",
    "            metrics_train.add_batch(mask[i].cpu().numpy(), pre_mask[i].cpu().numpy())\n",
    "        loss.backward()\n",
    "\n",
    "        # Apply gradients\n",
    "        optimizer.step()\n",
    "\n",
    "        # Save loss\n",
    "        train_loss_epoch += loss.item()\n",
    "    print(f\"Done epoch #{epoch+1}, time for this epoch: {time.time()-start_time}s\")\n",
    "    train_loss_epoch /= (i + 1)\n",
    "    mIoU = np.nanmean(metrics_train.Intersection_over_Union()[:-1])\n",
    "    F1 = np.nanmean(metrics_train.F1()[:-1])\n",
    "    OA = np.nanmean(metrics_train.OA())\n",
    "    iou_per_class = metrics_train.Intersection_over_Union()\n",
    "    train_eval_value =  (iou_per_class,mIoU,F1,OA)\n",
    "    metrics_train.reset()\n",
    "    # Evaluate the validation set\n",
    "    model.eval()\n",
    "    with torch.no_grad():\n",
    "        for k,input in enumerate(tqdm(valid_dataloader)):\n",
    "            data=input['img'].to(device)\n",
    "            mask = input['gt_semantic_seg'].to(device)\n",
    "            prediction = model(data)\n",
    "            test_loss = loss_function(prediction, mask.long())\n",
    "            pre_mask = nn.Softmax(dim=1)(prediction)\n",
    "            pre_mask = pre_mask.argmax(dim=1)\n",
    "            test_loss_epoch += test_loss.item()\n",
    "            if k<=3:\n",
    "            # Convert predictions to 2D array\n",
    "                predictions_2d = pre_mask[0].cpu().numpy()  # Assuming you want the first prediction\n",
    "\n",
    "            # Convert ground truth masks to 2D array\n",
    "                masks_true_2d = mask[0].cpu().numpy()  # Assuming you want the first ground truth mask\n",
    "\n",
    "            # Convert to np.int8 if needed\n",
    "                predictions_2d = predictions_2d.astype(np.int8)\n",
    "                masks_true_2d = masks_true_2d.astype(np.int8)\n",
    "                wandb.log(\n",
    "      {f\"val_image{k}\" : wandb.Image(data[0], masks={\n",
    "        \"predictions\" : {\n",
    "            \"mask_data\" : predictions_2d,\n",
    "            \"class_labels\" : class_label\n",
    "        },\n",
    "        \"ground_truth\" : {\n",
    "            \"mask_data\" : masks_true_2d,\n",
    "            \"class_labels\" : class_label\n",
    "        }\n",
    "    })})\n",
    "            for i in range(mask.shape[0]):\n",
    "                metrics_val.add_batch(mask[i].cpu().numpy(), pre_mask[i].cpu().numpy())\n",
    "    test_loss_epoch /= (i + 1)\n",
    "    mIoU = np.nanmean(metrics_val.Intersection_over_Union()[:-1])\n",
    "    F1 = np.nanmean(metrics_val.F1()[:-1])\n",
    "    OA = np.nanmean(metrics_val.OA())\n",
    "    iou_per_class_val = metrics_val.Intersection_over_Union()\n",
    "    eval_value =  (iou_per_class_val,mIoU,F1,OA)\n",
    "    print(eval_value)\n",
    "    metrics_val.reset()\n",
    "    return train_loss_epoch, train_eval_value, test_loss_epoch, eval_value"
   ]
  },
  {
   "cell_type": "markdown",
   "id": "880d389e",
   "metadata": {
    "_cell_guid": "88c9cafe-3861-423c-bf70-c600759ed8ad",
    "_uuid": "eadccdbd-2173-4363-b32b-6606df3b154e",
    "papermill": {
     "duration": 0.014427,
     "end_time": "2023-12-16T17:23:04.565198",
     "exception": false,
     "start_time": "2023-12-16T17:23:04.550771",
     "status": "completed"
    },
    "tags": []
   },
   "source": [
    "**Test model**"
   ]
  },
  {
   "cell_type": "code",
   "execution_count": 20,
   "id": "630879ea",
   "metadata": {
    "_cell_guid": "7b12e427-86f0-4f39-88f6-6e2b930e5212",
    "_uuid": "0e8091bf-4321-4152-9f9c-e009c115a838",
    "collapsed": false,
    "execution": {
     "iopub.execute_input": "2023-12-16T17:23:04.595759Z",
     "iopub.status.busy": "2023-12-16T17:23:04.595490Z",
     "iopub.status.idle": "2023-12-16T17:23:04.601002Z",
     "shell.execute_reply": "2023-12-16T17:23:04.600112Z"
    },
    "jupyter": {
     "outputs_hidden": false
    },
    "papermill": {
     "duration": 0.023071,
     "end_time": "2023-12-16T17:23:04.602848",
     "exception": false,
     "start_time": "2023-12-16T17:23:04.579777",
     "status": "completed"
    },
    "tags": []
   },
   "outputs": [
    {
     "data": {
      "text/plain": [
       "device(type='cuda')"
      ]
     },
     "execution_count": 20,
     "metadata": {},
     "output_type": "execute_result"
    }
   ],
   "source": [
    "device"
   ]
  },
  {
   "cell_type": "code",
   "execution_count": 21,
   "id": "14339968",
   "metadata": {
    "_cell_guid": "ff1ee1a2-e7e6-4acd-811b-74407a09f117",
    "_uuid": "de5aee1f-ece3-4abe-bf20-de9a1ede3bcb",
    "collapsed": false,
    "execution": {
     "iopub.execute_input": "2023-12-16T17:23:04.634657Z",
     "iopub.status.busy": "2023-12-16T17:23:04.634326Z",
     "iopub.status.idle": "2023-12-16T17:23:10.023569Z",
     "shell.execute_reply": "2023-12-16T17:23:10.022473Z"
    },
    "jupyter": {
     "outputs_hidden": false
    },
    "papermill": {
     "duration": 5.408179,
     "end_time": "2023-12-16T17:23:10.026473",
     "exception": false,
     "start_time": "2023-12-16T17:23:04.618294",
     "status": "completed"
    },
    "tags": []
   },
   "outputs": [
    {
     "data": {
      "application/vnd.jupyter.widget-view+json": {
       "model_id": "58317b568283451882c2ef61330944ba",
       "version_major": 2,
       "version_minor": 0
      },
      "text/plain": [
       "model.safetensors:   0%|          | 0.00/102M [00:00<?, ?B/s]"
      ]
     },
     "metadata": {},
     "output_type": "display_data"
    },
    {
     "data": {
      "text/plain": [
       "MANet(\n",
       "  (backbone): FeatureListNet(\n",
       "    (conv1): Conv2d(3, 64, kernel_size=(7, 7), stride=(2, 2), padding=(3, 3), bias=False)\n",
       "    (bn1): BatchNorm2d(64, eps=1e-05, momentum=0.1, affine=True, track_running_stats=True)\n",
       "    (act1): ReLU(inplace=True)\n",
       "    (maxpool): MaxPool2d(kernel_size=3, stride=2, padding=1, dilation=1, ceil_mode=False)\n",
       "    (layer1): Sequential(\n",
       "      (0): Bottleneck(\n",
       "        (conv1): Conv2d(64, 64, kernel_size=(1, 1), stride=(1, 1), bias=False)\n",
       "        (bn1): BatchNorm2d(64, eps=1e-05, momentum=0.1, affine=True, track_running_stats=True)\n",
       "        (act1): ReLU(inplace=True)\n",
       "        (conv2): Conv2d(64, 64, kernel_size=(3, 3), stride=(1, 1), padding=(1, 1), bias=False)\n",
       "        (bn2): BatchNorm2d(64, eps=1e-05, momentum=0.1, affine=True, track_running_stats=True)\n",
       "        (drop_block): Identity()\n",
       "        (act2): ReLU(inplace=True)\n",
       "        (aa): Identity()\n",
       "        (conv3): Conv2d(64, 256, kernel_size=(1, 1), stride=(1, 1), bias=False)\n",
       "        (bn3): BatchNorm2d(256, eps=1e-05, momentum=0.1, affine=True, track_running_stats=True)\n",
       "        (act3): ReLU(inplace=True)\n",
       "        (downsample): Sequential(\n",
       "          (0): Conv2d(64, 256, kernel_size=(1, 1), stride=(1, 1), bias=False)\n",
       "          (1): BatchNorm2d(256, eps=1e-05, momentum=0.1, affine=True, track_running_stats=True)\n",
       "        )\n",
       "      )\n",
       "      (1): Bottleneck(\n",
       "        (conv1): Conv2d(256, 64, kernel_size=(1, 1), stride=(1, 1), bias=False)\n",
       "        (bn1): BatchNorm2d(64, eps=1e-05, momentum=0.1, affine=True, track_running_stats=True)\n",
       "        (act1): ReLU(inplace=True)\n",
       "        (conv2): Conv2d(64, 64, kernel_size=(3, 3), stride=(1, 1), padding=(1, 1), bias=False)\n",
       "        (bn2): BatchNorm2d(64, eps=1e-05, momentum=0.1, affine=True, track_running_stats=True)\n",
       "        (drop_block): Identity()\n",
       "        (act2): ReLU(inplace=True)\n",
       "        (aa): Identity()\n",
       "        (conv3): Conv2d(64, 256, kernel_size=(1, 1), stride=(1, 1), bias=False)\n",
       "        (bn3): BatchNorm2d(256, eps=1e-05, momentum=0.1, affine=True, track_running_stats=True)\n",
       "        (act3): ReLU(inplace=True)\n",
       "      )\n",
       "      (2): Bottleneck(\n",
       "        (conv1): Conv2d(256, 64, kernel_size=(1, 1), stride=(1, 1), bias=False)\n",
       "        (bn1): BatchNorm2d(64, eps=1e-05, momentum=0.1, affine=True, track_running_stats=True)\n",
       "        (act1): ReLU(inplace=True)\n",
       "        (conv2): Conv2d(64, 64, kernel_size=(3, 3), stride=(1, 1), padding=(1, 1), bias=False)\n",
       "        (bn2): BatchNorm2d(64, eps=1e-05, momentum=0.1, affine=True, track_running_stats=True)\n",
       "        (drop_block): Identity()\n",
       "        (act2): ReLU(inplace=True)\n",
       "        (aa): Identity()\n",
       "        (conv3): Conv2d(64, 256, kernel_size=(1, 1), stride=(1, 1), bias=False)\n",
       "        (bn3): BatchNorm2d(256, eps=1e-05, momentum=0.1, affine=True, track_running_stats=True)\n",
       "        (act3): ReLU(inplace=True)\n",
       "      )\n",
       "    )\n",
       "    (layer2): Sequential(\n",
       "      (0): Bottleneck(\n",
       "        (conv1): Conv2d(256, 128, kernel_size=(1, 1), stride=(1, 1), bias=False)\n",
       "        (bn1): BatchNorm2d(128, eps=1e-05, momentum=0.1, affine=True, track_running_stats=True)\n",
       "        (act1): ReLU(inplace=True)\n",
       "        (conv2): Conv2d(128, 128, kernel_size=(3, 3), stride=(2, 2), padding=(1, 1), bias=False)\n",
       "        (bn2): BatchNorm2d(128, eps=1e-05, momentum=0.1, affine=True, track_running_stats=True)\n",
       "        (drop_block): Identity()\n",
       "        (act2): ReLU(inplace=True)\n",
       "        (aa): Identity()\n",
       "        (conv3): Conv2d(128, 512, kernel_size=(1, 1), stride=(1, 1), bias=False)\n",
       "        (bn3): BatchNorm2d(512, eps=1e-05, momentum=0.1, affine=True, track_running_stats=True)\n",
       "        (act3): ReLU(inplace=True)\n",
       "        (downsample): Sequential(\n",
       "          (0): Conv2d(256, 512, kernel_size=(1, 1), stride=(2, 2), bias=False)\n",
       "          (1): BatchNorm2d(512, eps=1e-05, momentum=0.1, affine=True, track_running_stats=True)\n",
       "        )\n",
       "      )\n",
       "      (1): Bottleneck(\n",
       "        (conv1): Conv2d(512, 128, kernel_size=(1, 1), stride=(1, 1), bias=False)\n",
       "        (bn1): BatchNorm2d(128, eps=1e-05, momentum=0.1, affine=True, track_running_stats=True)\n",
       "        (act1): ReLU(inplace=True)\n",
       "        (conv2): Conv2d(128, 128, kernel_size=(3, 3), stride=(1, 1), padding=(1, 1), bias=False)\n",
       "        (bn2): BatchNorm2d(128, eps=1e-05, momentum=0.1, affine=True, track_running_stats=True)\n",
       "        (drop_block): Identity()\n",
       "        (act2): ReLU(inplace=True)\n",
       "        (aa): Identity()\n",
       "        (conv3): Conv2d(128, 512, kernel_size=(1, 1), stride=(1, 1), bias=False)\n",
       "        (bn3): BatchNorm2d(512, eps=1e-05, momentum=0.1, affine=True, track_running_stats=True)\n",
       "        (act3): ReLU(inplace=True)\n",
       "      )\n",
       "      (2): Bottleneck(\n",
       "        (conv1): Conv2d(512, 128, kernel_size=(1, 1), stride=(1, 1), bias=False)\n",
       "        (bn1): BatchNorm2d(128, eps=1e-05, momentum=0.1, affine=True, track_running_stats=True)\n",
       "        (act1): ReLU(inplace=True)\n",
       "        (conv2): Conv2d(128, 128, kernel_size=(3, 3), stride=(1, 1), padding=(1, 1), bias=False)\n",
       "        (bn2): BatchNorm2d(128, eps=1e-05, momentum=0.1, affine=True, track_running_stats=True)\n",
       "        (drop_block): Identity()\n",
       "        (act2): ReLU(inplace=True)\n",
       "        (aa): Identity()\n",
       "        (conv3): Conv2d(128, 512, kernel_size=(1, 1), stride=(1, 1), bias=False)\n",
       "        (bn3): BatchNorm2d(512, eps=1e-05, momentum=0.1, affine=True, track_running_stats=True)\n",
       "        (act3): ReLU(inplace=True)\n",
       "      )\n",
       "      (3): Bottleneck(\n",
       "        (conv1): Conv2d(512, 128, kernel_size=(1, 1), stride=(1, 1), bias=False)\n",
       "        (bn1): BatchNorm2d(128, eps=1e-05, momentum=0.1, affine=True, track_running_stats=True)\n",
       "        (act1): ReLU(inplace=True)\n",
       "        (conv2): Conv2d(128, 128, kernel_size=(3, 3), stride=(1, 1), padding=(1, 1), bias=False)\n",
       "        (bn2): BatchNorm2d(128, eps=1e-05, momentum=0.1, affine=True, track_running_stats=True)\n",
       "        (drop_block): Identity()\n",
       "        (act2): ReLU(inplace=True)\n",
       "        (aa): Identity()\n",
       "        (conv3): Conv2d(128, 512, kernel_size=(1, 1), stride=(1, 1), bias=False)\n",
       "        (bn3): BatchNorm2d(512, eps=1e-05, momentum=0.1, affine=True, track_running_stats=True)\n",
       "        (act3): ReLU(inplace=True)\n",
       "      )\n",
       "    )\n",
       "    (layer3): Sequential(\n",
       "      (0): Bottleneck(\n",
       "        (conv1): Conv2d(512, 256, kernel_size=(1, 1), stride=(1, 1), bias=False)\n",
       "        (bn1): BatchNorm2d(256, eps=1e-05, momentum=0.1, affine=True, track_running_stats=True)\n",
       "        (act1): ReLU(inplace=True)\n",
       "        (conv2): Conv2d(256, 256, kernel_size=(3, 3), stride=(2, 2), padding=(1, 1), bias=False)\n",
       "        (bn2): BatchNorm2d(256, eps=1e-05, momentum=0.1, affine=True, track_running_stats=True)\n",
       "        (drop_block): Identity()\n",
       "        (act2): ReLU(inplace=True)\n",
       "        (aa): Identity()\n",
       "        (conv3): Conv2d(256, 1024, kernel_size=(1, 1), stride=(1, 1), bias=False)\n",
       "        (bn3): BatchNorm2d(1024, eps=1e-05, momentum=0.1, affine=True, track_running_stats=True)\n",
       "        (act3): ReLU(inplace=True)\n",
       "        (downsample): Sequential(\n",
       "          (0): Conv2d(512, 1024, kernel_size=(1, 1), stride=(2, 2), bias=False)\n",
       "          (1): BatchNorm2d(1024, eps=1e-05, momentum=0.1, affine=True, track_running_stats=True)\n",
       "        )\n",
       "      )\n",
       "      (1): Bottleneck(\n",
       "        (conv1): Conv2d(1024, 256, kernel_size=(1, 1), stride=(1, 1), bias=False)\n",
       "        (bn1): BatchNorm2d(256, eps=1e-05, momentum=0.1, affine=True, track_running_stats=True)\n",
       "        (act1): ReLU(inplace=True)\n",
       "        (conv2): Conv2d(256, 256, kernel_size=(3, 3), stride=(1, 1), padding=(1, 1), bias=False)\n",
       "        (bn2): BatchNorm2d(256, eps=1e-05, momentum=0.1, affine=True, track_running_stats=True)\n",
       "        (drop_block): Identity()\n",
       "        (act2): ReLU(inplace=True)\n",
       "        (aa): Identity()\n",
       "        (conv3): Conv2d(256, 1024, kernel_size=(1, 1), stride=(1, 1), bias=False)\n",
       "        (bn3): BatchNorm2d(1024, eps=1e-05, momentum=0.1, affine=True, track_running_stats=True)\n",
       "        (act3): ReLU(inplace=True)\n",
       "      )\n",
       "      (2): Bottleneck(\n",
       "        (conv1): Conv2d(1024, 256, kernel_size=(1, 1), stride=(1, 1), bias=False)\n",
       "        (bn1): BatchNorm2d(256, eps=1e-05, momentum=0.1, affine=True, track_running_stats=True)\n",
       "        (act1): ReLU(inplace=True)\n",
       "        (conv2): Conv2d(256, 256, kernel_size=(3, 3), stride=(1, 1), padding=(1, 1), bias=False)\n",
       "        (bn2): BatchNorm2d(256, eps=1e-05, momentum=0.1, affine=True, track_running_stats=True)\n",
       "        (drop_block): Identity()\n",
       "        (act2): ReLU(inplace=True)\n",
       "        (aa): Identity()\n",
       "        (conv3): Conv2d(256, 1024, kernel_size=(1, 1), stride=(1, 1), bias=False)\n",
       "        (bn3): BatchNorm2d(1024, eps=1e-05, momentum=0.1, affine=True, track_running_stats=True)\n",
       "        (act3): ReLU(inplace=True)\n",
       "      )\n",
       "      (3): Bottleneck(\n",
       "        (conv1): Conv2d(1024, 256, kernel_size=(1, 1), stride=(1, 1), bias=False)\n",
       "        (bn1): BatchNorm2d(256, eps=1e-05, momentum=0.1, affine=True, track_running_stats=True)\n",
       "        (act1): ReLU(inplace=True)\n",
       "        (conv2): Conv2d(256, 256, kernel_size=(3, 3), stride=(1, 1), padding=(1, 1), bias=False)\n",
       "        (bn2): BatchNorm2d(256, eps=1e-05, momentum=0.1, affine=True, track_running_stats=True)\n",
       "        (drop_block): Identity()\n",
       "        (act2): ReLU(inplace=True)\n",
       "        (aa): Identity()\n",
       "        (conv3): Conv2d(256, 1024, kernel_size=(1, 1), stride=(1, 1), bias=False)\n",
       "        (bn3): BatchNorm2d(1024, eps=1e-05, momentum=0.1, affine=True, track_running_stats=True)\n",
       "        (act3): ReLU(inplace=True)\n",
       "      )\n",
       "      (4): Bottleneck(\n",
       "        (conv1): Conv2d(1024, 256, kernel_size=(1, 1), stride=(1, 1), bias=False)\n",
       "        (bn1): BatchNorm2d(256, eps=1e-05, momentum=0.1, affine=True, track_running_stats=True)\n",
       "        (act1): ReLU(inplace=True)\n",
       "        (conv2): Conv2d(256, 256, kernel_size=(3, 3), stride=(1, 1), padding=(1, 1), bias=False)\n",
       "        (bn2): BatchNorm2d(256, eps=1e-05, momentum=0.1, affine=True, track_running_stats=True)\n",
       "        (drop_block): Identity()\n",
       "        (act2): ReLU(inplace=True)\n",
       "        (aa): Identity()\n",
       "        (conv3): Conv2d(256, 1024, kernel_size=(1, 1), stride=(1, 1), bias=False)\n",
       "        (bn3): BatchNorm2d(1024, eps=1e-05, momentum=0.1, affine=True, track_running_stats=True)\n",
       "        (act3): ReLU(inplace=True)\n",
       "      )\n",
       "      (5): Bottleneck(\n",
       "        (conv1): Conv2d(1024, 256, kernel_size=(1, 1), stride=(1, 1), bias=False)\n",
       "        (bn1): BatchNorm2d(256, eps=1e-05, momentum=0.1, affine=True, track_running_stats=True)\n",
       "        (act1): ReLU(inplace=True)\n",
       "        (conv2): Conv2d(256, 256, kernel_size=(3, 3), stride=(1, 1), padding=(1, 1), bias=False)\n",
       "        (bn2): BatchNorm2d(256, eps=1e-05, momentum=0.1, affine=True, track_running_stats=True)\n",
       "        (drop_block): Identity()\n",
       "        (act2): ReLU(inplace=True)\n",
       "        (aa): Identity()\n",
       "        (conv3): Conv2d(256, 1024, kernel_size=(1, 1), stride=(1, 1), bias=False)\n",
       "        (bn3): BatchNorm2d(1024, eps=1e-05, momentum=0.1, affine=True, track_running_stats=True)\n",
       "        (act3): ReLU(inplace=True)\n",
       "      )\n",
       "    )\n",
       "    (layer4): Sequential(\n",
       "      (0): Bottleneck(\n",
       "        (conv1): Conv2d(1024, 512, kernel_size=(1, 1), stride=(1, 1), bias=False)\n",
       "        (bn1): BatchNorm2d(512, eps=1e-05, momentum=0.1, affine=True, track_running_stats=True)\n",
       "        (act1): ReLU(inplace=True)\n",
       "        (conv2): Conv2d(512, 512, kernel_size=(3, 3), stride=(2, 2), padding=(1, 1), bias=False)\n",
       "        (bn2): BatchNorm2d(512, eps=1e-05, momentum=0.1, affine=True, track_running_stats=True)\n",
       "        (drop_block): Identity()\n",
       "        (act2): ReLU(inplace=True)\n",
       "        (aa): Identity()\n",
       "        (conv3): Conv2d(512, 2048, kernel_size=(1, 1), stride=(1, 1), bias=False)\n",
       "        (bn3): BatchNorm2d(2048, eps=1e-05, momentum=0.1, affine=True, track_running_stats=True)\n",
       "        (act3): ReLU(inplace=True)\n",
       "        (downsample): Sequential(\n",
       "          (0): Conv2d(1024, 2048, kernel_size=(1, 1), stride=(2, 2), bias=False)\n",
       "          (1): BatchNorm2d(2048, eps=1e-05, momentum=0.1, affine=True, track_running_stats=True)\n",
       "        )\n",
       "      )\n",
       "      (1): Bottleneck(\n",
       "        (conv1): Conv2d(2048, 512, kernel_size=(1, 1), stride=(1, 1), bias=False)\n",
       "        (bn1): BatchNorm2d(512, eps=1e-05, momentum=0.1, affine=True, track_running_stats=True)\n",
       "        (act1): ReLU(inplace=True)\n",
       "        (conv2): Conv2d(512, 512, kernel_size=(3, 3), stride=(1, 1), padding=(1, 1), bias=False)\n",
       "        (bn2): BatchNorm2d(512, eps=1e-05, momentum=0.1, affine=True, track_running_stats=True)\n",
       "        (drop_block): Identity()\n",
       "        (act2): ReLU(inplace=True)\n",
       "        (aa): Identity()\n",
       "        (conv3): Conv2d(512, 2048, kernel_size=(1, 1), stride=(1, 1), bias=False)\n",
       "        (bn3): BatchNorm2d(2048, eps=1e-05, momentum=0.1, affine=True, track_running_stats=True)\n",
       "        (act3): ReLU(inplace=True)\n",
       "      )\n",
       "      (2): Bottleneck(\n",
       "        (conv1): Conv2d(2048, 512, kernel_size=(1, 1), stride=(1, 1), bias=False)\n",
       "        (bn1): BatchNorm2d(512, eps=1e-05, momentum=0.1, affine=True, track_running_stats=True)\n",
       "        (act1): ReLU(inplace=True)\n",
       "        (conv2): Conv2d(512, 512, kernel_size=(3, 3), stride=(1, 1), padding=(1, 1), bias=False)\n",
       "        (bn2): BatchNorm2d(512, eps=1e-05, momentum=0.1, affine=True, track_running_stats=True)\n",
       "        (drop_block): Identity()\n",
       "        (act2): ReLU(inplace=True)\n",
       "        (aa): Identity()\n",
       "        (conv3): Conv2d(512, 2048, kernel_size=(1, 1), stride=(1, 1), bias=False)\n",
       "        (bn3): BatchNorm2d(2048, eps=1e-05, momentum=0.1, affine=True, track_running_stats=True)\n",
       "        (act3): ReLU(inplace=True)\n",
       "      )\n",
       "    )\n",
       "  )\n",
       "  (attention4): PAM_CAM_Layer(\n",
       "    (PAM): PAM_Module(\n",
       "      (query_conv): Conv2d(2048, 256, kernel_size=(1, 1), stride=(1, 1))\n",
       "      (key_conv): Conv2d(2048, 256, kernel_size=(1, 1), stride=(1, 1))\n",
       "      (value_conv): Conv2d(2048, 2048, kernel_size=(1, 1), stride=(1, 1))\n",
       "    )\n",
       "    (CAM): CAM_Module(\n",
       "      (softmax): Softmax(dim=-1)\n",
       "    )\n",
       "  )\n",
       "  (attention3): PAM_CAM_Layer(\n",
       "    (PAM): PAM_Module(\n",
       "      (query_conv): Conv2d(1024, 128, kernel_size=(1, 1), stride=(1, 1))\n",
       "      (key_conv): Conv2d(1024, 128, kernel_size=(1, 1), stride=(1, 1))\n",
       "      (value_conv): Conv2d(1024, 1024, kernel_size=(1, 1), stride=(1, 1))\n",
       "    )\n",
       "    (CAM): CAM_Module(\n",
       "      (softmax): Softmax(dim=-1)\n",
       "    )\n",
       "  )\n",
       "  (attention2): PAM_CAM_Layer(\n",
       "    (PAM): PAM_Module(\n",
       "      (query_conv): Conv2d(512, 64, kernel_size=(1, 1), stride=(1, 1))\n",
       "      (key_conv): Conv2d(512, 64, kernel_size=(1, 1), stride=(1, 1))\n",
       "      (value_conv): Conv2d(512, 512, kernel_size=(1, 1), stride=(1, 1))\n",
       "    )\n",
       "    (CAM): CAM_Module(\n",
       "      (softmax): Softmax(dim=-1)\n",
       "    )\n",
       "  )\n",
       "  (attention1): PAM_CAM_Layer(\n",
       "    (PAM): PAM_Module(\n",
       "      (query_conv): Conv2d(256, 32, kernel_size=(1, 1), stride=(1, 1))\n",
       "      (key_conv): Conv2d(256, 32, kernel_size=(1, 1), stride=(1, 1))\n",
       "      (value_conv): Conv2d(256, 256, kernel_size=(1, 1), stride=(1, 1))\n",
       "    )\n",
       "    (CAM): CAM_Module(\n",
       "      (softmax): Softmax(dim=-1)\n",
       "    )\n",
       "  )\n",
       "  (decoder4): DecoderBlock(\n",
       "    (conv1): Conv2d(2048, 512, kernel_size=(1, 1), stride=(1, 1))\n",
       "    (norm1): BatchNorm2d(512, eps=1e-05, momentum=0.1, affine=True, track_running_stats=True)\n",
       "    (deconv2): ConvTranspose2d(512, 512, kernel_size=(3, 3), stride=(2, 2), padding=(1, 1), output_padding=(1, 1))\n",
       "    (norm2): BatchNorm2d(512, eps=1e-05, momentum=0.1, affine=True, track_running_stats=True)\n",
       "    (conv3): Conv2d(512, 1024, kernel_size=(1, 1), stride=(1, 1))\n",
       "    (norm3): BatchNorm2d(1024, eps=1e-05, momentum=0.1, affine=True, track_running_stats=True)\n",
       "  )\n",
       "  (decoder3): DecoderBlock(\n",
       "    (conv1): Conv2d(1024, 256, kernel_size=(1, 1), stride=(1, 1))\n",
       "    (norm1): BatchNorm2d(256, eps=1e-05, momentum=0.1, affine=True, track_running_stats=True)\n",
       "    (deconv2): ConvTranspose2d(256, 256, kernel_size=(3, 3), stride=(2, 2), padding=(1, 1), output_padding=(1, 1))\n",
       "    (norm2): BatchNorm2d(256, eps=1e-05, momentum=0.1, affine=True, track_running_stats=True)\n",
       "    (conv3): Conv2d(256, 512, kernel_size=(1, 1), stride=(1, 1))\n",
       "    (norm3): BatchNorm2d(512, eps=1e-05, momentum=0.1, affine=True, track_running_stats=True)\n",
       "  )\n",
       "  (decoder2): DecoderBlock(\n",
       "    (conv1): Conv2d(512, 128, kernel_size=(1, 1), stride=(1, 1))\n",
       "    (norm1): BatchNorm2d(128, eps=1e-05, momentum=0.1, affine=True, track_running_stats=True)\n",
       "    (deconv2): ConvTranspose2d(128, 128, kernel_size=(3, 3), stride=(2, 2), padding=(1, 1), output_padding=(1, 1))\n",
       "    (norm2): BatchNorm2d(128, eps=1e-05, momentum=0.1, affine=True, track_running_stats=True)\n",
       "    (conv3): Conv2d(128, 256, kernel_size=(1, 1), stride=(1, 1))\n",
       "    (norm3): BatchNorm2d(256, eps=1e-05, momentum=0.1, affine=True, track_running_stats=True)\n",
       "  )\n",
       "  (decoder1): DecoderBlock(\n",
       "    (conv1): Conv2d(256, 64, kernel_size=(1, 1), stride=(1, 1))\n",
       "    (norm1): BatchNorm2d(64, eps=1e-05, momentum=0.1, affine=True, track_running_stats=True)\n",
       "    (deconv2): ConvTranspose2d(64, 64, kernel_size=(3, 3), stride=(2, 2), padding=(1, 1), output_padding=(1, 1))\n",
       "    (norm2): BatchNorm2d(64, eps=1e-05, momentum=0.1, affine=True, track_running_stats=True)\n",
       "    (conv3): Conv2d(64, 256, kernel_size=(1, 1), stride=(1, 1))\n",
       "    (norm3): BatchNorm2d(256, eps=1e-05, momentum=0.1, affine=True, track_running_stats=True)\n",
       "  )\n",
       "  (finaldeconv1): ConvTranspose2d(256, 32, kernel_size=(4, 4), stride=(2, 2), padding=(1, 1))\n",
       "  (finalconv2): Conv2d(32, 32, kernel_size=(3, 3), stride=(1, 1), padding=(1, 1))\n",
       "  (finalconv3): Conv2d(32, 6, kernel_size=(3, 3), stride=(1, 1), padding=(1, 1))\n",
       ")"
      ]
     },
     "execution_count": 21,
     "metadata": {},
     "output_type": "execute_result"
    }
   ],
   "source": [
    "model = MANet()\n",
    "model.to(device)"
   ]
  },
  {
   "cell_type": "code",
   "execution_count": 22,
   "id": "b4be0b72",
   "metadata": {
    "execution": {
     "iopub.execute_input": "2023-12-16T17:23:10.060599Z",
     "iopub.status.busy": "2023-12-16T17:23:10.060281Z",
     "iopub.status.idle": "2023-12-16T17:23:10.064370Z",
     "shell.execute_reply": "2023-12-16T17:23:10.063546Z"
    },
    "papermill": {
     "duration": 0.023788,
     "end_time": "2023-12-16T17:23:10.066269",
     "exception": false,
     "start_time": "2023-12-16T17:23:10.042481",
     "status": "completed"
    },
    "tags": []
   },
   "outputs": [],
   "source": [
    "weights_init(model)"
   ]
  },
  {
   "cell_type": "code",
   "execution_count": 23,
   "id": "aaf4ff48",
   "metadata": {
    "_cell_guid": "e9d55b84-412e-4d44-b669-730caa5b3492",
    "_uuid": "0a79e719-4c44-4a47-96b0-c9171433a796",
    "collapsed": false,
    "execution": {
     "iopub.execute_input": "2023-12-16T17:23:10.098372Z",
     "iopub.status.busy": "2023-12-16T17:23:10.098112Z",
     "iopub.status.idle": "2023-12-16T17:23:10.103218Z",
     "shell.execute_reply": "2023-12-16T17:23:10.102281Z"
    },
    "jupyter": {
     "outputs_hidden": false
    },
    "papermill": {
     "duration": 0.0235,
     "end_time": "2023-12-16T17:23:10.105224",
     "exception": false,
     "start_time": "2023-12-16T17:23:10.081724",
     "status": "completed"
    },
    "tags": []
   },
   "outputs": [
    {
     "name": "stdout",
     "output_type": "stream",
     "text": [
      "CUDA is available.\n"
     ]
    }
   ],
   "source": [
    "import torch\n",
    "\n",
    "# Check if CUDA is available\n",
    "if torch.cuda.is_available():\n",
    "    # Use GPU-accelerated PyTorch functions here\n",
    "    print(\"CUDA is available.\")\n",
    "else:\n",
    "    print(\"CUDA is not available.\")"
   ]
  },
  {
   "cell_type": "code",
   "execution_count": 24,
   "id": "ccaa865c",
   "metadata": {
    "_cell_guid": "bff71b81-ff06-46b2-bef6-a718d4ee9078",
    "_uuid": "3ea583ef-0033-4656-aa8e-47896eb5ca58",
    "collapsed": false,
    "execution": {
     "iopub.execute_input": "2023-12-16T17:23:10.137394Z",
     "iopub.status.busy": "2023-12-16T17:23:10.137121Z",
     "iopub.status.idle": "2023-12-16T17:23:10.143486Z",
     "shell.execute_reply": "2023-12-16T17:23:10.142603Z"
    },
    "jupyter": {
     "outputs_hidden": false
    },
    "papermill": {
     "duration": 0.024614,
     "end_time": "2023-12-16T17:23:10.145331",
     "exception": false,
     "start_time": "2023-12-16T17:23:10.120717",
     "status": "completed"
    },
    "tags": []
   },
   "outputs": [],
   "source": [
    "\n",
    "loss_function = MAnetLoss(ignore_index=6)\n",
    "# Define the optimizer (Adam optimizer)\n",
    "optimizer = optim.Adam(params=model.parameters(), lr=learning_rate)\n",
    "# optimizer.load_state_dict(checkpoint['optimizer'])\n",
    "\n",
    "# Learning rate scheduler\n",
    "learing_rate_scheduler = lr_scheduler.StepLR(optimizer, step_size=4, gamma=0.6)"
   ]
  },
  {
   "cell_type": "code",
   "execution_count": 25,
   "id": "8e43c2fd",
   "metadata": {
    "_cell_guid": "829e0a5f-bfdc-4e61-892e-e5c576270ae6",
    "_uuid": "b8df63fd-ac4d-4ae1-973d-84281c253f68",
    "collapsed": false,
    "execution": {
     "iopub.execute_input": "2023-12-16T17:23:10.178189Z",
     "iopub.status.busy": "2023-12-16T17:23:10.177833Z",
     "iopub.status.idle": "2023-12-16T17:23:10.414225Z",
     "shell.execute_reply": "2023-12-16T17:23:10.413189Z"
    },
    "jupyter": {
     "outputs_hidden": false
    },
    "papermill": {
     "duration": 0.255763,
     "end_time": "2023-12-16T17:23:10.416814",
     "exception": false,
     "start_time": "2023-12-16T17:23:10.161051",
     "status": "completed"
    },
    "tags": []
   },
   "outputs": [],
   "source": [
    "save_model(model, optimizer, checkpoint_path)\n",
    "load_checkpoint_flag=False"
   ]
  },
  {
   "cell_type": "code",
   "execution_count": 26,
   "id": "45e342e5",
   "metadata": {
    "_cell_guid": "9bd6f936-370d-41f9-9f94-fbeece0c2d87",
    "_uuid": "a348d83f-4838-4ff3-b871-7869ff25711c",
    "collapsed": false,
    "execution": {
     "iopub.execute_input": "2023-12-16T17:23:10.452952Z",
     "iopub.status.busy": "2023-12-16T17:23:10.452204Z",
     "iopub.status.idle": "2023-12-16T17:23:10.456554Z",
     "shell.execute_reply": "2023-12-16T17:23:10.455682Z"
    },
    "jupyter": {
     "outputs_hidden": false
    },
    "papermill": {
     "duration": 0.024112,
     "end_time": "2023-12-16T17:23:10.458547",
     "exception": false,
     "start_time": "2023-12-16T17:23:10.434435",
     "status": "completed"
    },
    "tags": []
   },
   "outputs": [],
   "source": [
    "# print(\"Model keys:\")\n",
    "# print(model.state_dict().keys())\n",
    "\n",
    "# print(\"\\nCheckpoint keys:\")\n",
    "# print(checkpoint['model'].keys())"
   ]
  },
  {
   "cell_type": "code",
   "execution_count": 27,
   "id": "8f835a94",
   "metadata": {
    "_cell_guid": "9b2d4c53-72c7-42dd-991a-7445bff2638c",
    "_uuid": "de2ee268-fe8f-4aa0-bc54-8878c65f7697",
    "collapsed": false,
    "execution": {
     "iopub.execute_input": "2023-12-16T17:23:10.494531Z",
     "iopub.status.busy": "2023-12-16T17:23:10.494155Z",
     "iopub.status.idle": "2023-12-16T17:23:10.498540Z",
     "shell.execute_reply": "2023-12-16T17:23:10.497685Z"
    },
    "jupyter": {
     "outputs_hidden": false
    },
    "papermill": {
     "duration": 0.024163,
     "end_time": "2023-12-16T17:23:10.500483",
     "exception": false,
     "start_time": "2023-12-16T17:23:10.476320",
     "status": "completed"
    },
    "tags": []
   },
   "outputs": [],
   "source": [
    "# Load the model checkpoint if needed\n",
    "# Load the model checkpoint if needed\n",
    "if load_checkpoint_flag:\n",
    "    model, optimize= load_model(model, optimizer, pretrained_path)"
   ]
  },
  {
   "cell_type": "code",
   "execution_count": 28,
   "id": "3832d9ba",
   "metadata": {
    "_cell_guid": "481692c1-6a09-4095-bf30-983f869b263a",
    "_uuid": "4b5b9153-0e59-4872-a225-60cfe93adb40",
    "collapsed": false,
    "execution": {
     "iopub.execute_input": "2023-12-16T17:23:10.535245Z",
     "iopub.status.busy": "2023-12-16T17:23:10.534958Z",
     "iopub.status.idle": "2023-12-16T17:23:10.539215Z",
     "shell.execute_reply": "2023-12-16T17:23:10.538232Z"
    },
    "jupyter": {
     "outputs_hidden": false
    },
    "papermill": {
     "duration": 0.023578,
     "end_time": "2023-12-16T17:23:10.541359",
     "exception": false,
     "start_time": "2023-12-16T17:23:10.517781",
     "status": "completed"
    },
    "tags": []
   },
   "outputs": [],
   "source": [
    "import os\n",
    "os.environ['CUDA_LAUNCH_BLOCKING'] = '1'"
   ]
  },
  {
   "cell_type": "code",
   "execution_count": 29,
   "id": "bf99ec9c",
   "metadata": {
    "_cell_guid": "4fc8001a-9782-4574-bee5-fc3778464abb",
    "_uuid": "063a2851-5ff7-4d12-bf66-7c712f031f3d",
    "collapsed": false,
    "execution": {
     "iopub.execute_input": "2023-12-16T17:23:10.575176Z",
     "iopub.status.busy": "2023-12-16T17:23:10.574917Z",
     "iopub.status.idle": "2023-12-17T03:05:47.474958Z",
     "shell.execute_reply": "2023-12-17T03:05:47.473053Z"
    },
    "jupyter": {
     "outputs_hidden": false
    },
    "papermill": {
     "duration": 34956.92065,
     "end_time": "2023-12-17T03:05:47.478174",
     "exception": false,
     "start_time": "2023-12-16T17:23:10.557524",
     "status": "completed"
    },
    "tags": []
   },
   "outputs": [
    {
     "name": "stderr",
     "output_type": "stream",
     "text": [
      "\u001b[34m\u001b[1mwandb\u001b[0m: W&B API key is configured. Use \u001b[1m`wandb login --relogin`\u001b[0m to force relogin\n",
      "\u001b[34m\u001b[1mwandb\u001b[0m: \u001b[33mWARNING\u001b[0m If you're specifying your api key in code, ensure this code is not shared publicly.\n",
      "\u001b[34m\u001b[1mwandb\u001b[0m: \u001b[33mWARNING\u001b[0m Consider setting the WANDB_API_KEY environment variable, or running `wandb login` from the command line.\n",
      "\u001b[34m\u001b[1mwandb\u001b[0m: Appending key for api.wandb.ai to your netrc file: /root/.netrc\n",
      "\u001b[34m\u001b[1mwandb\u001b[0m: Currently logged in as: \u001b[33mhoanghiep4502\u001b[0m. Use \u001b[1m`wandb login --relogin`\u001b[0m to force relogin\n"
     ]
    },
    {
     "name": "stdout",
     "output_type": "stream",
     "text": [
      "blmxorl7\n"
     ]
    },
    {
     "name": "stderr",
     "output_type": "stream",
     "text": [
      "\u001b[34m\u001b[1mwandb\u001b[0m: Tracking run with wandb version 0.16.1\n",
      "\u001b[34m\u001b[1mwandb\u001b[0m: Run data is saved locally in \u001b[35m\u001b[1m/kaggle/working/wandb/run-20231216_172312-blmxorl7\u001b[0m\n",
      "\u001b[34m\u001b[1mwandb\u001b[0m: Run \u001b[1m`wandb offline`\u001b[0m to turn off syncing.\n",
      "\u001b[34m\u001b[1mwandb\u001b[0m: Syncing run \u001b[33molive-feather-11\u001b[0m\n",
      "\u001b[34m\u001b[1mwandb\u001b[0m: ⭐️ View project at \u001b[34m\u001b[4mhttps://wandb.ai/hoanghiep4502/MANet%20\u001b[0m\n",
      "\u001b[34m\u001b[1mwandb\u001b[0m: 🚀 View run at \u001b[34m\u001b[4mhttps://wandb.ai/hoanghiep4502/MANet%20/runs/blmxorl7\u001b[0m\n"
     ]
    },
    {
     "name": "stdout",
     "output_type": "stream",
     "text": [
      "Start epoch #1, learning rate for this epoch: [0.001]\n"
     ]
    },
    {
     "name": "stderr",
     "output_type": "stream",
     "text": [
      "100%|██████████| 624/624 [05:52<00:00,  1.77it/s]\n"
     ]
    },
    {
     "name": "stdout",
     "output_type": "stream",
     "text": [
      "Done epoch #1, time for this epoch: 352.7641248703003s\n"
     ]
    },
    {
     "name": "stderr",
     "output_type": "stream",
     "text": [
      "100%|██████████| 175/175 [01:00<00:00,  2.89it/s]\n"
     ]
    },
    {
     "name": "stdout",
     "output_type": "stream",
     "text": [
      "(array([0.6664016 , 0.76761209, 0.63138684, 0.64634211, 0.67505147,\n",
      "       0.16823834]), 0.6773588242127607, 0.8067161721312937, 0.7882590091921661)\n",
      "train: {'mIoU': 0.5301101747945545, 'F1': 0.6917087067519228, 'OA': 0.6878075324572049}\n",
      "{'ImSurf': 0.5454712758303205, 'Building': 0.6130893509392104, 'LowVeg': 0.5173452613653817, 'Tree': 0.48479427933815417, 'Car': 0.4898507064997054, 'Clutter': 0.013225547643714631}\n",
      "val: {'mIoU': 0.6773588242127607, 'F1': 0.8067161721312937, 'OA': 0.7882590091921661}\n",
      "{'ImSurf': 0.6664016002916521, 'Building': 0.767612093076399, 'LowVeg': 0.6313868437875065, 'Tree': 0.6463421140604166, 'Car': 0.6750514698478288, 'Clutter': 0.16823833923048784}\n",
      "Epoch 1: loss: 118.2096, train accuracy: 0.6878, valid accuracy:0.7883\n",
      "Start epoch #2, learning rate for this epoch: [0.001]\n"
     ]
    },
    {
     "name": "stderr",
     "output_type": "stream",
     "text": [
      "100%|██████████| 624/624 [04:28<00:00,  2.32it/s]\n"
     ]
    },
    {
     "name": "stdout",
     "output_type": "stream",
     "text": [
      "Done epoch #2, time for this epoch: 268.5506365299225s\n"
     ]
    },
    {
     "name": "stderr",
     "output_type": "stream",
     "text": [
      "100%|██████████| 175/175 [00:39<00:00,  4.46it/s]\n"
     ]
    },
    {
     "name": "stdout",
     "output_type": "stream",
     "text": [
      "(array([0.69084024, 0.77997134, 0.66990644, 0.66050307, 0.70808013,\n",
      "       0.22934792]), 0.7018602439642009, 0.8241022270575232, 0.8074708323810738)\n",
      "train: {'mIoU': 0.6609987391299221, 'F1': 0.7950082971279538, 'OA': 0.7739680913778452}\n",
      "{'ImSurf': 0.6459972006963365, 'Building': 0.7390678615380913, 'LowVeg': 0.6114305887960357, 'Tree': 0.6261187507394175, 'Car': 0.6823792938797293, 'Clutter': 0.17728375450629835}\n",
      "val: {'mIoU': 0.7018602439642009, 'F1': 0.8241022270575232, 'OA': 0.8074708323810738}\n",
      "{'ImSurf': 0.6908402418863703, 'Building': 0.7799713350548034, 'LowVeg': 0.6699064446013668, 'Tree': 0.6605030728488746, 'Car': 0.7080801254295888, 'Clutter': 0.22934791794897963}\n",
      "Epoch 2: loss: 96.1118, train accuracy: 0.7740, valid accuracy:0.8075\n",
      "Start epoch #3, learning rate for this epoch: [0.001]\n"
     ]
    },
    {
     "name": "stderr",
     "output_type": "stream",
     "text": [
      "100%|██████████| 624/624 [04:25<00:00,  2.35it/s]\n"
     ]
    },
    {
     "name": "stdout",
     "output_type": "stream",
     "text": [
      "Done epoch #3, time for this epoch: 265.5533058643341s\n"
     ]
    },
    {
     "name": "stderr",
     "output_type": "stream",
     "text": [
      "100%|██████████| 175/175 [00:40<00:00,  4.35it/s]\n"
     ]
    },
    {
     "name": "stdout",
     "output_type": "stream",
     "text": [
      "(array([0.68239681, 0.80964506, 0.65768126, 0.66573933, 0.74493683,\n",
      "       0.29438346]), 0.7120798578576715, 0.8305369588871688, 0.8113460609233386)\n",
      "train: {'mIoU': 0.7010243898851211, 'F1': 0.8231618157201513, 'OA': 0.8066075184406378}\n",
      "{'ImSurf': 0.6898323543893111, 'Building': 0.795451154157554, 'LowVeg': 0.6487596979286232, 'Tree': 0.6597713400180154, 'Car': 0.7113074029321012, 'Clutter': 0.2716506414146653}\n",
      "val: {'mIoU': 0.7120798578576715, 'F1': 0.8305369588871688, 'OA': 0.8113460609233386}\n",
      "{'ImSurf': 0.6823968108474551, 'Building': 0.8096450637952611, 'LowVeg': 0.6576812605353873, 'Tree': 0.6657393277622353, 'Car': 0.7449368263480179, 'Clutter': 0.29438345619568657}\n",
      "Epoch 3: loss: 86.1865, train accuracy: 0.8066, valid accuracy:0.8113\n",
      "Start epoch #4, learning rate for this epoch: [0.001]\n"
     ]
    },
    {
     "name": "stderr",
     "output_type": "stream",
     "text": [
      "100%|██████████| 624/624 [04:22<00:00,  2.38it/s]\n"
     ]
    },
    {
     "name": "stdout",
     "output_type": "stream",
     "text": [
      "Done epoch #4, time for this epoch: 262.0547549724579s\n"
     ]
    },
    {
     "name": "stderr",
     "output_type": "stream",
     "text": [
      "100%|██████████| 175/175 [00:37<00:00,  4.67it/s]\n"
     ]
    },
    {
     "name": "stdout",
     "output_type": "stream",
     "text": [
      "(array([0.68649608, 0.7672563 , 0.61383616, 0.68354883, 0.73334046,\n",
      "       0.28263762]), 0.6968955675612133, 0.8202640475937901, 0.8025424735458822)\n",
      "train: {'mIoU': 0.7205758838522514, 'F1': 0.8365400834761478, 'OA': 0.8201231436851697}\n",
      "{'ImSurf': 0.7099931637814846, 'Building': 0.8138324237258288, 'LowVeg': 0.6625879048507898, 'Tree': 0.6827389271970196, 'Car': 0.7337269997061339, 'Clutter': 0.3047672786815497}\n",
      "val: {'mIoU': 0.6968955675612133, 'F1': 0.8202640475937901, 'OA': 0.8025424735458822}\n",
      "{'ImSurf': 0.6864960829281632, 'Building': 0.7672562958409793, 'LowVeg': 0.6138361620465544, 'Tree': 0.6835488338095498, 'Car': 0.7333404631808195, 'Clutter': 0.28263761502660584}\n",
      "Epoch 4: loss: 81.8820, train accuracy: 0.8201, valid accuracy:0.8025\n",
      "Start epoch #5, learning rate for this epoch: [0.0006]\n"
     ]
    },
    {
     "name": "stderr",
     "output_type": "stream",
     "text": [
      "100%|██████████| 624/624 [04:16<00:00,  2.44it/s]\n"
     ]
    },
    {
     "name": "stdout",
     "output_type": "stream",
     "text": [
      "Done epoch #5, time for this epoch: 256.26562547683716s\n"
     ]
    },
    {
     "name": "stderr",
     "output_type": "stream",
     "text": [
      "100%|██████████| 175/175 [00:38<00:00,  4.60it/s]\n"
     ]
    },
    {
     "name": "stdout",
     "output_type": "stream",
     "text": [
      "(array([0.73313644, 0.85215246, 0.70223314, 0.72007699, 0.7580924 ,\n",
      "       0.40988071]), 0.7531382861350734, 0.8581871144954384, 0.8445343324287452)\n",
      "train: {'mIoU': 0.7541466022335114, 'F1': 0.8588197569851534, 'OA': 0.8466580097491925}\n",
      "{'ImSurf': 0.7423781110603339, 'Building': 0.8545491790665665, 'LowVeg': 0.7022618424121221, 'Tree': 0.7174086359804246, 'Car': 0.7541352426481099, 'Clutter': 0.37547275934204655}\n",
      "val: {'mIoU': 0.7531382861350734, 'F1': 0.8581871144954384, 'OA': 0.8445343324287452}\n",
      "{'ImSurf': 0.7331364437350784, 'Building': 0.8521524561912731, 'LowVeg': 0.7022331372411819, 'Tree': 0.7200769919429979, 'Car': 0.7580924015648359, 'Clutter': 0.4098807119543741}\n",
      "Epoch 5: loss: 73.3017, train accuracy: 0.8467, valid accuracy:0.8445\n",
      "Start epoch #6, learning rate for this epoch: [0.0006]\n"
     ]
    },
    {
     "name": "stderr",
     "output_type": "stream",
     "text": [
      "100%|██████████| 624/624 [04:20<00:00,  2.40it/s]\n"
     ]
    },
    {
     "name": "stdout",
     "output_type": "stream",
     "text": [
      "Done epoch #6, time for this epoch: 260.23613691329956s\n"
     ]
    },
    {
     "name": "stderr",
     "output_type": "stream",
     "text": [
      "100%|██████████| 175/175 [00:36<00:00,  4.77it/s]\n"
     ]
    },
    {
     "name": "stdout",
     "output_type": "stream",
     "text": [
      "(array([0.68815853, 0.83160751, 0.65721836, 0.71002492, 0.74446067,\n",
      "       0.39453037]), 0.7262939974559123, 0.8400877656240638, 0.8240175267730953)\n",
      "train: {'mIoU': 0.7646892788384309, 'F1': 0.8657085443284952, 'OA': 0.8547485608320969}\n",
      "{'ImSurf': 0.756022969331507, 'Building': 0.861736227195384, 'LowVeg': 0.7114796619627863, 'Tree': 0.7320004658118399, 'Car': 0.7622070698906367, 'Clutter': 0.41464849580231766}\n",
      "val: {'mIoU': 0.7262939974559123, 'F1': 0.8400877656240638, 'OA': 0.8240175267730953}\n",
      "{'ImSurf': 0.6881585324631279, 'Building': 0.8316075115388102, 'LowVeg': 0.6572183556046766, 'Tree': 0.7100249150373863, 'Car': 0.7444606726355607, 'Clutter': 0.3945303655859842}\n",
      "Epoch 6: loss: 70.5924, train accuracy: 0.8547, valid accuracy:0.8240\n",
      "Start epoch #7, learning rate for this epoch: [0.0006]\n"
     ]
    },
    {
     "name": "stderr",
     "output_type": "stream",
     "text": [
      "100%|██████████| 624/624 [04:18<00:00,  2.42it/s]\n"
     ]
    },
    {
     "name": "stdout",
     "output_type": "stream",
     "text": [
      "Done epoch #7, time for this epoch: 258.04234743118286s\n"
     ]
    },
    {
     "name": "stderr",
     "output_type": "stream",
     "text": [
      "100%|██████████| 175/175 [00:36<00:00,  4.75it/s]\n"
     ]
    },
    {
     "name": "stdout",
     "output_type": "stream",
     "text": [
      "(array([0.73757444, 0.8583293 , 0.68664246, 0.70674553, 0.75353517,\n",
      "       0.38508742]), 0.7485653801653422, 0.8549145846184366, 0.8390562847545483)\n",
      "train: {'mIoU': 0.7759190639015582, 'F1': 0.8727928527539298, 'OA': 0.8625882405501145}\n",
      "{'ImSurf': 0.7670522712910083, 'Building': 0.8797865482382878, 'LowVeg': 0.7242498464510002, 'Tree': 0.7395762905596349, 'Car': 0.7689303629678597, 'Clutter': 0.41993123108424646}\n",
      "val: {'mIoU': 0.7485653801653422, 'F1': 0.8549145846184366, 'OA': 0.8390562847545483}\n",
      "{'ImSurf': 0.7375744377050345, 'Building': 0.8583292951374426, 'LowVeg': 0.6866424602786533, 'Tree': 0.7067455339051023, 'Car': 0.7535351738004786, 'Clutter': 0.38508741812640923}\n",
      "Epoch 7: loss: 68.4697, train accuracy: 0.8626, valid accuracy:0.8391\n",
      "Start epoch #8, learning rate for this epoch: [0.0006]\n"
     ]
    },
    {
     "name": "stderr",
     "output_type": "stream",
     "text": [
      "100%|██████████| 624/624 [04:18<00:00,  2.41it/s]\n"
     ]
    },
    {
     "name": "stdout",
     "output_type": "stream",
     "text": [
      "Done epoch #8, time for this epoch: 258.5185887813568s\n"
     ]
    },
    {
     "name": "stderr",
     "output_type": "stream",
     "text": [
      "100%|██████████| 175/175 [00:36<00:00,  4.84it/s]\n"
     ]
    },
    {
     "name": "stdout",
     "output_type": "stream",
     "text": [
      "(array([0.64335307, 0.83949683, 0.61830308, 0.66734071, 0.72712419,\n",
      "       0.42552355]), 0.6991235755634653, 0.820470116695861, 0.8040644200003925)\n",
      "train: {'mIoU': 0.7837282687620208, 'F1': 0.8776667811001774, 'OA': 0.8706320432516245}\n",
      "{'ImSurf': 0.7800923204434224, 'Building': 0.8923107168941288, 'LowVeg': 0.7345838299404492, 'Tree': 0.7456062004667757, 'Car': 0.7660482760653281, 'Clutter': 0.4730973224277248}\n",
      "val: {'mIoU': 0.6991235755634653, 'F1': 0.820470116695861, 'OA': 0.8040644200003925}\n",
      "{'ImSurf': 0.6433530743149909, 'Building': 0.8394968283306478, 'LowVeg': 0.6183030798181691, 'Tree': 0.667340707362249, 'Car': 0.7271241879912702, 'Clutter': 0.4255235515956889}\n",
      "Epoch 8: loss: 65.6779, train accuracy: 0.8706, valid accuracy:0.8041\n",
      "Start epoch #9, learning rate for this epoch: [0.00035999999999999997]\n"
     ]
    },
    {
     "name": "stderr",
     "output_type": "stream",
     "text": [
      "100%|██████████| 624/624 [04:15<00:00,  2.44it/s]\n"
     ]
    },
    {
     "name": "stdout",
     "output_type": "stream",
     "text": [
      "Done epoch #9, time for this epoch: 255.81398034095764s\n"
     ]
    },
    {
     "name": "stderr",
     "output_type": "stream",
     "text": [
      "100%|██████████| 175/175 [00:36<00:00,  4.81it/s]\n"
     ]
    },
    {
     "name": "stdout",
     "output_type": "stream",
     "text": [
      "(array([0.7699971 , 0.87294961, 0.72866713, 0.71903351, 0.76742674,\n",
      "       0.45717184]), 0.7716148174533739, 0.8700452874385798, 0.8619683040446371)\n",
      "train: {'mIoU': 0.801595709331653, 'F1': 0.8888803443851405, 'OA': 0.8852264422636765}\n",
      "{'ImSurf': 0.8043618687832139, 'Building': 0.9058765019951511, 'LowVeg': 0.7547276144396423, 'Tree': 0.7637103794705925, 'Car': 0.7793021819696648, 'Clutter': 0.5405289360520034}\n",
      "val: {'mIoU': 0.7716148174533739, 'F1': 0.8700452874385798, 'OA': 0.8619683040446371}\n",
      "{'ImSurf': 0.769997101787943, 'Building': 0.8729496102017055, 'LowVeg': 0.7286671261411679, 'Tree': 0.7190335074786167, 'Car': 0.7674267416574364, 'Clutter': 0.457171838500372}\n",
      "Epoch 9: loss: 61.2942, train accuracy: 0.8852, valid accuracy:0.8620\n",
      "Start epoch #10, learning rate for this epoch: [0.00035999999999999997]\n"
     ]
    },
    {
     "name": "stderr",
     "output_type": "stream",
     "text": [
      "100%|██████████| 624/624 [04:15<00:00,  2.45it/s]\n"
     ]
    },
    {
     "name": "stdout",
     "output_type": "stream",
     "text": [
      "Done epoch #10, time for this epoch: 255.09144854545593s\n"
     ]
    },
    {
     "name": "stderr",
     "output_type": "stream",
     "text": [
      "100%|██████████| 175/175 [00:36<00:00,  4.84it/s]\n"
     ]
    },
    {
     "name": "stdout",
     "output_type": "stream",
     "text": [
      "(array([0.76628262, 0.87464699, 0.73540331, 0.72062993, 0.76045223,\n",
      "       0.44692781]), 0.7714830179806688, 0.8699808566707631, 0.8629306045608902)\n",
      "train: {'mIoU': 0.8120783648622115, 'F1': 0.8953573307160413, 'OA': 0.8917703017210349}\n",
      "{'ImSurf': 0.8165962516223739, 'Building': 0.9135441165638742, 'LowVeg': 0.7644099320181862, 'Tree': 0.7754777455605311, 'Car': 0.7903637785460921, 'Clutter': 0.5544152049169341}\n",
      "val: {'mIoU': 0.7714830179806688, 'F1': 0.8699808566707631, 'OA': 0.8629306045608902}\n",
      "{'ImSurf': 0.7662826222808566, 'Building': 0.8746469938264695, 'LowVeg': 0.7354033110485046, 'Tree': 0.7206299285728323, 'Car': 0.7604522341746808, 'Clutter': 0.4469278090851525}\n",
      "Epoch 10: loss: 59.4846, train accuracy: 0.8918, valid accuracy:0.8629\n",
      "Start epoch #11, learning rate for this epoch: [0.00035999999999999997]\n"
     ]
    },
    {
     "name": "stderr",
     "output_type": "stream",
     "text": [
      "100%|██████████| 624/624 [04:13<00:00,  2.46it/s]\n"
     ]
    },
    {
     "name": "stdout",
     "output_type": "stream",
     "text": [
      "Done epoch #11, time for this epoch: 253.74026322364807s\n"
     ]
    },
    {
     "name": "stderr",
     "output_type": "stream",
     "text": [
      "100%|██████████| 175/175 [00:36<00:00,  4.83it/s]\n"
     ]
    },
    {
     "name": "stdout",
     "output_type": "stream",
     "text": [
      "(array([0.75072736, 0.8710956 , 0.71124983, 0.69878604, 0.7520876 ,\n",
      "       0.47209484]), 0.7567892870989921, 0.860236409353767, 0.8510529353134253)\n",
      "train: {'mIoU': 0.8172223356797614, 'F1': 0.8985294980794258, 'OA': 0.8967460882969391}\n",
      "{'ImSurf': 0.8243328994000206, 'Building': 0.9167702058416225, 'LowVeg': 0.778675183731011, 'Tree': 0.7800595553277742, 'Car': 0.7862738340983785, 'Clutter': 0.5662875611347628}\n",
      "val: {'mIoU': 0.7567892870989921, 'F1': 0.860236409353767, 'OA': 0.8510529353134253}\n",
      "{'ImSurf': 0.750727364472923, 'Building': 0.8710955991219542, 'LowVeg': 0.7112498333885203, 'Tree': 0.6987860369027066, 'Car': 0.7520876016088566, 'Clutter': 0.4720948392956705}\n",
      "Epoch 11: loss: 57.8235, train accuracy: 0.8967, valid accuracy:0.8511\n",
      "Start epoch #12, learning rate for this epoch: [0.00035999999999999997]\n"
     ]
    },
    {
     "name": "stderr",
     "output_type": "stream",
     "text": [
      "100%|██████████| 624/624 [04:12<00:00,  2.47it/s]\n"
     ]
    },
    {
     "name": "stdout",
     "output_type": "stream",
     "text": [
      "Done epoch #12, time for this epoch: 252.64648962020874s\n"
     ]
    },
    {
     "name": "stderr",
     "output_type": "stream",
     "text": [
      "100%|██████████| 175/175 [00:36<00:00,  4.83it/s]\n"
     ]
    },
    {
     "name": "stdout",
     "output_type": "stream",
     "text": [
      "(array([0.77067127, 0.86681449, 0.73886195, 0.7345854 , 0.76948085,\n",
      "       0.46694266]), 0.7760827918584015, 0.873135054551199, 0.8647202096735069)\n",
      "train: {'mIoU': 0.8235392049073452, 'F1': 0.9023485994743659, 'OA': 0.9007053283544687}\n",
      "{'ImSurf': 0.8311345102301915, 'Building': 0.9228350913634906, 'LowVeg': 0.7813751400036725, 'Tree': 0.7876106871620495, 'Car': 0.7947405957773223, 'Clutter': 0.5984816077750875}\n",
      "val: {'mIoU': 0.7760827918584015, 'F1': 0.873135054551199, 'OA': 0.8647202096735069}\n",
      "{'ImSurf': 0.770671272888743, 'Building': 0.86681449099315, 'LowVeg': 0.7388619494806941, 'Tree': 0.7345854004053715, 'Car': 0.7694808455240485, 'Clutter': 0.4669426628832477}\n",
      "Epoch 12: loss: 56.5151, train accuracy: 0.9007, valid accuracy:0.8647\n",
      "Start epoch #13, learning rate for this epoch: [0.00021599999999999996]\n"
     ]
    },
    {
     "name": "stderr",
     "output_type": "stream",
     "text": [
      "100%|██████████| 624/624 [04:13<00:00,  2.46it/s]\n"
     ]
    },
    {
     "name": "stdout",
     "output_type": "stream",
     "text": [
      "Done epoch #13, time for this epoch: 253.94008207321167s\n"
     ]
    },
    {
     "name": "stderr",
     "output_type": "stream",
     "text": [
      "100%|██████████| 175/175 [00:36<00:00,  4.79it/s]\n"
     ]
    },
    {
     "name": "stdout",
     "output_type": "stream",
     "text": [
      "(array([0.77217704, 0.88712336, 0.73778602, 0.73785295, 0.76557371,\n",
      "       0.47723895]), 0.7801026149022635, 0.8754238281996365, 0.8674919090079302)\n",
      "train: {'mIoU': 0.8345812460968576, 'F1': 0.9090236066805953, 'OA': 0.9101058428104107}\n",
      "{'ImSurf': 0.8504576837061893, 'Building': 0.9274280009006284, 'LowVeg': 0.8002752846938673, 'Tree': 0.7998383136629104, 'Car': 0.7949069475206919, 'Clutter': 0.6389378093708737}\n",
      "val: {'mIoU': 0.7801026149022635, 'F1': 0.8754238281996365, 'OA': 0.8674919090079302}\n",
      "{'ImSurf': 0.7721770404375083, 'Building': 0.8871233552204718, 'LowVeg': 0.7377860160426714, 'Tree': 0.737852948807778, 'Car': 0.7655737140028882, 'Clutter': 0.4772389478414158}\n",
      "Epoch 13: loss: 53.6475, train accuracy: 0.9101, valid accuracy:0.8675\n",
      "Start epoch #14, learning rate for this epoch: [0.00021599999999999996]\n"
     ]
    },
    {
     "name": "stderr",
     "output_type": "stream",
     "text": [
      "100%|██████████| 624/624 [04:17<00:00,  2.42it/s]\n"
     ]
    },
    {
     "name": "stdout",
     "output_type": "stream",
     "text": [
      "Done epoch #14, time for this epoch: 257.34535455703735s\n"
     ]
    },
    {
     "name": "stderr",
     "output_type": "stream",
     "text": [
      "100%|██████████| 175/175 [00:37<00:00,  4.70it/s]\n"
     ]
    },
    {
     "name": "stdout",
     "output_type": "stream",
     "text": [
      "(array([0.77336577, 0.88869518, 0.73070066, 0.71685048, 0.77471586,\n",
      "       0.49098772]), 0.7768655895653452, 0.87316056863408, 0.8649893909243481)\n",
      "train: {'mIoU': 0.83989974050284, 'F1': 0.9122539854805751, 'OA': 0.9126326487614558}\n",
      "{'ImSurf': 0.8548438188517521, 'Building': 0.9285554641059096, 'LowVeg': 0.8062538612482554, 'Tree': 0.8036004061133176, 'Car': 0.8062451521949648, 'Clutter': 0.6390837150955679}\n",
      "val: {'mIoU': 0.7768655895653452, 'F1': 0.87316056863408, 'OA': 0.8649893909243481}\n",
      "{'ImSurf': 0.7733657714703317, 'Building': 0.8886951838147975, 'LowVeg': 0.7307006550769103, 'Tree': 0.7168504811699989, 'Car': 0.7747158562946879, 'Clutter': 0.49098772473524566}\n",
      "Epoch 14: loss: 52.7444, train accuracy: 0.9126, valid accuracy:0.8650\n",
      "Start epoch #15, learning rate for this epoch: [0.00021599999999999996]\n"
     ]
    },
    {
     "name": "stderr",
     "output_type": "stream",
     "text": [
      "100%|██████████| 624/624 [04:16<00:00,  2.44it/s]\n"
     ]
    },
    {
     "name": "stdout",
     "output_type": "stream",
     "text": [
      "Done epoch #15, time for this epoch: 256.15393924713135s\n"
     ]
    },
    {
     "name": "stderr",
     "output_type": "stream",
     "text": [
      "100%|██████████| 175/175 [00:36<00:00,  4.79it/s]\n"
     ]
    },
    {
     "name": "stdout",
     "output_type": "stream",
     "text": [
      "(array([0.75720523, 0.87389335, 0.7233153 , 0.73105617, 0.75859132,\n",
      "       0.49807477]), 0.7688122753264708, 0.868268157547399, 0.8603348358877253)\n",
      "train: {'mIoU': 0.8415909090486346, 'F1': 0.9132358725036674, 'OA': 0.9143750300774207}\n",
      "{'ImSurf': 0.8581670049845622, 'Building': 0.9307613116146233, 'LowVeg': 0.8065882081123259, 'Tree': 0.805574982439793, 'Car': 0.8068630380918689, 'Clutter': 0.6572608416507896}\n",
      "val: {'mIoU': 0.7688122753264708, 'F1': 0.868268157547399, 'OA': 0.8603348358877253}\n",
      "{'ImSurf': 0.7572052304302226, 'Building': 0.8738933521669463, 'LowVeg': 0.7233153021523788, 'Tree': 0.7310561693470813, 'Car': 0.7585913225357254, 'Clutter': 0.4980747655983222}\n",
      "Epoch 15: loss: 52.1090, train accuracy: 0.9144, valid accuracy:0.8603\n",
      "Start epoch #16, learning rate for this epoch: [0.00021599999999999996]\n"
     ]
    },
    {
     "name": "stderr",
     "output_type": "stream",
     "text": [
      "100%|██████████| 624/624 [04:13<00:00,  2.46it/s]\n"
     ]
    },
    {
     "name": "stdout",
     "output_type": "stream",
     "text": [
      "Done epoch #16, time for this epoch: 253.91220593452454s\n"
     ]
    },
    {
     "name": "stderr",
     "output_type": "stream",
     "text": [
      "100%|██████████| 175/175 [00:37<00:00,  4.72it/s]\n"
     ]
    },
    {
     "name": "stdout",
     "output_type": "stream",
     "text": [
      "(array([0.77608724, 0.87574846, 0.73835725, 0.74005327, 0.76495859,\n",
      "       0.49299   ]), 0.7790409620121556, 0.8749230971814667, 0.8669251868473224)\n",
      "train: {'mIoU': 0.8478402961506539, 'F1': 0.9169860133944538, 'OA': 0.9178845515617957}\n",
      "{'ImSurf': 0.8626455877916994, 'Building': 0.9330183441324094, 'LowVeg': 0.8167113129748099, 'Tree': 0.8119915530401074, 'Car': 0.8148346828142435, 'Clutter': 0.67078216935297}\n",
      "val: {'mIoU': 0.7790409620121556, 'F1': 0.8749230971814667, 'OA': 0.8669251868473224}\n",
      "{'ImSurf': 0.776087241460137, 'Building': 0.8757484565048615, 'LowVeg': 0.7383572544506892, 'Tree': 0.7400532706242902, 'Car': 0.7649585870207999, 'Clutter': 0.4929900030907829}\n",
      "Epoch 16: loss: 50.7672, train accuracy: 0.9179, valid accuracy:0.8669\n",
      "Start epoch #17, learning rate for this epoch: [0.00012959999999999998]\n"
     ]
    },
    {
     "name": "stderr",
     "output_type": "stream",
     "text": [
      "100%|██████████| 624/624 [04:12<00:00,  2.47it/s]\n"
     ]
    },
    {
     "name": "stdout",
     "output_type": "stream",
     "text": [
      "Done epoch #17, time for this epoch: 252.780264377594s\n"
     ]
    },
    {
     "name": "stderr",
     "output_type": "stream",
     "text": [
      "100%|██████████| 175/175 [00:36<00:00,  4.79it/s]\n"
     ]
    },
    {
     "name": "stdout",
     "output_type": "stream",
     "text": [
      "(array([0.77409565, 0.88841375, 0.73664562, 0.73424794, 0.76460256,\n",
      "       0.49934121]), 0.7796011044701431, 0.8750584729613895, 0.8688014154372588)\n",
      "train: {'mIoU': 0.849212216204301, 'F1': 0.9178110455121138, 'OA': 0.9199407987105541}\n",
      "{'ImSurf': 0.8657721266447903, 'Building': 0.931814976002911, 'LowVeg': 0.8223389443395054, 'Tree': 0.8169726327947953, 'Car': 0.8091624012395039, 'Clutter': 0.6824830740240718}\n",
      "val: {'mIoU': 0.7796011044701431, 'F1': 0.8750584729613895, 'OA': 0.8688014154372588}\n",
      "{'ImSurf': 0.7740956490998224, 'Building': 0.8884137486064894, 'LowVeg': 0.7366456194897488, 'Tree': 0.7342479407893937, 'Car': 0.7646025643652606, 'Clutter': 0.499341211616523}\n",
      "Epoch 17: loss: 50.3043, train accuracy: 0.9199, valid accuracy:0.8688\n",
      "Start epoch #18, learning rate for this epoch: [0.00012959999999999998]\n"
     ]
    },
    {
     "name": "stderr",
     "output_type": "stream",
     "text": [
      "100%|██████████| 624/624 [04:17<00:00,  2.42it/s]\n"
     ]
    },
    {
     "name": "stdout",
     "output_type": "stream",
     "text": [
      "Done epoch #18, time for this epoch: 257.3933615684509s\n"
     ]
    },
    {
     "name": "stderr",
     "output_type": "stream",
     "text": [
      "100%|██████████| 175/175 [00:36<00:00,  4.81it/s]\n"
     ]
    },
    {
     "name": "stdout",
     "output_type": "stream",
     "text": [
      "(array([0.77925967, 0.88796899, 0.73676942, 0.73206539, 0.7832029 ,\n",
      "       0.49033658]), 0.7838532738514354, 0.8777532050502469, 0.8688534355300497)\n",
      "train: {'mIoU': 0.8564867712395502, 'F1': 0.9220845030179626, 'OA': 0.9232620337070563}\n",
      "{'ImSurf': 0.8742690982381477, 'Building': 0.9368209344845929, 'LowVeg': 0.8243378030047686, 'Tree': 0.8203571666945897, 'Car': 0.8266488537756523, 'Clutter': 0.7005746532282415}\n",
      "val: {'mIoU': 0.7838532738514354, 'F1': 0.8777532050502469, 'OA': 0.8688534355300497}\n",
      "{'ImSurf': 0.7792596679446425, 'Building': 0.8879689925923878, 'LowVeg': 0.7367694184568346, 'Tree': 0.7320653927114493, 'Car': 0.7832028975518633, 'Clutter': 0.4903365814690605}\n",
      "Epoch 18: loss: 48.9669, train accuracy: 0.9233, valid accuracy:0.8689\n",
      "Start epoch #19, learning rate for this epoch: [0.00012959999999999998]\n"
     ]
    },
    {
     "name": "stderr",
     "output_type": "stream",
     "text": [
      "100%|██████████| 624/624 [04:16<00:00,  2.43it/s]\n"
     ]
    },
    {
     "name": "stdout",
     "output_type": "stream",
     "text": [
      "Done epoch #19, time for this epoch: 256.562885761261s\n"
     ]
    },
    {
     "name": "stderr",
     "output_type": "stream",
     "text": [
      "100%|██████████| 175/175 [00:35<00:00,  4.94it/s]\n"
     ]
    },
    {
     "name": "stdout",
     "output_type": "stream",
     "text": [
      "(array([0.77304361, 0.89597579, 0.73351208, 0.73533892, 0.76652221,\n",
      "       0.4853967 ]), 0.7808785217567239, 0.8757445055932317, 0.8690824049972237)\n",
      "train: {'mIoU': 0.8554549321546897, 'F1': 0.921502054723409, 'OA': 0.9227606944548779}\n",
      "{'ImSurf': 0.8712661878917978, 'Building': 0.9354805643885324, 'LowVeg': 0.8246912977326333, 'Tree': 0.8231718115389218, 'Car': 0.8226647992215628, 'Clutter': 0.691531721001512}\n",
      "val: {'mIoU': 0.7808785217567239, 'F1': 0.8757445055932317, 'OA': 0.8690824049972237}\n",
      "{'ImSurf': 0.773043611476339, 'Building': 0.8959757870219056, 'LowVeg': 0.7335120802920135, 'Tree': 0.7353389223609783, 'Car': 0.7665222076323832, 'Clutter': 0.4853966995819052}\n",
      "Epoch 19: loss: 49.4203, train accuracy: 0.9228, valid accuracy:0.8691\n",
      "Start epoch #20, learning rate for this epoch: [0.00012959999999999998]\n"
     ]
    },
    {
     "name": "stderr",
     "output_type": "stream",
     "text": [
      "100%|██████████| 624/624 [04:15<00:00,  2.44it/s]\n"
     ]
    },
    {
     "name": "stdout",
     "output_type": "stream",
     "text": [
      "Done epoch #20, time for this epoch: 255.29373931884766s\n"
     ]
    },
    {
     "name": "stderr",
     "output_type": "stream",
     "text": [
      "100%|██████████| 175/175 [00:35<00:00,  4.90it/s]\n"
     ]
    },
    {
     "name": "stdout",
     "output_type": "stream",
     "text": [
      "(array([0.7871382 , 0.88711772, 0.74110914, 0.73630024, 0.78181603,\n",
      "       0.50974142]), 0.7866962650165025, 0.8796114295498001, 0.8721128136497217)\n",
      "train: {'mIoU': 0.858594712013808, 'F1': 0.9233350451256438, 'OA': 0.925356265826103}\n",
      "{'ImSurf': 0.8755358054642122, 'Building': 0.9373945268055549, 'LowVeg': 0.8289535661215637, 'Tree': 0.8263346697202749, 'Car': 0.8247549919574348, 'Clutter': 0.7083808022793578}\n",
      "val: {'mIoU': 0.7866962650165025, 'F1': 0.8796114295498001, 'OA': 0.8721128136497217}\n",
      "{'ImSurf': 0.7871381952564364, 'Building': 0.8871177221771129, 'LowVeg': 0.7411091352720982, 'Tree': 0.7363002438757363, 'Car': 0.7818160285011287, 'Clutter': 0.5097414173458322}\n",
      "Epoch 20: loss: 48.5520, train accuracy: 0.9254, valid accuracy:0.8721\n",
      "Start epoch #21, learning rate for this epoch: [7.775999999999999e-05]\n"
     ]
    },
    {
     "name": "stderr",
     "output_type": "stream",
     "text": [
      "100%|██████████| 624/624 [04:13<00:00,  2.46it/s]\n"
     ]
    },
    {
     "name": "stdout",
     "output_type": "stream",
     "text": [
      "Done epoch #21, time for this epoch: 253.52451181411743s\n"
     ]
    },
    {
     "name": "stderr",
     "output_type": "stream",
     "text": [
      "100%|██████████| 175/175 [00:35<00:00,  4.86it/s]\n"
     ]
    },
    {
     "name": "stdout",
     "output_type": "stream",
     "text": [
      "(array([0.78335602, 0.89131025, 0.73949188, 0.73676115, 0.77689973,\n",
      "       0.48028265]), 0.7855638066938304, 0.8788330385258517, 0.8716518623916175)\n",
      "train: {'mIoU': 0.8659215243096439, 'F1': 0.9275892178249799, 'OA': 0.928778425241128}\n",
      "{'ImSurf': 0.8847128758302472, 'Building': 0.941983086723732, 'LowVeg': 0.8358322336238804, 'Tree': 0.829157513156517, 'Car': 0.8379219122138425, 'Clutter': 0.7106723415434053}\n",
      "val: {'mIoU': 0.7855638066938304, 'F1': 0.8788330385258517, 'OA': 0.8716518623916175}\n",
      "{'ImSurf': 0.7833560187094626, 'Building': 0.8913102521611265, 'LowVeg': 0.7394918817290768, 'Tree': 0.7367611530068112, 'Car': 0.7768997278626754, 'Clutter': 0.48028265252347957}\n",
      "Epoch 21: loss: 47.4587, train accuracy: 0.9288, valid accuracy:0.8717\n",
      "Start epoch #22, learning rate for this epoch: [7.775999999999999e-05]\n"
     ]
    },
    {
     "name": "stderr",
     "output_type": "stream",
     "text": [
      "100%|██████████| 624/624 [04:13<00:00,  2.46it/s]\n"
     ]
    },
    {
     "name": "stdout",
     "output_type": "stream",
     "text": [
      "Done epoch #22, time for this epoch: 253.83161044120789s\n"
     ]
    },
    {
     "name": "stderr",
     "output_type": "stream",
     "text": [
      "100%|██████████| 175/175 [00:36<00:00,  4.79it/s]\n"
     ]
    },
    {
     "name": "stdout",
     "output_type": "stream",
     "text": [
      "(array([0.78175329, 0.89668455, 0.74455926, 0.73473992, 0.7775106 ,\n",
      "       0.51611842]), 0.7870495242545534, 0.8797075004774972, 0.8730066194007143)\n",
      "train: {'mIoU': 0.862280191360903, 'F1': 0.9255054495707563, 'OA': 0.9265262499833719}\n",
      "{'ImSurf': 0.8781099881990815, 'Building': 0.9386910734359433, 'LowVeg': 0.8327855039674141, 'Tree': 0.8284187738001554, 'Car': 0.8333956174019204, 'Clutter': 0.7114036356304212}\n",
      "val: {'mIoU': 0.7870495242545534, 'F1': 0.8797075004774972, 'OA': 0.8730066194007143}\n",
      "{'ImSurf': 0.7817532941276782, 'Building': 0.8966845487283357, 'LowVeg': 0.7445592623058618, 'Tree': 0.7347399183961325, 'Car': 0.7775105977147595, 'Clutter': 0.5161184225818298}\n",
      "Epoch 22: loss: 47.9948, train accuracy: 0.9265, valid accuracy:0.8730\n",
      "Start epoch #23, learning rate for this epoch: [7.775999999999999e-05]\n"
     ]
    },
    {
     "name": "stderr",
     "output_type": "stream",
     "text": [
      "100%|██████████| 624/624 [04:12<00:00,  2.47it/s]\n"
     ]
    },
    {
     "name": "stdout",
     "output_type": "stream",
     "text": [
      "Done epoch #23, time for this epoch: 252.5070345401764s\n"
     ]
    },
    {
     "name": "stderr",
     "output_type": "stream",
     "text": [
      "100%|██████████| 175/175 [00:35<00:00,  4.91it/s]\n"
     ]
    },
    {
     "name": "stdout",
     "output_type": "stream",
     "text": [
      "(array([0.78977166, 0.89670163, 0.74847144, 0.73660827, 0.77621984,\n",
      "       0.50240743]), 0.7895545673266049, 0.88131273917325, 0.8749713664934604)\n",
      "train: {'mIoU': 0.8660788261607818, 'F1': 0.9276989024927514, 'OA': 0.9286101781404935}\n",
      "{'ImSurf': 0.8820850522135024, 'Building': 0.9417212520289638, 'LowVeg': 0.8369175530753871, 'Tree': 0.8283272882529724, 'Car': 0.8413429852330839, 'Clutter': 0.7229062007699316}\n",
      "val: {'mIoU': 0.7895545673266049, 'F1': 0.88131273917325, 'OA': 0.8749713664934604}\n",
      "{'ImSurf': 0.7897716606656632, 'Building': 0.8967016281319032, 'LowVeg': 0.7484714417473579, 'Tree': 0.7366082656193437, 'Car': 0.7762198404687565, 'Clutter': 0.502407431663157}\n",
      "Epoch 23: loss: 47.1453, train accuracy: 0.9286, valid accuracy:0.8750\n",
      "Start epoch #24, learning rate for this epoch: [7.775999999999999e-05]\n"
     ]
    },
    {
     "name": "stderr",
     "output_type": "stream",
     "text": [
      "100%|██████████| 624/624 [04:12<00:00,  2.47it/s]\n"
     ]
    },
    {
     "name": "stdout",
     "output_type": "stream",
     "text": [
      "Done epoch #24, time for this epoch: 252.37604928016663s\n"
     ]
    },
    {
     "name": "stderr",
     "output_type": "stream",
     "text": [
      "100%|██████████| 175/175 [00:35<00:00,  4.91it/s]\n"
     ]
    },
    {
     "name": "stdout",
     "output_type": "stream",
     "text": [
      "(array([0.79107223, 0.89054676, 0.75322373, 0.73666418, 0.79055595,\n",
      "       0.51896012]), 0.7924125695243841, 0.8832190124567105, 0.8756183040972159)\n",
      "train: {'mIoU': 0.8667242971483473, 'F1': 0.9280764179998634, 'OA': 0.9290440510480832}\n",
      "{'ImSurf': 0.883830915151266, 'Building': 0.9415735685539751, 'LowVeg': 0.8385125080087692, 'Tree': 0.8306935793984372, 'Car': 0.8390109146292895, 'Clutter': 0.7173895587360245}\n",
      "val: {'mIoU': 0.7924125695243841, 'F1': 0.8832190124567105, 'OA': 0.8756183040972159}\n",
      "{'ImSurf': 0.7910722301115634, 'Building': 0.8905467619527714, 'LowVeg': 0.7532237309667552, 'Tree': 0.7366641781078088, 'Car': 0.7905559464830221, 'Clutter': 0.5189601167227429}\n",
      "Epoch 24: loss: 47.1867, train accuracy: 0.9290, valid accuracy:0.8756\n",
      "Start epoch #25, learning rate for this epoch: [4.665599999999999e-05]\n"
     ]
    },
    {
     "name": "stderr",
     "output_type": "stream",
     "text": [
      "100%|██████████| 624/624 [04:13<00:00,  2.46it/s]\n"
     ]
    },
    {
     "name": "stdout",
     "output_type": "stream",
     "text": [
      "Done epoch #25, time for this epoch: 253.28551268577576s\n"
     ]
    },
    {
     "name": "stderr",
     "output_type": "stream",
     "text": [
      "100%|██████████| 175/175 [00:37<00:00,  4.70it/s]\n"
     ]
    },
    {
     "name": "stdout",
     "output_type": "stream",
     "text": [
      "(array([0.79166217, 0.893576  , 0.74229658, 0.74056082, 0.78573896,\n",
      "       0.51337749]), 0.7907669086077179, 0.8821131661049396, 0.8749056978355784)\n",
      "train: {'mIoU': 0.8707068623173511, 'F1': 0.9303877437620104, 'OA': 0.9311641118465326}\n",
      "{'ImSurf': 0.8864977919037863, 'Building': 0.9437992035486326, 'LowVeg': 0.8398744147799969, 'Tree': 0.8355756652250916, 'Car': 0.8477872361292479, 'Clutter': 0.7293165915564248}\n",
      "val: {'mIoU': 0.7907669086077179, 'F1': 0.8821131661049396, 'OA': 0.8749056978355784}\n",
      "{'ImSurf': 0.791662169222119, 'Building': 0.893576003083031, 'LowVeg': 0.7422965832595702, 'Tree': 0.7405608246684041, 'Car': 0.7857389628054654, 'Clutter': 0.513377485527}\n",
      "Epoch 25: loss: 46.1133, train accuracy: 0.9312, valid accuracy:0.8749\n",
      "Start epoch #26, learning rate for this epoch: [4.665599999999999e-05]\n"
     ]
    },
    {
     "name": "stderr",
     "output_type": "stream",
     "text": [
      "100%|██████████| 624/624 [04:13<00:00,  2.46it/s]\n"
     ]
    },
    {
     "name": "stdout",
     "output_type": "stream",
     "text": [
      "Done epoch #26, time for this epoch: 253.97043776512146s\n"
     ]
    },
    {
     "name": "stderr",
     "output_type": "stream",
     "text": [
      "100%|██████████| 175/175 [00:36<00:00,  4.85it/s]\n"
     ]
    },
    {
     "name": "stdout",
     "output_type": "stream",
     "text": [
      "(array([0.78965406, 0.88938302, 0.74990821, 0.73822568, 0.77957969,\n",
      "       0.51989669]), 0.7893501308289422, 0.8813084830993867, 0.8750710908406428)\n",
      "train: {'mIoU': 0.8717565280731463, 'F1': 0.930995187058684, 'OA': 0.9323754707972208}\n",
      "{'ImSurf': 0.8875741235344077, 'Building': 0.9445605667003756, 'LowVeg': 0.8440425526544004, 'Tree': 0.8387055637358226, 'Car': 0.8438998337407256, 'Clutter': 0.7350335714877118}\n",
      "val: {'mIoU': 0.7893501308289422, 'F1': 0.8813084830993867, 'OA': 0.8750710908406428}\n",
      "{'ImSurf': 0.7896540562713101, 'Building': 0.8893830160397181, 'LowVeg': 0.7499082109351676, 'Tree': 0.7382256817302846, 'Car': 0.7795796891682304, 'Clutter': 0.5198966873770962}\n",
      "Epoch 26: loss: 45.8295, train accuracy: 0.9324, valid accuracy:0.8751\n",
      "Start epoch #27, learning rate for this epoch: [4.665599999999999e-05]\n"
     ]
    },
    {
     "name": "stderr",
     "output_type": "stream",
     "text": [
      "100%|██████████| 624/624 [04:14<00:00,  2.45it/s]\n"
     ]
    },
    {
     "name": "stdout",
     "output_type": "stream",
     "text": [
      "Done epoch #27, time for this epoch: 254.2423198223114s\n"
     ]
    },
    {
     "name": "stderr",
     "output_type": "stream",
     "text": [
      "100%|██████████| 175/175 [00:36<00:00,  4.83it/s]\n"
     ]
    },
    {
     "name": "stdout",
     "output_type": "stream",
     "text": [
      "(array([0.80092719, 0.89729708, 0.74629015, 0.74159605, 0.79446191,\n",
      "       0.52351372]), 0.7961144750546928, 0.8854265103049335, 0.8785381549909143)\n",
      "train: {'mIoU': 0.8716633737889742, 'F1': 0.93096060123114, 'OA': 0.9323965647281744}\n",
      "{'ImSurf': 0.888521776866896, 'Building': 0.942428997304909, 'LowVeg': 0.8439814854192037, 'Tree': 0.8392184322873664, 'Car': 0.8441661770664963, 'Clutter': 0.736751501304668}\n",
      "val: {'mIoU': 0.7961144750546928, 'F1': 0.8854265103049335, 'OA': 0.8785381549909143}\n",
      "{'ImSurf': 0.800927187167548, 'Building': 0.8972970755879066, 'LowVeg': 0.7462901472396128, 'Tree': 0.7415960531412228, 'Car': 0.7944619121371739, 'Clutter': 0.5235137172323854}\n",
      "Epoch 27: loss: 45.9435, train accuracy: 0.9324, valid accuracy:0.8785\n",
      "Start epoch #28, learning rate for this epoch: [4.665599999999999e-05]\n"
     ]
    },
    {
     "name": "stderr",
     "output_type": "stream",
     "text": [
      "100%|██████████| 624/624 [04:13<00:00,  2.46it/s]\n"
     ]
    },
    {
     "name": "stdout",
     "output_type": "stream",
     "text": [
      "Done epoch #28, time for this epoch: 253.51494884490967s\n"
     ]
    },
    {
     "name": "stderr",
     "output_type": "stream",
     "text": [
      "100%|██████████| 175/175 [00:36<00:00,  4.84it/s]\n"
     ]
    },
    {
     "name": "stdout",
     "output_type": "stream",
     "text": [
      "(array([0.79142078, 0.89611303, 0.74680896, 0.73687097, 0.77990128,\n",
      "       0.50690643]), 0.7902230036024436, 0.8817359076226958, 0.8751986819210448)\n",
      "train: {'mIoU': 0.8730828089079126, 'F1': 0.9317703159170805, 'OA': 0.9333762908593203}\n",
      "{'ImSurf': 0.8906335970510162, 'Building': 0.943608781965058, 'LowVeg': 0.84589632909471, 'Tree': 0.8405863333158158, 'Car': 0.8446890031129626, 'Clutter': 0.7376791698571241}\n",
      "val: {'mIoU': 0.7902230036024436, 'F1': 0.8817359076226958, 'OA': 0.8751986819210448}\n",
      "{'ImSurf': 0.7914207829846486, 'Building': 0.8961130273607942, 'LowVeg': 0.7468089551193017, 'Tree': 0.7368709709562591, 'Car': 0.7799012815912142, 'Clutter': 0.5069064266952361}\n",
      "Epoch 28: loss: 45.6635, train accuracy: 0.9334, valid accuracy:0.8752\n",
      "Start epoch #29, learning rate for this epoch: [2.7993599999999992e-05]\n"
     ]
    },
    {
     "name": "stderr",
     "output_type": "stream",
     "text": [
      "100%|██████████| 624/624 [04:13<00:00,  2.46it/s]\n"
     ]
    },
    {
     "name": "stdout",
     "output_type": "stream",
     "text": [
      "Done epoch #29, time for this epoch: 253.17106199264526s\n"
     ]
    },
    {
     "name": "stderr",
     "output_type": "stream",
     "text": [
      "100%|██████████| 175/175 [00:35<00:00,  4.90it/s]\n"
     ]
    },
    {
     "name": "stdout",
     "output_type": "stream",
     "text": [
      "(array([0.79234764, 0.89183303, 0.75227067, 0.73691669, 0.79382703,\n",
      "       0.51149048]), 0.7934390120580385, 0.8838385423897102, 0.8758746035562858)\n",
      "train: {'mIoU': 0.8717898570426806, 'F1': 0.9310279397771705, 'OA': 0.933016816775004}\n",
      "{'ImSurf': 0.8891535604884289, 'Building': 0.9427277972281812, 'LowVeg': 0.8443711293549412, 'Tree': 0.839096972731416, 'Car': 0.8435998254104359, 'Clutter': 0.7534001146882433}\n",
      "val: {'mIoU': 0.7934390120580385, 'F1': 0.8838385423897102, 'OA': 0.8758746035562858}\n",
      "{'ImSurf': 0.7923476385037104, 'Building': 0.8918330334001815, 'LowVeg': 0.7522706663643156, 'Tree': 0.7369166906107864, 'Car': 0.7938270314111983, 'Clutter': 0.5114904751206588}\n",
      "Epoch 29: loss: 45.5848, train accuracy: 0.9330, valid accuracy:0.8759\n",
      "Start epoch #30, learning rate for this epoch: [2.7993599999999992e-05]\n"
     ]
    },
    {
     "name": "stderr",
     "output_type": "stream",
     "text": [
      "100%|██████████| 624/624 [04:15<00:00,  2.44it/s]\n"
     ]
    },
    {
     "name": "stdout",
     "output_type": "stream",
     "text": [
      "Done epoch #30, time for this epoch: 255.731196641922s\n"
     ]
    },
    {
     "name": "stderr",
     "output_type": "stream",
     "text": [
      "100%|██████████| 175/175 [00:36<00:00,  4.84it/s]\n"
     ]
    },
    {
     "name": "stdout",
     "output_type": "stream",
     "text": [
      "(array([0.79305408, 0.90062207, 0.74685358, 0.73563478, 0.77687079,\n",
      "       0.50269501]), 0.7906070602112807, 0.8818983136991925, 0.8760668117197313)\n",
      "train: {'mIoU': 0.8714349162253072, 'F1': 0.9308021422195176, 'OA': 0.9325274137350229}\n",
      "{'ImSurf': 0.8871969151668548, 'Building': 0.944995914056405, 'LowVeg': 0.8434237489353836, 'Tree': 0.8377542453086335, 'Car': 0.8438037576592592, 'Clutter': 0.7427591128810481}\n",
      "val: {'mIoU': 0.7906070602112807, 'F1': 0.8818983136991925, 'OA': 0.8760668117197313}\n",
      "{'ImSurf': 0.7930540768094323, 'Building': 0.9006220705955141, 'LowVeg': 0.7468535771075971, 'Tree': 0.7356347833821497, 'Car': 0.7768707931617105, 'Clutter': 0.5026950103875778}\n",
      "Epoch 30: loss: 45.7529, train accuracy: 0.9325, valid accuracy:0.8761\n",
      "Start epoch #31, learning rate for this epoch: [2.7993599999999992e-05]\n"
     ]
    },
    {
     "name": "stderr",
     "output_type": "stream",
     "text": [
      "100%|██████████| 624/624 [04:17<00:00,  2.43it/s]\n"
     ]
    },
    {
     "name": "stdout",
     "output_type": "stream",
     "text": [
      "Done epoch #31, time for this epoch: 257.0799732208252s\n"
     ]
    },
    {
     "name": "stderr",
     "output_type": "stream",
     "text": [
      "100%|██████████| 175/175 [00:36<00:00,  4.86it/s]\n"
     ]
    },
    {
     "name": "stdout",
     "output_type": "stream",
     "text": [
      "(array([0.78569324, 0.89205587, 0.75008035, 0.7374267 , 0.78222673,\n",
      "       0.51374942]), 0.7894965789005517, 0.881362303554661, 0.8741380810652031)\n",
      "train: {'mIoU': 0.8730222692647865, 'F1': 0.931771651755278, 'OA': 0.9324368452414488}\n",
      "{'ImSurf': 0.8877939240717829, 'Building': 0.9415751412372592, 'LowVeg': 0.8452003472678884, 'Tree': 0.8402366858122707, 'Car': 0.850305247934732, 'Clutter': 0.7367371082375596}\n",
      "val: {'mIoU': 0.7894965789005517, 'F1': 0.881362303554661, 'OA': 0.8741380810652031}\n",
      "{'ImSurf': 0.7856932440454405, 'Building': 0.8920558745950289, 'LowVeg': 0.7500803472875973, 'Tree': 0.7374267006691958, 'Car': 0.7822267279054961, 'Clutter': 0.5137494248518147}\n",
      "Epoch 31: loss: 46.0621, train accuracy: 0.9324, valid accuracy:0.8741\n",
      "Start epoch #32, learning rate for this epoch: [2.7993599999999992e-05]\n"
     ]
    },
    {
     "name": "stderr",
     "output_type": "stream",
     "text": [
      "100%|██████████| 624/624 [04:16<00:00,  2.43it/s]\n"
     ]
    },
    {
     "name": "stdout",
     "output_type": "stream",
     "text": [
      "Done epoch #32, time for this epoch: 256.5293323993683s\n"
     ]
    },
    {
     "name": "stderr",
     "output_type": "stream",
     "text": [
      "100%|██████████| 175/175 [00:36<00:00,  4.81it/s]\n"
     ]
    },
    {
     "name": "stdout",
     "output_type": "stream",
     "text": [
      "(array([0.78881945, 0.89636143, 0.74837592, 0.74194095, 0.77618372,\n",
      "       0.52556913]), 0.7903362934310921, 0.8818439918881312, 0.875606879174752)\n",
      "train: {'mIoU': 0.8738285253223879, 'F1': 0.932215992343232, 'OA': 0.933629803168468}\n",
      "{'ImSurf': 0.8897563794696804, 'Building': 0.9430895533952186, 'LowVeg': 0.8464283073683943, 'Tree': 0.8389764134799987, 'Car': 0.8508919728986469, 'Clutter': 0.7559934530218914}\n",
      "val: {'mIoU': 0.7903362934310921, 'F1': 0.8818439918881312, 'OA': 0.875606879174752}\n",
      "{'ImSurf': 0.788819449114086, 'Building': 0.8963614305570072, 'LowVeg': 0.7483759170954956, 'Tree': 0.7419409526878025, 'Car': 0.7761837177010693, 'Clutter': 0.5255691262746521}\n",
      "Epoch 32: loss: 45.2978, train accuracy: 0.9336, valid accuracy:0.8756\n",
      "Start epoch #33, learning rate for this epoch: [1.6796159999999994e-05]\n"
     ]
    },
    {
     "name": "stderr",
     "output_type": "stream",
     "text": [
      "100%|██████████| 624/624 [04:16<00:00,  2.43it/s]\n"
     ]
    },
    {
     "name": "stdout",
     "output_type": "stream",
     "text": [
      "Done epoch #33, time for this epoch: 256.9429841041565s\n"
     ]
    },
    {
     "name": "stderr",
     "output_type": "stream",
     "text": [
      "100%|██████████| 175/175 [00:36<00:00,  4.84it/s]\n"
     ]
    },
    {
     "name": "stdout",
     "output_type": "stream",
     "text": [
      "(array([0.79585548, 0.89408433, 0.74410492, 0.74369352, 0.78122371,\n",
      "       0.51647708]), 0.7917923930234035, 0.8827742596738603, 0.8759203689695687)\n",
      "train: {'mIoU': 0.8744164719625024, 'F1': 0.9325174035877722, 'OA': 0.9341830137448434}\n",
      "{'ImSurf': 0.8926836129891806, 'Building': 0.9453830845162204, 'LowVeg': 0.8457642030144109, 'Tree': 0.8377833258208286, 'Car': 0.8504681334718713, 'Clutter': 0.7600577077471626}\n",
      "val: {'mIoU': 0.7917923930234035, 'F1': 0.8827742596738603, 'OA': 0.8759203689695687}\n",
      "{'ImSurf': 0.7958554752478224, 'Building': 0.89408433478042, 'LowVeg': 0.744104924460355, 'Tree': 0.7436935182834596, 'Car': 0.7812237123449607, 'Clutter': 0.516477083229849}\n",
      "Epoch 33: loss: 45.0987, train accuracy: 0.9342, valid accuracy:0.8759\n",
      "Start epoch #34, learning rate for this epoch: [1.6796159999999994e-05]\n"
     ]
    },
    {
     "name": "stderr",
     "output_type": "stream",
     "text": [
      "100%|██████████| 624/624 [04:13<00:00,  2.47it/s]\n"
     ]
    },
    {
     "name": "stdout",
     "output_type": "stream",
     "text": [
      "Done epoch #34, time for this epoch: 253.04874277114868s\n"
     ]
    },
    {
     "name": "stderr",
     "output_type": "stream",
     "text": [
      "100%|██████████| 175/175 [00:36<00:00,  4.85it/s]\n"
     ]
    },
    {
     "name": "stdout",
     "output_type": "stream",
     "text": [
      "(array([0.78347523, 0.8908298 , 0.74148907, 0.74540997, 0.7769522 ,\n",
      "       0.51245178]), 0.7876312547916099, 0.8802059004902476, 0.8729235559423791)\n",
      "train: {'mIoU': 0.8753393060970257, 'F1': 0.9330849520512334, 'OA': 0.9341848905269916}\n",
      "{'ImSurf': 0.8917219491573721, 'Building': 0.9438655553250526, 'LowVeg': 0.847133334255419, 'Tree': 0.8425527404424868, 'Car': 0.8514229513047982, 'Clutter': 0.7463066405659448}\n",
      "val: {'mIoU': 0.7876312547916099, 'F1': 0.8802059004902476, 'OA': 0.8729235559423791}\n",
      "{'ImSurf': 0.7834752338100783, 'Building': 0.890829798670984, 'LowVeg': 0.7414890671754346, 'Tree': 0.7454099726306538, 'Car': 0.7769522016708986, 'Clutter': 0.5124517815930691}\n",
      "Epoch 34: loss: 45.2426, train accuracy: 0.9342, valid accuracy:0.8729\n",
      "Start epoch #35, learning rate for this epoch: [1.6796159999999994e-05]\n"
     ]
    },
    {
     "name": "stderr",
     "output_type": "stream",
     "text": [
      "100%|██████████| 624/624 [04:12<00:00,  2.47it/s]\n"
     ]
    },
    {
     "name": "stdout",
     "output_type": "stream",
     "text": [
      "Done epoch #35, time for this epoch: 252.4995276927948s\n"
     ]
    },
    {
     "name": "stderr",
     "output_type": "stream",
     "text": [
      "100%|██████████| 175/175 [00:36<00:00,  4.83it/s]\n"
     ]
    },
    {
     "name": "stdout",
     "output_type": "stream",
     "text": [
      "(array([0.79377256, 0.90128923, 0.74329143, 0.73283449, 0.78163776,\n",
      "       0.52938897]), 0.7905650923552489, 0.8818235109228685, 0.8761876332871106)\n",
      "train: {'mIoU': 0.8759838529364948, 'F1': 0.9334127547071855, 'OA': 0.9352127924943582}\n",
      "{'ImSurf': 0.8929415521054994, 'Building': 0.9475354785466041, 'LowVeg': 0.8497627576579564, 'Tree': 0.8407060045935889, 'Car': 0.8489734717788254, 'Clutter': 0.7548068508057999}\n",
      "val: {'mIoU': 0.7905650923552489, 'F1': 0.8818235109228685, 'OA': 0.8761876332871106}\n",
      "{'ImSurf': 0.7937725590980579, 'Building': 0.9012892314416047, 'LowVeg': 0.7432914275081809, 'Tree': 0.7328344864879854, 'Car': 0.7816377572404153, 'Clutter': 0.5293889662832971}\n",
      "Epoch 35: loss: 44.8011, train accuracy: 0.9352, valid accuracy:0.8762\n",
      "Start epoch #36, learning rate for this epoch: [1.6796159999999994e-05]\n"
     ]
    },
    {
     "name": "stderr",
     "output_type": "stream",
     "text": [
      "100%|██████████| 624/624 [04:11<00:00,  2.48it/s]\n"
     ]
    },
    {
     "name": "stdout",
     "output_type": "stream",
     "text": [
      "Done epoch #36, time for this epoch: 251.8116545677185s\n"
     ]
    },
    {
     "name": "stderr",
     "output_type": "stream",
     "text": [
      "100%|██████████| 175/175 [00:36<00:00,  4.84it/s]\n"
     ]
    },
    {
     "name": "stdout",
     "output_type": "stream",
     "text": [
      "(array([0.79112998, 0.89722738, 0.74158501, 0.73869173, 0.78389131,\n",
      "       0.52908949]), 0.7905050834776856, 0.8818805301986181, 0.8750753847712333)\n",
      "train: {'mIoU': 0.8746641081924063, 'F1': 0.932688534718024, 'OA': 0.934631469922188}\n",
      "{'ImSurf': 0.8919122796090782, 'Building': 0.9437045137701396, 'LowVeg': 0.8500656862584495, 'Tree': 0.8398849882336485, 'Car': 0.8477530730907159, 'Clutter': 0.7542381070491583}\n",
      "val: {'mIoU': 0.7905050834776856, 'F1': 0.8818805301986181, 'OA': 0.8750753847712333}\n",
      "{'ImSurf': 0.7911299839483116, 'Building': 0.8972273834349327, 'LowVeg': 0.741585011311718, 'Tree': 0.7386917327158263, 'Car': 0.7838913059776392, 'Clutter': 0.5290894939095651}\n",
      "Epoch 36: loss: 45.2289, train accuracy: 0.9346, valid accuracy:0.8751\n",
      "Start epoch #37, learning rate for this epoch: [1.0077695999999996e-05]\n"
     ]
    },
    {
     "name": "stderr",
     "output_type": "stream",
     "text": [
      "100%|██████████| 624/624 [04:14<00:00,  2.45it/s]\n"
     ]
    },
    {
     "name": "stdout",
     "output_type": "stream",
     "text": [
      "Done epoch #37, time for this epoch: 254.62741041183472s\n"
     ]
    },
    {
     "name": "stderr",
     "output_type": "stream",
     "text": [
      "100%|██████████| 175/175 [00:36<00:00,  4.80it/s]\n"
     ]
    },
    {
     "name": "stdout",
     "output_type": "stream",
     "text": [
      "(array([0.79300368, 0.89726249, 0.74807782, 0.7381595 , 0.77529889,\n",
      "       0.53974197]), 0.7903604773125483, 0.8818151713331757, 0.8767165206613423)\n",
      "train: {'mIoU': 0.8732073587256105, 'F1': 0.9318309824334128, 'OA': 0.9337391883899004}\n",
      "{'ImSurf': 0.890631126230337, 'Building': 0.9447358324192991, 'LowVeg': 0.8441114665609332, 'Tree': 0.8419321671788351, 'Car': 0.8446262012386482, 'Clutter': 0.7495144707806601}\n",
      "val: {'mIoU': 0.7903604773125483, 'F1': 0.8818151713331757, 'OA': 0.8767165206613423}\n",
      "{'ImSurf': 0.7930036817502868, 'Building': 0.8972624914267799, 'LowVeg': 0.7480778239332814, 'Tree': 0.7381594960323364, 'Car': 0.7752988934200566, 'Clutter': 0.5397419671005159}\n",
      "Epoch 37: loss: 45.2213, train accuracy: 0.9337, valid accuracy:0.8767\n",
      "Start epoch #38, learning rate for this epoch: [1.0077695999999996e-05]\n"
     ]
    },
    {
     "name": "stderr",
     "output_type": "stream",
     "text": [
      "100%|██████████| 624/624 [04:12<00:00,  2.47it/s]\n"
     ]
    },
    {
     "name": "stdout",
     "output_type": "stream",
     "text": [
      "Done epoch #38, time for this epoch: 252.60871148109436s\n"
     ]
    },
    {
     "name": "stderr",
     "output_type": "stream",
     "text": [
      "100%|██████████| 175/175 [00:35<00:00,  4.92it/s]\n"
     ]
    },
    {
     "name": "stdout",
     "output_type": "stream",
     "text": [
      "(array([0.79359588, 0.8923442 , 0.74835463, 0.73421543, 0.77980342,\n",
      "       0.52776878]), 0.7896627119792816, 0.8814239776208783, 0.8756160147311612)\n",
      "train: {'mIoU': 0.8762180264363735, 'F1': 0.9335699518521683, 'OA': 0.9348394809625088}\n",
      "{'ImSurf': 0.8948971464117447, 'Building': 0.9449052114213169, 'LowVeg': 0.8487046603928451, 'Tree': 0.8418378978334814, 'Car': 0.8507452161224799, 'Clutter': 0.747155335926157}\n",
      "val: {'mIoU': 0.7896627119792816, 'F1': 0.8814239776208783, 'OA': 0.8756160147311612}\n",
      "{'ImSurf': 0.7935958776773722, 'Building': 0.8923441989504401, 'LowVeg': 0.74835463437514, 'Tree': 0.7342154301167321, 'Car': 0.7798034187767239, 'Clutter': 0.5277687773660852}\n",
      "Epoch 38: loss: 44.9770, train accuracy: 0.9348, valid accuracy:0.8756\n",
      "Start epoch #39, learning rate for this epoch: [1.0077695999999996e-05]\n"
     ]
    },
    {
     "name": "stderr",
     "output_type": "stream",
     "text": [
      "100%|██████████| 624/624 [04:12<00:00,  2.47it/s]\n"
     ]
    },
    {
     "name": "stdout",
     "output_type": "stream",
     "text": [
      "Done epoch #39, time for this epoch: 252.76863074302673s\n"
     ]
    },
    {
     "name": "stderr",
     "output_type": "stream",
     "text": [
      "100%|██████████| 175/175 [00:36<00:00,  4.84it/s]\n"
     ]
    },
    {
     "name": "stdout",
     "output_type": "stream",
     "text": [
      "(array([0.80244054, 0.90056975, 0.74973917, 0.73473338, 0.78911927,\n",
      "       0.51262798]), 0.7953204215679689, 0.8848532889516557, 0.8788125941159479)\n",
      "train: {'mIoU': 0.8763927964969909, 'F1': 0.9336822768739583, 'OA': 0.9351174953656319}\n",
      "{'ImSurf': 0.892163205841087, 'Building': 0.9452641607956578, 'LowVeg': 0.8506662101444977, 'Tree': 0.8417020659113237, 'Car': 0.8521683397923879, 'Clutter': 0.7598326356149555}\n",
      "val: {'mIoU': 0.7953204215679689, 'F1': 0.8848532889516557, 'OA': 0.8788125941159479}\n",
      "{'ImSurf': 0.8024405394930263, 'Building': 0.9005697473486703, 'LowVeg': 0.7497391699519053, 'Tree': 0.7347333814546104, 'Car': 0.7891192695916321, 'Clutter': 0.5126279757477478}\n",
      "Epoch 39: loss: 44.6782, train accuracy: 0.9351, valid accuracy:0.8788\n",
      "Start epoch #40, learning rate for this epoch: [1.0077695999999996e-05]\n"
     ]
    },
    {
     "name": "stderr",
     "output_type": "stream",
     "text": [
      "100%|██████████| 624/624 [04:14<00:00,  2.45it/s]\n"
     ]
    },
    {
     "name": "stdout",
     "output_type": "stream",
     "text": [
      "Done epoch #40, time for this epoch: 254.49179887771606s\n"
     ]
    },
    {
     "name": "stderr",
     "output_type": "stream",
     "text": [
      "100%|██████████| 175/175 [00:36<00:00,  4.85it/s]\n"
     ]
    },
    {
     "name": "stdout",
     "output_type": "stream",
     "text": [
      "(array([0.79366197, 0.89918108, 0.74891541, 0.74231067, 0.78506512,\n",
      "       0.52320254]), 0.7938268496501365, 0.8840006260744824, 0.8781928112416153)\n",
      "train: {'mIoU': 0.8769419325926299, 'F1': 0.9339906542009357, 'OA': 0.9361193210650713}\n",
      "{'ImSurf': 0.8933451344416188, 'Building': 0.9459956418192375, 'LowVeg': 0.8527610753735809, 'Tree': 0.8440658231308003, 'Car': 0.8485419881979119, 'Clutter': 0.7607260679919603}\n",
      "val: {'mIoU': 0.7938268496501365, 'F1': 0.8840006260744824, 'OA': 0.8781928112416153}\n",
      "{'ImSurf': 0.7936619670740789, 'Building': 0.8991810822717642, 'LowVeg': 0.7489154071050329, 'Tree': 0.7423106703883285, 'Car': 0.7850651214114782, 'Clutter': 0.5232025447779136}\n",
      "Epoch 40: loss: 44.6427, train accuracy: 0.9361, valid accuracy:0.8782\n",
      "Start epoch #41, learning rate for this epoch: [6.046617599999998e-06]\n"
     ]
    },
    {
     "name": "stderr",
     "output_type": "stream",
     "text": [
      "100%|██████████| 624/624 [04:13<00:00,  2.46it/s]\n"
     ]
    },
    {
     "name": "stdout",
     "output_type": "stream",
     "text": [
      "Done epoch #41, time for this epoch: 253.29091215133667s\n"
     ]
    },
    {
     "name": "stderr",
     "output_type": "stream",
     "text": [
      "100%|██████████| 175/175 [00:36<00:00,  4.81it/s]\n"
     ]
    },
    {
     "name": "stdout",
     "output_type": "stream",
     "text": [
      "(array([0.78230053, 0.88863824, 0.7394979 , 0.73446859, 0.77654   ,\n",
      "       0.49569608]), 0.7842890502124307, 0.8780517825486006, 0.8707302556308326)\n",
      "train: {'mIoU': 0.8761792442948815, 'F1': 0.9335527234920397, 'OA': 0.9351833080634092}\n",
      "{'ImSurf': 0.892482439262864, 'Building': 0.9456311564292055, 'LowVeg': 0.8491167458558513, 'Tree': 0.8425039975098206, 'Car': 0.8511618824166663, 'Clutter': 0.7663478639782821}\n",
      "val: {'mIoU': 0.7842890502124307, 'F1': 0.8780517825486006, 'OA': 0.8707302556308326}\n",
      "{'ImSurf': 0.7823005276220858, 'Building': 0.8886382445959508, 'LowVeg': 0.7394978965577924, 'Tree': 0.7344685851834681, 'Car': 0.7765399971028563, 'Clutter': 0.49569607881966427}\n",
      "Epoch 41: loss: 44.9139, train accuracy: 0.9352, valid accuracy:0.8707\n",
      "Start epoch #42, learning rate for this epoch: [6.046617599999998e-06]\n"
     ]
    },
    {
     "name": "stderr",
     "output_type": "stream",
     "text": [
      "100%|██████████| 624/624 [04:12<00:00,  2.48it/s]\n"
     ]
    },
    {
     "name": "stdout",
     "output_type": "stream",
     "text": [
      "Done epoch #42, time for this epoch: 252.0418939590454s\n"
     ]
    },
    {
     "name": "stderr",
     "output_type": "stream",
     "text": [
      "100%|██████████| 175/175 [00:36<00:00,  4.85it/s]\n"
     ]
    },
    {
     "name": "stdout",
     "output_type": "stream",
     "text": [
      "(array([0.80081113, 0.90046475, 0.74924934, 0.73086375, 0.79574205,\n",
      "       0.52082582]), 0.7954262027042446, 0.8848858907523377, 0.8778743812358386)\n",
      "train: {'mIoU': 0.87836495561546, 'F1': 0.9348077175764157, 'OA': 0.9362436349575336}\n",
      "{'ImSurf': 0.8947350649836001, 'Building': 0.9466385806305936, 'LowVeg': 0.8514686762741482, 'Tree': 0.8450765165581597, 'Car': 0.853905939630798, 'Clutter': 0.75621922848714}\n",
      "val: {'mIoU': 0.7954262027042446, 'F1': 0.8848858907523377, 'OA': 0.8778743812358386}\n",
      "{'ImSurf': 0.8008111284327963, 'Building': 0.9004647483575601, 'LowVeg': 0.7492493375460825, 'Tree': 0.7308637512502338, 'Car': 0.79574204793455, 'Clutter': 0.520825822176036}\n",
      "Epoch 42: loss: 44.4725, train accuracy: 0.9362, valid accuracy:0.8779\n",
      "Start epoch #43, learning rate for this epoch: [6.046617599999998e-06]\n"
     ]
    },
    {
     "name": "stderr",
     "output_type": "stream",
     "text": [
      "100%|██████████| 624/624 [04:14<00:00,  2.45it/s]\n"
     ]
    },
    {
     "name": "stdout",
     "output_type": "stream",
     "text": [
      "Done epoch #43, time for this epoch: 254.9927351474762s\n"
     ]
    },
    {
     "name": "stderr",
     "output_type": "stream",
     "text": [
      "100%|██████████| 175/175 [00:35<00:00,  4.97it/s]\n"
     ]
    },
    {
     "name": "stdout",
     "output_type": "stream",
     "text": [
      "(array([0.79426227, 0.89952531, 0.74176423, 0.73639334, 0.78729868,\n",
      "       0.52322051]), 0.7918487684907167, 0.8826720377785833, 0.8757923506868885)\n",
      "train: {'mIoU': 0.8751595278006933, 'F1': 0.9329555727144921, 'OA': 0.9345127680362799}\n",
      "{'ImSurf': 0.8916966953429476, 'Building': 0.9459383652339707, 'LowVeg': 0.8475675509744084, 'Tree': 0.8409770801002352, 'Car': 0.8496179473519044, 'Clutter': 0.7519973600602703}\n",
      "val: {'mIoU': 0.7918487684907167, 'F1': 0.8826720377785833, 'OA': 0.8757923506868885}\n",
      "{'ImSurf': 0.7942622742656705, 'Building': 0.899525312321426, 'LowVeg': 0.7417642322667523, 'Tree': 0.7363933405700916, 'Car': 0.7872986830296429, 'Clutter': 0.5232205101628269}\n",
      "Epoch 43: loss: 45.0517, train accuracy: 0.9345, valid accuracy:0.8758\n",
      "Start epoch #44, learning rate for this epoch: [6.046617599999998e-06]\n"
     ]
    },
    {
     "name": "stderr",
     "output_type": "stream",
     "text": [
      "100%|██████████| 624/624 [04:14<00:00,  2.45it/s]\n"
     ]
    },
    {
     "name": "stdout",
     "output_type": "stream",
     "text": [
      "Done epoch #44, time for this epoch: 254.61890697479248s\n"
     ]
    },
    {
     "name": "stderr",
     "output_type": "stream",
     "text": [
      "100%|██████████| 175/175 [00:35<00:00,  4.91it/s]\n"
     ]
    },
    {
     "name": "stdout",
     "output_type": "stream",
     "text": [
      "(array([0.78968994, 0.88923106, 0.74552633, 0.73115175, 0.78125487,\n",
      "       0.53806344]), 0.7873707910951346, 0.8799931711912103, 0.8739187181723348)\n",
      "train: {'mIoU': 0.8772460551903098, 'F1': 0.9341824053765192, 'OA': 0.935113054055434}\n",
      "{'ImSurf': 0.8931077801948762, 'Building': 0.9447917866072013, 'LowVeg': 0.8485791962658291, 'Tree': 0.8446900618815362, 'Car': 0.8550614510021062, 'Clutter': 0.7485444299642884}\n",
      "val: {'mIoU': 0.7873707910951346, 'F1': 0.8799931711912103, 'OA': 0.8739187181723348}\n",
      "{'ImSurf': 0.7896899424904473, 'Building': 0.8892310563426865, 'LowVeg': 0.7455263298739445, 'Tree': 0.7311517549560249, 'Car': 0.7812548718125701, 'Clutter': 0.5380634413233335}\n",
      "Epoch 44: loss: 45.0832, train accuracy: 0.9351, valid accuracy:0.8739\n",
      "Start epoch #45, learning rate for this epoch: [3.6279705599999985e-06]\n"
     ]
    },
    {
     "name": "stderr",
     "output_type": "stream",
     "text": [
      "100%|██████████| 624/624 [04:15<00:00,  2.44it/s]\n"
     ]
    },
    {
     "name": "stdout",
     "output_type": "stream",
     "text": [
      "Done epoch #45, time for this epoch: 255.82845783233643s\n"
     ]
    },
    {
     "name": "stderr",
     "output_type": "stream",
     "text": [
      "100%|██████████| 175/175 [00:35<00:00,  4.87it/s]\n"
     ]
    },
    {
     "name": "stdout",
     "output_type": "stream",
     "text": [
      "(array([0.80072511, 0.89720189, 0.75824474, 0.73888645, 0.79138651,\n",
      "       0.53451401]), 0.7972889396534498, 0.8862078335648376, 0.8799559845825107)\n",
      "train: {'mIoU': 0.877502428985451, 'F1': 0.9343269821840158, 'OA': 0.9358628866000053}\n",
      "{'ImSurf': 0.8940855442408666, 'Building': 0.9449250747830866, 'LowVeg': 0.851578171058501, 'Tree': 0.8448771212105316, 'Car': 0.8520462336342697, 'Clutter': 0.7584971238121361}\n",
      "val: {'mIoU': 0.7972889396534498, 'F1': 0.8862078335648376, 'OA': 0.8799559845825107}\n",
      "{'ImSurf': 0.8007251064971007, 'Building': 0.8972018875567539, 'LowVeg': 0.7582447435808749, 'Tree': 0.7388864548944192, 'Car': 0.7913865057381007, 'Clutter': 0.5345140060350214}\n",
      "Epoch 45: loss: 44.5690, train accuracy: 0.9359, valid accuracy:0.8800\n",
      "Start epoch #46, learning rate for this epoch: [3.6279705599999985e-06]\n"
     ]
    },
    {
     "name": "stderr",
     "output_type": "stream",
     "text": [
      "100%|██████████| 624/624 [04:14<00:00,  2.45it/s]\n"
     ]
    },
    {
     "name": "stdout",
     "output_type": "stream",
     "text": [
      "Done epoch #46, time for this epoch: 254.37815475463867s\n"
     ]
    },
    {
     "name": "stderr",
     "output_type": "stream",
     "text": [
      "100%|██████████| 175/175 [00:35<00:00,  4.94it/s]\n"
     ]
    },
    {
     "name": "stdout",
     "output_type": "stream",
     "text": [
      "(array([0.79805019, 0.90063258, 0.74849892, 0.73965602, 0.79088725,\n",
      "       0.52710932]), 0.7955449927011282, 0.8850294063212655, 0.8781624470181543)\n",
      "train: {'mIoU': 0.8753086443751645, 'F1': 0.9330525626223019, 'OA': 0.9346268452130831}\n",
      "{'ImSurf': 0.8908506246219057, 'Building': 0.9456603806052915, 'LowVeg': 0.8458710377273946, 'Tree': 0.8443707520294073, 'Car': 0.8497904268918239, 'Clutter': 0.7610998166430343}\n",
      "val: {'mIoU': 0.7955449927011282, 'F1': 0.8850294063212655, 'OA': 0.8781624470181543}\n",
      "{'ImSurf': 0.798050194022483, 'Building': 0.9006325823707783, 'LowVeg': 0.7484989201478511, 'Tree': 0.739656016825924, 'Car': 0.7908872501386048, 'Clutter': 0.5271093204459024}\n",
      "Epoch 46: loss: 44.9948, train accuracy: 0.9346, valid accuracy:0.8782\n",
      "Start epoch #47, learning rate for this epoch: [3.6279705599999985e-06]\n"
     ]
    },
    {
     "name": "stderr",
     "output_type": "stream",
     "text": [
      "100%|██████████| 624/624 [04:12<00:00,  2.47it/s]\n"
     ]
    },
    {
     "name": "stdout",
     "output_type": "stream",
     "text": [
      "Done epoch #47, time for this epoch: 252.21383690834045s\n"
     ]
    },
    {
     "name": "stderr",
     "output_type": "stream",
     "text": [
      "100%|██████████| 175/175 [00:35<00:00,  4.92it/s]\n"
     ]
    },
    {
     "name": "stdout",
     "output_type": "stream",
     "text": [
      "(array([0.79602851, 0.89715833, 0.75116177, 0.73755597, 0.79147704,\n",
      "       0.53375072]), 0.7946763258309076, 0.8845370884009676, 0.8777522890155295)\n",
      "train: {'mIoU': 0.8775599095096893, 'F1': 0.9343369089525646, 'OA': 0.9362856913835574}\n",
      "{'ImSurf': 0.8937274108505211, 'Building': 0.9471857216199778, 'LowVeg': 0.8521759283237151, 'Tree': 0.8444884098127887, 'Car': 0.8502220769414441, 'Clutter': 0.7646846427499495}\n",
      "val: {'mIoU': 0.7946763258309076, 'F1': 0.8845370884009676, 'OA': 0.8777522890155295}\n",
      "{'ImSurf': 0.7960285134312316, 'Building': 0.8971583342495479, 'LowVeg': 0.7511617708869811, 'Tree': 0.7375559664743857, 'Car': 0.7914770441123915, 'Clutter': 0.5337507195590506}\n",
      "Epoch 47: loss: 44.3904, train accuracy: 0.9363, valid accuracy:0.8778\n",
      "Start epoch #48, learning rate for this epoch: [3.6279705599999985e-06]\n"
     ]
    },
    {
     "name": "stderr",
     "output_type": "stream",
     "text": [
      "100%|██████████| 624/624 [04:12<00:00,  2.47it/s]\n"
     ]
    },
    {
     "name": "stdout",
     "output_type": "stream",
     "text": [
      "Done epoch #48, time for this epoch: 252.760906457901s\n"
     ]
    },
    {
     "name": "stderr",
     "output_type": "stream",
     "text": [
      "100%|██████████| 175/175 [00:36<00:00,  4.81it/s]\n"
     ]
    },
    {
     "name": "stdout",
     "output_type": "stream",
     "text": [
      "(array([0.78680896, 0.89441846, 0.74670166, 0.73494385, 0.78799805,\n",
      "       0.52422304]), 0.7901741946366698, 0.8817186917327137, 0.8739622051734677)\n",
      "train: {'mIoU': 0.8769392231956242, 'F1': 0.9340030485258669, 'OA': 0.9354650332377508}\n",
      "{'ImSurf': 0.8918656768018568, 'Building': 0.9455361633443604, 'LowVeg': 0.8508721233904887, 'Tree': 0.8450452911967165, 'Car': 0.8513768612446985, 'Clutter': 0.749901513612961}\n",
      "val: {'mIoU': 0.7901741946366698, 'F1': 0.8817186917327137, 'OA': 0.8739622051734677}\n",
      "{'ImSurf': 0.7868089583724569, 'Building': 0.8944184597368048, 'LowVeg': 0.7467016586886176, 'Tree': 0.7349438484440459, 'Car': 0.7879980479414235, 'Clutter': 0.5242230371314488}\n",
      "Epoch 48: loss: 44.8706, train accuracy: 0.9355, valid accuracy:0.8740\n",
      "Start epoch #49, learning rate for this epoch: [2.176782335999999e-06]\n"
     ]
    },
    {
     "name": "stderr",
     "output_type": "stream",
     "text": [
      "100%|██████████| 624/624 [04:13<00:00,  2.47it/s]\n"
     ]
    },
    {
     "name": "stdout",
     "output_type": "stream",
     "text": [
      "Done epoch #49, time for this epoch: 253.08578538894653s\n"
     ]
    },
    {
     "name": "stderr",
     "output_type": "stream",
     "text": [
      "100%|██████████| 175/175 [00:36<00:00,  4.74it/s]\n"
     ]
    },
    {
     "name": "stdout",
     "output_type": "stream",
     "text": [
      "(array([0.79350525, 0.89331053, 0.74747852, 0.73600214, 0.79631638,\n",
      "       0.51743855]), 0.7933225626450066, 0.8837092769404423, 0.8756219188857232)\n",
      "train: {'mIoU': 0.8763328447426749, 'F1': 0.933655633735832, 'OA': 0.9349542092054318}\n",
      "{'ImSurf': 0.8936199903630276, 'Building': 0.9440846476354807, 'LowVeg': 0.8480883974064076, 'Tree': 0.8451261068915773, 'Car': 0.8507450814168812, 'Clutter': 0.7482960528658564}\n",
      "val: {'mIoU': 0.7933225626450066, 'F1': 0.8837092769404423, 'OA': 0.8756219188857232}\n",
      "{'ImSurf': 0.7935052496162147, 'Building': 0.893310533085632, 'LowVeg': 0.7474785159587412, 'Tree': 0.7360021374773142, 'Car': 0.7963163770871307, 'Clutter': 0.5174385473955548}\n",
      "Epoch 49: loss: 44.7687, train accuracy: 0.9350, valid accuracy:0.8756\n",
      "Start epoch #50, learning rate for this epoch: [2.176782335999999e-06]\n"
     ]
    },
    {
     "name": "stderr",
     "output_type": "stream",
     "text": [
      "100%|██████████| 624/624 [04:13<00:00,  2.47it/s]\n"
     ]
    },
    {
     "name": "stdout",
     "output_type": "stream",
     "text": [
      "Done epoch #50, time for this epoch: 253.0517349243164s\n"
     ]
    },
    {
     "name": "stderr",
     "output_type": "stream",
     "text": [
      "100%|██████████| 175/175 [00:35<00:00,  4.89it/s]\n"
     ]
    },
    {
     "name": "stdout",
     "output_type": "stream",
     "text": [
      "(array([0.78636004, 0.89542117, 0.74378558, 0.73167964, 0.7777017 ,\n",
      "       0.53755889]), 0.7869896248640609, 0.8796608456462709, 0.8741434156167275)\n",
      "train: {'mIoU': 0.8782727879165216, 'F1': 0.9347209029055484, 'OA': 0.9369947635210477}\n",
      "{'ImSurf': 0.8961800450158675, 'Building': 0.9489423790176171, 'LowVeg': 0.8512814701877043, 'Tree': 0.8458904055633288, 'Car': 0.8490696397980908, 'Clutter': 0.7645373432873582}\n",
      "val: {'mIoU': 0.7869896248640609, 'F1': 0.8796608456462709, 'OA': 0.8741434156167275}\n",
      "{'ImSurf': 0.7863600403596167, 'Building': 0.8954211662361903, 'LowVeg': 0.7437855800773433, 'Tree': 0.7316796411613676, 'Car': 0.7777016964857864, 'Clutter': 0.5375588883728981}\n",
      "Epoch 50: loss: 44.2227, train accuracy: 0.9370, valid accuracy:0.8741\n",
      "Start epoch #51, learning rate for this epoch: [2.176782335999999e-06]\n"
     ]
    },
    {
     "name": "stderr",
     "output_type": "stream",
     "text": [
      "100%|██████████| 624/624 [04:12<00:00,  2.47it/s]\n"
     ]
    },
    {
     "name": "stdout",
     "output_type": "stream",
     "text": [
      "Done epoch #51, time for this epoch: 252.55856609344482s\n"
     ]
    },
    {
     "name": "stderr",
     "output_type": "stream",
     "text": [
      "100%|██████████| 175/175 [00:35<00:00,  4.89it/s]\n"
     ]
    },
    {
     "name": "stdout",
     "output_type": "stream",
     "text": [
      "(array([0.80026761, 0.89537426, 0.74622168, 0.73827516, 0.78944558,\n",
      "       0.51881378]), 0.793916856760813, 0.8840586169296868, 0.8769479876187577)\n",
      "train: {'mIoU': 0.8753488564664625, 'F1': 0.9330797506040867, 'OA': 0.9349364042282104}\n",
      "{'ImSurf': 0.8922328566018433, 'Building': 0.944663549755575, 'LowVeg': 0.8484171947875049, 'Tree': 0.8428837033102965, 'Car': 0.8485469778770925, 'Clutter': 0.7633388926204234}\n",
      "val: {'mIoU': 0.793916856760813, 'F1': 0.8840586169296868, 'OA': 0.8769479876187577}\n",
      "{'ImSurf': 0.8002676060772772, 'Building': 0.8953742618510504, 'LowVeg': 0.7462216790575159, 'Tree': 0.738275161178553, 'Car': 0.7894455756396683, 'Clutter': 0.5188137786924559}\n",
      "Epoch 51: loss: 44.9143, train accuracy: 0.9349, valid accuracy:0.8769\n",
      "Start epoch #52, learning rate for this epoch: [2.176782335999999e-06]\n"
     ]
    },
    {
     "name": "stderr",
     "output_type": "stream",
     "text": [
      "100%|██████████| 624/624 [04:12<00:00,  2.47it/s]\n"
     ]
    },
    {
     "name": "stdout",
     "output_type": "stream",
     "text": [
      "Done epoch #52, time for this epoch: 252.1462574005127s\n"
     ]
    },
    {
     "name": "stderr",
     "output_type": "stream",
     "text": [
      "100%|██████████| 175/175 [00:36<00:00,  4.85it/s]\n"
     ]
    },
    {
     "name": "stdout",
     "output_type": "stream",
     "text": [
      "(array([0.79298312, 0.89842158, 0.75092777, 0.73540735, 0.79290243,\n",
      "       0.52410237]), 0.7941284516515978, 0.8841610685231386, 0.8771680953771367)\n",
      "train: {'mIoU': 0.8754185431440968, 'F1': 0.9331578680771184, 'OA': 0.9346907413922824}\n",
      "{'ImSurf': 0.8909108572481014, 'Building': 0.9419605579459408, 'LowVeg': 0.8513888512795631, 'Tree': 0.8440908934943133, 'Car': 0.8487415557525658, 'Clutter': 0.7508415266079213}\n",
      "val: {'mIoU': 0.7941284516515978, 'F1': 0.8841610685231386, 'OA': 0.8771680953771367}\n",
      "{'ImSurf': 0.7929831192546344, 'Building': 0.8984215846041087, 'LowVeg': 0.7509277711539614, 'Tree': 0.7354073528229494, 'Car': 0.7929024304223348, 'Clutter': 0.524102369330282}\n",
      "Epoch 52: loss: 45.1171, train accuracy: 0.9347, valid accuracy:0.8772\n",
      "Start epoch #53, learning rate for this epoch: [1.3060694015999993e-06]\n"
     ]
    },
    {
     "name": "stderr",
     "output_type": "stream",
     "text": [
      "100%|██████████| 624/624 [04:12<00:00,  2.47it/s]\n"
     ]
    },
    {
     "name": "stdout",
     "output_type": "stream",
     "text": [
      "Done epoch #53, time for this epoch: 252.7010898590088s\n"
     ]
    },
    {
     "name": "stderr",
     "output_type": "stream",
     "text": [
      "100%|██████████| 175/175 [00:35<00:00,  4.89it/s]\n"
     ]
    },
    {
     "name": "stdout",
     "output_type": "stream",
     "text": [
      "(array([0.78923038, 0.89333393, 0.74769982, 0.73471953, 0.78769303,\n",
      "       0.51480245]), 0.7905353403450116, 0.8819635124254457, 0.8746375900673847)\n",
      "train: {'mIoU': 0.8769703275777783, 'F1': 0.9340116729294399, 'OA': 0.9356392652560503}\n",
      "{'ImSurf': 0.893663570344993, 'Building': 0.945579724861475, 'LowVeg': 0.8502847297066707, 'Tree': 0.845308501855145, 'Car': 0.8500151111206078, 'Clutter': 0.7490028478929098}\n",
      "val: {'mIoU': 0.7905353403450116, 'F1': 0.8819635124254457, 'OA': 0.8746375900673847}\n",
      "{'ImSurf': 0.7892303838817394, 'Building': 0.8933339300752962, 'LowVeg': 0.7476998245776013, 'Tree': 0.7347195304261123, 'Car': 0.7876930327643088, 'Clutter': 0.5148024472143197}\n",
      "Epoch 53: loss: 44.8799, train accuracy: 0.9356, valid accuracy:0.8746\n",
      "Start epoch #54, learning rate for this epoch: [1.3060694015999993e-06]\n"
     ]
    },
    {
     "name": "stderr",
     "output_type": "stream",
     "text": [
      "100%|██████████| 624/624 [04:12<00:00,  2.47it/s]\n"
     ]
    },
    {
     "name": "stdout",
     "output_type": "stream",
     "text": [
      "Done epoch #54, time for this epoch: 252.53251242637634s\n"
     ]
    },
    {
     "name": "stderr",
     "output_type": "stream",
     "text": [
      "100%|██████████| 175/175 [00:35<00:00,  4.89it/s]\n"
     ]
    },
    {
     "name": "stdout",
     "output_type": "stream",
     "text": [
      "(array([0.79056475, 0.89606536, 0.74797755, 0.73619627, 0.78353997,\n",
      "       0.51244263]), 0.7908687816508249, 0.882145934711283, 0.8759431092754508)\n",
      "train: {'mIoU': 0.8787337791702441, 'F1': 0.9350054477136052, 'OA': 0.9371293905453805}\n",
      "{'ImSurf': 0.8958329433838975, 'Building': 0.9477521384985554, 'LowVeg': 0.8537299562218635, 'Tree': 0.846382761310046, 'Car': 0.8499710964368581, 'Clutter': 0.7678914037475137}\n",
      "val: {'mIoU': 0.7908687816508249, 'F1': 0.882145934711283, 'OA': 0.8759431092754508}\n",
      "{'ImSurf': 0.7905647546137288, 'Building': 0.8960653585023044, 'LowVeg': 0.7479775514366716, 'Tree': 0.7361962705689371, 'Car': 0.7835399731324825, 'Clutter': 0.5124426313840966}\n",
      "Epoch 54: loss: 44.3135, train accuracy: 0.9371, valid accuracy:0.8759\n",
      "Start epoch #55, learning rate for this epoch: [1.3060694015999993e-06]\n"
     ]
    },
    {
     "name": "stderr",
     "output_type": "stream",
     "text": [
      "100%|██████████| 624/624 [04:13<00:00,  2.46it/s]\n"
     ]
    },
    {
     "name": "stdout",
     "output_type": "stream",
     "text": [
      "Done epoch #55, time for this epoch: 253.96151995658875s\n"
     ]
    },
    {
     "name": "stderr",
     "output_type": "stream",
     "text": [
      "100%|██████████| 175/175 [00:35<00:00,  4.97it/s]\n"
     ]
    },
    {
     "name": "stdout",
     "output_type": "stream",
     "text": [
      "(array([0.79213869, 0.90122331, 0.74478488, 0.73923142, 0.79198121,\n",
      "       0.52766265]), 0.7938719012166278, 0.8839542368754459, 0.8761630527252612)\n",
      "train: {'mIoU': 0.8792085802445013, 'F1': 0.9352852162407244, 'OA': 0.936320213171152}\n",
      "{'ImSurf': 0.8962995069163929, 'Building': 0.9473377361206499, 'LowVeg': 0.8512439786693369, 'Tree': 0.8472889771034071, 'Car': 0.85387270241272, 'Clutter': 0.7496931970059604}\n",
      "val: {'mIoU': 0.7938719012166278, 'F1': 0.8839542368754459, 'OA': 0.8761630527252612}\n",
      "{'ImSurf': 0.7921386876595538, 'Building': 0.9012233124289499, 'LowVeg': 0.7447848831771994, 'Tree': 0.7392314168262426, 'Car': 0.791981205991193, 'Clutter': 0.5276626549837484}\n",
      "Epoch 55: loss: 44.4491, train accuracy: 0.9363, valid accuracy:0.8762\n",
      "Start epoch #56, learning rate for this epoch: [1.3060694015999993e-06]\n"
     ]
    },
    {
     "name": "stderr",
     "output_type": "stream",
     "text": [
      "100%|██████████| 624/624 [04:15<00:00,  2.44it/s]\n"
     ]
    },
    {
     "name": "stdout",
     "output_type": "stream",
     "text": [
      "Done epoch #56, time for this epoch: 255.8200511932373s\n"
     ]
    },
    {
     "name": "stderr",
     "output_type": "stream",
     "text": [
      "100%|██████████| 175/175 [00:36<00:00,  4.84it/s]\n"
     ]
    },
    {
     "name": "stdout",
     "output_type": "stream",
     "text": [
      "(array([0.79428697, 0.89667777, 0.74702267, 0.73694308, 0.78195437,\n",
      "       0.52502254]), 0.7913769729784859, 0.8824518976218372, 0.8765282887652547)\n",
      "train: {'mIoU': 0.8769819718363548, 'F1': 0.9339922942105641, 'OA': 0.9362598443642641}\n",
      "{'ImSurf': 0.8963519674281153, 'Building': 0.946092236035421, 'LowVeg': 0.8512753460408713, 'Tree': 0.8396356221415492, 'Car': 0.8515546875358173, 'Clutter': 0.7673524579214279}\n",
      "val: {'mIoU': 0.7913769729784859, 'F1': 0.8824518976218372, 'OA': 0.8765282887652547}\n",
      "{'ImSurf': 0.7942869726189151, 'Building': 0.8966777705620598, 'LowVeg': 0.7470226719701264, 'Tree': 0.7369430832316585, 'Car': 0.7819543665096694, 'Clutter': 0.5250225406408633}\n",
      "Epoch 56: loss: 44.5373, train accuracy: 0.9363, valid accuracy:0.8765\n",
      "Start epoch #57, learning rate for this epoch: [7.836416409599996e-07]\n"
     ]
    },
    {
     "name": "stderr",
     "output_type": "stream",
     "text": [
      "100%|██████████| 624/624 [04:15<00:00,  2.44it/s]\n"
     ]
    },
    {
     "name": "stdout",
     "output_type": "stream",
     "text": [
      "Done epoch #57, time for this epoch: 255.51156425476074s\n"
     ]
    },
    {
     "name": "stderr",
     "output_type": "stream",
     "text": [
      "100%|██████████| 175/175 [00:35<00:00,  4.94it/s]\n"
     ]
    },
    {
     "name": "stdout",
     "output_type": "stream",
     "text": [
      "(array([0.79325713, 0.89455822, 0.74968955, 0.74054508, 0.79364884,\n",
      "       0.52109308]), 0.7943397637493758, 0.8843770374096653, 0.8776221456753632)\n",
      "train: {'mIoU': 0.8772968938403652, 'F1': 0.9341800553537942, 'OA': 0.9355581265229446}\n",
      "{'ImSurf': 0.8926784850767574, 'Building': 0.947919735934777, 'LowVeg': 0.8485973551612123, 'Tree': 0.8444971915720043, 'Car': 0.8527917014570755, 'Clutter': 0.7572667624003003}\n",
      "val: {'mIoU': 0.7943397637493758, 'F1': 0.8843770374096653, 'OA': 0.8776221456753632}\n",
      "{'ImSurf': 0.793257128747867, 'Building': 0.8945582171879018, 'LowVeg': 0.7496895471815722, 'Tree': 0.7405450832814979, 'Car': 0.79364884234804, 'Clutter': 0.5210930825656621}\n",
      "Epoch 57: loss: 44.6349, train accuracy: 0.9356, valid accuracy:0.8776\n",
      "Start epoch #58, learning rate for this epoch: [7.836416409599996e-07]\n"
     ]
    },
    {
     "name": "stderr",
     "output_type": "stream",
     "text": [
      "100%|██████████| 624/624 [04:14<00:00,  2.45it/s]\n"
     ]
    },
    {
     "name": "stdout",
     "output_type": "stream",
     "text": [
      "Done epoch #58, time for this epoch: 254.40540599822998s\n"
     ]
    },
    {
     "name": "stderr",
     "output_type": "stream",
     "text": [
      "100%|██████████| 175/175 [00:36<00:00,  4.82it/s]\n"
     ]
    },
    {
     "name": "stdout",
     "output_type": "stream",
     "text": [
      "(array([0.7944778 , 0.90291443, 0.74795408, 0.73330122, 0.7821901 ,\n",
      "       0.55527722]), 0.7921675266548502, 0.8828346274536731, 0.877867228336156)\n",
      "train: {'mIoU': 0.8776584422063379, 'F1': 0.9343979887558789, 'OA': 0.9366614512908154}\n",
      "{'ImSurf': 0.8948859660189508, 'Building': 0.9463006941881559, 'LowVeg': 0.8533822457363088, 'Tree': 0.8448314506887655, 'Car': 0.8488918543995084, 'Clutter': 0.7643708852976946}\n",
      "val: {'mIoU': 0.7921675266548502, 'F1': 0.8828346274536731, 'OA': 0.877867228336156}\n",
      "{'ImSurf': 0.7944777999112668, 'Building': 0.9029144285863931, 'LowVeg': 0.7479540786088421, 'Tree': 0.7333012244353526, 'Car': 0.7821901017323969, 'Clutter': 0.555277218668449}\n",
      "Epoch 58: loss: 44.4992, train accuracy: 0.9367, valid accuracy:0.8779\n",
      "Start epoch #59, learning rate for this epoch: [7.836416409599996e-07]\n"
     ]
    },
    {
     "name": "stderr",
     "output_type": "stream",
     "text": [
      "100%|██████████| 624/624 [04:11<00:00,  2.48it/s]\n"
     ]
    },
    {
     "name": "stdout",
     "output_type": "stream",
     "text": [
      "Done epoch #59, time for this epoch: 251.6216959953308s\n"
     ]
    },
    {
     "name": "stderr",
     "output_type": "stream",
     "text": [
      "100%|██████████| 175/175 [00:36<00:00,  4.80it/s]\n"
     ]
    },
    {
     "name": "stdout",
     "output_type": "stream",
     "text": [
      "(array([0.7980244 , 0.90404115, 0.75711854, 0.7363824 , 0.79640149,\n",
      "       0.52702015]), 0.7983935946248424, 0.8867773122529752, 0.8800800375517374)\n",
      "train: {'mIoU': 0.8792105903132118, 'F1': 0.9353002166558971, 'OA': 0.9367259496297592}\n",
      "{'ImSurf': 0.8951816239574809, 'Building': 0.9462314540196175, 'LowVeg': 0.8540376764299599, 'Tree': 0.8437571249671801, 'Car': 0.8568450721918206, 'Clutter': 0.7683530827418027}\n",
      "val: {'mIoU': 0.7983935946248424, 'F1': 0.8867773122529752, 'OA': 0.8800800375517374}\n",
      "{'ImSurf': 0.7980244018281291, 'Building': 0.9040411451491784, 'LowVeg': 0.7571185375769153, 'Tree': 0.7363824024733383, 'Car': 0.7964014860966508, 'Clutter': 0.5270201466583766}\n",
      "Epoch 59: loss: 44.3460, train accuracy: 0.9367, valid accuracy:0.8801\n",
      "Start epoch #60, learning rate for this epoch: [7.836416409599996e-07]\n"
     ]
    },
    {
     "name": "stderr",
     "output_type": "stream",
     "text": [
      "100%|██████████| 624/624 [04:12<00:00,  2.47it/s]\n"
     ]
    },
    {
     "name": "stdout",
     "output_type": "stream",
     "text": [
      "Done epoch #60, time for this epoch: 252.85202026367188s\n"
     ]
    },
    {
     "name": "stderr",
     "output_type": "stream",
     "text": [
      "100%|██████████| 175/175 [00:35<00:00,  4.86it/s]\n"
     ]
    },
    {
     "name": "stdout",
     "output_type": "stream",
     "text": [
      "(array([0.79437513, 0.90161814, 0.75057081, 0.73505148, 0.80055137,\n",
      "       0.52519943]), 0.7964333862646161, 0.8855422189238501, 0.8774498078948031)\n",
      "train: {'mIoU': 0.8738565310635813, 'F1': 0.9322309552478233, 'OA': 0.9335018640909439}\n",
      "{'ImSurf': 0.8895737613063712, 'Building': 0.9436220200931109, 'LowVeg': 0.8464240552362767, 'Tree': 0.84226304174357, 'Car': 0.8473997769385785, 'Clutter': 0.7449098224402629}\n",
      "val: {'mIoU': 0.7964333862646161, 'F1': 0.8855422189238501, 'OA': 0.8774498078948031}\n",
      "{'ImSurf': 0.7943751319715627, 'Building': 0.9016181392792121, 'LowVeg': 0.7505708105574613, 'Tree': 0.7350514824499088, 'Car': 0.8005513670649358, 'Clutter': 0.5251994279669318}\n",
      "Epoch 60: loss: 45.5757, train accuracy: 0.9335, valid accuracy:0.8774\n",
      "Start epoch #61, learning rate for this epoch: [4.7018498457599973e-07]\n"
     ]
    },
    {
     "name": "stderr",
     "output_type": "stream",
     "text": [
      "100%|██████████| 624/624 [04:12<00:00,  2.47it/s]\n"
     ]
    },
    {
     "name": "stdout",
     "output_type": "stream",
     "text": [
      "Done epoch #61, time for this epoch: 252.27530121803284s\n"
     ]
    },
    {
     "name": "stderr",
     "output_type": "stream",
     "text": [
      "100%|██████████| 175/175 [00:36<00:00,  4.83it/s]\n"
     ]
    },
    {
     "name": "stdout",
     "output_type": "stream",
     "text": [
      "(array([0.78892597, 0.8974644 , 0.74732869, 0.7373705 , 0.78931251,\n",
      "       0.52441308]), 0.7920804147769097, 0.8828911053509806, 0.8758215757042745)\n",
      "train: {'mIoU': 0.8793319256745068, 'F1': 0.9353823244395629, 'OA': 0.9366363776035798}\n",
      "{'ImSurf': 0.893551019836099, 'Building': 0.9462821854067801, 'LowVeg': 0.8543981850628746, 'Tree': 0.847144188622284, 'Car': 0.8552840494444961, 'Clutter': 0.7616519515257496}\n",
      "val: {'mIoU': 0.7920804147769097, 'F1': 0.8828911053509806, 'OA': 0.8758215757042745}\n",
      "{'ImSurf': 0.7889259693209185, 'Building': 0.8974644041560067, 'LowVeg': 0.7473286910412212, 'Tree': 0.7373704997023326, 'Car': 0.7893125096640693, 'Clutter': 0.524413082705376}\n",
      "Epoch 61: loss: 44.1747, train accuracy: 0.9366, valid accuracy:0.8758\n",
      "Start epoch #62, learning rate for this epoch: [4.7018498457599973e-07]\n"
     ]
    },
    {
     "name": "stderr",
     "output_type": "stream",
     "text": [
      "100%|██████████| 624/624 [04:13<00:00,  2.46it/s]\n"
     ]
    },
    {
     "name": "stdout",
     "output_type": "stream",
     "text": [
      "Done epoch #62, time for this epoch: 253.1659984588623s\n"
     ]
    },
    {
     "name": "stderr",
     "output_type": "stream",
     "text": [
      "100%|██████████| 175/175 [00:35<00:00,  4.92it/s]\n"
     ]
    },
    {
     "name": "stdout",
     "output_type": "stream",
     "text": [
      "(array([0.79741889, 0.89783288, 0.75232986, 0.73629102, 0.77225904,\n",
      "       0.52310885]), 0.7912263410434484, 0.8823476605577133, 0.8773897914516778)\n",
      "train: {'mIoU': 0.8765490335604618, 'F1': 0.9337534492581305, 'OA': 0.9359195415790265}\n",
      "{'ImSurf': 0.8939335523310192, 'Building': 0.9464598143423303, 'LowVeg': 0.8501176456536381, 'Tree': 0.8449290335940317, 'Car': 0.8473051218812899, 'Clutter': 0.7640462735659194}\n",
      "val: {'mIoU': 0.7912263410434484, 'F1': 0.8823476605577133, 'OA': 0.8773897914516778}\n",
      "{'ImSurf': 0.7974188947838329, 'Building': 0.897832884276589, 'LowVeg': 0.7523298629036812, 'Tree': 0.7362910228137174, 'Car': 0.7722590404394215, 'Clutter': 0.5231088486569058}\n",
      "Epoch 62: loss: 44.5575, train accuracy: 0.9359, valid accuracy:0.8774\n",
      "Start epoch #63, learning rate for this epoch: [4.7018498457599973e-07]\n"
     ]
    },
    {
     "name": "stderr",
     "output_type": "stream",
     "text": [
      "100%|██████████| 624/624 [04:12<00:00,  2.47it/s]\n"
     ]
    },
    {
     "name": "stdout",
     "output_type": "stream",
     "text": [
      "Done epoch #63, time for this epoch: 252.1908016204834s\n"
     ]
    },
    {
     "name": "stderr",
     "output_type": "stream",
     "text": [
      "100%|██████████| 175/175 [00:36<00:00,  4.85it/s]\n"
     ]
    },
    {
     "name": "stdout",
     "output_type": "stream",
     "text": [
      "(array([0.78863596, 0.89913663, 0.74494178, 0.7367409 , 0.78405864,\n",
      "       0.5078718 ]), 0.7907027828766046, 0.8819855362137984, 0.8753065888349391)\n",
      "train: {'mIoU': 0.8786771431643249, 'F1': 0.934990927809006, 'OA': 0.9361277726980356}\n",
      "{'ImSurf': 0.8946464512908266, 'Building': 0.9465376477450894, 'LowVeg': 0.851121399411769, 'Tree': 0.8453780970790066, 'Car': 0.8557021202949329, 'Clutter': 0.7628558228088758}\n",
      "val: {'mIoU': 0.7907027828766046, 'F1': 0.8819855362137984, 'OA': 0.8753065888349391}\n",
      "{'ImSurf': 0.7886359642815034, 'Building': 0.8991366329380256, 'LowVeg': 0.7449417801640948, 'Tree': 0.7367408950803417, 'Car': 0.7840586419190575, 'Clutter': 0.507871800804417}\n",
      "Epoch 63: loss: 44.3167, train accuracy: 0.9361, valid accuracy:0.8753\n",
      "Start epoch #64, learning rate for this epoch: [4.7018498457599973e-07]\n"
     ]
    },
    {
     "name": "stderr",
     "output_type": "stream",
     "text": [
      "100%|██████████| 624/624 [04:13<00:00,  2.46it/s]\n"
     ]
    },
    {
     "name": "stdout",
     "output_type": "stream",
     "text": [
      "Done epoch #64, time for this epoch: 253.3364143371582s\n"
     ]
    },
    {
     "name": "stderr",
     "output_type": "stream",
     "text": [
      "100%|██████████| 175/175 [00:36<00:00,  4.80it/s]\n"
     ]
    },
    {
     "name": "stdout",
     "output_type": "stream",
     "text": [
      "(array([0.78882475, 0.8937718 , 0.74878236, 0.73569145, 0.78238884,\n",
      "       0.53106571]), 0.7898918411674984, 0.8815666012436673, 0.8749220081994794)\n",
      "train: {'mIoU': 0.8780648083372109, 'F1': 0.9346362926283256, 'OA': 0.9361762694823437}\n",
      "{'ImSurf': 0.89517938945916, 'Building': 0.9461889620891777, 'LowVeg': 0.8513460696411465, 'Tree': 0.8459815926109946, 'Car': 0.8516280278855758, 'Clutter': 0.750086324413295}\n",
      "val: {'mIoU': 0.7898918411674984, 'F1': 0.8815666012436673, 'OA': 0.8749220081994794}\n",
      "{'ImSurf': 0.7888247528056077, 'Building': 0.8937717993585306, 'LowVeg': 0.7487823641364534, 'Tree': 0.7356914495033621, 'Car': 0.7823888400335387, 'Clutter': 0.5310657114830635}\n",
      "Epoch 64: loss: 44.5725, train accuracy: 0.9362, valid accuracy:0.8749\n",
      "Start epoch #65, learning rate for this epoch: [2.821109907455998e-07]\n"
     ]
    },
    {
     "name": "stderr",
     "output_type": "stream",
     "text": [
      "100%|██████████| 624/624 [04:14<00:00,  2.46it/s]\n"
     ]
    },
    {
     "name": "stdout",
     "output_type": "stream",
     "text": [
      "Done epoch #65, time for this epoch: 254.0873785018921s\n"
     ]
    },
    {
     "name": "stderr",
     "output_type": "stream",
     "text": [
      "100%|██████████| 175/175 [00:36<00:00,  4.75it/s]\n"
     ]
    },
    {
     "name": "stdout",
     "output_type": "stream",
     "text": [
      "(array([0.79638851, 0.89298048, 0.74466101, 0.7379978 , 0.78551136,\n",
      "       0.51045866]), 0.7915078321918516, 0.882577786036595, 0.8759027879527379)\n",
      "train: {'mIoU': 0.8787550437178734, 'F1': 0.9350428031260012, 'OA': 0.935789209145766}\n",
      "{'ImSurf': 0.8943226549978435, 'Building': 0.9458670013386485, 'LowVeg': 0.8510827300581728, 'Tree': 0.8442567362826245, 'Car': 0.8582460959120775, 'Clutter': 0.7571370799568776}\n",
      "val: {'mIoU': 0.7915078321918516, 'F1': 0.882577786036595, 'OA': 0.8759027879527379}\n",
      "{'ImSurf': 0.796388510867293, 'Building': 0.8929804759924999, 'LowVeg': 0.7446610079959858, 'Tree': 0.737997804166238, 'Car': 0.7855113619372411, 'Clutter': 0.51045866450272}\n",
      "Epoch 65: loss: 44.4250, train accuracy: 0.9358, valid accuracy:0.8759\n",
      "Start epoch #66, learning rate for this epoch: [2.821109907455998e-07]\n"
     ]
    },
    {
     "name": "stderr",
     "output_type": "stream",
     "text": [
      "100%|██████████| 624/624 [04:13<00:00,  2.46it/s]\n"
     ]
    },
    {
     "name": "stdout",
     "output_type": "stream",
     "text": [
      "Done epoch #66, time for this epoch: 253.43651461601257s\n"
     ]
    },
    {
     "name": "stderr",
     "output_type": "stream",
     "text": [
      "100%|██████████| 175/175 [00:36<00:00,  4.82it/s]\n"
     ]
    },
    {
     "name": "stdout",
     "output_type": "stream",
     "text": [
      "(array([0.79536702, 0.89811561, 0.7493398 , 0.73919403, 0.79448628,\n",
      "       0.54141298]), 0.7953005475313163, 0.8849147078666807, 0.8777696728620781)\n",
      "train: {'mIoU': 0.8781140625979212, 'F1': 0.9346647153449694, 'OA': 0.9362079149637467}\n",
      "{'ImSurf': 0.8940053842738956, 'Building': 0.9467725646502166, 'LowVeg': 0.8521693917421264, 'Tree': 0.8460331617863192, 'Car': 0.8515898105370486, 'Clutter': 0.7571957508206094}\n",
      "val: {'mIoU': 0.7953005475313163, 'F1': 0.8849147078666807, 'OA': 0.8777696728620781}\n",
      "{'ImSurf': 0.7953670181085587, 'Building': 0.8981156069691146, 'LowVeg': 0.7493398018377049, 'Tree': 0.739194028921057, 'Car': 0.7944862818201462, 'Clutter': 0.5414129756665768}\n",
      "Epoch 66: loss: 44.5979, train accuracy: 0.9362, valid accuracy:0.8778\n",
      "Start epoch #67, learning rate for this epoch: [2.821109907455998e-07]\n"
     ]
    },
    {
     "name": "stderr",
     "output_type": "stream",
     "text": [
      "100%|██████████| 624/624 [04:12<00:00,  2.47it/s]\n"
     ]
    },
    {
     "name": "stdout",
     "output_type": "stream",
     "text": [
      "Done epoch #67, time for this epoch: 252.88483548164368s\n"
     ]
    },
    {
     "name": "stderr",
     "output_type": "stream",
     "text": [
      "100%|██████████| 175/175 [00:35<00:00,  4.91it/s]\n"
     ]
    },
    {
     "name": "stdout",
     "output_type": "stream",
     "text": [
      "(array([0.79366182, 0.90015945, 0.75106855, 0.73610353, 0.78400606,\n",
      "       0.52155413]), 0.7929998791007109, 0.8834364308009743, 0.8777638892004664)\n",
      "train: {'mIoU': 0.8755716154877812, 'F1': 0.9332089670769539, 'OA': 0.9347448226733085}\n",
      "{'ImSurf': 0.8934112292121044, 'Building': 0.9441160156937195, 'LowVeg': 0.8478224641315378, 'Tree': 0.8420142627653131, 'Car': 0.850494105636231, 'Clutter': 0.7516013544559627}\n",
      "val: {'mIoU': 0.7929998791007109, 'F1': 0.8834364308009743, 'OA': 0.8777638892004664}\n",
      "{'ImSurf': 0.7936618153357381, 'Building': 0.9001594454305945, 'LowVeg': 0.751068549704768, 'Tree': 0.7361035296838458, 'Car': 0.7840060553486078, 'Clutter': 0.5215541305076365}\n",
      "Epoch 67: loss: 45.0508, train accuracy: 0.9347, valid accuracy:0.8778\n",
      "Start epoch #68, learning rate for this epoch: [2.821109907455998e-07]\n"
     ]
    },
    {
     "name": "stderr",
     "output_type": "stream",
     "text": [
      "100%|██████████| 624/624 [04:14<00:00,  2.45it/s]\n"
     ]
    },
    {
     "name": "stdout",
     "output_type": "stream",
     "text": [
      "Done epoch #68, time for this epoch: 254.66483569145203s\n"
     ]
    },
    {
     "name": "stderr",
     "output_type": "stream",
     "text": [
      "100%|██████████| 175/175 [00:35<00:00,  4.88it/s]\n"
     ]
    },
    {
     "name": "stdout",
     "output_type": "stream",
     "text": [
      "(array([0.79488871, 0.89392588, 0.7504646 , 0.74186589, 0.78662999,\n",
      "       0.51988752]), 0.7935550159138312, 0.8839086923150633, 0.8769054864690359)\n",
      "train: {'mIoU': 0.8789433488491744, 'F1': 0.9351605395982758, 'OA': 0.9365403682757647}\n",
      "{'ImSurf': 0.8948330055099717, 'Building': 0.9452821871573839, 'LowVeg': 0.8522626765140305, 'Tree': 0.8471624946113201, 'Car': 0.8551763804531662, 'Clutter': 0.7592613459950887}\n",
      "val: {'mIoU': 0.7935550159138312, 'F1': 0.8839086923150633, 'OA': 0.8769054864690359}\n",
      "{'ImSurf': 0.7948887134747743, 'Building': 0.893925877061856, 'LowVeg': 0.7504646049960958, 'Tree': 0.7418658922063248, 'Car': 0.7866299918301053, 'Clutter': 0.5198875185422279}\n",
      "Epoch 68: loss: 44.3265, train accuracy: 0.9365, valid accuracy:0.8769\n",
      "Start epoch #69, learning rate for this epoch: [1.6926659444735988e-07]\n"
     ]
    },
    {
     "name": "stderr",
     "output_type": "stream",
     "text": [
      "100%|██████████| 624/624 [04:15<00:00,  2.44it/s]\n"
     ]
    },
    {
     "name": "stdout",
     "output_type": "stream",
     "text": [
      "Done epoch #69, time for this epoch: 255.47062182426453s\n"
     ]
    },
    {
     "name": "stderr",
     "output_type": "stream",
     "text": [
      "100%|██████████| 175/175 [00:35<00:00,  4.93it/s]\n"
     ]
    },
    {
     "name": "stdout",
     "output_type": "stream",
     "text": [
      "(array([0.78995164, 0.89847451, 0.74717435, 0.7404722 , 0.7928952 ,\n",
      "       0.51200665]), 0.7937935812064805, 0.8839681830435389, 0.87588893126346)\n",
      "train: {'mIoU': 0.8755243940532841, 'F1': 0.9332081047184989, 'OA': 0.9348681676082122}\n",
      "{'ImSurf': 0.8917707000221157, 'Building': 0.9427372549527618, 'LowVeg': 0.8493735145702712, 'Tree': 0.8464953833921303, 'Car': 0.8472451173291408, 'Clutter': 0.7599152289276214}\n",
      "val: {'mIoU': 0.7937935812064805, 'F1': 0.8839681830435389, 'OA': 0.87588893126346}\n",
      "{'ImSurf': 0.7899516407818593, 'Building': 0.898474509585141, 'LowVeg': 0.7471743519550437, 'Tree': 0.7404722011948548, 'Car': 0.7928952025155036, 'Clutter': 0.5120066460495869}\n",
      "Epoch 69: loss: 44.8243, train accuracy: 0.9349, valid accuracy:0.8759\n",
      "Start epoch #70, learning rate for this epoch: [1.6926659444735988e-07]\n"
     ]
    },
    {
     "name": "stderr",
     "output_type": "stream",
     "text": [
      "100%|██████████| 624/624 [04:15<00:00,  2.44it/s]\n"
     ]
    },
    {
     "name": "stdout",
     "output_type": "stream",
     "text": [
      "Done epoch #70, time for this epoch: 255.66794729232788s\n"
     ]
    },
    {
     "name": "stderr",
     "output_type": "stream",
     "text": [
      "100%|██████████| 175/175 [00:35<00:00,  4.91it/s]\n"
     ]
    },
    {
     "name": "stdout",
     "output_type": "stream",
     "text": [
      "(array([0.79574637, 0.89915724, 0.74834536, 0.73592306, 0.78338098,\n",
      "       0.52090538]), 0.7925106024051912, 0.8831258754760858, 0.8771598251791882)\n",
      "train: {'mIoU': 0.8786181811933342, 'F1': 0.934942121717272, 'OA': 0.9367212760142791}\n",
      "{'ImSurf': 0.8946269257939554, 'Building': 0.9480144081389866, 'LowVeg': 0.8510796539553358, 'Tree': 0.8468199363494239, 'Car': 0.8525499817289702, 'Clutter': 0.758391617298662}\n",
      "val: {'mIoU': 0.7925106024051912, 'F1': 0.8831258754760858, 'OA': 0.8771598251791882}\n",
      "{'ImSurf': 0.79574636888685, 'Building': 0.8991572446855829, 'LowVeg': 0.7483453605703454, 'Tree': 0.7359230552174656, 'Car': 0.7833809826657118, 'Clutter': 0.5209053788758534}\n",
      "Epoch 70: loss: 44.5942, train accuracy: 0.9367, valid accuracy:0.8772\n",
      "Start epoch #71, learning rate for this epoch: [1.6926659444735988e-07]\n"
     ]
    },
    {
     "name": "stderr",
     "output_type": "stream",
     "text": [
      "100%|██████████| 624/624 [04:12<00:00,  2.47it/s]\n"
     ]
    },
    {
     "name": "stdout",
     "output_type": "stream",
     "text": [
      "Done epoch #71, time for this epoch: 252.9573049545288s\n"
     ]
    },
    {
     "name": "stderr",
     "output_type": "stream",
     "text": [
      "100%|██████████| 175/175 [00:35<00:00,  4.91it/s]\n"
     ]
    },
    {
     "name": "stdout",
     "output_type": "stream",
     "text": [
      "(array([0.79123435, 0.89358734, 0.74737374, 0.73536266, 0.78660917,\n",
      "       0.52366166]), 0.790833450774556, 0.8821488982547171, 0.875312591574642)\n",
      "train: {'mIoU': 0.877581899379001, 'F1': 0.9343675834666927, 'OA': 0.9361172700539614}\n",
      "{'ImSurf': 0.893204033222933, 'Building': 0.9459313599821453, 'LowVeg': 0.8516104917421101, 'Tree': 0.8458515724222854, 'Car': 0.8513120395255313, 'Clutter': 0.7639800884455729}\n",
      "val: {'mIoU': 0.790833450774556, 'F1': 0.8821488982547171, 'OA': 0.875312591574642}\n",
      "{'ImSurf': 0.791234354454624, 'Building': 0.8935873352353921, 'LowVeg': 0.747373737465493, 'Tree': 0.7353626555993942, 'Car': 0.7866091711178768, 'Clutter': 0.5236616575267669}\n",
      "Epoch 71: loss: 44.5491, train accuracy: 0.9361, valid accuracy:0.8753\n",
      "Start epoch #72, learning rate for this epoch: [1.6926659444735988e-07]\n"
     ]
    },
    {
     "name": "stderr",
     "output_type": "stream",
     "text": [
      "100%|██████████| 624/624 [04:12<00:00,  2.47it/s]\n"
     ]
    },
    {
     "name": "stdout",
     "output_type": "stream",
     "text": [
      "Done epoch #72, time for this epoch: 252.21655106544495s\n"
     ]
    },
    {
     "name": "stderr",
     "output_type": "stream",
     "text": [
      "100%|██████████| 175/175 [00:35<00:00,  4.91it/s]\n"
     ]
    },
    {
     "name": "stdout",
     "output_type": "stream",
     "text": [
      "(array([0.79907858, 0.9015385 , 0.75088179, 0.74416657, 0.78421806,\n",
      "       0.52385331]), 0.7959766999815485, 0.8853279289945848, 0.8793783961485719)\n",
      "train: {'mIoU': 0.8783641970090589, 'F1': 0.9348043630036494, 'OA': 0.9365678628285726}\n",
      "{'ImSurf': 0.8956350588091049, 'Building': 0.9465105159006524, 'LowVeg': 0.852985241862502, 'Tree': 0.8453602707513164, 'Car': 0.851329897721719, 'Clutter': 0.7606468063612123}\n",
      "val: {'mIoU': 0.7959766999815485, 'F1': 0.8853279289945848, 'OA': 0.8793783961485719}\n",
      "{'ImSurf': 0.7990785783908523, 'Building': 0.9015384993145896, 'LowVeg': 0.7508817938321879, 'Tree': 0.7441665670893278, 'Car': 0.7842180612807852, 'Clutter': 0.523853311926351}\n",
      "Epoch 72: loss: 44.1709, train accuracy: 0.9366, valid accuracy:0.8794\n",
      "Start epoch #73, learning rate for this epoch: [1.0155995666841592e-07]\n"
     ]
    },
    {
     "name": "stderr",
     "output_type": "stream",
     "text": [
      "100%|██████████| 624/624 [04:12<00:00,  2.47it/s]\n"
     ]
    },
    {
     "name": "stdout",
     "output_type": "stream",
     "text": [
      "Done epoch #73, time for this epoch: 252.2236042022705s\n"
     ]
    },
    {
     "name": "stderr",
     "output_type": "stream",
     "text": [
      "100%|██████████| 175/175 [00:35<00:00,  4.90it/s]\n"
     ]
    },
    {
     "name": "stdout",
     "output_type": "stream",
     "text": [
      "(array([0.79434171, 0.89965938, 0.7513619 , 0.74178091, 0.78339295,\n",
      "       0.54235772]), 0.7941073702817864, 0.884177694893924, 0.8785518145099099)\n",
      "train: {'mIoU': 0.8788777678780381, 'F1': 0.935103135817964, 'OA': 0.937050828566918}\n",
      "{'ImSurf': 0.8959928309173948, 'Building': 0.9463965184456185, 'LowVeg': 0.8550813232429166, 'Tree': 0.8460371304916732, 'Car': 0.8508810362925868, 'Clutter': 0.7575437726805854}\n",
      "val: {'mIoU': 0.7941073702817864, 'F1': 0.884177694893924, 'OA': 0.8785518145099099}\n",
      "{'ImSurf': 0.7943417095503993, 'Building': 0.8996593813503266, 'LowVeg': 0.7513619024149278, 'Tree': 0.7417809069794498, 'Car': 0.7833929511138285, 'Clutter': 0.5423577194729966}\n",
      "Epoch 73: loss: 44.5005, train accuracy: 0.9371, valid accuracy:0.8786\n",
      "Start epoch #74, learning rate for this epoch: [1.0155995666841592e-07]\n"
     ]
    },
    {
     "name": "stderr",
     "output_type": "stream",
     "text": [
      "100%|██████████| 624/624 [04:12<00:00,  2.47it/s]\n"
     ]
    },
    {
     "name": "stdout",
     "output_type": "stream",
     "text": [
      "Done epoch #74, time for this epoch: 252.14813876152039s\n"
     ]
    },
    {
     "name": "stderr",
     "output_type": "stream",
     "text": [
      "100%|██████████| 175/175 [00:35<00:00,  4.91it/s]\n"
     ]
    },
    {
     "name": "stdout",
     "output_type": "stream",
     "text": [
      "(array([0.79094446, 0.89321993, 0.74571261, 0.73289497, 0.78840683,\n",
      "       0.54674604]), 0.7902357586654478, 0.8817507430785427, 0.8753305888398464)\n",
      "train: {'mIoU': 0.8773095429433093, 'F1': 0.934203399239806, 'OA': 0.935826607239552}\n",
      "{'ImSurf': 0.8949466889183633, 'Building': 0.9453882562767683, 'LowVeg': 0.8513525935644168, 'Tree': 0.8433057050040833, 'Car': 0.8515544709529153, 'Clutter': 0.7593203530483077}\n",
      "val: {'mIoU': 0.7902357586654478, 'F1': 0.8817507430785427, 'OA': 0.8753305888398464}\n",
      "{'ImSurf': 0.7909444562981477, 'Building': 0.8932199269469916, 'LowVeg': 0.7457126111429001, 'Tree': 0.7328949738806164, 'Car': 0.7884068250585836, 'Clutter': 0.5467460368206393}\n",
      "Epoch 74: loss: 44.6281, train accuracy: 0.9358, valid accuracy:0.8753\n",
      "Start epoch #75, learning rate for this epoch: [1.0155995666841592e-07]\n"
     ]
    },
    {
     "name": "stderr",
     "output_type": "stream",
     "text": [
      "100%|██████████| 624/624 [04:12<00:00,  2.47it/s]\n"
     ]
    },
    {
     "name": "stdout",
     "output_type": "stream",
     "text": [
      "Done epoch #75, time for this epoch: 252.44045495986938s\n"
     ]
    },
    {
     "name": "stderr",
     "output_type": "stream",
     "text": [
      "100%|██████████| 175/175 [00:35<00:00,  4.87it/s]\n"
     ]
    },
    {
     "name": "stdout",
     "output_type": "stream",
     "text": [
      "(array([0.79432529, 0.89659323, 0.757056  , 0.73575392, 0.79569728,\n",
      "       0.52116623]), 0.7958851420323115, 0.8853148668025987, 0.8782734977026594)\n",
      "train: {'mIoU': 0.8768060001307276, 'F1': 0.9339314925844828, 'OA': 0.9352405621455266}\n",
      "{'ImSurf': 0.8921683838155563, 'Building': 0.9448213289007814, 'LowVeg': 0.848796302732099, 'Tree': 0.8454996339799002, 'Car': 0.8527443512253009, 'Clutter': 0.7617365378697655}\n",
      "val: {'mIoU': 0.7958851420323115, 'F1': 0.8853148668025987, 'OA': 0.8782734977026594}\n",
      "{'ImSurf': 0.7943252872993433, 'Building': 0.8965932298644669, 'LowVeg': 0.7570559967807824, 'Tree': 0.7357539191578666, 'Car': 0.7956972770590983, 'Clutter': 0.5211662269798103}\n",
      "Epoch 75: loss: 44.6776, train accuracy: 0.9352, valid accuracy:0.8783\n",
      "Start epoch #76, learning rate for this epoch: [1.0155995666841592e-07]\n"
     ]
    },
    {
     "name": "stderr",
     "output_type": "stream",
     "text": [
      "100%|██████████| 624/624 [04:11<00:00,  2.48it/s]\n"
     ]
    },
    {
     "name": "stdout",
     "output_type": "stream",
     "text": [
      "Done epoch #76, time for this epoch: 251.90226936340332s\n"
     ]
    },
    {
     "name": "stderr",
     "output_type": "stream",
     "text": [
      "100%|██████████| 175/175 [00:35<00:00,  4.91it/s]\n"
     ]
    },
    {
     "name": "stdout",
     "output_type": "stream",
     "text": [
      "(array([0.79041224, 0.90051231, 0.74346003, 0.73403309, 0.7871735 ,\n",
      "       0.54007268]), 0.7911182339663213, 0.8821961554562148, 0.8765504046985765)\n",
      "train: {'mIoU': 0.8787908625187317, 'F1': 0.9350382297080447, 'OA': 0.936600040166806}\n",
      "{'ImSurf': 0.8955671059411171, 'Building': 0.947786295073759, 'LowVeg': 0.8490195504869987, 'Tree': 0.8457308713033777, 'Car': 0.8558504897884056, 'Clutter': 0.7625394358718061}\n",
      "val: {'mIoU': 0.7911182339663213, 'F1': 0.8821961554562148, 'OA': 0.8765504046985765}\n",
      "{'ImSurf': 0.7904122361239172, 'Building': 0.9005123133593238, 'LowVeg': 0.7434600270035423, 'Tree': 0.734033089199175, 'Car': 0.7871735041456482, 'Clutter': 0.5400726847891177}\n",
      "Epoch 76: loss: 44.2462, train accuracy: 0.9366, valid accuracy:0.8766\n",
      "Start epoch #77, learning rate for this epoch: [6.093597400104955e-08]\n"
     ]
    },
    {
     "name": "stderr",
     "output_type": "stream",
     "text": [
      "100%|██████████| 624/624 [04:12<00:00,  2.47it/s]\n"
     ]
    },
    {
     "name": "stdout",
     "output_type": "stream",
     "text": [
      "Done epoch #77, time for this epoch: 252.70831274986267s\n"
     ]
    },
    {
     "name": "stderr",
     "output_type": "stream",
     "text": [
      "100%|██████████| 175/175 [00:35<00:00,  4.95it/s]\n"
     ]
    },
    {
     "name": "stdout",
     "output_type": "stream",
     "text": [
      "(array([0.7958988 , 0.90111563, 0.74604262, 0.7412499 , 0.77992803,\n",
      "       0.53399553]), 0.7928469962700078, 0.8833298161753781, 0.8779853442891072)\n",
      "train: {'mIoU': 0.8763464898602995, 'F1': 0.9336372788996382, 'OA': 0.9354804723690717}\n",
      "{'ImSurf': 0.8935072621316412, 'Building': 0.9463073023500767, 'LowVeg': 0.8504095423684633, 'Tree': 0.8422060978698327, 'Car': 0.8493022445814841, 'Clutter': 0.7568599180524059}\n",
      "val: {'mIoU': 0.7928469962700078, 'F1': 0.8833298161753781, 'OA': 0.8779853442891072}\n",
      "{'ImSurf': 0.7958988023638139, 'Building': 0.9011156275525356, 'LowVeg': 0.7460426223671593, 'Tree': 0.7412498970382044, 'Car': 0.7799280320283256, 'Clutter': 0.5339955254369685}\n",
      "Epoch 77: loss: 44.9396, train accuracy: 0.9355, valid accuracy:0.8780\n",
      "Start epoch #78, learning rate for this epoch: [6.093597400104955e-08]\n"
     ]
    },
    {
     "name": "stderr",
     "output_type": "stream",
     "text": [
      "100%|██████████| 624/624 [04:11<00:00,  2.48it/s]\n"
     ]
    },
    {
     "name": "stdout",
     "output_type": "stream",
     "text": [
      "Done epoch #78, time for this epoch: 251.21216797828674s\n"
     ]
    },
    {
     "name": "stderr",
     "output_type": "stream",
     "text": [
      "100%|██████████| 175/175 [00:35<00:00,  4.87it/s]\n"
     ]
    },
    {
     "name": "stdout",
     "output_type": "stream",
     "text": [
      "(array([0.79338654, 0.89578277, 0.74671179, 0.7370652 , 0.80590806,\n",
      "       0.5322666 ]), 0.7957708695175502, 0.8851932624771622, 0.8764257492645985)\n",
      "train: {'mIoU': 0.8790319653832512, 'F1': 0.9351822794982576, 'OA': 0.9368113187643198}\n",
      "{'ImSurf': 0.8935711992603547, 'Building': 0.9486392401451738, 'LowVeg': 0.8523526966177537, 'Tree': 0.8476265654259283, 'Car': 0.8529701254670458, 'Clutter': 0.7629675432414318}\n",
      "val: {'mIoU': 0.7957708695175502, 'F1': 0.8851932624771622, 'OA': 0.8764257492645985}\n",
      "{'ImSurf': 0.7933865383521221, 'Building': 0.8957827660949442, 'LowVeg': 0.7467117851312581, 'Tree': 0.7370651960708946, 'Car': 0.8059080619385317, 'Clutter': 0.5322665972209305}\n",
      "Epoch 78: loss: 44.2051, train accuracy: 0.9368, valid accuracy:0.8764\n",
      "Start epoch #79, learning rate for this epoch: [6.093597400104955e-08]\n"
     ]
    },
    {
     "name": "stderr",
     "output_type": "stream",
     "text": [
      "100%|██████████| 624/624 [04:10<00:00,  2.49it/s]\n"
     ]
    },
    {
     "name": "stdout",
     "output_type": "stream",
     "text": [
      "Done epoch #79, time for this epoch: 250.98946070671082s\n"
     ]
    },
    {
     "name": "stderr",
     "output_type": "stream",
     "text": [
      "100%|██████████| 175/175 [00:35<00:00,  4.92it/s]\n"
     ]
    },
    {
     "name": "stdout",
     "output_type": "stream",
     "text": [
      "(array([0.79266693, 0.89901326, 0.75273177, 0.73975601, 0.78165928,\n",
      "       0.52973042]), 0.7931654495283078, 0.8835907530926903, 0.8779266532684347)\n",
      "train: {'mIoU': 0.8797774196627823, 'F1': 0.9356082578560929, 'OA': 0.9374152880448562}\n",
      "{'ImSurf': 0.8955440974971469, 'Building': 0.9484804094106086, 'LowVeg': 0.8546146748646303, 'Tree': 0.8478183235874814, 'Car': 0.8524295929540445, 'Clutter': 0.7603495833931091}\n",
      "val: {'mIoU': 0.7931654495283078, 'F1': 0.8835907530926903, 'OA': 0.8779266532684347}\n",
      "{'ImSurf': 0.7926669252427295, 'Building': 0.899013263680283, 'LowVeg': 0.7527317749340153, 'Tree': 0.7397560071247088, 'Car': 0.7816592766598024, 'Clutter': 0.5297304180350918}\n",
      "Epoch 79: loss: 44.2034, train accuracy: 0.9374, valid accuracy:0.8779\n",
      "Start epoch #80, learning rate for this epoch: [6.093597400104955e-08]\n"
     ]
    },
    {
     "name": "stderr",
     "output_type": "stream",
     "text": [
      "100%|██████████| 624/624 [04:13<00:00,  2.46it/s]\n"
     ]
    },
    {
     "name": "stdout",
     "output_type": "stream",
     "text": [
      "Done epoch #80, time for this epoch: 253.17378091812134s\n"
     ]
    },
    {
     "name": "stderr",
     "output_type": "stream",
     "text": [
      "100%|██████████| 175/175 [00:35<00:00,  4.92it/s]\n"
     ]
    },
    {
     "name": "stdout",
     "output_type": "stream",
     "text": [
      "(array([0.79798852, 0.89667794, 0.75478517, 0.73495655, 0.80216232,\n",
      "       0.53559729]), 0.7973140978440971, 0.8861770672213577, 0.8788465621740117)\n",
      "train: {'mIoU': 0.8755728784256898, 'F1': 0.933204087105761, 'OA': 0.9350413389694996}\n",
      "{'ImSurf': 0.8914525221471473, 'Building': 0.9454281448082454, 'LowVeg': 0.8504227622056723, 'Tree': 0.8406625521217529, 'Car': 0.8498984108456309, 'Clutter': 0.7606503175403828}\n",
      "val: {'mIoU': 0.7973140978440971, 'F1': 0.8861770672213577, 'OA': 0.8788465621740117}\n",
      "{'ImSurf': 0.7979885151177895, 'Building': 0.8966779373518285, 'LowVeg': 0.7547851650976326, 'Tree': 0.7349565542797473, 'Car': 0.8021623173734876, 'Clutter': 0.5355972854389}\n",
      "Epoch 80: loss: 44.8732, train accuracy: 0.9350, valid accuracy:0.8788\n",
      "Start epoch #81, learning rate for this epoch: [3.656158440062973e-08]\n"
     ]
    },
    {
     "name": "stderr",
     "output_type": "stream",
     "text": [
      "100%|██████████| 624/624 [04:13<00:00,  2.47it/s]\n"
     ]
    },
    {
     "name": "stdout",
     "output_type": "stream",
     "text": [
      "Done epoch #81, time for this epoch: 253.03736352920532s\n"
     ]
    },
    {
     "name": "stderr",
     "output_type": "stream",
     "text": [
      "100%|██████████| 175/175 [00:35<00:00,  4.93it/s]\n"
     ]
    },
    {
     "name": "stdout",
     "output_type": "stream",
     "text": [
      "(array([0.79510475, 0.89695207, 0.74209453, 0.73423116, 0.7901055 ,\n",
      "       0.52547434]), 0.7916976023869994, 0.8825982566751799, 0.8755128727657538)\n",
      "train: {'mIoU': 0.8807037245914913, 'F1': 0.9361280638852782, 'OA': 0.9379022671626165}\n",
      "{'ImSurf': 0.898971772216873, 'Building': 0.9486326792911821, 'LowVeg': 0.8525402252485407, 'Tree': 0.8484955885268729, 'Car': 0.8548783576739881, 'Clutter': 0.7654236317482922}\n",
      "val: {'mIoU': 0.7916976023869994, 'F1': 0.8825982566751799, 'OA': 0.8755128727657538}\n",
      "{'ImSurf': 0.7951047482203492, 'Building': 0.896952073010274, 'LowVeg': 0.7420945302811706, 'Tree': 0.7342311612495499, 'Car': 0.7901054991736534, 'Clutter': 0.5254743434268253}\n",
      "Epoch 81: loss: 44.1244, train accuracy: 0.9379, valid accuracy:0.8755\n",
      "Start epoch #82, learning rate for this epoch: [3.656158440062973e-08]\n"
     ]
    },
    {
     "name": "stderr",
     "output_type": "stream",
     "text": [
      "100%|██████████| 624/624 [04:15<00:00,  2.44it/s]\n"
     ]
    },
    {
     "name": "stdout",
     "output_type": "stream",
     "text": [
      "Done epoch #82, time for this epoch: 255.37905359268188s\n"
     ]
    },
    {
     "name": "stderr",
     "output_type": "stream",
     "text": [
      "100%|██████████| 175/175 [00:36<00:00,  4.86it/s]\n"
     ]
    },
    {
     "name": "stdout",
     "output_type": "stream",
     "text": [
      "(array([0.78821661, 0.89732658, 0.74857172, 0.73410738, 0.77870471,\n",
      "       0.54596936]), 0.7893853988785701, 0.8811833933746099, 0.8755357773802045)\n",
      "train: {'mIoU': 0.8765456133491704, 'F1': 0.9337655462874924, 'OA': 0.935521315305661}\n",
      "{'ImSurf': 0.8930576103432903, 'Building': 0.9454313577591615, 'LowVeg': 0.8514514384748708, 'Tree': 0.8420262747199608, 'Car': 0.8507613854485677, 'Clutter': 0.7573473834420945}\n",
      "val: {'mIoU': 0.7893853988785701, 'F1': 0.8811833933746099, 'OA': 0.8755357773802045}\n",
      "{'ImSurf': 0.7882166069528443, 'Building': 0.8973265756674357, 'LowVeg': 0.7485717156132302, 'Tree': 0.7341073836107551, 'Car': 0.778704712548585, 'Clutter': 0.5459693582698153}\n",
      "Epoch 82: loss: 44.6674, train accuracy: 0.9355, valid accuracy:0.8755\n",
      "Start epoch #83, learning rate for this epoch: [3.656158440062973e-08]\n"
     ]
    },
    {
     "name": "stderr",
     "output_type": "stream",
     "text": [
      "100%|██████████| 624/624 [04:13<00:00,  2.46it/s]\n"
     ]
    },
    {
     "name": "stdout",
     "output_type": "stream",
     "text": [
      "Done epoch #83, time for this epoch: 253.41343688964844s\n"
     ]
    },
    {
     "name": "stderr",
     "output_type": "stream",
     "text": [
      "100%|██████████| 175/175 [00:35<00:00,  4.91it/s]\n"
     ]
    },
    {
     "name": "stdout",
     "output_type": "stream",
     "text": [
      "(array([0.79273743, 0.89651521, 0.74999639, 0.74018848, 0.79167701,\n",
      "       0.55295305]), 0.794222904010181, 0.8842777965758281, 0.8778665053784547)\n",
      "train: {'mIoU': 0.8780075197988142, 'F1': 0.9346177291404446, 'OA': 0.9355468536034609}\n",
      "{'ImSurf': 0.8945634270423061, 'Building': 0.9446829772932425, 'LowVeg': 0.8491854322212514, 'Tree': 0.8436363371208544, 'Car': 0.8579694253164167, 'Clutter': 0.7553872166767153}\n",
      "val: {'mIoU': 0.794222904010181, 'F1': 0.8842777965758281, 'OA': 0.8778665053784547}\n",
      "{'ImSurf': 0.7927374317469466, 'Building': 0.8965152095215245, 'LowVeg': 0.7499963917026892, 'Tree': 0.7401884816113381, 'Car': 0.7916770054684065, 'Clutter': 0.552953047305725}\n",
      "Epoch 83: loss: 44.6888, train accuracy: 0.9355, valid accuracy:0.8779\n",
      "Start epoch #84, learning rate for this epoch: [3.656158440062973e-08]\n"
     ]
    },
    {
     "name": "stderr",
     "output_type": "stream",
     "text": [
      "100%|██████████| 624/624 [04:11<00:00,  2.49it/s]\n"
     ]
    },
    {
     "name": "stdout",
     "output_type": "stream",
     "text": [
      "Done epoch #84, time for this epoch: 251.03536438941956s\n"
     ]
    },
    {
     "name": "stderr",
     "output_type": "stream",
     "text": [
      "100%|██████████| 175/175 [00:35<00:00,  4.95it/s]\n"
     ]
    },
    {
     "name": "stdout",
     "output_type": "stream",
     "text": [
      "(array([0.79492871, 0.90020918, 0.7447423 , 0.73461903, 0.78833882,\n",
      "       0.53509169]), 0.7925676066276013, 0.8831171177304113, 0.8769633449929614)\n",
      "train: {'mIoU': 0.8784293291278875, 'F1': 0.9348522646467552, 'OA': 0.9364665196492121}\n",
      "{'ImSurf': 0.8948643556002273, 'Building': 0.9461491163215033, 'LowVeg': 0.8514731542961411, 'Tree': 0.8480885504283184, 'Car': 0.851571468993247, 'Clutter': 0.7598261300939604}\n",
      "val: {'mIoU': 0.7925676066276013, 'F1': 0.8831171177304113, 'OA': 0.8769633449929614}\n",
      "{'ImSurf': 0.7949287065139256, 'Building': 0.9002091827231099, 'LowVeg': 0.744742295769999, 'Tree': 0.7346190330541891, 'Car': 0.7883388150767829, 'Clutter': 0.5350916865988175}\n",
      "Epoch 84: loss: 44.3738, train accuracy: 0.9365, valid accuracy:0.8770\n",
      "Start epoch #85, learning rate for this epoch: [2.1936950640377836e-08]\n"
     ]
    },
    {
     "name": "stderr",
     "output_type": "stream",
     "text": [
      "100%|██████████| 624/624 [04:13<00:00,  2.47it/s]\n"
     ]
    },
    {
     "name": "stdout",
     "output_type": "stream",
     "text": [
      "Done epoch #85, time for this epoch: 253.11892414093018s\n"
     ]
    },
    {
     "name": "stderr",
     "output_type": "stream",
     "text": [
      "100%|██████████| 175/175 [00:35<00:00,  4.96it/s]\n"
     ]
    },
    {
     "name": "stdout",
     "output_type": "stream",
     "text": [
      "(array([0.80096005, 0.90070824, 0.74109126, 0.73816411, 0.79232151,\n",
      "       0.53329496]), 0.7946490348400985, 0.8844052845906731, 0.8776569133684604)\n",
      "train: {'mIoU': 0.8753868177150206, 'F1': 0.9330985693637199, 'OA': 0.9347825936782055}\n",
      "{'ImSurf': 0.8917011782220949, 'Building': 0.9451578483527806, 'LowVeg': 0.8493988147965352, 'Tree': 0.84212090465844, 'Car': 0.8485553425452516, 'Clutter': 0.7559777992817445}\n",
      "val: {'mIoU': 0.7946490348400985, 'F1': 0.8844052845906731, 'OA': 0.8776569133684604}\n",
      "{'ImSurf': 0.8009600459365683, 'Building': 0.9007082418231024, 'LowVeg': 0.7410912582118336, 'Tree': 0.7381641135067541, 'Car': 0.7923215147222342, 'Clutter': 0.5332949585648187}\n",
      "Epoch 85: loss: 45.0379, train accuracy: 0.9348, valid accuracy:0.8777\n",
      "Start epoch #86, learning rate for this epoch: [2.1936950640377836e-08]\n"
     ]
    },
    {
     "name": "stderr",
     "output_type": "stream",
     "text": [
      "100%|██████████| 624/624 [04:11<00:00,  2.48it/s]\n"
     ]
    },
    {
     "name": "stdout",
     "output_type": "stream",
     "text": [
      "Done epoch #86, time for this epoch: 251.44067811965942s\n"
     ]
    },
    {
     "name": "stderr",
     "output_type": "stream",
     "text": [
      "100%|██████████| 175/175 [00:36<00:00,  4.83it/s]\n"
     ]
    },
    {
     "name": "stdout",
     "output_type": "stream",
     "text": [
      "(array([0.79918386, 0.90147844, 0.74799768, 0.73630199, 0.78381852,\n",
      "       0.53709209]), 0.7937560973039502, 0.8838683620344729, 0.8786052805181037)\n",
      "train: {'mIoU': 0.8764411037023485, 'F1': 0.9337096506035902, 'OA': 0.9350665104694855}\n",
      "{'ImSurf': 0.8930443525606734, 'Building': 0.9449143146377533, 'LowVeg': 0.8501286107465207, 'Tree': 0.841609790875014, 'Car': 0.8525084496917817, 'Clutter': 0.7495477508762918}\n",
      "val: {'mIoU': 0.7937560973039502, 'F1': 0.8838683620344729, 'OA': 0.8786052805181037}\n",
      "{'ImSurf': 0.7991838567803465, 'Building': 0.9014784441701007, 'LowVeg': 0.7479976767319462, 'Tree': 0.7363019902395803, 'Car': 0.7838185185977777, 'Clutter': 0.5370920875694426}\n",
      "Epoch 86: loss: 45.0082, train accuracy: 0.9351, valid accuracy:0.8786\n",
      "Start epoch #87, learning rate for this epoch: [2.1936950640377836e-08]\n"
     ]
    },
    {
     "name": "stderr",
     "output_type": "stream",
     "text": [
      "100%|██████████| 624/624 [04:11<00:00,  2.48it/s]\n"
     ]
    },
    {
     "name": "stdout",
     "output_type": "stream",
     "text": [
      "Done epoch #87, time for this epoch: 251.76705121994019s\n"
     ]
    },
    {
     "name": "stderr",
     "output_type": "stream",
     "text": [
      "100%|██████████| 175/175 [00:35<00:00,  4.98it/s]\n"
     ]
    },
    {
     "name": "stdout",
     "output_type": "stream",
     "text": [
      "(array([0.79765536, 0.89983756, 0.75337132, 0.74209162, 0.79637481,\n",
      "       0.51213415]), 0.7978661356016234, 0.886531955036286, 0.879103584590783)\n",
      "train: {'mIoU': 0.8783696055751535, 'F1': 0.9347927846120104, 'OA': 0.9367786003993108}\n",
      "{'ImSurf': 0.8944685352896514, 'Building': 0.948270515335785, 'LowVeg': 0.8535187366567857, 'Tree': 0.8441057256780938, 'Car': 0.851484514915452, 'Clutter': 0.7659676109642033}\n",
      "val: {'mIoU': 0.7978661356016234, 'F1': 0.886531955036286, 'OA': 0.879103584590783}\n",
      "{'ImSurf': 0.7976553628290849, 'Building': 0.8998375643272702, 'LowVeg': 0.7533713228602101, 'Tree': 0.7420916208407174, 'Car': 0.7963748071508346, 'Clutter': 0.5121341510691007}\n",
      "Epoch 87: loss: 44.3153, train accuracy: 0.9368, valid accuracy:0.8791\n",
      "Start epoch #88, learning rate for this epoch: [2.1936950640377836e-08]\n"
     ]
    },
    {
     "name": "stderr",
     "output_type": "stream",
     "text": [
      "100%|██████████| 624/624 [04:11<00:00,  2.48it/s]\n"
     ]
    },
    {
     "name": "stdout",
     "output_type": "stream",
     "text": [
      "Done epoch #88, time for this epoch: 251.79231095314026s\n"
     ]
    },
    {
     "name": "stderr",
     "output_type": "stream",
     "text": [
      "100%|██████████| 175/175 [00:35<00:00,  4.87it/s]\n"
     ]
    },
    {
     "name": "stdout",
     "output_type": "stream",
     "text": [
      "(array([0.7998133 , 0.89268114, 0.74789482, 0.74674335, 0.77624155,\n",
      "       0.5391237 ]), 0.7926748322696568, 0.8833754214773124, 0.8781983867790402)\n",
      "train: {'mIoU': 0.8798262463998181, 'F1': 0.9356392230422232, 'OA': 0.9376653830210367}\n",
      "{'ImSurf': 0.898144575740975, 'Building': 0.9469480690370946, 'LowVeg': 0.8549687514335215, 'Tree': 0.8471941417963489, 'Car': 0.8518756939911512, 'Clutter': 0.7586430241131427}\n",
      "val: {'mIoU': 0.7926748322696568, 'F1': 0.8833754214773124, 'OA': 0.8781983867790402}\n",
      "{'ImSurf': 0.7998133030834388, 'Building': 0.8926811394006093, 'LowVeg': 0.7478948233878738, 'Tree': 0.7467433469265414, 'Car': 0.7762415485498205, 'Clutter': 0.5391236972611638}\n",
      "Epoch 88: loss: 44.0655, train accuracy: 0.9377, valid accuracy:0.8782\n",
      "Start epoch #89, learning rate for this epoch: [1.3162170384226702e-08]\n"
     ]
    },
    {
     "name": "stderr",
     "output_type": "stream",
     "text": [
      "100%|██████████| 624/624 [04:11<00:00,  2.48it/s]\n"
     ]
    },
    {
     "name": "stdout",
     "output_type": "stream",
     "text": [
      "Done epoch #89, time for this epoch: 251.51320147514343s\n"
     ]
    },
    {
     "name": "stderr",
     "output_type": "stream",
     "text": [
      "100%|██████████| 175/175 [00:35<00:00,  4.97it/s]\n"
     ]
    },
    {
     "name": "stdout",
     "output_type": "stream",
     "text": [
      "(array([0.79633373, 0.9004204 , 0.74718089, 0.74284554, 0.78365808,\n",
      "       0.51435241]), 0.7940877274966388, 0.8841362979266553, 0.8770383025619166)\n",
      "train: {'mIoU': 0.8777806042500611, 'F1': 0.9344826251861267, 'OA': 0.9358380727278881}\n",
      "{'ImSurf': 0.893656304524383, 'Building': 0.9455473208279793, 'LowVeg': 0.8510149323477298, 'Tree': 0.8435601964258436, 'Car': 0.8551242671243694, 'Clutter': 0.7552680111965714}\n",
      "val: {'mIoU': 0.7940877274966388, 'F1': 0.8841362979266553, 'OA': 0.8770383025619166}\n",
      "{'ImSurf': 0.7963337297402661, 'Building': 0.9004203994745882, 'LowVeg': 0.7471808877381908, 'Tree': 0.7428455370477719, 'Car': 0.7836580834823768, 'Clutter': 0.5143524112635117}\n",
      "Epoch 89: loss: 44.8782, train accuracy: 0.9358, valid accuracy:0.8770\n",
      "Start epoch #90, learning rate for this epoch: [1.3162170384226702e-08]\n"
     ]
    },
    {
     "name": "stderr",
     "output_type": "stream",
     "text": [
      "100%|██████████| 624/624 [04:12<00:00,  2.47it/s]\n"
     ]
    },
    {
     "name": "stdout",
     "output_type": "stream",
     "text": [
      "Done epoch #90, time for this epoch: 252.2172393798828s\n"
     ]
    },
    {
     "name": "stderr",
     "output_type": "stream",
     "text": [
      "100%|██████████| 175/175 [00:35<00:00,  4.97it/s]\n"
     ]
    },
    {
     "name": "stdout",
     "output_type": "stream",
     "text": [
      "(array([0.79875432, 0.90388912, 0.74816529, 0.73853585, 0.79656799,\n",
      "       0.53601099]), 0.7971825131507132, 0.8859909015704591, 0.8784515424674992)\n",
      "train: {'mIoU': 0.8759341153053259, 'F1': 0.9334297694871078, 'OA': 0.9348072883410331}\n",
      "{'ImSurf': 0.8909432080392768, 'Building': 0.9446187700321501, 'LowVeg': 0.8485084040049887, 'Tree': 0.8440427082198395, 'Car': 0.8515574862303743, 'Clutter': 0.7578640639127718}\n",
      "val: {'mIoU': 0.7971825131507132, 'F1': 0.8859909015704591, 'OA': 0.8784515424674992}\n",
      "{'ImSurf': 0.7987543184007317, 'Building': 0.9038891158804508, 'LowVeg': 0.7481652878704815, 'Tree': 0.7385358532918718, 'Car': 0.7965679903100304, 'Clutter': 0.5360109896557846}\n",
      "Epoch 90: loss: 44.8355, train accuracy: 0.9348, valid accuracy:0.8785\n",
      "Start epoch #91, learning rate for this epoch: [1.3162170384226702e-08]\n"
     ]
    },
    {
     "name": "stderr",
     "output_type": "stream",
     "text": [
      "100%|██████████| 624/624 [04:09<00:00,  2.50it/s]\n"
     ]
    },
    {
     "name": "stdout",
     "output_type": "stream",
     "text": [
      "Done epoch #91, time for this epoch: 249.67401146888733s\n"
     ]
    },
    {
     "name": "stderr",
     "output_type": "stream",
     "text": [
      "100%|██████████| 175/175 [00:36<00:00,  4.84it/s]\n"
     ]
    },
    {
     "name": "stdout",
     "output_type": "stream",
     "text": [
      "(array([0.79455536, 0.8919899 , 0.7524977 , 0.74534554, 0.80013824,\n",
      "       0.53013378]), 0.7969053482335697, 0.8860541422897981, 0.8774997576996308)\n",
      "train: {'mIoU': 0.878744953809588, 'F1': 0.935003892335766, 'OA': 0.9370017601893499}\n",
      "{'ImSurf': 0.8971616804419057, 'Building': 0.9478715966239011, 'LowVeg': 0.8509365546721002, 'Tree': 0.8465465028783754, 'Car': 0.8512084344316577, 'Clutter': 0.7627421217245002}\n",
      "val: {'mIoU': 0.7969053482335697, 'F1': 0.8860541422897981, 'OA': 0.8774997576996308}\n",
      "{'ImSurf': 0.7945553604050796, 'Building': 0.8919898958923526, 'LowVeg': 0.7524976993618021, 'Tree': 0.7453455406802496, 'Car': 0.8001382448283649, 'Clutter': 0.5301337803200744}\n",
      "Epoch 91: loss: 44.4510, train accuracy: 0.9370, valid accuracy:0.8775\n",
      "Start epoch #92, learning rate for this epoch: [1.3162170384226702e-08]\n"
     ]
    },
    {
     "name": "stderr",
     "output_type": "stream",
     "text": [
      "100%|██████████| 624/624 [04:12<00:00,  2.47it/s]\n"
     ]
    },
    {
     "name": "stdout",
     "output_type": "stream",
     "text": [
      "Done epoch #92, time for this epoch: 252.38185453414917s\n"
     ]
    },
    {
     "name": "stderr",
     "output_type": "stream",
     "text": [
      "100%|██████████| 175/175 [00:35<00:00,  4.92it/s]\n"
     ]
    },
    {
     "name": "stdout",
     "output_type": "stream",
     "text": [
      "(array([0.79168702, 0.90080329, 0.7373479 , 0.73474212, 0.7940555 ,\n",
      "       0.53724662]), 0.7917271661695698, 0.882533028485323, 0.8747546325376883)\n",
      "train: {'mIoU': 0.8753687409102217, 'F1': 0.933099929798194, 'OA': 0.9345907553648337}\n",
      "{'ImSurf': 0.8919446937247192, 'Building': 0.9440665390167718, 'LowVeg': 0.8475122471943284, 'Tree': 0.8435475740382494, 'Car': 0.84977265057704, 'Clutter': 0.7553677846771041}\n",
      "val: {'mIoU': 0.7917271661695698, 'F1': 0.882533028485323, 'OA': 0.8747546325376883}\n",
      "{'ImSurf': 0.7916870224710532, 'Building': 0.9008032887982993, 'LowVeg': 0.7373479033391801, 'Tree': 0.7347421168152135, 'Car': 0.7940554994241033, 'Clutter': 0.5372466222305022}\n",
      "Epoch 92: loss: 45.0571, train accuracy: 0.9346, valid accuracy:0.8748\n",
      "Start epoch #93, learning rate for this epoch: [7.89730223053602e-09]\n"
     ]
    },
    {
     "name": "stderr",
     "output_type": "stream",
     "text": [
      "100%|██████████| 624/624 [04:14<00:00,  2.45it/s]\n"
     ]
    },
    {
     "name": "stdout",
     "output_type": "stream",
     "text": [
      "Done epoch #93, time for this epoch: 254.5845546722412s\n"
     ]
    },
    {
     "name": "stderr",
     "output_type": "stream",
     "text": [
      "100%|██████████| 175/175 [00:35<00:00,  4.94it/s]\n"
     ]
    },
    {
     "name": "stdout",
     "output_type": "stream",
     "text": [
      "(array([0.79479455, 0.89336695, 0.74612654, 0.73625696, 0.78440405,\n",
      "       0.48982223]), 0.7909898106896189, 0.88224581679428, 0.8743809510372733)\n",
      "train: {'mIoU': 0.8751997528530406, 'F1': 0.9330137033382989, 'OA': 0.9351157775292029}\n",
      "{'ImSurf': 0.889858210844679, 'Building': 0.9439308270976163, 'LowVeg': 0.8499988682420714, 'Tree': 0.8440811152891503, 'Car': 0.8481297427916864, 'Clutter': 0.7687977802065422}\n",
      "val: {'mIoU': 0.7909898106896189, 'F1': 0.88224581679428, 'OA': 0.8743809510372733}\n",
      "{'ImSurf': 0.7947945533688558, 'Building': 0.8933669508799463, 'LowVeg': 0.7461265386286191, 'Tree': 0.7362569597227466, 'Car': 0.7844040508479271, 'Clutter': 0.48982223264239677}\n",
      "Epoch 93: loss: 44.7109, train accuracy: 0.9351, valid accuracy:0.8744\n",
      "Start epoch #94, learning rate for this epoch: [7.89730223053602e-09]\n"
     ]
    },
    {
     "name": "stderr",
     "output_type": "stream",
     "text": [
      "100%|██████████| 624/624 [04:15<00:00,  2.44it/s]\n"
     ]
    },
    {
     "name": "stdout",
     "output_type": "stream",
     "text": [
      "Done epoch #94, time for this epoch: 255.89099884033203s\n"
     ]
    },
    {
     "name": "stderr",
     "output_type": "stream",
     "text": [
      "100%|██████████| 175/175 [00:35<00:00,  4.87it/s]\n"
     ]
    },
    {
     "name": "stdout",
     "output_type": "stream",
     "text": [
      "(array([0.79182996, 0.89606111, 0.75282503, 0.73441224, 0.78783131,\n",
      "       0.5392201 ]), 0.7925919316483816, 0.8832373950087051, 0.8771877028663124)\n",
      "train: {'mIoU': 0.8762938882183505, 'F1': 0.9336190634226886, 'OA': 0.9348400984054956}\n",
      "{'ImSurf': 0.8910091417209365, 'Building': 0.9463047518674031, 'LowVeg': 0.8489946015097569, 'Tree': 0.8423345602459237, 'Car': 0.8528263857477327, 'Clutter': 0.755009777349599}\n",
      "val: {'mIoU': 0.7925919316483816, 'F1': 0.8832373950087051, 'OA': 0.8771877028663124}\n",
      "{'ImSurf': 0.7918299634519066, 'Building': 0.8960611068710487, 'LowVeg': 0.7528250349750392, 'Tree': 0.7344122435351874, 'Car': 0.7878313094087258, 'Clutter': 0.5392200961632814}\n",
      "Epoch 94: loss: 45.0335, train accuracy: 0.9348, valid accuracy:0.8772\n",
      "Start epoch #95, learning rate for this epoch: [7.89730223053602e-09]\n"
     ]
    },
    {
     "name": "stderr",
     "output_type": "stream",
     "text": [
      "100%|██████████| 624/624 [04:14<00:00,  2.45it/s]\n"
     ]
    },
    {
     "name": "stdout",
     "output_type": "stream",
     "text": [
      "Done epoch #95, time for this epoch: 254.6750292778015s\n"
     ]
    },
    {
     "name": "stderr",
     "output_type": "stream",
     "text": [
      "100%|██████████| 175/175 [00:35<00:00,  4.91it/s]\n"
     ]
    },
    {
     "name": "stdout",
     "output_type": "stream",
     "text": [
      "(array([0.79931691, 0.89906984, 0.74580774, 0.73087889, 0.78366842,\n",
      "       0.53494114]), 0.7917483603952055, 0.882590281978198, 0.8777069727123339)\n",
      "train: {'mIoU': 0.8783769054233828, 'F1': 0.9348138635751446, 'OA': 0.9366764900011894}\n",
      "{'ImSurf': 0.8949368642396507, 'Building': 0.9467022905444117, 'LowVeg': 0.8530723304530771, 'Tree': 0.8460755566059501, 'Car': 0.8510974852738242, 'Clutter': 0.7637219839011026}\n",
      "val: {'mIoU': 0.7917483603952055, 'F1': 0.882590281978198, 'OA': 0.8777069727123339}\n",
      "{'ImSurf': 0.7993169075387575, 'Building': 0.8990698402463188, 'LowVeg': 0.7458077430361642, 'Tree': 0.7308788865596599, 'Car': 0.7836684245951266, 'Clutter': 0.5349411439111068}\n",
      "Epoch 95: loss: 44.4742, train accuracy: 0.9367, valid accuracy:0.8777\n",
      "Start epoch #96, learning rate for this epoch: [7.89730223053602e-09]\n"
     ]
    },
    {
     "name": "stderr",
     "output_type": "stream",
     "text": [
      "100%|██████████| 624/624 [04:12<00:00,  2.47it/s]\n"
     ]
    },
    {
     "name": "stdout",
     "output_type": "stream",
     "text": [
      "Done epoch #96, time for this epoch: 252.92312479019165s\n"
     ]
    },
    {
     "name": "stderr",
     "output_type": "stream",
     "text": [
      "100%|██████████| 175/175 [00:35<00:00,  4.87it/s]\n"
     ]
    },
    {
     "name": "stdout",
     "output_type": "stream",
     "text": [
      "(array([0.79468786, 0.90090643, 0.74334309, 0.73330118, 0.78157658,\n",
      "       0.53436992]), 0.7907630269956345, 0.8819561144302568, 0.8760392188341258)\n",
      "train: {'mIoU': 0.876341350302039, 'F1': 0.9336583524398833, 'OA': 0.9349123606315026}\n",
      "{'ImSurf': 0.8915291241484016, 'Building': 0.9449382025718641, 'LowVeg': 0.8498277372289812, 'Tree': 0.841577015964102, 'Car': 0.8538346715968453, 'Clutter': 0.7556472675281865}\n",
      "val: {'mIoU': 0.7907630269956345, 'F1': 0.8819561144302568, 'OA': 0.8760392188341258}\n",
      "{'ImSurf': 0.7946878593343502, 'Building': 0.9009064341160659, 'LowVeg': 0.7433430899857871, 'Tree': 0.7333011761254206, 'Car': 0.7815765754165487, 'Clutter': 0.5343699242747576}\n",
      "Epoch 96: loss: 44.9346, train accuracy: 0.9349, valid accuracy:0.8760\n",
      "Start epoch #97, learning rate for this epoch: [4.738381338321613e-09]\n"
     ]
    },
    {
     "name": "stderr",
     "output_type": "stream",
     "text": [
      "100%|██████████| 624/624 [04:11<00:00,  2.48it/s]\n"
     ]
    },
    {
     "name": "stdout",
     "output_type": "stream",
     "text": [
      "Done epoch #97, time for this epoch: 251.59544920921326s\n"
     ]
    },
    {
     "name": "stderr",
     "output_type": "stream",
     "text": [
      "100%|██████████| 175/175 [00:35<00:00,  4.95it/s]\n"
     ]
    },
    {
     "name": "stdout",
     "output_type": "stream",
     "text": [
      "(array([0.79550686, 0.89922904, 0.74724343, 0.73619073, 0.78993893,\n",
      "       0.53717199]), 0.7936217984038724, 0.883817121911459, 0.8770559273943657)\n",
      "train: {'mIoU': 0.8752909829271062, 'F1': 0.9330500228681377, 'OA': 0.9350297084221473}\n",
      "{'ImSurf': 0.8907041816014927, 'Building': 0.9450148554178409, 'LowVeg': 0.8499636334680336, 'Tree': 0.8432951319460136, 'Car': 0.8474771122021507, 'Clutter': 0.7652450641896286}\n",
      "val: {'mIoU': 0.7936217984038724, 'F1': 0.883817121911459, 'OA': 0.8770559273943657}\n",
      "{'ImSurf': 0.7955068559253543, 'Building': 0.8992290407452049, 'LowVeg': 0.7472434347921264, 'Tree': 0.7361907347438508, 'Car': 0.7899389258128255, 'Clutter': 0.5371719886467954}\n",
      "Epoch 97: loss: 44.9089, train accuracy: 0.9350, valid accuracy:0.8771\n",
      "Start epoch #98, learning rate for this epoch: [4.738381338321613e-09]\n"
     ]
    },
    {
     "name": "stderr",
     "output_type": "stream",
     "text": [
      "100%|██████████| 624/624 [04:12<00:00,  2.47it/s]\n"
     ]
    },
    {
     "name": "stdout",
     "output_type": "stream",
     "text": [
      "Done epoch #98, time for this epoch: 252.36735725402832s\n"
     ]
    },
    {
     "name": "stderr",
     "output_type": "stream",
     "text": [
      "100%|██████████| 175/175 [00:35<00:00,  4.86it/s]\n"
     ]
    },
    {
     "name": "stdout",
     "output_type": "stream",
     "text": [
      "(array([0.79104821, 0.89910136, 0.75228811, 0.74024679, 0.77990885,\n",
      "       0.51404044]), 0.7925186642067723, 0.8831851303164632, 0.8775285774225479)\n",
      "train: {'mIoU': 0.8763296308260451, 'F1': 0.9336544746597802, 'OA': 0.9343872926174066}\n",
      "{'ImSurf': 0.8915686937791836, 'Building': 0.9443278418106874, 'LowVeg': 0.8475016152211984, 'Tree': 0.8409085832976019, 'Car': 0.8573414200215536, 'Clutter': 0.7518118356722928}\n",
      "val: {'mIoU': 0.7925186642067723, 'F1': 0.8831851303164632, 'OA': 0.8775285774225479}\n",
      "{'ImSurf': 0.7910482050266104, 'Building': 0.8991013620693693, 'LowVeg': 0.7522881130294504, 'Tree': 0.7402467915709817, 'Car': 0.77990884933745, 'Clutter': 0.5140404394892423}\n",
      "Epoch 98: loss: 45.2516, train accuracy: 0.9344, valid accuracy:0.8775\n",
      "Start epoch #99, learning rate for this epoch: [4.738381338321613e-09]\n"
     ]
    },
    {
     "name": "stderr",
     "output_type": "stream",
     "text": [
      "100%|██████████| 624/624 [04:11<00:00,  2.48it/s]\n"
     ]
    },
    {
     "name": "stdout",
     "output_type": "stream",
     "text": [
      "Done epoch #99, time for this epoch: 251.98350191116333s\n"
     ]
    },
    {
     "name": "stderr",
     "output_type": "stream",
     "text": [
      "100%|██████████| 175/175 [00:36<00:00,  4.85it/s]\n"
     ]
    },
    {
     "name": "stdout",
     "output_type": "stream",
     "text": [
      "(array([0.79293905, 0.89252189, 0.74876047, 0.73398511, 0.7877857 ,\n",
      "       0.53807014]), 0.7911984433334892, 0.8823880403827526, 0.875677816660731)\n",
      "train: {'mIoU': 0.8770320522450783, 'F1': 0.9340216450153218, 'OA': 0.9357926570452176}\n",
      "{'ImSurf': 0.894439967560493, 'Building': 0.9471868793595426, 'LowVeg': 0.8509251345154839, 'Tree': 0.8411324821266618, 'Car': 0.85147579766321, 'Clutter': 0.7534569794439575}\n",
      "val: {'mIoU': 0.7911984433334892, 'F1': 0.8823880403827526, 'OA': 0.875677816660731}\n",
      "{'ImSurf': 0.7929390507910989, 'Building': 0.8925218883062099, 'LowVeg': 0.7487604657499971, 'Tree': 0.7339851080918469, 'Car': 0.7877857037282928, 'Clutter': 0.5380701403378397}\n",
      "Epoch 99: loss: 44.7196, train accuracy: 0.9358, valid accuracy:0.8757\n",
      "Start epoch #100, learning rate for this epoch: [4.738381338321613e-09]\n"
     ]
    },
    {
     "name": "stderr",
     "output_type": "stream",
     "text": [
      "100%|██████████| 624/624 [04:11<00:00,  2.48it/s]\n"
     ]
    },
    {
     "name": "stdout",
     "output_type": "stream",
     "text": [
      "Done epoch #100, time for this epoch: 251.85303592681885s\n"
     ]
    },
    {
     "name": "stderr",
     "output_type": "stream",
     "text": [
      "100%|██████████| 175/175 [00:35<00:00,  4.95it/s]\n"
     ]
    },
    {
     "name": "stdout",
     "output_type": "stream",
     "text": [
      "(array([0.79235702, 0.89795308, 0.75033987, 0.73582433, 0.78637121,\n",
      "       0.53310971]), 0.792569102243289, 0.8831940737552667, 0.8772863646847517)\n",
      "train: {'mIoU': 0.8759777438725344, 'F1': 0.9334615843938785, 'OA': 0.9351856922492002}\n",
      "{'ImSurf': 0.8925187201891515, 'Building': 0.9432971050513278, 'LowVeg': 0.8504227817681592, 'Tree': 0.843419588955533, 'Car': 0.8502305233985, 'Clutter': 0.7614972365447877}\n",
      "val: {'mIoU': 0.792569102243289, 'F1': 0.8831940737552667, 'OA': 0.8772863646847517}\n",
      "{'ImSurf': 0.7923570222240359, 'Building': 0.8979530791990878, 'LowVeg': 0.7503398739786047, 'Tree': 0.7358243261975561, 'Car': 0.78637120961716, 'Clutter': 0.5331097147565553}\n",
      "Epoch 100: loss: 44.7736, train accuracy: 0.9352, valid accuracy:0.8773\n",
      "Start epoch #101, learning rate for this epoch: [2.8430288029929676e-09]\n"
     ]
    },
    {
     "name": "stderr",
     "output_type": "stream",
     "text": [
      "100%|██████████| 624/624 [04:10<00:00,  2.49it/s]\n"
     ]
    },
    {
     "name": "stdout",
     "output_type": "stream",
     "text": [
      "Done epoch #101, time for this epoch: 250.86352062225342s\n"
     ]
    },
    {
     "name": "stderr",
     "output_type": "stream",
     "text": [
      "100%|██████████| 175/175 [00:35<00:00,  4.92it/s]\n"
     ]
    },
    {
     "name": "stdout",
     "output_type": "stream",
     "text": [
      "(array([0.78907138, 0.89326636, 0.74941015, 0.73683255, 0.78770888,\n",
      "       0.51412118]), 0.7912578653183313, 0.8824423746349492, 0.8755652762452046)\n",
      "train: {'mIoU': 0.8781724744586619, 'F1': 0.9347108111044664, 'OA': 0.9361426524626904}\n",
      "{'ImSurf': 0.8936137675452847, 'Building': 0.9458244223950727, 'LowVeg': 0.850844106172598, 'Tree': 0.8460947745194892, 'Car': 0.8544853016608642, 'Clutter': 0.7602967663791594}\n",
      "val: {'mIoU': 0.7912578653183313, 'F1': 0.8824423746349492, 'OA': 0.8755652762452046}\n",
      "{'ImSurf': 0.7890713784833442, 'Building': 0.8932663630519164, 'LowVeg': 0.7494101514677471, 'Tree': 0.736832550836405, 'Car': 0.7877088827522438, 'Clutter': 0.5141211840376654}\n",
      "Epoch 101: loss: 44.7138, train accuracy: 0.9361, valid accuracy:0.8756\n",
      "Start epoch #102, learning rate for this epoch: [2.8430288029929676e-09]\n"
     ]
    },
    {
     "name": "stderr",
     "output_type": "stream",
     "text": [
      "100%|██████████| 624/624 [04:12<00:00,  2.47it/s]\n"
     ]
    },
    {
     "name": "stdout",
     "output_type": "stream",
     "text": [
      "Done epoch #102, time for this epoch: 252.22143149375916s\n"
     ]
    },
    {
     "name": "stderr",
     "output_type": "stream",
     "text": [
      "100%|██████████| 175/175 [00:35<00:00,  4.90it/s]\n"
     ]
    },
    {
     "name": "stdout",
     "output_type": "stream",
     "text": [
      "(array([0.78838576, 0.89430338, 0.74397976, 0.73529345, 0.78150753,\n",
      "       0.52426545]), 0.7886939745631409, 0.8807772250540798, 0.8740128012586649)\n",
      "train: {'mIoU': 0.8762950303459913, 'F1': 0.9336093665258935, 'OA': 0.9350358278323443}\n",
      "{'ImSurf': 0.8943060743012516, 'Building': 0.9457316061752936, 'LowVeg': 0.8480942556047194, 'Tree': 0.8424150410193006, 'Car': 0.8509281746293907, 'Clutter': 0.7501625930212314}\n",
      "val: {'mIoU': 0.7886939745631409, 'F1': 0.8807772250540798, 'OA': 0.8740128012586649}\n",
      "{'ImSurf': 0.7883857595227433, 'Building': 0.8943033798024319, 'LowVeg': 0.7439797600250065, 'Tree': 0.7352934484566306, 'Car': 0.7815075250088926, 'Clutter': 0.5242654480309398}\n",
      "Epoch 102: loss: 44.8924, train accuracy: 0.9350, valid accuracy:0.8740\n",
      "Start epoch #103, learning rate for this epoch: [2.8430288029929676e-09]\n"
     ]
    },
    {
     "name": "stderr",
     "output_type": "stream",
     "text": [
      "100%|██████████| 624/624 [04:11<00:00,  2.48it/s]\n"
     ]
    },
    {
     "name": "stdout",
     "output_type": "stream",
     "text": [
      "Done epoch #103, time for this epoch: 251.63895678520203s\n"
     ]
    },
    {
     "name": "stderr",
     "output_type": "stream",
     "text": [
      "100%|██████████| 175/175 [00:35<00:00,  4.90it/s]\n"
     ]
    },
    {
     "name": "stdout",
     "output_type": "stream",
     "text": [
      "(array([0.79245712, 0.89447845, 0.74915919, 0.72957449, 0.78073498,\n",
      "       0.51955899]), 0.7892808469957113, 0.8811243267498586, 0.8752817782410938)\n",
      "train: {'mIoU': 0.8792101167667831, 'F1': 0.9353144401353356, 'OA': 0.9368963852906839}\n",
      "{'ImSurf': 0.8951918769567415, 'Building': 0.9450622143752831, 'LowVeg': 0.8552292210176026, 'Tree': 0.8452004943857532, 'Car': 0.8553667770985354, 'Clutter': 0.7628029790442223}\n",
      "val: {'mIoU': 0.7892808469957113, 'F1': 0.8811243267498586, 'OA': 0.8752817782410938}\n",
      "{'ImSurf': 0.7924571184405895, 'Building': 0.8944784518622895, 'LowVeg': 0.7491591949564661, 'Tree': 0.7295744852771251, 'Car': 0.780734984442087, 'Clutter': 0.5195589885146533}\n",
      "Epoch 103: loss: 44.2298, train accuracy: 0.9369, valid accuracy:0.8753\n",
      "Start epoch #104, learning rate for this epoch: [2.8430288029929676e-09]\n"
     ]
    },
    {
     "name": "stderr",
     "output_type": "stream",
     "text": [
      "100%|██████████| 624/624 [04:12<00:00,  2.47it/s]\n"
     ]
    },
    {
     "name": "stdout",
     "output_type": "stream",
     "text": [
      "Done epoch #104, time for this epoch: 252.16384935379028s\n"
     ]
    },
    {
     "name": "stderr",
     "output_type": "stream",
     "text": [
      "100%|██████████| 175/175 [00:35<00:00,  4.93it/s]\n"
     ]
    },
    {
     "name": "stdout",
     "output_type": "stream",
     "text": [
      "(array([0.79202316, 0.89994959, 0.74247781, 0.73595843, 0.77988782,\n",
      "       0.52906501]), 0.7900593621713706, 0.8815450089925958, 0.8755669412386989)\n",
      "train: {'mIoU': 0.8773173332111488, 'F1': 0.9342103609800072, 'OA': 0.9362183900979849}\n",
      "{'ImSurf': 0.8935629949624595, 'Building': 0.9458878658480607, 'LowVeg': 0.8529585739533327, 'Tree': 0.8443617844902153, 'Car': 0.8498154468016764, 'Clutter': 0.7683089775868334}\n",
      "val: {'mIoU': 0.7900593621713706, 'F1': 0.8815450089925958, 'OA': 0.8755669412386989}\n",
      "{'ImSurf': 0.7920231635095504, 'Building': 0.8999495939111158, 'LowVeg': 0.7424778051364747, 'Tree': 0.7359584291769204, 'Car': 0.7798878191227918, 'Clutter': 0.5290650134417249}\n",
      "Epoch 104: loss: 44.4328, train accuracy: 0.9362, valid accuracy:0.8756\n",
      "Start epoch #105, learning rate for this epoch: [1.7058172817957805e-09]\n"
     ]
    },
    {
     "name": "stderr",
     "output_type": "stream",
     "text": [
      "100%|██████████| 624/624 [04:12<00:00,  2.47it/s]\n"
     ]
    },
    {
     "name": "stdout",
     "output_type": "stream",
     "text": [
      "Done epoch #105, time for this epoch: 252.8076593875885s\n"
     ]
    },
    {
     "name": "stderr",
     "output_type": "stream",
     "text": [
      "100%|██████████| 175/175 [00:35<00:00,  4.91it/s]\n"
     ]
    },
    {
     "name": "stdout",
     "output_type": "stream",
     "text": [
      "(array([0.79606108, 0.8968153 , 0.74881279, 0.72954513, 0.77960894,\n",
      "       0.52110613]), 0.7901686473853313, 0.881640878877187, 0.876510225776623)\n",
      "train: {'mIoU': 0.877642107992801, 'F1': 0.9343651129987898, 'OA': 0.9363781488858737}\n",
      "{'ImSurf': 0.8952929899457236, 'Building': 0.9481593018530257, 'LowVeg': 0.8502563005139981, 'Tree': 0.8438435625079996, 'Car': 0.8506583851432579, 'Clutter': 0.7585037466591721}\n",
      "val: {'mIoU': 0.7901686473853313, 'F1': 0.881640878877187, 'OA': 0.876510225776623}\n",
      "{'ImSurf': 0.796061076771503, 'Building': 0.8968153000709941, 'LowVeg': 0.7488127916906832, 'Tree': 0.7295451301931216, 'Car': 0.7796089382003552, 'Clutter': 0.521106130328789}\n",
      "Epoch 105: loss: 44.4499, train accuracy: 0.9364, valid accuracy:0.8765\n",
      "Start epoch #106, learning rate for this epoch: [1.7058172817957805e-09]\n"
     ]
    },
    {
     "name": "stderr",
     "output_type": "stream",
     "text": [
      "100%|██████████| 624/624 [04:15<00:00,  2.44it/s]\n"
     ]
    },
    {
     "name": "stdout",
     "output_type": "stream",
     "text": [
      "Done epoch #106, time for this epoch: 255.26788759231567s\n"
     ]
    },
    {
     "name": "stderr",
     "output_type": "stream",
     "text": [
      "100%|██████████| 175/175 [00:35<00:00,  4.93it/s]\n"
     ]
    },
    {
     "name": "stdout",
     "output_type": "stream",
     "text": [
      "(array([0.79590775, 0.8943547 , 0.74686197, 0.74203389, 0.7865964 ,\n",
      "       0.51474315]), 0.7931509411077647, 0.8836296217896532, 0.876659319371691)\n",
      "train: {'mIoU': 0.8781233315595859, 'F1': 0.9346482752312854, 'OA': 0.9358622233072916}\n",
      "{'ImSurf': 0.8939337236577379, 'Building': 0.9482928868164245, 'LowVeg': 0.849235705279166, 'Tree': 0.8425280032366749, 'Car': 0.8566263388079264, 'Clutter': 0.7525273361735728}\n",
      "val: {'mIoU': 0.7931509411077647, 'F1': 0.8836296217896532, 'OA': 0.876659319371691}\n",
      "{'ImSurf': 0.7959077527522646, 'Building': 0.8943547015042392, 'LowVeg': 0.746861969778558, 'Tree': 0.7420338861307353, 'Car': 0.786596395373027, 'Clutter': 0.5147431524423006}\n",
      "Epoch 106: loss: 44.7103, train accuracy: 0.9359, valid accuracy:0.8767\n",
      "Start epoch #107, learning rate for this epoch: [1.7058172817957805e-09]\n"
     ]
    },
    {
     "name": "stderr",
     "output_type": "stream",
     "text": [
      "100%|██████████| 624/624 [04:14<00:00,  2.45it/s]\n"
     ]
    },
    {
     "name": "stdout",
     "output_type": "stream",
     "text": [
      "Done epoch #107, time for this epoch: 254.99983048439026s\n"
     ]
    },
    {
     "name": "stderr",
     "output_type": "stream",
     "text": [
      "100%|██████████| 175/175 [00:35<00:00,  4.89it/s]\n"
     ]
    },
    {
     "name": "stdout",
     "output_type": "stream",
     "text": [
      "(array([0.7965572 , 0.89525687, 0.74863479, 0.73253055, 0.77689386,\n",
      "       0.53099055]), 0.7899746537303691, 0.8815607733314387, 0.8767377055127757)\n",
      "train: {'mIoU': 0.877193805648608, 'F1': 0.9341273085839216, 'OA': 0.9357269696700268}\n",
      "{'ImSurf': 0.8948632802925222, 'Building': 0.9462435373594148, 'LowVeg': 0.8506947066974437, 'Tree': 0.8438657432365947, 'Car': 0.8503017606570645, 'Clutter': 0.753155101144918}\n",
      "val: {'mIoU': 0.7899746537303691, 'F1': 0.8815607733314387, 'OA': 0.8767377055127757}\n",
      "{'ImSurf': 0.7965572018988352, 'Building': 0.8952568672996933, 'LowVeg': 0.7486347889292522, 'Tree': 0.732530553754706, 'Car': 0.7768938567693583, 'Clutter': 0.530990545524405}\n",
      "Epoch 107: loss: 44.5373, train accuracy: 0.9357, valid accuracy:0.8767\n",
      "Start epoch #108, learning rate for this epoch: [1.7058172817957805e-09]\n"
     ]
    },
    {
     "name": "stderr",
     "output_type": "stream",
     "text": [
      "100%|██████████| 624/624 [04:13<00:00,  2.46it/s]\n"
     ]
    },
    {
     "name": "stdout",
     "output_type": "stream",
     "text": [
      "Done epoch #108, time for this epoch: 253.27776074409485s\n"
     ]
    },
    {
     "name": "stderr",
     "output_type": "stream",
     "text": [
      "100%|██████████| 175/175 [00:34<00:00,  5.02it/s]\n"
     ]
    },
    {
     "name": "stdout",
     "output_type": "stream",
     "text": [
      "(array([0.79660342, 0.89691665, 0.75124465, 0.7391602 , 0.79209667,\n",
      "       0.54441219]), 0.7952043180955146, 0.8848818515058632, 0.8779593835352822)\n",
      "train: {'mIoU': 0.8772945208548686, 'F1': 0.9342164975160759, 'OA': 0.9351705068197006}\n",
      "{'ImSurf': 0.8923710070930331, 'Building': 0.9445469773083615, 'LowVeg': 0.8499266479592527, 'Tree': 0.8439704611518287, 'Car': 0.855657510761867, 'Clutter': 0.7555850871461164}\n",
      "val: {'mIoU': 0.7952043180955146, 'F1': 0.8848818515058632, 'OA': 0.8779593835352822}\n",
      "{'ImSurf': 0.7966034180652802, 'Building': 0.8969166485498803, 'LowVeg': 0.7512446516960535, 'Tree': 0.7391602020623617, 'Car': 0.7920966701039974, 'Clutter': 0.5444121919108833}\n",
      "Epoch 108: loss: 44.7191, train accuracy: 0.9352, valid accuracy:0.8780\n",
      "Start epoch #109, learning rate for this epoch: [1.0234903690774682e-09]\n"
     ]
    },
    {
     "name": "stderr",
     "output_type": "stream",
     "text": [
      "100%|██████████| 624/624 [04:10<00:00,  2.49it/s]\n"
     ]
    },
    {
     "name": "stdout",
     "output_type": "stream",
     "text": [
      "Done epoch #109, time for this epoch: 250.6040141582489s\n"
     ]
    },
    {
     "name": "stderr",
     "output_type": "stream",
     "text": [
      "100%|██████████| 175/175 [00:35<00:00,  4.91it/s]\n"
     ]
    },
    {
     "name": "stdout",
     "output_type": "stream",
     "text": [
      "(array([0.79707701, 0.8987672 , 0.7499026 , 0.73722772, 0.7866744 ,\n",
      "       0.53641503]), 0.7939297854577108, 0.8840376362269191, 0.8776545801867875)\n",
      "train: {'mIoU': 0.8804222267214161, 'F1': 0.9359624556138794, 'OA': 0.9376094249578623}\n",
      "{'ImSurf': 0.8996345573754718, 'Building': 0.948269342754817, 'LowVeg': 0.8524292914581547, 'Tree': 0.8460939578212879, 'Car': 0.8556839841973493, 'Clutter': 0.7641215029457057}\n",
      "val: {'mIoU': 0.7939297854577108, 'F1': 0.8840376362269191, 'OA': 0.8776545801867875}\n",
      "{'ImSurf': 0.7970770106362813, 'Building': 0.898767195346793, 'LowVeg': 0.7499025989085452, 'Tree': 0.7372277186693412, 'Car': 0.7866744037275932, 'Clutter': 0.5364150289605298}\n",
      "Epoch 109: loss: 44.0617, train accuracy: 0.9376, valid accuracy:0.8777\n",
      "Start epoch #110, learning rate for this epoch: [1.0234903690774682e-09]\n"
     ]
    },
    {
     "name": "stderr",
     "output_type": "stream",
     "text": [
      "100%|██████████| 624/624 [04:12<00:00,  2.47it/s]\n"
     ]
    },
    {
     "name": "stdout",
     "output_type": "stream",
     "text": [
      "Done epoch #110, time for this epoch: 252.16026306152344s\n"
     ]
    },
    {
     "name": "stderr",
     "output_type": "stream",
     "text": [
      "100%|██████████| 175/175 [00:35<00:00,  4.88it/s]\n"
     ]
    },
    {
     "name": "stdout",
     "output_type": "stream",
     "text": [
      "(array([0.79270424, 0.89936411, 0.7486054 , 0.72567247, 0.78396199,\n",
      "       0.53805419]), 0.7900616419313635, 0.8815091572265953, 0.8760249787581881)\n",
      "train: {'mIoU': 0.8764222100513728, 'F1': 0.9336835552792693, 'OA': 0.9354810225657928}\n",
      "{'ImSurf': 0.8932468240669259, 'Building': 0.94620384136186, 'LowVeg': 0.850624351148225, 'Tree': 0.8416918748200037, 'Car': 0.8503441588598483, 'Clutter': 0.7615028652188451}\n",
      "val: {'mIoU': 0.7900616419313635, 'F1': 0.8815091572265953, 'OA': 0.8760249787581881}\n",
      "{'ImSurf': 0.7927042353508992, 'Building': 0.8993641145762941, 'LowVeg': 0.7486053958185508, 'Tree': 0.7256724733126785, 'Car': 0.7839619905983949, 'Clutter': 0.5380541884950194}\n",
      "Epoch 110: loss: 44.5726, train accuracy: 0.9355, valid accuracy:0.8760\n",
      "Start epoch #111, learning rate for this epoch: [1.0234903690774682e-09]\n"
     ]
    },
    {
     "name": "stderr",
     "output_type": "stream",
     "text": [
      "100%|██████████| 624/624 [04:11<00:00,  2.49it/s]\n"
     ]
    },
    {
     "name": "stdout",
     "output_type": "stream",
     "text": [
      "Done epoch #111, time for this epoch: 251.00873827934265s\n"
     ]
    },
    {
     "name": "stderr",
     "output_type": "stream",
     "text": [
      "100%|██████████| 175/175 [00:36<00:00,  4.84it/s]\n"
     ]
    },
    {
     "name": "stdout",
     "output_type": "stream",
     "text": [
      "(array([0.79614135, 0.89504319, 0.75285333, 0.73605194, 0.7883214 ,\n",
      "       0.52870621]), 0.793682241014823, 0.883942745121527, 0.8777042780518103)\n",
      "train: {'mIoU': 0.8791493470815471, 'F1': 0.9352821830491415, 'OA': 0.936686390485519}\n",
      "{'ImSurf': 0.8937662625073461, 'Building': 0.9456660078476714, 'LowVeg': 0.8539120649573659, 'Tree': 0.8476648255941311, 'Car': 0.8547375745012205, 'Clutter': 0.7602004865168978}\n",
      "val: {'mIoU': 0.793682241014823, 'F1': 0.883942745121527, 'OA': 0.8777042780518103}\n",
      "{'ImSurf': 0.7961413465550191, 'Building': 0.8950431935640527, 'LowVeg': 0.7528533268842954, 'Tree': 0.7360519428294519, 'Car': 0.7883213952412956, 'Clutter': 0.5287062096703379}\n",
      "Epoch 111: loss: 44.4317, train accuracy: 0.9367, valid accuracy:0.8777\n",
      "Start epoch #112, learning rate for this epoch: [1.0234903690774682e-09]\n"
     ]
    },
    {
     "name": "stderr",
     "output_type": "stream",
     "text": [
      "100%|██████████| 624/624 [04:11<00:00,  2.48it/s]\n"
     ]
    },
    {
     "name": "stdout",
     "output_type": "stream",
     "text": [
      "Done epoch #112, time for this epoch: 251.66205382347107s\n"
     ]
    },
    {
     "name": "stderr",
     "output_type": "stream",
     "text": [
      "100%|██████████| 175/175 [00:35<00:00,  4.96it/s]\n"
     ]
    },
    {
     "name": "stdout",
     "output_type": "stream",
     "text": [
      "(array([0.7985833 , 0.90332421, 0.74862672, 0.73505053, 0.78780787,\n",
      "       0.5122645 ]), 0.7946785261803004, 0.8844146521561029, 0.8783117925530273)\n",
      "train: {'mIoU': 0.8764116218117275, 'F1': 0.9337027995076157, 'OA': 0.9349475548817561}\n",
      "{'ImSurf': 0.892388939976358, 'Building': 0.9443481236619369, 'LowVeg': 0.8486388664981587, 'Tree': 0.8429184555295368, 'Car': 0.8537637233926468, 'Clutter': 0.7552702353362131}\n",
      "val: {'mIoU': 0.7946785261803004, 'F1': 0.8844146521561029, 'OA': 0.8783117925530273}\n",
      "{'ImSurf': 0.7985832998519106, 'Building': 0.903324213221756, 'LowVeg': 0.7486267212088333, 'Tree': 0.7350505307641038, 'Car': 0.7878078658548988, 'Clutter': 0.5122645035225756}\n",
      "Epoch 112: loss: 44.7529, train accuracy: 0.9349, valid accuracy:0.8783\n",
      "Start epoch #113, learning rate for this epoch: [6.140942214464809e-10]\n"
     ]
    },
    {
     "name": "stderr",
     "output_type": "stream",
     "text": [
      "100%|██████████| 624/624 [04:12<00:00,  2.47it/s]\n"
     ]
    },
    {
     "name": "stdout",
     "output_type": "stream",
     "text": [
      "Done epoch #113, time for this epoch: 252.5111539363861s\n"
     ]
    },
    {
     "name": "stderr",
     "output_type": "stream",
     "text": [
      "100%|██████████| 175/175 [00:35<00:00,  4.97it/s]\n"
     ]
    },
    {
     "name": "stdout",
     "output_type": "stream",
     "text": [
      "(array([0.78959117, 0.89057259, 0.73582287, 0.73334318, 0.7931991 ,\n",
      "       0.50138844]), 0.7885057816665928, 0.8806379469209673, 0.8719532590757918)\n",
      "train: {'mIoU': 0.8785971135900722, 'F1': 0.9349258021537962, 'OA': 0.9366049705407559}\n",
      "{'ImSurf': 0.8959761836573493, 'Building': 0.9476770446252029, 'LowVeg': 0.8521417629546405, 'Tree': 0.8457758528744026, 'Car': 0.8514147238387662, 'Clutter': 0.7567092341601999}\n",
      "val: {'mIoU': 0.7885057816665928, 'F1': 0.8806379469209673, 'OA': 0.8719532590757918}\n",
      "{'ImSurf': 0.7895911663846796, 'Building': 0.8905725925237374, 'LowVeg': 0.7358228711296718, 'Tree': 0.7333431769436771, 'Car': 0.793199101351198, 'Clutter': 0.5013884365132233}\n",
      "Epoch 113: loss: 44.2863, train accuracy: 0.9366, valid accuracy:0.8720\n",
      "Start epoch #114, learning rate for this epoch: [6.140942214464809e-10]\n"
     ]
    },
    {
     "name": "stderr",
     "output_type": "stream",
     "text": [
      "100%|██████████| 624/624 [04:11<00:00,  2.48it/s]\n"
     ]
    },
    {
     "name": "stdout",
     "output_type": "stream",
     "text": [
      "Done epoch #114, time for this epoch: 251.25226092338562s\n"
     ]
    },
    {
     "name": "stderr",
     "output_type": "stream",
     "text": [
      "100%|██████████| 175/175 [00:35<00:00,  4.88it/s]\n"
     ]
    },
    {
     "name": "stdout",
     "output_type": "stream",
     "text": [
      "(array([0.79642616, 0.90275455, 0.74857499, 0.73347552, 0.79655366,\n",
      "       0.5430212 ]), 0.7955569751394457, 0.8849576215977454, 0.8781155643066054)\n",
      "train: {'mIoU': 0.8803130071433809, 'F1': 0.9359310050991132, 'OA': 0.9374493391085894}\n",
      "{'ImSurf': 0.8974569446663605, 'Building': 0.9463027817422208, 'LowVeg': 0.8544378003906541, 'Tree': 0.8456150982893593, 'Car': 0.8577524106283096, 'Clutter': 0.7683475337532661}\n",
      "val: {'mIoU': 0.7955569751394457, 'F1': 0.8849576215977454, 'OA': 0.8781155643066054}\n",
      "{'ImSurf': 0.7964261561524908, 'Building': 0.9027545539086498, 'LowVeg': 0.7485749852802136, 'Tree': 0.7334755191374563, 'Car': 0.7965536612184179, 'Clutter': 0.5430211973471435}\n",
      "Epoch 114: loss: 44.1708, train accuracy: 0.9374, valid accuracy:0.8781\n",
      "Start epoch #115, learning rate for this epoch: [6.140942214464809e-10]\n"
     ]
    },
    {
     "name": "stderr",
     "output_type": "stream",
     "text": [
      "100%|██████████| 624/624 [04:12<00:00,  2.47it/s]\n"
     ]
    },
    {
     "name": "stdout",
     "output_type": "stream",
     "text": [
      "Done epoch #115, time for this epoch: 252.65502071380615s\n"
     ]
    },
    {
     "name": "stderr",
     "output_type": "stream",
     "text": [
      "100%|██████████| 175/175 [00:35<00:00,  4.89it/s]\n"
     ]
    },
    {
     "name": "stdout",
     "output_type": "stream",
     "text": [
      "(array([0.79223971, 0.89310171, 0.75200589, 0.73734285, 0.77750604,\n",
      "       0.52248606]), 0.7904392408584779, 0.8819413319136983, 0.8761345944811949)\n",
      "train: {'mIoU': 0.8774543662841848, 'F1': 0.9343095293185388, 'OA': 0.9355127077836257}\n",
      "{'ImSurf': 0.8940144873456142, 'Building': 0.943975679615409, 'LowVeg': 0.8513508471837278, 'Tree': 0.8448924369911842, 'Car': 0.8530383802849894, 'Clutter': 0.7543908467656293}\n",
      "val: {'mIoU': 0.7904392408584779, 'F1': 0.8819413319136983, 'OA': 0.8761345944811949}\n",
      "{'ImSurf': 0.7922397071152154, 'Building': 0.8931017095389462, 'LowVeg': 0.7520058940498818, 'Tree': 0.7373428544604297, 'Car': 0.7775060391279168, 'Clutter': 0.5224860559749711}\n",
      "Epoch 115: loss: 44.7697, train accuracy: 0.9355, valid accuracy:0.8761\n",
      "Start epoch #116, learning rate for this epoch: [6.140942214464809e-10]\n"
     ]
    },
    {
     "name": "stderr",
     "output_type": "stream",
     "text": [
      "100%|██████████| 624/624 [04:11<00:00,  2.48it/s]\n"
     ]
    },
    {
     "name": "stdout",
     "output_type": "stream",
     "text": [
      "Done epoch #116, time for this epoch: 251.85010814666748s\n"
     ]
    },
    {
     "name": "stderr",
     "output_type": "stream",
     "text": [
      "100%|██████████| 175/175 [00:35<00:00,  4.88it/s]\n"
     ]
    },
    {
     "name": "stdout",
     "output_type": "stream",
     "text": [
      "(array([0.80030314, 0.89916322, 0.75455026, 0.73884923, 0.78260193,\n",
      "       0.53029588]), 0.7950935566244024, 0.8847891808375223, 0.879775606635998)\n",
      "train: {'mIoU': 0.8779943625764026, 'F1': 0.9345785014920981, 'OA': 0.9364524774062328}\n",
      "{'ImSurf': 0.8979516878261218, 'Building': 0.9459315251883378, 'LowVeg': 0.8516363904297647, 'Tree': 0.8416345488643914, 'Car': 0.8528176605733978, 'Clutter': 0.7646635831633325}\n",
      "val: {'mIoU': 0.7950935566244024, 'F1': 0.8847891808375223, 'OA': 0.879775606635998}\n",
      "{'ImSurf': 0.8003031400358461, 'Building': 0.899163218875852, 'LowVeg': 0.7545502603189141, 'Tree': 0.738849231752659, 'Car': 0.7826019321387406, 'Clutter': 0.5302958841411012}\n",
      "Epoch 116: loss: 44.3824, train accuracy: 0.9365, valid accuracy:0.8798\n",
      "Start epoch #117, learning rate for this epoch: [3.684565328678885e-10]\n"
     ]
    },
    {
     "name": "stderr",
     "output_type": "stream",
     "text": [
      "100%|██████████| 624/624 [04:12<00:00,  2.47it/s]\n"
     ]
    },
    {
     "name": "stdout",
     "output_type": "stream",
     "text": [
      "Done epoch #117, time for this epoch: 252.9375867843628s\n"
     ]
    },
    {
     "name": "stderr",
     "output_type": "stream",
     "text": [
      "100%|██████████| 175/175 [00:35<00:00,  4.95it/s]\n"
     ]
    },
    {
     "name": "stdout",
     "output_type": "stream",
     "text": [
      "(array([0.79952561, 0.89926832, 0.75126581, 0.73899644, 0.78809674,\n",
      "       0.55242325]), 0.7954305830739102, 0.8849862923908386, 0.8791961669921874)\n",
      "train: {'mIoU': 0.87722753704886, 'F1': 0.9341607663106444, 'OA': 0.9357297328802255}\n",
      "{'ImSurf': 0.8930472775144576, 'Building': 0.9457666428117448, 'LowVeg': 0.8521446075737846, 'Tree': 0.8429326847915334, 'Car': 0.8522464725527793, 'Clutter': 0.7624479472480847}\n",
      "val: {'mIoU': 0.7954305830739102, 'F1': 0.8849862923908386, 'OA': 0.8791961669921874}\n",
      "{'ImSurf': 0.7995256063064535, 'Building': 0.8992683195508432, 'LowVeg': 0.7512658092984219, 'Tree': 0.7389964368555274, 'Car': 0.7880967433583045, 'Clutter': 0.5524232487725178}\n",
      "Epoch 117: loss: 44.5831, train accuracy: 0.9357, valid accuracy:0.8792\n",
      "Start epoch #118, learning rate for this epoch: [3.684565328678885e-10]\n"
     ]
    },
    {
     "name": "stderr",
     "output_type": "stream",
     "text": [
      "100%|██████████| 624/624 [04:15<00:00,  2.44it/s]\n"
     ]
    },
    {
     "name": "stdout",
     "output_type": "stream",
     "text": [
      "Done epoch #118, time for this epoch: 255.91094541549683s\n"
     ]
    },
    {
     "name": "stderr",
     "output_type": "stream",
     "text": [
      "100%|██████████| 175/175 [00:36<00:00,  4.78it/s]\n"
     ]
    },
    {
     "name": "stdout",
     "output_type": "stream",
     "text": [
      "(array([0.78686892, 0.89798248, 0.74932778, 0.73204838, 0.78880244,\n",
      "       0.5168079 ]), 0.7910060009324041, 0.8821816584750731, 0.8754426691913809)\n",
      "train: {'mIoU': 0.8789249869422214, 'F1': 0.9351162596790239, 'OA': 0.9372429052988688}\n",
      "{'ImSurf': 0.8965445442605543, 'Building': 0.9472585078195448, 'LowVeg': 0.8546455904304662, 'Tree': 0.8437032997257158, 'Car': 0.8524729924748256, 'Clutter': 0.7622442051956485}\n",
      "val: {'mIoU': 0.7910060009324041, 'F1': 0.8821816584750731, 'OA': 0.8754426691913809}\n",
      "{'ImSurf': 0.7868689244333784, 'Building': 0.8979824785769633, 'LowVeg': 0.7493277777463978, 'Tree': 0.7320483804390453, 'Car': 0.7888024434662355, 'Clutter': 0.5168078992459447}\n",
      "Epoch 118: loss: 44.2582, train accuracy: 0.9372, valid accuracy:0.8754\n",
      "Start epoch #119, learning rate for this epoch: [3.684565328678885e-10]\n"
     ]
    },
    {
     "name": "stderr",
     "output_type": "stream",
     "text": [
      "100%|██████████| 624/624 [04:14<00:00,  2.45it/s]\n"
     ]
    },
    {
     "name": "stdout",
     "output_type": "stream",
     "text": [
      "Done epoch #119, time for this epoch: 254.99012112617493s\n"
     ]
    },
    {
     "name": "stderr",
     "output_type": "stream",
     "text": [
      "100%|██████████| 175/175 [00:35<00:00,  4.88it/s]\n"
     ]
    },
    {
     "name": "stdout",
     "output_type": "stream",
     "text": [
      "(array([0.79449769, 0.89768063, 0.74806178, 0.73634796, 0.78533162,\n",
      "       0.5275207 ]), 0.792383936823166, 0.8830713256652711, 0.8771544687198547)\n",
      "train: {'mIoU': 0.8782538868780424, 'F1': 0.9347158620404621, 'OA': 0.9361176062852908}\n",
      "{'ImSurf': 0.8956985390557133, 'Building': 0.9481438803498098, 'LowVeg': 0.8510799610352665, 'Tree': 0.8409445502899388, 'Car': 0.8554025036594833, 'Clutter': 0.7614756036353956}\n",
      "val: {'mIoU': 0.792383936823166, 'F1': 0.8830713256652711, 'OA': 0.8771544687198547}\n",
      "{'ImSurf': 0.7944976935620621, 'Building': 0.8976806328338104, 'LowVeg': 0.7480617807389461, 'Tree': 0.7363479590761958, 'Car': 0.7853316179048158, 'Clutter': 0.527520702878579}\n",
      "Epoch 119: loss: 44.6012, train accuracy: 0.9361, valid accuracy:0.8772\n",
      "Start epoch #120, learning rate for this epoch: [3.684565328678885e-10]\n"
     ]
    },
    {
     "name": "stderr",
     "output_type": "stream",
     "text": [
      "100%|██████████| 624/624 [04:19<00:00,  2.41it/s]\n"
     ]
    },
    {
     "name": "stdout",
     "output_type": "stream",
     "text": [
      "Done epoch #120, time for this epoch: 259.25208020210266s\n"
     ]
    },
    {
     "name": "stderr",
     "output_type": "stream",
     "text": [
      "100%|██████████| 175/175 [00:36<00:00,  4.77it/s]"
     ]
    },
    {
     "name": "stdout",
     "output_type": "stream",
     "text": [
      "(array([0.79486331, 0.89394538, 0.74590056, 0.7384597 , 0.79026342,\n",
      "       0.50233417]), 0.792686473404865, 0.8833148024951128, 0.8745771792836952)\n",
      "train: {'mIoU': 0.8759729121613349, 'F1': 0.9334323801965978, 'OA': 0.9345611486679468}\n",
      "{'ImSurf': 0.8902833707456734, 'Building': 0.9463747862393554, 'LowVeg': 0.8470074956854924, 'Tree': 0.8416912907795837, 'Car': 0.854507617356569, 'Clutter': 0.7598920930702073}\n",
      "val: {'mIoU': 0.792686473404865, 'F1': 0.8833148024951128, 'OA': 0.8745771792836952}\n",
      "{'ImSurf': 0.7948633062567049, 'Building': 0.893945375255564, 'LowVeg': 0.7459005644303537, 'Tree': 0.7384597001487226, 'Car': 0.7902634209329794, 'Clutter': 0.5023341744808133}\n",
      "Epoch 120: loss: 44.8718, train accuracy: 0.9346, valid accuracy:0.8746\n"
     ]
    },
    {
     "name": "stderr",
     "output_type": "stream",
     "text": [
      "\n"
     ]
    }
   ],
   "source": [
    "wandb.login(\n",
    "    # set the wandb project where this run will be logged\n",
    "#     project= \"PolypSegment\", \n",
    "    key = \"fce1a1d66b4e11a4dfb138a721a7f283a942ae4a\",\n",
    ")\n",
    "id = wandb.util.generate_id()\n",
    "print(id)\n",
    "wandb.init(id=id,project = \"MANet \", resume=\"allow\")\n",
    "\n",
    "\n",
    "\n",
    "# Training loop\n",
    "train_loss_array = []\n",
    "test_loss_array = []\n",
    "last_loss = 9999999999999\n",
    "for epoch in range(epochs):\n",
    "    train_loss_epoch = 0\n",
    "    test_loss_epoch = 0\n",
    "    train_loss_epoch, train_eval_value, test_loss_epoch, eval_value = train(train_loader, \n",
    "                                              val_loader, \n",
    "                                              learing_rate_scheduler, epoch, display_step)\n",
    "    \n",
    "    if test_loss_epoch < last_loss:\n",
    "        save_model(model, optimizer, checkpoint_path)\n",
    "        last_loss = test_loss_epoch\n",
    "        \n",
    "    iou_value = {}\n",
    "    iou_per_class,mIoU,F1,OA=train_eval_value\n",
    "    eval_value_train = {'mIoU': mIoU,\n",
    "                      'F1': F1,\n",
    "                      'OA': OA}                                          \n",
    "    print('train:', eval_value_train)\n",
    "    train_accuracy.append(OA)\n",
    "    wandb.log({'mIoU_train': mIoU,\n",
    "                      'F1_train': F1,\n",
    "                      'OA_train': OA}) \n",
    "    \n",
    "    for class_name, iou in zip(CLASSES,iou_per_class):\n",
    "        wandb.log({f\"{class_name}_train_IOU\": iou})\n",
    "        iou_value[class_name] = iou\n",
    "    print(iou_value)\n",
    "           \n",
    "    iou_value = {}\n",
    "    iou_per_class,mIoU,F1,OA = eval_value\n",
    "    eval_value_val = {'mIoU': mIoU,\n",
    "                      'F1': F1,\n",
    "                      'OA': OA}                                          \n",
    "    print('val:', eval_value_val)\n",
    "    valid_accuracy.append(OA)\n",
    "    wandb.log({'mIoU_val': mIoU,\n",
    "                      'F1_val': F1,\n",
    "                      'OA_val': OA})\n",
    "    for class_name, iou in zip(CLASSES,iou_per_class):\n",
    "        wandb.log({f\"{class_name}_val_IoU\": iou})\n",
    "        iou_value[class_name] = iou\n",
    "    print(iou_value)\n",
    "    \n",
    "    learing_rate_scheduler.step()\n",
    "    train_loss_array.append(train_loss_epoch)\n",
    "    test_loss_array.append(test_loss_epoch)\n",
    "    wandb.log({\"Train loss\": train_loss_epoch, \"Valid loss\": test_loss_epoch})\n",
    "    print(\"Epoch {}: loss: {:.4f}, train accuracy: {:.4f}, valid accuracy:{:.4f}\".format(epoch + 1, \n",
    "                                        train_loss_array[-1], train_accuracy[-1], valid_accuracy[-1]))"
   ]
  },
  {
   "cell_type": "code",
   "execution_count": 30,
   "id": "c546914b",
   "metadata": {
    "_cell_guid": "1be956e4-3b64-4c03-b9a8-a35c37764cb1",
    "_uuid": "52b9d5e8-04d4-42e3-9548-4feb8b3fd540",
    "collapsed": false,
    "execution": {
     "iopub.execute_input": "2023-12-17T03:06:03.831792Z",
     "iopub.status.busy": "2023-12-17T03:06:03.831372Z",
     "iopub.status.idle": "2023-12-17T03:06:03.904594Z",
     "shell.execute_reply": "2023-12-17T03:06:03.903678Z"
    },
    "jupyter": {
     "outputs_hidden": false
    },
    "papermill": {
     "duration": 8.216058,
     "end_time": "2023-12-17T03:06:03.906368",
     "exception": false,
     "start_time": "2023-12-17T03:05:55.690310",
     "status": "completed"
    },
    "tags": []
   },
   "outputs": [],
   "source": [
    "torch.cuda.empty_cache()"
   ]
  },
  {
   "cell_type": "code",
   "execution_count": 31,
   "id": "3717a95e",
   "metadata": {
    "_cell_guid": "ec21eed8-0936-4381-af39-e3211e2f68ff",
    "_uuid": "93f3701e-1589-411f-b529-d76a8966df1d",
    "collapsed": false,
    "execution": {
     "iopub.execute_input": "2023-12-17T03:06:20.370312Z",
     "iopub.status.busy": "2023-12-17T03:06:20.369393Z",
     "iopub.status.idle": "2023-12-17T03:06:20.377855Z",
     "shell.execute_reply": "2023-12-17T03:06:20.376923Z"
    },
    "jupyter": {
     "outputs_hidden": false
    },
    "papermill": {
     "duration": 8.381529,
     "end_time": "2023-12-17T03:06:20.379805",
     "exception": false,
     "start_time": "2023-12-17T03:06:11.998276",
     "status": "completed"
    },
    "tags": []
   },
   "outputs": [],
   "source": [
    "def img_writer(inp):\n",
    "    (mask,  mask_id, rgb) = inp\n",
    "    if rgb:\n",
    "        mask_name_tif = mask_id + '.png'\n",
    "        mask_tif = label2rgb(mask)\n",
    "        cv2.imwrite(mask_name_tif, mask_tif)\n",
    "    else:\n",
    "        mask_png = mask.astype(np.uint8)\n",
    "        mask_name_png = mask_id + '.png'\n",
    "        cv2.imwrite(mask_name_png, mask_png)\n",
    "\n",
    "\n",
    "def get_args():\n",
    "    parser = argparse.ArgumentParser()\n",
    "    arg = parser.add_argument\n",
    "    arg(\"-c\", \"--config_path\", type=Path, required=True, help=\"Path to  config\")\n",
    "    arg(\"-o\", \"--output_path\", type=Path, help=\"Path where to save resulting masks.\", required=True)\n",
    "    arg(\"-t\", \"--tta\", help=\"Test time augmentation.\", default=None, choices=[None, \"d4\", \"lr\"])\n",
    "    arg(\"--rgb\", help=\"whether output rgb images\", action='store_true')\n",
    "    return parser.parse_args()"
   ]
  },
  {
   "cell_type": "code",
   "execution_count": 32,
   "id": "a1ac2adc",
   "metadata": {
    "_cell_guid": "cbbeb32c-5175-46cb-b1b0-aab36ba130ea",
    "_uuid": "986bfaf2-af2b-4c47-a33b-e2fe20a5c58d",
    "collapsed": false,
    "execution": {
     "iopub.execute_input": "2023-12-17T03:06:36.729536Z",
     "iopub.status.busy": "2023-12-17T03:06:36.728723Z",
     "iopub.status.idle": "2023-12-17T03:06:37.316392Z",
     "shell.execute_reply": "2023-12-17T03:06:37.315349Z"
    },
    "jupyter": {
     "outputs_hidden": false
    },
    "papermill": {
     "duration": 8.755931,
     "end_time": "2023-12-17T03:06:37.318784",
     "exception": false,
     "start_time": "2023-12-17T03:06:28.562853",
     "status": "completed"
    },
    "tags": []
   },
   "outputs": [],
   "source": [
    "test_dataset = PotsdamDataset(data_root='/kaggle/input/deep-data-potsdam-vaihingen/Deep_data_segmentation/Split/Vaihingen/Test',\n",
    "                              transform=val_aug)"
   ]
  },
  {
   "cell_type": "code",
   "execution_count": 33,
   "id": "f78c2923",
   "metadata": {
    "_cell_guid": "8af035d1-dceb-4c17-aaea-4bc6d0506110",
    "_uuid": "3ab3274b-2ed4-4f34-a909-e42fbcf748c0",
    "collapsed": false,
    "execution": {
     "iopub.execute_input": "2023-12-17T03:06:53.714535Z",
     "iopub.status.busy": "2023-12-17T03:06:53.714129Z",
     "iopub.status.idle": "2023-12-17T03:07:04.458456Z",
     "shell.execute_reply": "2023-12-17T03:07:04.456590Z"
    },
    "jupyter": {
     "outputs_hidden": false
    },
    "papermill": {
     "duration": 19.101891,
     "end_time": "2023-12-17T03:07:04.461178",
     "exception": false,
     "start_time": "2023-12-17T03:06:45.359287",
     "status": "completed"
    },
    "tags": []
   },
   "outputs": [
    {
     "name": "stderr",
     "output_type": "stream",
     "text": [
      "100%|██████████| 235/235 [00:10<00:00, 22.08it/s]"
     ]
    },
    {
     "name": "stdout",
     "output_type": "stream",
     "text": [
      "F1_ImSurf:0.43957900583178955, IOU_ImSurf:0.28170539070842815\n",
      "F1_Building:0.6705241124415788, IOU_Building:0.5043522178299861\n",
      "F1_LowVeg:0.05581974427918313, IOU_LowVeg:0.02871119800488233\n",
      "F1_Tree:0.024636375999477437, IOU_Tree:0.012471818201037665\n",
      "F1_Car:0.06351907178842495, IOU_Car:0.032801289629579566\n",
      "F1_Clutter:0.029110011708522707, IOU_Clutter:0.014769983043933142\n",
      "F1:0.2508156620680908, mIOU:0.17200838287478276, OA:0.2699881695686502\n"
     ]
    },
    {
     "name": "stderr",
     "output_type": "stream",
     "text": [
      "\n"
     ]
    },
    {
     "name": "stdout",
     "output_type": "stream",
     "text": [
      "images writing spends: 0.06462860107421875 s\n"
     ]
    }
   ],
   "source": [
    "model.cuda()\n",
    "model.eval()\n",
    "evaluator = Evaluator(num_class=6)\n",
    "evaluator.reset()\n",
    "with torch.no_grad():\n",
    "    test_loader = DataLoader(\n",
    "        test_dataset,\n",
    "        batch_size=2,\n",
    "        num_workers=2,\n",
    "        pin_memory=False,\n",
    "        drop_last=False,\n",
    "    )\n",
    "    results = []\n",
    "    for input in tqdm(test_loader):\n",
    "        # raw_prediction NxCxHxW\n",
    "        raw_predictions = model(input['img'].cuda())\n",
    "\n",
    "        image_ids = input[\"img_id\"]\n",
    "        masks_true = input['gt_semantic_seg']\n",
    "\n",
    "        raw_predictions = nn.Softmax(dim=1)(raw_predictions)\n",
    "        predictions = raw_predictions.argmax(dim=1)\n",
    "\n",
    "        for i in range(raw_predictions.shape[0]):\n",
    "            mask = predictions[i].cpu().numpy()\n",
    "            evaluator.add_batch(pre_image=mask, gt_image=masks_true[i].cpu().numpy())\n",
    "            mask_name = image_ids[i]\n",
    "iou_per_class = evaluator.Intersection_over_Union()\n",
    "f1_per_class = evaluator.F1()\n",
    "OA = evaluator.OA()\n",
    "for class_name, class_iou, class_f1 in zip(CLASSES, iou_per_class, f1_per_class):\n",
    "    print('F1_{}:{}, IOU_{}:{}'.format(class_name, class_f1, class_name, class_iou))\n",
    "print('F1:{}, mIOU:{}, OA:{}'.format(np.nanmean(f1_per_class[:-1]), np.nanmean(iou_per_class[:-1]), OA))\n",
    "t0 = time.time()\n",
    "mpp.Pool(processes=2).map(img_writer, results)\n",
    "t1 = time.time()\n",
    "img_write_time = t1 - t0\n",
    "print('images writing spends: {} s'.format(img_write_time))"
   ]
  }
 ],
 "metadata": {
  "kaggle": {
   "accelerator": "nvidiaTeslaT4",
   "dataSources": [
    {
     "datasetId": 4130659,
     "sourceId": 7153471,
     "sourceType": "datasetVersion"
    },
    {
     "datasetId": 4139055,
     "sourceId": 7165240,
     "sourceType": "datasetVersion"
    },
    {
     "datasetId": 4145006,
     "sourceId": 7173542,
     "sourceType": "datasetVersion"
    },
    {
     "datasetId": 4148253,
     "sourceId": 7177819,
     "sourceType": "datasetVersion"
    }
   ],
   "dockerImageVersionId": 30616,
   "isGpuEnabled": true,
   "isInternetEnabled": true,
   "language": "python",
   "sourceType": "notebook"
  },
  "kernelspec": {
   "display_name": "Python 3",
   "language": "python",
   "name": "python3"
  },
  "language_info": {
   "codemirror_mode": {
    "name": "ipython",
    "version": 3
   },
   "file_extension": ".py",
   "mimetype": "text/x-python",
   "name": "python",
   "nbconvert_exporter": "python",
   "pygments_lexer": "ipython3",
   "version": "3.10.12"
  },
  "papermill": {
   "default_parameters": {},
   "duration": 35109.468582,
   "end_time": "2023-12-17T03:07:15.507131",
   "environment_variables": {},
   "exception": null,
   "input_path": "__notebook__.ipynb",
   "output_path": "__notebook__.ipynb",
   "parameters": {},
   "start_time": "2023-12-16T17:22:06.038549",
   "version": "2.4.0"
  },
  "widgets": {
   "application/vnd.jupyter.widget-state+json": {
    "state": {
     "15b42da653a744859b8c20d9fee5dd2f": {
      "model_module": "@jupyter-widgets/base",
      "model_module_version": "1.2.0",
      "model_name": "LayoutModel",
      "state": {
       "_model_module": "@jupyter-widgets/base",
       "_model_module_version": "1.2.0",
       "_model_name": "LayoutModel",
       "_view_count": null,
       "_view_module": "@jupyter-widgets/base",
       "_view_module_version": "1.2.0",
       "_view_name": "LayoutView",
       "align_content": null,
       "align_items": null,
       "align_self": null,
       "border": null,
       "bottom": null,
       "display": null,
       "flex": null,
       "flex_flow": null,
       "grid_area": null,
       "grid_auto_columns": null,
       "grid_auto_flow": null,
       "grid_auto_rows": null,
       "grid_column": null,
       "grid_gap": null,
       "grid_row": null,
       "grid_template_areas": null,
       "grid_template_columns": null,
       "grid_template_rows": null,
       "height": null,
       "justify_content": null,
       "justify_items": null,
       "left": null,
       "margin": null,
       "max_height": null,
       "max_width": null,
       "min_height": null,
       "min_width": null,
       "object_fit": null,
       "object_position": null,
       "order": null,
       "overflow": null,
       "overflow_x": null,
       "overflow_y": null,
       "padding": null,
       "right": null,
       "top": null,
       "visibility": null,
       "width": null
      }
     },
     "1da121f3b39245baa2c8b5053a7d8bfe": {
      "model_module": "@jupyter-widgets/controls",
      "model_module_version": "1.5.0",
      "model_name": "DescriptionStyleModel",
      "state": {
       "_model_module": "@jupyter-widgets/controls",
       "_model_module_version": "1.5.0",
       "_model_name": "DescriptionStyleModel",
       "_view_count": null,
       "_view_module": "@jupyter-widgets/base",
       "_view_module_version": "1.2.0",
       "_view_name": "StyleView",
       "description_width": ""
      }
     },
     "35094b1f7edb46398b874d9be41e6143": {
      "model_module": "@jupyter-widgets/controls",
      "model_module_version": "1.5.0",
      "model_name": "FloatProgressModel",
      "state": {
       "_dom_classes": [],
       "_model_module": "@jupyter-widgets/controls",
       "_model_module_version": "1.5.0",
       "_model_name": "FloatProgressModel",
       "_view_count": null,
       "_view_module": "@jupyter-widgets/controls",
       "_view_module_version": "1.5.0",
       "_view_name": "ProgressView",
       "bar_style": "success",
       "description": "",
       "description_tooltip": null,
       "layout": "IPY_MODEL_5bba510581bb42a98e541da96d6171eb",
       "max": 102469840.0,
       "min": 0.0,
       "orientation": "horizontal",
       "style": "IPY_MODEL_60494b57a35841d9a9648e5dc79e55c5",
       "value": 102469840.0
      }
     },
     "58317b568283451882c2ef61330944ba": {
      "model_module": "@jupyter-widgets/controls",
      "model_module_version": "1.5.0",
      "model_name": "HBoxModel",
      "state": {
       "_dom_classes": [],
       "_model_module": "@jupyter-widgets/controls",
       "_model_module_version": "1.5.0",
       "_model_name": "HBoxModel",
       "_view_count": null,
       "_view_module": "@jupyter-widgets/controls",
       "_view_module_version": "1.5.0",
       "_view_name": "HBoxView",
       "box_style": "",
       "children": [
        "IPY_MODEL_9a1eb481e72f44dd80ffb3977fa8e092",
        "IPY_MODEL_35094b1f7edb46398b874d9be41e6143",
        "IPY_MODEL_f254a66a740c4164b5ce96656755ce29"
       ],
       "layout": "IPY_MODEL_9703e404ace5470eaa7b81f5ad072988"
      }
     },
     "5bba510581bb42a98e541da96d6171eb": {
      "model_module": "@jupyter-widgets/base",
      "model_module_version": "1.2.0",
      "model_name": "LayoutModel",
      "state": {
       "_model_module": "@jupyter-widgets/base",
       "_model_module_version": "1.2.0",
       "_model_name": "LayoutModel",
       "_view_count": null,
       "_view_module": "@jupyter-widgets/base",
       "_view_module_version": "1.2.0",
       "_view_name": "LayoutView",
       "align_content": null,
       "align_items": null,
       "align_self": null,
       "border": null,
       "bottom": null,
       "display": null,
       "flex": null,
       "flex_flow": null,
       "grid_area": null,
       "grid_auto_columns": null,
       "grid_auto_flow": null,
       "grid_auto_rows": null,
       "grid_column": null,
       "grid_gap": null,
       "grid_row": null,
       "grid_template_areas": null,
       "grid_template_columns": null,
       "grid_template_rows": null,
       "height": null,
       "justify_content": null,
       "justify_items": null,
       "left": null,
       "margin": null,
       "max_height": null,
       "max_width": null,
       "min_height": null,
       "min_width": null,
       "object_fit": null,
       "object_position": null,
       "order": null,
       "overflow": null,
       "overflow_x": null,
       "overflow_y": null,
       "padding": null,
       "right": null,
       "top": null,
       "visibility": null,
       "width": null
      }
     },
     "60494b57a35841d9a9648e5dc79e55c5": {
      "model_module": "@jupyter-widgets/controls",
      "model_module_version": "1.5.0",
      "model_name": "ProgressStyleModel",
      "state": {
       "_model_module": "@jupyter-widgets/controls",
       "_model_module_version": "1.5.0",
       "_model_name": "ProgressStyleModel",
       "_view_count": null,
       "_view_module": "@jupyter-widgets/base",
       "_view_module_version": "1.2.0",
       "_view_name": "StyleView",
       "bar_color": null,
       "description_width": ""
      }
     },
     "6594e833442e482bbfaedbb193286b6e": {
      "model_module": "@jupyter-widgets/base",
      "model_module_version": "1.2.0",
      "model_name": "LayoutModel",
      "state": {
       "_model_module": "@jupyter-widgets/base",
       "_model_module_version": "1.2.0",
       "_model_name": "LayoutModel",
       "_view_count": null,
       "_view_module": "@jupyter-widgets/base",
       "_view_module_version": "1.2.0",
       "_view_name": "LayoutView",
       "align_content": null,
       "align_items": null,
       "align_self": null,
       "border": null,
       "bottom": null,
       "display": null,
       "flex": null,
       "flex_flow": null,
       "grid_area": null,
       "grid_auto_columns": null,
       "grid_auto_flow": null,
       "grid_auto_rows": null,
       "grid_column": null,
       "grid_gap": null,
       "grid_row": null,
       "grid_template_areas": null,
       "grid_template_columns": null,
       "grid_template_rows": null,
       "height": null,
       "justify_content": null,
       "justify_items": null,
       "left": null,
       "margin": null,
       "max_height": null,
       "max_width": null,
       "min_height": null,
       "min_width": null,
       "object_fit": null,
       "object_position": null,
       "order": null,
       "overflow": null,
       "overflow_x": null,
       "overflow_y": null,
       "padding": null,
       "right": null,
       "top": null,
       "visibility": null,
       "width": null
      }
     },
     "91511a0e9c1640daa669082493f1e448": {
      "model_module": "@jupyter-widgets/controls",
      "model_module_version": "1.5.0",
      "model_name": "DescriptionStyleModel",
      "state": {
       "_model_module": "@jupyter-widgets/controls",
       "_model_module_version": "1.5.0",
       "_model_name": "DescriptionStyleModel",
       "_view_count": null,
       "_view_module": "@jupyter-widgets/base",
       "_view_module_version": "1.2.0",
       "_view_name": "StyleView",
       "description_width": ""
      }
     },
     "9703e404ace5470eaa7b81f5ad072988": {
      "model_module": "@jupyter-widgets/base",
      "model_module_version": "1.2.0",
      "model_name": "LayoutModel",
      "state": {
       "_model_module": "@jupyter-widgets/base",
       "_model_module_version": "1.2.0",
       "_model_name": "LayoutModel",
       "_view_count": null,
       "_view_module": "@jupyter-widgets/base",
       "_view_module_version": "1.2.0",
       "_view_name": "LayoutView",
       "align_content": null,
       "align_items": null,
       "align_self": null,
       "border": null,
       "bottom": null,
       "display": null,
       "flex": null,
       "flex_flow": null,
       "grid_area": null,
       "grid_auto_columns": null,
       "grid_auto_flow": null,
       "grid_auto_rows": null,
       "grid_column": null,
       "grid_gap": null,
       "grid_row": null,
       "grid_template_areas": null,
       "grid_template_columns": null,
       "grid_template_rows": null,
       "height": null,
       "justify_content": null,
       "justify_items": null,
       "left": null,
       "margin": null,
       "max_height": null,
       "max_width": null,
       "min_height": null,
       "min_width": null,
       "object_fit": null,
       "object_position": null,
       "order": null,
       "overflow": null,
       "overflow_x": null,
       "overflow_y": null,
       "padding": null,
       "right": null,
       "top": null,
       "visibility": null,
       "width": null
      }
     },
     "9a1eb481e72f44dd80ffb3977fa8e092": {
      "model_module": "@jupyter-widgets/controls",
      "model_module_version": "1.5.0",
      "model_name": "HTMLModel",
      "state": {
       "_dom_classes": [],
       "_model_module": "@jupyter-widgets/controls",
       "_model_module_version": "1.5.0",
       "_model_name": "HTMLModel",
       "_view_count": null,
       "_view_module": "@jupyter-widgets/controls",
       "_view_module_version": "1.5.0",
       "_view_name": "HTMLView",
       "description": "",
       "description_tooltip": null,
       "layout": "IPY_MODEL_15b42da653a744859b8c20d9fee5dd2f",
       "placeholder": "​",
       "style": "IPY_MODEL_91511a0e9c1640daa669082493f1e448",
       "value": "model.safetensors: 100%"
      }
     },
     "f254a66a740c4164b5ce96656755ce29": {
      "model_module": "@jupyter-widgets/controls",
      "model_module_version": "1.5.0",
      "model_name": "HTMLModel",
      "state": {
       "_dom_classes": [],
       "_model_module": "@jupyter-widgets/controls",
       "_model_module_version": "1.5.0",
       "_model_name": "HTMLModel",
       "_view_count": null,
       "_view_module": "@jupyter-widgets/controls",
       "_view_module_version": "1.5.0",
       "_view_name": "HTMLView",
       "description": "",
       "description_tooltip": null,
       "layout": "IPY_MODEL_6594e833442e482bbfaedbb193286b6e",
       "placeholder": "​",
       "style": "IPY_MODEL_1da121f3b39245baa2c8b5053a7d8bfe",
       "value": " 102M/102M [00:00&lt;00:00, 159MB/s]"
      }
     }
    },
    "version_major": 2,
    "version_minor": 0
   }
  }
 },
 "nbformat": 4,
 "nbformat_minor": 5
}
