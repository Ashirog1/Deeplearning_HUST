{
 "cells": [
  {
   "cell_type": "code",
   "execution_count": 1,
   "id": "5285c8db",
   "metadata": {
    "_cell_guid": "b1076dfc-b9ad-4769-8c92-a6c4dae69d19",
    "_uuid": "8f2839f25d086af736a60e9eeb907d3b93b6e0e5",
    "execution": {
     "iopub.execute_input": "2023-12-15T02:22:01.713272Z",
     "iopub.status.busy": "2023-12-15T02:22:01.712447Z",
     "iopub.status.idle": "2023-12-15T02:22:15.126635Z",
     "shell.execute_reply": "2023-12-15T02:22:15.125472Z"
    },
    "papermill": {
     "duration": 13.430984,
     "end_time": "2023-12-15T02:22:15.129048",
     "exception": false,
     "start_time": "2023-12-15T02:22:01.698064",
     "status": "completed"
    },
    "tags": []
   },
   "outputs": [
    {
     "name": "stdout",
     "output_type": "stream",
     "text": [
      "Collecting torchgeometry\r\n",
      "  Downloading torchgeometry-0.1.2-py2.py3-none-any.whl (42 kB)\r\n",
      "\u001b[2K     \u001b[90m━━━━━━━━━━━━━━━━━━━━━━━━━━━━━━━━━━━━━━━━\u001b[0m \u001b[32m42.7/42.7 kB\u001b[0m \u001b[31m3.0 MB/s\u001b[0m eta \u001b[36m0:00:00\u001b[0m\r\n",
      "\u001b[?25hRequirement already satisfied: torch>=1.0.0 in /opt/conda/lib/python3.10/site-packages (from torchgeometry) (2.0.0)\r\n",
      "Requirement already satisfied: filelock in /opt/conda/lib/python3.10/site-packages (from torch>=1.0.0->torchgeometry) (3.12.2)\r\n",
      "Requirement already satisfied: typing-extensions in /opt/conda/lib/python3.10/site-packages (from torch>=1.0.0->torchgeometry) (4.5.0)\r\n",
      "Requirement already satisfied: sympy in /opt/conda/lib/python3.10/site-packages (from torch>=1.0.0->torchgeometry) (1.12)\r\n",
      "Requirement already satisfied: networkx in /opt/conda/lib/python3.10/site-packages (from torch>=1.0.0->torchgeometry) (3.1)\r\n",
      "Requirement already satisfied: jinja2 in /opt/conda/lib/python3.10/site-packages (from torch>=1.0.0->torchgeometry) (3.1.2)\r\n",
      "Requirement already satisfied: MarkupSafe>=2.0 in /opt/conda/lib/python3.10/site-packages (from jinja2->torch>=1.0.0->torchgeometry) (2.1.3)\r\n",
      "Requirement already satisfied: mpmath>=0.19 in /opt/conda/lib/python3.10/site-packages (from sympy->torch>=1.0.0->torchgeometry) (1.3.0)\r\n",
      "Installing collected packages: torchgeometry\r\n",
      "Successfully installed torchgeometry-0.1.2\r\n"
     ]
    }
   ],
   "source": [
    "\n",
    "!pip install torchgeometry\n"
   ]
  },
  {
   "cell_type": "code",
   "execution_count": 2,
   "id": "9f778d8a",
   "metadata": {
    "execution": {
     "iopub.execute_input": "2023-12-15T02:22:15.157235Z",
     "iopub.status.busy": "2023-12-15T02:22:15.156854Z",
     "iopub.status.idle": "2023-12-15T02:22:26.680887Z",
     "shell.execute_reply": "2023-12-15T02:22:26.679870Z"
    },
    "papermill": {
     "duration": 11.540999,
     "end_time": "2023-12-15T02:22:26.683332",
     "exception": false,
     "start_time": "2023-12-15T02:22:15.142333",
     "status": "completed"
    },
    "tags": []
   },
   "outputs": [
    {
     "name": "stdout",
     "output_type": "stream",
     "text": [
      "Name: torch\r\n",
      "Version: 2.0.0\r\n",
      "Summary: Tensors and Dynamic neural networks in Python with strong GPU acceleration\r\n",
      "Home-page: https://pytorch.org/\r\n",
      "Author: PyTorch Team\r\n",
      "Author-email: packages@pytorch.org\r\n",
      "License: BSD-3\r\n",
      "Location: /opt/conda/lib/python3.10/site-packages\r\n",
      "Requires: filelock, jinja2, networkx, sympy, typing-extensions\r\n",
      "Required-by: accelerate, catalyst, easyocr, fastai, kornia, pytorch-ignite, pytorch-lightning, stable-baselines3, timm, torchaudio, torchdata, torchgeometry, torchmetrics, torchtext, torchvision\r\n"
     ]
    }
   ],
   "source": [
    "!pip show torch\n"
   ]
  },
  {
   "cell_type": "code",
   "execution_count": 3,
   "id": "957fbe5a",
   "metadata": {
    "execution": {
     "iopub.execute_input": "2023-12-15T02:22:26.712078Z",
     "iopub.status.busy": "2023-12-15T02:22:26.711176Z",
     "iopub.status.idle": "2023-12-15T02:22:37.363775Z",
     "shell.execute_reply": "2023-12-15T02:22:37.362899Z"
    },
    "papermill": {
     "duration": 10.669525,
     "end_time": "2023-12-15T02:22:37.366134",
     "exception": false,
     "start_time": "2023-12-15T02:22:26.696609",
     "status": "completed"
    },
    "tags": []
   },
   "outputs": [
    {
     "name": "stderr",
     "output_type": "stream",
     "text": [
      "/opt/conda/lib/python3.10/site-packages/scipy/__init__.py:146: UserWarning: A NumPy version >=1.16.5 and <1.23.0 is required for this version of SciPy (detected version 1.24.3\n",
      "  warnings.warn(f\"A NumPy version >={np_minversion} and <{np_maxversion}\"\n"
     ]
    }
   ],
   "source": [
    "\n",
    "# from torchgeometry.losses import one_hot\n",
    "import os\n",
    "import os.path as osp\n",
    "\n",
    "import cv2\n",
    "import time\n",
    "import imageio\n",
    "import random\n",
    "import math\n",
    "import numbers\n",
    "from tqdm import tqdm\n",
    "from collections import OrderedDict\n",
    "import wandb\n",
    "import glob\n",
    "from pathlib import Path\n",
    "import argparse\n",
    "from typing import Dict,Tuple,Optional,List\n",
    "\n",
    "import pandas as pd\n",
    "import numpy as np\n",
    "from PIL import Image, ImageOps, ImageEnhance\n",
    "import matplotlib.pyplot as plt\n",
    "\n",
    "import torch\n",
    "import torch.nn as nn\n",
    "import torch.nn.functional as F\n",
    "import torch.optim as optim\n",
    "from torch.optim import lr_scheduler\n",
    "from torch import Tensor\n",
    "from torch.utils.data import Dataset, DataLoader, random_split\n",
    "from torchvision.transforms import (Pad, ColorJitter, Resize, FiveCrop, RandomResizedCrop,\n",
    "                                    RandomHorizontalFlip, RandomRotation, RandomVerticalFlip,\n",
    "                                    PILToTensor, ToPILImage, Compose, InterpolationMode)\n",
    "\n",
    "import pytorch_lightning as pl\n",
    "from pytorch_lightning.callbacks import ModelCheckpoint\n",
    "from pytorch_lightning.loggers import CSVLogger\n",
    "\n",
    "import albumentations as A\n",
    "import albumentations as albu\n",
    "from albumentations.pytorch.transforms import ToTensorV2\n",
    "\n",
    "import multiprocessing.pool as mpp\n",
    "import multiprocessing as mp\n",
    "\n",
    "from scipy.ndimage.morphology import generate_binary_structure, binary_erosion\n",
    "from scipy.ndimage import maximum_filter\n"
   ]
  },
  {
   "cell_type": "code",
   "execution_count": 4,
   "id": "c3950271",
   "metadata": {
    "execution": {
     "iopub.execute_input": "2023-12-15T02:22:37.395914Z",
     "iopub.status.busy": "2023-12-15T02:22:37.394929Z",
     "iopub.status.idle": "2023-12-15T02:22:37.410511Z",
     "shell.execute_reply": "2023-12-15T02:22:37.409635Z"
    },
    "papermill": {
     "duration": 0.03309,
     "end_time": "2023-12-15T02:22:37.412587",
     "exception": false,
     "start_time": "2023-12-15T02:22:37.379497",
     "status": "completed"
    },
    "tags": []
   },
   "outputs": [
    {
     "data": {
      "text/plain": [
       "device(type='cuda')"
      ]
     },
     "execution_count": 4,
     "metadata": {},
     "output_type": "execute_result"
    }
   ],
   "source": [
    "device = torch.device(\"cuda\" if torch.cuda.is_available() else \"cpu\")\n",
    "device"
   ]
  },
  {
   "cell_type": "markdown",
   "id": "f2392028",
   "metadata": {
    "papermill": {
     "duration": 0.01319,
     "end_time": "2023-12-15T02:22:37.439223",
     "exception": false,
     "start_time": "2023-12-15T02:22:37.426033",
     "status": "completed"
    },
    "tags": []
   },
   "source": [
    "# Parameters"
   ]
  },
  {
   "cell_type": "code",
   "execution_count": 5,
   "id": "78a5b90d",
   "metadata": {
    "execution": {
     "iopub.execute_input": "2023-12-15T02:22:37.467946Z",
     "iopub.status.busy": "2023-12-15T02:22:37.467174Z",
     "iopub.status.idle": "2023-12-15T02:22:37.472671Z",
     "shell.execute_reply": "2023-12-15T02:22:37.471826Z"
    },
    "papermill": {
     "duration": 0.022092,
     "end_time": "2023-12-15T02:22:37.474738",
     "exception": false,
     "start_time": "2023-12-15T02:22:37.452646",
     "status": "completed"
    },
    "tags": []
   },
   "outputs": [],
   "source": [
    "num_classes = 6\n",
    "\n",
    "# Number of epoch\n",
    "epochs = 100\n",
    "\n",
    "# Hyperparameters for training \n",
    "learning_rate = 8e-04\n",
    "batch_size = 8\n",
    "display_step = 2\n",
    "\n",
    "# Model path\n",
    "checkpoint_path = '/kaggle/working/unet_model.pth'\n",
    "pretrained_path = \"/kaggle/input/model2/unet_model (1).pth\"\n",
    "# Initialize lists to keep track of loss and accuracy\n",
    "loss_epoch_array = []\n",
    "train_accuracy = []\n",
    "test_accuracy = []\n",
    "valid_accuracy = []"
   ]
  },
  {
   "cell_type": "code",
   "execution_count": 6,
   "id": "2751ca88",
   "metadata": {
    "execution": {
     "iopub.execute_input": "2023-12-15T02:22:37.503153Z",
     "iopub.status.busy": "2023-12-15T02:22:37.502279Z",
     "iopub.status.idle": "2023-12-15T02:22:37.528612Z",
     "shell.execute_reply": "2023-12-15T02:22:37.527808Z"
    },
    "papermill": {
     "duration": 0.042591,
     "end_time": "2023-12-15T02:22:37.530528",
     "exception": false,
     "start_time": "2023-12-15T02:22:37.487937",
     "status": "completed"
    },
    "tags": []
   },
   "outputs": [],
   "source": [
    "SEED = 42\n",
    "\n",
    "\n",
    "def seed_everything(seed):\n",
    "    random.seed(seed)\n",
    "    os.environ['PYTHONHASHSEED'] = str(seed)\n",
    "    np.random.seed(seed)\n",
    "    torch.manual_seed(seed)\n",
    "    torch.cuda.manual_seed(seed)\n",
    "    torch.backends.cudnn.deterministic = True\n",
    "    torch.backends.cudnn.benchmark = True\n",
    "seed_everything(42)\n",
    "\n",
    "ImSurf = np.array([255, 255, 255])  # label 0\n",
    "Building = np.array([255, 0, 0]) # label 1\n",
    "LowVeg = np.array([255, 255, 0]) # label 2\n",
    "Tree = np.array([0, 255, 0]) # label 3\n",
    "Car = np.array([0, 255, 255]) # label 4\n",
    "Clutter = np.array([0, 0, 255]) # label 5\n",
    "Boundary = np.array([0, 0, 0]) # label 6\n",
    "num_classes = 6\n",
    "\n",
    "\n",
    "\n",
    "\n",
    "\n",
    "def pv2rgb(mask):\n",
    "    h, w = mask.shape[0], mask.shape[1]\n",
    "    mask_rgb = np.zeros(shape=(h, w, 3), dtype=np.uint8)\n",
    "    mask_convert = mask[np.newaxis, :, :]\n",
    "    mask_rgb[np.all(mask_convert == 3, axis=0)] = [0, 255, 0]\n",
    "    mask_rgb[np.all(mask_convert == 0, axis=0)] = [255, 255, 255]\n",
    "    mask_rgb[np.all(mask_convert == 1, axis=0)] = [255, 0, 0]\n",
    "    mask_rgb[np.all(mask_convert == 2, axis=0)] = [255, 255, 0]\n",
    "    mask_rgb[np.all(mask_convert == 4, axis=0)] = [0, 204, 255]\n",
    "    mask_rgb[np.all(mask_convert == 5, axis=0)] = [0, 0, 255]\n",
    "    return mask_rgb\n",
    "def label2rgb(mask):\n",
    "    h, w = mask.shape[0], mask.shape[1]\n",
    "    mask_rgb = np.zeros(shape=(h, w, 3), dtype=np.uint8)\n",
    "    mask_convert = mask[np.newaxis, :, :]\n",
    "    mask_rgb[np.all(mask_convert == 3, axis=0)] = [0, 255, 0]\n",
    "    mask_rgb[np.all(mask_convert == 0, axis=0)] = [255, 255, 255]\n",
    "    mask_rgb[np.all(mask_convert == 1, axis=0)] = [255, 0, 0]\n",
    "    mask_rgb[np.all(mask_convert == 2, axis=0)] = [255, 255, 0]\n",
    "    mask_rgb[np.all(mask_convert == 4, axis=0)] = [0, 204, 255]\n",
    "    mask_rgb[np.all(mask_convert == 5, axis=0)] = [0, 0, 255]\n",
    "    return mask_rgb\n",
    "\n",
    "\n",
    "\n",
    "def car_color_replace(mask):\n",
    "    mask = cv2.cvtColor(np.array(mask.copy()), cv2.COLOR_RGB2BGR)\n",
    "    mask[np.all(mask == [0, 255, 255], axis=-1)] = [0, 204, 255]\n",
    "\n",
    "    return mask\n",
    "\n",
    "\n",
    "def rgb_to_2D_label(_label):\n",
    "    _label = _label.transpose(2, 0, 1)\n",
    "    label_seg = np.zeros(_label.shape[1:], dtype=np.uint8)\n",
    "    label_seg[np.all(_label.transpose([1, 2, 0]) == ImSurf, axis=-1)] = 0\n",
    "    label_seg[np.all(_label.transpose([1, 2, 0]) == Building, axis=-1)] = 1\n",
    "    label_seg[np.all(_label.transpose([1, 2, 0]) == LowVeg, axis=-1)] = 2\n",
    "    label_seg[np.all(_label.transpose([1, 2, 0]) == Tree, axis=-1)] = 3\n",
    "    label_seg[np.all(_label.transpose([1, 2, 0]) == Car, axis=-1)] = 4\n",
    "    label_seg[np.all(_label.transpose([1, 2, 0]) == Clutter, axis=-1)] = 5\n",
    "    label_seg[np.all(_label.transpose([1, 2, 0]) == Boundary, axis=-1)] = 6\n",
    "    return label_seg\n",
    "\n",
    "\n",
    "\n",
    "    "
   ]
  },
  {
   "cell_type": "markdown",
   "id": "600d5f0d",
   "metadata": {
    "papermill": {
     "duration": 0.012772,
     "end_time": "2023-12-15T02:22:37.556621",
     "exception": false,
     "start_time": "2023-12-15T02:22:37.543849",
     "status": "completed"
    },
    "tags": []
   },
   "source": [
    " # Split Data"
   ]
  },
  {
   "cell_type": "markdown",
   "id": "1777f4da",
   "metadata": {
    "papermill": {
     "duration": 0.012727,
     "end_time": "2023-12-15T02:22:37.582255",
     "exception": false,
     "start_time": "2023-12-15T02:22:37.569528",
     "status": "completed"
    },
    "tags": []
   },
   "source": [
    " # Dataloader"
   ]
  },
  {
   "cell_type": "code",
   "execution_count": 7,
   "id": "31d2a352",
   "metadata": {
    "execution": {
     "iopub.execute_input": "2023-12-15T02:22:37.609989Z",
     "iopub.status.busy": "2023-12-15T02:22:37.609663Z",
     "iopub.status.idle": "2023-12-15T02:22:37.639167Z",
     "shell.execute_reply": "2023-12-15T02:22:37.638420Z"
    },
    "papermill": {
     "duration": 0.046291,
     "end_time": "2023-12-15T02:22:37.641363",
     "exception": false,
     "start_time": "2023-12-15T02:22:37.595072",
     "status": "completed"
    },
    "tags": []
   },
   "outputs": [],
   "source": [
    "CLASSES = ('ImSurf', 'Building', 'LowVeg', 'Tree', 'Car', 'Clutter')\n",
    "class_label={0:'ImSurf', 1:'Building',2: 'LowVeg', 3:'Tree', 4:'Car',5: 'Clutter'}\n",
    "PALETTE = [[255, 255, 255], [0, 0, 255], [0, 255, 255], [0, 255, 0], [255, 204, 0], [255, 0, 0]]\n",
    "\n",
    "ORIGIN_IMG_SIZE = (256, 256)\n",
    "INPUT_IMG_SIZE = (256, 256)\n",
    "TEST_IMG_SIZE = (256, 256)\n",
    "\n",
    "def get_training_transform():\n",
    "    train_transform = [\n",
    "        # albu.RandomBrightnessContrast(brightness_limit=0.25, contrast_limit=0.25, p=0.15),\n",
    "        # albu.RandomRotate90(p=0.25),\n",
    "        albu.Normalize()\n",
    "    ]\n",
    "    return albu.Compose(train_transform)\n",
    "\n",
    "def get_val_transform():\n",
    "    val_transform = [\n",
    "        albu.Normalize()\n",
    "    ]\n",
    "    return albu.Compose(val_transform)\n",
    "\n",
    "\n",
    "def val_aug(img, mask):\n",
    "    img, mask = np.array(img), np.array(mask)\n",
    "    aug = get_val_transform()(image=img.copy(), mask=mask.copy())\n",
    "    img, mask = aug['image'], aug['mask']\n",
    "    return img, mask\n",
    "\n",
    "\n",
    "class PotsdamDataset(Dataset):\n",
    "    def __init__(self, data_root='/kaggle/input/deep-data-potsdam-vaihingen/Deep_data_segmentation/Split/Potsdam/', mode='val', img_dir='Image', mask_dir='Label/',\n",
    "                 img_suffix='.tif', mask_suffix='.png', transform=val_aug, mosaic_ratio=0.0,\n",
    "                 img_size=ORIGIN_IMG_SIZE):\n",
    "        self.data_root = data_root\n",
    "        self.img_dir = img_dir\n",
    "        self.mask_dir = mask_dir\n",
    "        self.img_suffix = img_suffix\n",
    "        self.mask_suffix = mask_suffix\n",
    "        self.transform = transform\n",
    "        self.mode = mode\n",
    "        self.mosaic_ratio = mosaic_ratio\n",
    "        self.img_size = img_size\n",
    "        self.img_ids = self.get_img_ids(self.data_root, self.img_dir, self.mask_dir)\n",
    "\n",
    "    def __getitem__(self, index):\n",
    "        p_ratio = random.random()\n",
    "        if p_ratio > self.mosaic_ratio or self.mode == 'val' or self.mode == 'test':\n",
    "            img, mask = self.load_img_and_mask(index)\n",
    "            if self.transform:\n",
    "                img, mask = self.transform(img, mask)\n",
    "        else:\n",
    "            img, mask = self.load_mosaic_img_and_mask(index)\n",
    "            if self.transform:\n",
    "                img, mask = self.transform(img, mask)\n",
    "\n",
    "        img = torch.from_numpy(img).permute(2, 0, 1).float()\n",
    "        mask = torch.from_numpy(mask).long()\n",
    "        img_id = self.img_ids[index]\n",
    "        results = dict(img_id=img_id, img=img, gt_semantic_seg=mask)\n",
    "        return results\n",
    "\n",
    "    def __len__(self):\n",
    "        return len(self.img_ids)\n",
    "\n",
    "    def get_img_ids(self, data_root, img_dir, mask_dir):\n",
    "        img_filename_list = os.listdir(osp.join(data_root, img_dir))\n",
    "        mask_filename_list = os.listdir(osp.join(data_root, mask_dir))\n",
    "        assert len(img_filename_list) == len(mask_filename_list)\n",
    "        img_ids = [str(id.split('.')[0]) for id in mask_filename_list]\n",
    "        return img_ids\n",
    "\n",
    "    def load_img_and_mask(self, index):\n",
    "        img_id = self.img_ids[index]\n",
    "        img_name = osp.join(self.data_root, self.img_dir, img_id + self.img_suffix)\n",
    "        mask_name = osp.join(self.data_root, self.mask_dir, img_id + self.mask_suffix)\n",
    "        img = Image.open(img_name).convert('RGB')\n",
    "        mask = Image.open(mask_name).convert('L')\n",
    "        return img, mask\n",
    "\n",
    "    def load_mosaic_img_and_mask(self, index):\n",
    "        indexes = [index] + [random.randint(0, len(self.img_ids) - 1) for _ in range(3)]\n",
    "        img_a, mask_a = self.load_img_and_mask(indexes[0])\n",
    "        img_b, mask_b = self.load_img_and_mask(indexes[1])\n",
    "        img_c, mask_c = self.load_img_and_mask(indexes[2])\n",
    "        img_d, mask_d = self.load_img_and_mask(indexes[3])\n",
    "\n",
    "        img_a, mask_a = np.array(img_a), np.array(mask_a)\n",
    "        img_b, mask_b = np.array(img_b), np.array(mask_b)\n",
    "        img_c, mask_c = np.array(img_c), np.array(mask_c)\n",
    "        img_d, mask_d = np.array(img_d), np.array(mask_d)\n",
    "\n",
    "        w = self.img_size[1]\n",
    "        h = self.img_size[0]\n",
    "\n",
    "        start_x = w // 4\n",
    "        strat_y = h // 4\n",
    "        # The coordinates of the splice center\n",
    "        offset_x = random.randint(start_x, (w - start_x))\n",
    "        offset_y = random.randint(strat_y, (h - strat_y))\n",
    "\n",
    "        crop_size_a = (offset_x, offset_y)\n",
    "        crop_size_b = (w - offset_x, offset_y)\n",
    "        crop_size_c = (offset_x, h - offset_y)\n",
    "        crop_size_d = (w - offset_x, h - offset_y)\n",
    "\n",
    "        random_crop_a = albu.RandomCrop(width=crop_size_a[0], height=crop_size_a[1])\n",
    "        random_crop_b = albu.RandomCrop(width=crop_size_b[0], height=crop_size_b[1])\n",
    "        random_crop_c = albu.RandomCrop(width=crop_size_c[0], height=crop_size_c[1])\n",
    "        random_crop_d = albu.RandomCrop(width=crop_size_d[0], height=crop_size_d[1])\n",
    "\n",
    "        croped_a = random_crop_a(image=img_a.copy(), mask=mask_a.copy())\n",
    "        croped_b = random_crop_b(image=img_b.copy(), mask=mask_b.copy())\n",
    "        croped_c = random_crop_c(image=img_c.copy(), mask=mask_c.copy())\n",
    "        croped_d = random_crop_d(image=img_d.copy(), mask=mask_d.copy())\n",
    "\n",
    "        img_crop_a, mask_crop_a = croped_a['image'], croped_a['mask']\n",
    "        img_crop_b, mask_crop_b = croped_b['image'], croped_b['mask']\n",
    "        img_crop_c, mask_crop_c = croped_c['image'], croped_c['mask']\n",
    "        img_crop_d, mask_crop_d = croped_d['image'], croped_d['mask']\n",
    "\n",
    "        top = np.concatenate((img_crop_a, img_crop_b), axis=1)\n",
    "        bottom = np.concatenate((img_crop_c, img_crop_d), axis=1)\n",
    "        img = np.concatenate((top, bottom), axis=0)\n",
    "\n",
    "        top_mask = np.concatenate((mask_crop_a, mask_crop_b), axis=1)\n",
    "        bottom_mask = np.concatenate((mask_crop_c, mask_crop_d), axis=1)\n",
    "        mask = np.concatenate((top_mask, bottom_mask), axis=0)\n",
    "        mask = np.ascontiguousarray(mask)\n",
    "        img = np.ascontiguousarray(img)\n",
    "\n",
    "        img = Image.fromarray(img)\n",
    "        mask = Image.fromarray(mask)\n",
    "\n",
    "        return img, mask"
   ]
  },
  {
   "cell_type": "code",
   "execution_count": 8,
   "id": "c94371cb",
   "metadata": {
    "execution": {
     "iopub.execute_input": "2023-12-15T02:22:37.726194Z",
     "iopub.status.busy": "2023-12-15T02:22:37.725509Z",
     "iopub.status.idle": "2023-12-15T02:22:39.368742Z",
     "shell.execute_reply": "2023-12-15T02:22:39.367925Z"
    },
    "papermill": {
     "duration": 1.660135,
     "end_time": "2023-12-15T02:22:39.371109",
     "exception": false,
     "start_time": "2023-12-15T02:22:37.710974",
     "status": "completed"
    },
    "tags": []
   },
   "outputs": [],
   "source": [
    "\n",
    "train_dataset = PotsdamDataset(data_root='/kaggle/input/deep-data-potsdam-vaihingen/Deep_data_segmentation/Split/Potsdam/', mode='train',\n",
    "                               mosaic_ratio=0.25, transform=val_aug)\n",
    "\n",
    "train_size = 0.35\n",
    "valid_size = 0.65\n",
    "dumb1 = 0.15\n",
    "dumb2 = 0.85\n",
    "train_length = round(train_size * len(train_dataset))\n",
    "valid_length = round(valid_size * len(train_dataset))\n",
    "train_set, dumb0 = random_split(train_dataset, [train_length, valid_length])\n",
    "val_set, xxx = random_split(dumb0, [dumb1, dumb2])\n",
    "\n",
    "\n",
    "test_dataset = PotsdamDataset(data_root='/kaggle/input/deep-data-potsdam-vaihingen/Deep_data_segmentation/Split/Potsdam/Test',\n",
    "                              transform=val_aug)\n",
    "\n",
    "train_loader = DataLoader(dataset=train_set,\n",
    "                          batch_size=batch_size,\n",
    "                          num_workers=0,\n",
    "                          pin_memory=False,\n",
    "                          shuffle=True,\n",
    "                          drop_last=True)\n",
    "\n",
    "val_loader = DataLoader(dataset=val_set,\n",
    "                        batch_size=batch_size,\n",
    "                        num_workers=0,\n",
    "                        shuffle=False,\n",
    "                        pin_memory=False,\n",
    "                        drop_last=False)\n"
   ]
  },
  {
   "cell_type": "markdown",
   "id": "5ea6af26",
   "metadata": {
    "papermill": {
     "duration": 0.013155,
     "end_time": "2023-12-15T02:22:39.397724",
     "exception": false,
     "start_time": "2023-12-15T02:22:39.384569",
     "status": "completed"
    },
    "tags": []
   },
   "source": [
    "# Metric"
   ]
  },
  {
   "cell_type": "code",
   "execution_count": 9,
   "id": "6492fee4",
   "metadata": {
    "execution": {
     "iopub.execute_input": "2023-12-15T02:22:39.426494Z",
     "iopub.status.busy": "2023-12-15T02:22:39.425647Z",
     "iopub.status.idle": "2023-12-15T02:22:39.442919Z",
     "shell.execute_reply": "2023-12-15T02:22:39.441971Z"
    },
    "papermill": {
     "duration": 0.03389,
     "end_time": "2023-12-15T02:22:39.444938",
     "exception": false,
     "start_time": "2023-12-15T02:22:39.411048",
     "status": "completed"
    },
    "tags": []
   },
   "outputs": [],
   "source": [
    "class Evaluator(object):\n",
    "    def __init__(self, num_class):\n",
    "        self.num_class = num_class\n",
    "        self.confusion_matrix = np.zeros((self.num_class,) * 2)\n",
    "        self.eps = 1e-8\n",
    "\n",
    "    def get_tp_fp_tn_fn(self):\n",
    "        tp = np.diag(self.confusion_matrix)\n",
    "        fp = self.confusion_matrix.sum(axis=0) - np.diag(self.confusion_matrix)\n",
    "        fn = self.confusion_matrix.sum(axis=1) - np.diag(self.confusion_matrix)\n",
    "        tn = np.diag(self.confusion_matrix).sum() - np.diag(self.confusion_matrix)\n",
    "        return tp, fp, tn, fn\n",
    "\n",
    "    def Precision(self):\n",
    "        tp, fp, tn, fn = self.get_tp_fp_tn_fn()\n",
    "        precision = tp / (tp + fp)\n",
    "        return precision\n",
    "\n",
    "    def Recall(self):\n",
    "        tp, fp, tn, fn = self.get_tp_fp_tn_fn()\n",
    "        recall = tp / (tp + fn)\n",
    "        return recall\n",
    "\n",
    "    def F1(self):\n",
    "        tp, fp, tn, fn = self.get_tp_fp_tn_fn()\n",
    "        Precision = tp / (tp + fp)\n",
    "        Recall = tp / (tp + fn)\n",
    "        F1 = (2.0 * Precision * Recall) / (Precision + Recall)\n",
    "        return F1\n",
    "\n",
    "    def OA(self):\n",
    "        OA = np.diag(self.confusion_matrix).sum() / (self.confusion_matrix.sum() + self.eps)\n",
    "        return OA\n",
    "\n",
    "    def Intersection_over_Union(self):\n",
    "        tp, fp, tn, fn = self.get_tp_fp_tn_fn()\n",
    "        IoU = tp / (tp + fn + fp)\n",
    "        return IoU\n",
    "\n",
    "    def Dice(self):\n",
    "        tp, fp, tn, fn = self.get_tp_fp_tn_fn()\n",
    "        Dice = 2 * tp / ((tp + fp) + (tp + fn))\n",
    "        return Dice\n",
    "\n",
    "    def Pixel_Accuracy_Class(self):\n",
    "        #         TP                                  TP+FP\n",
    "        Acc = np.diag(self.confusion_matrix) / (self.confusion_matrix.sum(axis=0) + self.eps)\n",
    "        return Acc\n",
    "\n",
    "    def Frequency_Weighted_Intersection_over_Union(self):\n",
    "        freq = np.sum(self.confusion_matrix, axis=1) / (np.sum(self.confusion_matrix) + self.eps)\n",
    "        iou = self.Intersection_over_Union()\n",
    "        FWIoU = (freq[freq > 0] * iou[freq > 0]).sum()\n",
    "        return FWIoU\n",
    "\n",
    "    def _generate_matrix(self, gt_image, pre_image):\n",
    "        mask = (gt_image >= 0) & (gt_image < self.num_class)\n",
    "        label = self.num_class * gt_image[mask].astype('int') + pre_image[mask]\n",
    "        count = np.bincount(label, minlength=self.num_class ** 2)\n",
    "        confusion_matrix = count.reshape(self.num_class, self.num_class)\n",
    "        return confusion_matrix\n",
    "\n",
    "    def add_batch(self, gt_image, pre_image):\n",
    "        assert gt_image.shape == pre_image.shape, 'pre_image shape {}, gt_image shape {}'.format(pre_image.shape,\n",
    "                                                                                                 gt_image.shape)\n",
    "        self.confusion_matrix += self._generate_matrix(gt_image, pre_image)\n",
    "\n",
    "    def reset(self):\n",
    "        self.confusion_matrix = np.zeros((self.num_class,) * 2)"
   ]
  },
  {
   "cell_type": "markdown",
   "id": "d828cc20",
   "metadata": {
    "papermill": {
     "duration": 0.013254,
     "end_time": "2023-12-15T02:22:39.471856",
     "exception": false,
     "start_time": "2023-12-15T02:22:39.458602",
     "status": "completed"
    },
    "tags": []
   },
   "source": [
    "# Model"
   ]
  },
  {
   "cell_type": "markdown",
   "id": "307318a0",
   "metadata": {
    "papermill": {
     "duration": 0.012663,
     "end_time": "2023-12-15T02:22:39.497616",
     "exception": false,
     "start_time": "2023-12-15T02:22:39.484953",
     "status": "completed"
    },
    "tags": []
   },
   "source": [
    "**Backbone**"
   ]
  },
  {
   "cell_type": "code",
   "execution_count": 10,
   "id": "6352bd1c",
   "metadata": {
    "execution": {
     "iopub.execute_input": "2023-12-15T02:22:39.525104Z",
     "iopub.status.busy": "2023-12-15T02:22:39.524493Z",
     "iopub.status.idle": "2023-12-15T02:22:39.533226Z",
     "shell.execute_reply": "2023-12-15T02:22:39.532359Z"
    },
    "papermill": {
     "duration": 0.024536,
     "end_time": "2023-12-15T02:22:39.535134",
     "exception": false,
     "start_time": "2023-12-15T02:22:39.510598",
     "status": "completed"
    },
    "tags": []
   },
   "outputs": [],
   "source": [
    "class WideBlock(nn.Module):\n",
    "    expansion:int = 4\n",
    "    def __init__(self, c1, c2, stride = 1, downsample = None):\n",
    "        super(WideBlock, self).__init__()\n",
    "        \n",
    "        self.conv1 = nn.Conv2d(c1, c2, 1, 1, 0, bias=False)\n",
    "        self.bn1 = nn.BatchNorm2d(c2)\n",
    "        self.conv2 = nn.Conv2d(c2, c2, 3, stride, 1, bias=False)\n",
    "        self.bn2 = nn.BatchNorm2d(c2)\n",
    "        self.conv3 = nn.Conv2d(c2, c2 * self.expansion, 1, 1, 0, bias=False)\n",
    "        self.bn3 = nn.BatchNorm2d(c2 * self.expansion)\n",
    "        self.downsample = downsample\n",
    "        \n",
    "    def forward(self, x):\n",
    "        identity = x\n",
    "        x = F.relu(self.bn1(self.conv1(x)))\n",
    "        x = F.relu(self.bn2(self.conv2(x)))\n",
    "        out = self.bn3(self.conv3(x))\n",
    "        if self.downsample is not None:\n",
    "            identity = self.downsample(identity)\n",
    "        out += identity\n",
    "        return out"
   ]
  },
  {
   "cell_type": "code",
   "execution_count": 11,
   "id": "b2088cfa",
   "metadata": {
    "execution": {
     "iopub.execute_input": "2023-12-15T02:22:39.562815Z",
     "iopub.status.busy": "2023-12-15T02:22:39.562222Z",
     "iopub.status.idle": "2023-12-15T02:22:39.575868Z",
     "shell.execute_reply": "2023-12-15T02:22:39.574929Z"
    },
    "papermill": {
     "duration": 0.029638,
     "end_time": "2023-12-15T02:22:39.577805",
     "exception": false,
     "start_time": "2023-12-15T02:22:39.548167",
     "status": "completed"
    },
    "tags": []
   },
   "outputs": [],
   "source": [
    "settings = {\n",
    "    '50': [[3, 4, 6, 3], [256, 512, 1024, 2048]],\n",
    "    '101': [[3, 4, 23, 3], [256, 512, 1024, 2048]],}\n",
    "class Resnet(nn.Module):\n",
    "    def __init__(self, setting:str = '50'):\n",
    "        super(Resnet, self).__init__()\n",
    "        assert setting in settings.keys(), f\"ResNet model name should be in {list(settings.keys())}\"\n",
    "        depths, channels = settings[setting]\n",
    "\n",
    "        self.inplanes = 64\n",
    "        self.channels = channels\n",
    "        self.conv1 = nn.Conv2d(3, self.inplanes, 7, 2, 3, bias=False)\n",
    "        self.bn1 = nn.BatchNorm2d(self.inplanes)\n",
    "        self.maxpool = nn.MaxPool2d(3, 2, 1)\n",
    "\n",
    "        self.layer1 = self._make_layer(64, depths[0], s=1)\n",
    "        self.layer2 = self._make_layer(128, depths[1], s=2)\n",
    "        self.layer3 = self._make_layer(256, depths[2], s=2)\n",
    "        self.layer4 = self._make_layer(512, depths[3], s=2)\n",
    "        \n",
    "    def _make_layer(self, planes, depth, s=1) -> nn.Sequential:\n",
    "        downsample = None\n",
    "        if s != 1 or self.inplanes != planes * WideBlock.expansion:\n",
    "            downsample = nn.Sequential(\n",
    "                nn.Conv2d(self.inplanes, planes * WideBlock.expansion, 1, s, bias=False),\n",
    "                nn.BatchNorm2d(planes * WideBlock.expansion)\n",
    "            )\n",
    "        layers = nn.Sequential(\n",
    "            WideBlock(self.inplanes, planes, s, downsample),\n",
    "            *[WideBlock(planes * WideBlock.expansion, planes) for _ in range(1, depth)]\n",
    "        )\n",
    "        self.inplanes = planes * WideBlock.expansion\n",
    "        return layers\n",
    "\n",
    "\n",
    "    def forward(self, x: Tensor) -> Tuple[Tensor, Tensor, Tensor, Tensor]:\n",
    "        x = self.maxpool(F.relu(self.bn1(self.conv1(x))))   # [64, H/4, W/4]\n",
    "        x1 = self.layer1(x)  # [64/256, H/4, W/4]   \n",
    "        x2 = self.layer2(x1)  # [128/512, H/8, W/8]\n",
    "        x3 = self.layer3(x2)  # [256/1024, H/16, W/16]\n",
    "        x4 = self.layer4(x3)  # [512/2048, H/32, W/32]\n",
    "        return x1, x2, x3, x4\n"
   ]
  },
  {
   "cell_type": "markdown",
   "id": "e484793c",
   "metadata": {
    "papermill": {
     "duration": 0.01296,
     "end_time": "2023-12-15T02:22:39.604153",
     "exception": false,
     "start_time": "2023-12-15T02:22:39.591193",
     "status": "completed"
    },
    "tags": []
   },
   "source": [
    "**Head**"
   ]
  },
  {
   "cell_type": "code",
   "execution_count": 12,
   "id": "ac2e1c2b",
   "metadata": {
    "execution": {
     "iopub.execute_input": "2023-12-15T02:22:39.632365Z",
     "iopub.status.busy": "2023-12-15T02:22:39.631462Z",
     "iopub.status.idle": "2023-12-15T02:22:39.640261Z",
     "shell.execute_reply": "2023-12-15T02:22:39.639304Z"
    },
    "papermill": {
     "duration": 0.025125,
     "end_time": "2023-12-15T02:22:39.642274",
     "exception": false,
     "start_time": "2023-12-15T02:22:39.617149",
     "status": "completed"
    },
    "tags": []
   },
   "outputs": [],
   "source": [
    "class PPM(nn.Module):\n",
    "    \"\"\"Pyramid Pooling Module in PSPNet\n",
    "    \"\"\"\n",
    "    def __init__(self, c1, c2=128, scales=(1, 2, 3, 6)):\n",
    "        super().__init__()\n",
    "        self.stages = nn.ModuleList([\n",
    "            nn.Sequential(\n",
    "                nn.AdaptiveAvgPool2d(scale),\n",
    "                ConvModule(c1, c2, 1)\n",
    "            )\n",
    "        for scale in scales])\n",
    "\n",
    "        self.bottleneck = ConvModule(c1 + c2 * len(scales), c2, 3, 1, 1)\n",
    "\n",
    "    def forward(self, x: Tensor) -> Tensor:\n",
    "        outs = []\n",
    "        for stage in self.stages:\n",
    "            outs.append(F.interpolate(stage(x), size=x.shape[-2:], mode='bilinear', align_corners=True))\n",
    "\n",
    "        outs = [x] + outs[::-1]\n",
    "        out = self.bottleneck(torch.cat(outs, dim=1))\n",
    "        return out"
   ]
  },
  {
   "cell_type": "code",
   "execution_count": 13,
   "id": "e56991ff",
   "metadata": {
    "execution": {
     "iopub.execute_input": "2023-12-15T02:22:39.670474Z",
     "iopub.status.busy": "2023-12-15T02:22:39.670116Z",
     "iopub.status.idle": "2023-12-15T02:22:39.675892Z",
     "shell.execute_reply": "2023-12-15T02:22:39.675014Z"
    },
    "papermill": {
     "duration": 0.022261,
     "end_time": "2023-12-15T02:22:39.677950",
     "exception": false,
     "start_time": "2023-12-15T02:22:39.655689",
     "status": "completed"
    },
    "tags": []
   },
   "outputs": [],
   "source": [
    "class ConvModule(nn.Sequential):\n",
    "    def __init__(self, c1, c2, k, s=1, p=0, d=1, g=1):\n",
    "        super().__init__(\n",
    "            nn.Conv2d(c1, c2, k, s, p, d, g, bias=False),\n",
    "            nn.BatchNorm2d(c2),\n",
    "            nn.ReLU(True)\n",
    "        )\n"
   ]
  },
  {
   "cell_type": "code",
   "execution_count": 14,
   "id": "99178674",
   "metadata": {
    "execution": {
     "iopub.execute_input": "2023-12-15T02:22:39.706292Z",
     "iopub.status.busy": "2023-12-15T02:22:39.705951Z",
     "iopub.status.idle": "2023-12-15T02:22:39.717787Z",
     "shell.execute_reply": "2023-12-15T02:22:39.716854Z"
    },
    "papermill": {
     "duration": 0.028402,
     "end_time": "2023-12-15T02:22:39.719861",
     "exception": false,
     "start_time": "2023-12-15T02:22:39.691459",
     "status": "completed"
    },
    "tags": []
   },
   "outputs": [],
   "source": [
    "class UperHead(nn.Module):\n",
    "    def __init__(self, in_channels, channel=128, num_classes: int = num_classes, scales=(1, 2, 3, 6)):\n",
    "        super().__init__()\n",
    "        # PPM Module\n",
    "        self.ppm = PPM(in_channels[-1], channel, scales)\n",
    "\n",
    "        # FPN Module\n",
    "        self.fpn_in = nn.ModuleList()\n",
    "        self.fpn_out = nn.ModuleList()\n",
    "\n",
    "        for in_ch in in_channels[:-1]: # skip the top layer\n",
    "            self.fpn_in.append(ConvModule(in_ch, channel, 1))\n",
    "            self.fpn_out.append(ConvModule(channel, channel, 3, 1, 1))\n",
    "\n",
    "        self.bottleneck = ConvModule(len(in_channels)*channel, channel, 3, 1, 1)\n",
    "        self.dropout = nn.Dropout2d(0.1)\n",
    "        self.conv_seg = nn.Conv2d(channel, num_classes, 1)\n",
    "\n",
    "\n",
    "    def forward(self, features: Tuple[Tensor, Tensor, Tensor, Tensor]) -> Tensor:\n",
    "        f = self.ppm(features[-1])\n",
    "        fpn_features = [f]\n",
    "\n",
    "        for i in reversed(range(len(features)-1)):\n",
    "            feature = self.fpn_in[i](features[i])\n",
    "            f = feature + F.interpolate(f, size=feature.shape[-2:], mode='bilinear', align_corners=False)\n",
    "            fpn_features.append(self.fpn_out[i](f))\n",
    "\n",
    "        fpn_features.reverse()\n",
    "        for i in range(1, len(features)):\n",
    "            fpn_features[i] = F.interpolate(fpn_features[i], size=fpn_features[0].shape[-2:], mode='bilinear', align_corners=False)\n",
    " \n",
    "        output = self.bottleneck(torch.cat(fpn_features, dim=1))\n",
    "        output = self.conv_seg(self.dropout(output))\n",
    "        return output"
   ]
  },
  {
   "cell_type": "code",
   "execution_count": 15,
   "id": "d9a86dbf",
   "metadata": {
    "execution": {
     "iopub.execute_input": "2023-12-15T02:22:39.748196Z",
     "iopub.status.busy": "2023-12-15T02:22:39.747816Z",
     "iopub.status.idle": "2023-12-15T02:22:39.754979Z",
     "shell.execute_reply": "2023-12-15T02:22:39.754071Z"
    },
    "papermill": {
     "duration": 0.023665,
     "end_time": "2023-12-15T02:22:39.756892",
     "exception": false,
     "start_time": "2023-12-15T02:22:39.733227",
     "status": "completed"
    },
    "tags": []
   },
   "outputs": [],
   "source": [
    "class UNet(nn.Module):\n",
    "    def __init__(self):\n",
    "        super(UNet, self).__init__()\n",
    "        self.backbone = Resnet()\n",
    "        self.head = UperHead([256, 512, 1024, 2048])\n",
    "        self.conv1 = ConvModule(9, 6, 3, p=1)\n",
    "        \n",
    "    def forward(self, x):\n",
    "        features = self.backbone(x)\n",
    "        outs = self.head(features)\n",
    "        outs = F.interpolate(outs, x.shape[-2:], mode='bilinear')\n",
    "        outs = torch.cat([outs, x], dim = 1)\n",
    "        outs = self.conv1(outs)\n",
    "        return outs"
   ]
  },
  {
   "cell_type": "code",
   "execution_count": 16,
   "id": "689e6878",
   "metadata": {
    "execution": {
     "iopub.execute_input": "2023-12-15T02:22:39.784883Z",
     "iopub.status.busy": "2023-12-15T02:22:39.784244Z",
     "iopub.status.idle": "2023-12-15T02:22:39.796243Z",
     "shell.execute_reply": "2023-12-15T02:22:39.795376Z"
    },
    "papermill": {
     "duration": 0.028006,
     "end_time": "2023-12-15T02:22:39.798144",
     "exception": false,
     "start_time": "2023-12-15T02:22:39.770138",
     "status": "completed"
    },
    "tags": []
   },
   "outputs": [],
   "source": [
    "class CondHead(nn.Module):\n",
    "    def __init__(self, in_channel: int = 2048, channel: int = 512, num_classes: int = num_classes):\n",
    "        super(CondHead, self).__init__()\n",
    "        self.num_classes = num_classes\n",
    "        self.weight_num = channel * num_classes\n",
    "        self.bias_num = num_classes\n",
    "\n",
    "        self.conv = nn.Conv2d(in_channel, channel, 1, 1, 0, bias=False)\n",
    "        self.bn = nn.BatchNorm2d(channel)\n",
    "        \n",
    "        self.dropout = nn.Dropout2d(0.1)\n",
    "\n",
    "        self.guidance_project = nn.Conv2d(channel, num_classes, 1)\n",
    "        self.filter_project = nn.Conv2d(channel*num_classes, self.weight_num + self.bias_num, 1, groups=num_classes)\n",
    "\n",
    "    def forward(self, features) -> Tensor:\n",
    "        x = self.dropout(F.relu(self.bn(self.conv(features[-1]))))\n",
    "        B, C, H, W = x.shape\n",
    "        guidance_mask = self.guidance_project(x)\n",
    "        cond_logit = guidance_mask\n",
    "        \n",
    "        key = x\n",
    "        value = x\n",
    "        guidance_mask = guidance_mask.softmax(dim=1).view(*guidance_mask.shape[:2], -1)\n",
    "        key = key.view(B, C, -1).permute(0, 2, 1)\n",
    "\n",
    "        cond_filters = torch.matmul(guidance_mask, key)\n",
    "        cond_filters /= H * W\n",
    "        cond_filters = cond_filters.view(B, -1, 1, 1)\n",
    "        cond_filters = self.filter_project(cond_filters)\n",
    "        cond_filters = cond_filters.view(B, -1)\n",
    "\n",
    "        weight, bias = torch.split(cond_filters, [self.weight_num, self.bias_num], dim=1)\n",
    "        weight = weight.reshape(B * self.num_classes, -1, 1, 1)\n",
    "        bias = bias.reshape(B * self.num_classes)\n",
    "\n",
    "        value = value.view(-1, H, W).unsqueeze(0)\n",
    "        seg_logit = F.conv2d(value, weight, bias, 1, 0, groups=B).view(B, self.num_classes, H, W)\n",
    "        \n",
    "        if self.training:\n",
    "            return cond_logit, seg_logit\n",
    "        return seg_logit\n"
   ]
  },
  {
   "cell_type": "code",
   "execution_count": 17,
   "id": "45e447df",
   "metadata": {
    "execution": {
     "iopub.execute_input": "2023-12-15T02:22:39.827113Z",
     "iopub.status.busy": "2023-12-15T02:22:39.826307Z",
     "iopub.status.idle": "2023-12-15T02:22:39.831167Z",
     "shell.execute_reply": "2023-12-15T02:22:39.830324Z"
    },
    "papermill": {
     "duration": 0.021467,
     "end_time": "2023-12-15T02:22:39.833326",
     "exception": false,
     "start_time": "2023-12-15T02:22:39.811859",
     "status": "completed"
    },
    "tags": []
   },
   "outputs": [],
   "source": [
    "# import torch\n",
    "\n",
    "# # Instantiate your UNet model\n",
    "# class UnetModel(nn.Module):\n",
    "#     def __init__(self):\n",
    "#         super(UnetModel, self).__init__()\n",
    "#         self.backbone = Resnet()\n",
    "#         self.head = UperHead([256, 512, 1024, 2048])\n",
    "#         self.conv1 = ConvModule(9, 3, 3, p=1)\n",
    "        \n",
    "#     def forward(self, x):\n",
    "#         features = self.backbone(x)\n",
    "#         outs = self.head(features)\n",
    "#         outs = F.interpolate(outs, x.shape[-2:], mode='bilinear')\n",
    "#         outs = torch.cat([outs, x], dim = 1)\n",
    "#         outs = self.conv1(outs)\n",
    "#         return outs\n",
    "\n",
    "# model = UnetModel()\n",
    "\n",
    "\n",
    "# # Print the shape of the outputmodel = UNet(n_class=6)\n",
    "\n",
    "# # Create a dummy batch with random images\n",
    "# dummy_batch_size = 4  # Choose your batch size\n",
    "# dummy_input_batch = torch.randn(dummy_batch_size, 3, 256, 256)  # Batch size, 3 channels, 256x256\n",
    "\n",
    "# # Forward pass\n",
    "# output_batch = model(dummy_input_batch)\n",
    "\n",
    "# # Print the shape of the output batch\n",
    "# print(output_batch.shape)\n",
    "# torch.save(model,'/kaggle/working/model.pt')"
   ]
  },
  {
   "cell_type": "markdown",
   "id": "dcff6227",
   "metadata": {
    "papermill": {
     "duration": 0.012804,
     "end_time": "2023-12-15T02:22:39.859828",
     "exception": false,
     "start_time": "2023-12-15T02:22:39.847024",
     "status": "completed"
    },
    "tags": []
   },
   "source": [
    "# Loss function"
   ]
  },
  {
   "cell_type": "code",
   "execution_count": 18,
   "id": "3ea53c07",
   "metadata": {
    "execution": {
     "iopub.execute_input": "2023-12-15T02:22:39.887866Z",
     "iopub.status.busy": "2023-12-15T02:22:39.886999Z",
     "iopub.status.idle": "2023-12-15T02:22:39.896773Z",
     "shell.execute_reply": "2023-12-15T02:22:39.895891Z"
    },
    "papermill": {
     "duration": 0.02604,
     "end_time": "2023-12-15T02:22:39.898881",
     "exception": false,
     "start_time": "2023-12-15T02:22:39.872841",
     "status": "completed"
    },
    "tags": []
   },
   "outputs": [],
   "source": [
    "def label_smoothed_nll_loss(\n",
    "    lprobs: torch.Tensor, target: torch.Tensor, epsilon: float, ignore_index=None, reduction=\"mean\", dim=-1\n",
    ") -> torch.Tensor:\n",
    "    \"\"\"\n",
    "\n",
    "    Source: https://github.com/pytorch/fairseq/blob/master/fairseq/criterions/label_smoothed_cross_entropy.py\n",
    "\n",
    "    :param lprobs: Log-probabilities of predictions (e.g after log_softmax)\n",
    "    :param target:\n",
    "    :param epsilon:\n",
    "    :param ignore_index:\n",
    "    :param reduction:\n",
    "    :return:\n",
    "    \"\"\"\n",
    "    if target.dim() == lprobs.dim() - 1:\n",
    "        target = target.unsqueeze(dim)\n",
    "\n",
    "    if ignore_index is not None:\n",
    "        pad_mask = target.eq(ignore_index)\n",
    "        target = target.masked_fill(pad_mask, 0)\n",
    "        nll_loss = -lprobs.gather(dim=dim, index=target)\n",
    "        smooth_loss = -lprobs.sum(dim=dim, keepdim=True)\n",
    "\n",
    "        # nll_loss.masked_fill_(pad_mask, 0.0)\n",
    "        # smooth_loss.masked_fill_(pad_mask, 0.0)\n",
    "        nll_loss = nll_loss.masked_fill(pad_mask, 0.0)\n",
    "        smooth_loss = smooth_loss.masked_fill(pad_mask, 0.0)\n",
    "    else:\n",
    "        nll_loss = -lprobs.gather(dim=dim, index=target)\n",
    "        smooth_loss = -lprobs.sum(dim=dim, keepdim=True)\n",
    "\n",
    "        nll_loss = nll_loss.squeeze(dim)\n",
    "        smooth_loss = smooth_loss.squeeze(dim)\n",
    "\n",
    "    if reduction == \"sum\":\n",
    "        nll_loss = nll_loss.sum()\n",
    "        smooth_loss = smooth_loss.sum()\n",
    "    if reduction == \"mean\":\n",
    "        nll_loss = nll_loss.mean()\n",
    "        smooth_loss = smooth_loss.mean()\n",
    "\n",
    "    eps_i = epsilon / lprobs.size(dim)\n",
    "    loss = (1.0 - epsilon) * nll_loss + eps_i * smooth_loss\n",
    "    return loss"
   ]
  },
  {
   "cell_type": "code",
   "execution_count": 19,
   "id": "16bb1165",
   "metadata": {
    "execution": {
     "iopub.execute_input": "2023-12-15T02:22:39.927301Z",
     "iopub.status.busy": "2023-12-15T02:22:39.926996Z",
     "iopub.status.idle": "2023-12-15T02:22:39.956264Z",
     "shell.execute_reply": "2023-12-15T02:22:39.955432Z"
    },
    "papermill": {
     "duration": 0.04583,
     "end_time": "2023-12-15T02:22:39.958180",
     "exception": false,
     "start_time": "2023-12-15T02:22:39.912350",
     "status": "completed"
    },
    "tags": []
   },
   "outputs": [],
   "source": [
    "__all__ = [\"SoftCrossEntropyLoss\"]\n",
    "from typing import Optional\n",
    "from torch.nn.modules.loss import _Loss\n",
    "from typing import List\n",
    "class SoftCrossEntropyLoss(nn.Module):\n",
    "    \"\"\"\n",
    "    Drop-in replacement for nn.CrossEntropyLoss with few additions:\n",
    "    - Support of label smoothing\n",
    "    \"\"\"\n",
    "\n",
    "    __constants__ = [\"reduction\", \"ignore_index\", \"smooth_factor\"]\n",
    "\n",
    "    def __init__(self, reduction: str = \"mean\", smooth_factor: float = 0.0, ignore_index: Optional[int] = -100, dim=1):\n",
    "        super().__init__()\n",
    "        self.smooth_factor = smooth_factor\n",
    "        self.ignore_index = ignore_index\n",
    "        self.reduction = reduction\n",
    "        self.dim = dim\n",
    "\n",
    "    def forward(self, input: Tensor, target: Tensor) -> Tensor:\n",
    "        log_prob = F.log_softmax(input, dim=self.dim)\n",
    "        pad_mask = target.eq(self.ignore_index)\n",
    "        target = target.masked_fill(pad_mask, 0)\n",
    "        log_prob = log_prob.masked_fill(pad_mask.unsqueeze(1), 0)\n",
    "        return label_smoothed_nll_loss(\n",
    "            log_prob,\n",
    "            target,\n",
    "            epsilon=self.smooth_factor,\n",
    "            ignore_index=self.ignore_index,\n",
    "            reduction=self.reduction,\n",
    "            dim=self.dim,\n",
    "        )\n",
    "__all__ = [\"JointLoss\", \"WeightedLoss\"]\n",
    "\n",
    "\n",
    "class WeightedLoss(_Loss):\n",
    "    \"\"\"Wrapper class around loss function that applies weighted with fixed factor.\n",
    "    This class helps to balance multiple losses if they have different scales\n",
    "    \"\"\"\n",
    "\n",
    "    def __init__(self, loss, weight=1.0):\n",
    "        super().__init__()\n",
    "        self.loss = loss\n",
    "        self.weight = weight\n",
    "\n",
    "    def forward(self, *input):\n",
    "        return self.loss(*input) * self.weight\n",
    "class JointLoss(_Loss):\n",
    "    \"\"\"\n",
    "    Wrap two loss functions into one. This class computes a weighted sum of two losses.\n",
    "    \"\"\"\n",
    "\n",
    "    def __init__(self, first: nn.Module, second: nn.Module, first_weight=1.0, second_weight=1.0):\n",
    "        super().__init__()\n",
    "        self.first = WeightedLoss(first, first_weight)\n",
    "        self.second = WeightedLoss(second, second_weight)\n",
    "\n",
    "    def forward(self, *input):\n",
    "        return self.first(*input) + self.second(*input)\n",
    "__all__ = [\"DiceLoss\"]\n",
    "\n",
    "BINARY_MODE = \"binary\"\n",
    "MULTICLASS_MODE = \"multiclass\"\n",
    "MULTILABEL_MODE = \"multilabel\"\n",
    "def soft_dice_score(\n",
    "    output: torch.Tensor, target: torch.Tensor, smooth: float = 0.0, eps: float = 1e-7, dims=None\n",
    ") -> torch.Tensor:\n",
    "    \"\"\"\n",
    "\n",
    "    :param output:\n",
    "    :param target:\n",
    "    :param smooth:\n",
    "    :param eps:\n",
    "    :return:\n",
    "\n",
    "    Shape:\n",
    "        - Input: :math:`(N, NC, *)` where :math:`*` means any number\n",
    "            of additional dimensions\n",
    "        - Target: :math:`(N, NC, *)`, same shape as the input\n",
    "        - Output: scalar.\n",
    "\n",
    "    \"\"\"\n",
    "    assert output.size() == target.size()\n",
    "    if dims is not None:\n",
    "        intersection = torch.sum(output * target, dim=dims)\n",
    "        cardinality = torch.sum(output + target, dim=dims)\n",
    "    else:\n",
    "        intersection = torch.sum(output * target)\n",
    "        cardinality = torch.sum(output + target)\n",
    "    dice_score = (2.0 * intersection + smooth) / (cardinality + smooth).clamp_min(eps)\n",
    "    return dice_score\n",
    "class DiceLoss(_Loss):\n",
    "    \"\"\"\n",
    "    Implementation of Dice loss for image segmentation task.\n",
    "    It supports binary, multiclass and multilabel cases\n",
    "    \"\"\"\n",
    "\n",
    "    def __init__(\n",
    "        self,\n",
    "        mode: str = 'multiclass',\n",
    "        classes: List[int] = None,\n",
    "        log_loss=False,\n",
    "        from_logits=True,\n",
    "        smooth: float = 0.0,\n",
    "        ignore_index=None,\n",
    "        eps=1e-7,\n",
    "    ):\n",
    "        \"\"\"\n",
    "\n",
    "        :param mode: Metric mode {'binary', 'multiclass', 'multilabel'}\n",
    "        :param classes: Optional list of classes that contribute in loss computation;\n",
    "        By default, all channels are included.\n",
    "        :param log_loss: If True, loss computed as `-log(jaccard)`; otherwise `1 - jaccard`\n",
    "        :param from_logits: If True assumes input is raw logits\n",
    "        :param smooth:\n",
    "        :param ignore_index: Label that indicates ignored pixels (does not contribute to loss)\n",
    "        :param eps: Small epsilon for numerical stability\n",
    "        \"\"\"\n",
    "        assert mode in {BINARY_MODE, MULTILABEL_MODE, MULTICLASS_MODE}\n",
    "        super(DiceLoss, self).__init__()\n",
    "        self.mode = mode\n",
    "        if classes is not None:\n",
    "            assert mode != BINARY_MODE, \"Masking classes is not supported with mode=binary\"\n",
    "            classes = to_tensor(classes, dtype=torch.long)\n",
    "\n",
    "        self.classes = classes\n",
    "        self.from_logits = from_logits\n",
    "        self.smooth = smooth\n",
    "        self.eps = eps\n",
    "        self.ignore_index = ignore_index\n",
    "        self.log_loss = log_loss\n",
    "\n",
    "    def forward(self, y_pred: Tensor, y_true: Tensor) -> Tensor:\n",
    "        \"\"\"\n",
    "\n",
    "        :param y_pred: NxCxHxW\n",
    "        :param y_true: NxHxW\n",
    "        :return: scalar\n",
    "        \"\"\"\n",
    "        assert y_true.size(0) == y_pred.size(0)\n",
    "\n",
    "        if self.from_logits:\n",
    "            # Apply activations to get [0..1] class probabilities\n",
    "            # Using Log-Exp as this gives more numerically stable result and does not cause vanishing gradient on\n",
    "            # extreme values 0 and 1\n",
    "            if self.mode == MULTICLASS_MODE:\n",
    "                y_pred = y_pred.log_softmax(dim=1).exp()\n",
    "            else:\n",
    "                y_pred = F.logsigmoid(y_pred).exp()\n",
    "\n",
    "        bs = y_true.size(0)\n",
    "        num_classes = y_pred.size(1)\n",
    "        dims = (0, 2)\n",
    "\n",
    "        if self.mode == BINARY_MODE:\n",
    "            y_true = y_true.view(bs, 1, -1)\n",
    "            y_pred = y_pred.view(bs, 1, -1)\n",
    "\n",
    "            if self.ignore_index is not None:\n",
    "                mask = y_true != self.ignore_index\n",
    "                y_pred = y_pred * mask\n",
    "                y_true = y_true * mask\n",
    "\n",
    "        if self.mode == MULTICLASS_MODE:\n",
    "            y_true = y_true.view(bs, -1)\n",
    "            y_pred = y_pred.view(bs, num_classes, -1)\n",
    "\n",
    "            if self.ignore_index is not None:\n",
    "                mask = y_true != self.ignore_index\n",
    "                y_pred = y_pred * mask.unsqueeze(1)\n",
    "\n",
    "                y_true = F.one_hot((y_true * mask).to(torch.long), num_classes)  # N,H*W -> N,H*W, C\n",
    "                y_true = y_true.permute(0, 2, 1) * mask.unsqueeze(1)  # H, C, H*W\n",
    "            else:\n",
    "                y_true = F.one_hot(y_true, num_classes)  # N,H*W -> N,H*W, C\n",
    "                y_true = y_true.permute(0, 2, 1)  # H, C, H*W\n",
    "\n",
    "        if self.mode == MULTILABEL_MODE:\n",
    "            y_true = y_true.view(bs, num_classes, -1)\n",
    "            y_pred = y_pred.view(bs, num_classes, -1)\n",
    "\n",
    "            if self.ignore_index is not None:\n",
    "                mask = y_true != self.ignore_index\n",
    "                y_pred = y_pred * mask\n",
    "                y_true = y_true * mask\n",
    "\n",
    "        scores = soft_dice_score(y_pred, y_true.type_as(y_pred), smooth=self.smooth, eps=self.eps, dims=dims)\n",
    "\n",
    "        if self.log_loss:\n",
    "            loss = -torch.log(scores.clamp_min(self.eps))\n",
    "        else:\n",
    "            loss = 1.0 - scores\n",
    "\n",
    "        # Dice loss is undefined for non-empty classes\n",
    "        # So we zero contribution of channel that does not have true pixels\n",
    "        # NOTE: A better workaround would be to use loss term `mean(y_pred)`\n",
    "        # for this case, however it will be a modified jaccard loss\n",
    "\n",
    "        mask = y_true.sum(dims) > 0\n",
    "        loss *= mask.to(loss.dtype)\n",
    "\n",
    "        if self.classes is not None:\n",
    "            loss = loss[self.classes]\n",
    "\n",
    "        return loss.mean()\n"
   ]
  },
  {
   "cell_type": "code",
   "execution_count": 20,
   "id": "62950ad5",
   "metadata": {
    "execution": {
     "iopub.execute_input": "2023-12-15T02:22:39.986266Z",
     "iopub.status.busy": "2023-12-15T02:22:39.985451Z",
     "iopub.status.idle": "2023-12-15T02:22:39.992430Z",
     "shell.execute_reply": "2023-12-15T02:22:39.991585Z"
    },
    "papermill": {
     "duration": 0.023094,
     "end_time": "2023-12-15T02:22:39.994328",
     "exception": false,
     "start_time": "2023-12-15T02:22:39.971234",
     "status": "completed"
    },
    "tags": []
   },
   "outputs": [],
   "source": [
    "\n",
    "class UnetLoss(nn.Module):\n",
    "    def __init__(self, ignore_index=255):\n",
    "        super().__init__()\n",
    "        self.main_loss = JointLoss(SoftCrossEntropyLoss(smooth_factor=0.05, ignore_index=ignore_index),\n",
    "                                   DiceLoss(smooth=0.05, ignore_index=ignore_index), 1.0, 1.0)\n",
    "        self.aux_loss = SoftCrossEntropyLoss(smooth_factor=0.05, ignore_index=ignore_index)\n",
    "\n",
    "    def forward(self, logits, labels):\n",
    "        if self.training and len(logits) == 2:\n",
    "            logit_main, logit_aux = logits\n",
    "            loss = self.main_loss(logit_main, labels) + 0.4 * self.aux_loss(logit_aux, labels)\n",
    "        else:\n",
    "            loss = self.main_loss(logits, labels)\n",
    "\n",
    "        return loss"
   ]
  },
  {
   "cell_type": "markdown",
   "id": "55f67c9b",
   "metadata": {
    "papermill": {
     "duration": 0.012941,
     "end_time": "2023-12-15T02:22:40.020321",
     "exception": false,
     "start_time": "2023-12-15T02:22:40.007380",
     "status": "completed"
    },
    "tags": []
   },
   "source": [
    "# Training"
   ]
  },
  {
   "cell_type": "markdown",
   "id": "343e3bb0",
   "metadata": {
    "papermill": {
     "duration": 0.013029,
     "end_time": "2023-12-15T02:22:40.046679",
     "exception": false,
     "start_time": "2023-12-15T02:22:40.033650",
     "status": "completed"
    },
    "tags": []
   },
   "source": [
    "**Initialize weights**"
   ]
  },
  {
   "cell_type": "code",
   "execution_count": 21,
   "id": "7fdee4f5",
   "metadata": {
    "execution": {
     "iopub.execute_input": "2023-12-15T02:22:40.076043Z",
     "iopub.status.busy": "2023-12-15T02:22:40.075146Z",
     "iopub.status.idle": "2023-12-15T02:22:40.081097Z",
     "shell.execute_reply": "2023-12-15T02:22:40.080143Z"
    },
    "papermill": {
     "duration": 0.023053,
     "end_time": "2023-12-15T02:22:40.083101",
     "exception": false,
     "start_time": "2023-12-15T02:22:40.060048",
     "status": "completed"
    },
    "tags": []
   },
   "outputs": [],
   "source": [
    "def weights_init(model):\n",
    "    if isinstance(model, nn.Linear):\n",
    "        # Xavier Distribution\n",
    "        torch.nn.init.xavier_uniform_(model.weight)"
   ]
  },
  {
   "cell_type": "code",
   "execution_count": 22,
   "id": "19f2ee80",
   "metadata": {
    "execution": {
     "iopub.execute_input": "2023-12-15T02:22:40.112127Z",
     "iopub.status.busy": "2023-12-15T02:22:40.111292Z",
     "iopub.status.idle": "2023-12-15T02:22:40.117167Z",
     "shell.execute_reply": "2023-12-15T02:22:40.116280Z"
    },
    "papermill": {
     "duration": 0.022551,
     "end_time": "2023-12-15T02:22:40.119205",
     "exception": false,
     "start_time": "2023-12-15T02:22:40.096654",
     "status": "completed"
    },
    "tags": []
   },
   "outputs": [],
   "source": [
    "def save_model(model, optimizer, path):\n",
    "    checkpoint = {\n",
    "        \"model\": model.state_dict(),\n",
    "        \"optimizer\": optimizer.state_dict(),\n",
    "    }\n",
    "    torch.save(checkpoint, path)\n",
    "\n",
    "def load_model(model, optimizer, path):\n",
    "    checkpoint = torch.load(path)\n",
    "    model.load_state_dict(checkpoint[\"model\"])\n",
    "    optimizer.load_state_dict(checkpoint['optimizer'])\n",
    "    return model, optimizer"
   ]
  },
  {
   "cell_type": "code",
   "execution_count": null,
   "id": "a0ea814a",
   "metadata": {
    "papermill": {
     "duration": 0.013161,
     "end_time": "2023-12-15T02:22:40.145879",
     "exception": false,
     "start_time": "2023-12-15T02:22:40.132718",
     "status": "completed"
    },
    "tags": []
   },
   "outputs": [],
   "source": []
  },
  {
   "cell_type": "markdown",
   "id": "29a276c7",
   "metadata": {
    "papermill": {
     "duration": 0.013025,
     "end_time": "2023-12-15T02:22:40.172239",
     "exception": false,
     "start_time": "2023-12-15T02:22:40.159214",
     "status": "completed"
    },
    "tags": []
   },
   "source": [
    "**Train model**"
   ]
  },
  {
   "cell_type": "code",
   "execution_count": 23,
   "id": "ec410d66",
   "metadata": {
    "execution": {
     "iopub.execute_input": "2023-12-15T02:22:40.200835Z",
     "iopub.status.busy": "2023-12-15T02:22:40.200432Z",
     "iopub.status.idle": "2023-12-15T02:22:40.218334Z",
     "shell.execute_reply": "2023-12-15T02:22:40.217411Z"
    },
    "papermill": {
     "duration": 0.034577,
     "end_time": "2023-12-15T02:22:40.220259",
     "exception": false,
     "start_time": "2023-12-15T02:22:40.185682",
     "status": "completed"
    },
    "tags": []
   },
   "outputs": [],
   "source": [
    "def train(train_dataloader, valid_dataloader, learing_rate_scheduler, epoch, display_step):\n",
    "    print(f\"Start epoch #{epoch+1}, learning rate for this epoch: {learing_rate_scheduler.get_last_lr()}\")\n",
    "    start_time = time.time()\n",
    "    train_loss_epoch = 0\n",
    "    test_loss_epoch = 0\n",
    "    last_loss = 999999999\n",
    "    model.train()\n",
    "    metrics_train = Evaluator(num_class=6)\n",
    "    metrics_val = Evaluator(num_class=6)\n",
    "\n",
    "    for i,input in enumerate(tqdm(train_dataloader)):\n",
    "        # Load data into GPU\n",
    "        data=input['img']\n",
    "        masks_true = input['gt_semantic_seg']\n",
    "        data,mask = data.to(device),masks_true.to(device)\n",
    "        optimizer.zero_grad()\n",
    "        prediction = model(data)\n",
    "        # Backpropagation, compute gradients\n",
    "        loss = loss_function(prediction, mask.long())\n",
    "        pre_mask = nn.Softmax(dim=1)(prediction)\n",
    "        pre_mask = pre_mask.argmax(dim=1)\n",
    "        for i in range(mask.shape[0]):\n",
    "            metrics_train.add_batch(mask[i].cpu().numpy(), pre_mask[i].cpu().numpy())\n",
    "        loss.backward()\n",
    "\n",
    "        # Apply gradients\n",
    "        optimizer.step()\n",
    "\n",
    "        # Save loss\n",
    "        train_loss_epoch += loss.item()\n",
    "    print(f\"Done epoch #{epoch+1}, time for this epoch: {time.time()-start_time}s\")\n",
    "    train_loss_epoch /= (i + 1)\n",
    "    mIoU = np.nanmean(metrics_train.Intersection_over_Union()[:-1])\n",
    "    F1 = np.nanmean(metrics_train.F1()[:-1])\n",
    "    OA = np.nanmean(metrics_train.OA())\n",
    "    iou_per_class = metrics_train.Intersection_over_Union()\n",
    "    train_eval_value =  (iou_per_class,mIoU,F1,OA)\n",
    "    metrics_train.reset()\n",
    "    # Evaluate the validation set\n",
    "    model.eval()\n",
    "    with torch.no_grad():\n",
    "        for k,input in enumerate(tqdm(valid_dataloader)):\n",
    "            data=input['img'].to(device)\n",
    "            mask = input['gt_semantic_seg'].to(device)\n",
    "            prediction = model(data)\n",
    "            test_loss = loss_function(prediction, mask.long())\n",
    "            pre_mask = nn.Softmax(dim=1)(prediction)\n",
    "            pre_mask = pre_mask.argmax(dim=1)\n",
    "            test_loss_epoch += test_loss.item()\n",
    "            if k<=3:\n",
    "            # Convert predictions to 2D array\n",
    "                predictions_2d = pre_mask[0].cpu().numpy()  # Assuming you want the first prediction\n",
    "\n",
    "            # Convert ground truth masks to 2D array\n",
    "                masks_true_2d = mask[0].cpu().numpy()  # Assuming you want the first ground truth mask\n",
    "\n",
    "            # Convert to np.int8 if needed\n",
    "                predictions_2d = predictions_2d.astype(np.int8)\n",
    "                masks_true_2d = masks_true_2d.astype(np.int8)\n",
    "                wandb.log(\n",
    "      {f\"val_image{k}\" : wandb.Image(data[0], masks={\n",
    "        \"predictions\" : {\n",
    "            \"mask_data\" : predictions_2d,\n",
    "            \"class_labels\" : class_label\n",
    "        },\n",
    "        \"ground_truth\" : {\n",
    "            \"mask_data\" : masks_true_2d,\n",
    "            \"class_labels\" : class_label\n",
    "        }\n",
    "    })})\n",
    "            for i in range(mask.shape[0]):\n",
    "                metrics_val.add_batch(mask[i].cpu().numpy(), pre_mask[i].cpu().numpy())\n",
    "    test_loss_epoch /= (i + 1)\n",
    "    mIoU = np.nanmean(metrics_val.Intersection_over_Union()[:-1])\n",
    "    F1 = np.nanmean(metrics_val.F1()[:-1])\n",
    "    OA = np.nanmean(metrics_val.OA())\n",
    "    iou_per_class_val = metrics_val.Intersection_over_Union()\n",
    "    eval_value =  (iou_per_class_val,mIoU,F1,OA)\n",
    "    print(eval_value)\n",
    "    metrics_val.reset()\n",
    "    return train_loss_epoch, train_eval_value, test_loss_epoch, eval_value\n"
   ]
  },
  {
   "cell_type": "markdown",
   "id": "7f6bbed1",
   "metadata": {
    "papermill": {
     "duration": 0.013355,
     "end_time": "2023-12-15T02:22:40.247311",
     "exception": false,
     "start_time": "2023-12-15T02:22:40.233956",
     "status": "completed"
    },
    "tags": []
   },
   "source": [
    "**Test model**"
   ]
  },
  {
   "cell_type": "code",
   "execution_count": 24,
   "id": "61f94d63",
   "metadata": {
    "execution": {
     "iopub.execute_input": "2023-12-15T02:22:40.277031Z",
     "iopub.status.busy": "2023-12-15T02:22:40.275952Z",
     "iopub.status.idle": "2023-12-15T02:22:40.282014Z",
     "shell.execute_reply": "2023-12-15T02:22:40.281245Z"
    },
    "papermill": {
     "duration": 0.022882,
     "end_time": "2023-12-15T02:22:40.283922",
     "exception": false,
     "start_time": "2023-12-15T02:22:40.261040",
     "status": "completed"
    },
    "tags": []
   },
   "outputs": [
    {
     "data": {
      "text/plain": [
       "device(type='cuda')"
      ]
     },
     "execution_count": 24,
     "metadata": {},
     "output_type": "execute_result"
    }
   ],
   "source": [
    "device"
   ]
  },
  {
   "cell_type": "code",
   "execution_count": 25,
   "id": "aa2ebf4d",
   "metadata": {
    "execution": {
     "iopub.execute_input": "2023-12-15T02:22:40.312406Z",
     "iopub.status.busy": "2023-12-15T02:22:40.312059Z",
     "iopub.status.idle": "2023-12-15T02:22:43.998588Z",
     "shell.execute_reply": "2023-12-15T02:22:43.997650Z"
    },
    "papermill": {
     "duration": 3.703202,
     "end_time": "2023-12-15T02:22:44.000673",
     "exception": false,
     "start_time": "2023-12-15T02:22:40.297471",
     "status": "completed"
    },
    "tags": []
   },
   "outputs": [
    {
     "data": {
      "text/plain": [
       "UNet(\n",
       "  (backbone): Resnet(\n",
       "    (conv1): Conv2d(3, 64, kernel_size=(7, 7), stride=(2, 2), padding=(3, 3), bias=False)\n",
       "    (bn1): BatchNorm2d(64, eps=1e-05, momentum=0.1, affine=True, track_running_stats=True)\n",
       "    (maxpool): MaxPool2d(kernel_size=3, stride=2, padding=1, dilation=1, ceil_mode=False)\n",
       "    (layer1): Sequential(\n",
       "      (0): WideBlock(\n",
       "        (conv1): Conv2d(64, 64, kernel_size=(1, 1), stride=(1, 1), bias=False)\n",
       "        (bn1): BatchNorm2d(64, eps=1e-05, momentum=0.1, affine=True, track_running_stats=True)\n",
       "        (conv2): Conv2d(64, 64, kernel_size=(3, 3), stride=(1, 1), padding=(1, 1), bias=False)\n",
       "        (bn2): BatchNorm2d(64, eps=1e-05, momentum=0.1, affine=True, track_running_stats=True)\n",
       "        (conv3): Conv2d(64, 256, kernel_size=(1, 1), stride=(1, 1), bias=False)\n",
       "        (bn3): BatchNorm2d(256, eps=1e-05, momentum=0.1, affine=True, track_running_stats=True)\n",
       "        (downsample): Sequential(\n",
       "          (0): Conv2d(64, 256, kernel_size=(1, 1), stride=(1, 1), bias=False)\n",
       "          (1): BatchNorm2d(256, eps=1e-05, momentum=0.1, affine=True, track_running_stats=True)\n",
       "        )\n",
       "      )\n",
       "      (1): WideBlock(\n",
       "        (conv1): Conv2d(256, 64, kernel_size=(1, 1), stride=(1, 1), bias=False)\n",
       "        (bn1): BatchNorm2d(64, eps=1e-05, momentum=0.1, affine=True, track_running_stats=True)\n",
       "        (conv2): Conv2d(64, 64, kernel_size=(3, 3), stride=(1, 1), padding=(1, 1), bias=False)\n",
       "        (bn2): BatchNorm2d(64, eps=1e-05, momentum=0.1, affine=True, track_running_stats=True)\n",
       "        (conv3): Conv2d(64, 256, kernel_size=(1, 1), stride=(1, 1), bias=False)\n",
       "        (bn3): BatchNorm2d(256, eps=1e-05, momentum=0.1, affine=True, track_running_stats=True)\n",
       "      )\n",
       "      (2): WideBlock(\n",
       "        (conv1): Conv2d(256, 64, kernel_size=(1, 1), stride=(1, 1), bias=False)\n",
       "        (bn1): BatchNorm2d(64, eps=1e-05, momentum=0.1, affine=True, track_running_stats=True)\n",
       "        (conv2): Conv2d(64, 64, kernel_size=(3, 3), stride=(1, 1), padding=(1, 1), bias=False)\n",
       "        (bn2): BatchNorm2d(64, eps=1e-05, momentum=0.1, affine=True, track_running_stats=True)\n",
       "        (conv3): Conv2d(64, 256, kernel_size=(1, 1), stride=(1, 1), bias=False)\n",
       "        (bn3): BatchNorm2d(256, eps=1e-05, momentum=0.1, affine=True, track_running_stats=True)\n",
       "      )\n",
       "    )\n",
       "    (layer2): Sequential(\n",
       "      (0): WideBlock(\n",
       "        (conv1): Conv2d(256, 128, kernel_size=(1, 1), stride=(1, 1), bias=False)\n",
       "        (bn1): BatchNorm2d(128, eps=1e-05, momentum=0.1, affine=True, track_running_stats=True)\n",
       "        (conv2): Conv2d(128, 128, kernel_size=(3, 3), stride=(2, 2), padding=(1, 1), bias=False)\n",
       "        (bn2): BatchNorm2d(128, eps=1e-05, momentum=0.1, affine=True, track_running_stats=True)\n",
       "        (conv3): Conv2d(128, 512, kernel_size=(1, 1), stride=(1, 1), bias=False)\n",
       "        (bn3): BatchNorm2d(512, eps=1e-05, momentum=0.1, affine=True, track_running_stats=True)\n",
       "        (downsample): Sequential(\n",
       "          (0): Conv2d(256, 512, kernel_size=(1, 1), stride=(2, 2), bias=False)\n",
       "          (1): BatchNorm2d(512, eps=1e-05, momentum=0.1, affine=True, track_running_stats=True)\n",
       "        )\n",
       "      )\n",
       "      (1): WideBlock(\n",
       "        (conv1): Conv2d(512, 128, kernel_size=(1, 1), stride=(1, 1), bias=False)\n",
       "        (bn1): BatchNorm2d(128, eps=1e-05, momentum=0.1, affine=True, track_running_stats=True)\n",
       "        (conv2): Conv2d(128, 128, kernel_size=(3, 3), stride=(1, 1), padding=(1, 1), bias=False)\n",
       "        (bn2): BatchNorm2d(128, eps=1e-05, momentum=0.1, affine=True, track_running_stats=True)\n",
       "        (conv3): Conv2d(128, 512, kernel_size=(1, 1), stride=(1, 1), bias=False)\n",
       "        (bn3): BatchNorm2d(512, eps=1e-05, momentum=0.1, affine=True, track_running_stats=True)\n",
       "      )\n",
       "      (2): WideBlock(\n",
       "        (conv1): Conv2d(512, 128, kernel_size=(1, 1), stride=(1, 1), bias=False)\n",
       "        (bn1): BatchNorm2d(128, eps=1e-05, momentum=0.1, affine=True, track_running_stats=True)\n",
       "        (conv2): Conv2d(128, 128, kernel_size=(3, 3), stride=(1, 1), padding=(1, 1), bias=False)\n",
       "        (bn2): BatchNorm2d(128, eps=1e-05, momentum=0.1, affine=True, track_running_stats=True)\n",
       "        (conv3): Conv2d(128, 512, kernel_size=(1, 1), stride=(1, 1), bias=False)\n",
       "        (bn3): BatchNorm2d(512, eps=1e-05, momentum=0.1, affine=True, track_running_stats=True)\n",
       "      )\n",
       "      (3): WideBlock(\n",
       "        (conv1): Conv2d(512, 128, kernel_size=(1, 1), stride=(1, 1), bias=False)\n",
       "        (bn1): BatchNorm2d(128, eps=1e-05, momentum=0.1, affine=True, track_running_stats=True)\n",
       "        (conv2): Conv2d(128, 128, kernel_size=(3, 3), stride=(1, 1), padding=(1, 1), bias=False)\n",
       "        (bn2): BatchNorm2d(128, eps=1e-05, momentum=0.1, affine=True, track_running_stats=True)\n",
       "        (conv3): Conv2d(128, 512, kernel_size=(1, 1), stride=(1, 1), bias=False)\n",
       "        (bn3): BatchNorm2d(512, eps=1e-05, momentum=0.1, affine=True, track_running_stats=True)\n",
       "      )\n",
       "    )\n",
       "    (layer3): Sequential(\n",
       "      (0): WideBlock(\n",
       "        (conv1): Conv2d(512, 256, kernel_size=(1, 1), stride=(1, 1), bias=False)\n",
       "        (bn1): BatchNorm2d(256, eps=1e-05, momentum=0.1, affine=True, track_running_stats=True)\n",
       "        (conv2): Conv2d(256, 256, kernel_size=(3, 3), stride=(2, 2), padding=(1, 1), bias=False)\n",
       "        (bn2): BatchNorm2d(256, eps=1e-05, momentum=0.1, affine=True, track_running_stats=True)\n",
       "        (conv3): Conv2d(256, 1024, kernel_size=(1, 1), stride=(1, 1), bias=False)\n",
       "        (bn3): BatchNorm2d(1024, eps=1e-05, momentum=0.1, affine=True, track_running_stats=True)\n",
       "        (downsample): Sequential(\n",
       "          (0): Conv2d(512, 1024, kernel_size=(1, 1), stride=(2, 2), bias=False)\n",
       "          (1): BatchNorm2d(1024, eps=1e-05, momentum=0.1, affine=True, track_running_stats=True)\n",
       "        )\n",
       "      )\n",
       "      (1): WideBlock(\n",
       "        (conv1): Conv2d(1024, 256, kernel_size=(1, 1), stride=(1, 1), bias=False)\n",
       "        (bn1): BatchNorm2d(256, eps=1e-05, momentum=0.1, affine=True, track_running_stats=True)\n",
       "        (conv2): Conv2d(256, 256, kernel_size=(3, 3), stride=(1, 1), padding=(1, 1), bias=False)\n",
       "        (bn2): BatchNorm2d(256, eps=1e-05, momentum=0.1, affine=True, track_running_stats=True)\n",
       "        (conv3): Conv2d(256, 1024, kernel_size=(1, 1), stride=(1, 1), bias=False)\n",
       "        (bn3): BatchNorm2d(1024, eps=1e-05, momentum=0.1, affine=True, track_running_stats=True)\n",
       "      )\n",
       "      (2): WideBlock(\n",
       "        (conv1): Conv2d(1024, 256, kernel_size=(1, 1), stride=(1, 1), bias=False)\n",
       "        (bn1): BatchNorm2d(256, eps=1e-05, momentum=0.1, affine=True, track_running_stats=True)\n",
       "        (conv2): Conv2d(256, 256, kernel_size=(3, 3), stride=(1, 1), padding=(1, 1), bias=False)\n",
       "        (bn2): BatchNorm2d(256, eps=1e-05, momentum=0.1, affine=True, track_running_stats=True)\n",
       "        (conv3): Conv2d(256, 1024, kernel_size=(1, 1), stride=(1, 1), bias=False)\n",
       "        (bn3): BatchNorm2d(1024, eps=1e-05, momentum=0.1, affine=True, track_running_stats=True)\n",
       "      )\n",
       "      (3): WideBlock(\n",
       "        (conv1): Conv2d(1024, 256, kernel_size=(1, 1), stride=(1, 1), bias=False)\n",
       "        (bn1): BatchNorm2d(256, eps=1e-05, momentum=0.1, affine=True, track_running_stats=True)\n",
       "        (conv2): Conv2d(256, 256, kernel_size=(3, 3), stride=(1, 1), padding=(1, 1), bias=False)\n",
       "        (bn2): BatchNorm2d(256, eps=1e-05, momentum=0.1, affine=True, track_running_stats=True)\n",
       "        (conv3): Conv2d(256, 1024, kernel_size=(1, 1), stride=(1, 1), bias=False)\n",
       "        (bn3): BatchNorm2d(1024, eps=1e-05, momentum=0.1, affine=True, track_running_stats=True)\n",
       "      )\n",
       "      (4): WideBlock(\n",
       "        (conv1): Conv2d(1024, 256, kernel_size=(1, 1), stride=(1, 1), bias=False)\n",
       "        (bn1): BatchNorm2d(256, eps=1e-05, momentum=0.1, affine=True, track_running_stats=True)\n",
       "        (conv2): Conv2d(256, 256, kernel_size=(3, 3), stride=(1, 1), padding=(1, 1), bias=False)\n",
       "        (bn2): BatchNorm2d(256, eps=1e-05, momentum=0.1, affine=True, track_running_stats=True)\n",
       "        (conv3): Conv2d(256, 1024, kernel_size=(1, 1), stride=(1, 1), bias=False)\n",
       "        (bn3): BatchNorm2d(1024, eps=1e-05, momentum=0.1, affine=True, track_running_stats=True)\n",
       "      )\n",
       "      (5): WideBlock(\n",
       "        (conv1): Conv2d(1024, 256, kernel_size=(1, 1), stride=(1, 1), bias=False)\n",
       "        (bn1): BatchNorm2d(256, eps=1e-05, momentum=0.1, affine=True, track_running_stats=True)\n",
       "        (conv2): Conv2d(256, 256, kernel_size=(3, 3), stride=(1, 1), padding=(1, 1), bias=False)\n",
       "        (bn2): BatchNorm2d(256, eps=1e-05, momentum=0.1, affine=True, track_running_stats=True)\n",
       "        (conv3): Conv2d(256, 1024, kernel_size=(1, 1), stride=(1, 1), bias=False)\n",
       "        (bn3): BatchNorm2d(1024, eps=1e-05, momentum=0.1, affine=True, track_running_stats=True)\n",
       "      )\n",
       "    )\n",
       "    (layer4): Sequential(\n",
       "      (0): WideBlock(\n",
       "        (conv1): Conv2d(1024, 512, kernel_size=(1, 1), stride=(1, 1), bias=False)\n",
       "        (bn1): BatchNorm2d(512, eps=1e-05, momentum=0.1, affine=True, track_running_stats=True)\n",
       "        (conv2): Conv2d(512, 512, kernel_size=(3, 3), stride=(2, 2), padding=(1, 1), bias=False)\n",
       "        (bn2): BatchNorm2d(512, eps=1e-05, momentum=0.1, affine=True, track_running_stats=True)\n",
       "        (conv3): Conv2d(512, 2048, kernel_size=(1, 1), stride=(1, 1), bias=False)\n",
       "        (bn3): BatchNorm2d(2048, eps=1e-05, momentum=0.1, affine=True, track_running_stats=True)\n",
       "        (downsample): Sequential(\n",
       "          (0): Conv2d(1024, 2048, kernel_size=(1, 1), stride=(2, 2), bias=False)\n",
       "          (1): BatchNorm2d(2048, eps=1e-05, momentum=0.1, affine=True, track_running_stats=True)\n",
       "        )\n",
       "      )\n",
       "      (1): WideBlock(\n",
       "        (conv1): Conv2d(2048, 512, kernel_size=(1, 1), stride=(1, 1), bias=False)\n",
       "        (bn1): BatchNorm2d(512, eps=1e-05, momentum=0.1, affine=True, track_running_stats=True)\n",
       "        (conv2): Conv2d(512, 512, kernel_size=(3, 3), stride=(1, 1), padding=(1, 1), bias=False)\n",
       "        (bn2): BatchNorm2d(512, eps=1e-05, momentum=0.1, affine=True, track_running_stats=True)\n",
       "        (conv3): Conv2d(512, 2048, kernel_size=(1, 1), stride=(1, 1), bias=False)\n",
       "        (bn3): BatchNorm2d(2048, eps=1e-05, momentum=0.1, affine=True, track_running_stats=True)\n",
       "      )\n",
       "      (2): WideBlock(\n",
       "        (conv1): Conv2d(2048, 512, kernel_size=(1, 1), stride=(1, 1), bias=False)\n",
       "        (bn1): BatchNorm2d(512, eps=1e-05, momentum=0.1, affine=True, track_running_stats=True)\n",
       "        (conv2): Conv2d(512, 512, kernel_size=(3, 3), stride=(1, 1), padding=(1, 1), bias=False)\n",
       "        (bn2): BatchNorm2d(512, eps=1e-05, momentum=0.1, affine=True, track_running_stats=True)\n",
       "        (conv3): Conv2d(512, 2048, kernel_size=(1, 1), stride=(1, 1), bias=False)\n",
       "        (bn3): BatchNorm2d(2048, eps=1e-05, momentum=0.1, affine=True, track_running_stats=True)\n",
       "      )\n",
       "    )\n",
       "  )\n",
       "  (head): UperHead(\n",
       "    (ppm): PPM(\n",
       "      (stages): ModuleList(\n",
       "        (0): Sequential(\n",
       "          (0): AdaptiveAvgPool2d(output_size=1)\n",
       "          (1): ConvModule(\n",
       "            (0): Conv2d(2048, 128, kernel_size=(1, 1), stride=(1, 1), bias=False)\n",
       "            (1): BatchNorm2d(128, eps=1e-05, momentum=0.1, affine=True, track_running_stats=True)\n",
       "            (2): ReLU(inplace=True)\n",
       "          )\n",
       "        )\n",
       "        (1): Sequential(\n",
       "          (0): AdaptiveAvgPool2d(output_size=2)\n",
       "          (1): ConvModule(\n",
       "            (0): Conv2d(2048, 128, kernel_size=(1, 1), stride=(1, 1), bias=False)\n",
       "            (1): BatchNorm2d(128, eps=1e-05, momentum=0.1, affine=True, track_running_stats=True)\n",
       "            (2): ReLU(inplace=True)\n",
       "          )\n",
       "        )\n",
       "        (2): Sequential(\n",
       "          (0): AdaptiveAvgPool2d(output_size=3)\n",
       "          (1): ConvModule(\n",
       "            (0): Conv2d(2048, 128, kernel_size=(1, 1), stride=(1, 1), bias=False)\n",
       "            (1): BatchNorm2d(128, eps=1e-05, momentum=0.1, affine=True, track_running_stats=True)\n",
       "            (2): ReLU(inplace=True)\n",
       "          )\n",
       "        )\n",
       "        (3): Sequential(\n",
       "          (0): AdaptiveAvgPool2d(output_size=6)\n",
       "          (1): ConvModule(\n",
       "            (0): Conv2d(2048, 128, kernel_size=(1, 1), stride=(1, 1), bias=False)\n",
       "            (1): BatchNorm2d(128, eps=1e-05, momentum=0.1, affine=True, track_running_stats=True)\n",
       "            (2): ReLU(inplace=True)\n",
       "          )\n",
       "        )\n",
       "      )\n",
       "      (bottleneck): ConvModule(\n",
       "        (0): Conv2d(2560, 128, kernel_size=(3, 3), stride=(1, 1), padding=(1, 1), bias=False)\n",
       "        (1): BatchNorm2d(128, eps=1e-05, momentum=0.1, affine=True, track_running_stats=True)\n",
       "        (2): ReLU(inplace=True)\n",
       "      )\n",
       "    )\n",
       "    (fpn_in): ModuleList(\n",
       "      (0): ConvModule(\n",
       "        (0): Conv2d(256, 128, kernel_size=(1, 1), stride=(1, 1), bias=False)\n",
       "        (1): BatchNorm2d(128, eps=1e-05, momentum=0.1, affine=True, track_running_stats=True)\n",
       "        (2): ReLU(inplace=True)\n",
       "      )\n",
       "      (1): ConvModule(\n",
       "        (0): Conv2d(512, 128, kernel_size=(1, 1), stride=(1, 1), bias=False)\n",
       "        (1): BatchNorm2d(128, eps=1e-05, momentum=0.1, affine=True, track_running_stats=True)\n",
       "        (2): ReLU(inplace=True)\n",
       "      )\n",
       "      (2): ConvModule(\n",
       "        (0): Conv2d(1024, 128, kernel_size=(1, 1), stride=(1, 1), bias=False)\n",
       "        (1): BatchNorm2d(128, eps=1e-05, momentum=0.1, affine=True, track_running_stats=True)\n",
       "        (2): ReLU(inplace=True)\n",
       "      )\n",
       "    )\n",
       "    (fpn_out): ModuleList(\n",
       "      (0-2): 3 x ConvModule(\n",
       "        (0): Conv2d(128, 128, kernel_size=(3, 3), stride=(1, 1), padding=(1, 1), bias=False)\n",
       "        (1): BatchNorm2d(128, eps=1e-05, momentum=0.1, affine=True, track_running_stats=True)\n",
       "        (2): ReLU(inplace=True)\n",
       "      )\n",
       "    )\n",
       "    (bottleneck): ConvModule(\n",
       "      (0): Conv2d(512, 128, kernel_size=(3, 3), stride=(1, 1), padding=(1, 1), bias=False)\n",
       "      (1): BatchNorm2d(128, eps=1e-05, momentum=0.1, affine=True, track_running_stats=True)\n",
       "      (2): ReLU(inplace=True)\n",
       "    )\n",
       "    (dropout): Dropout2d(p=0.1, inplace=False)\n",
       "    (conv_seg): Conv2d(128, 6, kernel_size=(1, 1), stride=(1, 1))\n",
       "  )\n",
       "  (conv1): ConvModule(\n",
       "    (0): Conv2d(9, 6, kernel_size=(3, 3), stride=(1, 1), padding=(1, 1), bias=False)\n",
       "    (1): BatchNorm2d(6, eps=1e-05, momentum=0.1, affine=True, track_running_stats=True)\n",
       "    (2): ReLU(inplace=True)\n",
       "  )\n",
       ")"
      ]
     },
     "execution_count": 25,
     "metadata": {},
     "output_type": "execute_result"
    }
   ],
   "source": [
    "model = UNet()\n",
    "model.to(device)"
   ]
  },
  {
   "cell_type": "code",
   "execution_count": 26,
   "id": "58a73304",
   "metadata": {
    "execution": {
     "iopub.execute_input": "2023-12-15T02:22:44.030507Z",
     "iopub.status.busy": "2023-12-15T02:22:44.029588Z",
     "iopub.status.idle": "2023-12-15T02:22:44.035076Z",
     "shell.execute_reply": "2023-12-15T02:22:44.034211Z"
    },
    "papermill": {
     "duration": 0.022275,
     "end_time": "2023-12-15T02:22:44.036924",
     "exception": false,
     "start_time": "2023-12-15T02:22:44.014649",
     "status": "completed"
    },
    "tags": []
   },
   "outputs": [
    {
     "name": "stdout",
     "output_type": "stream",
     "text": [
      "CUDA is available.\n"
     ]
    }
   ],
   "source": [
    "import torch\n",
    "\n",
    "# Check if CUDA is available\n",
    "if torch.cuda.is_available():\n",
    "    # Use GPU-accelerated PyTorch functions here\n",
    "    print(\"CUDA is available.\")\n",
    "else:\n",
    "    print(\"CUDA is not available.\")"
   ]
  },
  {
   "cell_type": "code",
   "execution_count": 27,
   "id": "63247877",
   "metadata": {
    "execution": {
     "iopub.execute_input": "2023-12-15T02:22:44.067019Z",
     "iopub.status.busy": "2023-12-15T02:22:44.066258Z",
     "iopub.status.idle": "2023-12-15T02:22:44.073134Z",
     "shell.execute_reply": "2023-12-15T02:22:44.072205Z"
    },
    "papermill": {
     "duration": 0.02406,
     "end_time": "2023-12-15T02:22:44.075035",
     "exception": false,
     "start_time": "2023-12-15T02:22:44.050975",
     "status": "completed"
    },
    "tags": []
   },
   "outputs": [],
   "source": [
    "\n",
    "loss_function = UnetLoss(ignore_index=6)\n",
    "# Define the optimizer (Adam optimizer)\n",
    "optimizer = optim.Adam(params=model.parameters(), lr=learning_rate)\n",
    "# optimizer.load_state_dict(checkpoint['optimizer'])\n",
    "\n",
    "# Learning rate scheduler\n",
    "learing_rate_scheduler = lr_scheduler.StepLR(optimizer, step_size=4, gamma=0.6)"
   ]
  },
  {
   "cell_type": "code",
   "execution_count": 28,
   "id": "1b74650a",
   "metadata": {
    "execution": {
     "iopub.execute_input": "2023-12-15T02:22:44.104536Z",
     "iopub.status.busy": "2023-12-15T02:22:44.104189Z",
     "iopub.status.idle": "2023-12-15T02:22:44.319054Z",
     "shell.execute_reply": "2023-12-15T02:22:44.318117Z"
    },
    "papermill": {
     "duration": 0.232673,
     "end_time": "2023-12-15T02:22:44.321637",
     "exception": false,
     "start_time": "2023-12-15T02:22:44.088964",
     "status": "completed"
    },
    "tags": []
   },
   "outputs": [],
   "source": [
    "save_model(model, optimizer, checkpoint_path)\n",
    "load_checkpoint_flag=False"
   ]
  },
  {
   "cell_type": "code",
   "execution_count": 29,
   "id": "bc59c773",
   "metadata": {
    "execution": {
     "iopub.execute_input": "2023-12-15T02:22:44.352125Z",
     "iopub.status.busy": "2023-12-15T02:22:44.351274Z",
     "iopub.status.idle": "2023-12-15T02:22:44.355502Z",
     "shell.execute_reply": "2023-12-15T02:22:44.354670Z"
    },
    "papermill": {
     "duration": 0.021484,
     "end_time": "2023-12-15T02:22:44.357375",
     "exception": false,
     "start_time": "2023-12-15T02:22:44.335891",
     "status": "completed"
    },
    "tags": []
   },
   "outputs": [],
   "source": [
    "# print(\"Model keys:\")\n",
    "# print(model.state_dict().keys())\n",
    "\n",
    "# print(\"\\nCheckpoint keys:\")\n",
    "# print(checkpoint['model'].keys())\n"
   ]
  },
  {
   "cell_type": "code",
   "execution_count": 30,
   "id": "812de539",
   "metadata": {
    "execution": {
     "iopub.execute_input": "2023-12-15T02:22:44.387522Z",
     "iopub.status.busy": "2023-12-15T02:22:44.387236Z",
     "iopub.status.idle": "2023-12-15T02:22:44.391330Z",
     "shell.execute_reply": "2023-12-15T02:22:44.390528Z"
    },
    "papermill": {
     "duration": 0.020716,
     "end_time": "2023-12-15T02:22:44.393235",
     "exception": false,
     "start_time": "2023-12-15T02:22:44.372519",
     "status": "completed"
    },
    "tags": []
   },
   "outputs": [],
   "source": [
    "# Load the model checkpoint if needed\n",
    "# Load the model checkpoint if needed\n",
    "if load_checkpoint_flag:\n",
    "    model, optimize= load_model(model, optimizer, pretrained_path)\n",
    "    \n"
   ]
  },
  {
   "cell_type": "code",
   "execution_count": 31,
   "id": "8b5563e4",
   "metadata": {
    "execution": {
     "iopub.execute_input": "2023-12-15T02:22:44.422773Z",
     "iopub.status.busy": "2023-12-15T02:22:44.422037Z",
     "iopub.status.idle": "2023-12-15T07:07:49.058570Z",
     "shell.execute_reply": "2023-12-15T07:07:49.057344Z"
    },
    "papermill": {
     "duration": 17104.654615,
     "end_time": "2023-12-15T07:07:49.061912",
     "exception": false,
     "start_time": "2023-12-15T02:22:44.407297",
     "status": "completed"
    },
    "tags": []
   },
   "outputs": [
    {
     "name": "stderr",
     "output_type": "stream",
     "text": [
      "\u001b[34m\u001b[1mwandb\u001b[0m: W&B API key is configured. Use \u001b[1m`wandb login --relogin`\u001b[0m to force relogin\n",
      "\u001b[34m\u001b[1mwandb\u001b[0m: \u001b[33mWARNING\u001b[0m If you're specifying your api key in code, ensure this code is not shared publicly.\n",
      "\u001b[34m\u001b[1mwandb\u001b[0m: \u001b[33mWARNING\u001b[0m Consider setting the WANDB_API_KEY environment variable, or running `wandb login` from the command line.\n",
      "\u001b[34m\u001b[1mwandb\u001b[0m: Appending key for api.wandb.ai to your netrc file: /root/.netrc\n",
      "\u001b[34m\u001b[1mwandb\u001b[0m: Currently logged in as: \u001b[33mlichtut\u001b[0m (\u001b[33mlichtut0\u001b[0m). Use \u001b[1m`wandb login --relogin`\u001b[0m to force relogin\n"
     ]
    },
    {
     "name": "stdout",
     "output_type": "stream",
     "text": [
      "vm6yraea\n"
     ]
    },
    {
     "name": "stderr",
     "output_type": "stream",
     "text": [
      "\u001b[34m\u001b[1mwandb\u001b[0m: Tracking run with wandb version 0.16.1\n",
      "\u001b[34m\u001b[1mwandb\u001b[0m: Run data is saved locally in \u001b[35m\u001b[1m/kaggle/working/wandb/run-20231215_022245-vm6yraea\u001b[0m\n",
      "\u001b[34m\u001b[1mwandb\u001b[0m: Run \u001b[1m`wandb offline`\u001b[0m to turn off syncing.\n",
      "\u001b[34m\u001b[1mwandb\u001b[0m: Syncing run \u001b[33mexpert-totem-5\u001b[0m\n",
      "\u001b[34m\u001b[1mwandb\u001b[0m: ⭐️ View project at \u001b[34m\u001b[4mhttps://wandb.ai/lichtut0/UperNet\u001b[0m\n",
      "\u001b[34m\u001b[1mwandb\u001b[0m: 🚀 View run at \u001b[34m\u001b[4mhttps://wandb.ai/lichtut0/UperNet/runs/vm6yraea\u001b[0m\n"
     ]
    },
    {
     "name": "stdout",
     "output_type": "stream",
     "text": [
      "Start epoch #1, learning rate for this epoch: [0.0008]\n"
     ]
    },
    {
     "name": "stderr",
     "output_type": "stream",
     "text": [
      "100%|██████████| 624/624 [04:44<00:00,  2.20it/s]\n"
     ]
    },
    {
     "name": "stdout",
     "output_type": "stream",
     "text": [
      "Done epoch #1, time for this epoch: 284.21995282173157s\n"
     ]
    },
    {
     "name": "stderr",
     "output_type": "stream",
     "text": [
      "100%|██████████| 175/175 [00:53<00:00,  3.26it/s]\n"
     ]
    },
    {
     "name": "stdout",
     "output_type": "stream",
     "text": [
      "(array([0.56560545, 0.61297534, 0.51543613, 0.27013469, 0.38626608,\n",
      "       0.00208751]), 0.47008353764290306, 0.6290963326415323, 0.6621592481274956)\n",
      "train: {'mIoU': 0.38126698462139724, 'F1': 0.5451834837235082, 'OA': 0.5776955470060691}\n",
      "{'ImSurf': 0.47048403053785426, 'Building': 0.46778596821766094, 'LowVeg': 0.41427990965831774, 'Tree': 0.3259852196444481, 'Car': 0.22779979504870526, 'Clutter': 0.01936903915414629}\n",
      "val: {'mIoU': 0.47008353764290306, 'F1': 0.6290963326415323, 'OA': 0.6621592481274956}\n",
      "{'ImSurf': 0.5656054495665035, 'Building': 0.6129753373028963, 'LowVeg': 0.5154361252602346, 'Tree': 0.2701346934906922, 'Car': 0.38626608259418876, 'Clutter': 0.0020875070237128487}\n",
      "Epoch 1: loss: 156.1361, train accuracy: 0.5777, valid accuracy:0.6622\n",
      "Start epoch #2, learning rate for this epoch: [0.0008]\n"
     ]
    },
    {
     "name": "stderr",
     "output_type": "stream",
     "text": [
      "100%|██████████| 624/624 [02:47<00:00,  3.72it/s]\n"
     ]
    },
    {
     "name": "stdout",
     "output_type": "stream",
     "text": [
      "Done epoch #2, time for this epoch: 167.74629664421082s\n"
     ]
    },
    {
     "name": "stderr",
     "output_type": "stream",
     "text": [
      "100%|██████████| 175/175 [00:30<00:00,  5.78it/s]\n"
     ]
    },
    {
     "name": "stdout",
     "output_type": "stream",
     "text": [
      "(array([0.55362543, 0.59086981, 0.52863099, 0.33121777, 0.42155162,\n",
      "       0.0361712 ]), 0.4851791234499235, 0.6475714229233196, 0.6659103798849155)\n",
      "train: {'mIoU': 0.4448765891957985, 'F1': 0.6119422349002621, 'OA': 0.6300104520259759}\n",
      "{'ImSurf': 0.5075356043496131, 'Building': 0.5345378935776078, 'LowVeg': 0.4701174068103015, 'Tree': 0.36773158112205745, 'Car': 0.34446046011941234, 'Clutter': 0.018839786766876518}\n",
      "val: {'mIoU': 0.4851791234499235, 'F1': 0.6475714229233196, 'OA': 0.6659103798849155}\n",
      "{'ImSurf': 0.5536254258979422, 'Building': 0.5908698106794303, 'LowVeg': 0.5286309930698186, 'Tree': 0.33121776699421457, 'Car': 0.4215516206082118, 'Clutter': 0.036171203740907584}\n",
      "Epoch 2: loss: 140.1930, train accuracy: 0.6300, valid accuracy:0.6659\n",
      "Start epoch #3, learning rate for this epoch: [0.0008]\n"
     ]
    },
    {
     "name": "stderr",
     "output_type": "stream",
     "text": [
      "100%|██████████| 624/624 [02:42<00:00,  3.83it/s]\n"
     ]
    },
    {
     "name": "stdout",
     "output_type": "stream",
     "text": [
      "Done epoch #3, time for this epoch: 162.95021986961365s\n"
     ]
    },
    {
     "name": "stderr",
     "output_type": "stream",
     "text": [
      "100%|██████████| 175/175 [00:31<00:00,  5.64it/s]\n"
     ]
    },
    {
     "name": "stdout",
     "output_type": "stream",
     "text": [
      "(array([0.4930957 , 0.5216651 , 0.41674863, 0.08325953, 0.35693179,\n",
      "       0.05901944]), 0.374340151004385, 0.5228550767242217, 0.585338847207578)\n",
      "train: {'mIoU': 0.46586876450216697, 'F1': 0.6325304934310237, 'OA': 0.6433666944503784}\n",
      "{'ImSurf': 0.5200189656981027, 'Building': 0.5573926366799509, 'LowVeg': 0.47961737887192873, 'Tree': 0.3853978774029949, 'Car': 0.3869169638578576, 'Clutter': 0.05773294785273403}\n",
      "val: {'mIoU': 0.374340151004385, 'F1': 0.5228550767242217, 'OA': 0.585338847207578}\n",
      "{'ImSurf': 0.49309569793029134, 'Building': 0.5216651048302556, 'LowVeg': 0.41674863124441097, 'Tree': 0.08325952623064153, 'Car': 0.35693179478632564, 'Clutter': 0.05901943879213675}\n",
      "Epoch 3: loss: 133.3670, train accuracy: 0.6434, valid accuracy:0.5853\n",
      "Start epoch #4, learning rate for this epoch: [0.0008]\n"
     ]
    },
    {
     "name": "stderr",
     "output_type": "stream",
     "text": [
      "100%|██████████| 624/624 [02:37<00:00,  3.96it/s]\n"
     ]
    },
    {
     "name": "stdout",
     "output_type": "stream",
     "text": [
      "Done epoch #4, time for this epoch: 157.4092972278595s\n"
     ]
    },
    {
     "name": "stderr",
     "output_type": "stream",
     "text": [
      "100%|██████████| 175/175 [00:28<00:00,  6.17it/s]\n"
     ]
    },
    {
     "name": "stdout",
     "output_type": "stream",
     "text": [
      "(array([0.50756407, 0.64187872, 0.31257635, 0.33993237, 0.50873561,\n",
      "       0.10287102]), 0.46213742280960873, 0.6226585874639642, 0.5965486568935637)\n",
      "train: {'mIoU': 0.4871926895963844, 'F1': 0.6529127886586327, 'OA': 0.6590706568497878}\n",
      "{'ImSurf': 0.5297632232911302, 'Building': 0.5699549075033551, 'LowVeg': 0.501365884201835, 'Tree': 0.42041425054899045, 'Car': 0.414465182436611, 'Clutter': 0.06667459190313763}\n",
      "val: {'mIoU': 0.46213742280960873, 'F1': 0.6226585874639642, 'OA': 0.5965486568935637}\n",
      "{'ImSurf': 0.5075640682375985, 'Building': 0.6418787195514041, 'LowVeg': 0.3125763489270044, 'Tree': 0.33993237127705567, 'Car': 0.508735606054981, 'Clutter': 0.10287101810506882}\n",
      "Epoch 4: loss: 127.8702, train accuracy: 0.6591, valid accuracy:0.5965\n",
      "Start epoch #5, learning rate for this epoch: [0.00048]\n"
     ]
    },
    {
     "name": "stderr",
     "output_type": "stream",
     "text": [
      "100%|██████████| 624/624 [02:30<00:00,  4.14it/s]\n"
     ]
    },
    {
     "name": "stdout",
     "output_type": "stream",
     "text": [
      "Done epoch #5, time for this epoch: 150.68479537963867s\n"
     ]
    },
    {
     "name": "stderr",
     "output_type": "stream",
     "text": [
      "100%|██████████| 175/175 [00:27<00:00,  6.27it/s]\n"
     ]
    },
    {
     "name": "stdout",
     "output_type": "stream",
     "text": [
      "(array([0.61040397, 0.69649587, 0.5579071 , 0.32042151, 0.48840422,\n",
      "       0.11569323]), 0.5347265339102206, 0.687402511113029, 0.7051462582864096)\n",
      "train: {'mIoU': 0.5228930437665932, 'F1': 0.6850820459374581, 'OA': 0.6832149181610498}\n",
      "{'ImSurf': 0.5607084664746205, 'Building': 0.5996902019025762, 'LowVeg': 0.5209644241874917, 'Tree': 0.4480204994321117, 'Car': 0.48508162683616635, 'Clutter': 0.09616159735179497}\n",
      "val: {'mIoU': 0.5347265339102206, 'F1': 0.687402511113029, 'OA': 0.7051462582864096}\n",
      "{'ImSurf': 0.6104039730342294, 'Building': 0.6964958683999036, 'LowVeg': 0.557907096059917, 'Tree': 0.3204215106573528, 'Car': 0.4884042213997002, 'Clutter': 0.1156932294227121}\n",
      "Epoch 5: loss: 121.3613, train accuracy: 0.6832, valid accuracy:0.7051\n",
      "Start epoch #6, learning rate for this epoch: [0.00048]\n"
     ]
    },
    {
     "name": "stderr",
     "output_type": "stream",
     "text": [
      "100%|██████████| 624/624 [02:28<00:00,  4.20it/s]\n"
     ]
    },
    {
     "name": "stdout",
     "output_type": "stream",
     "text": [
      "Done epoch #6, time for this epoch: 148.69647479057312s\n"
     ]
    },
    {
     "name": "stderr",
     "output_type": "stream",
     "text": [
      "100%|██████████| 175/175 [00:26<00:00,  6.71it/s]\n"
     ]
    },
    {
     "name": "stdout",
     "output_type": "stream",
     "text": [
      "(array([0.59687792, 0.69892073, 0.52693935, 0.15258951, 0.57023731,\n",
      "       0.18559806]), 0.5091129646663383, 0.650322489411491, 0.6826515170369144)\n",
      "train: {'mIoU': 0.5367387871020368, 'F1': 0.6968207376424462, 'OA': 0.694885620704064}\n",
      "{'ImSurf': 0.5673731081367889, 'Building': 0.62397485358787, 'LowVeg': 0.5347029758636884, 'Tree': 0.4635235256373327, 'Car': 0.49411947228450415, 'Clutter': 0.11385647877644664}\n",
      "val: {'mIoU': 0.5091129646663383, 'F1': 0.650322489411491, 'OA': 0.6826515170369144}\n",
      "{'ImSurf': 0.5968779211990917, 'Building': 0.6989207335182904, 'LowVeg': 0.5269393537220342, 'Tree': 0.15258950563569973, 'Car': 0.5702373092565758, 'Clutter': 0.18559805518959951}\n",
      "Epoch 6: loss: 118.3309, train accuracy: 0.6949, valid accuracy:0.6827\n",
      "Start epoch #7, learning rate for this epoch: [0.00048]\n"
     ]
    },
    {
     "name": "stderr",
     "output_type": "stream",
     "text": [
      "100%|██████████| 624/624 [02:26<00:00,  4.25it/s]\n"
     ]
    },
    {
     "name": "stdout",
     "output_type": "stream",
     "text": [
      "Done epoch #7, time for this epoch: 146.80344772338867s\n"
     ]
    },
    {
     "name": "stderr",
     "output_type": "stream",
     "text": [
      "100%|██████████| 175/175 [00:25<00:00,  6.78it/s]\n"
     ]
    },
    {
     "name": "stdout",
     "output_type": "stream",
     "text": [
      "(array([0.58737071, 0.6577207 , 0.44503186, 0.42961216, 0.5387459 ,\n",
      "       0.20601445]), 0.5316962668576145, 0.6901571804811637, 0.6733839003541703)\n",
      "train: {'mIoU': 0.552928092248324, 'F1': 0.7103316019086899, 'OA': 0.7064425639617138}\n",
      "{'ImSurf': 0.5828296009753954, 'Building': 0.6434027677288057, 'LowVeg': 0.543101769067298, 'Tree': 0.4708016599336914, 'Car': 0.5245046635364298, 'Clutter': 0.15848678490717524}\n",
      "val: {'mIoU': 0.5316962668576145, 'F1': 0.6901571804811637, 'OA': 0.6733839003541703}\n",
      "{'ImSurf': 0.5873707111817634, 'Building': 0.6577206976974437, 'LowVeg': 0.4450318602959489, 'Tree': 0.42961216277294734, 'Car': 0.5387459023399689, 'Clutter': 0.20601444579085798}\n",
      "Epoch 7: loss: 114.3791, train accuracy: 0.7064, valid accuracy:0.6734\n",
      "Start epoch #8, learning rate for this epoch: [0.00048]\n"
     ]
    },
    {
     "name": "stderr",
     "output_type": "stream",
     "text": [
      "100%|██████████| 624/624 [02:27<00:00,  4.23it/s]\n"
     ]
    },
    {
     "name": "stdout",
     "output_type": "stream",
     "text": [
      "Done epoch #8, time for this epoch: 147.49641036987305s\n"
     ]
    },
    {
     "name": "stderr",
     "output_type": "stream",
     "text": [
      "100%|██████████| 175/175 [00:25<00:00,  6.91it/s]\n"
     ]
    },
    {
     "name": "stdout",
     "output_type": "stream",
     "text": [
      "(array([0.60099165, 0.69494412, 0.43740336, 0.44145983, 0.55373478,\n",
      "       0.18382561]), 0.5457067482989932, 0.7009386360558276, 0.6884740102402357)\n",
      "train: {'mIoU': 0.5610644999609462, 'F1': 0.7173160934914291, 'OA': 0.7117195771290705}\n",
      "{'ImSurf': 0.5852994420660088, 'Building': 0.6465730350587502, 'LowVeg': 0.5527102981929922, 'Tree': 0.4848542639577441, 'Car': 0.5358854605292357, 'Clutter': 0.15645395798324252}\n",
      "val: {'mIoU': 0.5457067482989932, 'F1': 0.7009386360558276, 'OA': 0.6884740102402357}\n",
      "{'ImSurf': 0.600991650958206, 'Building': 0.694944115757145, 'LowVeg': 0.4374033576747983, 'Tree': 0.4414598334307815, 'Car': 0.5537347836740356, 'Clutter': 0.18382561006887466}\n",
      "Epoch 8: loss: 113.3231, train accuracy: 0.7117, valid accuracy:0.6885\n",
      "Start epoch #9, learning rate for this epoch: [0.000288]\n"
     ]
    },
    {
     "name": "stderr",
     "output_type": "stream",
     "text": [
      "100%|██████████| 624/624 [02:25<00:00,  4.28it/s]\n"
     ]
    },
    {
     "name": "stdout",
     "output_type": "stream",
     "text": [
      "Done epoch #9, time for this epoch: 145.96855640411377s\n"
     ]
    },
    {
     "name": "stderr",
     "output_type": "stream",
     "text": [
      "100%|██████████| 175/175 [00:25<00:00,  6.78it/s]\n"
     ]
    },
    {
     "name": "stdout",
     "output_type": "stream",
     "text": [
      "(array([0.63985172, 0.71632255, 0.60594443, 0.39848131, 0.62853577,\n",
      "       0.23257949]), 0.5978271534667086, 0.742300485175884, 0.7444780271684874)\n",
      "train: {'mIoU': 0.5818155889644295, 'F1': 0.7339531607957929, 'OA': 0.7283178537319868}\n",
      "{'ImSurf': 0.6050958635500966, 'Building': 0.6778427640975309, 'LowVeg': 0.563954504441157, 'Tree': 0.503115992429165, 'Car': 0.5590688203041978, 'Clutter': 0.17293597500632338}\n",
      "val: {'mIoU': 0.5978271534667086, 'F1': 0.742300485175884, 'OA': 0.7444780271684874}\n",
      "{'ImSurf': 0.6398517181300762, 'Building': 0.7163225482574216, 'LowVeg': 0.6059444265026812, 'Tree': 0.3984813054526115, 'Car': 0.6285357689907528, 'Clutter': 0.2325794943615928}\n",
      "Epoch 9: loss: 108.8903, train accuracy: 0.7283, valid accuracy:0.7445\n",
      "Start epoch #10, learning rate for this epoch: [0.000288]\n"
     ]
    },
    {
     "name": "stderr",
     "output_type": "stream",
     "text": [
      "100%|██████████| 624/624 [02:26<00:00,  4.26it/s]\n"
     ]
    },
    {
     "name": "stdout",
     "output_type": "stream",
     "text": [
      "Done epoch #10, time for this epoch: 146.4696910381317s\n"
     ]
    },
    {
     "name": "stderr",
     "output_type": "stream",
     "text": [
      "100%|██████████| 175/175 [00:25<00:00,  6.91it/s]\n"
     ]
    },
    {
     "name": "stdout",
     "output_type": "stream",
     "text": [
      "(array([0.61869091, 0.74092156, 0.51627117, 0.47535658, 0.64376706,\n",
      "       0.22081581]), 0.5990014540500286, 0.744853928840908, 0.7251855065646311)\n",
      "train: {'mIoU': 0.592893873751911, 'F1': 0.7430151315091411, 'OA': 0.7346710394590329}\n",
      "{'ImSurf': 0.6105362358321783, 'Building': 0.683339234595973, 'LowVeg': 0.5714941266435315, 'Tree': 0.5203288365220893, 'Car': 0.5787709351657829, 'Clutter': 0.17846300536289939}\n",
      "val: {'mIoU': 0.5990014540500286, 'F1': 0.744853928840908, 'OA': 0.7251855065646311}\n",
      "{'ImSurf': 0.618690906050802, 'Building': 0.74092155592036, 'LowVeg': 0.5162711690724742, 'Tree': 0.4753565827405406, 'Car': 0.6437670564659662, 'Clutter': 0.22081581047231216}\n",
      "Epoch 10: loss: 107.4753, train accuracy: 0.7347, valid accuracy:0.7252\n",
      "Start epoch #11, learning rate for this epoch: [0.000288]\n"
     ]
    },
    {
     "name": "stderr",
     "output_type": "stream",
     "text": [
      "100%|██████████| 624/624 [02:25<00:00,  4.30it/s]\n"
     ]
    },
    {
     "name": "stdout",
     "output_type": "stream",
     "text": [
      "Done epoch #11, time for this epoch: 145.1302433013916s\n"
     ]
    },
    {
     "name": "stderr",
     "output_type": "stream",
     "text": [
      "100%|██████████| 175/175 [00:25<00:00,  6.88it/s]\n"
     ]
    },
    {
     "name": "stdout",
     "output_type": "stream",
     "text": [
      "(array([0.60387282, 0.66254049, 0.59974892, 0.43238094, 0.57599197,\n",
      "       0.224903  ]), 0.5749070281274113, 0.7269050640289956, 0.7273687950074029)\n",
      "train: {'mIoU': 0.5991921541723952, 'F1': 0.7476185051783453, 'OA': 0.7411445501523141}\n",
      "{'ImSurf': 0.6210514219149321, 'Building': 0.697790374653395, 'LowVeg': 0.5804887285548718, 'Tree': 0.5142139430158807, 'Car': 0.5824163027228966, 'Clutter': 0.19352351962158845}\n",
      "val: {'mIoU': 0.5749070281274113, 'F1': 0.7269050640289956, 'OA': 0.7273687950074029}\n",
      "{'ImSurf': 0.6038728160514025, 'Building': 0.662540493888265, 'LowVeg': 0.5997489207098725, 'Tree': 0.43238093638093406, 'Car': 0.5759919736065827, 'Clutter': 0.22490299659107715}\n",
      "Epoch 11: loss: 105.4221, train accuracy: 0.7411, valid accuracy:0.7274\n",
      "Start epoch #12, learning rate for this epoch: [0.000288]\n"
     ]
    },
    {
     "name": "stderr",
     "output_type": "stream",
     "text": [
      "100%|██████████| 624/624 [02:25<00:00,  4.29it/s]\n"
     ]
    },
    {
     "name": "stdout",
     "output_type": "stream",
     "text": [
      "Done epoch #12, time for this epoch: 145.3337562084198s\n"
     ]
    },
    {
     "name": "stderr",
     "output_type": "stream",
     "text": [
      "100%|██████████| 175/175 [00:26<00:00,  6.67it/s]\n"
     ]
    },
    {
     "name": "stdout",
     "output_type": "stream",
     "text": [
      "(array([0.63855016, 0.73816646, 0.44588527, 0.46544967, 0.64548951,\n",
      "       0.21324393]), 0.5867082136884019, 0.7330645500944222, 0.7153987514827204)\n",
      "train: {'mIoU': 0.6054043985930838, 'F1': 0.7524102590615394, 'OA': 0.7443794226035093}\n",
      "{'ImSurf': 0.6302745173665893, 'Building': 0.7026726976506172, 'LowVeg': 0.5769302363927717, 'Tree': 0.5173195040355946, 'Car': 0.5998250375198464, 'Clutter': 0.22037081754710341}\n",
      "val: {'mIoU': 0.5867082136884019, 'F1': 0.7330645500944222, 'OA': 0.7153987514827204}\n",
      "{'ImSurf': 0.6385501576447132, 'Building': 0.7381664575226764, 'LowVeg': 0.4458852690453817, 'Tree': 0.46544966960580203, 'Car': 0.6454895146234365, 'Clutter': 0.2132439307773714}\n",
      "Epoch 12: loss: 104.0117, train accuracy: 0.7444, valid accuracy:0.7154\n",
      "Start epoch #13, learning rate for this epoch: [0.0001728]\n"
     ]
    },
    {
     "name": "stderr",
     "output_type": "stream",
     "text": [
      "100%|██████████| 624/624 [02:24<00:00,  4.31it/s]\n"
     ]
    },
    {
     "name": "stdout",
     "output_type": "stream",
     "text": [
      "Done epoch #13, time for this epoch: 144.88494205474854s\n"
     ]
    },
    {
     "name": "stderr",
     "output_type": "stream",
     "text": [
      "100%|██████████| 175/175 [00:25<00:00,  6.90it/s]\n"
     ]
    },
    {
     "name": "stdout",
     "output_type": "stream",
     "text": [
      "(array([0.64396774, 0.73621412, 0.59144849, 0.54685036, 0.66131211,\n",
      "       0.2481184 ]), 0.6359585621966464, 0.7755930191184344, 0.7609380214058573)\n",
      "train: {'mIoU': 0.6218223643400621, 'F1': 0.7651067267463189, 'OA': 0.7571383439577543}\n",
      "{'ImSurf': 0.6386333255571207, 'Building': 0.722959474498581, 'LowVeg': 0.5947193041629983, 'Tree': 0.5371106106261041, 'Car': 0.6156891068555065, 'Clutter': 0.23677343041493248}\n",
      "val: {'mIoU': 0.6359585621966464, 'F1': 0.7755930191184344, 'OA': 0.7609380214058573}\n",
      "{'ImSurf': 0.6439677371941663, 'Building': 0.7362141159012271, 'LowVeg': 0.5914484918755629, 'Tree': 0.5468503598270754, 'Car': 0.6613121061852002, 'Clutter': 0.24811840437829236}\n",
      "Epoch 13: loss: 100.9119, train accuracy: 0.7571, valid accuracy:0.7609\n",
      "Start epoch #14, learning rate for this epoch: [0.0001728]\n"
     ]
    },
    {
     "name": "stderr",
     "output_type": "stream",
     "text": [
      "100%|██████████| 624/624 [02:24<00:00,  4.33it/s]\n"
     ]
    },
    {
     "name": "stdout",
     "output_type": "stream",
     "text": [
      "Done epoch #14, time for this epoch: 144.18445801734924s\n"
     ]
    },
    {
     "name": "stderr",
     "output_type": "stream",
     "text": [
      "100%|██████████| 175/175 [00:25<00:00,  6.95it/s]\n"
     ]
    },
    {
     "name": "stdout",
     "output_type": "stream",
     "text": [
      "(array([0.66606143, 0.76625735, 0.62928173, 0.5222413 , 0.66206224,\n",
      "       0.26215852]), 0.6491808090554556, 0.7845029882728062, 0.7760414402859721)\n",
      "train: {'mIoU': 0.6235907088713635, 'F1': 0.7662505099017357, 'OA': 0.7578342725069095}\n",
      "{'ImSurf': 0.6436750441201655, 'Building': 0.727438502514905, 'LowVeg': 0.5947037059096575, 'Tree': 0.531124365702189, 'Car': 0.6210119261098999, 'Clutter': 0.2301971489503278}\n",
      "val: {'mIoU': 0.6491808090554556, 'F1': 0.7845029882728062, 'OA': 0.7760414402859721}\n",
      "{'ImSurf': 0.6660614290707396, 'Building': 0.7662573512323747, 'LowVeg': 0.6292817309935396, 'Tree': 0.5222412955177255, 'Car': 0.6620622384628986, 'Clutter': 0.262158515823823}\n",
      "Epoch 14: loss: 100.4682, train accuracy: 0.7578, valid accuracy:0.7760\n",
      "Start epoch #15, learning rate for this epoch: [0.0001728]\n"
     ]
    },
    {
     "name": "stderr",
     "output_type": "stream",
     "text": [
      "100%|██████████| 624/624 [02:24<00:00,  4.30it/s]\n"
     ]
    },
    {
     "name": "stdout",
     "output_type": "stream",
     "text": [
      "Done epoch #15, time for this epoch: 144.95433926582336s\n"
     ]
    },
    {
     "name": "stderr",
     "output_type": "stream",
     "text": [
      "100%|██████████| 175/175 [00:25<00:00,  6.85it/s]\n"
     ]
    },
    {
     "name": "stdout",
     "output_type": "stream",
     "text": [
      "(array([0.6567164 , 0.75901954, 0.58139094, 0.28698326, 0.63752767,\n",
      "       0.27722256]), 0.5843275621493036, 0.7231422327604177, 0.7403703786791097)\n",
      "train: {'mIoU': 0.6300786729036811, 'F1': 0.7710997670972398, 'OA': 0.7635427896793072}\n",
      "{'ImSurf': 0.647942794443394, 'Building': 0.7403993446840549, 'LowVeg': 0.5973522332638795, 'Tree': 0.5407694514790844, 'Car': 0.623929540647993, 'Clutter': 0.26509444942144084}\n",
      "val: {'mIoU': 0.5843275621493036, 'F1': 0.7231422327604177, 'OA': 0.7403703786791097}\n",
      "{'ImSurf': 0.6567163977133892, 'Building': 0.7590195379988386, 'LowVeg': 0.5813909437572222, 'Tree': 0.2869832608302869, 'Car': 0.6375276704467808, 'Clutter': 0.2772225585771918}\n",
      "Epoch 15: loss: 98.8934, train accuracy: 0.7635, valid accuracy:0.7404\n",
      "Start epoch #16, learning rate for this epoch: [0.0001728]\n"
     ]
    },
    {
     "name": "stderr",
     "output_type": "stream",
     "text": [
      "100%|██████████| 624/624 [02:25<00:00,  4.30it/s]\n"
     ]
    },
    {
     "name": "stdout",
     "output_type": "stream",
     "text": [
      "Done epoch #16, time for this epoch: 145.15826988220215s\n"
     ]
    },
    {
     "name": "stderr",
     "output_type": "stream",
     "text": [
      "100%|██████████| 175/175 [00:25<00:00,  6.86it/s]\n"
     ]
    },
    {
     "name": "stdout",
     "output_type": "stream",
     "text": [
      "(array([0.66911535, 0.7427793 , 0.6194961 , 0.47860293, 0.65538517,\n",
      "       0.24448745]), 0.6330757713057824, 0.7716819956382104, 0.7685169184370512)\n",
      "train: {'mIoU': 0.6353122981308474, 'F1': 0.7751537391120854, 'OA': 0.7663381680464133}\n",
      "{'ImSurf': 0.6504104876622507, 'Building': 0.7404273752728163, 'LowVeg': 0.6041423530102255, 'Tree': 0.545681794069254, 'Car': 0.6358994806396905, 'Clutter': 0.2653407667938499}\n",
      "val: {'mIoU': 0.6330757713057824, 'F1': 0.7716819956382104, 'OA': 0.7685169184370512}\n",
      "{'ImSurf': 0.6691153479461324, 'Building': 0.742779302407914, 'LowVeg': 0.6194961019092459, 'Tree': 0.4786029323633619, 'Car': 0.6553851719022581, 'Clutter': 0.24448745170720892}\n",
      "Epoch 16: loss: 98.3324, train accuracy: 0.7663, valid accuracy:0.7685\n",
      "Start epoch #17, learning rate for this epoch: [0.00010368]\n"
     ]
    },
    {
     "name": "stderr",
     "output_type": "stream",
     "text": [
      "100%|██████████| 624/624 [02:22<00:00,  4.37it/s]\n"
     ]
    },
    {
     "name": "stdout",
     "output_type": "stream",
     "text": [
      "Done epoch #17, time for this epoch: 142.6730329990387s\n"
     ]
    },
    {
     "name": "stderr",
     "output_type": "stream",
     "text": [
      "100%|██████████| 175/175 [00:25<00:00,  6.96it/s]\n"
     ]
    },
    {
     "name": "stdout",
     "output_type": "stream",
     "text": [
      "(array([0.6623889 , 0.74181932, 0.63979989, 0.53452892, 0.66638295,\n",
      "       0.31106998]), 0.648983996010898, 0.7850980914548785, 0.7769529146850321)\n",
      "train: {'mIoU': 0.6431414040592524, 'F1': 0.7808990813045245, 'OA': 0.7734198998182248}\n",
      "{'ImSurf': 0.6624716341196626, 'Building': 0.7541056377707781, 'LowVeg': 0.6076074081851319, 'Tree': 0.5558527635548602, 'Car': 0.6356695766658289, 'Clutter': 0.2675484560465996}\n",
      "val: {'mIoU': 0.648983996010898, 'F1': 0.7850980914548785, 'OA': 0.7769529146850321}\n",
      "{'ImSurf': 0.6623889045405797, 'Building': 0.7418193165472502, 'LowVeg': 0.6397998934439489, 'Tree': 0.5345289171688036, 'Car': 0.6663829483539073, 'Clutter': 0.3110699789790375}\n",
      "Epoch 17: loss: 96.5950, train accuracy: 0.7734, valid accuracy:0.7770\n",
      "Start epoch #18, learning rate for this epoch: [0.00010368]\n"
     ]
    },
    {
     "name": "stderr",
     "output_type": "stream",
     "text": [
      "100%|██████████| 624/624 [02:24<00:00,  4.32it/s]\n"
     ]
    },
    {
     "name": "stdout",
     "output_type": "stream",
     "text": [
      "Done epoch #18, time for this epoch: 144.4132902622223s\n"
     ]
    },
    {
     "name": "stderr",
     "output_type": "stream",
     "text": [
      "100%|██████████| 175/175 [00:24<00:00,  7.01it/s]\n"
     ]
    },
    {
     "name": "stdout",
     "output_type": "stream",
     "text": [
      "(array([0.67976517, 0.77435637, 0.57753143, 0.55884636, 0.67372143,\n",
      "       0.3086142 ]), 0.6528441507817402, 0.7872884902642132, 0.7752323301250952)\n",
      "train: {'mIoU': 0.648238409224812, 'F1': 0.7845156692754512, 'OA': 0.7773065780981993}\n",
      "{'ImSurf': 0.6681964158666924, 'Building': 0.7642416460631906, 'LowVeg': 0.6095436495153609, 'Tree': 0.5580936877636832, 'Car': 0.6411166469151329, 'Clutter': 0.2785593262745518}\n",
      "val: {'mIoU': 0.6528441507817402, 'F1': 0.7872884902642132, 'OA': 0.7752323301250952}\n",
      "{'ImSurf': 0.6797651706122676, 'Building': 0.7743563722283884, 'LowVeg': 0.5775314287188738, 'Tree': 0.5588463552488168, 'Car': 0.6737214271003537, 'Clutter': 0.30861420399925216}\n",
      "Epoch 18: loss: 95.2682, train accuracy: 0.7773, valid accuracy:0.7752\n",
      "Start epoch #19, learning rate for this epoch: [0.00010368]\n"
     ]
    },
    {
     "name": "stderr",
     "output_type": "stream",
     "text": [
      "100%|██████████| 624/624 [02:22<00:00,  4.36it/s]\n"
     ]
    },
    {
     "name": "stdout",
     "output_type": "stream",
     "text": [
      "Done epoch #19, time for this epoch: 142.96588611602783s\n"
     ]
    },
    {
     "name": "stderr",
     "output_type": "stream",
     "text": [
      "100%|██████████| 175/175 [00:24<00:00,  7.00it/s]\n"
     ]
    },
    {
     "name": "stdout",
     "output_type": "stream",
     "text": [
      "(array([0.67319354, 0.78198161, 0.53373435, 0.52520863, 0.65734595,\n",
      "       0.29826472]), 0.6342928160504286, 0.7720567041869736, 0.758673674069286)\n",
      "train: {'mIoU': 0.6510821811307353, 'F1': 0.7865758040657742, 'OA': 0.7798275336241111}\n",
      "{'ImSurf': 0.6745573051060408, 'Building': 0.7667036794408915, 'LowVeg': 0.612879241146661, 'Tree': 0.5589312409612253, 'Car': 0.6423394389988584, 'Clutter': 0.2823882023930029}\n",
      "val: {'mIoU': 0.6342928160504286, 'F1': 0.7720567041869736, 'OA': 0.758673674069286}\n",
      "{'ImSurf': 0.673193537035038, 'Building': 0.7819816082665504, 'LowVeg': 0.5337343505797134, 'Tree': 0.5252086328001239, 'Car': 0.6573459515707174, 'Clutter': 0.29826471677397143}\n",
      "Epoch 19: loss: 94.8721, train accuracy: 0.7798, valid accuracy:0.7587\n",
      "Start epoch #20, learning rate for this epoch: [0.00010368]\n"
     ]
    },
    {
     "name": "stderr",
     "output_type": "stream",
     "text": [
      "100%|██████████| 624/624 [02:22<00:00,  4.37it/s]\n"
     ]
    },
    {
     "name": "stdout",
     "output_type": "stream",
     "text": [
      "Done epoch #20, time for this epoch: 142.82157611846924s\n"
     ]
    },
    {
     "name": "stderr",
     "output_type": "stream",
     "text": [
      "100%|██████████| 175/175 [00:24<00:00,  7.11it/s]\n"
     ]
    },
    {
     "name": "stdout",
     "output_type": "stream",
     "text": [
      "(array([0.6827536 , 0.77277164, 0.56254426, 0.5549452 , 0.67447236,\n",
      "       0.31852134]), 0.6494974108526548, 0.7845412325886817, 0.7699351971387348)\n",
      "train: {'mIoU': 0.6514004361574789, 'F1': 0.7869648050268065, 'OA': 0.7808024761004325}\n",
      "{'ImSurf': 0.6733105777449421, 'Building': 0.7641047102425271, 'LowVeg': 0.6166864171092776, 'Tree': 0.5637267994919645, 'Car': 0.6391736761986833, 'Clutter': 0.28984699218899007}\n",
      "val: {'mIoU': 0.6494974108526548, 'F1': 0.7845412325886817, 'OA': 0.7699351971387348}\n",
      "{'ImSurf': 0.6827535976698454, 'Building': 0.7727716377095736, 'LowVeg': 0.5625442573408874, 'Tree': 0.5549451983669798, 'Car': 0.6744723631759878, 'Clutter': 0.31852133680284267}\n",
      "Epoch 20: loss: 94.1564, train accuracy: 0.7808, valid accuracy:0.7699\n",
      "Start epoch #21, learning rate for this epoch: [6.2208e-05]\n"
     ]
    },
    {
     "name": "stderr",
     "output_type": "stream",
     "text": [
      "100%|██████████| 624/624 [02:22<00:00,  4.37it/s]\n"
     ]
    },
    {
     "name": "stdout",
     "output_type": "stream",
     "text": [
      "Done epoch #21, time for this epoch: 142.81329345703125s\n"
     ]
    },
    {
     "name": "stderr",
     "output_type": "stream",
     "text": [
      "100%|██████████| 175/175 [00:25<00:00,  7.00it/s]\n"
     ]
    },
    {
     "name": "stdout",
     "output_type": "stream",
     "text": [
      "(array([0.67696413, 0.75121957, 0.63817179, 0.5118369 , 0.67873759,\n",
      "       0.3130735 ]), 0.6513859954141228, 0.7860337541231235, 0.7804099888743381)\n",
      "train: {'mIoU': 0.6643189153649235, 'F1': 0.7963001551126772, 'OA': 0.7908269411478287}\n",
      "{'ImSurf': 0.6876013024201724, 'Building': 0.7813626794483673, 'LowVeg': 0.6272323464465716, 'Tree': 0.5764386923795642, 'Car': 0.6489595561299416, 'Clutter': 0.29857372935239673}\n",
      "val: {'mIoU': 0.6513859954141228, 'F1': 0.7860337541231235, 'OA': 0.7804099888743381}\n",
      "{'ImSurf': 0.6769641322524174, 'Building': 0.7512195670111423, 'LowVeg': 0.6381717858137107, 'Tree': 0.5118369001951738, 'Car': 0.67873759179817, 'Clutter': 0.3130735032674334}\n",
      "Epoch 21: loss: 92.0302, train accuracy: 0.7908, valid accuracy:0.7804\n",
      "Start epoch #22, learning rate for this epoch: [6.2208e-05]\n"
     ]
    },
    {
     "name": "stderr",
     "output_type": "stream",
     "text": [
      "100%|██████████| 624/624 [02:25<00:00,  4.30it/s]\n"
     ]
    },
    {
     "name": "stdout",
     "output_type": "stream",
     "text": [
      "Done epoch #22, time for this epoch: 145.18640089035034s\n"
     ]
    },
    {
     "name": "stderr",
     "output_type": "stream",
     "text": [
      "100%|██████████| 175/175 [00:26<00:00,  6.70it/s]\n"
     ]
    },
    {
     "name": "stdout",
     "output_type": "stream",
     "text": [
      "(array([0.68579143, 0.78845056, 0.65789163, 0.59090989, 0.67798857,\n",
      "       0.33144134]), 0.6802064180239404, 0.8079860526153292, 0.7997443862553559)\n",
      "train: {'mIoU': 0.663339187968084, 'F1': 0.7955944709532512, 'OA': 0.7887651461821336}\n",
      "{'ImSurf': 0.6827366785068036, 'Building': 0.7805760727999101, 'LowVeg': 0.6256991141771077, 'Tree': 0.5747078313694876, 'Car': 0.6529762429871108, 'Clutter': 0.2986494684467626}\n",
      "val: {'mIoU': 0.6802064180239404, 'F1': 0.8079860526153292, 'OA': 0.7997443862553559}\n",
      "{'ImSurf': 0.6857914330568609, 'Building': 0.788450563935382, 'LowVeg': 0.6578916300854147, 'Tree': 0.590909892976414, 'Car': 0.6779885700656302, 'Clutter': 0.33144134427831473}\n",
      "Epoch 22: loss: 92.1924, train accuracy: 0.7888, valid accuracy:0.7997\n",
      "Start epoch #23, learning rate for this epoch: [6.2208e-05]\n"
     ]
    },
    {
     "name": "stderr",
     "output_type": "stream",
     "text": [
      "100%|██████████| 624/624 [02:24<00:00,  4.31it/s]\n"
     ]
    },
    {
     "name": "stdout",
     "output_type": "stream",
     "text": [
      "Done epoch #23, time for this epoch: 144.8613657951355s\n"
     ]
    },
    {
     "name": "stderr",
     "output_type": "stream",
     "text": [
      "100%|██████████| 175/175 [00:25<00:00,  6.91it/s]\n"
     ]
    },
    {
     "name": "stdout",
     "output_type": "stream",
     "text": [
      "(array([0.68347351, 0.77602014, 0.65544966, 0.61087305, 0.67156505,\n",
      "       0.30083063]), 0.6794762808112279, 0.807937905008014, 0.7967316681587344)\n",
      "train: {'mIoU': 0.6651394968464656, 'F1': 0.7967893086025295, 'OA': 0.7896586748269888}\n",
      "{'ImSurf': 0.6866287423456615, 'Building': 0.7819657839625695, 'LowVeg': 0.6245227357496237, 'Tree': 0.5707528802819531, 'Car': 0.66182734189252, 'Clutter': 0.31336504765712103}\n",
      "val: {'mIoU': 0.6794762808112279, 'F1': 0.807937905008014, 'OA': 0.7967316681587344}\n",
      "{'ImSurf': 0.6834735050201209, 'Building': 0.776020142653976, 'LowVeg': 0.6554496559435736, 'Tree': 0.610873053699783, 'Car': 0.6715650467386856, 'Clutter': 0.30083063219942324}\n",
      "Epoch 23: loss: 91.8464, train accuracy: 0.7897, valid accuracy:0.7967\n",
      "Start epoch #24, learning rate for this epoch: [6.2208e-05]\n"
     ]
    },
    {
     "name": "stderr",
     "output_type": "stream",
     "text": [
      "100%|██████████| 624/624 [02:24<00:00,  4.33it/s]\n"
     ]
    },
    {
     "name": "stdout",
     "output_type": "stream",
     "text": [
      "Done epoch #24, time for this epoch: 144.03892421722412s\n"
     ]
    },
    {
     "name": "stderr",
     "output_type": "stream",
     "text": [
      "100%|██████████| 175/175 [00:24<00:00,  7.04it/s]\n"
     ]
    },
    {
     "name": "stdout",
     "output_type": "stream",
     "text": [
      "(array([0.69147234, 0.78076093, 0.65097303, 0.60301635, 0.68118459,\n",
      "       0.32914047]), 0.6814814485884008, 0.8091581360102194, 0.7991917508160219)\n",
      "train: {'mIoU': 0.6698248473851981, 'F1': 0.8003813470269874, 'OA': 0.793132503827413}\n",
      "{'ImSurf': 0.6909252403232412, 'Building': 0.7826001852039721, 'LowVeg': 0.631834309100556, 'Tree': 0.5823328149734233, 'Car': 0.6614316873247985, 'Clutter': 0.312610103144845}\n",
      "val: {'mIoU': 0.6814814485884008, 'F1': 0.8091581360102194, 'OA': 0.7991917508160219}\n",
      "{'ImSurf': 0.6914723406562603, 'Building': 0.7807609315335019, 'LowVeg': 0.6509730275791986, 'Tree': 0.6030163482048677, 'Car': 0.6811845949681752, 'Clutter': 0.3291404665549628}\n",
      "Epoch 24: loss: 91.0757, train accuracy: 0.7931, valid accuracy:0.7992\n",
      "Start epoch #25, learning rate for this epoch: [3.73248e-05]\n"
     ]
    },
    {
     "name": "stderr",
     "output_type": "stream",
     "text": [
      "100%|██████████| 624/624 [02:24<00:00,  4.33it/s]\n"
     ]
    },
    {
     "name": "stdout",
     "output_type": "stream",
     "text": [
      "Done epoch #25, time for this epoch: 144.00938963890076s\n"
     ]
    },
    {
     "name": "stderr",
     "output_type": "stream",
     "text": [
      "100%|██████████| 175/175 [00:25<00:00,  6.78it/s]\n"
     ]
    },
    {
     "name": "stdout",
     "output_type": "stream",
     "text": [
      "(array([0.69164908, 0.78894157, 0.65489735, 0.59971983, 0.68448142,\n",
      "       0.32634209]), 0.6839378490012284, 0.8107360146937832, 0.8022492265667062)\n",
      "train: {'mIoU': 0.6720756600708373, 'F1': 0.8018234315154549, 'OA': 0.7946006609843328}\n",
      "{'ImSurf': 0.6910316775153255, 'Building': 0.7907013765088601, 'LowVeg': 0.6304980964221475, 'Tree': 0.5810402962180012, 'Car': 0.6671068536898522, 'Clutter': 0.30848485032420936}\n",
      "val: {'mIoU': 0.6839378490012284, 'F1': 0.8107360146937832, 'OA': 0.8022492265667062}\n",
      "{'ImSurf': 0.6916490760463249, 'Building': 0.7889415675266529, 'LowVeg': 0.6548973456472164, 'Tree': 0.5997198319961599, 'Car': 0.6844814237897879, 'Clutter': 0.3263420930626783}\n",
      "Epoch 25: loss: 90.7258, train accuracy: 0.7946, valid accuracy:0.8022\n",
      "Start epoch #26, learning rate for this epoch: [3.73248e-05]\n"
     ]
    },
    {
     "name": "stderr",
     "output_type": "stream",
     "text": [
      "100%|██████████| 624/624 [02:22<00:00,  4.37it/s]\n"
     ]
    },
    {
     "name": "stdout",
     "output_type": "stream",
     "text": [
      "Done epoch #26, time for this epoch: 142.90862321853638s\n"
     ]
    },
    {
     "name": "stderr",
     "output_type": "stream",
     "text": [
      "100%|██████████| 175/175 [00:24<00:00,  7.07it/s]\n"
     ]
    },
    {
     "name": "stdout",
     "output_type": "stream",
     "text": [
      "(array([0.68346357, 0.79226157, 0.6542609 , 0.5596075 , 0.66932956,\n",
      "       0.32861296]), 0.6717846179811569, 0.8013211419306046, 0.7956941362259118)\n",
      "train: {'mIoU': 0.6711750426032508, 'F1': 0.8011203544260791, 'OA': 0.7954686452180911}\n",
      "{'ImSurf': 0.693770741517907, 'Building': 0.7931340632836539, 'LowVeg': 0.6323879820697382, 'Tree': 0.5812826051000513, 'Car': 0.6552998210449036, 'Clutter': 0.30268803804847333}\n",
      "val: {'mIoU': 0.6717846179811569, 'F1': 0.8013211419306046, 'OA': 0.7956941362259118}\n",
      "{'ImSurf': 0.6834635711249021, 'Building': 0.7922615650198981, 'LowVeg': 0.654260895358943, 'Tree': 0.559607498385789, 'Car': 0.6693295600162512, 'Clutter': 0.3286129644867251}\n",
      "Epoch 26: loss: 90.1004, train accuracy: 0.7955, valid accuracy:0.7957\n",
      "Start epoch #27, learning rate for this epoch: [3.73248e-05]\n"
     ]
    },
    {
     "name": "stderr",
     "output_type": "stream",
     "text": [
      "100%|██████████| 624/624 [02:22<00:00,  4.36it/s]\n"
     ]
    },
    {
     "name": "stdout",
     "output_type": "stream",
     "text": [
      "Done epoch #27, time for this epoch: 142.98920798301697s\n"
     ]
    },
    {
     "name": "stderr",
     "output_type": "stream",
     "text": [
      "100%|██████████| 175/175 [00:25<00:00,  6.93it/s]\n"
     ]
    },
    {
     "name": "stdout",
     "output_type": "stream",
     "text": [
      "(array([0.68756666, 0.78987342, 0.6401031 , 0.54161595, 0.68491348,\n",
      "       0.28284277]), 0.6688145205920597, 0.7987368185335596, 0.7922762879688621)\n",
      "train: {'mIoU': 0.6755108361483724, 'F1': 0.8043759853788833, 'OA': 0.798597161586468}\n",
      "{'ImSurf': 0.6957467708519244, 'Building': 0.7945622528786656, 'LowVeg': 0.638132030948959, 'Tree': 0.5901083260237895, 'Car': 0.6590048000385235, 'Clutter': 0.31282782934357645}\n",
      "val: {'mIoU': 0.6688145205920597, 'F1': 0.7987368185335596, 'OA': 0.7922762879688621}\n",
      "{'ImSurf': 0.6875666589377282, 'Building': 0.7898734210304079, 'LowVeg': 0.6401030953973474, 'Tree': 0.5416159510255162, 'Car': 0.6849134765692991, 'Clutter': 0.2828427734418081}\n",
      "Epoch 27: loss: 89.6836, train accuracy: 0.7986, valid accuracy:0.7923\n",
      "Start epoch #28, learning rate for this epoch: [3.73248e-05]\n"
     ]
    },
    {
     "name": "stderr",
     "output_type": "stream",
     "text": [
      "100%|██████████| 624/624 [02:22<00:00,  4.37it/s]\n"
     ]
    },
    {
     "name": "stdout",
     "output_type": "stream",
     "text": [
      "Done epoch #28, time for this epoch: 142.7988691329956s\n"
     ]
    },
    {
     "name": "stderr",
     "output_type": "stream",
     "text": [
      "100%|██████████| 175/175 [00:24<00:00,  7.02it/s]\n"
     ]
    },
    {
     "name": "stdout",
     "output_type": "stream",
     "text": [
      "(array([0.70426491, 0.79463443, 0.65296458, 0.6089212 , 0.6794451 ,\n",
      "       0.3332147 ]), 0.6880460432037411, 0.8136309304919129, 0.805916659539326)\n",
      "train: {'mIoU': 0.6767905753676349, 'F1': 0.805219888987532, 'OA': 0.8003578002636249}\n",
      "{'ImSurf': 0.700935118777818, 'Building': 0.7957145739738705, 'LowVeg': 0.6378657531756013, 'Tree': 0.5881467329443316, 'Car': 0.6612906979665525, 'Clutter': 0.32964351848285434}\n",
      "val: {'mIoU': 0.6880460432037411, 'F1': 0.8136309304919129, 'OA': 0.805916659539326}\n",
      "{'ImSurf': 0.7042649082861321, 'Building': 0.7946344275744202, 'LowVeg': 0.6529645790612265, 'Tree': 0.6089211992010654, 'Car': 0.6794451018958608, 'Clutter': 0.3332146954380286}\n",
      "Epoch 28: loss: 88.7490, train accuracy: 0.8004, valid accuracy:0.8059\n",
      "Start epoch #29, learning rate for this epoch: [2.239488e-05]\n"
     ]
    },
    {
     "name": "stderr",
     "output_type": "stream",
     "text": [
      "100%|██████████| 624/624 [02:23<00:00,  4.36it/s]\n"
     ]
    },
    {
     "name": "stdout",
     "output_type": "stream",
     "text": [
      "Done epoch #29, time for this epoch: 143.2403063774109s\n"
     ]
    },
    {
     "name": "stderr",
     "output_type": "stream",
     "text": [
      "100%|██████████| 175/175 [00:24<00:00,  7.07it/s]\n"
     ]
    },
    {
     "name": "stdout",
     "output_type": "stream",
     "text": [
      "(array([0.69330587, 0.78794461, 0.66713859, 0.61075129, 0.68736662,\n",
      "       0.32504389]), 0.6893013979263513, 0.8147359607983734, 0.8053524348689596)\n",
      "train: {'mIoU': 0.6734835539204743, 'F1': 0.8029164890974352, 'OA': 0.7985240557254889}\n",
      "{'ImSurf': 0.6973430940583929, 'Building': 0.7933762692861435, 'LowVeg': 0.6354157643039895, 'Tree': 0.591448000918024, 'Car': 0.6498346410358214, 'Clutter': 0.31699730858038794}\n",
      "val: {'mIoU': 0.6893013979263513, 'F1': 0.8147359607983734, 'OA': 0.8053524348689596}\n",
      "{'ImSurf': 0.6933058721264019, 'Building': 0.7879446074928598, 'LowVeg': 0.6671385922697858, 'Tree': 0.6107512948525572, 'Car': 0.6873666228901517, 'Clutter': 0.3250438910931}\n",
      "Epoch 29: loss: 89.3308, train accuracy: 0.7985, valid accuracy:0.8054\n",
      "Start epoch #30, learning rate for this epoch: [2.239488e-05]\n"
     ]
    },
    {
     "name": "stderr",
     "output_type": "stream",
     "text": [
      "100%|██████████| 624/624 [02:24<00:00,  4.32it/s]\n"
     ]
    },
    {
     "name": "stdout",
     "output_type": "stream",
     "text": [
      "Done epoch #30, time for this epoch: 144.46552515029907s\n"
     ]
    },
    {
     "name": "stderr",
     "output_type": "stream",
     "text": [
      "100%|██████████| 175/175 [00:25<00:00,  6.91it/s]\n"
     ]
    },
    {
     "name": "stdout",
     "output_type": "stream",
     "text": [
      "(array([0.68867584, 0.79652575, 0.65768409, 0.59271081, 0.68539611,\n",
      "       0.31562068]), 0.6841985218582016, 0.8106984634920178, 0.8021396875210314)\n",
      "train: {'mIoU': 0.6732338457880849, 'F1': 0.8025960966079657, 'OA': 0.7971951472453582}\n",
      "{'ImSurf': 0.6974821327683791, 'Building': 0.7936939308649098, 'LowVeg': 0.6330990406722871, 'Tree': 0.5819679632224313, 'Car': 0.659926161412417, 'Clutter': 0.32449939776595277}\n",
      "val: {'mIoU': 0.6841985218582016, 'F1': 0.8106984634920178, 'OA': 0.8021396875210314}\n",
      "{'ImSurf': 0.6886758411099896, 'Building': 0.7965257545716737, 'LowVeg': 0.6576840876465219, 'Tree': 0.5927108145086716, 'Car': 0.6853961114541517, 'Clutter': 0.31562067527597365}\n",
      "Epoch 30: loss: 89.7873, train accuracy: 0.7972, valid accuracy:0.8021\n",
      "Start epoch #31, learning rate for this epoch: [2.239488e-05]\n"
     ]
    },
    {
     "name": "stderr",
     "output_type": "stream",
     "text": [
      "100%|██████████| 624/624 [02:24<00:00,  4.33it/s]\n"
     ]
    },
    {
     "name": "stdout",
     "output_type": "stream",
     "text": [
      "Done epoch #31, time for this epoch: 144.05549311637878s\n"
     ]
    },
    {
     "name": "stderr",
     "output_type": "stream",
     "text": [
      "100%|██████████| 175/175 [00:24<00:00,  7.01it/s]\n"
     ]
    },
    {
     "name": "stdout",
     "output_type": "stream",
     "text": [
      "(array([0.6972773 , 0.79003185, 0.66269093, 0.61618636, 0.68807053,\n",
      "       0.34767515]), 0.6908513973076034, 0.8158417151622549, 0.8061017367108981)\n",
      "train: {'mIoU': 0.6794475429422827, 'F1': 0.8071383582933146, 'OA': 0.8012806054873344}\n",
      "{'ImSurf': 0.7005638939954405, 'Building': 0.7997750792541706, 'LowVeg': 0.6360712711284205, 'Tree': 0.5947850547074492, 'Car': 0.6660424156259327, 'Clutter': 0.3353707655281549}\n",
      "val: {'mIoU': 0.6908513973076034, 'F1': 0.8158417151622549, 'OA': 0.8061017367108981}\n",
      "{'ImSurf': 0.6972773040467249, 'Building': 0.7900318533643311, 'LowVeg': 0.6626909311469659, 'Tree': 0.6161863634587986, 'Car': 0.6880705345211962, 'Clutter': 0.34767514763205637}\n",
      "Epoch 31: loss: 88.7522, train accuracy: 0.8013, valid accuracy:0.8061\n",
      "Start epoch #32, learning rate for this epoch: [2.239488e-05]\n"
     ]
    },
    {
     "name": "stderr",
     "output_type": "stream",
     "text": [
      "100%|██████████| 624/624 [02:24<00:00,  4.33it/s]\n"
     ]
    },
    {
     "name": "stdout",
     "output_type": "stream",
     "text": [
      "Done epoch #32, time for this epoch: 144.03017139434814s\n"
     ]
    },
    {
     "name": "stderr",
     "output_type": "stream",
     "text": [
      "100%|██████████| 175/175 [00:24<00:00,  7.02it/s]\n"
     ]
    },
    {
     "name": "stdout",
     "output_type": "stream",
     "text": [
      "(array([0.68961035, 0.78698901, 0.66719861, 0.60695964, 0.67402329,\n",
      "       0.3412739 ]), 0.6849561800925388, 0.8116328212119143, 0.8040427969927763)\n",
      "train: {'mIoU': 0.6770365497313168, 'F1': 0.8052869379532519, 'OA': 0.8007796635994544}\n",
      "{'ImSurf': 0.7037326983960763, 'Building': 0.799174860431047, 'LowVeg': 0.6337245231232516, 'Tree': 0.5881570603929466, 'Car': 0.6603936063132623, 'Clutter': 0.3425867336535513}\n",
      "val: {'mIoU': 0.6849561800925388, 'F1': 0.8116328212119143, 'OA': 0.8040427969927763}\n",
      "{'ImSurf': 0.6896103524471053, 'Building': 0.7869890093132191, 'LowVeg': 0.6671986107882464, 'Tree': 0.6069596379733494, 'Car': 0.6740232899407734, 'Clutter': 0.3412739039295815}\n",
      "Epoch 32: loss: 88.6043, train accuracy: 0.8008, valid accuracy:0.8040\n",
      "Start epoch #33, learning rate for this epoch: [1.3436928e-05]\n"
     ]
    },
    {
     "name": "stderr",
     "output_type": "stream",
     "text": [
      "100%|██████████| 624/624 [02:24<00:00,  4.31it/s]\n"
     ]
    },
    {
     "name": "stdout",
     "output_type": "stream",
     "text": [
      "Done epoch #33, time for this epoch: 144.87461185455322s\n"
     ]
    },
    {
     "name": "stderr",
     "output_type": "stream",
     "text": [
      "100%|██████████| 175/175 [00:25<00:00,  6.82it/s]\n"
     ]
    },
    {
     "name": "stdout",
     "output_type": "stream",
     "text": [
      "(array([0.70201957, 0.79873489, 0.65907559, 0.60877714, 0.68429859,\n",
      "       0.34399532]), 0.6905811550495882, 0.8153848038337351, 0.8072236903862223)\n",
      "train: {'mIoU': 0.6831624969003395, 'F1': 0.8096986861044678, 'OA': 0.8034356129475129}\n",
      "{'ImSurf': 0.7074367839022068, 'Building': 0.8027181228787544, 'LowVeg': 0.6378829683886691, 'Tree': 0.5936368897567909, 'Car': 0.6741377195752757, 'Clutter': 0.3312943993842155}\n",
      "val: {'mIoU': 0.6905811550495882, 'F1': 0.8153848038337351, 'OA': 0.8072236903862223}\n",
      "{'ImSurf': 0.7020195664277804, 'Building': 0.7987348892427218, 'LowVeg': 0.6590755930421601, 'Tree': 0.6087771385918507, 'Car': 0.6842985879434271, 'Clutter': 0.3439953242603206}\n",
      "Epoch 33: loss: 88.1746, train accuracy: 0.8034, valid accuracy:0.8072\n",
      "Start epoch #34, learning rate for this epoch: [1.3436928e-05]\n"
     ]
    },
    {
     "name": "stderr",
     "output_type": "stream",
     "text": [
      "100%|██████████| 624/624 [02:24<00:00,  4.31it/s]\n"
     ]
    },
    {
     "name": "stdout",
     "output_type": "stream",
     "text": [
      "Done epoch #34, time for this epoch: 144.9243733882904s\n"
     ]
    },
    {
     "name": "stderr",
     "output_type": "stream",
     "text": [
      "100%|██████████| 175/175 [00:25<00:00,  6.92it/s]\n"
     ]
    },
    {
     "name": "stdout",
     "output_type": "stream",
     "text": [
      "(array([0.69580621, 0.79025031, 0.66625551, 0.61795229, 0.68303825,\n",
      "       0.34416768]), 0.6906605126764067, 0.815740823521159, 0.8066280937331747)\n",
      "train: {'mIoU': 0.6819668911952739, 'F1': 0.8087694732779009, 'OA': 0.8036432021703476}\n",
      "{'ImSurf': 0.7077293739936067, 'Building': 0.8050780691610772, 'LowVeg': 0.6367875275139004, 'Tree': 0.5924880383375295, 'Car': 0.6677514469702558, 'Clutter': 0.3367481150775273}\n",
      "val: {'mIoU': 0.6906605126764067, 'F1': 0.815740823521159, 'OA': 0.8066280937331747}\n",
      "{'ImSurf': 0.6958062106727133, 'Building': 0.7902503107009051, 'LowVeg': 0.6662555095288579, 'Tree': 0.6179522858618909, 'Car': 0.6830382466176665, 'Clutter': 0.3441676793313435}\n",
      "Epoch 34: loss: 87.6341, train accuracy: 0.8036, valid accuracy:0.8066\n",
      "Start epoch #35, learning rate for this epoch: [1.3436928e-05]\n"
     ]
    },
    {
     "name": "stderr",
     "output_type": "stream",
     "text": [
      "100%|██████████| 624/624 [02:23<00:00,  4.34it/s]\n"
     ]
    },
    {
     "name": "stdout",
     "output_type": "stream",
     "text": [
      "Done epoch #35, time for this epoch: 143.6839098930359s\n"
     ]
    },
    {
     "name": "stderr",
     "output_type": "stream",
     "text": [
      "100%|██████████| 175/175 [00:25<00:00,  6.86it/s]\n"
     ]
    },
    {
     "name": "stdout",
     "output_type": "stream",
     "text": [
      "(array([0.69371537, 0.79133605, 0.64512026, 0.60575354, 0.67719173,\n",
      "       0.34624855]), 0.6826233892487472, 0.8097943388113145, 0.8018461228786229)\n",
      "train: {'mIoU': 0.6826147985661346, 'F1': 0.8092485352203985, 'OA': 0.8052259775308462}\n",
      "{'ImSurf': 0.7070523834132967, 'Building': 0.8063519750199402, 'LowVeg': 0.6405575140930939, 'Tree': 0.5936979378078264, 'Car': 0.6654141824965154, 'Clutter': 0.3411809567099553}\n",
      "val: {'mIoU': 0.6826233892487472, 'F1': 0.8097943388113145, 'OA': 0.8018461228786229}\n",
      "{'ImSurf': 0.6937153718146076, 'Building': 0.7913360500663047, 'LowVeg': 0.6451202582420938, 'Tree': 0.6057535382582401, 'Car': 0.6771917278624897, 'Clutter': 0.34624854531544463}\n",
      "Epoch 35: loss: 87.6571, train accuracy: 0.8052, valid accuracy:0.8018\n",
      "Start epoch #36, learning rate for this epoch: [1.3436928e-05]\n"
     ]
    },
    {
     "name": "stderr",
     "output_type": "stream",
     "text": [
      "100%|██████████| 624/624 [02:24<00:00,  4.31it/s]\n"
     ]
    },
    {
     "name": "stdout",
     "output_type": "stream",
     "text": [
      "Done epoch #36, time for this epoch: 144.72250819206238s\n"
     ]
    },
    {
     "name": "stderr",
     "output_type": "stream",
     "text": [
      "100%|██████████| 175/175 [00:25<00:00,  6.86it/s]\n"
     ]
    },
    {
     "name": "stdout",
     "output_type": "stream",
     "text": [
      "(array([0.69293542, 0.7878036 , 0.65551048, 0.5957079 , 0.683493  ,\n",
      "       0.35903612]), 0.6830900812381008, 0.81009479690073, 0.8019742287925395)\n",
      "train: {'mIoU': 0.682144388902773, 'F1': 0.8089068001973801, 'OA': 0.8042258207614605}\n",
      "{'ImSurf': 0.7079560281252254, 'Building': 0.8047352372148859, 'LowVeg': 0.6422424481066986, 'Tree': 0.5908852706793096, 'Car': 0.6649029603877451, 'Clutter': 0.32195950793015893}\n",
      "val: {'mIoU': 0.6830900812381008, 'F1': 0.81009479690073, 'OA': 0.8019742287925395}\n",
      "{'ImSurf': 0.6929354176928466, 'Building': 0.7878036017755, 'LowVeg': 0.6555104815765685, 'Tree': 0.5957079019911025, 'Car': 0.6834930031544865, 'Clutter': 0.3590361222026186}\n",
      "Epoch 36: loss: 87.5361, train accuracy: 0.8042, valid accuracy:0.8020\n",
      "Start epoch #37, learning rate for this epoch: [8.0621568e-06]\n"
     ]
    },
    {
     "name": "stderr",
     "output_type": "stream",
     "text": [
      "100%|██████████| 624/624 [02:24<00:00,  4.33it/s]\n"
     ]
    },
    {
     "name": "stdout",
     "output_type": "stream",
     "text": [
      "Done epoch #37, time for this epoch: 144.02006936073303s\n"
     ]
    },
    {
     "name": "stderr",
     "output_type": "stream",
     "text": [
      "100%|██████████| 175/175 [00:25<00:00,  6.92it/s]\n"
     ]
    },
    {
     "name": "stdout",
     "output_type": "stream",
     "text": [
      "(array([0.69159054, 0.78764751, 0.65980596, 0.62082511, 0.67448613,\n",
      "       0.36800874]), 0.6868710524433208, 0.8131192347458285, 0.8052330482630786)\n",
      "train: {'mIoU': 0.6835975612443085, 'F1': 0.8101141136039584, 'OA': 0.8051937757394253}\n",
      "{'ImSurf': 0.7049287421147279, 'Building': 0.8033474512889555, 'LowVeg': 0.6415221704568425, 'Tree': 0.5995979052173848, 'Car': 0.668591537143632, 'Clutter': 0.35307381788926195}\n",
      "val: {'mIoU': 0.6868710524433208, 'F1': 0.8131192347458285, 'OA': 0.8052330482630786}\n",
      "{'ImSurf': 0.6915905421935378, 'Building': 0.7876475131241565, 'LowVeg': 0.6598059631275706, 'Tree': 0.6208251114457812, 'Car': 0.6744861323255575, 'Clutter': 0.3680087388349143}\n",
      "Epoch 37: loss: 87.1357, train accuracy: 0.8052, valid accuracy:0.8052\n",
      "Start epoch #38, learning rate for this epoch: [8.0621568e-06]\n"
     ]
    },
    {
     "name": "stderr",
     "output_type": "stream",
     "text": [
      "100%|██████████| 624/624 [02:23<00:00,  4.34it/s]\n"
     ]
    },
    {
     "name": "stdout",
     "output_type": "stream",
     "text": [
      "Done epoch #38, time for this epoch: 143.77463245391846s\n"
     ]
    },
    {
     "name": "stderr",
     "output_type": "stream",
     "text": [
      "100%|██████████| 175/175 [00:24<00:00,  7.13it/s]\n"
     ]
    },
    {
     "name": "stdout",
     "output_type": "stream",
     "text": [
      "(array([0.70306014, 0.79515516, 0.66439005, 0.61353771, 0.67941355,\n",
      "       0.35242208]), 0.6911113232088202, 0.8158975640524659, 0.8086441050992966)\n",
      "train: {'mIoU': 0.6827536887617551, 'F1': 0.8094815643183744, 'OA': 0.8033318061095017}\n",
      "{'ImSurf': 0.705579984456066, 'Building': 0.8016854831023692, 'LowVeg': 0.6368681568446036, 'Tree': 0.5971886746726047, 'Car': 0.6724461447331318, 'Clutter': 0.35109992875305274}\n",
      "val: {'mIoU': 0.6911113232088202, 'F1': 0.8158975640524659, 'OA': 0.8086441050992966}\n",
      "{'ImSurf': 0.7030601447176776, 'Building': 0.7951551571576377, 'LowVeg': 0.6643900542089382, 'Tree': 0.6135377108846446, 'Car': 0.6794135490752025, 'Clutter': 0.35242207590479974}\n",
      "Epoch 38: loss: 88.1531, train accuracy: 0.8033, valid accuracy:0.8086\n",
      "Start epoch #39, learning rate for this epoch: [8.0621568e-06]\n"
     ]
    },
    {
     "name": "stderr",
     "output_type": "stream",
     "text": [
      "100%|██████████| 624/624 [02:22<00:00,  4.37it/s]\n"
     ]
    },
    {
     "name": "stdout",
     "output_type": "stream",
     "text": [
      "Done epoch #39, time for this epoch: 142.83136415481567s\n"
     ]
    },
    {
     "name": "stderr",
     "output_type": "stream",
     "text": [
      "100%|██████████| 175/175 [00:24<00:00,  7.07it/s]\n"
     ]
    },
    {
     "name": "stdout",
     "output_type": "stream",
     "text": [
      "(array([0.70372313, 0.79142756, 0.6645809 , 0.61650641, 0.6910457 ,\n",
      "       0.34381245]), 0.6934567393479926, 0.8176464896517937, 0.8094588674749303)\n",
      "train: {'mIoU': 0.6840333020611482, 'F1': 0.8103260422670744, 'OA': 0.8053933351467817}\n",
      "{'ImSurf': 0.7041419683370534, 'Building': 0.8068713372505791, 'LowVeg': 0.6421887560377996, 'Tree': 0.59688471889069, 'Car': 0.6700797297896189, 'Clutter': 0.34846681466528395}\n",
      "val: {'mIoU': 0.6934567393479926, 'F1': 0.8176464896517937, 'OA': 0.8094588674749303}\n",
      "{'ImSurf': 0.703723132781561, 'Building': 0.7914275606012943, 'LowVeg': 0.6645808993190271, 'Tree': 0.6165064087415686, 'Car': 0.691045695296512, 'Clutter': 0.3438124522546304}\n",
      "Epoch 39: loss: 87.2814, train accuracy: 0.8054, valid accuracy:0.8095\n",
      "Start epoch #40, learning rate for this epoch: [8.0621568e-06]\n"
     ]
    },
    {
     "name": "stderr",
     "output_type": "stream",
     "text": [
      "100%|██████████| 624/624 [02:23<00:00,  4.34it/s]\n"
     ]
    },
    {
     "name": "stdout",
     "output_type": "stream",
     "text": [
      "Done epoch #40, time for this epoch: 143.65199661254883s\n"
     ]
    },
    {
     "name": "stderr",
     "output_type": "stream",
     "text": [
      "100%|██████████| 175/175 [00:25<00:00,  6.91it/s]\n"
     ]
    },
    {
     "name": "stdout",
     "output_type": "stream",
     "text": [
      "(array([0.7021915 , 0.80092985, 0.66312044, 0.61440711, 0.68836734,\n",
      "       0.32490919]), 0.6938032484921767, 0.817705337550563, 0.8091860823894864)\n",
      "train: {'mIoU': 0.688533642221356, 'F1': 0.813586144905605, 'OA': 0.8083185782799354}\n",
      "{'ImSurf': 0.7127404662465289, 'Building': 0.8058300465518845, 'LowVeg': 0.645449218883567, 'Tree': 0.601166021858661, 'Car': 0.6774824575661393, 'Clutter': 0.35064492293667754}\n",
      "val: {'mIoU': 0.6938032484921767, 'F1': 0.817705337550563, 'OA': 0.8091860823894864}\n",
      "{'ImSurf': 0.7021914996950347, 'Building': 0.8009298541885391, 'LowVeg': 0.6631204399383989, 'Tree': 0.6144071108118337, 'Car': 0.6883673378270769, 'Clutter': 0.3249091853203915}\n",
      "Epoch 40: loss: 86.6447, train accuracy: 0.8083, valid accuracy:0.8092\n",
      "Start epoch #41, learning rate for this epoch: [4.83729408e-06]\n"
     ]
    },
    {
     "name": "stderr",
     "output_type": "stream",
     "text": [
      "100%|██████████| 624/624 [02:24<00:00,  4.33it/s]\n"
     ]
    },
    {
     "name": "stdout",
     "output_type": "stream",
     "text": [
      "Done epoch #41, time for this epoch: 144.21858859062195s\n"
     ]
    },
    {
     "name": "stderr",
     "output_type": "stream",
     "text": [
      "100%|██████████| 175/175 [00:25<00:00,  6.73it/s]\n"
     ]
    },
    {
     "name": "stdout",
     "output_type": "stream",
     "text": [
      "(array([0.6919229 , 0.78696069, 0.65173091, 0.61606533, 0.68204818,\n",
      "       0.32356186]), 0.6857455980804463, 0.8122485849298942, 0.8025203466586559)\n",
      "train: {'mIoU': 0.6866474056388687, 'F1': 0.8121036023071098, 'OA': 0.8070507844289144}\n",
      "{'ImSurf': 0.7080093794466383, 'Building': 0.810834099205149, 'LowVeg': 0.6410066744595077, 'Tree': 0.5982533296872755, 'Car': 0.6751335453957734, 'Clutter': 0.369258668002561}\n",
      "val: {'mIoU': 0.6857455980804463, 'F1': 0.8122485849298942, 'OA': 0.8025203466586559}\n",
      "{'ImSurf': 0.6919228955485336, 'Building': 0.7869606866144823, 'LowVeg': 0.6517309060158516, 'Tree': 0.616065326497643, 'Car': 0.6820481757257211, 'Clutter': 0.3235618625751991}\n",
      "Epoch 41: loss: 86.9509, train accuracy: 0.8071, valid accuracy:0.8025\n",
      "Start epoch #42, learning rate for this epoch: [4.83729408e-06]\n"
     ]
    },
    {
     "name": "stderr",
     "output_type": "stream",
     "text": [
      "100%|██████████| 624/624 [02:23<00:00,  4.36it/s]\n"
     ]
    },
    {
     "name": "stdout",
     "output_type": "stream",
     "text": [
      "Done epoch #42, time for this epoch: 143.0998773574829s\n"
     ]
    },
    {
     "name": "stderr",
     "output_type": "stream",
     "text": [
      "100%|██████████| 175/175 [00:25<00:00,  6.87it/s]\n"
     ]
    },
    {
     "name": "stdout",
     "output_type": "stream",
     "text": [
      "(array([0.70642482, 0.79310607, 0.66824421, 0.60403152, 0.67591684,\n",
      "       0.34006622]), 0.6895446924223656, 0.8146951522410101, 0.8094843572108589)\n",
      "train: {'mIoU': 0.6886176407720986, 'F1': 0.8135114999431698, 'OA': 0.8084285503778702}\n",
      "{'ImSurf': 0.712225657933556, 'Building': 0.8103133548663994, 'LowVeg': 0.6460007122836876, 'Tree': 0.5975386024048429, 'Car': 0.6770098763720075, 'Clutter': 0.3664051791736528}\n",
      "val: {'mIoU': 0.6895446924223656, 'F1': 0.8146951522410101, 'OA': 0.8094843572108589}\n",
      "{'ImSurf': 0.7064248244713033, 'Building': 0.7931060660793302, 'LowVeg': 0.6682442139330118, 'Tree': 0.6040315210188392, 'Car': 0.6759168366093434, 'Clutter': 0.3400662153736454}\n",
      "Epoch 42: loss: 86.0864, train accuracy: 0.8084, valid accuracy:0.8095\n",
      "Start epoch #43, learning rate for this epoch: [4.83729408e-06]\n"
     ]
    },
    {
     "name": "stderr",
     "output_type": "stream",
     "text": [
      "100%|██████████| 624/624 [02:26<00:00,  4.27it/s]\n"
     ]
    },
    {
     "name": "stdout",
     "output_type": "stream",
     "text": [
      "Done epoch #43, time for this epoch: 146.1190643310547s\n"
     ]
    },
    {
     "name": "stderr",
     "output_type": "stream",
     "text": [
      "100%|██████████| 175/175 [00:25<00:00,  6.84it/s]\n"
     ]
    },
    {
     "name": "stdout",
     "output_type": "stream",
     "text": [
      "(array([0.70451484, 0.80469334, 0.65938773, 0.61744792, 0.70024769,\n",
      "       0.34608154]), 0.6972583038345436, 0.8200690377229487, 0.8097254526503891)\n",
      "train: {'mIoU': 0.6847968857808355, 'F1': 0.810709625997665, 'OA': 0.8065744638442993}\n",
      "{'ImSurf': 0.7094360303858643, 'Building': 0.8106121042475372, 'LowVeg': 0.6418522685882745, 'Tree': 0.5932093485985123, 'Car': 0.6688746770839896, 'Clutter': 0.34193562448931203}\n",
      "val: {'mIoU': 0.6972583038345436, 'F1': 0.8200690377229487, 'OA': 0.8097254526503891}\n",
      "{'ImSurf': 0.7045148423483848, 'Building': 0.8046933382622834, 'LowVeg': 0.6593877309958496, 'Tree': 0.6174479159632749, 'Car': 0.700247691602925, 'Clutter': 0.34608154421843934}\n",
      "Epoch 43: loss: 86.9835, train accuracy: 0.8066, valid accuracy:0.8097\n",
      "Start epoch #44, learning rate for this epoch: [4.83729408e-06]\n"
     ]
    },
    {
     "name": "stderr",
     "output_type": "stream",
     "text": [
      "100%|██████████| 624/624 [02:25<00:00,  4.29it/s]\n"
     ]
    },
    {
     "name": "stdout",
     "output_type": "stream",
     "text": [
      "Done epoch #44, time for this epoch: 145.29242324829102s\n"
     ]
    },
    {
     "name": "stderr",
     "output_type": "stream",
     "text": [
      "100%|██████████| 175/175 [00:24<00:00,  7.08it/s]\n"
     ]
    },
    {
     "name": "stdout",
     "output_type": "stream",
     "text": [
      "(array([0.70044546, 0.79078   , 0.66356821, 0.60485192, 0.68041291,\n",
      "       0.34553976]), 0.6880116965397298, 0.8136732431071259, 0.8068322635604079)\n",
      "train: {'mIoU': 0.6853083157827269, 'F1': 0.8112984208194595, 'OA': 0.8059843258979993}\n",
      "{'ImSurf': 0.706164248659472, 'Building': 0.8057103421591729, 'LowVeg': 0.6428714727807552, 'Tree': 0.600134089300831, 'Car': 0.6716614260134036, 'Clutter': 0.35043743223658125}\n",
      "val: {'mIoU': 0.6880116965397298, 'F1': 0.8136732431071259, 'OA': 0.8068322635604079}\n",
      "{'ImSurf': 0.7004454553971459, 'Building': 0.7907799960311004, 'LowVeg': 0.6635682052352198, 'Tree': 0.6048519203323823, 'Car': 0.6804129057028008, 'Clutter': 0.34553976445128803}\n",
      "Epoch 44: loss: 87.3183, train accuracy: 0.8060, valid accuracy:0.8068\n",
      "Start epoch #45, learning rate for this epoch: [2.902376448e-06]\n"
     ]
    },
    {
     "name": "stderr",
     "output_type": "stream",
     "text": [
      "100%|██████████| 624/624 [02:25<00:00,  4.29it/s]\n"
     ]
    },
    {
     "name": "stdout",
     "output_type": "stream",
     "text": [
      "Done epoch #45, time for this epoch: 145.41593885421753s\n"
     ]
    },
    {
     "name": "stderr",
     "output_type": "stream",
     "text": [
      "100%|██████████| 175/175 [00:25<00:00,  6.89it/s]\n"
     ]
    },
    {
     "name": "stdout",
     "output_type": "stream",
     "text": [
      "(array([0.71121815, 0.78444986, 0.68029143, 0.61950098, 0.68616537,\n",
      "       0.37834743]), 0.696325160165764, 0.8198214069415506, 0.8129163907743235)\n",
      "train: {'mIoU': 0.6886162819182962, 'F1': 0.8135143833885137, 'OA': 0.8084881152862158}\n",
      "{'ImSurf': 0.7117542683972397, 'Building': 0.8107902384610233, 'LowVeg': 0.6470453764991044, 'Tree': 0.5979115312734805, 'Car': 0.675579994960633, 'Clutter': 0.35255950068626946}\n",
      "val: {'mIoU': 0.696325160165764, 'F1': 0.8198214069415506, 'OA': 0.8129163907743235}\n",
      "{'ImSurf': 0.711218153987013, 'Building': 0.7844498642347502, 'LowVeg': 0.680291434706785, 'Tree': 0.6195009755761173, 'Car': 0.6861653723241544, 'Clutter': 0.3783474339795761}\n",
      "Epoch 45: loss: 86.6805, train accuracy: 0.8085, valid accuracy:0.8129\n",
      "Start epoch #46, learning rate for this epoch: [2.902376448e-06]\n"
     ]
    },
    {
     "name": "stderr",
     "output_type": "stream",
     "text": [
      "100%|██████████| 624/624 [02:23<00:00,  4.34it/s]\n"
     ]
    },
    {
     "name": "stdout",
     "output_type": "stream",
     "text": [
      "Done epoch #46, time for this epoch: 143.9382107257843s\n"
     ]
    },
    {
     "name": "stderr",
     "output_type": "stream",
     "text": [
      "100%|██████████| 175/175 [00:25<00:00,  6.93it/s]\n"
     ]
    },
    {
     "name": "stdout",
     "output_type": "stream",
     "text": [
      "(array([0.70128675, 0.79424764, 0.66892497, 0.61779744, 0.68611618,\n",
      "       0.33542331]), 0.6936745973586265, 0.8177926153508723, 0.8095530053307832)\n",
      "train: {'mIoU': 0.6899274923566188, 'F1': 0.8144975282228646, 'OA': 0.8098612320728791}\n",
      "{'ImSurf': 0.714994250674622, 'Building': 0.809290677148717, 'LowVeg': 0.6461611689894818, 'Tree': 0.6010597662726651, 'Car': 0.6781315986976081, 'Clutter': 0.37135180421144864}\n",
      "val: {'mIoU': 0.6936745973586265, 'F1': 0.8177926153508723, 'OA': 0.8095530053307832}\n",
      "{'ImSurf': 0.7012867506842843, 'Building': 0.794247635390913, 'LowVeg': 0.6689249742990352, 'Tree': 0.6177974433073953, 'Car': 0.6861161831115044, 'Clutter': 0.33542331224916583}\n",
      "Epoch 46: loss: 86.1138, train accuracy: 0.8099, valid accuracy:0.8096\n",
      "Start epoch #47, learning rate for this epoch: [2.902376448e-06]\n"
     ]
    },
    {
     "name": "stderr",
     "output_type": "stream",
     "text": [
      "100%|██████████| 624/624 [02:24<00:00,  4.32it/s]\n"
     ]
    },
    {
     "name": "stdout",
     "output_type": "stream",
     "text": [
      "Done epoch #47, time for this epoch: 144.42521405220032s\n"
     ]
    },
    {
     "name": "stderr",
     "output_type": "stream",
     "text": [
      "100%|██████████| 175/175 [00:25<00:00,  6.98it/s]\n"
     ]
    },
    {
     "name": "stdout",
     "output_type": "stream",
     "text": [
      "(array([0.70402722, 0.79265821, 0.67341368, 0.6152529 , 0.68231603,\n",
      "       0.35036665]), 0.6935336074125883, 0.8176905956797957, 0.8098118241879037)\n",
      "train: {'mIoU': 0.6916051635609034, 'F1': 0.8156171941411735, 'OA': 0.8105691274007162}\n",
      "{'ImSurf': 0.7185359179373714, 'Building': 0.8123574578544415, 'LowVeg': 0.6479842849545022, 'Tree': 0.601218656420609, 'Car': 0.6779295006375929, 'Clutter': 0.35060303146737554}\n",
      "val: {'mIoU': 0.6935336074125883, 'F1': 0.8176905956797957, 'OA': 0.8098118241879037}\n",
      "{'ImSurf': 0.7040272162335348, 'Building': 0.7926582112204463, 'LowVeg': 0.6734136769787269, 'Tree': 0.6152528984443364, 'Car': 0.6823160341858964, 'Clutter': 0.35036664933410844}\n",
      "Epoch 47: loss: 86.1646, train accuracy: 0.8106, valid accuracy:0.8098\n",
      "Start epoch #48, learning rate for this epoch: [2.902376448e-06]\n"
     ]
    },
    {
     "name": "stderr",
     "output_type": "stream",
     "text": [
      "100%|██████████| 624/624 [02:25<00:00,  4.30it/s]\n"
     ]
    },
    {
     "name": "stdout",
     "output_type": "stream",
     "text": [
      "Done epoch #48, time for this epoch: 145.05615425109863s\n"
     ]
    },
    {
     "name": "stderr",
     "output_type": "stream",
     "text": [
      "100%|██████████| 175/175 [00:25<00:00,  6.82it/s]\n"
     ]
    },
    {
     "name": "stdout",
     "output_type": "stream",
     "text": [
      "(array([0.69085367, 0.79687408, 0.66437241, 0.61449872, 0.67604598,\n",
      "       0.36017571]), 0.6885289711749412, 0.814081611691386, 0.805570505201089)\n",
      "train: {'mIoU': 0.6877490523803873, 'F1': 0.812981870474356, 'OA': 0.8081903243676211}\n",
      "{'ImSurf': 0.7154193312605038, 'Building': 0.8065829605761028, 'LowVeg': 0.6437261757677931, 'Tree': 0.6009160482568503, 'Car': 0.6721007460406863, 'Clutter': 0.34596065583154556}\n",
      "val: {'mIoU': 0.6885289711749412, 'F1': 0.814081611691386, 'OA': 0.805570505201089}\n",
      "{'ImSurf': 0.6908536686857871, 'Building': 0.7968740758765183, 'LowVeg': 0.664372414997853, 'Tree': 0.6144987171845069, 'Car': 0.6760459791300403, 'Clutter': 0.36017571056634573}\n",
      "Epoch 48: loss: 86.3630, train accuracy: 0.8082, valid accuracy:0.8056\n",
      "Start epoch #49, learning rate for this epoch: [1.7414258688e-06]\n"
     ]
    },
    {
     "name": "stderr",
     "output_type": "stream",
     "text": [
      "100%|██████████| 624/624 [02:23<00:00,  4.34it/s]\n"
     ]
    },
    {
     "name": "stdout",
     "output_type": "stream",
     "text": [
      "Done epoch #49, time for this epoch: 143.71702337265015s\n"
     ]
    },
    {
     "name": "stderr",
     "output_type": "stream",
     "text": [
      "100%|██████████| 175/175 [00:25<00:00,  6.90it/s]\n"
     ]
    },
    {
     "name": "stdout",
     "output_type": "stream",
     "text": [
      "(array([0.69844332, 0.79082678, 0.65914128, 0.61942614, 0.69191562,\n",
      "       0.34248473]), 0.6919506259306136, 0.816621649518391, 0.8071217204886036)\n",
      "train: {'mIoU': 0.6874128124048398, 'F1': 0.8128133720279532, 'OA': 0.8069475400142181}\n",
      "{'ImSurf': 0.7111177967479357, 'Building': 0.8064459288559279, 'LowVeg': 0.643400605575135, 'Tree': 0.6041975853497206, 'Car': 0.6719021454954793, 'Clutter': 0.34769665816651646}\n",
      "val: {'mIoU': 0.6919506259306136, 'F1': 0.816621649518391, 'OA': 0.8071217204886036}\n",
      "{'ImSurf': 0.6984433174585827, 'Building': 0.7908267760294552, 'LowVeg': 0.6591412769241709, 'Tree': 0.6194261391395968, 'Car': 0.6919156201012631, 'Clutter': 0.34248472632623217}\n",
      "Epoch 49: loss: 86.8107, train accuracy: 0.8069, valid accuracy:0.8071\n",
      "Start epoch #50, learning rate for this epoch: [1.7414258688e-06]\n"
     ]
    },
    {
     "name": "stderr",
     "output_type": "stream",
     "text": [
      "100%|██████████| 624/624 [02:23<00:00,  4.34it/s]\n"
     ]
    },
    {
     "name": "stdout",
     "output_type": "stream",
     "text": [
      "Done epoch #50, time for this epoch: 143.6360161304474s\n"
     ]
    },
    {
     "name": "stderr",
     "output_type": "stream",
     "text": [
      "100%|██████████| 175/175 [00:25<00:00,  6.93it/s]\n"
     ]
    },
    {
     "name": "stdout",
     "output_type": "stream",
     "text": [
      "(array([0.68863711, 0.78594132, 0.65984841, 0.60772796, 0.68297902,\n",
      "       0.34730572]), 0.6850267657076323, 0.8116930967059526, 0.802579048633233)\n",
      "train: {'mIoU': 0.6909771141122737, 'F1': 0.8152115800253672, 'OA': 0.810857185950646}\n",
      "{'ImSurf': 0.7168323300284689, 'Building': 0.8123558616053564, 'LowVeg': 0.6474083086235822, 'Tree': 0.6036545734695723, 'Car': 0.6746344968343886, 'Clutter': 0.36032971645842304}\n",
      "val: {'mIoU': 0.6850267657076323, 'F1': 0.8116930967059526, 'OA': 0.802579048633233}\n",
      "{'ImSurf': 0.6886371103871223, 'Building': 0.7859413219777625, 'LowVeg': 0.6598484129477961, 'Tree': 0.6077279585576016, 'Car': 0.682979024667879, 'Clutter': 0.34730571746705796}\n",
      "Epoch 50: loss: 85.5770, train accuracy: 0.8109, valid accuracy:0.8026\n",
      "Start epoch #51, learning rate for this epoch: [1.7414258688e-06]\n"
     ]
    },
    {
     "name": "stderr",
     "output_type": "stream",
     "text": [
      "100%|██████████| 624/624 [02:23<00:00,  4.35it/s]\n"
     ]
    },
    {
     "name": "stdout",
     "output_type": "stream",
     "text": [
      "Done epoch #51, time for this epoch: 143.49769926071167s\n"
     ]
    },
    {
     "name": "stderr",
     "output_type": "stream",
     "text": [
      "100%|██████████| 175/175 [00:26<00:00,  6.72it/s]\n"
     ]
    },
    {
     "name": "stdout",
     "output_type": "stream",
     "text": [
      "(array([0.70584029, 0.78851759, 0.66820506, 0.60830599, 0.68429935,\n",
      "       0.34312123]), 0.6910336569321055, 0.8158875131048969, 0.8095628857527031)\n",
      "train: {'mIoU': 0.6881596180759152, 'F1': 0.8132966694412229, 'OA': 0.8073837451445751}\n",
      "{'ImSurf': 0.7102229196243813, 'Building': 0.8071709042454314, 'LowVeg': 0.6430346540004563, 'Tree': 0.601364573753142, 'Car': 0.6790050387561644, 'Clutter': 0.34368375498798126}\n",
      "val: {'mIoU': 0.6910336569321055, 'F1': 0.8158875131048969, 'OA': 0.8095628857527031}\n",
      "{'ImSurf': 0.7058402949658428, 'Building': 0.788517591927337, 'LowVeg': 0.6682050556739767, 'Tree': 0.6083059923754046, 'Car': 0.6842993497179667, 'Clutter': 0.34312122798209727}\n",
      "Epoch 51: loss: 87.0081, train accuracy: 0.8074, valid accuracy:0.8096\n",
      "Start epoch #52, learning rate for this epoch: [1.7414258688e-06]\n"
     ]
    },
    {
     "name": "stderr",
     "output_type": "stream",
     "text": [
      "100%|██████████| 624/624 [02:23<00:00,  4.34it/s]\n"
     ]
    },
    {
     "name": "stdout",
     "output_type": "stream",
     "text": [
      "Done epoch #52, time for this epoch: 143.837717294693s\n"
     ]
    },
    {
     "name": "stderr",
     "output_type": "stream",
     "text": [
      "100%|██████████| 175/175 [00:26<00:00,  6.62it/s]\n"
     ]
    },
    {
     "name": "stdout",
     "output_type": "stream",
     "text": [
      "(array([0.69627753, 0.78953667, 0.66976108, 0.61362925, 0.69563917,\n",
      "       0.36145793]), 0.6929687381581534, 0.8173250934642597, 0.8078289483830984)\n",
      "train: {'mIoU': 0.6865156894239793, 'F1': 0.8120577744814492, 'OA': 0.8076080542344314}\n",
      "{'ImSurf': 0.7094482720672307, 'Building': 0.8094916687671448, 'LowVeg': 0.6454668044033985, 'Tree': 0.5987087802141732, 'Car': 0.6694629216679493, 'Clutter': 0.34554143984790725}\n",
      "val: {'mIoU': 0.6929687381581534, 'F1': 0.8173250934642597, 'OA': 0.8078289483830984}\n",
      "{'ImSurf': 0.696277526947981, 'Building': 0.7895366676724913, 'LowVeg': 0.6697610766903641, 'Tree': 0.6136292542036409, 'Car': 0.69563916527629, 'Clutter': 0.3614579309578138}\n",
      "Epoch 52: loss: 86.9891, train accuracy: 0.8076, valid accuracy:0.8078\n",
      "Start epoch #53, learning rate for this epoch: [1.04485552128e-06]\n"
     ]
    },
    {
     "name": "stderr",
     "output_type": "stream",
     "text": [
      "100%|██████████| 624/624 [02:24<00:00,  4.33it/s]\n"
     ]
    },
    {
     "name": "stdout",
     "output_type": "stream",
     "text": [
      "Done epoch #53, time for this epoch: 144.10647916793823s\n"
     ]
    },
    {
     "name": "stderr",
     "output_type": "stream",
     "text": [
      "100%|██████████| 175/175 [00:24<00:00,  7.12it/s]\n"
     ]
    },
    {
     "name": "stdout",
     "output_type": "stream",
     "text": [
      "(array([0.69654595, 0.79246775, 0.66209867, 0.61538476, 0.69411771,\n",
      "       0.33053573]), 0.6921229676384195, 0.8166810751737131, 0.8077710569974592)\n",
      "train: {'mIoU': 0.6883345217194268, 'F1': 0.8133845615675938, 'OA': 0.8087866031206571}\n",
      "{'ImSurf': 0.7128322247940574, 'Building': 0.810430102724867, 'LowVeg': 0.6448287312058224, 'Tree': 0.6041535445191796, 'Car': 0.6694280053532072, 'Clutter': 0.3396487118711474}\n",
      "val: {'mIoU': 0.6921229676384195, 'F1': 0.8166810751737131, 'OA': 0.8077710569974592}\n",
      "{'ImSurf': 0.6965459492188607, 'Building': 0.7924677507422121, 'LowVeg': 0.6620986705385259, 'Tree': 0.6153847596901229, 'Car': 0.6941177080023759, 'Clutter': 0.33053573046375617}\n",
      "Epoch 53: loss: 86.7932, train accuracy: 0.8088, valid accuracy:0.8078\n",
      "Start epoch #54, learning rate for this epoch: [1.04485552128e-06]\n"
     ]
    },
    {
     "name": "stderr",
     "output_type": "stream",
     "text": [
      "100%|██████████| 624/624 [02:22<00:00,  4.38it/s]\n"
     ]
    },
    {
     "name": "stdout",
     "output_type": "stream",
     "text": [
      "Done epoch #54, time for this epoch: 142.37064361572266s\n"
     ]
    },
    {
     "name": "stderr",
     "output_type": "stream",
     "text": [
      "100%|██████████| 175/175 [00:24<00:00,  7.13it/s]\n"
     ]
    },
    {
     "name": "stdout",
     "output_type": "stream",
     "text": [
      "(array([0.70015489, 0.79923444, 0.66389966, 0.61144628, 0.68342063,\n",
      "       0.33884696]), 0.6916311808469746, 0.816175768915304, 0.8081007695249404)\n",
      "train: {'mIoU': 0.6925594507324889, 'F1': 0.8162325334450603, 'OA': 0.8109761079152426}\n",
      "{'ImSurf': 0.7192465451513842, 'Building': 0.8156302790566708, 'LowVeg': 0.6478669625316918, 'Tree': 0.6019363562379766, 'Car': 0.6781171106847208, 'Clutter': 0.35092628865874753}\n",
      "val: {'mIoU': 0.6916311808469746, 'F1': 0.816175768915304, 'OA': 0.8081007695249404}\n",
      "{'ImSurf': 0.7001548892379382, 'Building': 0.7992344404457733, 'LowVeg': 0.6638996644234734, 'Tree': 0.6114462759070974, 'Car': 0.6834206342205909, 'Clutter': 0.3388469609457552}\n",
      "Epoch 54: loss: 85.7726, train accuracy: 0.8110, valid accuracy:0.8081\n",
      "Start epoch #55, learning rate for this epoch: [1.04485552128e-06]\n"
     ]
    },
    {
     "name": "stderr",
     "output_type": "stream",
     "text": [
      "100%|██████████| 624/624 [02:21<00:00,  4.40it/s]\n"
     ]
    },
    {
     "name": "stdout",
     "output_type": "stream",
     "text": [
      "Done epoch #55, time for this epoch: 141.92342233657837s\n"
     ]
    },
    {
     "name": "stderr",
     "output_type": "stream",
     "text": [
      "100%|██████████| 175/175 [00:24<00:00,  7.13it/s]\n"
     ]
    },
    {
     "name": "stdout",
     "output_type": "stream",
     "text": [
      "(array([0.69471189, 0.79656142, 0.66611009, 0.61740591, 0.69539154,\n",
      "       0.34613835]), 0.6940361697255548, 0.8180006601313474, 0.8081091711697437)\n",
      "train: {'mIoU': 0.6915030754625645, 'F1': 0.8155965867865715, 'OA': 0.8102277914683024}\n",
      "{'ImSurf': 0.716587081373809, 'Building': 0.8116207690259547, 'LowVeg': 0.64676052389062, 'Tree': 0.6034774064779076, 'Car': 0.6790695965445319, 'Clutter': 0.3406202802626038}\n",
      "val: {'mIoU': 0.6940361697255548, 'F1': 0.8180006601313474, 'OA': 0.8081091711697437}\n",
      "{'ImSurf': 0.6947118892727456, 'Building': 0.7965614206098528, 'LowVeg': 0.6661100892426746, 'Tree': 0.6174059121161392, 'Car': 0.6953915373863623, 'Clutter': 0.3461383466328099}\n",
      "Epoch 55: loss: 86.2666, train accuracy: 0.8102, valid accuracy:0.8081\n",
      "Start epoch #56, learning rate for this epoch: [1.04485552128e-06]\n"
     ]
    },
    {
     "name": "stderr",
     "output_type": "stream",
     "text": [
      "100%|██████████| 624/624 [02:22<00:00,  4.37it/s]\n"
     ]
    },
    {
     "name": "stdout",
     "output_type": "stream",
     "text": [
      "Done epoch #56, time for this epoch: 142.81524920463562s\n"
     ]
    },
    {
     "name": "stderr",
     "output_type": "stream",
     "text": [
      "100%|██████████| 175/175 [00:24<00:00,  7.07it/s]\n"
     ]
    },
    {
     "name": "stdout",
     "output_type": "stream",
     "text": [
      "(array([0.69870148, 0.79690095, 0.66726728, 0.61038225, 0.67874903,\n",
      "       0.35129698]), 0.6904001978836952, 0.8153461013602314, 0.8077045448889255)\n",
      "train: {'mIoU': 0.688958324162589, 'F1': 0.8137666838673638, 'OA': 0.8103962525343283}\n",
      "{'ImSurf': 0.7140227491770971, 'Building': 0.8121502774747111, 'LowVeg': 0.6492762826234584, 'Tree': 0.6011199618229037, 'Car': 0.6682223497147746, 'Clutter': 0.3558239807344035}\n",
      "val: {'mIoU': 0.6904001978836952, 'F1': 0.8153461013602314, 'OA': 0.8077045448889255}\n",
      "{'ImSurf': 0.6987014832356723, 'Building': 0.7969009466584077, 'LowVeg': 0.6672672791582991, 'Tree': 0.6103822485709619, 'Car': 0.678749031795135, 'Clutter': 0.3512969785411619}\n",
      "Epoch 56: loss: 86.2591, train accuracy: 0.8104, valid accuracy:0.8077\n",
      "Start epoch #57, learning rate for this epoch: [6.269133127679999e-07]\n"
     ]
    },
    {
     "name": "stderr",
     "output_type": "stream",
     "text": [
      "100%|██████████| 624/624 [02:22<00:00,  4.38it/s]\n"
     ]
    },
    {
     "name": "stdout",
     "output_type": "stream",
     "text": [
      "Done epoch #57, time for this epoch: 142.53285026550293s\n"
     ]
    },
    {
     "name": "stderr",
     "output_type": "stream",
     "text": [
      "100%|██████████| 175/175 [00:24<00:00,  7.21it/s]\n"
     ]
    },
    {
     "name": "stdout",
     "output_type": "stream",
     "text": [
      "(array([0.70257423, 0.79609551, 0.66817956, 0.61935119, 0.70095589,\n",
      "       0.35401656]), 0.697431275172173, 0.8203995934928283, 0.8112697998397399)\n",
      "train: {'mIoU': 0.6914426382034777, 'F1': 0.8156714334455885, 'OA': 0.8102047259990985}\n",
      "{'ImSurf': 0.7146505700999656, 'Building': 0.80959079583261, 'LowVeg': 0.6494276822688778, 'Tree': 0.607396555362773, 'Car': 0.676147587453162, 'Clutter': 0.35524879010529703}\n",
      "val: {'mIoU': 0.697431275172173, 'F1': 0.8203995934928283, 'OA': 0.8112697998397399}\n",
      "{'ImSurf': 0.7025742310548416, 'Building': 0.7960955065156589, 'LowVeg': 0.66817955824205, 'Tree': 0.6193511938952203, 'Car': 0.7009558861530939, 'Clutter': 0.35401656098080464}\n",
      "Epoch 57: loss: 85.8552, train accuracy: 0.8102, valid accuracy:0.8113\n",
      "Start epoch #58, learning rate for this epoch: [6.269133127679999e-07]\n"
     ]
    },
    {
     "name": "stderr",
     "output_type": "stream",
     "text": [
      "100%|██████████| 624/624 [02:22<00:00,  4.39it/s]\n"
     ]
    },
    {
     "name": "stdout",
     "output_type": "stream",
     "text": [
      "Done epoch #58, time for this epoch: 142.19193506240845s\n"
     ]
    },
    {
     "name": "stderr",
     "output_type": "stream",
     "text": [
      "100%|██████████| 175/175 [00:25<00:00,  6.98it/s]\n"
     ]
    },
    {
     "name": "stdout",
     "output_type": "stream",
     "text": [
      "(array([0.69373375, 0.79204192, 0.66432066, 0.61732929, 0.67695126,\n",
      "       0.32400475]), 0.6888753777799288, 0.8144385963379461, 0.8064615067525124)\n",
      "train: {'mIoU': 0.6866358746238805, 'F1': 0.8122065755086336, 'OA': 0.807723901210687}\n",
      "{'ImSurf': 0.709644916440939, 'Building': 0.8079235605797184, 'LowVeg': 0.645641055466576, 'Tree': 0.6010481678258782, 'Car': 0.6689216728062907, 'Clutter': 0.3528345285699418}\n",
      "val: {'mIoU': 0.6888753777799288, 'F1': 0.8144385963379461, 'OA': 0.8064615067525124}\n",
      "{'ImSurf': 0.6937337536342356, 'Building': 0.7920419235657667, 'LowVeg': 0.6643206607477625, 'Tree': 0.6173292912192908, 'Car': 0.6769512597325884, 'Clutter': 0.32400474895831954}\n",
      "Epoch 58: loss: 86.5894, train accuracy: 0.8077, valid accuracy:0.8065\n",
      "Start epoch #59, learning rate for this epoch: [6.269133127679999e-07]\n"
     ]
    },
    {
     "name": "stderr",
     "output_type": "stream",
     "text": [
      "100%|██████████| 624/624 [02:21<00:00,  4.42it/s]\n"
     ]
    },
    {
     "name": "stdout",
     "output_type": "stream",
     "text": [
      "Done epoch #59, time for this epoch: 141.15511441230774s\n"
     ]
    },
    {
     "name": "stderr",
     "output_type": "stream",
     "text": [
      "100%|██████████| 175/175 [00:24<00:00,  7.11it/s]\n"
     ]
    },
    {
     "name": "stdout",
     "output_type": "stream",
     "text": [
      "(array([0.70569762, 0.80036314, 0.6764256 , 0.61160196, 0.68881445,\n",
      "       0.36415966]), 0.6965805537395815, 0.8196587636800559, 0.8125955180478283)\n",
      "train: {'mIoU': 0.6891171689447244, 'F1': 0.8138678536854644, 'OA': 0.809306970009437}\n",
      "{'ImSurf': 0.7138316308052234, 'Building': 0.8119570320076109, 'LowVeg': 0.6480979547359178, 'Tree': 0.6000235988510625, 'Car': 0.6716756283238077, 'Clutter': 0.35745043907508833}\n",
      "val: {'mIoU': 0.6965805537395815, 'F1': 0.8196587636800559, 'OA': 0.8125955180478283}\n",
      "{'ImSurf': 0.7056976195140727, 'Building': 0.8003631414086231, 'LowVeg': 0.6764256019723321, 'Tree': 0.6116019597912168, 'Car': 0.6888144460116629, 'Clutter': 0.36415966416970597}\n",
      "Epoch 59: loss: 86.4336, train accuracy: 0.8093, valid accuracy:0.8126\n",
      "Start epoch #60, learning rate for this epoch: [6.269133127679999e-07]\n"
     ]
    },
    {
     "name": "stderr",
     "output_type": "stream",
     "text": [
      "100%|██████████| 624/624 [02:20<00:00,  4.44it/s]\n"
     ]
    },
    {
     "name": "stdout",
     "output_type": "stream",
     "text": [
      "Done epoch #60, time for this epoch: 140.67379069328308s\n"
     ]
    },
    {
     "name": "stderr",
     "output_type": "stream",
     "text": [
      "100%|██████████| 175/175 [00:24<00:00,  7.07it/s]\n"
     ]
    },
    {
     "name": "stdout",
     "output_type": "stream",
     "text": [
      "(array([0.70262458, 0.79713007, 0.66522936, 0.61372082, 0.68256592,\n",
      "       0.35507842]), 0.6922541497330184, 0.8166778424347125, 0.8084023195637786)\n",
      "train: {'mIoU': 0.6878730594621476, 'F1': 0.813019765892148, 'OA': 0.808232096525339}\n",
      "{'ImSurf': 0.7098762819078431, 'Building': 0.8115449228628469, 'LowVeg': 0.6461303896265782, 'Tree': 0.6012435891601403, 'Car': 0.6705701137533294, 'Clutter': 0.3498613236791618}\n",
      "val: {'mIoU': 0.6922541497330184, 'F1': 0.8166778424347125, 'OA': 0.8084023195637786}\n",
      "{'ImSurf': 0.7026245792896776, 'Building': 0.7971300667266941, 'LowVeg': 0.6652293606053469, 'Tree': 0.6137208183964327, 'Car': 0.6825659236469399, 'Clutter': 0.3550784188770109}\n",
      "Epoch 60: loss: 86.7268, train accuracy: 0.8082, valid accuracy:0.8084\n",
      "Start epoch #61, learning rate for this epoch: [3.7614798766079994e-07]\n"
     ]
    },
    {
     "name": "stderr",
     "output_type": "stream",
     "text": [
      "100%|██████████| 624/624 [02:20<00:00,  4.45it/s]\n"
     ]
    },
    {
     "name": "stdout",
     "output_type": "stream",
     "text": [
      "Done epoch #61, time for this epoch: 140.3132655620575s\n"
     ]
    },
    {
     "name": "stderr",
     "output_type": "stream",
     "text": [
      "100%|██████████| 175/175 [00:24<00:00,  7.26it/s]\n"
     ]
    },
    {
     "name": "stdout",
     "output_type": "stream",
     "text": [
      "(array([0.69362404, 0.79135807, 0.66323849, 0.61128833, 0.69096671,\n",
      "       0.34195244]), 0.6900951297293266, 0.8152314919843937, 0.8050374882048354)\n",
      "train: {'mIoU': 0.6915408940776644, 'F1': 0.8156710578880254, 'OA': 0.8097245295842489}\n",
      "{'ImSurf': 0.7124767020528887, 'Building': 0.8107957122476782, 'LowVeg': 0.6471926322555795, 'Tree': 0.6039465116024948, 'Car': 0.6832929122296804, 'Clutter': 0.35643019685071103}\n",
      "val: {'mIoU': 0.6900951297293266, 'F1': 0.8152314919843937, 'OA': 0.8050374882048354}\n",
      "{'ImSurf': 0.693624039184825, 'Building': 0.7913580744636701, 'LowVeg': 0.6632384945139045, 'Tree': 0.6112883313270284, 'Car': 0.6909667091572052, 'Clutter': 0.341952440364097}\n",
      "Epoch 61: loss: 85.8967, train accuracy: 0.8097, valid accuracy:0.8050\n",
      "Start epoch #62, learning rate for this epoch: [3.7614798766079994e-07]\n"
     ]
    },
    {
     "name": "stderr",
     "output_type": "stream",
     "text": [
      "100%|██████████| 624/624 [02:20<00:00,  4.44it/s]\n"
     ]
    },
    {
     "name": "stdout",
     "output_type": "stream",
     "text": [
      "Done epoch #62, time for this epoch: 140.42013597488403s\n"
     ]
    },
    {
     "name": "stderr",
     "output_type": "stream",
     "text": [
      "100%|██████████| 175/175 [00:23<00:00,  7.31it/s]\n"
     ]
    },
    {
     "name": "stdout",
     "output_type": "stream",
     "text": [
      "(array([0.69441885, 0.78089724, 0.66997301, 0.61231212, 0.66542555,\n",
      "       0.35496153]), 0.6846053537471305, 0.8115303706918475, 0.8043690152247004)\n",
      "train: {'mIoU': 0.6884562341652816, 'F1': 0.8135147828344957, 'OA': 0.8096001087090908}\n",
      "{'ImSurf': 0.7130968490066836, 'Building': 0.8096928035935049, 'LowVeg': 0.6480932098676457, 'Tree': 0.6055923083900362, 'Car': 0.6658059999685372, 'Clutter': 0.346988448102032}\n",
      "val: {'mIoU': 0.6846053537471305, 'F1': 0.8115303706918475, 'OA': 0.8043690152247004}\n",
      "{'ImSurf': 0.6944188514148838, 'Building': 0.7808972375869061, 'LowVeg': 0.6699730107090687, 'Tree': 0.6123121172515251, 'Car': 0.6654255517732693, 'Clutter': 0.35496152687954136}\n",
      "Epoch 62: loss: 86.6120, train accuracy: 0.8096, valid accuracy:0.8044\n",
      "Start epoch #63, learning rate for this epoch: [3.7614798766079994e-07]\n"
     ]
    },
    {
     "name": "stderr",
     "output_type": "stream",
     "text": [
      "100%|██████████| 624/624 [02:19<00:00,  4.47it/s]\n"
     ]
    },
    {
     "name": "stdout",
     "output_type": "stream",
     "text": [
      "Done epoch #63, time for this epoch: 139.66251730918884s\n"
     ]
    },
    {
     "name": "stderr",
     "output_type": "stream",
     "text": [
      "100%|██████████| 175/175 [00:24<00:00,  7.28it/s]\n"
     ]
    },
    {
     "name": "stdout",
     "output_type": "stream",
     "text": [
      "(array([0.69645303, 0.79373632, 0.66082704, 0.61312264, 0.68694756,\n",
      "       0.3544491 ]), 0.6902173170879717, 0.8152909166824454, 0.8063614428342885)\n",
      "train: {'mIoU': 0.693390302397191, 'F1': 0.8170447286125821, 'OA': 0.8116973363436185}\n",
      "{'ImSurf': 0.7158585872915932, 'Building': 0.8106422857488079, 'LowVeg': 0.6530837279687299, 'Tree': 0.6074971994648297, 'Car': 0.6798697115119947, 'Clutter': 0.3478703311544496}\n",
      "val: {'mIoU': 0.6902173170879717, 'F1': 0.8152909166824454, 'OA': 0.8063614428342885}\n",
      "{'ImSurf': 0.6964530280783088, 'Building': 0.7937363194289593, 'LowVeg': 0.6608270419414096, 'Tree': 0.6131226385359798, 'Car': 0.6869475574552015, 'Clutter': 0.3544491025905514}\n",
      "Epoch 63: loss: 85.7788, train accuracy: 0.8117, valid accuracy:0.8064\n",
      "Start epoch #64, learning rate for this epoch: [3.7614798766079994e-07]\n"
     ]
    },
    {
     "name": "stderr",
     "output_type": "stream",
     "text": [
      "100%|██████████| 624/624 [02:20<00:00,  4.46it/s]\n"
     ]
    },
    {
     "name": "stdout",
     "output_type": "stream",
     "text": [
      "Done epoch #64, time for this epoch: 140.05185985565186s\n"
     ]
    },
    {
     "name": "stderr",
     "output_type": "stream",
     "text": [
      "100%|██████████| 175/175 [00:24<00:00,  7.25it/s]\n"
     ]
    },
    {
     "name": "stdout",
     "output_type": "stream",
     "text": [
      "(array([0.70085861, 0.78364773, 0.6701647 , 0.60453788, 0.67996932,\n",
      "       0.3512659 ]), 0.687835648874449, 0.8136752467302919, 0.8071984744979079)\n",
      "train: {'mIoU': 0.6907877379003841, 'F1': 0.8150253028397711, 'OA': 0.8107980061800052}\n",
      "{'ImSurf': 0.7179481930058168, 'Building': 0.8138864367675777, 'LowVeg': 0.6487768080682805, 'Tree': 0.6023888437242335, 'Car': 0.6709384079360119, 'Clutter': 0.35367769344005107}\n",
      "val: {'mIoU': 0.687835648874449, 'F1': 0.8136752467302919, 'OA': 0.8071984744979079}\n",
      "{'ImSurf': 0.7008586081019322, 'Building': 0.7836477300720288, 'LowVeg': 0.6701646986358314, 'Tree': 0.6045378847066778, 'Car': 0.679969322855775, 'Clutter': 0.35126590058863866}\n",
      "Epoch 64: loss: 86.1901, train accuracy: 0.8108, valid accuracy:0.8072\n",
      "Start epoch #65, learning rate for this epoch: [2.2568879259647996e-07]\n"
     ]
    },
    {
     "name": "stderr",
     "output_type": "stream",
     "text": [
      "100%|██████████| 624/624 [02:19<00:00,  4.46it/s]\n"
     ]
    },
    {
     "name": "stdout",
     "output_type": "stream",
     "text": [
      "Done epoch #65, time for this epoch: 139.8202645778656s\n"
     ]
    },
    {
     "name": "stderr",
     "output_type": "stream",
     "text": [
      "100%|██████████| 175/175 [00:25<00:00,  6.93it/s]\n"
     ]
    },
    {
     "name": "stdout",
     "output_type": "stream",
     "text": [
      "(array([0.70603321, 0.79666211, 0.6671391 , 0.62267605, 0.6774816 ,\n",
      "       0.35808768]), 0.6939984118135468, 0.8180118416952823, 0.8129848307700611)\n",
      "train: {'mIoU': 0.6888121302618444, 'F1': 0.8137702797800218, 'OA': 0.8078271884184617}\n",
      "{'ImSurf': 0.7097006359105311, 'Building': 0.8063189994071436, 'LowVeg': 0.6472494410472674, 'Tree': 0.5990788057101604, 'Car': 0.6817127692341197, 'Clutter': 0.35831304034640576}\n",
      "val: {'mIoU': 0.6939984118135468, 'F1': 0.8180118416952823, 'OA': 0.8129848307700611}\n",
      "{'ImSurf': 0.7060332062347806, 'Building': 0.7966621061891993, 'LowVeg': 0.667139099284902, 'Tree': 0.6226760518421827, 'Car': 0.6774815955166694, 'Clutter': 0.3580876815871172}\n",
      "Epoch 65: loss: 86.5698, train accuracy: 0.8078, valid accuracy:0.8130\n",
      "Start epoch #66, learning rate for this epoch: [2.2568879259647996e-07]\n"
     ]
    },
    {
     "name": "stderr",
     "output_type": "stream",
     "text": [
      "100%|██████████| 624/624 [02:20<00:00,  4.44it/s]\n"
     ]
    },
    {
     "name": "stdout",
     "output_type": "stream",
     "text": [
      "Done epoch #66, time for this epoch: 140.3993010520935s\n"
     ]
    },
    {
     "name": "stderr",
     "output_type": "stream",
     "text": [
      "100%|██████████| 175/175 [00:24<00:00,  7.22it/s]\n"
     ]
    },
    {
     "name": "stdout",
     "output_type": "stream",
     "text": [
      "(array([0.69398673, 0.79599716, 0.66021578, 0.61634231, 0.69349087,\n",
      "       0.35482396]), 0.6920065715336683, 0.8165497743238491, 0.8060226823816347)\n",
      "train: {'mIoU': 0.689939733434303, 'F1': 0.8143495208474928, 'OA': 0.8094470653778467}\n",
      "{'ImSurf': 0.7136167278407046, 'Building': 0.8168483066860318, 'LowVeg': 0.6438946523234783, 'Tree': 0.6013087644479428, 'Car': 0.6740302158733577, 'Clutter': 0.34192435518823505}\n",
      "val: {'mIoU': 0.6920065715336683, 'F1': 0.8165497743238491, 'OA': 0.8060226823816347}\n",
      "{'ImSurf': 0.6939867332824641, 'Building': 0.7959971610963866, 'LowVeg': 0.6602157833515927, 'Tree': 0.6163423050699082, 'Car': 0.6934908748679903, 'Clutter': 0.3548239608551497}\n",
      "Epoch 66: loss: 86.1358, train accuracy: 0.8094, valid accuracy:0.8060\n",
      "Start epoch #67, learning rate for this epoch: [2.2568879259647996e-07]\n"
     ]
    },
    {
     "name": "stderr",
     "output_type": "stream",
     "text": [
      "100%|██████████| 624/624 [02:19<00:00,  4.47it/s]\n"
     ]
    },
    {
     "name": "stdout",
     "output_type": "stream",
     "text": [
      "Done epoch #67, time for this epoch: 139.47015738487244s\n"
     ]
    },
    {
     "name": "stderr",
     "output_type": "stream",
     "text": [
      "100%|██████████| 175/175 [00:23<00:00,  7.31it/s]\n"
     ]
    },
    {
     "name": "stdout",
     "output_type": "stream",
     "text": [
      "(array([0.69719787, 0.78986934, 0.66618345, 0.61737539, 0.67572527,\n",
      "       0.33424284]), 0.6892702640065914, 0.814750926501888, 0.8075285265964307)\n",
      "train: {'mIoU': 0.6870013691788596, 'F1': 0.8124829101797248, 'OA': 0.8072933661632049}\n",
      "{'ImSurf': 0.7098056034883445, 'Building': 0.8083452407372016, 'LowVeg': 0.641654838225005, 'Tree': 0.6045161323937877, 'Car': 0.6706850310499588, 'Clutter': 0.34964468207084587}\n",
      "val: {'mIoU': 0.6892702640065914, 'F1': 0.814750926501888, 'OA': 0.8075285265964307}\n",
      "{'ImSurf': 0.6971978716524663, 'Building': 0.789869343108214, 'LowVeg': 0.6661834541539128, 'Tree': 0.617375385839998, 'Car': 0.6757252652783658, 'Clutter': 0.33424283556927786}\n",
      "Epoch 67: loss: 86.5300, train accuracy: 0.8073, valid accuracy:0.8075\n",
      "Start epoch #68, learning rate for this epoch: [2.2568879259647996e-07]\n"
     ]
    },
    {
     "name": "stderr",
     "output_type": "stream",
     "text": [
      "100%|██████████| 624/624 [02:18<00:00,  4.49it/s]\n"
     ]
    },
    {
     "name": "stdout",
     "output_type": "stream",
     "text": [
      "Done epoch #68, time for this epoch: 139.00265169143677s\n"
     ]
    },
    {
     "name": "stderr",
     "output_type": "stream",
     "text": [
      "100%|██████████| 175/175 [00:23<00:00,  7.34it/s]\n"
     ]
    },
    {
     "name": "stdout",
     "output_type": "stream",
     "text": [
      "(array([0.69977029, 0.79557462, 0.67237852, 0.62329481, 0.67517875,\n",
      "       0.34994972]), 0.6932393970359906, 0.8175309626007514, 0.8109927755932282)\n",
      "train: {'mIoU': 0.6923330590685507, 'F1': 0.8160046363554796, 'OA': 0.8116289530044947}\n",
      "{'ImSurf': 0.7192299869194209, 'Building': 0.8182833294689149, 'LowVeg': 0.6478901821370909, 'Tree': 0.6011313002926112, 'Car': 0.6751304965247152, 'Clutter': 0.3470980368330621}\n",
      "val: {'mIoU': 0.6932393970359906, 'F1': 0.8175309626007514, 'OA': 0.8109927755932282}\n",
      "{'ImSurf': 0.6997702880299818, 'Building': 0.7955746174311196, 'LowVeg': 0.6723785185617956, 'Tree': 0.6232948124960888, 'Car': 0.6751787486609666, 'Clutter': 0.34994971525306573}\n",
      "Epoch 68: loss: 85.9974, train accuracy: 0.8116, valid accuracy:0.8110\n",
      "Start epoch #69, learning rate for this epoch: [1.3541327555788797e-07]\n"
     ]
    },
    {
     "name": "stderr",
     "output_type": "stream",
     "text": [
      "100%|██████████| 624/624 [02:19<00:00,  4.47it/s]\n"
     ]
    },
    {
     "name": "stdout",
     "output_type": "stream",
     "text": [
      "Done epoch #69, time for this epoch: 139.7220118045807s\n"
     ]
    },
    {
     "name": "stderr",
     "output_type": "stream",
     "text": [
      "100%|██████████| 175/175 [00:23<00:00,  7.46it/s]\n"
     ]
    },
    {
     "name": "stdout",
     "output_type": "stream",
     "text": [
      "(array([0.69601873, 0.79589782, 0.66413386, 0.60721716, 0.70296443,\n",
      "       0.33064722]), 0.6932463997449465, 0.8172965348420866, 0.8067377642257043)\n",
      "train: {'mIoU': 0.6910586839205509, 'F1': 0.8154026486509298, 'OA': 0.8104442021785638}\n",
      "{'ImSurf': 0.7128637916329534, 'Building': 0.8104322414882733, 'LowVeg': 0.6480618121911923, 'Tree': 0.6087918211578444, 'Car': 0.6751437531324908, 'Clutter': 0.3577828122768842}\n",
      "val: {'mIoU': 0.6932463997449465, 'F1': 0.8172965348420866, 'OA': 0.8067377642257043}\n",
      "{'ImSurf': 0.6960187269579544, 'Building': 0.7958978213755633, 'LowVeg': 0.6641338559552509, 'Tree': 0.6072171638249824, 'Car': 0.7029644306109819, 'Clutter': 0.3306472158616292}\n",
      "Epoch 69: loss: 85.9448, train accuracy: 0.8104, valid accuracy:0.8067\n",
      "Start epoch #70, learning rate for this epoch: [1.3541327555788797e-07]\n"
     ]
    },
    {
     "name": "stderr",
     "output_type": "stream",
     "text": [
      "100%|██████████| 624/624 [02:19<00:00,  4.47it/s]\n"
     ]
    },
    {
     "name": "stdout",
     "output_type": "stream",
     "text": [
      "Done epoch #70, time for this epoch: 139.75311541557312s\n"
     ]
    },
    {
     "name": "stderr",
     "output_type": "stream",
     "text": [
      "100%|██████████| 175/175 [00:23<00:00,  7.49it/s]\n"
     ]
    },
    {
     "name": "stdout",
     "output_type": "stream",
     "text": [
      "(array([0.70076285, 0.79232413, 0.66629323, 0.61727512, 0.67707848,\n",
      "       0.35994295]), 0.6907467618843113, 0.8157441121028555, 0.8090191996534009)\n",
      "train: {'mIoU': 0.6936241560300367, 'F1': 0.8171091927279708, 'OA': 0.8122801994666075}\n",
      "{'ImSurf': 0.7152564876598136, 'Building': 0.8163820189205012, 'LowVeg': 0.6481487277086025, 'Tree': 0.6103147078045955, 'Car': 0.6780188380566705, 'Clutter': 0.3546435195309584}\n",
      "val: {'mIoU': 0.6907467618843113, 'F1': 0.8157441121028555, 'OA': 0.8090191996534009}\n",
      "{'ImSurf': 0.7007628458989564, 'Building': 0.7923241334400098, 'LowVeg': 0.666293225465766, 'Tree': 0.6172751211568464, 'Car': 0.677078483459978, 'Clutter': 0.35994294832138785}\n",
      "Epoch 70: loss: 85.7153, train accuracy: 0.8123, valid accuracy:0.8090\n",
      "Start epoch #71, learning rate for this epoch: [1.3541327555788797e-07]\n"
     ]
    },
    {
     "name": "stderr",
     "output_type": "stream",
     "text": [
      "100%|██████████| 624/624 [02:19<00:00,  4.48it/s]\n"
     ]
    },
    {
     "name": "stdout",
     "output_type": "stream",
     "text": [
      "Done epoch #71, time for this epoch: 139.4048557281494s\n"
     ]
    },
    {
     "name": "stderr",
     "output_type": "stream",
     "text": [
      "100%|██████████| 175/175 [00:23<00:00,  7.37it/s]\n"
     ]
    },
    {
     "name": "stdout",
     "output_type": "stream",
     "text": [
      "(array([0.70252175, 0.8063882 , 0.66572796, 0.61112584, 0.67406635,\n",
      "       0.36825172]), 0.6919660191127798, 0.8162700534669824, 0.8101886056433113)\n",
      "train: {'mIoU': 0.6890354674054062, 'F1': 0.8138341216734041, 'OA': 0.809290607770284}\n",
      "{'ImSurf': 0.7128684646161609, 'Building': 0.8119251889014398, 'LowVeg': 0.644745736327646, 'Tree': 0.6025461202550098, 'Car': 0.6730918269267749, 'Clutter': 0.36404176395964627}\n",
      "val: {'mIoU': 0.6919660191127798, 'F1': 0.8162700534669824, 'OA': 0.8101886056433113}\n",
      "{'ImSurf': 0.7025217546932061, 'Building': 0.8063881964518967, 'LowVeg': 0.665727957454327, 'Tree': 0.6111258393897644, 'Car': 0.6740663475747048, 'Clutter': 0.3682517159068438}\n",
      "Epoch 71: loss: 86.2529, train accuracy: 0.8093, valid accuracy:0.8102\n",
      "Start epoch #72, learning rate for this epoch: [1.3541327555788797e-07]\n"
     ]
    },
    {
     "name": "stderr",
     "output_type": "stream",
     "text": [
      "100%|██████████| 624/624 [02:19<00:00,  4.46it/s]\n"
     ]
    },
    {
     "name": "stdout",
     "output_type": "stream",
     "text": [
      "Done epoch #72, time for this epoch: 139.94498586654663s\n"
     ]
    },
    {
     "name": "stderr",
     "output_type": "stream",
     "text": [
      "100%|██████████| 175/175 [00:24<00:00,  7.18it/s]\n"
     ]
    },
    {
     "name": "stdout",
     "output_type": "stream",
     "text": [
      "(array([0.70525573, 0.79780016, 0.66050559, 0.62174556, 0.68740475,\n",
      "       0.36820733]), 0.6945423570065881, 0.8183482168012558, 0.8107182159752444)\n",
      "train: {'mIoU': 0.6920295772568107, 'F1': 0.8160354903467862, 'OA': 0.8105706862914257}\n",
      "{'ImSurf': 0.7152178733197935, 'Building': 0.8098779142357221, 'LowVeg': 0.6495817713299262, 'Tree': 0.6040502416080333, 'Car': 0.6814200857905786, 'Clutter': 0.36713425479771106}\n",
      "val: {'mIoU': 0.6945423570065881, 'F1': 0.8183482168012558, 'OA': 0.8107182159752444}\n",
      "{'ImSurf': 0.7052557271177087, 'Building': 0.7978001600597603, 'LowVeg': 0.6605055892672858, 'Tree': 0.6217455583241468, 'Car': 0.6874047502640386, 'Clutter': 0.36820732892347324}\n",
      "Epoch 72: loss: 86.0372, train accuracy: 0.8106, valid accuracy:0.8107\n",
      "Start epoch #73, learning rate for this epoch: [8.124796533473278e-08]\n"
     ]
    },
    {
     "name": "stderr",
     "output_type": "stream",
     "text": [
      "100%|██████████| 624/624 [02:19<00:00,  4.46it/s]\n"
     ]
    },
    {
     "name": "stdout",
     "output_type": "stream",
     "text": [
      "Done epoch #73, time for this epoch: 139.95824790000916s\n"
     ]
    },
    {
     "name": "stderr",
     "output_type": "stream",
     "text": [
      "100%|██████████| 175/175 [00:24<00:00,  7.25it/s]\n"
     ]
    },
    {
     "name": "stdout",
     "output_type": "stream",
     "text": [
      "(array([0.70682387, 0.79881626, 0.6743416 , 0.62260279, 0.68435619,\n",
      "       0.36668935]), 0.6973881417636855, 0.8203812804791063, 0.8140304247766453)\n",
      "train: {'mIoU': 0.6924659160451703, 'F1': 0.8163096226976927, 'OA': 0.8111889637433566}\n",
      "{'ImSurf': 0.7174060971779986, 'Building': 0.8126572468453594, 'LowVeg': 0.6475828746792759, 'Tree': 0.6073495201693045, 'Car': 0.6773338413539126, 'Clutter': 0.34521035997985944}\n",
      "val: {'mIoU': 0.6973881417636855, 'F1': 0.8203812804791063, 'OA': 0.8140304247766453}\n",
      "{'ImSurf': 0.706823865037157, 'Building': 0.7988162600099038, 'LowVeg': 0.6743415993788755, 'Tree': 0.6226027908597813, 'Car': 0.6843561935327097, 'Clutter': 0.3666893477060844}\n",
      "Epoch 73: loss: 85.7325, train accuracy: 0.8112, valid accuracy:0.8140\n",
      "Start epoch #74, learning rate for this epoch: [8.124796533473278e-08]\n"
     ]
    },
    {
     "name": "stderr",
     "output_type": "stream",
     "text": [
      "100%|██████████| 624/624 [02:19<00:00,  4.46it/s]\n"
     ]
    },
    {
     "name": "stdout",
     "output_type": "stream",
     "text": [
      "Done epoch #74, time for this epoch: 139.85575485229492s\n"
     ]
    },
    {
     "name": "stderr",
     "output_type": "stream",
     "text": [
      "100%|██████████| 175/175 [00:24<00:00,  7.21it/s]\n"
     ]
    },
    {
     "name": "stdout",
     "output_type": "stream",
     "text": [
      "(array([0.69283215, 0.78292457, 0.65872402, 0.61298043, 0.69002297,\n",
      "       0.36076533]), 0.6874968275449226, 0.813538580840189, 0.8044269504259578)\n",
      "train: {'mIoU': 0.6909526033818507, 'F1': 0.8152801387232724, 'OA': 0.8100846791878725}\n",
      "{'ImSurf': 0.7108063837143763, 'Building': 0.8129209911343854, 'LowVeg': 0.6479073523784048, 'Tree': 0.6081989966662177, 'Car': 0.6749292930158689, 'Clutter': 0.35632564520635707}\n",
      "val: {'mIoU': 0.6874968275449226, 'F1': 0.813538580840189, 'OA': 0.8044269504259578}\n",
      "{'ImSurf': 0.6928321516302527, 'Building': 0.782924567747744, 'LowVeg': 0.6587240188816278, 'Tree': 0.6129804335673905, 'Car': 0.6900229658975978, 'Clutter': 0.36076533071333233}\n",
      "Epoch 74: loss: 86.3685, train accuracy: 0.8101, valid accuracy:0.8044\n",
      "Start epoch #75, learning rate for this epoch: [8.124796533473278e-08]\n"
     ]
    },
    {
     "name": "stderr",
     "output_type": "stream",
     "text": [
      "100%|██████████| 624/624 [02:22<00:00,  4.39it/s]\n"
     ]
    },
    {
     "name": "stdout",
     "output_type": "stream",
     "text": [
      "Done epoch #75, time for this epoch: 142.01151275634766s\n"
     ]
    },
    {
     "name": "stderr",
     "output_type": "stream",
     "text": [
      "100%|██████████| 175/175 [00:24<00:00,  7.00it/s]\n"
     ]
    },
    {
     "name": "stdout",
     "output_type": "stream",
     "text": [
      "(array([0.69430708, 0.79389514, 0.67705614, 0.61028031, 0.68374035,\n",
      "       0.34438104]), 0.6918558037866035, 0.8164533522987313, 0.8082626901422569)\n",
      "train: {'mIoU': 0.6900535234295895, 'F1': 0.8147109806078952, 'OA': 0.8103825954290537}\n",
      "{'ImSurf': 0.7180502543740542, 'Building': 0.8057465653801539, 'LowVeg': 0.6456750107020094, 'Tree': 0.6068532564772968, 'Car': 0.6739425302144335, 'Clutter': 0.3662320820259572}\n",
      "val: {'mIoU': 0.6918558037866035, 'F1': 0.8164533522987313, 'OA': 0.8082626901422569}\n",
      "{'ImSurf': 0.6943070770417445, 'Building': 0.7938951441439773, 'LowVeg': 0.6770561364824722, 'Tree': 0.6102803087775786, 'Car': 0.6837403524872444, 'Clutter': 0.34438104359212135}\n",
      "Epoch 75: loss: 86.1668, train accuracy: 0.8104, valid accuracy:0.8083\n",
      "Start epoch #76, learning rate for this epoch: [8.124796533473278e-08]\n"
     ]
    },
    {
     "name": "stderr",
     "output_type": "stream",
     "text": [
      "100%|██████████| 624/624 [02:21<00:00,  4.41it/s]\n"
     ]
    },
    {
     "name": "stdout",
     "output_type": "stream",
     "text": [
      "Done epoch #76, time for this epoch: 141.62814927101135s\n"
     ]
    },
    {
     "name": "stderr",
     "output_type": "stream",
     "text": [
      "100%|██████████| 175/175 [00:24<00:00,  7.20it/s]\n"
     ]
    },
    {
     "name": "stdout",
     "output_type": "stream",
     "text": [
      "(array([0.69634454, 0.79836496, 0.6576966 , 0.61171587, 0.68693651,\n",
      "       0.3651111 ]), 0.6902116949595543, 0.8151769864611454, 0.8074681815361684)\n",
      "train: {'mIoU': 0.6899174452293316, 'F1': 0.8144773219074859, 'OA': 0.8091739324422983}\n",
      "{'ImSurf': 0.7123020085591006, 'Building': 0.810860766602663, 'LowVeg': 0.6456739236160011, 'Tree': 0.6014479781185611, 'Car': 0.6793025492503321, 'Clutter': 0.3565085276715747}\n",
      "val: {'mIoU': 0.6902116949595543, 'F1': 0.8151769864611454, 'OA': 0.8074681815361684}\n",
      "{'ImSurf': 0.6963445398641869, 'Building': 0.798364957269092, 'LowVeg': 0.6576966047338024, 'Tree': 0.6117158659682063, 'Car': 0.6869365069624842, 'Clutter': 0.36511110215188475}\n",
      "Epoch 76: loss: 86.7272, train accuracy: 0.8092, valid accuracy:0.8075\n",
      "Start epoch #77, learning rate for this epoch: [4.8748779200839665e-08]\n"
     ]
    },
    {
     "name": "stderr",
     "output_type": "stream",
     "text": [
      "100%|██████████| 624/624 [02:21<00:00,  4.40it/s]\n"
     ]
    },
    {
     "name": "stdout",
     "output_type": "stream",
     "text": [
      "Done epoch #77, time for this epoch: 141.91472959518433s\n"
     ]
    },
    {
     "name": "stderr",
     "output_type": "stream",
     "text": [
      "100%|██████████| 175/175 [00:24<00:00,  7.21it/s]\n"
     ]
    },
    {
     "name": "stdout",
     "output_type": "stream",
     "text": [
      "(array([0.70340062, 0.79470164, 0.66644689, 0.61348863, 0.67795857,\n",
      "       0.35996747]), 0.6911992689798899, 0.8159707628877918, 0.8098078260127365)\n",
      "train: {'mIoU': 0.6916537253515601, 'F1': 0.8155764014672439, 'OA': 0.8115699535761124}\n",
      "{'ImSurf': 0.7156784221312147, 'Building': 0.8183690429845596, 'LowVeg': 0.6487694091783617, 'Tree': 0.6033820922536339, 'Car': 0.6720696602100308, 'Clutter': 0.36285851251701273}\n",
      "val: {'mIoU': 0.6911992689798899, 'F1': 0.8159707628877918, 'OA': 0.8098078260127365}\n",
      "{'ImSurf': 0.7034006200210241, 'Building': 0.7947016397105005, 'LowVeg': 0.6664468888856357, 'Tree': 0.6134886309414626, 'Car': 0.677958565340827, 'Clutter': 0.3599674745428791}\n",
      "Epoch 77: loss: 85.4805, train accuracy: 0.8116, valid accuracy:0.8098\n",
      "Start epoch #78, learning rate for this epoch: [4.8748779200839665e-08]\n"
     ]
    },
    {
     "name": "stderr",
     "output_type": "stream",
     "text": [
      "100%|██████████| 624/624 [02:21<00:00,  4.42it/s]\n"
     ]
    },
    {
     "name": "stdout",
     "output_type": "stream",
     "text": [
      "Done epoch #78, time for this epoch: 141.30014896392822s\n"
     ]
    },
    {
     "name": "stderr",
     "output_type": "stream",
     "text": [
      "100%|██████████| 175/175 [00:24<00:00,  7.08it/s]\n"
     ]
    },
    {
     "name": "stdout",
     "output_type": "stream",
     "text": [
      "(array([0.70466874, 0.79681838, 0.66070652, 0.61017965, 0.70176781,\n",
      "       0.33990626]), 0.6948282199144993, 0.8184040756717849, 0.8075518912748731)\n",
      "train: {'mIoU': 0.6901924474518948, 'F1': 0.814629674504034, 'OA': 0.8097036496186868}\n",
      "{'ImSurf': 0.7117085124954524, 'Building': 0.8149873769699496, 'LowVeg': 0.6461893651856184, 'Tree': 0.6040893633761744, 'Car': 0.6739876192322789, 'Clutter': 0.35172187766311414}\n",
      "val: {'mIoU': 0.6948282199144993, 'F1': 0.8184040756717849, 'OA': 0.8075518912748731}\n",
      "{'ImSurf': 0.7046687350377955, 'Building': 0.7968183806251414, 'LowVeg': 0.6607065246997046, 'Tree': 0.6101796525269585, 'Car': 0.7017678066828967, 'Clutter': 0.3399062557720158}\n",
      "Epoch 78: loss: 86.4038, train accuracy: 0.8097, valid accuracy:0.8076\n",
      "Start epoch #79, learning rate for this epoch: [4.8748779200839665e-08]\n"
     ]
    },
    {
     "name": "stderr",
     "output_type": "stream",
     "text": [
      "100%|██████████| 624/624 [02:19<00:00,  4.46it/s]\n"
     ]
    },
    {
     "name": "stdout",
     "output_type": "stream",
     "text": [
      "Done epoch #79, time for this epoch: 139.86991047859192s\n"
     ]
    },
    {
     "name": "stderr",
     "output_type": "stream",
     "text": [
      "100%|██████████| 175/175 [00:24<00:00,  7.16it/s]\n"
     ]
    },
    {
     "name": "stdout",
     "output_type": "stream",
     "text": [
      "(array([0.69739119, 0.79567705, 0.67032096, 0.61428337, 0.6847768 ,\n",
      "       0.34855283]), 0.6924898759087383, 0.8169039662921218, 0.8086764957951026)\n",
      "train: {'mIoU': 0.6951428222701354, 'F1': 0.8179745608478741, 'OA': 0.8141506818624643}\n",
      "{'ImSurf': 0.7200673268415648, 'Building': 0.8217336894111559, 'LowVeg': 0.6546644729145049, 'Tree': 0.602680109203812, 'Car': 0.6765685129796388, 'Clutter': 0.3555262148136432}\n",
      "val: {'mIoU': 0.6924898759087383, 'F1': 0.8169039662921218, 'OA': 0.8086764957951026}\n",
      "{'ImSurf': 0.6973911897102709, 'Building': 0.7956770521780162, 'LowVeg': 0.6703209614474251, 'Tree': 0.6142833715385347, 'Car': 0.6847768046694452, 'Clutter': 0.34855283326430914}\n",
      "Epoch 79: loss: 85.1069, train accuracy: 0.8142, valid accuracy:0.8087\n",
      "Start epoch #80, learning rate for this epoch: [4.8748779200839665e-08]\n"
     ]
    },
    {
     "name": "stderr",
     "output_type": "stream",
     "text": [
      "100%|██████████| 624/624 [02:23<00:00,  4.35it/s]\n"
     ]
    },
    {
     "name": "stdout",
     "output_type": "stream",
     "text": [
      "Done epoch #80, time for this epoch: 143.44284009933472s\n"
     ]
    },
    {
     "name": "stderr",
     "output_type": "stream",
     "text": [
      "100%|██████████| 175/175 [00:24<00:00,  7.21it/s]\n"
     ]
    },
    {
     "name": "stdout",
     "output_type": "stream",
     "text": [
      "(array([0.7029557 , 0.79796853, 0.67326024, 0.61589439, 0.69585004,\n",
      "       0.3546225 ]), 0.6971857803302312, 0.8201758526441332, 0.8114348532737626)\n",
      "train: {'mIoU': 0.6898218413681845, 'F1': 0.8143240748924769, 'OA': 0.8088297660534198}\n",
      "{'ImSurf': 0.711581186021826, 'Building': 0.8136539399161089, 'LowVeg': 0.6468730756314729, 'Tree': 0.5986614403033097, 'Car': 0.678339564968205, 'Clutter': 0.35020085448222}\n",
      "val: {'mIoU': 0.6971857803302312, 'F1': 0.8201758526441332, 'OA': 0.8114348532737626}\n",
      "{'ImSurf': 0.7029557017888449, 'Building': 0.7979685290122243, 'LowVeg': 0.6732602370688351, 'Tree': 0.6158943934263974, 'Car': 0.6958500403548535, 'Clutter': 0.3546225026499228}\n",
      "Epoch 80: loss: 86.7764, train accuracy: 0.8088, valid accuracy:0.8114\n",
      "Start epoch #81, learning rate for this epoch: [2.92492675205038e-08]\n"
     ]
    },
    {
     "name": "stderr",
     "output_type": "stream",
     "text": [
      "100%|██████████| 624/624 [02:19<00:00,  4.46it/s]\n"
     ]
    },
    {
     "name": "stdout",
     "output_type": "stream",
     "text": [
      "Done epoch #81, time for this epoch: 139.8333821296692s\n"
     ]
    },
    {
     "name": "stderr",
     "output_type": "stream",
     "text": [
      "100%|██████████| 175/175 [00:23<00:00,  7.30it/s]\n"
     ]
    },
    {
     "name": "stdout",
     "output_type": "stream",
     "text": [
      "(array([0.69921522, 0.78753097, 0.65722605, 0.59016333, 0.68159628,\n",
      "       0.35699115]), 0.683146371073047, 0.8100419629163949, 0.8030314010762517)\n",
      "train: {'mIoU': 0.6926454543502935, 'F1': 0.8164771208991738, 'OA': 0.8120809151576116}\n",
      "{'ImSurf': 0.7143167580713647, 'Building': 0.813935527069813, 'LowVeg': 0.6494029374619223, 'Tree': 0.610414327402044, 'Car': 0.675157721746323, 'Clutter': 0.3656395851974011}\n",
      "val: {'mIoU': 0.683146371073047, 'F1': 0.8100419629163949, 'OA': 0.8030314010762517}\n",
      "{'ImSurf': 0.6992152154789857, 'Building': 0.7875309744176993, 'LowVeg': 0.6572260542754219, 'Tree': 0.5901633268752395, 'Car': 0.6815962843178882, 'Clutter': 0.3569911457535003}\n",
      "Epoch 81: loss: 85.6402, train accuracy: 0.8121, valid accuracy:0.8030\n",
      "Start epoch #82, learning rate for this epoch: [2.92492675205038e-08]\n"
     ]
    },
    {
     "name": "stderr",
     "output_type": "stream",
     "text": [
      "100%|██████████| 624/624 [02:21<00:00,  4.41it/s]\n"
     ]
    },
    {
     "name": "stdout",
     "output_type": "stream",
     "text": [
      "Done epoch #82, time for this epoch: 141.36915826797485s\n"
     ]
    },
    {
     "name": "stderr",
     "output_type": "stream",
     "text": [
      "100%|██████████| 175/175 [00:24<00:00,  7.00it/s]\n"
     ]
    },
    {
     "name": "stdout",
     "output_type": "stream",
     "text": [
      "(array([0.69128879, 0.80007571, 0.66891086, 0.60388518, 0.67886459,\n",
      "       0.36405187]), 0.6886050258170741, 0.8139531496812987, 0.8074856749217627)\n",
      "train: {'mIoU': 0.6906026423192084, 'F1': 0.814996745914615, 'OA': 0.8088716024007553}\n",
      "{'ImSurf': 0.7106924526426547, 'Building': 0.8120582174542693, 'LowVeg': 0.6460253984666212, 'Tree': 0.604840256860601, 'Car': 0.6793968861718962, 'Clutter': 0.3482330356326767}\n",
      "val: {'mIoU': 0.6886050258170741, 'F1': 0.8139531496812987, 'OA': 0.8074856749217627}\n",
      "{'ImSurf': 0.6912887949259766, 'Building': 0.8000757093009166, 'LowVeg': 0.6689108589970038, 'Tree': 0.6038851799820066, 'Car': 0.6788645858794666, 'Clutter': 0.36405187024881575}\n",
      "Epoch 82: loss: 86.2260, train accuracy: 0.8089, valid accuracy:0.8075\n",
      "Start epoch #83, learning rate for this epoch: [2.92492675205038e-08]\n"
     ]
    },
    {
     "name": "stderr",
     "output_type": "stream",
     "text": [
      "100%|██████████| 624/624 [02:21<00:00,  4.40it/s]\n"
     ]
    },
    {
     "name": "stdout",
     "output_type": "stream",
     "text": [
      "Done epoch #83, time for this epoch: 141.8368637561798s\n"
     ]
    },
    {
     "name": "stderr",
     "output_type": "stream",
     "text": [
      "100%|██████████| 175/175 [00:24<00:00,  7.19it/s]\n"
     ]
    },
    {
     "name": "stdout",
     "output_type": "stream",
     "text": [
      "(array([0.69953382, 0.79226247, 0.67205419, 0.61577278, 0.68382336,\n",
      "       0.3491591 ]), 0.6926893253405371, 0.8171188791676629, 0.8102937521732545)\n",
      "train: {'mIoU': 0.6910986720467953, 'F1': 0.815388005652627, 'OA': 0.8097935639894925}\n",
      "{'ImSurf': 0.7132766075039872, 'Building': 0.8102673850261148, 'LowVeg': 0.6481071118704429, 'Tree': 0.6052923697527208, 'Car': 0.6785498860807108, 'Clutter': 0.3579554814700955}\n",
      "val: {'mIoU': 0.6926893253405371, 'F1': 0.8171188791676629, 'OA': 0.8102937521732545}\n",
      "{'ImSurf': 0.6995338201267256, 'Building': 0.7922624714723765, 'LowVeg': 0.6720541947958949, 'Tree': 0.6157727759814989, 'Car': 0.683823364326189, 'Clutter': 0.3491591024301255}\n",
      "Epoch 83: loss: 86.1259, train accuracy: 0.8098, valid accuracy:0.8103\n",
      "Start epoch #84, learning rate for this epoch: [2.92492675205038e-08]\n"
     ]
    },
    {
     "name": "stderr",
     "output_type": "stream",
     "text": [
      "100%|██████████| 624/624 [02:20<00:00,  4.43it/s]\n"
     ]
    },
    {
     "name": "stdout",
     "output_type": "stream",
     "text": [
      "Done epoch #84, time for this epoch: 140.87039756774902s\n"
     ]
    },
    {
     "name": "stderr",
     "output_type": "stream",
     "text": [
      "100%|██████████| 175/175 [00:24<00:00,  7.23it/s]\n"
     ]
    },
    {
     "name": "stdout",
     "output_type": "stream",
     "text": [
      "(array([0.69693082, 0.79044873, 0.66163376, 0.61692317, 0.6808521 ,\n",
      "       0.33982664]), 0.6893577183273557, 0.8147877333257204, 0.8068416401027177)\n",
      "train: {'mIoU': 0.6907146046360122, 'F1': 0.8151146225305315, 'OA': 0.8099281665606376}\n",
      "{'ImSurf': 0.7127315734612066, 'Building': 0.8105855148150832, 'LowVeg': 0.6467614426265377, 'Tree': 0.6060426802212712, 'Car': 0.6774518120559623, 'Clutter': 0.36602767797599517}\n",
      "val: {'mIoU': 0.6893577183273557, 'F1': 0.8147877333257204, 'OA': 0.8068416401027177}\n",
      "{'ImSurf': 0.6969308246488908, 'Building': 0.7904487299261288, 'LowVeg': 0.661633760369943, 'Tree': 0.6169231724032573, 'Car': 0.6808521042885584, 'Clutter': 0.33982664135674695}\n",
      "Epoch 84: loss: 86.2408, train accuracy: 0.8099, valid accuracy:0.8068\n",
      "Start epoch #85, learning rate for this epoch: [1.754956051230228e-08]\n"
     ]
    },
    {
     "name": "stderr",
     "output_type": "stream",
     "text": [
      "100%|██████████| 624/624 [02:22<00:00,  4.37it/s]\n"
     ]
    },
    {
     "name": "stdout",
     "output_type": "stream",
     "text": [
      "Done epoch #85, time for this epoch: 142.78668451309204s\n"
     ]
    },
    {
     "name": "stderr",
     "output_type": "stream",
     "text": [
      "100%|██████████| 175/175 [00:24<00:00,  7.15it/s]\n"
     ]
    },
    {
     "name": "stdout",
     "output_type": "stream",
     "text": [
      "(array([0.70144395, 0.79382587, 0.65685241, 0.61250359, 0.69154241,\n",
      "       0.36265235]), 0.6912336463415499, 0.81596482482727, 0.8062380580532404)\n",
      "train: {'mIoU': 0.6879753610388291, 'F1': 0.8132190422547589, 'OA': 0.8084665628579947}\n",
      "{'ImSurf': 0.7112558553053914, 'Building': 0.8064763870322381, 'LowVeg': 0.6439317004791607, 'Tree': 0.604390155633221, 'Car': 0.6738227067441337, 'Clutter': 0.3563645691977205}\n",
      "val: {'mIoU': 0.6912336463415499, 'F1': 0.81596482482727, 'OA': 0.8062380580532404}\n",
      "{'ImSurf': 0.7014439453614162, 'Building': 0.7938258734286876, 'LowVeg': 0.6568524111030118, 'Tree': 0.6125035898129623, 'Car': 0.6915424120016718, 'Clutter': 0.3626523540189596}\n",
      "Epoch 85: loss: 86.9293, train accuracy: 0.8085, valid accuracy:0.8062\n",
      "Start epoch #86, learning rate for this epoch: [1.754956051230228e-08]\n"
     ]
    },
    {
     "name": "stderr",
     "output_type": "stream",
     "text": [
      "100%|██████████| 624/624 [02:23<00:00,  4.36it/s]\n"
     ]
    },
    {
     "name": "stdout",
     "output_type": "stream",
     "text": [
      "Done epoch #86, time for this epoch: 143.12149906158447s\n"
     ]
    },
    {
     "name": "stderr",
     "output_type": "stream",
     "text": [
      "100%|██████████| 175/175 [00:25<00:00,  6.84it/s]\n"
     ]
    },
    {
     "name": "stdout",
     "output_type": "stream",
     "text": [
      "(array([0.70138483, 0.79295893, 0.66912054, 0.61632786, 0.6768936 ,\n",
      "       0.35962933]), 0.6913371512824751, 0.8161444853952528, 0.8100838644078371)\n",
      "train: {'mIoU': 0.6893111907871888, 'F1': 0.8140240073156952, 'OA': 0.8092984755833944}\n",
      "{'ImSurf': 0.7120795060162943, 'Building': 0.8124088420817863, 'LowVeg': 0.6491044256187485, 'Tree': 0.6008639772207869, 'Car': 0.6720992029983281, 'Clutter': 0.3423584466717685}\n",
      "val: {'mIoU': 0.6913371512824751, 'F1': 0.8161444853952528, 'OA': 0.8100838644078371}\n",
      "{'ImSurf': 0.7013848267929423, 'Building': 0.792958925917139, 'LowVeg': 0.6691205432695234, 'Tree': 0.6163278637729124, 'Car': 0.6768935966598586, 'Clutter': 0.3596293294192389}\n",
      "Epoch 86: loss: 86.5556, train accuracy: 0.8093, valid accuracy:0.8101\n",
      "Start epoch #87, learning rate for this epoch: [1.754956051230228e-08]\n"
     ]
    },
    {
     "name": "stderr",
     "output_type": "stream",
     "text": [
      "100%|██████████| 624/624 [02:24<00:00,  4.32it/s]\n"
     ]
    },
    {
     "name": "stdout",
     "output_type": "stream",
     "text": [
      "Done epoch #87, time for this epoch: 144.32954049110413s\n"
     ]
    },
    {
     "name": "stderr",
     "output_type": "stream",
     "text": [
      "100%|██████████| 175/175 [00:25<00:00,  6.96it/s]\n"
     ]
    },
    {
     "name": "stdout",
     "output_type": "stream",
     "text": [
      "(array([0.70625037, 0.8057405 , 0.66749081, 0.62208847, 0.69235763,\n",
      "       0.32906056]), 0.6987855577546098, 0.8212183280228832, 0.8120352586909154)\n",
      "train: {'mIoU': 0.6866702132208908, 'F1': 0.812245820103149, 'OA': 0.8082454724189563}\n",
      "{'ImSurf': 0.7080751556383519, 'Building': 0.8094511937545669, 'LowVeg': 0.6452540167806659, 'Tree': 0.6042617765014977, 'Car': 0.6663089234293714, 'Clutter': 0.35817168166526775}\n",
      "val: {'mIoU': 0.6987855577546098, 'F1': 0.8212183280228832, 'OA': 0.8120352586909154}\n",
      "{'ImSurf': 0.7062503748428576, 'Building': 0.8057405008953993, 'LowVeg': 0.6674908077926667, 'Tree': 0.6220884725239338, 'Car': 0.6923576327181918, 'Clutter': 0.3290605632500295}\n",
      "Epoch 87: loss: 86.6766, train accuracy: 0.8082, valid accuracy:0.8120\n",
      "Start epoch #88, learning rate for this epoch: [1.754956051230228e-08]\n"
     ]
    },
    {
     "name": "stderr",
     "output_type": "stream",
     "text": [
      "100%|██████████| 624/624 [02:23<00:00,  4.34it/s]\n"
     ]
    },
    {
     "name": "stdout",
     "output_type": "stream",
     "text": [
      "Done epoch #88, time for this epoch: 143.68859481811523s\n"
     ]
    },
    {
     "name": "stderr",
     "output_type": "stream",
     "text": [
      "100%|██████████| 175/175 [00:26<00:00,  6.72it/s]\n"
     ]
    },
    {
     "name": "stdout",
     "output_type": "stream",
     "text": [
      "(array([0.69811744, 0.77942063, 0.65919743, 0.62100448, 0.67301205,\n",
      "       0.35190157]), 0.6861504041922011, 0.8127220429196281, 0.805836148340755)\n",
      "train: {'mIoU': 0.6911802129529367, 'F1': 0.8154141976393529, 'OA': 0.8117464414009681}\n",
      "{'ImSurf': 0.718783144710364, 'Building': 0.8112639688054823, 'LowVeg': 0.6495265178214175, 'Tree': 0.6069596828095256, 'Car': 0.6693677506178942, 'Clutter': 0.36199241734076415}\n",
      "val: {'mIoU': 0.6861504041922011, 'F1': 0.8127220429196281, 'OA': 0.805836148340755}\n",
      "{'ImSurf': 0.6981174371604113, 'Building': 0.7794206271287958, 'LowVeg': 0.6591974297658046, 'Tree': 0.6210044781479351, 'Car': 0.6730120487580583, 'Clutter': 0.35190157392753424}\n",
      "Epoch 88: loss: 86.0454, train accuracy: 0.8117, valid accuracy:0.8058\n",
      "Start epoch #89, learning rate for this epoch: [1.0529736307381367e-08]\n"
     ]
    },
    {
     "name": "stderr",
     "output_type": "stream",
     "text": [
      "100%|██████████| 624/624 [02:24<00:00,  4.31it/s]\n"
     ]
    },
    {
     "name": "stdout",
     "output_type": "stream",
     "text": [
      "Done epoch #89, time for this epoch: 144.79022002220154s\n"
     ]
    },
    {
     "name": "stderr",
     "output_type": "stream",
     "text": [
      "100%|██████████| 175/175 [00:25<00:00,  6.79it/s]\n"
     ]
    },
    {
     "name": "stdout",
     "output_type": "stream",
     "text": [
      "(array([0.7033462 , 0.79287037, 0.66430186, 0.61413633, 0.6681748 ,\n",
      "       0.34001056]), 0.6885659138503425, 0.8141276081100868, 0.807187126252776)\n",
      "train: {'mIoU': 0.6873304837336316, 'F1': 0.8128089136506935, 'OA': 0.808139654306265}\n",
      "{'ImSurf': 0.7097772324701517, 'Building': 0.8039790353602075, 'LowVeg': 0.6481143405338213, 'Tree': 0.6021336736956295, 'Car': 0.6726481366083478, 'Clutter': 0.35485700615016524}\n",
      "val: {'mIoU': 0.6885659138503425, 'F1': 0.8141276081100868, 'OA': 0.807187126252776}\n",
      "{'ImSurf': 0.7033461989185446, 'Building': 0.7928703711705795, 'LowVeg': 0.6643018627315064, 'Tree': 0.6141363326827317, 'Car': 0.6681748037483506, 'Clutter': 0.34001056134642493}\n",
      "Epoch 89: loss: 87.0335, train accuracy: 0.8081, valid accuracy:0.8072\n",
      "Start epoch #90, learning rate for this epoch: [1.0529736307381367e-08]\n"
     ]
    },
    {
     "name": "stderr",
     "output_type": "stream",
     "text": [
      "100%|██████████| 624/624 [02:25<00:00,  4.28it/s]\n"
     ]
    },
    {
     "name": "stdout",
     "output_type": "stream",
     "text": [
      "Done epoch #90, time for this epoch: 145.84756541252136s\n"
     ]
    },
    {
     "name": "stderr",
     "output_type": "stream",
     "text": [
      "100%|██████████| 175/175 [00:24<00:00,  7.11it/s]\n"
     ]
    },
    {
     "name": "stdout",
     "output_type": "stream",
     "text": [
      "(array([0.70065467, 0.79123379, 0.66626227, 0.61789591, 0.69432163,\n",
      "       0.36967022]), 0.6940736539994314, 0.8181110660405283, 0.807668670851467)\n",
      "train: {'mIoU': 0.68641683522361, 'F1': 0.8119875489140707, 'OA': 0.8078460051463201}\n",
      "{'ImSurf': 0.7097604670788309, 'Building': 0.8094738946684078, 'LowVeg': 0.6466695645939878, 'Tree': 0.5985360447712269, 'Car': 0.6676442050055966, 'Clutter': 0.35008755842186356}\n",
      "val: {'mIoU': 0.6940736539994314, 'F1': 0.8181110660405283, 'OA': 0.807668670851467}\n",
      "{'ImSurf': 0.70065466989566, 'Building': 0.7912337933746304, 'LowVeg': 0.6662622717689708, 'Tree': 0.6178959094424701, 'Car': 0.6943216255154255, 'Clutter': 0.36967021885366935}\n",
      "Epoch 90: loss: 86.9498, train accuracy: 0.8078, valid accuracy:0.8077\n",
      "Start epoch #91, learning rate for this epoch: [1.0529736307381367e-08]\n"
     ]
    },
    {
     "name": "stderr",
     "output_type": "stream",
     "text": [
      "100%|██████████| 624/624 [02:21<00:00,  4.40it/s]\n"
     ]
    },
    {
     "name": "stdout",
     "output_type": "stream",
     "text": [
      "Done epoch #91, time for this epoch: 141.79336714744568s\n"
     ]
    },
    {
     "name": "stderr",
     "output_type": "stream",
     "text": [
      "100%|██████████| 175/175 [00:24<00:00,  7.03it/s]\n"
     ]
    },
    {
     "name": "stdout",
     "output_type": "stream",
     "text": [
      "(array([0.70792122, 0.79430849, 0.6726342 , 0.61620945, 0.70563572,\n",
      "       0.34977328]), 0.6993418156274996, 0.8217169727929295, 0.812222679998065)\n",
      "train: {'mIoU': 0.6869489107296091, 'F1': 0.8122929971337367, 'OA': 0.8090549737979205}\n",
      "{'ImSurf': 0.710510676210765, 'Building': 0.8134711442979565, 'LowVeg': 0.6458422669402428, 'Tree': 0.600094994530156, 'Car': 0.6648254716689252, 'Clutter': 0.36902486867633216}\n",
      "val: {'mIoU': 0.6993418156274996, 'F1': 0.8217169727929295, 'OA': 0.812222679998065}\n",
      "{'ImSurf': 0.7079212153358826, 'Building': 0.7943084898922282, 'LowVeg': 0.6726342048883518, 'Tree': 0.6162094498108428, 'Car': 0.7056357182101929, 'Clutter': 0.34977327596082686}\n",
      "Epoch 91: loss: 86.3518, train accuracy: 0.8091, valid accuracy:0.8122\n",
      "Start epoch #92, learning rate for this epoch: [1.0529736307381367e-08]\n"
     ]
    },
    {
     "name": "stderr",
     "output_type": "stream",
     "text": [
      "100%|██████████| 624/624 [02:23<00:00,  4.34it/s]\n"
     ]
    },
    {
     "name": "stdout",
     "output_type": "stream",
     "text": [
      "Done epoch #92, time for this epoch: 143.84862542152405s\n"
     ]
    },
    {
     "name": "stderr",
     "output_type": "stream",
     "text": [
      "100%|██████████| 175/175 [00:25<00:00,  6.99it/s]\n"
     ]
    },
    {
     "name": "stdout",
     "output_type": "stream",
     "text": [
      "(array([0.70060267, 0.79855575, 0.66432934, 0.61156691, 0.6784623 ,\n",
      "       0.34971901]), 0.6907033944429092, 0.8155325440224208, 0.8091797729404555)\n",
      "train: {'mIoU': 0.6885056198534673, 'F1': 0.8135524397032757, 'OA': 0.8088213052505102}\n",
      "{'ImSurf': 0.714008783710278, 'Building': 0.8069360779035616, 'LowVeg': 0.6444968927588314, 'Tree': 0.6027374470617776, 'Car': 0.6743488978328879, 'Clutter': 0.3511773228530596}\n",
      "val: {'mIoU': 0.6907033944429092, 'F1': 0.8155325440224208, 'OA': 0.8091797729404555}\n",
      "{'ImSurf': 0.7006026684516476, 'Building': 0.7985557521186385, 'LowVeg': 0.6643293424726644, 'Tree': 0.6115669134616301, 'Car': 0.678462295709965, 'Clutter': 0.3497190059720099}\n",
      "Epoch 92: loss: 87.1549, train accuracy: 0.8088, valid accuracy:0.8092\n",
      "Start epoch #93, learning rate for this epoch: [6.31784178442882e-09]\n"
     ]
    },
    {
     "name": "stderr",
     "output_type": "stream",
     "text": [
      "100%|██████████| 624/624 [02:22<00:00,  4.37it/s]\n"
     ]
    },
    {
     "name": "stdout",
     "output_type": "stream",
     "text": [
      "Done epoch #93, time for this epoch: 142.90800762176514s\n"
     ]
    },
    {
     "name": "stderr",
     "output_type": "stream",
     "text": [
      "100%|██████████| 175/175 [00:25<00:00,  6.89it/s]\n"
     ]
    },
    {
     "name": "stdout",
     "output_type": "stream",
     "text": [
      "(array([0.70364786, 0.78953607, 0.65676053, 0.61411814, 0.67659128,\n",
      "       0.31722228]), 0.6881307740388611, 0.8138604109483396, 0.8061523547039045)\n",
      "train: {'mIoU': 0.6903772388890491, 'F1': 0.8147224327439174, 'OA': 0.8095291608419174}\n",
      "{'ImSurf': 0.7137174501711918, 'Building': 0.8145843234318247, 'LowVeg': 0.6448641284851747, 'Tree': 0.601950511655224, 'Car': 0.6767697807018302, 'Clutter': 0.3524886343306862}\n",
      "val: {'mIoU': 0.6881307740388611, 'F1': 0.8138604109483396, 'OA': 0.8061523547039045}\n",
      "{'ImSurf': 0.7036478591422026, 'Building': 0.7895360677877606, 'LowVeg': 0.6567605255743166, 'Tree': 0.6141181402207276, 'Car': 0.6765912774692979, 'Clutter': 0.31722227600642294}\n",
      "Epoch 93: loss: 86.2873, train accuracy: 0.8095, valid accuracy:0.8062\n",
      "Start epoch #94, learning rate for this epoch: [6.31784178442882e-09]\n"
     ]
    },
    {
     "name": "stderr",
     "output_type": "stream",
     "text": [
      "100%|██████████| 624/624 [02:22<00:00,  4.37it/s]\n"
     ]
    },
    {
     "name": "stdout",
     "output_type": "stream",
     "text": [
      "Done epoch #94, time for this epoch: 142.7845265865326s\n"
     ]
    },
    {
     "name": "stderr",
     "output_type": "stream",
     "text": [
      "100%|██████████| 175/175 [00:24<00:00,  7.03it/s]\n"
     ]
    },
    {
     "name": "stdout",
     "output_type": "stream",
     "text": [
      "(array([0.69703138, 0.79581155, 0.6715839 , 0.6161406 , 0.67976169,\n",
      "       0.37636055]), 0.6920658263938375, 0.816627525941759, 0.8107075359182911)\n",
      "train: {'mIoU': 0.6862136637848246, 'F1': 0.8118417597431147, 'OA': 0.806816972219027}\n",
      "{'ImSurf': 0.7085133342000068, 'Building': 0.8097127297908591, 'LowVeg': 0.6447180897201252, 'Tree': 0.5989029908876443, 'Car': 0.6692211743254881, 'Clutter': 0.34732517533851914}\n",
      "val: {'mIoU': 0.6920658263938375, 'F1': 0.816627525941759, 'OA': 0.8107075359182911}\n",
      "{'ImSurf': 0.6970313843488407, 'Building': 0.795811553753642, 'LowVeg': 0.6715839006556069, 'Tree': 0.6161406022370823, 'Car': 0.6797616909740147, 'Clutter': 0.37636055412774255}\n",
      "Epoch 94: loss: 86.9931, train accuracy: 0.8068, valid accuracy:0.8107\n",
      "Start epoch #95, learning rate for this epoch: [6.31784178442882e-09]\n"
     ]
    },
    {
     "name": "stderr",
     "output_type": "stream",
     "text": [
      "100%|██████████| 624/624 [02:21<00:00,  4.39it/s]\n"
     ]
    },
    {
     "name": "stdout",
     "output_type": "stream",
     "text": [
      "Done epoch #95, time for this epoch: 141.99086904525757s\n"
     ]
    },
    {
     "name": "stderr",
     "output_type": "stream",
     "text": [
      "100%|██████████| 175/175 [00:24<00:00,  7.11it/s]\n"
     ]
    },
    {
     "name": "stdout",
     "output_type": "stream",
     "text": [
      "(array([0.69951791, 0.79122512, 0.66461787, 0.6057961 , 0.6853066 ,\n",
      "       0.36447817]), 0.6892927191453736, 0.8145897348826712, 0.8081659781188306)\n",
      "train: {'mIoU': 0.6883830671348711, 'F1': 0.8134757278666684, 'OA': 0.8077466732416397}\n",
      "{'ImSurf': 0.7098026503303697, 'Building': 0.808261779871416, 'LowVeg': 0.6444578329797285, 'Tree': 0.6036569228880413, 'Car': 0.6757361496047999, 'Clutter': 0.351951548208169}\n",
      "val: {'mIoU': 0.6892927191453736, 'F1': 0.8145897348826712, 'OA': 0.8081659781188306}\n",
      "{'ImSurf': 0.6995179050834677, 'Building': 0.7912251154521495, 'LowVeg': 0.6646178692818564, 'Tree': 0.6057961049393287, 'Car': 0.6853066009700659, 'Clutter': 0.3644781712491552}\n",
      "Epoch 95: loss: 86.7942, train accuracy: 0.8077, valid accuracy:0.8082\n",
      "Start epoch #96, learning rate for this epoch: [6.31784178442882e-09]\n"
     ]
    },
    {
     "name": "stderr",
     "output_type": "stream",
     "text": [
      "100%|██████████| 624/624 [02:23<00:00,  4.33it/s]\n"
     ]
    },
    {
     "name": "stdout",
     "output_type": "stream",
     "text": [
      "Done epoch #96, time for this epoch: 143.99161005020142s\n"
     ]
    },
    {
     "name": "stderr",
     "output_type": "stream",
     "text": [
      "100%|██████████| 175/175 [00:25<00:00,  6.98it/s]\n"
     ]
    },
    {
     "name": "stdout",
     "output_type": "stream",
     "text": [
      "(array([0.69471111, 0.79318376, 0.65885419, 0.60467056, 0.66653681,\n",
      "       0.35223499]), 0.6835912842225337, 0.8104832934289714, 0.804403925318557)\n",
      "train: {'mIoU': 0.6879497980938762, 'F1': 0.8132331672770045, 'OA': 0.8086923207992163}\n",
      "{'ImSurf': 0.7092381105845342, 'Building': 0.8057261154783566, 'LowVeg': 0.6511859799663197, 'Tree': 0.6022353009090097, 'Car': 0.6713634835311608, 'Clutter': 0.3686905331687926}\n",
      "val: {'mIoU': 0.6835912842225337, 'F1': 0.8104832934289714, 'OA': 0.804403925318557}\n",
      "{'ImSurf': 0.6947111104361612, 'Building': 0.7931837563026348, 'LowVeg': 0.6588541859712688, 'Tree': 0.6046705579159019, 'Car': 0.6665368104867018, 'Clutter': 0.35223498512163887}\n",
      "Epoch 96: loss: 86.6083, train accuracy: 0.8087, valid accuracy:0.8044\n",
      "Start epoch #97, learning rate for this epoch: [3.790705070657292e-09]\n"
     ]
    },
    {
     "name": "stderr",
     "output_type": "stream",
     "text": [
      "100%|██████████| 624/624 [02:22<00:00,  4.37it/s]\n"
     ]
    },
    {
     "name": "stdout",
     "output_type": "stream",
     "text": [
      "Done epoch #97, time for this epoch: 142.8431806564331s\n"
     ]
    },
    {
     "name": "stderr",
     "output_type": "stream",
     "text": [
      "100%|██████████| 175/175 [00:25<00:00,  6.89it/s]\n"
     ]
    },
    {
     "name": "stdout",
     "output_type": "stream",
     "text": [
      "(array([0.69940209, 0.79042257, 0.65874039, 0.61176805, 0.68532097,\n",
      "       0.38343752]), 0.6891308134347843, 0.8145471323280933, 0.806236524506601)\n",
      "train: {'mIoU': 0.6884174912150381, 'F1': 0.813350865184416, 'OA': 0.8111800291599371}\n",
      "{'ImSurf': 0.7176207920010167, 'Building': 0.8127144084112929, 'LowVeg': 0.6489844172197676, 'Tree': 0.6028025287387048, 'Car': 0.6599653097044084, 'Clutter': 0.3669799833839996}\n",
      "val: {'mIoU': 0.6891308134347843, 'F1': 0.8145471323280933, 'OA': 0.806236524506601}\n",
      "{'ImSurf': 0.6994020859458938, 'Building': 0.790422573289101, 'LowVeg': 0.6587403863264034, 'Tree': 0.6117680472802457, 'Car': 0.6853209743322781, 'Clutter': 0.38343751759467987}\n",
      "Epoch 97: loss: 86.1494, train accuracy: 0.8112, valid accuracy:0.8062\n",
      "Start epoch #98, learning rate for this epoch: [3.790705070657292e-09]\n"
     ]
    },
    {
     "name": "stderr",
     "output_type": "stream",
     "text": [
      "100%|██████████| 624/624 [02:23<00:00,  4.35it/s]\n"
     ]
    },
    {
     "name": "stdout",
     "output_type": "stream",
     "text": [
      "Done epoch #98, time for this epoch: 143.53434681892395s\n"
     ]
    },
    {
     "name": "stderr",
     "output_type": "stream",
     "text": [
      "100%|██████████| 175/175 [00:25<00:00,  7.00it/s]\n"
     ]
    },
    {
     "name": "stdout",
     "output_type": "stream",
     "text": [
      "(array([0.70416364, 0.80227187, 0.67295595, 0.61798908, 0.6850986 ,\n",
      "       0.330364  ]), 0.6964958281775286, 0.8196456200480868, 0.8120195179300519)\n",
      "train: {'mIoU': 0.6901604569270666, 'F1': 0.8146072015161879, 'OA': 0.8099752786831979}\n",
      "{'ImSurf': 0.7146609437557838, 'Building': 0.8111220659875878, 'LowVeg': 0.647248126308372, 'Tree': 0.5991474862363495, 'Car': 0.6786236623472398, 'Clutter': 0.36449318840872}\n",
      "val: {'mIoU': 0.6964958281775286, 'F1': 0.8196456200480868, 'OA': 0.8120195179300519}\n",
      "{'ImSurf': 0.7041636436959403, 'Building': 0.8022718713395994, 'LowVeg': 0.6729559473903235, 'Tree': 0.617989082128575, 'Car': 0.6850985963332052, 'Clutter': 0.330363998581791}\n",
      "Epoch 98: loss: 86.0841, train accuracy: 0.8100, valid accuracy:0.8120\n",
      "Start epoch #99, learning rate for this epoch: [3.790705070657292e-09]\n"
     ]
    },
    {
     "name": "stderr",
     "output_type": "stream",
     "text": [
      "100%|██████████| 624/624 [02:24<00:00,  4.33it/s]\n"
     ]
    },
    {
     "name": "stdout",
     "output_type": "stream",
     "text": [
      "Done epoch #99, time for this epoch: 144.2134599685669s\n"
     ]
    },
    {
     "name": "stderr",
     "output_type": "stream",
     "text": [
      "100%|██████████| 175/175 [00:24<00:00,  7.10it/s]\n"
     ]
    },
    {
     "name": "stdout",
     "output_type": "stream",
     "text": [
      "(array([0.6927955 , 0.7817902 , 0.66410561, 0.61045354, 0.68880979,\n",
      "       0.36263384]), 0.687590930021049, 0.8136113613234206, 0.8038122939789628)\n",
      "train: {'mIoU': 0.6893816933437243, 'F1': 0.8140040050045819, 'OA': 0.8102540725316757}\n",
      "{'ImSurf': 0.7149325038911859, 'Building': 0.8154653775293148, 'LowVeg': 0.6455303331202705, 'Tree': 0.6033690457974877, 'Car': 0.6676112063803623, 'Clutter': 0.353500796361791}\n",
      "val: {'mIoU': 0.687590930021049, 'F1': 0.8136113613234206, 'OA': 0.8038122939789628}\n",
      "{'ImSurf': 0.6927955006955533, 'Building': 0.7817901991414822, 'LowVeg': 0.6641056111710011, 'Tree': 0.6104535449292111, 'Car': 0.6888097941679971, 'Clutter': 0.3626338434811724}\n",
      "Epoch 99: loss: 86.3056, train accuracy: 0.8103, valid accuracy:0.8038\n",
      "Start epoch #100, learning rate for this epoch: [3.790705070657292e-09]\n"
     ]
    },
    {
     "name": "stderr",
     "output_type": "stream",
     "text": [
      "100%|██████████| 624/624 [02:23<00:00,  4.36it/s]\n"
     ]
    },
    {
     "name": "stdout",
     "output_type": "stream",
     "text": [
      "Done epoch #100, time for this epoch: 143.12586092948914s\n"
     ]
    },
    {
     "name": "stderr",
     "output_type": "stream",
     "text": [
      "100%|██████████| 175/175 [00:24<00:00,  7.09it/s]"
     ]
    },
    {
     "name": "stdout",
     "output_type": "stream",
     "text": [
      "(array([0.70460522, 0.79929573, 0.66777794, 0.6189791 , 0.68495965,\n",
      "       0.37091884]), 0.6951235278001128, 0.8187285859354223, 0.8115557405645694)\n",
      "train: {'mIoU': 0.6896034381859272, 'F1': 0.8141755252615355, 'OA': 0.8092956451269296}\n",
      "{'ImSurf': 0.7141322593119912, 'Building': 0.8143861157877407, 'LowVeg': 0.6434988890427439, 'Tree': 0.6027474182509026, 'Car': 0.6732525085362573, 'Clutter': 0.35253221616902686}\n",
      "val: {'mIoU': 0.6951235278001128, 'F1': 0.8187285859354223, 'OA': 0.8115557405645694}\n",
      "{'ImSurf': 0.7046052166876705, 'Building': 0.799295733502922, 'LowVeg': 0.6677779407333048, 'Tree': 0.6189791004941034, 'Car': 0.6849596475825633, 'Clutter': 0.3709188372140503}\n",
      "Epoch 100: loss: 86.2774, train accuracy: 0.8093, valid accuracy:0.8116\n"
     ]
    },
    {
     "name": "stderr",
     "output_type": "stream",
     "text": [
      "\n"
     ]
    }
   ],
   "source": [
    "wandb.login(\n",
    "    # set the wandb project where this run will be logged\n",
    "#     project= \"PolypSegment\", \n",
    "    key = \"58347058cb54d574bc86f5bfd5f80134db7ec5cd\",\n",
    ")\n",
    "id = wandb.util.generate_id()\n",
    "print(id)\n",
    "wandb.init(id=id,project = \"UperNet\", resume=\"allow\")\n",
    "\n",
    "\n",
    "\n",
    "# Training loop\n",
    "train_loss_array = []\n",
    "test_loss_array = []\n",
    "last_loss = 9999999999999\n",
    "for epoch in range(epochs):\n",
    "    train_loss_epoch = 0\n",
    "    test_loss_epoch = 0\n",
    "    train_loss_epoch, train_eval_value, test_loss_epoch, eval_value = train(train_loader, \n",
    "                                              val_loader, \n",
    "                                              learing_rate_scheduler, epoch, display_step)\n",
    "    \n",
    "    if test_loss_epoch < last_loss:\n",
    "        save_model(model, optimizer, checkpoint_path)\n",
    "        last_loss = test_loss_epoch\n",
    "        \n",
    "    iou_value = {}\n",
    "    iou_per_class,mIoU,F1,OA=train_eval_value\n",
    "    eval_value_train = {'mIoU': mIoU,\n",
    "                      'F1': F1,\n",
    "                      'OA': OA}                                          \n",
    "    print('train:', eval_value_train)\n",
    "    train_accuracy.append(OA)\n",
    "    wandb.log({'mIoU_train': mIoU,\n",
    "                      'F1_train': F1,\n",
    "                      'OA_train': OA}) \n",
    "    \n",
    "    for class_name, iou in zip(CLASSES,iou_per_class):\n",
    "        wandb.log({f\"{class_name}_train_IOU\": iou})\n",
    "        iou_value[class_name] = iou\n",
    "    print(iou_value)\n",
    "           \n",
    "    iou_value = {}\n",
    "    iou_per_class,mIoU,F1,OA = eval_value\n",
    "    eval_value_val = {'mIoU': mIoU,\n",
    "                      'F1': F1,\n",
    "                      'OA': OA}                                          \n",
    "    print('val:', eval_value_val)\n",
    "    valid_accuracy.append(OA)\n",
    "    wandb.log({'mIoU_val': mIoU,\n",
    "                      'F1_val': F1,\n",
    "                      'OA_val': OA})\n",
    "    for class_name, iou in zip(CLASSES,iou_per_class):\n",
    "        wandb.log({f\"{class_name}_val_IoU\": iou})\n",
    "        iou_value[class_name] = iou\n",
    "    print(iou_value)\n",
    "    \n",
    "    learing_rate_scheduler.step()\n",
    "    train_loss_array.append(train_loss_epoch)\n",
    "    test_loss_array.append(test_loss_epoch)\n",
    "    wandb.log({\"Train loss\": train_loss_epoch, \"Valid loss\": test_loss_epoch})\n",
    "    print(\"Epoch {}: loss: {:.4f}, train accuracy: {:.4f}, valid accuracy:{:.4f}\".format(epoch + 1, \n",
    "                                        train_loss_array[-1], train_accuracy[-1], valid_accuracy[-1]))\n",
    "    "
   ]
  },
  {
   "cell_type": "code",
   "execution_count": 32,
   "id": "fc718012",
   "metadata": {
    "execution": {
     "iopub.execute_input": "2023-12-15T07:08:02.383888Z",
     "iopub.status.busy": "2023-12-15T07:08:02.382933Z",
     "iopub.status.idle": "2023-12-15T07:08:02.447384Z",
     "shell.execute_reply": "2023-12-15T07:08:02.446577Z"
    },
    "papermill": {
     "duration": 6.655509,
     "end_time": "2023-12-15T07:08:02.449433",
     "exception": false,
     "start_time": "2023-12-15T07:07:55.793924",
     "status": "completed"
    },
    "tags": []
   },
   "outputs": [],
   "source": [
    "torch.cuda.empty_cache()"
   ]
  },
  {
   "cell_type": "code",
   "execution_count": 33,
   "id": "175d0fd4",
   "metadata": {
    "execution": {
     "iopub.execute_input": "2023-12-15T07:08:15.947192Z",
     "iopub.status.busy": "2023-12-15T07:08:15.946474Z",
     "iopub.status.idle": "2023-12-15T07:08:15.954026Z",
     "shell.execute_reply": "2023-12-15T07:08:15.953121Z"
    },
    "papermill": {
     "duration": 6.746648,
     "end_time": "2023-12-15T07:08:15.955856",
     "exception": false,
     "start_time": "2023-12-15T07:08:09.209208",
     "status": "completed"
    },
    "tags": []
   },
   "outputs": [],
   "source": [
    "def img_writer(inp):\n",
    "    (mask,  mask_id, rgb) = inp\n",
    "    if rgb:\n",
    "        mask_name_tif = mask_id + '.png'\n",
    "        mask_tif = label2rgb(mask)\n",
    "        cv2.imwrite(mask_name_tif, mask_tif)\n",
    "    else:\n",
    "        mask_png = mask.astype(np.uint8)\n",
    "        mask_name_png = mask_id + '.png'\n",
    "        cv2.imwrite(mask_name_png, mask_png)\n",
    "\n",
    "\n",
    "def get_args():\n",
    "    parser = argparse.ArgumentParser()\n",
    "    arg = parser.add_argument\n",
    "    arg(\"-c\", \"--config_path\", type=Path, required=True, help=\"Path to  config\")\n",
    "    arg(\"-o\", \"--output_path\", type=Path, help=\"Path where to save resulting masks.\", required=True)\n",
    "    arg(\"-t\", \"--tta\", help=\"Test time augmentation.\", default=None, choices=[None, \"d4\", \"lr\"])\n",
    "    arg(\"--rgb\", help=\"whether output rgb images\", action='store_true')\n",
    "    return parser.parse_args()"
   ]
  },
  {
   "cell_type": "code",
   "execution_count": 34,
   "id": "7b3ed055",
   "metadata": {
    "execution": {
     "iopub.execute_input": "2023-12-15T07:08:29.181268Z",
     "iopub.status.busy": "2023-12-15T07:08:29.180344Z",
     "iopub.status.idle": "2023-12-15T07:08:29.646397Z",
     "shell.execute_reply": "2023-12-15T07:08:29.645607Z"
    },
    "papermill": {
     "duration": 7.139675,
     "end_time": "2023-12-15T07:08:29.648754",
     "exception": false,
     "start_time": "2023-12-15T07:08:22.509079",
     "status": "completed"
    },
    "tags": []
   },
   "outputs": [],
   "source": [
    "test_dataset = PotsdamDataset(data_root='/kaggle/input/deep-data-potsdam-vaihingen/Deep_data_segmentation/Split/Vaihingen/Test',\n",
    "                              transform=val_aug)"
   ]
  },
  {
   "cell_type": "code",
   "execution_count": 35,
   "id": "e3541992",
   "metadata": {
    "execution": {
     "iopub.execute_input": "2023-12-15T07:08:42.626927Z",
     "iopub.status.busy": "2023-12-15T07:08:42.626074Z",
     "iopub.status.idle": "2023-12-15T07:08:48.160070Z",
     "shell.execute_reply": "2023-12-15T07:08:48.158422Z"
    },
    "papermill": {
     "duration": 12.049409,
     "end_time": "2023-12-15T07:08:48.162845",
     "exception": false,
     "start_time": "2023-12-15T07:08:36.113436",
     "status": "completed"
    },
    "tags": []
   },
   "outputs": [
    {
     "name": "stderr",
     "output_type": "stream",
     "text": [
      "100%|██████████| 235/235 [00:05<00:00, 43.17it/s]"
     ]
    },
    {
     "name": "stdout",
     "output_type": "stream",
     "text": [
      "F1_ImSurf:0.3464342006356831, IOU_ImSurf:0.2095073572329951\n",
      "F1_Building:0.3446679178704624, IOU_Building:0.20821678114705358\n",
      "F1_LowVeg:0.033303378505214136, IOU_LowVeg:0.01693366335266389\n",
      "F1_Tree:0.00026947471261362866, IOU_Tree:0.00013475551290837137\n",
      "F1_Car:0.009494358296819433, IOU_Car:0.004769822349609402\n",
      "F1_Clutter:0.030792911934390953, IOU_Clutter:0.01563721363842918\n",
      "F1:0.14683386600415854, mIOU:0.08791247591904607, OA:0.15726065128407574\n"
     ]
    },
    {
     "name": "stderr",
     "output_type": "stream",
     "text": [
      "\n"
     ]
    },
    {
     "name": "stdout",
     "output_type": "stream",
     "text": [
      "images writing spends: 0.05865597724914551 s\n"
     ]
    }
   ],
   "source": [
    "model.cuda()\n",
    "model.eval()\n",
    "evaluator = Evaluator(num_class=6)\n",
    "evaluator.reset()\n",
    "with torch.no_grad():\n",
    "    test_loader = DataLoader(\n",
    "        test_dataset,\n",
    "        batch_size=2,\n",
    "        num_workers=4,\n",
    "        pin_memory=True,\n",
    "        drop_last=False,\n",
    "    )\n",
    "    results = []\n",
    "    for input in tqdm(test_loader):\n",
    "        # raw_prediction NxCxHxW\n",
    "        raw_predictions = model(input['img'].cuda())\n",
    "\n",
    "        image_ids = input[\"img_id\"]\n",
    "        masks_true = input['gt_semantic_seg']\n",
    "\n",
    "        raw_predictions = nn.Softmax(dim=1)(raw_predictions)\n",
    "        predictions = raw_predictions.argmax(dim=1)\n",
    "\n",
    "        for i in range(raw_predictions.shape[0]):\n",
    "            mask = predictions[i].cpu().numpy()\n",
    "            evaluator.add_batch(pre_image=mask, gt_image=masks_true[i].cpu().numpy())\n",
    "            mask_name = image_ids[i]\n",
    "iou_per_class = evaluator.Intersection_over_Union()\n",
    "f1_per_class = evaluator.F1()\n",
    "OA = evaluator.OA()\n",
    "for class_name, class_iou, class_f1 in zip(CLASSES, iou_per_class, f1_per_class):\n",
    "    print('F1_{}:{}, IOU_{}:{}'.format(class_name, class_f1, class_name, class_iou))\n",
    "print('F1:{}, mIOU:{}, OA:{}'.format(np.nanmean(f1_per_class[:-1]), np.nanmean(iou_per_class[:-1]), OA))\n",
    "t0 = time.time()\n",
    "mpp.Pool(processes=2).map(img_writer, results)\n",
    "t1 = time.time()\n",
    "img_write_time = t1 - t0\n",
    "print('images writing spends: {} s'.format(img_write_time))"
   ]
  }
 ],
 "metadata": {
  "kaggle": {
   "accelerator": "gpu",
   "dataSources": [
    {
     "datasetId": 4130659,
     "sourceId": 7153471,
     "sourceType": "datasetVersion"
    },
    {
     "datasetId": 4139055,
     "sourceId": 7165240,
     "sourceType": "datasetVersion"
    },
    {
     "datasetId": 4145006,
     "sourceId": 7173542,
     "sourceType": "datasetVersion"
    },
    {
     "datasetId": 4148253,
     "sourceId": 7177819,
     "sourceType": "datasetVersion"
    }
   ],
   "dockerImageVersionId": 30616,
   "isGpuEnabled": true,
   "isInternetEnabled": true,
   "language": "python",
   "sourceType": "notebook"
  },
  "kernelspec": {
   "display_name": "Python 3",
   "language": "python",
   "name": "python3"
  },
  "language_info": {
   "codemirror_mode": {
    "name": "ipython",
    "version": 3
   },
   "file_extension": ".py",
   "mimetype": "text/x-python",
   "name": "python",
   "nbconvert_exporter": "python",
   "pygments_lexer": "ipython3",
   "version": "3.10.12"
  },
  "papermill": {
   "default_parameters": {},
   "duration": 17219.568847,
   "end_time": "2023-12-15T07:08:57.812976",
   "environment_variables": {},
   "exception": null,
   "input_path": "__notebook__.ipynb",
   "output_path": "__notebook__.ipynb",
   "parameters": {},
   "start_time": "2023-12-15T02:21:58.244129",
   "version": "2.4.0"
  }
 },
 "nbformat": 4,
 "nbformat_minor": 5
}
